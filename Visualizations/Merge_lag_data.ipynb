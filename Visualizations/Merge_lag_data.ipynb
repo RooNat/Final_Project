{
 "cells": [
  {
   "cell_type": "markdown",
   "source": [
    "# Merge data - create lags"
   ],
   "metadata": {
    "collapsed": false,
    "pycharm": {
     "name": "#%% md\n"
    }
   }
  },
  {
   "cell_type": "code",
   "execution_count": 1,
   "outputs": [],
   "source": [
    "import pandas as pd\n",
    "import numpy as np"
   ],
   "metadata": {
    "collapsed": false,
    "pycharm": {
     "name": "#%%\n"
    }
   }
  },
  {
   "cell_type": "code",
   "execution_count": 3,
   "outputs": [
    {
     "data": {
      "text/plain": "                         Open      High       Low     Close     Volume  \\\ndatetime                                                                 \n2022-01-01 00:00:00  46210.57  46729.73  46210.55  46650.01   8957.465   \n2022-01-01 01:00:00  46650.00  46944.56  46570.34  46766.78   7276.249   \n2022-01-01 02:00:00  46767.44  46917.87  46709.44  46796.14   4478.713   \n2022-01-01 03:00:00  46796.15  46888.00  46746.32  46789.56   4208.992   \n2022-01-01 04:00:00  46789.55  46868.74  46605.00  46690.81   6149.298   \n...                       ...       ...       ...       ...        ...   \n2022-06-30 19:00:00  19092.90  19113.40  18951.10  18962.10  20425.187   \n2022-06-30 20:00:00  18962.10  19038.20  18843.00  18921.30  32033.326   \n2022-06-30 21:00:00  18921.30  19064.70  18563.00  18742.90  43214.413   \n2022-06-30 22:00:00  18742.90  18961.00  18711.00  18812.60  34372.158   \n2022-06-30 23:00:00  18812.70  18944.80  18730.00  18885.00  25171.476   \n\n                     google_trends  tw_compound  tw_polarity  tw_subjectivity  \\\ndatetime                                                                        \n2022-01-01 00:00:00      71.000000     0.228459     0.127819         0.399377   \n2022-01-01 01:00:00      74.227273     0.235804     0.115225         0.380319   \n2022-01-01 02:00:00      74.227273     0.216377     0.094649         0.391375   \n2022-01-01 03:00:00      61.318182     0.254585     0.124391         0.376654   \n2022-01-01 04:00:00      61.318182     0.199023     0.106416         0.405293   \n...                            ...          ...          ...              ...   \n2022-06-30 19:00:00     112.036340     0.097033     0.062959         0.339059   \n2022-06-30 20:00:00     117.932989     0.096938     0.049762         0.366837   \n2022-06-30 21:00:00     115.574329     0.112159     0.054471         0.355057   \n2022-06-30 22:00:00     115.574329     0.104823     0.061164         0.362953   \n2022-06-30 23:00:00     100.243041     0.097806     0.061618         0.358823   \n\n                     tweet_volume  re_compound  re_polarity  re_subjectivity  \ndatetime                                                                      \n2022-01-01 00:00:00        1314.0     0.806147     0.106285         0.464971  \n2022-01-01 01:00:00        1064.0     0.523754     0.165466         0.469433  \n2022-01-01 02:00:00         986.0     0.404721    -0.003025         0.499500  \n2022-01-01 03:00:00         942.0     0.307653     0.129557         0.461581  \n2022-01-01 04:00:00         832.0     0.682042     0.108311         0.422146  \n...                           ...          ...          ...              ...  \n2022-06-30 19:00:00        2032.0     0.537786     0.112709         0.459895  \n2022-06-30 20:00:00        2225.0     0.456615     0.075858         0.494026  \n2022-06-30 21:00:00        2159.0     0.786424     0.053945         0.433892  \n2022-06-30 22:00:00        1948.0     0.375062     0.086258         0.452399  \n2022-06-30 23:00:00        1803.0     0.945668     0.091818         0.494242  \n\n[4344 rows x 13 columns]",
      "text/html": "<div>\n<style scoped>\n    .dataframe tbody tr th:only-of-type {\n        vertical-align: middle;\n    }\n\n    .dataframe tbody tr th {\n        vertical-align: top;\n    }\n\n    .dataframe thead th {\n        text-align: right;\n    }\n</style>\n<table border=\"1\" class=\"dataframe\">\n  <thead>\n    <tr style=\"text-align: right;\">\n      <th></th>\n      <th>Open</th>\n      <th>High</th>\n      <th>Low</th>\n      <th>Close</th>\n      <th>Volume</th>\n      <th>google_trends</th>\n      <th>tw_compound</th>\n      <th>tw_polarity</th>\n      <th>tw_subjectivity</th>\n      <th>tweet_volume</th>\n      <th>re_compound</th>\n      <th>re_polarity</th>\n      <th>re_subjectivity</th>\n    </tr>\n    <tr>\n      <th>datetime</th>\n      <th></th>\n      <th></th>\n      <th></th>\n      <th></th>\n      <th></th>\n      <th></th>\n      <th></th>\n      <th></th>\n      <th></th>\n      <th></th>\n      <th></th>\n      <th></th>\n      <th></th>\n    </tr>\n  </thead>\n  <tbody>\n    <tr>\n      <th>2022-01-01 00:00:00</th>\n      <td>46210.57</td>\n      <td>46729.73</td>\n      <td>46210.55</td>\n      <td>46650.01</td>\n      <td>8957.465</td>\n      <td>71.000000</td>\n      <td>0.228459</td>\n      <td>0.127819</td>\n      <td>0.399377</td>\n      <td>1314.0</td>\n      <td>0.806147</td>\n      <td>0.106285</td>\n      <td>0.464971</td>\n    </tr>\n    <tr>\n      <th>2022-01-01 01:00:00</th>\n      <td>46650.00</td>\n      <td>46944.56</td>\n      <td>46570.34</td>\n      <td>46766.78</td>\n      <td>7276.249</td>\n      <td>74.227273</td>\n      <td>0.235804</td>\n      <td>0.115225</td>\n      <td>0.380319</td>\n      <td>1064.0</td>\n      <td>0.523754</td>\n      <td>0.165466</td>\n      <td>0.469433</td>\n    </tr>\n    <tr>\n      <th>2022-01-01 02:00:00</th>\n      <td>46767.44</td>\n      <td>46917.87</td>\n      <td>46709.44</td>\n      <td>46796.14</td>\n      <td>4478.713</td>\n      <td>74.227273</td>\n      <td>0.216377</td>\n      <td>0.094649</td>\n      <td>0.391375</td>\n      <td>986.0</td>\n      <td>0.404721</td>\n      <td>-0.003025</td>\n      <td>0.499500</td>\n    </tr>\n    <tr>\n      <th>2022-01-01 03:00:00</th>\n      <td>46796.15</td>\n      <td>46888.00</td>\n      <td>46746.32</td>\n      <td>46789.56</td>\n      <td>4208.992</td>\n      <td>61.318182</td>\n      <td>0.254585</td>\n      <td>0.124391</td>\n      <td>0.376654</td>\n      <td>942.0</td>\n      <td>0.307653</td>\n      <td>0.129557</td>\n      <td>0.461581</td>\n    </tr>\n    <tr>\n      <th>2022-01-01 04:00:00</th>\n      <td>46789.55</td>\n      <td>46868.74</td>\n      <td>46605.00</td>\n      <td>46690.81</td>\n      <td>6149.298</td>\n      <td>61.318182</td>\n      <td>0.199023</td>\n      <td>0.106416</td>\n      <td>0.405293</td>\n      <td>832.0</td>\n      <td>0.682042</td>\n      <td>0.108311</td>\n      <td>0.422146</td>\n    </tr>\n    <tr>\n      <th>...</th>\n      <td>...</td>\n      <td>...</td>\n      <td>...</td>\n      <td>...</td>\n      <td>...</td>\n      <td>...</td>\n      <td>...</td>\n      <td>...</td>\n      <td>...</td>\n      <td>...</td>\n      <td>...</td>\n      <td>...</td>\n      <td>...</td>\n    </tr>\n    <tr>\n      <th>2022-06-30 19:00:00</th>\n      <td>19092.90</td>\n      <td>19113.40</td>\n      <td>18951.10</td>\n      <td>18962.10</td>\n      <td>20425.187</td>\n      <td>112.036340</td>\n      <td>0.097033</td>\n      <td>0.062959</td>\n      <td>0.339059</td>\n      <td>2032.0</td>\n      <td>0.537786</td>\n      <td>0.112709</td>\n      <td>0.459895</td>\n    </tr>\n    <tr>\n      <th>2022-06-30 20:00:00</th>\n      <td>18962.10</td>\n      <td>19038.20</td>\n      <td>18843.00</td>\n      <td>18921.30</td>\n      <td>32033.326</td>\n      <td>117.932989</td>\n      <td>0.096938</td>\n      <td>0.049762</td>\n      <td>0.366837</td>\n      <td>2225.0</td>\n      <td>0.456615</td>\n      <td>0.075858</td>\n      <td>0.494026</td>\n    </tr>\n    <tr>\n      <th>2022-06-30 21:00:00</th>\n      <td>18921.30</td>\n      <td>19064.70</td>\n      <td>18563.00</td>\n      <td>18742.90</td>\n      <td>43214.413</td>\n      <td>115.574329</td>\n      <td>0.112159</td>\n      <td>0.054471</td>\n      <td>0.355057</td>\n      <td>2159.0</td>\n      <td>0.786424</td>\n      <td>0.053945</td>\n      <td>0.433892</td>\n    </tr>\n    <tr>\n      <th>2022-06-30 22:00:00</th>\n      <td>18742.90</td>\n      <td>18961.00</td>\n      <td>18711.00</td>\n      <td>18812.60</td>\n      <td>34372.158</td>\n      <td>115.574329</td>\n      <td>0.104823</td>\n      <td>0.061164</td>\n      <td>0.362953</td>\n      <td>1948.0</td>\n      <td>0.375062</td>\n      <td>0.086258</td>\n      <td>0.452399</td>\n    </tr>\n    <tr>\n      <th>2022-06-30 23:00:00</th>\n      <td>18812.70</td>\n      <td>18944.80</td>\n      <td>18730.00</td>\n      <td>18885.00</td>\n      <td>25171.476</td>\n      <td>100.243041</td>\n      <td>0.097806</td>\n      <td>0.061618</td>\n      <td>0.358823</td>\n      <td>1803.0</td>\n      <td>0.945668</td>\n      <td>0.091818</td>\n      <td>0.494242</td>\n    </tr>\n  </tbody>\n</table>\n<p>4344 rows × 13 columns</p>\n</div>"
     },
     "execution_count": 3,
     "metadata": {},
     "output_type": "execute_result"
    }
   ],
   "source": [
    "data=pd.read_csv('./../data/processed_data.csv')\n",
    "def rename_datetime(data):\n",
    "    data.rename(columns={'Unnamed: 0': 'datetime'},inplace=True)\n",
    "    data['datetime']=pd.to_datetime(data['datetime'])\n",
    "    data.set_index('datetime', inplace=True)\n",
    "    return data\n",
    "\n",
    "data=rename_datetime(data)\n",
    "data"
   ],
   "metadata": {
    "collapsed": false,
    "pycharm": {
     "name": "#%%\n"
    }
   }
  },
  {
   "cell_type": "code",
   "execution_count": 6,
   "outputs": [],
   "source": [
    "# create lags\n",
    "def create_features(data, g_lag, tv_lag):\n",
    "    data['google_trends_lag']=data['google_trends'].shift(g_lag)\n",
    "    data['tweet_volume_lag']=data['tweet_volume'].shift(tv_lag)\n",
    "    return data"
   ],
   "metadata": {
    "collapsed": false,
    "pycharm": {
     "name": "#%%\n"
    }
   }
  },
  {
   "cell_type": "code",
   "execution_count": 7,
   "outputs": [],
   "source": [
    "new_data = create_features(data, 10, 28)"
   ],
   "metadata": {
    "collapsed": false,
    "pycharm": {
     "name": "#%%\n"
    }
   }
  },
  {
   "cell_type": "code",
   "execution_count": 8,
   "outputs": [
    {
     "data": {
      "text/plain": "                         Open      High       Low     Close     Volume  \\\ndatetime                                                                 \n2022-01-01 00:00:00  46210.57  46729.73  46210.55  46650.01   8957.465   \n2022-01-01 01:00:00  46650.00  46944.56  46570.34  46766.78   7276.249   \n2022-01-01 02:00:00  46767.44  46917.87  46709.44  46796.14   4478.713   \n2022-01-01 03:00:00  46796.15  46888.00  46746.32  46789.56   4208.992   \n2022-01-01 04:00:00  46789.55  46868.74  46605.00  46690.81   6149.298   \n...                       ...       ...       ...       ...        ...   \n2022-06-30 19:00:00  19092.90  19113.40  18951.10  18962.10  20425.187   \n2022-06-30 20:00:00  18962.10  19038.20  18843.00  18921.30  32033.326   \n2022-06-30 21:00:00  18921.30  19064.70  18563.00  18742.90  43214.413   \n2022-06-30 22:00:00  18742.90  18961.00  18711.00  18812.60  34372.158   \n2022-06-30 23:00:00  18812.70  18944.80  18730.00  18885.00  25171.476   \n\n                     google_trends  tw_compound  tw_polarity  tw_subjectivity  \\\ndatetime                                                                        \n2022-01-01 00:00:00      71.000000     0.228459     0.127819         0.399377   \n2022-01-01 01:00:00      74.227273     0.235804     0.115225         0.380319   \n2022-01-01 02:00:00      74.227273     0.216377     0.094649         0.391375   \n2022-01-01 03:00:00      61.318182     0.254585     0.124391         0.376654   \n2022-01-01 04:00:00      61.318182     0.199023     0.106416         0.405293   \n...                            ...          ...          ...              ...   \n2022-06-30 19:00:00     112.036340     0.097033     0.062959         0.339059   \n2022-06-30 20:00:00     117.932989     0.096938     0.049762         0.366837   \n2022-06-30 21:00:00     115.574329     0.112159     0.054471         0.355057   \n2022-06-30 22:00:00     115.574329     0.104823     0.061164         0.362953   \n2022-06-30 23:00:00     100.243041     0.097806     0.061618         0.358823   \n\n                     tweet_volume  re_compound  re_polarity  re_subjectivity  \\\ndatetime                                                                       \n2022-01-01 00:00:00        1314.0     0.806147     0.106285         0.464971   \n2022-01-01 01:00:00        1064.0     0.523754     0.165466         0.469433   \n2022-01-01 02:00:00         986.0     0.404721    -0.003025         0.499500   \n2022-01-01 03:00:00         942.0     0.307653     0.129557         0.461581   \n2022-01-01 04:00:00         832.0     0.682042     0.108311         0.422146   \n...                           ...          ...          ...              ...   \n2022-06-30 19:00:00        2032.0     0.537786     0.112709         0.459895   \n2022-06-30 20:00:00        2225.0     0.456615     0.075858         0.494026   \n2022-06-30 21:00:00        2159.0     0.786424     0.053945         0.433892   \n2022-06-30 22:00:00        1948.0     0.375062     0.086258         0.452399   \n2022-06-30 23:00:00        1803.0     0.945668     0.091818         0.494242   \n\n                     google_trends_lag  tweet_volume_lag  \ndatetime                                                  \n2022-01-01 00:00:00                NaN               NaN  \n2022-01-01 01:00:00                NaN               NaN  \n2022-01-01 02:00:00                NaN               NaN  \n2022-01-01 03:00:00                NaN               NaN  \n2022-01-01 04:00:00                NaN               NaN  \n...                                ...               ...  \n2022-06-30 19:00:00          93.167061            2292.0  \n2022-06-30 20:00:00          93.167061            2317.0  \n2022-06-30 21:00:00          94.346391            2207.0  \n2022-06-30 22:00:00          93.167061            2146.0  \n2022-06-30 23:00:00          97.884381            1999.0  \n\n[4344 rows x 15 columns]",
      "text/html": "<div>\n<style scoped>\n    .dataframe tbody tr th:only-of-type {\n        vertical-align: middle;\n    }\n\n    .dataframe tbody tr th {\n        vertical-align: top;\n    }\n\n    .dataframe thead th {\n        text-align: right;\n    }\n</style>\n<table border=\"1\" class=\"dataframe\">\n  <thead>\n    <tr style=\"text-align: right;\">\n      <th></th>\n      <th>Open</th>\n      <th>High</th>\n      <th>Low</th>\n      <th>Close</th>\n      <th>Volume</th>\n      <th>google_trends</th>\n      <th>tw_compound</th>\n      <th>tw_polarity</th>\n      <th>tw_subjectivity</th>\n      <th>tweet_volume</th>\n      <th>re_compound</th>\n      <th>re_polarity</th>\n      <th>re_subjectivity</th>\n      <th>google_trends_lag</th>\n      <th>tweet_volume_lag</th>\n    </tr>\n    <tr>\n      <th>datetime</th>\n      <th></th>\n      <th></th>\n      <th></th>\n      <th></th>\n      <th></th>\n      <th></th>\n      <th></th>\n      <th></th>\n      <th></th>\n      <th></th>\n      <th></th>\n      <th></th>\n      <th></th>\n      <th></th>\n      <th></th>\n    </tr>\n  </thead>\n  <tbody>\n    <tr>\n      <th>2022-01-01 00:00:00</th>\n      <td>46210.57</td>\n      <td>46729.73</td>\n      <td>46210.55</td>\n      <td>46650.01</td>\n      <td>8957.465</td>\n      <td>71.000000</td>\n      <td>0.228459</td>\n      <td>0.127819</td>\n      <td>0.399377</td>\n      <td>1314.0</td>\n      <td>0.806147</td>\n      <td>0.106285</td>\n      <td>0.464971</td>\n      <td>NaN</td>\n      <td>NaN</td>\n    </tr>\n    <tr>\n      <th>2022-01-01 01:00:00</th>\n      <td>46650.00</td>\n      <td>46944.56</td>\n      <td>46570.34</td>\n      <td>46766.78</td>\n      <td>7276.249</td>\n      <td>74.227273</td>\n      <td>0.235804</td>\n      <td>0.115225</td>\n      <td>0.380319</td>\n      <td>1064.0</td>\n      <td>0.523754</td>\n      <td>0.165466</td>\n      <td>0.469433</td>\n      <td>NaN</td>\n      <td>NaN</td>\n    </tr>\n    <tr>\n      <th>2022-01-01 02:00:00</th>\n      <td>46767.44</td>\n      <td>46917.87</td>\n      <td>46709.44</td>\n      <td>46796.14</td>\n      <td>4478.713</td>\n      <td>74.227273</td>\n      <td>0.216377</td>\n      <td>0.094649</td>\n      <td>0.391375</td>\n      <td>986.0</td>\n      <td>0.404721</td>\n      <td>-0.003025</td>\n      <td>0.499500</td>\n      <td>NaN</td>\n      <td>NaN</td>\n    </tr>\n    <tr>\n      <th>2022-01-01 03:00:00</th>\n      <td>46796.15</td>\n      <td>46888.00</td>\n      <td>46746.32</td>\n      <td>46789.56</td>\n      <td>4208.992</td>\n      <td>61.318182</td>\n      <td>0.254585</td>\n      <td>0.124391</td>\n      <td>0.376654</td>\n      <td>942.0</td>\n      <td>0.307653</td>\n      <td>0.129557</td>\n      <td>0.461581</td>\n      <td>NaN</td>\n      <td>NaN</td>\n    </tr>\n    <tr>\n      <th>2022-01-01 04:00:00</th>\n      <td>46789.55</td>\n      <td>46868.74</td>\n      <td>46605.00</td>\n      <td>46690.81</td>\n      <td>6149.298</td>\n      <td>61.318182</td>\n      <td>0.199023</td>\n      <td>0.106416</td>\n      <td>0.405293</td>\n      <td>832.0</td>\n      <td>0.682042</td>\n      <td>0.108311</td>\n      <td>0.422146</td>\n      <td>NaN</td>\n      <td>NaN</td>\n    </tr>\n    <tr>\n      <th>...</th>\n      <td>...</td>\n      <td>...</td>\n      <td>...</td>\n      <td>...</td>\n      <td>...</td>\n      <td>...</td>\n      <td>...</td>\n      <td>...</td>\n      <td>...</td>\n      <td>...</td>\n      <td>...</td>\n      <td>...</td>\n      <td>...</td>\n      <td>...</td>\n      <td>...</td>\n    </tr>\n    <tr>\n      <th>2022-06-30 19:00:00</th>\n      <td>19092.90</td>\n      <td>19113.40</td>\n      <td>18951.10</td>\n      <td>18962.10</td>\n      <td>20425.187</td>\n      <td>112.036340</td>\n      <td>0.097033</td>\n      <td>0.062959</td>\n      <td>0.339059</td>\n      <td>2032.0</td>\n      <td>0.537786</td>\n      <td>0.112709</td>\n      <td>0.459895</td>\n      <td>93.167061</td>\n      <td>2292.0</td>\n    </tr>\n    <tr>\n      <th>2022-06-30 20:00:00</th>\n      <td>18962.10</td>\n      <td>19038.20</td>\n      <td>18843.00</td>\n      <td>18921.30</td>\n      <td>32033.326</td>\n      <td>117.932989</td>\n      <td>0.096938</td>\n      <td>0.049762</td>\n      <td>0.366837</td>\n      <td>2225.0</td>\n      <td>0.456615</td>\n      <td>0.075858</td>\n      <td>0.494026</td>\n      <td>93.167061</td>\n      <td>2317.0</td>\n    </tr>\n    <tr>\n      <th>2022-06-30 21:00:00</th>\n      <td>18921.30</td>\n      <td>19064.70</td>\n      <td>18563.00</td>\n      <td>18742.90</td>\n      <td>43214.413</td>\n      <td>115.574329</td>\n      <td>0.112159</td>\n      <td>0.054471</td>\n      <td>0.355057</td>\n      <td>2159.0</td>\n      <td>0.786424</td>\n      <td>0.053945</td>\n      <td>0.433892</td>\n      <td>94.346391</td>\n      <td>2207.0</td>\n    </tr>\n    <tr>\n      <th>2022-06-30 22:00:00</th>\n      <td>18742.90</td>\n      <td>18961.00</td>\n      <td>18711.00</td>\n      <td>18812.60</td>\n      <td>34372.158</td>\n      <td>115.574329</td>\n      <td>0.104823</td>\n      <td>0.061164</td>\n      <td>0.362953</td>\n      <td>1948.0</td>\n      <td>0.375062</td>\n      <td>0.086258</td>\n      <td>0.452399</td>\n      <td>93.167061</td>\n      <td>2146.0</td>\n    </tr>\n    <tr>\n      <th>2022-06-30 23:00:00</th>\n      <td>18812.70</td>\n      <td>18944.80</td>\n      <td>18730.00</td>\n      <td>18885.00</td>\n      <td>25171.476</td>\n      <td>100.243041</td>\n      <td>0.097806</td>\n      <td>0.061618</td>\n      <td>0.358823</td>\n      <td>1803.0</td>\n      <td>0.945668</td>\n      <td>0.091818</td>\n      <td>0.494242</td>\n      <td>97.884381</td>\n      <td>1999.0</td>\n    </tr>\n  </tbody>\n</table>\n<p>4344 rows × 15 columns</p>\n</div>"
     },
     "execution_count": 8,
     "metadata": {},
     "output_type": "execute_result"
    }
   ],
   "source": [
    "new_data"
   ],
   "metadata": {
    "collapsed": false,
    "pycharm": {
     "name": "#%%\n"
    }
   }
  },
  {
   "cell_type": "code",
   "execution_count": 9,
   "outputs": [],
   "source": [
    "new_data.to_csv('merged_lag_data.csv')"
   ],
   "metadata": {
    "collapsed": false,
    "pycharm": {
     "name": "#%%\n"
    }
   }
  },
  {
   "cell_type": "code",
   "execution_count": null,
   "outputs": [],
   "source": [],
   "metadata": {
    "collapsed": false,
    "pycharm": {
     "name": "#%%\n"
    }
   }
  }
 ],
 "metadata": {
  "kernelspec": {
   "display_name": "Python 3",
   "language": "python",
   "name": "python3"
  },
  "language_info": {
   "codemirror_mode": {
    "name": "ipython",
    "version": 2
   },
   "file_extension": ".py",
   "mimetype": "text/x-python",
   "name": "python",
   "nbconvert_exporter": "python",
   "pygments_lexer": "ipython2",
   "version": "2.7.6"
  }
 },
 "nbformat": 4,
 "nbformat_minor": 0
}