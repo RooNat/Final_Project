{
 "cells": [
  {
   "cell_type": "markdown",
   "source": [
    "# Reddit"
   ],
   "metadata": {
    "collapsed": false,
    "pycharm": {
     "name": "#%% md\n"
    }
   }
  },
  {
   "cell_type": "code",
   "execution_count": 78,
   "outputs": [],
   "source": [
    "import pandas as pd\n",
    "import numpy as np\n",
    "import datetime\n",
    "from datetime import datetime"
   ],
   "metadata": {
    "collapsed": false,
    "pycharm": {
     "name": "#%%\n"
    }
   }
  },
  {
   "cell_type": "code",
   "execution_count": 79,
   "outputs": [],
   "source": [
    "input_format = '%d/%m/%Y %H:%M'\n",
    "output_format = '%Y-%m-%d %H:%M'\n",
    "reddit_data=pd.read_csv('./data/Reddit/Reddit.csv')\n",
    "reddit_data['datetime']=reddit_data['datetime'].apply(lambda x:datetime.strptime(x, input_format).strftime(output_format) )"
   ],
   "metadata": {
    "collapsed": false,
    "pycharm": {
     "name": "#%%\n"
    }
   }
  },
  {
   "cell_type": "code",
   "execution_count": 80,
   "outputs": [
    {
     "data": {
      "text/plain": "       upvote_ratio  score  total_awards_received  num_comments  \\\n0              0.33      0                      0            14   \n1              0.24      0                      0            22   \n2              1.00     13                      0            41   \n3              0.73     24                      0           188   \n4              0.33      0                      0             7   \n...             ...    ...                    ...           ...   \n31113          0.50      0                      0             2   \n31114          0.85    267                      0           176   \n31115          0.78      5                      0            40   \n31116          0.71      3                      0            31   \n31117          0.55      1                      0             6   \n\n                                                selftext          datetime  \n0      I recently caught a red herring, and you can d...  2022-01-01 00:00  \n1      I noticed that almost everyone in the crypto c...  2022-01-01 00:00  \n2      My records show I still had some BCHA on my Me...  2022-01-01 02:00  \n3      Merry Christmas and a Happy New Year. \\n\\nPS: ...  2022-01-01 05:00  \n4      If you look at Bitcoin satoshies!  There's $2....  2022-01-01 07:00  \n...                                                  ...               ...  \n31113  Here's the resource if y'all want to check it ...  2022-06-30 21:00  \n31114  \\> [BlockFi previously had a valuation of 4 bi...  2022-06-30 21:00  \n31115  If you plan on never selling (and I mean it), ...  2022-06-30 22:00  \n31116  Was talking to a friend today trying to get hi...  2022-06-30 22:00  \n31117  If Grayscale really cared about their clients ...  2022-06-30 23:00  \n\n[31118 rows x 6 columns]",
      "text/html": "<div>\n<style scoped>\n    .dataframe tbody tr th:only-of-type {\n        vertical-align: middle;\n    }\n\n    .dataframe tbody tr th {\n        vertical-align: top;\n    }\n\n    .dataframe thead th {\n        text-align: right;\n    }\n</style>\n<table border=\"1\" class=\"dataframe\">\n  <thead>\n    <tr style=\"text-align: right;\">\n      <th></th>\n      <th>upvote_ratio</th>\n      <th>score</th>\n      <th>total_awards_received</th>\n      <th>num_comments</th>\n      <th>selftext</th>\n      <th>datetime</th>\n    </tr>\n  </thead>\n  <tbody>\n    <tr>\n      <th>0</th>\n      <td>0.33</td>\n      <td>0</td>\n      <td>0</td>\n      <td>14</td>\n      <td>I recently caught a red herring, and you can d...</td>\n      <td>2022-01-01 00:00</td>\n    </tr>\n    <tr>\n      <th>1</th>\n      <td>0.24</td>\n      <td>0</td>\n      <td>0</td>\n      <td>22</td>\n      <td>I noticed that almost everyone in the crypto c...</td>\n      <td>2022-01-01 00:00</td>\n    </tr>\n    <tr>\n      <th>2</th>\n      <td>1.00</td>\n      <td>13</td>\n      <td>0</td>\n      <td>41</td>\n      <td>My records show I still had some BCHA on my Me...</td>\n      <td>2022-01-01 02:00</td>\n    </tr>\n    <tr>\n      <th>3</th>\n      <td>0.73</td>\n      <td>24</td>\n      <td>0</td>\n      <td>188</td>\n      <td>Merry Christmas and a Happy New Year. \\n\\nPS: ...</td>\n      <td>2022-01-01 05:00</td>\n    </tr>\n    <tr>\n      <th>4</th>\n      <td>0.33</td>\n      <td>0</td>\n      <td>0</td>\n      <td>7</td>\n      <td>If you look at Bitcoin satoshies!  There's $2....</td>\n      <td>2022-01-01 07:00</td>\n    </tr>\n    <tr>\n      <th>...</th>\n      <td>...</td>\n      <td>...</td>\n      <td>...</td>\n      <td>...</td>\n      <td>...</td>\n      <td>...</td>\n    </tr>\n    <tr>\n      <th>31113</th>\n      <td>0.50</td>\n      <td>0</td>\n      <td>0</td>\n      <td>2</td>\n      <td>Here's the resource if y'all want to check it ...</td>\n      <td>2022-06-30 21:00</td>\n    </tr>\n    <tr>\n      <th>31114</th>\n      <td>0.85</td>\n      <td>267</td>\n      <td>0</td>\n      <td>176</td>\n      <td>\\&gt; [BlockFi previously had a valuation of 4 bi...</td>\n      <td>2022-06-30 21:00</td>\n    </tr>\n    <tr>\n      <th>31115</th>\n      <td>0.78</td>\n      <td>5</td>\n      <td>0</td>\n      <td>40</td>\n      <td>If you plan on never selling (and I mean it), ...</td>\n      <td>2022-06-30 22:00</td>\n    </tr>\n    <tr>\n      <th>31116</th>\n      <td>0.71</td>\n      <td>3</td>\n      <td>0</td>\n      <td>31</td>\n      <td>Was talking to a friend today trying to get hi...</td>\n      <td>2022-06-30 22:00</td>\n    </tr>\n    <tr>\n      <th>31117</th>\n      <td>0.55</td>\n      <td>1</td>\n      <td>0</td>\n      <td>6</td>\n      <td>If Grayscale really cared about their clients ...</td>\n      <td>2022-06-30 23:00</td>\n    </tr>\n  </tbody>\n</table>\n<p>31118 rows × 6 columns</p>\n</div>"
     },
     "execution_count": 80,
     "metadata": {},
     "output_type": "execute_result"
    }
   ],
   "source": [
    "reddit_data"
   ],
   "metadata": {
    "collapsed": false,
    "pycharm": {
     "name": "#%%\n"
    }
   }
  },
  {
   "cell_type": "code",
   "execution_count": 81,
   "outputs": [
    {
     "name": "stdout",
     "output_type": "stream",
     "text": [
      "<class 'pandas.core.frame.DataFrame'>\n",
      "RangeIndex: 31118 entries, 0 to 31117\n",
      "Data columns (total 6 columns):\n",
      " #   Column                 Non-Null Count  Dtype  \n",
      "---  ------                 --------------  -----  \n",
      " 0   upvote_ratio           31118 non-null  float64\n",
      " 1   score                  31118 non-null  int64  \n",
      " 2   total_awards_received  31118 non-null  int64  \n",
      " 3   num_comments           31118 non-null  int64  \n",
      " 4   selftext               31118 non-null  object \n",
      " 5   datetime               31118 non-null  object \n",
      "dtypes: float64(1), int64(3), object(2)\n",
      "memory usage: 1.4+ MB\n"
     ]
    }
   ],
   "source": [
    "reddit_data.info()"
   ],
   "metadata": {
    "collapsed": false,
    "pycharm": {
     "name": "#%%\n"
    }
   }
  },
  {
   "cell_type": "code",
   "execution_count": 82,
   "outputs": [
    {
     "data": {
      "text/plain": "       upvote_ratio         score  total_awards_received  num_comments\ncount  31118.000000  31118.000000           31118.000000  31118.000000\nmean       0.657841     73.171990               0.921042     76.882801\nstd        0.190489    396.039295               4.457744    315.262789\nmin        0.040000      0.000000               0.000000      0.000000\n25%        0.530000      1.000000               0.000000     10.000000\n50%        0.670000      4.000000               0.000000     22.000000\n75%        0.800000     18.000000               0.000000     51.000000\nmax        1.000000  14452.000000             193.000000  19169.000000",
      "text/html": "<div>\n<style scoped>\n    .dataframe tbody tr th:only-of-type {\n        vertical-align: middle;\n    }\n\n    .dataframe tbody tr th {\n        vertical-align: top;\n    }\n\n    .dataframe thead th {\n        text-align: right;\n    }\n</style>\n<table border=\"1\" class=\"dataframe\">\n  <thead>\n    <tr style=\"text-align: right;\">\n      <th></th>\n      <th>upvote_ratio</th>\n      <th>score</th>\n      <th>total_awards_received</th>\n      <th>num_comments</th>\n    </tr>\n  </thead>\n  <tbody>\n    <tr>\n      <th>count</th>\n      <td>31118.000000</td>\n      <td>31118.000000</td>\n      <td>31118.000000</td>\n      <td>31118.000000</td>\n    </tr>\n    <tr>\n      <th>mean</th>\n      <td>0.657841</td>\n      <td>73.171990</td>\n      <td>0.921042</td>\n      <td>76.882801</td>\n    </tr>\n    <tr>\n      <th>std</th>\n      <td>0.190489</td>\n      <td>396.039295</td>\n      <td>4.457744</td>\n      <td>315.262789</td>\n    </tr>\n    <tr>\n      <th>min</th>\n      <td>0.040000</td>\n      <td>0.000000</td>\n      <td>0.000000</td>\n      <td>0.000000</td>\n    </tr>\n    <tr>\n      <th>25%</th>\n      <td>0.530000</td>\n      <td>1.000000</td>\n      <td>0.000000</td>\n      <td>10.000000</td>\n    </tr>\n    <tr>\n      <th>50%</th>\n      <td>0.670000</td>\n      <td>4.000000</td>\n      <td>0.000000</td>\n      <td>22.000000</td>\n    </tr>\n    <tr>\n      <th>75%</th>\n      <td>0.800000</td>\n      <td>18.000000</td>\n      <td>0.000000</td>\n      <td>51.000000</td>\n    </tr>\n    <tr>\n      <th>max</th>\n      <td>1.000000</td>\n      <td>14452.000000</td>\n      <td>193.000000</td>\n      <td>19169.000000</td>\n    </tr>\n  </tbody>\n</table>\n</div>"
     },
     "execution_count": 82,
     "metadata": {},
     "output_type": "execute_result"
    }
   ],
   "source": [
    "reddit_data.describe()"
   ],
   "metadata": {
    "collapsed": false,
    "pycharm": {
     "name": "#%%\n"
    }
   }
  },
  {
   "cell_type": "code",
   "execution_count": 83,
   "outputs": [
    {
     "data": {
      "text/plain": "      upvote_ratio  score  total_awards_received  num_comments  \\\n9338          0.93   5373                    193           812   \n\n                                               selftext          datetime  \n9338  *I posted this yesterday but it was removed by...  2022-02-08 06:00  ",
      "text/html": "<div>\n<style scoped>\n    .dataframe tbody tr th:only-of-type {\n        vertical-align: middle;\n    }\n\n    .dataframe tbody tr th {\n        vertical-align: top;\n    }\n\n    .dataframe thead th {\n        text-align: right;\n    }\n</style>\n<table border=\"1\" class=\"dataframe\">\n  <thead>\n    <tr style=\"text-align: right;\">\n      <th></th>\n      <th>upvote_ratio</th>\n      <th>score</th>\n      <th>total_awards_received</th>\n      <th>num_comments</th>\n      <th>selftext</th>\n      <th>datetime</th>\n    </tr>\n  </thead>\n  <tbody>\n    <tr>\n      <th>9338</th>\n      <td>0.93</td>\n      <td>5373</td>\n      <td>193</td>\n      <td>812</td>\n      <td>*I posted this yesterday but it was removed by...</td>\n      <td>2022-02-08 06:00</td>\n    </tr>\n  </tbody>\n</table>\n</div>"
     },
     "execution_count": 83,
     "metadata": {},
     "output_type": "execute_result"
    }
   ],
   "source": [
    "reddit_data[reddit_data['total_awards_received']==193]"
   ],
   "metadata": {
    "collapsed": false,
    "pycharm": {
     "name": "#%%\n"
    }
   }
  },
  {
   "cell_type": "markdown",
   "source": [
    "## Clean the Text"
   ],
   "metadata": {
    "collapsed": false,
    "pycharm": {
     "name": "#%% md\n"
    }
   }
  },
  {
   "cell_type": "code",
   "execution_count": 84,
   "outputs": [
    {
     "name": "stderr",
     "output_type": "stream",
     "text": [
      "[nltk_data] Downloading package stopwords to\n",
      "[nltk_data]     /Users/yujiewang/nltk_data...\n",
      "[nltk_data]   Package stopwords is already up-to-date!\n"
     ]
    },
    {
     "data": {
      "text/plain": "True"
     },
     "execution_count": 84,
     "metadata": {},
     "output_type": "execute_result"
    }
   ],
   "source": [
    "import sys\n",
    "import regex as re\n",
    "from nltk.corpus import stopwords\n",
    "import string\n",
    "from string import digits\n",
    "import nltk\n",
    "import contractions\n",
    "import json\n",
    "\n",
    "from nltk import word_tokenize\n",
    "nltk.download('stopwords')"
   ],
   "metadata": {
    "collapsed": false,
    "pycharm": {
     "name": "#%%\n"
    }
   }
  },
  {
   "cell_type": "code",
   "execution_count": 85,
   "outputs": [],
   "source": [
    "file_path = './data/abbreviations.json'\n",
    "\n",
    "with open(file_path, 'r') as json_file:\n",
    "    json_data = json.load(json_file)\n",
    "    abbreviations = json_data['abbreviations']"
   ],
   "metadata": {
    "collapsed": false,
    "pycharm": {
     "name": "#%%\n"
    }
   }
  },
  {
   "cell_type": "code",
   "execution_count": 86,
   "outputs": [
    {
     "name": "stderr",
     "output_type": "stream",
     "text": [
      "[nltk_data] Downloading package wordnet to\n",
      "[nltk_data]     /Users/yujiewang/nltk_data...\n",
      "[nltk_data]   Package wordnet is already up-to-date!\n",
      "[nltk_data] Downloading package punkt to /Users/yujiewang/nltk_data...\n",
      "[nltk_data]   Package punkt is already up-to-date!\n"
     ]
    }
   ],
   "source": [
    "nltk.download('wordnet')\n",
    "lemma_sents = []\n",
    "def lemma(text):\n",
    "    lemmatizer = nltk.WordNetLemmatizer()\n",
    "    lemma_sent=[lemmatizer.lemmatize(word) for word in text]\n",
    "    lemma_text=' '.join(lemma_sent)\n",
    "    return lemma_text\n",
    "\n",
    "nltk.download('punkt')\n",
    "def remove_url(text):\n",
    "    # removal of urls\n",
    "    url=re.compile(r'https?://\\S+|www\\.\\S+')\n",
    "    text=url.sub(r'',text)\n",
    "    # removal of html tags\n",
    "    html=re.compile('<.*?>')\n",
    "    text=html.sub(r'',text)\n",
    "    return text\n",
    "\n",
    "def convert_abbrev(word):\n",
    "    return abbreviations[word.lower()] if word.lower() in abbreviations.keys() else word\n",
    "\n",
    "def convert_abbrev_in_text(text):\n",
    "    tokens = word_tokenize(text)\n",
    "    tokens=[convert_abbrev(word) for word in tokens]\n",
    "    text = ' '.join(tokens)\n",
    "    return text"
   ],
   "metadata": {
    "collapsed": false,
    "pycharm": {
     "name": "#%%\n"
    }
   }
  },
  {
   "cell_type": "code",
   "execution_count": 87,
   "outputs": [],
   "source": [
    "#Clean the text\n",
    "reddit_data['text_clean'] = reddit_data['selftext'].map(remove_url)"
   ],
   "metadata": {
    "collapsed": false,
    "pycharm": {
     "name": "#%%\n"
    }
   }
  },
  {
   "cell_type": "code",
   "execution_count": 88,
   "outputs": [],
   "source": [
    "def text_clean(text):\n",
    "    # # Expand contractions\n",
    "    try:\n",
    "        text = \" \".join([contractions.fix(word) for word in str(text).split()])\n",
    "    except:\n",
    "        print(text)\n",
    "    # # Handle slang and/or acroyms\n",
    "    text = convert_abbrev_in_text(text)\n",
    "\n",
    "    # # Remove ticker symbols\n",
    "    ticker_pattern = r'\\$\\w+'\n",
    "    text = re.sub(ticker_pattern, '', text)\n",
    "\n",
    "    # removal of puctuation\n",
    "    text=text.translate(str.maketrans('','',string.punctuation))\n",
    "    # removal of digits\n",
    "    text=text.translate(str.maketrans('', '', digits))\n",
    "    # removal of whitespace\n",
    "    text=\" \".join(text.split())\n",
    "\n",
    "    # Tokenization\n",
    "    text = nltk.word_tokenize(text)\n",
    "\n",
    "    # Wordnet lemmatization\n",
    "    text = lemma(text)\n",
    "\n",
    "    # removal of stopwords\n",
    "    stopword=stopwords.words('english')\n",
    "    text=\" \".join([word for word in str(text).split() if word.lower() not in stopword])\n",
    "\n",
    "    # removal of unneccessay data (non-letter)\n",
    "    un_sen=re.compile(r'[^a-zA-Z\\s]')\n",
    "    text=un_sen.sub(r'',text)\n",
    "    return text.lower()"
   ],
   "metadata": {
    "collapsed": false,
    "pycharm": {
     "name": "#%%\n"
    }
   }
  },
  {
   "cell_type": "code",
   "execution_count": 89,
   "outputs": [],
   "source": [
    "#Clean the text\n",
    "reddit_data['text_clean'] = reddit_data['text_clean'].map(text_clean)"
   ],
   "metadata": {
    "collapsed": false,
    "pycharm": {
     "name": "#%%\n"
    }
   }
  },
  {
   "cell_type": "code",
   "execution_count": 90,
   "outputs": [
    {
     "data": {
      "text/plain": "Text(0.5, 1.0, 'histogram of number of words in tweet')"
     },
     "execution_count": 90,
     "metadata": {},
     "output_type": "execute_result"
    },
    {
     "data": {
      "text/plain": "<Figure size 640x480 with 1 Axes>",
      "image/png": "[encoded data removed]"
     },
     "metadata": {},
     "output_type": "display_data"
    }
   ],
   "source": [
    "import matplotlib.pyplot as plt\n",
    "plt.hist(reddit_data['text7_clean'].apply(lambda x:x.split(' ')).apply(len), bins=40)\n",
    "plt.title('histogram of number of words in tweet')"
   ],
   "metadata": {
    "collapsed": false,
    "pycharm": {
     "name": "#%%\n"
    }
   }
  },
  {
   "cell_type": "code",
   "execution_count": 91,
   "outputs": [],
   "source": [
    "# keep tweets which length is between 5 and 60 words\n",
    "def drop_by_length(text, low, high):\n",
    "  l = len(text.split(' '))\n",
    "  if (l>=low) and (l<=high):\n",
    "    return True\n",
    "  else:\n",
    "    return False"
   ],
   "metadata": {
    "collapsed": false,
    "pycharm": {
     "name": "#%%\n"
    }
   }
  },
  {
   "cell_type": "code",
   "execution_count": 92,
   "outputs": [],
   "source": [
    "reddit_data=reddit_data[reddit_data['text_clean'].apply(lambda x: drop_by_length(x,7,1000))]"
   ],
   "metadata": {
    "collapsed": false,
    "pycharm": {
     "name": "#%%\n"
    }
   }
  },
  {
   "cell_type": "code",
   "execution_count": 93,
   "outputs": [],
   "source": [
    "def remove_white_space(text):\n",
    "    return \" \".join(text.split())"
   ],
   "metadata": {
    "collapsed": false,
    "pycharm": {
     "name": "#%%\n"
    }
   }
  },
  {
   "cell_type": "code",
   "execution_count": 94,
   "outputs": [
    {
     "name": "stderr",
     "output_type": "stream",
     "text": [
      "/var/folders/vp/8_rd4_c56g3dpqb1167z6tqr0000gn/T/ipykernel_35684/364075501.py:1: SettingWithCopyWarning: \n",
      "A value is trying to be set on a copy of a slice from a DataFrame.\n",
      "Try using .loc[row_indexer,col_indexer] = value instead\n",
      "\n",
      "See the caveats in the documentation: https://pandas.pydata.org/pandas-docs/stable/user_guide/indexing.html#returning-a-view-versus-a-copy\n",
      "  reddit_data['text_clean']=reddit_data['text_clean'].apply(lambda x: remove_white_space(x))\n"
     ]
    }
   ],
   "source": [
    "reddit_data['text_clean']=reddit_data['text_clean'].apply(lambda x: remove_white_space(x))"
   ],
   "metadata": {
    "collapsed": false,
    "pycharm": {
     "name": "#%%\n"
    }
   }
  },
  {
   "cell_type": "code",
   "execution_count": 95,
   "outputs": [],
   "source": [
    "reddit_data=reddit_data.drop_duplicates(subset='text_clean').reset_index(drop=True)"
   ],
   "metadata": {
    "collapsed": false,
    "pycharm": {
     "name": "#%%\n"
    }
   }
  },
  {
   "cell_type": "code",
   "execution_count": 96,
   "outputs": [
    {
     "name": "stdout",
     "output_type": "stream",
     "text": [
      "29023\n"
     ]
    }
   ],
   "source": [
    "print(len(reddit_data))"
   ],
   "metadata": {
    "collapsed": false,
    "pycharm": {
     "name": "#%%\n"
    }
   }
  },
  {
   "cell_type": "markdown",
   "source": [
    "### Text Sentiment Analysis"
   ],
   "metadata": {
    "collapsed": false,
    "pycharm": {
     "name": "#%% md\n"
    }
   }
  },
  {
   "cell_type": "code",
   "execution_count": 97,
   "outputs": [],
   "source": [
    "from vaderSentiment.vaderSentiment import SentimentIntensityAnalyzer\n",
    "from tqdm import tnrange, tqdm_notebook, tqdm"
   ],
   "metadata": {
    "collapsed": false,
    "pycharm": {
     "name": "#%%\n"
    }
   }
  },
  {
   "cell_type": "code",
   "execution_count": 98,
   "outputs": [
    {
     "name": "stderr",
     "output_type": "stream",
     "text": [
      "100%|██████████| 29023/29023 [00:29<00:00, 979.35it/s] \n"
     ]
    }
   ],
   "source": [
    "analyzer = SentimentIntensityAnalyzer()\n",
    "compound = []\n",
    "for i,s in enumerate(tqdm(reddit_data['text_clean'],position=0, leave=True)):\n",
    "    # print(i,s)\n",
    "    vs = analyzer.polarity_scores(str(s))\n",
    "    compound.append(vs[\"compound\"])\n",
    "reddit_data[\"compound\"] = compound\n"
   ],
   "metadata": {
    "collapsed": false,
    "pycharm": {
     "name": "#%%\n"
    }
   }
  },
  {
   "cell_type": "code",
   "execution_count": 99,
   "outputs": [
    {
     "data": {
      "text/plain": "       upvote_ratio  score  total_awards_received  num_comments  \\\n0              0.33      0                      0            14   \n1              0.24      0                      0            22   \n2              1.00     13                      0            41   \n3              0.73     24                      0           188   \n4              0.33      0                      0             7   \n...             ...    ...                    ...           ...   \n29018          0.80    154                      1            64   \n29019          0.85    267                      0           176   \n29020          0.78      5                      0            40   \n29021          0.71      3                      0            31   \n29022          0.55      1                      0             6   \n\n                                                selftext          datetime  \\\n0      I recently caught a red herring, and you can d...  2022-01-01 00:00   \n1      I noticed that almost everyone in the crypto c...  2022-01-01 00:00   \n2      My records show I still had some BCHA on my Me...  2022-01-01 02:00   \n3      Merry Christmas and a Happy New Year. \\n\\nPS: ...  2022-01-01 05:00   \n4      If you look at Bitcoin satoshies!  There's $2....  2022-01-01 07:00   \n...                                                  ...               ...   \n29018  [A HOUSE!](https://imgur.com/a/AklRmxT)  I jus...  2022-06-30 20:00   \n29019  \\> [BlockFi previously had a valuation of 4 bi...  2022-06-30 21:00   \n29020  If you plan on never selling (and I mean it), ...  2022-06-30 22:00   \n29021  Was talking to a friend today trying to get hi...  2022-06-30 22:00   \n29022  If Grayscale really cared about their clients ...  2022-06-30 23:00   \n\n                                              text_clean  compound  \n0      recently caught red herring xb download intro ...    0.6124  \n1      noticed almost everyone crypto community talk ...    0.9136  \n2      record show still bcha memo member wallet tryi...    0.2263  \n3      merry christmas happy new year postscript try ...    0.8020  \n4      look bitcoin satoshies b btc satoshi one btc s...    0.4404  \n...                                                  ...       ...  \n29018  house closed house finally achieved dream owni...    0.9492  \n29019  blockfi previously valuation billion raised mi...    0.4404  \n29020  plan never selling mean benefit choosing hardw...   -0.3570  \n29021  talking friend today trying get buy btc asked ...    0.2263  \n29022  grayscale really cared client would lower fee ...    0.9657  \n\n[29023 rows x 8 columns]",
      "text/html": "<div>\n<style scoped>\n    .dataframe tbody tr th:only-of-type {\n        vertical-align: middle;\n    }\n\n    .dataframe tbody tr th {\n        vertical-align: top;\n    }\n\n    .dataframe thead th {\n        text-align: right;\n    }\n</style>\n<table border=\"1\" class=\"dataframe\">\n  <thead>\n    <tr style=\"text-align: right;\">\n      <th></th>\n      <th>upvote_ratio</th>\n      <th>score</th>\n      <th>total_awards_received</th>\n      <th>num_comments</th>\n      <th>selftext</th>\n      <th>datetime</th>\n      <th>text_clean</th>\n      <th>compound</th>\n    </tr>\n  </thead>\n  <tbody>\n    <tr>\n      <th>0</th>\n      <td>0.33</td>\n      <td>0</td>\n      <td>0</td>\n      <td>14</td>\n      <td>I recently caught a red herring, and you can d...</td>\n      <td>2022-01-01 00:00</td>\n      <td>recently caught red herring xb download intro ...</td>\n      <td>0.6124</td>\n    </tr>\n    <tr>\n      <th>1</th>\n      <td>0.24</td>\n      <td>0</td>\n      <td>0</td>\n      <td>22</td>\n      <td>I noticed that almost everyone in the crypto c...</td>\n      <td>2022-01-01 00:00</td>\n      <td>noticed almost everyone crypto community talk ...</td>\n      <td>0.9136</td>\n    </tr>\n    <tr>\n      <th>2</th>\n      <td>1.00</td>\n      <td>13</td>\n      <td>0</td>\n      <td>41</td>\n      <td>My records show I still had some BCHA on my Me...</td>\n      <td>2022-01-01 02:00</td>\n      <td>record show still bcha memo member wallet tryi...</td>\n      <td>0.2263</td>\n    </tr>\n    <tr>\n      <th>3</th>\n      <td>0.73</td>\n      <td>24</td>\n      <td>0</td>\n      <td>188</td>\n      <td>Merry Christmas and a Happy New Year. \\n\\nPS: ...</td>\n      <td>2022-01-01 05:00</td>\n      <td>merry christmas happy new year postscript try ...</td>\n      <td>0.8020</td>\n    </tr>\n    <tr>\n      <th>4</th>\n      <td>0.33</td>\n      <td>0</td>\n      <td>0</td>\n      <td>7</td>\n      <td>If you look at Bitcoin satoshies!  There's $2....</td>\n      <td>2022-01-01 07:00</td>\n      <td>look bitcoin satoshies b btc satoshi one btc s...</td>\n      <td>0.4404</td>\n    </tr>\n    <tr>\n      <th>...</th>\n      <td>...</td>\n      <td>...</td>\n      <td>...</td>\n      <td>...</td>\n      <td>...</td>\n      <td>...</td>\n      <td>...</td>\n      <td>...</td>\n    </tr>\n    <tr>\n      <th>29018</th>\n      <td>0.80</td>\n      <td>154</td>\n      <td>1</td>\n      <td>64</td>\n      <td>[A HOUSE!](https://imgur.com/a/AklRmxT)  I jus...</td>\n      <td>2022-06-30 20:00</td>\n      <td>house closed house finally achieved dream owni...</td>\n      <td>0.9492</td>\n    </tr>\n    <tr>\n      <th>29019</th>\n      <td>0.85</td>\n      <td>267</td>\n      <td>0</td>\n      <td>176</td>\n      <td>\\&gt; [BlockFi previously had a valuation of 4 bi...</td>\n      <td>2022-06-30 21:00</td>\n      <td>blockfi previously valuation billion raised mi...</td>\n      <td>0.4404</td>\n    </tr>\n    <tr>\n      <th>29020</th>\n      <td>0.78</td>\n      <td>5</td>\n      <td>0</td>\n      <td>40</td>\n      <td>If you plan on never selling (and I mean it), ...</td>\n      <td>2022-06-30 22:00</td>\n      <td>plan never selling mean benefit choosing hardw...</td>\n      <td>-0.3570</td>\n    </tr>\n    <tr>\n      <th>29021</th>\n      <td>0.71</td>\n      <td>3</td>\n      <td>0</td>\n      <td>31</td>\n      <td>Was talking to a friend today trying to get hi...</td>\n      <td>2022-06-30 22:00</td>\n      <td>talking friend today trying get buy btc asked ...</td>\n      <td>0.2263</td>\n    </tr>\n    <tr>\n      <th>29022</th>\n      <td>0.55</td>\n      <td>1</td>\n      <td>0</td>\n      <td>6</td>\n      <td>If Grayscale really cared about their clients ...</td>\n      <td>2022-06-30 23:00</td>\n      <td>grayscale really cared client would lower fee ...</td>\n      <td>0.9657</td>\n    </tr>\n  </tbody>\n</table>\n<p>29023 rows × 8 columns</p>\n</div>"
     },
     "execution_count": 99,
     "metadata": {},
     "output_type": "execute_result"
    }
   ],
   "source": [
    "reddit_data"
   ],
   "metadata": {
    "collapsed": false,
    "pycharm": {
     "name": "#%%\n"
    }
   }
  },
  {
   "cell_type": "markdown",
   "source": [
    "#### Textblob"
   ],
   "metadata": {
    "collapsed": false,
    "pycharm": {
     "name": "#%% md\n"
    }
   }
  },
  {
   "cell_type": "code",
   "execution_count": 100,
   "outputs": [],
   "source": [
    "# Textblob\n",
    "from textblob import TextBlob\n",
    "\n",
    "# create a function to get subjectivity\n",
    "def getSubjectivity(twt):\n",
    "    return TextBlob(twt).sentiment.subjectivity\n",
    "\n",
    "# create a function to get the polarity\n",
    "def getPolarity(twt):\n",
    "    return TextBlob(twt).sentiment.polarity"
   ],
   "metadata": {
    "collapsed": false,
    "pycharm": {
     "name": "#%%\n"
    }
   }
  },
  {
   "cell_type": "code",
   "execution_count": 101,
   "outputs": [],
   "source": [
    "# create two new columns called \"Subjectivity\" & \"Polarity\"\n",
    "reddit_data['subjectivity'] = reddit_data['text_clean'].apply(getSubjectivity)\n",
    "reddit_data['polarity'] = reddit_data['text_clean'].apply(getPolarity)"
   ],
   "metadata": {
    "collapsed": false,
    "pycharm": {
     "name": "#%%\n"
    }
   }
  },
  {
   "cell_type": "code",
   "execution_count": 102,
   "outputs": [
    {
     "data": {
      "text/plain": "       upvote_ratio  score  total_awards_received  num_comments  \\\n0              0.33      0                      0            14   \n1              0.24      0                      0            22   \n2              1.00     13                      0            41   \n3              0.73     24                      0           188   \n4              0.33      0                      0             7   \n...             ...    ...                    ...           ...   \n29018          0.80    154                      1            64   \n29019          0.85    267                      0           176   \n29020          0.78      5                      0            40   \n29021          0.71      3                      0            31   \n29022          0.55      1                      0             6   \n\n                                                selftext          datetime  \\\n0      I recently caught a red herring, and you can d...  2022-01-01 00:00   \n1      I noticed that almost everyone in the crypto c...  2022-01-01 00:00   \n2      My records show I still had some BCHA on my Me...  2022-01-01 02:00   \n3      Merry Christmas and a Happy New Year. \\n\\nPS: ...  2022-01-01 05:00   \n4      If you look at Bitcoin satoshies!  There's $2....  2022-01-01 07:00   \n...                                                  ...               ...   \n29018  [A HOUSE!](https://imgur.com/a/AklRmxT)  I jus...  2022-06-30 20:00   \n29019  \\> [BlockFi previously had a valuation of 4 bi...  2022-06-30 21:00   \n29020  If you plan on never selling (and I mean it), ...  2022-06-30 22:00   \n29021  Was talking to a friend today trying to get hi...  2022-06-30 22:00   \n29022  If Grayscale really cared about their clients ...  2022-06-30 23:00   \n\n                                              text_clean  compound  \\\n0      recently caught red herring xb download intro ...    0.6124   \n1      noticed almost everyone crypto community talk ...    0.9136   \n2      record show still bcha memo member wallet tryi...    0.2263   \n3      merry christmas happy new year postscript try ...    0.8020   \n4      look bitcoin satoshies b btc satoshi one btc s...    0.4404   \n...                                                  ...       ...   \n29018  house closed house finally achieved dream owni...    0.9492   \n29019  blockfi previously valuation billion raised mi...    0.4404   \n29020  plan never selling mean benefit choosing hardw...   -0.3570   \n29021  talking friend today trying get buy btc asked ...    0.2263   \n29022  grayscale really cared client would lower fee ...    0.9657   \n\n       subjectivity  polarity  \n0          0.352686  0.012397  \n1          0.444444 -0.143750  \n2          0.473333  0.160000  \n3          0.613636  0.234091  \n4          0.650000  0.400000  \n...             ...       ...  \n29018      0.500733  0.157900  \n29019      0.083333 -0.083333  \n29020      0.687500 -0.312500  \n29021      0.200000  0.200000  \n29022      0.572727  0.045455  \n\n[29023 rows x 10 columns]",
      "text/html": "<div>\n<style scoped>\n    .dataframe tbody tr th:only-of-type {\n        vertical-align: middle;\n    }\n\n    .dataframe tbody tr th {\n        vertical-align: top;\n    }\n\n    .dataframe thead th {\n        text-align: right;\n    }\n</style>\n<table border=\"1\" class=\"dataframe\">\n  <thead>\n    <tr style=\"text-align: right;\">\n      <th></th>\n      <th>upvote_ratio</th>\n      <th>score</th>\n      <th>total_awards_received</th>\n      <th>num_comments</th>\n      <th>selftext</th>\n      <th>datetime</th>\n      <th>text_clean</th>\n      <th>compound</th>\n      <th>subjectivity</th>\n      <th>polarity</th>\n    </tr>\n  </thead>\n  <tbody>\n    <tr>\n      <th>0</th>\n      <td>0.33</td>\n      <td>0</td>\n      <td>0</td>\n      <td>14</td>\n      <td>I recently caught a red herring, and you can d...</td>\n      <td>2022-01-01 00:00</td>\n      <td>recently caught red herring xb download intro ...</td>\n      <td>0.6124</td>\n      <td>0.352686</td>\n      <td>0.012397</td>\n    </tr>\n    <tr>\n      <th>1</th>\n      <td>0.24</td>\n      <td>0</td>\n      <td>0</td>\n      <td>22</td>\n      <td>I noticed that almost everyone in the crypto c...</td>\n      <td>2022-01-01 00:00</td>\n      <td>noticed almost everyone crypto community talk ...</td>\n      <td>0.9136</td>\n      <td>0.444444</td>\n      <td>-0.143750</td>\n    </tr>\n    <tr>\n      <th>2</th>\n      <td>1.00</td>\n      <td>13</td>\n      <td>0</td>\n      <td>41</td>\n      <td>My records show I still had some BCHA on my Me...</td>\n      <td>2022-01-01 02:00</td>\n      <td>record show still bcha memo member wallet tryi...</td>\n      <td>0.2263</td>\n      <td>0.473333</td>\n      <td>0.160000</td>\n    </tr>\n    <tr>\n      <th>3</th>\n      <td>0.73</td>\n      <td>24</td>\n      <td>0</td>\n      <td>188</td>\n      <td>Merry Christmas and a Happy New Year. \\n\\nPS: ...</td>\n      <td>2022-01-01 05:00</td>\n      <td>merry christmas happy new year postscript try ...</td>\n      <td>0.8020</td>\n      <td>0.613636</td>\n      <td>0.234091</td>\n    </tr>\n    <tr>\n      <th>4</th>\n      <td>0.33</td>\n      <td>0</td>\n      <td>0</td>\n      <td>7</td>\n      <td>If you look at Bitcoin satoshies!  There's $2....</td>\n      <td>2022-01-01 07:00</td>\n      <td>look bitcoin satoshies b btc satoshi one btc s...</td>\n      <td>0.4404</td>\n      <td>0.650000</td>\n      <td>0.400000</td>\n    </tr>\n    <tr>\n      <th>...</th>\n      <td>...</td>\n      <td>...</td>\n      <td>...</td>\n      <td>...</td>\n      <td>...</td>\n      <td>...</td>\n      <td>...</td>\n      <td>...</td>\n      <td>...</td>\n      <td>...</td>\n    </tr>\n    <tr>\n      <th>29018</th>\n      <td>0.80</td>\n      <td>154</td>\n      <td>1</td>\n      <td>64</td>\n      <td>[A HOUSE!](https://imgur.com/a/AklRmxT)  I jus...</td>\n      <td>2022-06-30 20:00</td>\n      <td>house closed house finally achieved dream owni...</td>\n      <td>0.9492</td>\n      <td>0.500733</td>\n      <td>0.157900</td>\n    </tr>\n    <tr>\n      <th>29019</th>\n      <td>0.85</td>\n      <td>267</td>\n      <td>0</td>\n      <td>176</td>\n      <td>\\&gt; [BlockFi previously had a valuation of 4 bi...</td>\n      <td>2022-06-30 21:00</td>\n      <td>blockfi previously valuation billion raised mi...</td>\n      <td>0.4404</td>\n      <td>0.083333</td>\n      <td>-0.083333</td>\n    </tr>\n    <tr>\n      <th>29020</th>\n      <td>0.78</td>\n      <td>5</td>\n      <td>0</td>\n      <td>40</td>\n      <td>If you plan on never selling (and I mean it), ...</td>\n      <td>2022-06-30 22:00</td>\n      <td>plan never selling mean benefit choosing hardw...</td>\n      <td>-0.3570</td>\n      <td>0.687500</td>\n      <td>-0.312500</td>\n    </tr>\n    <tr>\n      <th>29021</th>\n      <td>0.71</td>\n      <td>3</td>\n      <td>0</td>\n      <td>31</td>\n      <td>Was talking to a friend today trying to get hi...</td>\n      <td>2022-06-30 22:00</td>\n      <td>talking friend today trying get buy btc asked ...</td>\n      <td>0.2263</td>\n      <td>0.200000</td>\n      <td>0.200000</td>\n    </tr>\n    <tr>\n      <th>29022</th>\n      <td>0.55</td>\n      <td>1</td>\n      <td>0</td>\n      <td>6</td>\n      <td>If Grayscale really cared about their clients ...</td>\n      <td>2022-06-30 23:00</td>\n      <td>grayscale really cared client would lower fee ...</td>\n      <td>0.9657</td>\n      <td>0.572727</td>\n      <td>0.045455</td>\n    </tr>\n  </tbody>\n</table>\n<p>29023 rows × 10 columns</p>\n</div>"
     },
     "execution_count": 102,
     "metadata": {},
     "output_type": "execute_result"
    }
   ],
   "source": [
    "reddit_data"
   ],
   "metadata": {
    "collapsed": false,
    "pycharm": {
     "name": "#%%\n"
    }
   }
  },
  {
   "cell_type": "markdown",
   "source": [
    "#### Pysentiment2"
   ],
   "metadata": {
    "collapsed": false,
    "pycharm": {
     "name": "#%% md\n"
    }
   }
  },
  {
   "cell_type": "code",
   "execution_count": 103,
   "outputs": [],
   "source": [
    "import pysentiment2 as ps"
   ],
   "metadata": {
    "collapsed": false,
    "pycharm": {
     "name": "#%%\n"
    }
   }
  },
  {
   "cell_type": "code",
   "execution_count": 104,
   "outputs": [],
   "source": [
    "sen=ps.LM()\n",
    "def get_sentiment_score(text):\n",
    "    tokens = sen.tokenize(text)\n",
    "    score = sen.get_score(tokens)\n",
    "    sum_score=score['Positive']+score['Negative']\n",
    "    if sum_score==0:\n",
    "        sum_score=1\n",
    "    final_score=(score['Positive']-score['Negative'])/sum_score\n",
    "    return final_score"
   ],
   "metadata": {
    "collapsed": false,
    "pycharm": {
     "name": "#%%\n"
    }
   }
  },
  {
   "cell_type": "code",
   "execution_count": 105,
   "outputs": [],
   "source": [
    "reddit_data['pysenti_score'] = reddit_data['text_clean'].apply(get_sentiment_score)"
   ],
   "metadata": {
    "collapsed": false,
    "pycharm": {
     "name": "#%%\n"
    }
   }
  },
  {
   "cell_type": "code",
   "execution_count": 106,
   "outputs": [
    {
     "data": {
      "text/plain": "       upvote_ratio  score  total_awards_received  num_comments  \\\n0              0.33      0                      0            14   \n1              0.24      0                      0            22   \n2              1.00     13                      0            41   \n3              0.73     24                      0           188   \n4              0.33      0                      0             7   \n...             ...    ...                    ...           ...   \n29018          0.80    154                      1            64   \n29019          0.85    267                      0           176   \n29020          0.78      5                      0            40   \n29021          0.71      3                      0            31   \n29022          0.55      1                      0             6   \n\n                                                selftext          datetime  \\\n0      I recently caught a red herring, and you can d...  2022-01-01 00:00   \n1      I noticed that almost everyone in the crypto c...  2022-01-01 00:00   \n2      My records show I still had some BCHA on my Me...  2022-01-01 02:00   \n3      Merry Christmas and a Happy New Year. \\n\\nPS: ...  2022-01-01 05:00   \n4      If you look at Bitcoin satoshies!  There's $2....  2022-01-01 07:00   \n...                                                  ...               ...   \n29018  [A HOUSE!](https://imgur.com/a/AklRmxT)  I jus...  2022-06-30 20:00   \n29019  \\> [BlockFi previously had a valuation of 4 bi...  2022-06-30 21:00   \n29020  If you plan on never selling (and I mean it), ...  2022-06-30 22:00   \n29021  Was talking to a friend today trying to get hi...  2022-06-30 22:00   \n29022  If Grayscale really cared about their clients ...  2022-06-30 23:00   \n\n                                              text_clean  compound  \\\n0      recently caught red herring xb download intro ...    0.6124   \n1      noticed almost everyone crypto community talk ...    0.9136   \n2      record show still bcha memo member wallet tryi...    0.2263   \n3      merry christmas happy new year postscript try ...    0.8020   \n4      look bitcoin satoshies b btc satoshi one btc s...    0.4404   \n...                                                  ...       ...   \n29018  house closed house finally achieved dream owni...    0.9492   \n29019  blockfi previously valuation billion raised mi...    0.4404   \n29020  plan never selling mean benefit choosing hardw...   -0.3570   \n29021  talking friend today trying get buy btc asked ...    0.2263   \n29022  grayscale really cared client would lower fee ...    0.9657   \n\n       subjectivity  polarity  pysenti_score  \n0          0.352686  0.012397       1.000000  \n1          0.444444 -0.143750      -0.142857  \n2          0.473333  0.160000       0.000000  \n3          0.613636  0.234091       1.000000  \n4          0.650000  0.400000       0.000000  \n...             ...       ...            ...  \n29018      0.500733  0.157900       0.333333  \n29019      0.083333 -0.083333       0.000000  \n29020      0.687500 -0.312500       1.000000  \n29021      0.200000  0.200000      -1.000000  \n29022      0.572727  0.045455      -0.600000  \n\n[29023 rows x 11 columns]",
      "text/html": "<div>\n<style scoped>\n    .dataframe tbody tr th:only-of-type {\n        vertical-align: middle;\n    }\n\n    .dataframe tbody tr th {\n        vertical-align: top;\n    }\n\n    .dataframe thead th {\n        text-align: right;\n    }\n</style>\n<table border=\"1\" class=\"dataframe\">\n  <thead>\n    <tr style=\"text-align: right;\">\n      <th></th>\n      <th>upvote_ratio</th>\n      <th>score</th>\n      <th>total_awards_received</th>\n      <th>num_comments</th>\n      <th>selftext</th>\n      <th>datetime</th>\n      <th>text_clean</th>\n      <th>compound</th>\n      <th>subjectivity</th>\n      <th>polarity</th>\n      <th>pysenti_score</th>\n    </tr>\n  </thead>\n  <tbody>\n    <tr>\n      <th>0</th>\n      <td>0.33</td>\n      <td>0</td>\n      <td>0</td>\n      <td>14</td>\n      <td>I recently caught a red herring, and you can d...</td>\n      <td>2022-01-01 00:00</td>\n      <td>recently caught red herring xb download intro ...</td>\n      <td>0.6124</td>\n      <td>0.352686</td>\n      <td>0.012397</td>\n      <td>1.000000</td>\n    </tr>\n    <tr>\n      <th>1</th>\n      <td>0.24</td>\n      <td>0</td>\n      <td>0</td>\n      <td>22</td>\n      <td>I noticed that almost everyone in the crypto c...</td>\n      <td>2022-01-01 00:00</td>\n      <td>noticed almost everyone crypto community talk ...</td>\n      <td>0.9136</td>\n      <td>0.444444</td>\n      <td>-0.143750</td>\n      <td>-0.142857</td>\n    </tr>\n    <tr>\n      <th>2</th>\n      <td>1.00</td>\n      <td>13</td>\n      <td>0</td>\n      <td>41</td>\n      <td>My records show I still had some BCHA on my Me...</td>\n      <td>2022-01-01 02:00</td>\n      <td>record show still bcha memo member wallet tryi...</td>\n      <td>0.2263</td>\n      <td>0.473333</td>\n      <td>0.160000</td>\n      <td>0.000000</td>\n    </tr>\n    <tr>\n      <th>3</th>\n      <td>0.73</td>\n      <td>24</td>\n      <td>0</td>\n      <td>188</td>\n      <td>Merry Christmas and a Happy New Year. \\n\\nPS: ...</td>\n      <td>2022-01-01 05:00</td>\n      <td>merry christmas happy new year postscript try ...</td>\n      <td>0.8020</td>\n      <td>0.613636</td>\n      <td>0.234091</td>\n      <td>1.000000</td>\n    </tr>\n    <tr>\n      <th>4</th>\n      <td>0.33</td>\n      <td>0</td>\n      <td>0</td>\n      <td>7</td>\n      <td>If you look at Bitcoin satoshies!  There's $2....</td>\n      <td>2022-01-01 07:00</td>\n      <td>look bitcoin satoshies b btc satoshi one btc s...</td>\n      <td>0.4404</td>\n      <td>0.650000</td>\n      <td>0.400000</td>\n      <td>0.000000</td>\n    </tr>\n    <tr>\n      <th>...</th>\n      <td>...</td>\n      <td>...</td>\n      <td>...</td>\n      <td>...</td>\n      <td>...</td>\n      <td>...</td>\n      <td>...</td>\n      <td>...</td>\n      <td>...</td>\n      <td>...</td>\n      <td>...</td>\n    </tr>\n    <tr>\n      <th>29018</th>\n      <td>0.80</td>\n      <td>154</td>\n      <td>1</td>\n      <td>64</td>\n      <td>[A HOUSE!](https://imgur.com/a/AklRmxT)  I jus...</td>\n      <td>2022-06-30 20:00</td>\n      <td>house closed house finally achieved dream owni...</td>\n      <td>0.9492</td>\n      <td>0.500733</td>\n      <td>0.157900</td>\n      <td>0.333333</td>\n    </tr>\n    <tr>\n      <th>29019</th>\n      <td>0.85</td>\n      <td>267</td>\n      <td>0</td>\n      <td>176</td>\n      <td>\\&gt; [BlockFi previously had a valuation of 4 bi...</td>\n      <td>2022-06-30 21:00</td>\n      <td>blockfi previously valuation billion raised mi...</td>\n      <td>0.4404</td>\n      <td>0.083333</td>\n      <td>-0.083333</td>\n      <td>0.000000</td>\n    </tr>\n    <tr>\n      <th>29020</th>\n      <td>0.78</td>\n      <td>5</td>\n      <td>0</td>\n      <td>40</td>\n      <td>If you plan on never selling (and I mean it), ...</td>\n      <td>2022-06-30 22:00</td>\n      <td>plan never selling mean benefit choosing hardw...</td>\n      <td>-0.3570</td>\n      <td>0.687500</td>\n      <td>-0.312500</td>\n      <td>1.000000</td>\n    </tr>\n    <tr>\n      <th>29021</th>\n      <td>0.71</td>\n      <td>3</td>\n      <td>0</td>\n      <td>31</td>\n      <td>Was talking to a friend today trying to get hi...</td>\n      <td>2022-06-30 22:00</td>\n      <td>talking friend today trying get buy btc asked ...</td>\n      <td>0.2263</td>\n      <td>0.200000</td>\n      <td>0.200000</td>\n      <td>-1.000000</td>\n    </tr>\n    <tr>\n      <th>29022</th>\n      <td>0.55</td>\n      <td>1</td>\n      <td>0</td>\n      <td>6</td>\n      <td>If Grayscale really cared about their clients ...</td>\n      <td>2022-06-30 23:00</td>\n      <td>grayscale really cared client would lower fee ...</td>\n      <td>0.9657</td>\n      <td>0.572727</td>\n      <td>0.045455</td>\n      <td>-0.600000</td>\n    </tr>\n  </tbody>\n</table>\n<p>29023 rows × 11 columns</p>\n</div>"
     },
     "execution_count": 106,
     "metadata": {},
     "output_type": "execute_result"
    }
   ],
   "source": [
    "reddit_data"
   ],
   "metadata": {
    "collapsed": false,
    "pycharm": {
     "name": "#%%\n"
    }
   }
  },
  {
   "cell_type": "markdown",
   "source": [
    "### Do not remove the neutral score"
   ],
   "metadata": {
    "collapsed": false,
    "pycharm": {
     "name": "#%% md\n"
    }
   }
  },
  {
   "cell_type": "code",
   "execution_count": 107,
   "outputs": [],
   "source": [
    "reddit_score= pd.DataFrame(columns=['datetime','compound','polarity','subjectivity'])\n",
    "# reddit_data['datetime']=pd.to_datetime(reddit_data['datetime'])\n",
    "# Grouping by datetime and calculating mean sentiment score\n",
    "compound_grouped_data = reddit_data.groupby('datetime').apply(lambda x: (x['compound']*x['upvote_ratio']).sum()/(x['upvote_ratio']).sum())\n",
    "reddit_score['compound']=compound_grouped_data\n",
    "\n",
    "polarity_data=reddit_data.groupby('datetime')['polarity'].mean()\n",
    "subjectivity_data=reddit_data.groupby('datetime')['subjectivity'].mean()\n",
    "\n",
    "reddit_score['polarity']=polarity_data\n",
    "reddit_score['subjectivity']=subjectivity_data"
   ],
   "metadata": {
    "collapsed": false,
    "pycharm": {
     "name": "#%%\n"
    }
   }
  },
  {
   "cell_type": "code",
   "execution_count": 108,
   "outputs": [],
   "source": [
    "reddit_score.drop(columns=['datetime'], inplace=True)"
   ],
   "metadata": {
    "collapsed": false,
    "pycharm": {
     "name": "#%%\n"
    }
   }
  },
  {
   "cell_type": "code",
   "execution_count": 109,
   "outputs": [
    {
     "data": {
      "text/plain": "                  compound  polarity  subjectivity\ndatetime                                          \n2022-01-01 00:00  0.806147  0.106285      0.464971\n2022-01-01 01:00  0.523754  0.165466      0.469433\n2022-01-01 02:00  0.404721 -0.003025      0.499500\n2022-01-01 03:00  0.307653  0.129557      0.461581\n2022-01-01 04:00  0.682042  0.108311      0.422146\n...                    ...       ...           ...\n2022-06-30 19:00  0.537786  0.112709      0.459895\n2022-06-30 20:00  0.456615  0.075858      0.494026\n2022-06-30 21:00  0.786424  0.053945      0.433892\n2022-06-30 22:00  0.375062  0.086258      0.452399\n2022-06-30 23:00  0.945668  0.091818      0.494242\n\n[4285 rows x 3 columns]",
      "text/html": "<div>\n<style scoped>\n    .dataframe tbody tr th:only-of-type {\n        vertical-align: middle;\n    }\n\n    .dataframe tbody tr th {\n        vertical-align: top;\n    }\n\n    .dataframe thead th {\n        text-align: right;\n    }\n</style>\n<table border=\"1\" class=\"dataframe\">\n  <thead>\n    <tr style=\"text-align: right;\">\n      <th></th>\n      <th>compound</th>\n      <th>polarity</th>\n      <th>subjectivity</th>\n    </tr>\n    <tr>\n      <th>datetime</th>\n      <th></th>\n      <th></th>\n      <th></th>\n    </tr>\n  </thead>\n  <tbody>\n    <tr>\n      <th>2022-01-01 00:00</th>\n      <td>0.806147</td>\n      <td>0.106285</td>\n      <td>0.464971</td>\n    </tr>\n    <tr>\n      <th>2022-01-01 01:00</th>\n      <td>0.523754</td>\n      <td>0.165466</td>\n      <td>0.469433</td>\n    </tr>\n    <tr>\n      <th>2022-01-01 02:00</th>\n      <td>0.404721</td>\n      <td>-0.003025</td>\n      <td>0.499500</td>\n    </tr>\n    <tr>\n      <th>2022-01-01 03:00</th>\n      <td>0.307653</td>\n      <td>0.129557</td>\n      <td>0.461581</td>\n    </tr>\n    <tr>\n      <th>2022-01-01 04:00</th>\n      <td>0.682042</td>\n      <td>0.108311</td>\n      <td>0.422146</td>\n    </tr>\n    <tr>\n      <th>...</th>\n      <td>...</td>\n      <td>...</td>\n      <td>...</td>\n    </tr>\n    <tr>\n      <th>2022-06-30 19:00</th>\n      <td>0.537786</td>\n      <td>0.112709</td>\n      <td>0.459895</td>\n    </tr>\n    <tr>\n      <th>2022-06-30 20:00</th>\n      <td>0.456615</td>\n      <td>0.075858</td>\n      <td>0.494026</td>\n    </tr>\n    <tr>\n      <th>2022-06-30 21:00</th>\n      <td>0.786424</td>\n      <td>0.053945</td>\n      <td>0.433892</td>\n    </tr>\n    <tr>\n      <th>2022-06-30 22:00</th>\n      <td>0.375062</td>\n      <td>0.086258</td>\n      <td>0.452399</td>\n    </tr>\n    <tr>\n      <th>2022-06-30 23:00</th>\n      <td>0.945668</td>\n      <td>0.091818</td>\n      <td>0.494242</td>\n    </tr>\n  </tbody>\n</table>\n<p>4285 rows × 3 columns</p>\n</div>"
     },
     "execution_count": 109,
     "metadata": {},
     "output_type": "execute_result"
    }
   ],
   "source": [
    "reddit_score"
   ],
   "metadata": {
    "collapsed": false,
    "pycharm": {
     "name": "#%%\n"
    }
   }
  },
  {
   "cell_type": "markdown",
   "source": [
    "### Remove the neutral score"
   ],
   "metadata": {
    "collapsed": false,
    "pycharm": {
     "name": "#%% md\n"
    }
   }
  },
  {
   "cell_type": "code",
   "execution_count": 110,
   "outputs": [],
   "source": [
    "reddit_data_filter=reddit_data[reddit_data['compound'] != 0]"
   ],
   "metadata": {
    "collapsed": false,
    "pycharm": {
     "name": "#%%\n"
    }
   }
  },
  {
   "cell_type": "code",
   "execution_count": 111,
   "outputs": [],
   "source": [
    "filter_reddit_score= pd.DataFrame(columns=['datetime','compound','polarity','subjectivity'])\n",
    "# reddit_data_filter['datetime']=pd.to_datetime(reddit_data_filter['datetime'])\n",
    "# Grouping by datetime and calculating mean sentiment score\n",
    "compound_grouped_data = reddit_data_filter.groupby('datetime').apply(lambda x: (x['compound']*x['upvote_ratio']).sum()/(x['upvote_ratio']).sum())\n",
    "filter_reddit_score['compound']=compound_grouped_data\n",
    "\n",
    "polarity_data=reddit_data_filter.groupby('datetime')['polarity'].mean()\n",
    "subjectivity_data=reddit_data_filter.groupby('datetime')['subjectivity'].mean()\n",
    "\n",
    "filter_reddit_score['polarity']=polarity_data\n",
    "filter_reddit_score['subjectivity']=subjectivity_data"
   ],
   "metadata": {
    "collapsed": false,
    "pycharm": {
     "name": "#%%\n"
    }
   }
  },
  {
   "cell_type": "code",
   "execution_count": 112,
   "outputs": [],
   "source": [
    "filter_reddit_score.drop(columns=['datetime'], inplace=True)"
   ],
   "metadata": {
    "collapsed": false,
    "pycharm": {
     "name": "#%%\n"
    }
   }
  },
  {
   "cell_type": "code",
   "execution_count": 113,
   "outputs": [
    {
     "data": {
      "text/plain": "                  compound  polarity  subjectivity\ndatetime                                          \n2022-01-01 00:00  0.865422  0.097302      0.473199\n2022-01-01 01:00  0.523754  0.165466      0.469433\n2022-01-01 02:00  0.404721 -0.003025      0.499500\n2022-01-01 03:00  0.307653  0.129557      0.461581\n2022-01-01 04:00  0.682042  0.108311      0.422146\n...                    ...       ...           ...\n2022-06-30 19:00  0.537786  0.112709      0.459895\n2022-06-30 20:00  0.456615  0.075858      0.494026\n2022-06-30 21:00  0.786424  0.053945      0.433892\n2022-06-30 22:00  0.375062  0.086258      0.452399\n2022-06-30 23:00  0.945668  0.091818      0.494242\n\n[4280 rows x 3 columns]",
      "text/html": "<div>\n<style scoped>\n    .dataframe tbody tr th:only-of-type {\n        vertical-align: middle;\n    }\n\n    .dataframe tbody tr th {\n        vertical-align: top;\n    }\n\n    .dataframe thead th {\n        text-align: right;\n    }\n</style>\n<table border=\"1\" class=\"dataframe\">\n  <thead>\n    <tr style=\"text-align: right;\">\n      <th></th>\n      <th>compound</th>\n      <th>polarity</th>\n      <th>subjectivity</th>\n    </tr>\n    <tr>\n      <th>datetime</th>\n      <th></th>\n      <th></th>\n      <th></th>\n    </tr>\n  </thead>\n  <tbody>\n    <tr>\n      <th>2022-01-01 00:00</th>\n      <td>0.865422</td>\n      <td>0.097302</td>\n      <td>0.473199</td>\n    </tr>\n    <tr>\n      <th>2022-01-01 01:00</th>\n      <td>0.523754</td>\n      <td>0.165466</td>\n      <td>0.469433</td>\n    </tr>\n    <tr>\n      <th>2022-01-01 02:00</th>\n      <td>0.404721</td>\n      <td>-0.003025</td>\n      <td>0.499500</td>\n    </tr>\n    <tr>\n      <th>2022-01-01 03:00</th>\n      <td>0.307653</td>\n      <td>0.129557</td>\n      <td>0.461581</td>\n    </tr>\n    <tr>\n      <th>2022-01-01 04:00</th>\n      <td>0.682042</td>\n      <td>0.108311</td>\n      <td>0.422146</td>\n    </tr>\n    <tr>\n      <th>...</th>\n      <td>...</td>\n      <td>...</td>\n      <td>...</td>\n    </tr>\n    <tr>\n      <th>2022-06-30 19:00</th>\n      <td>0.537786</td>\n      <td>0.112709</td>\n      <td>0.459895</td>\n    </tr>\n    <tr>\n      <th>2022-06-30 20:00</th>\n      <td>0.456615</td>\n      <td>0.075858</td>\n      <td>0.494026</td>\n    </tr>\n    <tr>\n      <th>2022-06-30 21:00</th>\n      <td>0.786424</td>\n      <td>0.053945</td>\n      <td>0.433892</td>\n    </tr>\n    <tr>\n      <th>2022-06-30 22:00</th>\n      <td>0.375062</td>\n      <td>0.086258</td>\n      <td>0.452399</td>\n    </tr>\n    <tr>\n      <th>2022-06-30 23:00</th>\n      <td>0.945668</td>\n      <td>0.091818</td>\n      <td>0.494242</td>\n    </tr>\n  </tbody>\n</table>\n<p>4280 rows × 3 columns</p>\n</div>"
     },
     "execution_count": 113,
     "metadata": {},
     "output_type": "execute_result"
    }
   ],
   "source": [
    "filter_reddit_score"
   ],
   "metadata": {
    "collapsed": false,
    "pycharm": {
     "name": "#%%\n"
    }
   }
  },
  {
   "cell_type": "code",
   "execution_count": 114,
   "outputs": [],
   "source": [
    "reddit_score.to_csv('./data/Reddit/reddit_score.csv')"
   ],
   "metadata": {
    "collapsed": false,
    "pycharm": {
     "name": "#%%\n"
    }
   }
  },
  {
   "cell_type": "code",
   "execution_count": 115,
   "outputs": [],
   "source": [
    "filter_reddit_score.to_csv('./data/Reddit/filter_reddit_score.csv')"
   ],
   "metadata": {
    "collapsed": false,
    "pycharm": {
     "name": "#%%\n"
    }
   }
  },
  {
   "cell_type": "markdown",
   "source": [
    "## Reddit posts without weight"
   ],
   "metadata": {
    "collapsed": false,
    "pycharm": {
     "name": "#%% md\n"
    }
   }
  },
  {
   "cell_type": "code",
   "execution_count": 116,
   "outputs": [],
   "source": [
    "reddit_score= pd.DataFrame(columns=['datetime','compound','polarity','subjectivity'])\n",
    "# reddit_data['datetime']=pd.to_datetime(reddit_data['datetime'])\n",
    "# Grouping by datetime and calculating mean sentiment score\n",
    "compound_grouped_data = reddit_data.groupby('datetime')['compound'].mean()\n",
    "reddit_score['compound']=compound_grouped_data\n",
    "\n",
    "polarity_data=reddit_data.groupby('datetime')['polarity'].mean()\n",
    "subjectivity_data=reddit_data.groupby('datetime')['subjectivity'].mean()\n",
    "\n",
    "reddit_score['polarity']=polarity_data\n",
    "reddit_score['subjectivity']=subjectivity_data"
   ],
   "metadata": {
    "collapsed": false,
    "pycharm": {
     "name": "#%%\n"
    }
   }
  },
  {
   "cell_type": "code",
   "execution_count": 117,
   "outputs": [],
   "source": [
    "reddit_score.to_csv('./data/Reddit/without_weight_reddit_score.csv')"
   ],
   "metadata": {
    "collapsed": false,
    "pycharm": {
     "name": "#%%\n"
    }
   }
  },
  {
   "cell_type": "code",
   "execution_count": null,
   "outputs": [],
   "source": [],
   "metadata": {
    "collapsed": false,
    "pycharm": {
     "name": "#%%\n"
    }
   }
  }
 ],
 "metadata": {
  "kernelspec": {
   "display_name": "Python 3",
   "language": "python",
   "name": "python3"
  },
  "language_info": {
   "codemirror_mode": {
    "name": "ipython",
    "version": 2
   },
   "file_extension": ".py",
   "mimetype": "text/x-python",
   "name": "python",
   "nbconvert_exporter": "python",
   "pygments_lexer": "ipython2",
   "version": "2.7.6"
  }
 },
 "nbformat": 4,
 "nbformat_minor": 0
}