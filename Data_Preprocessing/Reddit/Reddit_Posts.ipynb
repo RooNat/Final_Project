{
 "cells": [
  {
   "cell_type": "markdown",
   "source": [
    "# Reddit Posts Data Processing\n",
    "\n",
    "[2022 Sentiment Analysis of Reddit Posts and BTC](https://www.kaggle.com/code/joehardin369/2022-sentiment-analysis-of-reddit-posts-and-btc)\n"
   ],
   "metadata": {
    "collapsed": false,
    "pycharm": {
     "name": "#%% md\n"
    }
   }
  },
  {
   "cell_type": "markdown",
   "source": [
    "This fils is used to extract the subset from the whole dataset, to get the timeperiod from 2022-1-1 to 2022-6-30.\n",
    "At the same time, it is used to drop the unuseful columns and transform the timestamp to the datetime."
   ],
   "metadata": {
    "collapsed": false,
    "pycharm": {
     "name": "#%% md\n"
    }
   }
  },
  {
   "cell_type": "code",
   "execution_count": 73,
   "outputs": [],
   "source": [
    "import pandas as pd\n",
    "import numpy as np\n",
    "import datetime\n",
    "import os\n",
    "from datetime import date\n",
    "folder_path=\"./data/Reddit/\""
   ],
   "metadata": {
    "collapsed": false,
    "pycharm": {
     "name": "#%%\n"
    }
   }
  },
  {
   "cell_type": "code",
   "execution_count": 74,
   "outputs": [],
   "source": [
    "# Extract the subset within the specific timeperiod\n",
    "def is_within_range(input_date):\n",
    "    start_date=date(2022,1,1)\n",
    "    end_date=date(2022,6,30)\n",
    "    return start_date <= input_date <= end_date"
   ],
   "metadata": {
    "collapsed": false,
    "pycharm": {
     "name": "#%%\n"
    }
   }
  },
  {
   "cell_type": "code",
   "execution_count": 75,
   "outputs": [],
   "source": [
    "# Read the csv files\n",
    "Merge_data=pd.DataFrame()\n",
    "for filename in os.listdir(folder_path):\n",
    "    if filename.endswith(\".csv\"):\n",
    "        # read the csv filename\n",
    "        reddit_posts=pd.read_csv(os.path.join(folder_path, filename))\n",
    "        # create the new column called \"date_created\"\n",
    "        reddit_posts['date_created']=(reddit_posts['created']).apply(lambda x: datetime.datetime.fromtimestamp(x).date())\n",
    "\n",
    "        # Extract the data from 2022-1-1 to 2022-6-30\n",
    "        subset_set=[row for i,row in reddit_posts.iterrows() if is_within_range(row.loc['date_created'])]\n",
    "        subreddits= pd.DataFrame(subset_set)\n",
    "\n",
    "        # Determine the accurate time\n",
    "        subreddits[\"datetime\"]= subreddits['created'].apply(lambda x: datetime.datetime.fromtimestamp(x))\n",
    "\n",
    "        # apply the floor function to the data, get the hourly data\n",
    "        subreddits['datetime']=subreddits['datetime'].dt.floor('H')\n",
    "        subreddits['datetime']=subreddits['datetime'].dt.strftime('%Y-%m-%d %H:%M:%S')\n",
    "        # Drop the unuseful columns, don't keep the title\n",
    "        columns_keep=['datetime','created','date_created','upvote_ratio','score','total_awards_received','num_comments','selftext']\n",
    "        columns_delete=list(subreddits.columns.values)\n",
    "        for keep in columns_keep:\n",
    "            columns_delete.remove(keep)\n",
    "        subreddits.drop(columns_delete, axis=1, inplace=True)\n",
    "        subreddits = subreddits[subreddits['selftext'].str.len()>=10]\n",
    "        subreddits.drop(columns=[\"date_created\",\"created\"],inplace=True)\n",
    "        Merge_data=pd.concat([Merge_data, subreddits])"
   ],
   "metadata": {
    "collapsed": false,
    "pycharm": {
     "name": "#%%\n"
    }
   }
  },
  {
   "cell_type": "code",
   "execution_count": 76,
   "outputs": [
    {
     "data": {
      "text/plain": "    upvote_ratio  score  total_awards_received  num_comments  \\\n0           0.33      0                      0            14   \n1           0.24      0                      0            22   \n5           1.00     13                      0            41   \n9           0.73     24                      0           188   \n11          0.33      0                      0             7   \n15          0.94     28                      0            22   \n20          0.58      6                      0            58   \n27          0.69     10                      0            13   \n39          0.87     16                      0             4   \n44          0.84     17                      0             9   \n\n                                             selftext             datetime  \n0   I recently caught a red herring, and you can d...  2022-01-01 00:00:00  \n1   I noticed that almost everyone in the crypto c...  2022-01-01 00:00:00  \n5   My records show I still had some BCHA on my Me...  2022-01-01 02:00:00  \n9   Merry Christmas and a Happy New Year. \\n\\nPS: ...  2022-01-01 05:00:00  \n11  If you look at Bitcoin satoshies!  There's $2....  2022-01-01 07:00:00  \n15   [Gaze.cash](https://gaze.cash/) is a video co...  2022-01-01 11:00:00  \n20  I started to look more projects came to know t...  2022-01-01 11:00:00  \n27  \\n\\n[View Poll](https://www.reddit.com/poll/rt...  2022-01-01 14:00:00  \n39  Starting a new project soon... An African Cryp...  2022-01-01 18:00:00  \n44  My plan will be the following, due to the low ...  2022-01-01 19:00:00  ",
      "text/html": "<div>\n<style scoped>\n    .dataframe tbody tr th:only-of-type {\n        vertical-align: middle;\n    }\n\n    .dataframe tbody tr th {\n        vertical-align: top;\n    }\n\n    .dataframe thead th {\n        text-align: right;\n    }\n</style>\n<table border=\"1\" class=\"dataframe\">\n  <thead>\n    <tr style=\"text-align: right;\">\n      <th></th>\n      <th>upvote_ratio</th>\n      <th>score</th>\n      <th>total_awards_received</th>\n      <th>num_comments</th>\n      <th>selftext</th>\n      <th>datetime</th>\n    </tr>\n  </thead>\n  <tbody>\n    <tr>\n      <th>0</th>\n      <td>0.33</td>\n      <td>0</td>\n      <td>0</td>\n      <td>14</td>\n      <td>I recently caught a red herring, and you can d...</td>\n      <td>2022-01-01 00:00:00</td>\n    </tr>\n    <tr>\n      <th>1</th>\n      <td>0.24</td>\n      <td>0</td>\n      <td>0</td>\n      <td>22</td>\n      <td>I noticed that almost everyone in the crypto c...</td>\n      <td>2022-01-01 00:00:00</td>\n    </tr>\n    <tr>\n      <th>5</th>\n      <td>1.00</td>\n      <td>13</td>\n      <td>0</td>\n      <td>41</td>\n      <td>My records show I still had some BCHA on my Me...</td>\n      <td>2022-01-01 02:00:00</td>\n    </tr>\n    <tr>\n      <th>9</th>\n      <td>0.73</td>\n      <td>24</td>\n      <td>0</td>\n      <td>188</td>\n      <td>Merry Christmas and a Happy New Year. \\n\\nPS: ...</td>\n      <td>2022-01-01 05:00:00</td>\n    </tr>\n    <tr>\n      <th>11</th>\n      <td>0.33</td>\n      <td>0</td>\n      <td>0</td>\n      <td>7</td>\n      <td>If you look at Bitcoin satoshies!  There's $2....</td>\n      <td>2022-01-01 07:00:00</td>\n    </tr>\n    <tr>\n      <th>15</th>\n      <td>0.94</td>\n      <td>28</td>\n      <td>0</td>\n      <td>22</td>\n      <td>[Gaze.cash](https://gaze.cash/) is a video co...</td>\n      <td>2022-01-01 11:00:00</td>\n    </tr>\n    <tr>\n      <th>20</th>\n      <td>0.58</td>\n      <td>6</td>\n      <td>0</td>\n      <td>58</td>\n      <td>I started to look more projects came to know t...</td>\n      <td>2022-01-01 11:00:00</td>\n    </tr>\n    <tr>\n      <th>27</th>\n      <td>0.69</td>\n      <td>10</td>\n      <td>0</td>\n      <td>13</td>\n      <td>\\n\\n[View Poll](https://www.reddit.com/poll/rt...</td>\n      <td>2022-01-01 14:00:00</td>\n    </tr>\n    <tr>\n      <th>39</th>\n      <td>0.87</td>\n      <td>16</td>\n      <td>0</td>\n      <td>4</td>\n      <td>Starting a new project soon... An African Cryp...</td>\n      <td>2022-01-01 18:00:00</td>\n    </tr>\n    <tr>\n      <th>44</th>\n      <td>0.84</td>\n      <td>17</td>\n      <td>0</td>\n      <td>9</td>\n      <td>My plan will be the following, due to the low ...</td>\n      <td>2022-01-01 19:00:00</td>\n    </tr>\n  </tbody>\n</table>\n</div>"
     },
     "execution_count": 76,
     "metadata": {},
     "output_type": "execute_result"
    }
   ],
   "source": [
    "Merge_data.head(10)"
   ],
   "metadata": {
    "collapsed": false,
    "pycharm": {
     "name": "#%%\n"
    }
   }
  },
  {
   "cell_type": "code",
   "execution_count": 77,
   "outputs": [
    {
     "data": {
      "text/plain": "31118"
     },
     "execution_count": 77,
     "metadata": {},
     "output_type": "execute_result"
    }
   ],
   "source": [
    "len(Merge_data)"
   ],
   "metadata": {
    "collapsed": false,
    "pycharm": {
     "name": "#%%\n"
    }
   }
  },
  {
   "cell_type": "code",
   "execution_count": 79,
   "outputs": [],
   "source": [
    "Merge_data.to_csv(os.path.join(folder_path,\"Reddit.csv\"), index=False)"
   ],
   "metadata": {
    "collapsed": false,
    "pycharm": {
     "name": "#%%\n"
    }
   }
  }
 ],
 "metadata": {
  "kernelspec": {
   "display_name": "Python 3",
   "language": "python",
   "name": "python3"
  },
  "language_info": {
   "codemirror_mode": {
    "name": "ipython",
    "version": 2
   },
   "file_extension": ".py",
   "mimetype": "text/x-python",
   "name": "python",
   "nbconvert_exporter": "python",
   "pygments_lexer": "ipython2",
   "version": "2.7.6"
  }
 },
 "nbformat": 4,
 "nbformat_minor": 0
}