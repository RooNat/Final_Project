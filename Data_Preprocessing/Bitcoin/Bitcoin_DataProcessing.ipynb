{
 "cells": [
  {
   "cell_type": "markdown",
   "source": [
    "# Bitcoin Data Processing\n",
    "\n",
    "This file is used to transform the timestamp to datetime for bitcoin transaction data and rename the columns"
   ],
   "metadata": {
    "collapsed": false,
    "pycharm": {
     "name": "#%% md\n"
    }
   }
  },
  {
   "cell_type": "code",
   "execution_count": 21,
   "outputs": [],
   "source": [
    "import pandas as pd\n",
    "import numpy as np\n",
    "import datetime\n",
    "import os"
   ],
   "metadata": {
    "collapsed": false,
    "pycharm": {
     "name": "#%%\n"
    }
   }
  },
  {
   "cell_type": "code",
   "execution_count": 25,
   "outputs": [],
   "source": [
    "# set column_names\n",
    "columns_names=['Open time','Open','High','Low','Close','Volume','Close time','Quote asset volume','Number of trades','Taker buy base asset volume','Taker buy quote asset volume','Ignore']"
   ],
   "metadata": {
    "collapsed": false,
    "pycharm": {
     "name": "#%%\n"
    }
   }
  },
  {
   "cell_type": "code",
   "execution_count": 26,
   "outputs": [],
   "source": [
    "def timestamp_to_datetime(bitcoin_price):\n",
    "    # transform the timestamp to datetime\n",
    "    dt=[datetime.datetime.fromtimestamp(int(timestamp/1000)) for timestamp in bitcoin_price['Close time']]\n",
    "    formatted_data=[date.strftime(\"%Y-%m-%d %H:%M:%S\") for date in dt]\n",
    "    bitcoin_price['Close time']=pd.DataFrame(formatted_data)\n",
    "    bitcoin_price['Close time']=pd.to_datetime(bitcoin_price['Close time'])\n",
    "    # transforme the open timestamp to datatime\n",
    "    dt=[datetime.datetime.fromtimestamp(int(timestamp/1000)) for timestamp in bitcoin_price['Open time']]\n",
    "    formatted_data=[date.strftime(\"%Y-%m-%d %H:%M:%S\") for date in dt]\n",
    "    bitcoin_price['Open time']=pd.DataFrame(formatted_data)\n",
    "    bitcoin_price['Open time']=pd.to_datetime(bitcoin_price['Open time'])\n",
    "    return bitcoin_price"
   ],
   "metadata": {
    "collapsed": false,
    "pycharm": {
     "name": "#%%\n"
    }
   }
  },
  {
   "cell_type": "code",
   "execution_count": 27,
   "outputs": [],
   "source": [
    "# read 6 files\n",
    "folder_path=\"./data/Price/BTCUSDT/\"\n",
    "new_folder_path=\"./data/Price/Processed_BTCUSDT/\"\n",
    "prefix=\"New_\"\n",
    "for filename in os.listdir(folder_path):\n",
    "    if filename.endswith(\".csv\"):\n",
    "        # read the csv file\n",
    "        bitcoin_price=pd.read_csv(os.path.join(folder_path,filename),names=columns_names)\n",
    "        bitcoin_transformed =timestamp_to_datetime(bitcoin_price)\n",
    "        bitcoin_transformed.to_csv(os.path.join(new_folder_path,prefix+filename), index=False)"
   ],
   "metadata": {
    "collapsed": false,
    "pycharm": {
     "name": "#%%\n"
    }
   }
  }
 ],
 "metadata": {
  "kernelspec": {
   "display_name": "Python 3",
   "language": "python",
   "name": "python3"
  },
  "language_info": {
   "codemirror_mode": {
    "name": "ipython",
    "version": 2
   },
   "file_extension": ".py",
   "mimetype": "text/x-python",
   "name": "python",
   "nbconvert_exporter": "python",
   "pygments_lexer": "ipython2",
   "version": "2.7.6"
  }
 },
 "nbformat": 4,
 "nbformat_minor": 0
}