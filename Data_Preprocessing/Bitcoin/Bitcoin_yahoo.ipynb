{
 "cells": [
  {
   "cell_type": "markdown",
   "source": [
    "original financial data lack the date of 27/4"
   ],
   "metadata": {
    "collapsed": false,
    "pycharm": {
     "name": "#%% md\n"
    }
   }
  },
  {
   "cell_type": "code",
   "execution_count": 2,
   "outputs": [],
   "source": [
    "import yfinance as yf\n",
    "from yahoo_fin import stock_info as si"
   ],
   "metadata": {
    "collapsed": false,
    "pycharm": {
     "name": "#%%\n"
    }
   }
  },
  {
   "cell_type": "code",
   "execution_count": 3,
   "outputs": [
    {
     "name": "stdout",
     "output_type": "stream",
     "text": [
      "[*********************100%***********************]  1 of 1 completed\n"
     ]
    }
   ],
   "source": [
    "df = yf.download(\"BTC-USD\", start=\"2022-01-01\", end=\"2022-06-30\",interval='1h')"
   ],
   "metadata": {
    "collapsed": false,
    "pycharm": {
     "name": "#%%\n"
    }
   }
  },
  {
   "cell_type": "code",
   "execution_count": 4,
   "outputs": [
    {
     "data": {
      "text/plain": "                                   Open          High           Low  \\\nDatetime                                                              \n2022-01-01 00:00:00+00:00  46311.746094  46726.558594  46288.484375   \n2022-01-01 01:00:00+00:00  46723.667969  46888.292969  46650.351562   \n2022-01-01 02:00:00+00:00  46798.843750  46914.199219  46792.679688   \n2022-01-01 03:00:00+00:00  46836.500000  46861.910156  46800.742188   \n2022-01-01 04:00:00+00:00  46831.148438  46878.140625  46703.164062   \n...                                 ...           ...           ...   \n2022-06-29 19:00:00+00:00  20047.310547  20198.595703  20037.447266   \n2022-06-29 20:00:00+00:00  20207.066406  20355.212891  20147.673828   \n2022-06-29 21:00:00+00:00  20175.669922  20315.226562  20175.669922   \n2022-06-29 22:00:00+00:00  20281.054688  20301.333984  20163.611328   \n2022-06-29 23:00:00+00:00  20214.496094  20214.496094  20081.492188   \n\n                                  Close     Adj Close     Volume  \nDatetime                                                          \n2022-01-01 00:00:00+00:00  46726.558594  46726.558594          0  \n2022-01-01 01:00:00+00:00  46788.546875  46788.546875   56967168  \n2022-01-01 02:00:00+00:00  46830.488281  46830.488281          0  \n2022-01-01 03:00:00+00:00  46833.105469  46833.105469          0  \n2022-01-01 04:00:00+00:00  46778.796875  46778.796875   81956864  \n...                                 ...           ...        ...  \n2022-06-29 19:00:00+00:00  20198.595703  20198.595703          0  \n2022-06-29 20:00:00+00:00  20166.099609  20166.099609  370528256  \n2022-06-29 21:00:00+00:00  20281.796875  20281.796875   74731520  \n2022-06-29 22:00:00+00:00  20214.726562  20214.726562  419184640  \n2022-06-29 23:00:00+00:00  20095.292969  20095.292969          0  \n\n[4307 rows x 6 columns]",
      "text/html": "<div>\n<style scoped>\n    .dataframe tbody tr th:only-of-type {\n        vertical-align: middle;\n    }\n\n    .dataframe tbody tr th {\n        vertical-align: top;\n    }\n\n    .dataframe thead th {\n        text-align: right;\n    }\n</style>\n<table border=\"1\" class=\"dataframe\">\n  <thead>\n    <tr style=\"text-align: right;\">\n      <th></th>\n      <th>Open</th>\n      <th>High</th>\n      <th>Low</th>\n      <th>Close</th>\n      <th>Adj Close</th>\n      <th>Volume</th>\n    </tr>\n    <tr>\n      <th>Datetime</th>\n      <th></th>\n      <th></th>\n      <th></th>\n      <th></th>\n      <th></th>\n      <th></th>\n    </tr>\n  </thead>\n  <tbody>\n    <tr>\n      <th>2022-01-01 00:00:00+00:00</th>\n      <td>46311.746094</td>\n      <td>46726.558594</td>\n      <td>46288.484375</td>\n      <td>46726.558594</td>\n      <td>46726.558594</td>\n      <td>0</td>\n    </tr>\n    <tr>\n      <th>2022-01-01 01:00:00+00:00</th>\n      <td>46723.667969</td>\n      <td>46888.292969</td>\n      <td>46650.351562</td>\n      <td>46788.546875</td>\n      <td>46788.546875</td>\n      <td>56967168</td>\n    </tr>\n    <tr>\n      <th>2022-01-01 02:00:00+00:00</th>\n      <td>46798.843750</td>\n      <td>46914.199219</td>\n      <td>46792.679688</td>\n      <td>46830.488281</td>\n      <td>46830.488281</td>\n      <td>0</td>\n    </tr>\n    <tr>\n      <th>2022-01-01 03:00:00+00:00</th>\n      <td>46836.500000</td>\n      <td>46861.910156</td>\n      <td>46800.742188</td>\n      <td>46833.105469</td>\n      <td>46833.105469</td>\n      <td>0</td>\n    </tr>\n    <tr>\n      <th>2022-01-01 04:00:00+00:00</th>\n      <td>46831.148438</td>\n      <td>46878.140625</td>\n      <td>46703.164062</td>\n      <td>46778.796875</td>\n      <td>46778.796875</td>\n      <td>81956864</td>\n    </tr>\n    <tr>\n      <th>...</th>\n      <td>...</td>\n      <td>...</td>\n      <td>...</td>\n      <td>...</td>\n      <td>...</td>\n      <td>...</td>\n    </tr>\n    <tr>\n      <th>2022-06-29 19:00:00+00:00</th>\n      <td>20047.310547</td>\n      <td>20198.595703</td>\n      <td>20037.447266</td>\n      <td>20198.595703</td>\n      <td>20198.595703</td>\n      <td>0</td>\n    </tr>\n    <tr>\n      <th>2022-06-29 20:00:00+00:00</th>\n      <td>20207.066406</td>\n      <td>20355.212891</td>\n      <td>20147.673828</td>\n      <td>20166.099609</td>\n      <td>20166.099609</td>\n      <td>370528256</td>\n    </tr>\n    <tr>\n      <th>2022-06-29 21:00:00+00:00</th>\n      <td>20175.669922</td>\n      <td>20315.226562</td>\n      <td>20175.669922</td>\n      <td>20281.796875</td>\n      <td>20281.796875</td>\n      <td>74731520</td>\n    </tr>\n    <tr>\n      <th>2022-06-29 22:00:00+00:00</th>\n      <td>20281.054688</td>\n      <td>20301.333984</td>\n      <td>20163.611328</td>\n      <td>20214.726562</td>\n      <td>20214.726562</td>\n      <td>419184640</td>\n    </tr>\n    <tr>\n      <th>2022-06-29 23:00:00+00:00</th>\n      <td>20214.496094</td>\n      <td>20214.496094</td>\n      <td>20081.492188</td>\n      <td>20095.292969</td>\n      <td>20095.292969</td>\n      <td>0</td>\n    </tr>\n  </tbody>\n</table>\n<p>4307 rows × 6 columns</p>\n</div>"
     },
     "execution_count": 4,
     "metadata": {},
     "output_type": "execute_result"
    }
   ],
   "source": [
    "df"
   ],
   "metadata": {
    "collapsed": false,
    "pycharm": {
     "name": "#%%\n"
    }
   }
  },
  {
   "cell_type": "code",
   "execution_count": 11,
   "outputs": [],
   "source": [
    "import datetime\n",
    "import pandas as pd\n",
    "def timestamp_to_datetime(bitcoin_price):\n",
    "    # transform the timestamp to datetime\n",
    "    dt=[datetime.datetime.fromtimestamp(int(timestamp/1000)) for timestamp in bitcoin_price['Close time']]\n",
    "    formatted_data=[date.strftime(\"%Y-%m-%d %H:%M:%S\") for date in dt]\n",
    "    bitcoin_price['Close time']=pd.DataFrame(formatted_data)\n",
    "    bitcoin_price['Close time']=pd.to_datetime(bitcoin_price['Close time'])\n",
    "    # transforme the open timestamp to datatime\n",
    "    dt=[datetime.datetime.fromtimestamp(int(timestamp/1000)) for timestamp in bitcoin_price['Open time']]\n",
    "    formatted_data=[date.strftime(\"%Y-%m-%d %H:%M:%S\") for date in dt]\n",
    "    bitcoin_price['Open time']=pd.DataFrame(formatted_data)\n",
    "    bitcoin_price['Open time']=pd.to_datetime(bitcoin_price['Open time'])\n",
    "    return bitcoin_price"
   ],
   "metadata": {
    "collapsed": false,
    "pycharm": {
     "name": "#%%\n"
    }
   }
  },
  {
   "cell_type": "code",
   "execution_count": 16,
   "outputs": [],
   "source": [
    "columns_names=['Open time','Open','High','Low','Close','Volume','Close time','Quote asset volume','Number of trades','Taker buy base asset volume','Taker buy quote asset volume','Ignore']\n",
    "data_4_27=pd.read_csv('./../data/Price/Processed_BTCUSDT/BTCUSDT-1h-2022-04-27.csv',names=columns_names)\n",
    "data_4_27_trans=timestamp_to_datetime(data_4_27)\n"
   ],
   "metadata": {
    "collapsed": false,
    "pycharm": {
     "name": "#%%\n"
    }
   }
  },
  {
   "cell_type": "code",
   "execution_count": 18,
   "outputs": [],
   "source": [
    "data_4_27.to_csv('./../data/Price/Processed_BTCUSDT/NEW_BTCUSDT-1h-2022-04-27.csv')"
   ],
   "metadata": {
    "collapsed": false,
    "pycharm": {
     "name": "#%%\n"
    }
   }
  },
  {
   "cell_type": "code",
   "execution_count": null,
   "outputs": [],
   "source": [],
   "metadata": {
    "collapsed": false,
    "pycharm": {
     "name": "#%%\n"
    }
   }
  }
 ],
 "metadata": {
  "kernelspec": {
   "display_name": "Python 3",
   "language": "python",
   "name": "python3"
  },
  "language_info": {
   "codemirror_mode": {
    "name": "ipython",
    "version": 2
   },
   "file_extension": ".py",
   "mimetype": "text/x-python",
   "name": "python",
   "nbconvert_exporter": "python",
   "pygments_lexer": "ipython2",
   "version": "2.7.6"
  }
 },
 "nbformat": 4,
 "nbformat_minor": 0
}