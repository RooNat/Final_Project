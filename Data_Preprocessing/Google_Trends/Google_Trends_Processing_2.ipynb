{
 "cells": [
  {
   "cell_type": "markdown",
   "source": [
    "# Get scaled hourly google trends data"
   ],
   "metadata": {
    "collapsed": false,
    "pycharm": {
     "name": "#%% md\n"
    }
   }
  },
  {
   "cell_type": "code",
   "execution_count": 1,
   "outputs": [],
   "source": [
    "import datetime\n",
    "from pytrends.request import TrendReq\n",
    "import pandas as pd\n",
    "import numpy as np"
   ],
   "metadata": {
    "collapsed": false,
    "pycharm": {
     "name": "#%%\n"
    }
   }
  },
  {
   "cell_type": "code",
   "execution_count": 2,
   "outputs": [],
   "source": [
    "start_date=datetime.date(2021,12,24)\n",
    "end_date=datetime.date(2022,7,1)\n",
    "\n",
    "keyword_list=['Bitcoin']"
   ],
   "metadata": {
    "collapsed": false,
    "pycharm": {
     "name": "#%%\n"
    }
   }
  },
  {
   "cell_type": "code",
   "execution_count": 3,
   "outputs": [],
   "source": [
    "weekly_dates=[]\n",
    "\n",
    "temp_date_start=start_date\n",
    "weekly_dates.append(temp_date_start)\n",
    "\n",
    "while temp_date_start+datetime.timedelta(days=7) <= end_date:\n",
    "    temp_date_start+=datetime.timedelta(days=7)\n",
    "    weekly_dates.append(temp_date_start)\n",
    "\n",
    "if temp_date_start+datetime.timedelta(days=7) >end_date:\n",
    "    weekly_dates.append(end_date)"
   ],
   "metadata": {
    "collapsed": false,
    "pycharm": {
     "name": "#%%\n"
    }
   }
  },
  {
   "cell_type": "code",
   "execution_count": 4,
   "outputs": [
    {
     "data": {
      "text/plain": "[datetime.date(2021, 12, 24),\n datetime.date(2021, 12, 31),\n datetime.date(2022, 1, 7),\n datetime.date(2022, 1, 14),\n datetime.date(2022, 1, 21),\n datetime.date(2022, 1, 28),\n datetime.date(2022, 2, 4),\n datetime.date(2022, 2, 11),\n datetime.date(2022, 2, 18),\n datetime.date(2022, 2, 25),\n datetime.date(2022, 3, 4),\n datetime.date(2022, 3, 11),\n datetime.date(2022, 3, 18),\n datetime.date(2022, 3, 25),\n datetime.date(2022, 4, 1),\n datetime.date(2022, 4, 8),\n datetime.date(2022, 4, 15),\n datetime.date(2022, 4, 22),\n datetime.date(2022, 4, 29),\n datetime.date(2022, 5, 6),\n datetime.date(2022, 5, 13),\n datetime.date(2022, 5, 20),\n datetime.date(2022, 5, 27),\n datetime.date(2022, 6, 3),\n datetime.date(2022, 6, 10),\n datetime.date(2022, 6, 17),\n datetime.date(2022, 6, 24),\n datetime.date(2022, 7, 1),\n datetime.date(2022, 7, 1)]"
     },
     "execution_count": 4,
     "metadata": {},
     "output_type": "execute_result"
    }
   ],
   "source": [
    "weekly_dates"
   ],
   "metadata": {
    "collapsed": false,
    "pycharm": {
     "name": "#%%\n"
    }
   }
  },
  {
   "cell_type": "code",
   "execution_count": 5,
   "outputs": [
    {
     "name": "stdout",
     "output_type": "stream",
     "text": [
      "Call 1 of 28: Timeframe 2021-12-24T0 2021-12-31T0 \n",
      "Call 2 of 28: Timeframe 2021-12-31T0 2022-01-07T0 \n",
      "Call 3 of 28: Timeframe 2022-01-07T0 2022-01-14T0 \n",
      "Call 4 of 28: Timeframe 2022-01-14T0 2022-01-21T0 \n",
      "Call 5 of 28: Timeframe 2022-01-21T0 2022-01-28T0 \n",
      "Call 6 of 28: Timeframe 2022-01-28T0 2022-02-04T0 \n",
      "Call 7 of 28: Timeframe 2022-02-04T0 2022-02-11T0 \n",
      "Call 8 of 28: Timeframe 2022-02-11T0 2022-02-18T0 \n",
      "Call 9 of 28: Timeframe 2022-02-18T0 2022-02-25T0 \n",
      "Call 10 of 28: Timeframe 2022-02-25T0 2022-03-04T0 \n",
      "Call 11 of 28: Timeframe 2022-03-04T0 2022-03-11T0 \n",
      "Call 12 of 28: Timeframe 2022-03-11T0 2022-03-18T0 \n",
      "Call 13 of 28: Timeframe 2022-03-18T0 2022-03-25T0 \n",
      "Call 14 of 28: Timeframe 2022-03-25T0 2022-04-01T0 \n",
      "Call 15 of 28: Timeframe 2022-04-01T0 2022-04-08T0 \n",
      "Call 16 of 28: Timeframe 2022-04-08T0 2022-04-15T0 \n",
      "Call 17 of 28: Timeframe 2022-04-15T0 2022-04-22T0 \n",
      "Call 18 of 28: Timeframe 2022-04-22T0 2022-04-29T0 \n",
      "Call 19 of 28: Timeframe 2022-04-29T0 2022-05-06T0 \n",
      "Call 20 of 28: Timeframe 2022-05-06T0 2022-05-13T0 \n",
      "Call 21 of 28: Timeframe 2022-05-13T0 2022-05-20T0 \n",
      "Call 22 of 28: Timeframe 2022-05-20T0 2022-05-27T0 \n",
      "Call 23 of 28: Timeframe 2022-05-27T0 2022-06-03T0 \n",
      "Call 24 of 28: Timeframe 2022-06-03T0 2022-06-10T0 \n",
      "Call 25 of 28: Timeframe 2022-06-10T0 2022-06-17T0 \n",
      "Call 26 of 28: Timeframe 2022-06-17T0 2022-06-24T0 \n",
      "Call 27 of 28: Timeframe 2022-06-24T0 2022-07-01T0 \n",
      "Call 28 of 28: Timeframe 2022-07-01T0 2022-07-01T0 \n"
     ]
    }
   ],
   "source": [
    "trends_list=[]\n",
    "zone = \"T0\"\n",
    "for i in range(len(weekly_dates)-1):\n",
    "    get_date=str(weekly_dates[i])+zone+\" \"+str(weekly_dates[i+1])+zone\n",
    "    get_trends=TrendReq(retries=3, backoff_factor=0.5)\n",
    "    get_trends.build_payload(kw_list=keyword_list,timeframe=get_date)\n",
    "    temp_trends=get_trends.interest_over_time()\n",
    "    trends_list.append(temp_trends)\n",
    "    print(\"Call {} of {}: Timeframe {} \".format(i+1, len(weekly_dates)-1, get_date) )"
   ],
   "metadata": {
    "collapsed": false,
    "pycharm": {
     "name": "#%%\n"
    }
   }
  },
  {
   "cell_type": "code",
   "execution_count": 6,
   "outputs": [
    {
     "data": {
      "text/plain": "                     Bitcoin  isPartial\ndate                                   \n2021-12-24 00:00:00       79      False\n2021-12-24 01:00:00       83      False\n2021-12-24 02:00:00       81      False\n2021-12-24 03:00:00       84      False\n2021-12-24 04:00:00       77      False\n...                      ...        ...\n2021-12-30 20:00:00       76      False\n2021-12-30 21:00:00       82      False\n2021-12-30 22:00:00       77      False\n2021-12-30 23:00:00       74      False\n2021-12-31 00:00:00       74      False\n\n[169 rows x 2 columns]",
      "text/html": "<div>\n<style scoped>\n    .dataframe tbody tr th:only-of-type {\n        vertical-align: middle;\n    }\n\n    .dataframe tbody tr th {\n        vertical-align: top;\n    }\n\n    .dataframe thead th {\n        text-align: right;\n    }\n</style>\n<table border=\"1\" class=\"dataframe\">\n  <thead>\n    <tr style=\"text-align: right;\">\n      <th></th>\n      <th>Bitcoin</th>\n      <th>isPartial</th>\n    </tr>\n    <tr>\n      <th>date</th>\n      <th></th>\n      <th></th>\n    </tr>\n  </thead>\n  <tbody>\n    <tr>\n      <th>2021-12-24 00:00:00</th>\n      <td>79</td>\n      <td>False</td>\n    </tr>\n    <tr>\n      <th>2021-12-24 01:00:00</th>\n      <td>83</td>\n      <td>False</td>\n    </tr>\n    <tr>\n      <th>2021-12-24 02:00:00</th>\n      <td>81</td>\n      <td>False</td>\n    </tr>\n    <tr>\n      <th>2021-12-24 03:00:00</th>\n      <td>84</td>\n      <td>False</td>\n    </tr>\n    <tr>\n      <th>2021-12-24 04:00:00</th>\n      <td>77</td>\n      <td>False</td>\n    </tr>\n    <tr>\n      <th>...</th>\n      <td>...</td>\n      <td>...</td>\n    </tr>\n    <tr>\n      <th>2021-12-30 20:00:00</th>\n      <td>76</td>\n      <td>False</td>\n    </tr>\n    <tr>\n      <th>2021-12-30 21:00:00</th>\n      <td>82</td>\n      <td>False</td>\n    </tr>\n    <tr>\n      <th>2021-12-30 22:00:00</th>\n      <td>77</td>\n      <td>False</td>\n    </tr>\n    <tr>\n      <th>2021-12-30 23:00:00</th>\n      <td>74</td>\n      <td>False</td>\n    </tr>\n    <tr>\n      <th>2021-12-31 00:00:00</th>\n      <td>74</td>\n      <td>False</td>\n    </tr>\n  </tbody>\n</table>\n<p>169 rows × 2 columns</p>\n</div>"
     },
     "execution_count": 6,
     "metadata": {},
     "output_type": "execute_result"
    }
   ],
   "source": [
    "trends_list[0]"
   ],
   "metadata": {
    "collapsed": false,
    "pycharm": {
     "name": "#%%\n"
    }
   }
  },
  {
   "cell_type": "code",
   "execution_count": 7,
   "outputs": [],
   "source": [
    "trend=trends_list[0:-1]"
   ],
   "metadata": {
    "collapsed": false,
    "pycharm": {
     "name": "#%%\n"
    }
   }
  },
  {
   "cell_type": "code",
   "execution_count": 8,
   "outputs": [],
   "source": [
    "for i, data in enumerate(trend):\n",
    "    data.drop(columns=['isPartial'], inplace=True)"
   ],
   "metadata": {
    "collapsed": false,
    "pycharm": {
     "name": "#%%\n"
    }
   }
  },
  {
   "cell_type": "code",
   "execution_count": 9,
   "outputs": [],
   "source": [
    "keyword=keyword_list[0]\n",
    "for i in range(len(trend)-1):\n",
    "    temp_ratio=float(trend[i][keyword].iloc[-1])/float(trend[i+1][keyword].iloc[0])\n",
    "    trend[i+1]['ratio']=temp_ratio\n",
    "    trend[0]['Scaled Value']=trend[0][keyword]\n",
    "    trend[0]['ratio']=0\n",
    "    trend[i+1]['Scaled Value']=trend[i+1][keyword].apply(lambda x: x*trend[i+1]['ratio'].iloc[0])\n",
    "    trend[i+1][keyword]=trend[i+1]['Scaled Value']"
   ],
   "metadata": {
    "collapsed": false,
    "pycharm": {
     "name": "#%%\n"
    }
   }
  },
  {
   "cell_type": "code",
   "execution_count": 10,
   "outputs": [
    {
     "data": {
      "text/plain": "                        Bitcoin     ratio  Scaled Value\ndate                                                   \n2022-06-24 00:00:00   96.976185  1.310489     96.976185\n2022-06-24 01:00:00   83.871295  1.310489     83.871295\n2022-06-24 02:00:00   82.560806  1.310489     82.560806\n2022-06-24 03:00:00   89.113251  1.310489     89.113251\n2022-06-24 04:00:00   85.181784  1.310489     85.181784\n...                         ...       ...           ...\n2022-06-30 20:00:00  127.117432  1.310489    127.117432\n2022-06-30 21:00:00  129.738410  1.310489    129.738410\n2022-06-30 22:00:00  131.048899  1.310489    131.048899\n2022-06-30 23:00:00  111.391564  1.310489    111.391564\n2022-07-01 00:00:00  104.839119  1.310489    104.839119\n\n[169 rows x 3 columns]",
      "text/html": "<div>\n<style scoped>\n    .dataframe tbody tr th:only-of-type {\n        vertical-align: middle;\n    }\n\n    .dataframe tbody tr th {\n        vertical-align: top;\n    }\n\n    .dataframe thead th {\n        text-align: right;\n    }\n</style>\n<table border=\"1\" class=\"dataframe\">\n  <thead>\n    <tr style=\"text-align: right;\">\n      <th></th>\n      <th>Bitcoin</th>\n      <th>ratio</th>\n      <th>Scaled Value</th>\n    </tr>\n    <tr>\n      <th>date</th>\n      <th></th>\n      <th></th>\n      <th></th>\n    </tr>\n  </thead>\n  <tbody>\n    <tr>\n      <th>2022-06-24 00:00:00</th>\n      <td>96.976185</td>\n      <td>1.310489</td>\n      <td>96.976185</td>\n    </tr>\n    <tr>\n      <th>2022-06-24 01:00:00</th>\n      <td>83.871295</td>\n      <td>1.310489</td>\n      <td>83.871295</td>\n    </tr>\n    <tr>\n      <th>2022-06-24 02:00:00</th>\n      <td>82.560806</td>\n      <td>1.310489</td>\n      <td>82.560806</td>\n    </tr>\n    <tr>\n      <th>2022-06-24 03:00:00</th>\n      <td>89.113251</td>\n      <td>1.310489</td>\n      <td>89.113251</td>\n    </tr>\n    <tr>\n      <th>2022-06-24 04:00:00</th>\n      <td>85.181784</td>\n      <td>1.310489</td>\n      <td>85.181784</td>\n    </tr>\n    <tr>\n      <th>...</th>\n      <td>...</td>\n      <td>...</td>\n      <td>...</td>\n    </tr>\n    <tr>\n      <th>2022-06-30 20:00:00</th>\n      <td>127.117432</td>\n      <td>1.310489</td>\n      <td>127.117432</td>\n    </tr>\n    <tr>\n      <th>2022-06-30 21:00:00</th>\n      <td>129.738410</td>\n      <td>1.310489</td>\n      <td>129.738410</td>\n    </tr>\n    <tr>\n      <th>2022-06-30 22:00:00</th>\n      <td>131.048899</td>\n      <td>1.310489</td>\n      <td>131.048899</td>\n    </tr>\n    <tr>\n      <th>2022-06-30 23:00:00</th>\n      <td>111.391564</td>\n      <td>1.310489</td>\n      <td>111.391564</td>\n    </tr>\n    <tr>\n      <th>2022-07-01 00:00:00</th>\n      <td>104.839119</td>\n      <td>1.310489</td>\n      <td>104.839119</td>\n    </tr>\n  </tbody>\n</table>\n<p>169 rows × 3 columns</p>\n</div>"
     },
     "execution_count": 10,
     "metadata": {},
     "output_type": "execute_result"
    }
   ],
   "source": [
    "trend[-1]"
   ],
   "metadata": {
    "collapsed": false,
    "pycharm": {
     "name": "#%%\n"
    }
   }
  },
  {
   "cell_type": "code",
   "execution_count": 11,
   "outputs": [],
   "source": [
    "df=pd.concat(trend)"
   ],
   "metadata": {
    "collapsed": false,
    "pycharm": {
     "name": "#%%\n"
    }
   }
  },
  {
   "cell_type": "code",
   "execution_count": 12,
   "outputs": [
    {
     "data": {
      "text/plain": "                        Bitcoin  Scaled Value     ratio\ndate                                                   \n2021-12-24 00:00:00   79.000000     79.000000  0.000000\n2021-12-24 01:00:00   83.000000     83.000000  0.000000\n2021-12-24 02:00:00   81.000000     81.000000  0.000000\n2021-12-24 03:00:00   84.000000     84.000000  0.000000\n2021-12-24 04:00:00   77.000000     77.000000  0.000000\n...                         ...           ...       ...\n2022-06-30 20:00:00  127.117432    127.117432  1.310489\n2022-06-30 21:00:00  129.738410    129.738410  1.310489\n2022-06-30 22:00:00  131.048899    131.048899  1.310489\n2022-06-30 23:00:00  111.391564    111.391564  1.310489\n2022-07-01 00:00:00  104.839119    104.839119  1.310489\n\n[4563 rows x 3 columns]",
      "text/html": "<div>\n<style scoped>\n    .dataframe tbody tr th:only-of-type {\n        vertical-align: middle;\n    }\n\n    .dataframe tbody tr th {\n        vertical-align: top;\n    }\n\n    .dataframe thead th {\n        text-align: right;\n    }\n</style>\n<table border=\"1\" class=\"dataframe\">\n  <thead>\n    <tr style=\"text-align: right;\">\n      <th></th>\n      <th>Bitcoin</th>\n      <th>Scaled Value</th>\n      <th>ratio</th>\n    </tr>\n    <tr>\n      <th>date</th>\n      <th></th>\n      <th></th>\n      <th></th>\n    </tr>\n  </thead>\n  <tbody>\n    <tr>\n      <th>2021-12-24 00:00:00</th>\n      <td>79.000000</td>\n      <td>79.000000</td>\n      <td>0.000000</td>\n    </tr>\n    <tr>\n      <th>2021-12-24 01:00:00</th>\n      <td>83.000000</td>\n      <td>83.000000</td>\n      <td>0.000000</td>\n    </tr>\n    <tr>\n      <th>2021-12-24 02:00:00</th>\n      <td>81.000000</td>\n      <td>81.000000</td>\n      <td>0.000000</td>\n    </tr>\n    <tr>\n      <th>2021-12-24 03:00:00</th>\n      <td>84.000000</td>\n      <td>84.000000</td>\n      <td>0.000000</td>\n    </tr>\n    <tr>\n      <th>2021-12-24 04:00:00</th>\n      <td>77.000000</td>\n      <td>77.000000</td>\n      <td>0.000000</td>\n    </tr>\n    <tr>\n      <th>...</th>\n      <td>...</td>\n      <td>...</td>\n      <td>...</td>\n    </tr>\n    <tr>\n      <th>2022-06-30 20:00:00</th>\n      <td>127.117432</td>\n      <td>127.117432</td>\n      <td>1.310489</td>\n    </tr>\n    <tr>\n      <th>2022-06-30 21:00:00</th>\n      <td>129.738410</td>\n      <td>129.738410</td>\n      <td>1.310489</td>\n    </tr>\n    <tr>\n      <th>2022-06-30 22:00:00</th>\n      <td>131.048899</td>\n      <td>131.048899</td>\n      <td>1.310489</td>\n    </tr>\n    <tr>\n      <th>2022-06-30 23:00:00</th>\n      <td>111.391564</td>\n      <td>111.391564</td>\n      <td>1.310489</td>\n    </tr>\n    <tr>\n      <th>2022-07-01 00:00:00</th>\n      <td>104.839119</td>\n      <td>104.839119</td>\n      <td>1.310489</td>\n    </tr>\n  </tbody>\n</table>\n<p>4563 rows × 3 columns</p>\n</div>"
     },
     "execution_count": 12,
     "metadata": {},
     "output_type": "execute_result"
    }
   ],
   "source": [
    "df"
   ],
   "metadata": {
    "collapsed": false,
    "pycharm": {
     "name": "#%%\n"
    }
   }
  },
  {
   "cell_type": "code",
   "execution_count": 13,
   "outputs": [],
   "source": [
    "df_without_duplicates = df[~df.index.duplicated(keep='last')]"
   ],
   "metadata": {
    "collapsed": false,
    "pycharm": {
     "name": "#%%\n"
    }
   }
  },
  {
   "cell_type": "code",
   "execution_count": 14,
   "outputs": [
    {
     "name": "stderr",
     "output_type": "stream",
     "text": [
      "/Users/yujiewang/anaconda3/envs/py37/lib/python3.7/site-packages/ipykernel_launcher.py:2: SettingWithCopyWarning: \n",
      "A value is trying to be set on a copy of a slice from a DataFrame.\n",
      "Try using .loc[row_indexer,col_indexer] = value instead\n",
      "\n",
      "See the caveats in the documentation: https://pandas.pydata.org/pandas-docs/stable/user_guide/indexing.html#returning-a-view-versus-a-copy\n",
      "  \n"
     ]
    }
   ],
   "source": [
    "max_trend_value=np.max(df_without_duplicates['Scaled Value'])\n",
    "df_without_duplicates['Bitcoin trend']=df_without_duplicates['Scaled Value']/max_trend_value *100"
   ],
   "metadata": {
    "collapsed": false,
    "pycharm": {
     "name": "#%%\n"
    }
   }
  },
  {
   "cell_type": "code",
   "execution_count": 15,
   "outputs": [
    {
     "data": {
      "text/plain": "                        Bitcoin  Scaled Value     ratio  Bitcoin trend\ndate                                                                  \n2021-12-24 00:00:00   79.000000     79.000000  0.000000      21.180458\n2021-12-24 01:00:00   83.000000     83.000000  0.000000      22.252886\n2021-12-24 02:00:00   81.000000     81.000000  0.000000      21.716672\n2021-12-24 03:00:00   84.000000     84.000000  0.000000      22.520993\n2021-12-24 04:00:00   77.000000     77.000000  0.000000      20.644244\n...                         ...           ...       ...            ...\n2022-06-30 20:00:00  127.117432    127.117432  1.310489      34.081081\n2022-06-30 21:00:00  129.738410    129.738410  1.310489      34.783784\n2022-06-30 22:00:00  131.048899    131.048899  1.310489      35.135135\n2022-06-30 23:00:00  111.391564    111.391564  1.310489      29.864865\n2022-07-01 00:00:00  104.839119    104.839119  1.310489      28.108108\n\n[4537 rows x 4 columns]",
      "text/html": "<div>\n<style scoped>\n    .dataframe tbody tr th:only-of-type {\n        vertical-align: middle;\n    }\n\n    .dataframe tbody tr th {\n        vertical-align: top;\n    }\n\n    .dataframe thead th {\n        text-align: right;\n    }\n</style>\n<table border=\"1\" class=\"dataframe\">\n  <thead>\n    <tr style=\"text-align: right;\">\n      <th></th>\n      <th>Bitcoin</th>\n      <th>Scaled Value</th>\n      <th>ratio</th>\n      <th>Bitcoin trend</th>\n    </tr>\n    <tr>\n      <th>date</th>\n      <th></th>\n      <th></th>\n      <th></th>\n      <th></th>\n    </tr>\n  </thead>\n  <tbody>\n    <tr>\n      <th>2021-12-24 00:00:00</th>\n      <td>79.000000</td>\n      <td>79.000000</td>\n      <td>0.000000</td>\n      <td>21.180458</td>\n    </tr>\n    <tr>\n      <th>2021-12-24 01:00:00</th>\n      <td>83.000000</td>\n      <td>83.000000</td>\n      <td>0.000000</td>\n      <td>22.252886</td>\n    </tr>\n    <tr>\n      <th>2021-12-24 02:00:00</th>\n      <td>81.000000</td>\n      <td>81.000000</td>\n      <td>0.000000</td>\n      <td>21.716672</td>\n    </tr>\n    <tr>\n      <th>2021-12-24 03:00:00</th>\n      <td>84.000000</td>\n      <td>84.000000</td>\n      <td>0.000000</td>\n      <td>22.520993</td>\n    </tr>\n    <tr>\n      <th>2021-12-24 04:00:00</th>\n      <td>77.000000</td>\n      <td>77.000000</td>\n      <td>0.000000</td>\n      <td>20.644244</td>\n    </tr>\n    <tr>\n      <th>...</th>\n      <td>...</td>\n      <td>...</td>\n      <td>...</td>\n      <td>...</td>\n    </tr>\n    <tr>\n      <th>2022-06-30 20:00:00</th>\n      <td>127.117432</td>\n      <td>127.117432</td>\n      <td>1.310489</td>\n      <td>34.081081</td>\n    </tr>\n    <tr>\n      <th>2022-06-30 21:00:00</th>\n      <td>129.738410</td>\n      <td>129.738410</td>\n      <td>1.310489</td>\n      <td>34.783784</td>\n    </tr>\n    <tr>\n      <th>2022-06-30 22:00:00</th>\n      <td>131.048899</td>\n      <td>131.048899</td>\n      <td>1.310489</td>\n      <td>35.135135</td>\n    </tr>\n    <tr>\n      <th>2022-06-30 23:00:00</th>\n      <td>111.391564</td>\n      <td>111.391564</td>\n      <td>1.310489</td>\n      <td>29.864865</td>\n    </tr>\n    <tr>\n      <th>2022-07-01 00:00:00</th>\n      <td>104.839119</td>\n      <td>104.839119</td>\n      <td>1.310489</td>\n      <td>28.108108</td>\n    </tr>\n  </tbody>\n</table>\n<p>4537 rows × 4 columns</p>\n</div>"
     },
     "execution_count": 15,
     "metadata": {},
     "output_type": "execute_result"
    }
   ],
   "source": [
    "df_without_duplicates"
   ],
   "metadata": {
    "collapsed": false,
    "pycharm": {
     "name": "#%%\n"
    }
   }
  },
  {
   "cell_type": "code",
   "execution_count": 16,
   "outputs": [
    {
     "data": {
      "text/plain": "[<matplotlib.lines.Line2D at 0x7fd5b9b81890>]"
     },
     "execution_count": 16,
     "metadata": {},
     "output_type": "execute_result"
    },
    {
     "data": {
      "text/plain": "<Figure size 640x480 with 1 Axes>",
      "image/png": "[encoded data removed]"
     },
     "metadata": {},
     "output_type": "display_data"
    }
   ],
   "source": [
    "import matplotlib.pyplot as plt\n",
    "plt.plot(df_without_duplicates['Bitcoin trend'])"
   ],
   "metadata": {
    "collapsed": false,
    "pycharm": {
     "name": "#%%\n"
    }
   }
  },
  {
   "cell_type": "code",
   "execution_count": 17,
   "outputs": [
    {
     "data": {
      "text/plain": "                     Scaled Value  Bitcoin trend\ndate                                            \n2021-12-24 00:00:00     79.000000      21.180458\n2021-12-24 01:00:00     83.000000      22.252886\n2021-12-24 02:00:00     81.000000      21.716672\n2021-12-24 03:00:00     84.000000      22.520993\n2021-12-24 04:00:00     77.000000      20.644244\n...                           ...            ...\n2022-06-30 20:00:00    127.117432      34.081081\n2022-06-30 21:00:00    129.738410      34.783784\n2022-06-30 22:00:00    131.048899      35.135135\n2022-06-30 23:00:00    111.391564      29.864865\n2022-07-01 00:00:00    104.839119      28.108108\n\n[4537 rows x 2 columns]",
      "text/html": "<div>\n<style scoped>\n    .dataframe tbody tr th:only-of-type {\n        vertical-align: middle;\n    }\n\n    .dataframe tbody tr th {\n        vertical-align: top;\n    }\n\n    .dataframe thead th {\n        text-align: right;\n    }\n</style>\n<table border=\"1\" class=\"dataframe\">\n  <thead>\n    <tr style=\"text-align: right;\">\n      <th></th>\n      <th>Scaled Value</th>\n      <th>Bitcoin trend</th>\n    </tr>\n    <tr>\n      <th>date</th>\n      <th></th>\n      <th></th>\n    </tr>\n  </thead>\n  <tbody>\n    <tr>\n      <th>2021-12-24 00:00:00</th>\n      <td>79.000000</td>\n      <td>21.180458</td>\n    </tr>\n    <tr>\n      <th>2021-12-24 01:00:00</th>\n      <td>83.000000</td>\n      <td>22.252886</td>\n    </tr>\n    <tr>\n      <th>2021-12-24 02:00:00</th>\n      <td>81.000000</td>\n      <td>21.716672</td>\n    </tr>\n    <tr>\n      <th>2021-12-24 03:00:00</th>\n      <td>84.000000</td>\n      <td>22.520993</td>\n    </tr>\n    <tr>\n      <th>2021-12-24 04:00:00</th>\n      <td>77.000000</td>\n      <td>20.644244</td>\n    </tr>\n    <tr>\n      <th>...</th>\n      <td>...</td>\n      <td>...</td>\n    </tr>\n    <tr>\n      <th>2022-06-30 20:00:00</th>\n      <td>127.117432</td>\n      <td>34.081081</td>\n    </tr>\n    <tr>\n      <th>2022-06-30 21:00:00</th>\n      <td>129.738410</td>\n      <td>34.783784</td>\n    </tr>\n    <tr>\n      <th>2022-06-30 22:00:00</th>\n      <td>131.048899</td>\n      <td>35.135135</td>\n    </tr>\n    <tr>\n      <th>2022-06-30 23:00:00</th>\n      <td>111.391564</td>\n      <td>29.864865</td>\n    </tr>\n    <tr>\n      <th>2022-07-01 00:00:00</th>\n      <td>104.839119</td>\n      <td>28.108108</td>\n    </tr>\n  </tbody>\n</table>\n<p>4537 rows × 2 columns</p>\n</div>"
     },
     "execution_count": 17,
     "metadata": {},
     "output_type": "execute_result"
    }
   ],
   "source": [
    "df_scaled=df_without_duplicates.drop(columns=['ratio','Bitcoin'])\n",
    "df_scaled"
   ],
   "metadata": {
    "collapsed": false,
    "pycharm": {
     "name": "#%%\n"
    }
   }
  },
  {
   "cell_type": "code",
   "execution_count": 18,
   "outputs": [],
   "source": [
    "df_scaled.to_csv(\"./../../data/Google Trends/Trends_replace.csv\")"
   ],
   "metadata": {
    "collapsed": false,
    "pycharm": {
     "name": "#%%\n"
    }
   }
  },
  {
   "cell_type": "code",
   "execution_count": 18,
   "outputs": [],
   "source": [],
   "metadata": {
    "collapsed": false,
    "pycharm": {
     "name": "#%%\n"
    }
   }
  }
 ],
 "metadata": {
  "kernelspec": {
   "display_name": "Python 3",
   "language": "python",
   "name": "python3"
  },
  "language_info": {
   "codemirror_mode": {
    "name": "ipython",
    "version": 2
   },
   "file_extension": ".py",
   "mimetype": "text/x-python",
   "name": "python",
   "nbconvert_exporter": "python",
   "pygments_lexer": "ipython2",
   "version": "2.7.6"
  }
 },
 "nbformat": 4,
 "nbformat_minor": 0
}