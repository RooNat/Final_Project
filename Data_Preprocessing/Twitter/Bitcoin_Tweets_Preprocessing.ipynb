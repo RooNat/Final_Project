{
 "cells": [
  {
   "cell_type": "markdown",
   "source": [
    "# Tweets Sentiment Analysis"
   ],
   "metadata": {
    "collapsed": false,
    "pycharm": {
     "name": "#%% md\n"
    }
   }
  },
  {
   "cell_type": "code",
   "execution_count": 24,
   "outputs": [],
   "source": [
    "import pandas as pd\n",
    "import numpy as np\n"
   ],
   "metadata": {
    "collapsed": false,
    "pycharm": {
     "name": "#%%\n"
    }
   }
  },
  {
   "cell_type": "markdown",
   "source": [
    "## Tweets Sentiment Analysis"
   ],
   "metadata": {
    "collapsed": false,
    "pycharm": {
     "name": "#%% md\n"
    }
   }
  },
  {
   "cell_type": "code",
   "execution_count": 25,
   "outputs": [
    {
     "data": {
      "text/plain": "              datetime        username  \\\n0  2022-01-01 23:00:00   priconoticias   \n1  2022-01-01 23:00:00  mmonlineonline   \n2  2022-01-01 23:00:00  CoachKevinRose   \n3  2022-01-01 23:00:00  robert54177167   \n4  2022-01-01 23:00:00  WorldCoinIndex   \n5  2022-01-01 23:00:00    CommodoreBTC   \n6  2022-01-01 23:00:00     Raybonthird   \n7  2022-01-01 23:00:00          jhamby   \n8  2022-01-01 23:00:00       AxolotolH   \n9  2022-01-01 23:00:00     nyan_lou618   \n\n                                                text  \n0  0.4MOT TOKENS IN #LATOKEN  airdrop and maybe m...  \n1  MARA for Bitcoin Exposure: Top Trade Q1 2022 h...  \n2  Every Time the Bell Rings The Titano makes MON...  \n3  If your interested in losing money in 2022 kee...  \n4  Bitcoin price index https://t.co/o7UcHJUhC6 #U...  \n5  @JesseKellyDC Money is at the root of every in...  \n6  @nikitabier People want a basis of truth for t...  \n7  It means the opposite of what they want it to....  \n8  @SirPantsALot2 @fairguinevere @totallynotem_ @...  \n9  BTC diamond reversal and expected volatility f...  ",
      "text/html": "<div>\n<style scoped>\n    .dataframe tbody tr th:only-of-type {\n        vertical-align: middle;\n    }\n\n    .dataframe tbody tr th {\n        vertical-align: top;\n    }\n\n    .dataframe thead th {\n        text-align: right;\n    }\n</style>\n<table border=\"1\" class=\"dataframe\">\n  <thead>\n    <tr style=\"text-align: right;\">\n      <th></th>\n      <th>datetime</th>\n      <th>username</th>\n      <th>text</th>\n    </tr>\n  </thead>\n  <tbody>\n    <tr>\n      <th>0</th>\n      <td>2022-01-01 23:00:00</td>\n      <td>priconoticias</td>\n      <td>0.4MOT TOKENS IN #LATOKEN  airdrop and maybe m...</td>\n    </tr>\n    <tr>\n      <th>1</th>\n      <td>2022-01-01 23:00:00</td>\n      <td>mmonlineonline</td>\n      <td>MARA for Bitcoin Exposure: Top Trade Q1 2022 h...</td>\n    </tr>\n    <tr>\n      <th>2</th>\n      <td>2022-01-01 23:00:00</td>\n      <td>CoachKevinRose</td>\n      <td>Every Time the Bell Rings The Titano makes MON...</td>\n    </tr>\n    <tr>\n      <th>3</th>\n      <td>2022-01-01 23:00:00</td>\n      <td>robert54177167</td>\n      <td>If your interested in losing money in 2022 kee...</td>\n    </tr>\n    <tr>\n      <th>4</th>\n      <td>2022-01-01 23:00:00</td>\n      <td>WorldCoinIndex</td>\n      <td>Bitcoin price index https://t.co/o7UcHJUhC6 #U...</td>\n    </tr>\n    <tr>\n      <th>5</th>\n      <td>2022-01-01 23:00:00</td>\n      <td>CommodoreBTC</td>\n      <td>@JesseKellyDC Money is at the root of every in...</td>\n    </tr>\n    <tr>\n      <th>6</th>\n      <td>2022-01-01 23:00:00</td>\n      <td>Raybonthird</td>\n      <td>@nikitabier People want a basis of truth for t...</td>\n    </tr>\n    <tr>\n      <th>7</th>\n      <td>2022-01-01 23:00:00</td>\n      <td>jhamby</td>\n      <td>It means the opposite of what they want it to....</td>\n    </tr>\n    <tr>\n      <th>8</th>\n      <td>2022-01-01 23:00:00</td>\n      <td>AxolotolH</td>\n      <td>@SirPantsALot2 @fairguinevere @totallynotem_ @...</td>\n    </tr>\n    <tr>\n      <th>9</th>\n      <td>2022-01-01 23:00:00</td>\n      <td>nyan_lou618</td>\n      <td>BTC diamond reversal and expected volatility f...</td>\n    </tr>\n  </tbody>\n</table>\n</div>"
     },
     "execution_count": 25,
     "metadata": {},
     "output_type": "execute_result"
    }
   ],
   "source": [
    "tweets=pd.read_csv('./data/Twitter/tweets.csv')\n",
    "tweets.head(10)"
   ],
   "metadata": {
    "collapsed": false,
    "pycharm": {
     "name": "#%%\n"
    }
   }
  },
  {
   "cell_type": "code",
   "execution_count": 26,
   "outputs": [
    {
     "data": {
      "text/plain": "                   datetime        username  \\\ncount               8173354         8173342   \nunique                 4330         1038412   \ntop     2022-02-23 16:00:00  cripto_informe   \nfreq                 127753          198778   \n\n                                                     text  \ncount                                             8173342  \nunique                                            6964076  \ntop     Consolidation setting up for next level moving...  \nfreq                                               125729  ",
      "text/html": "<div>\n<style scoped>\n    .dataframe tbody tr th:only-of-type {\n        vertical-align: middle;\n    }\n\n    .dataframe tbody tr th {\n        vertical-align: top;\n    }\n\n    .dataframe thead th {\n        text-align: right;\n    }\n</style>\n<table border=\"1\" class=\"dataframe\">\n  <thead>\n    <tr style=\"text-align: right;\">\n      <th></th>\n      <th>datetime</th>\n      <th>username</th>\n      <th>text</th>\n    </tr>\n  </thead>\n  <tbody>\n    <tr>\n      <th>count</th>\n      <td>8173354</td>\n      <td>8173342</td>\n      <td>8173342</td>\n    </tr>\n    <tr>\n      <th>unique</th>\n      <td>4330</td>\n      <td>1038412</td>\n      <td>6964076</td>\n    </tr>\n    <tr>\n      <th>top</th>\n      <td>2022-02-23 16:00:00</td>\n      <td>cripto_informe</td>\n      <td>Consolidation setting up for next level moving...</td>\n    </tr>\n    <tr>\n      <th>freq</th>\n      <td>127753</td>\n      <td>198778</td>\n      <td>125729</td>\n    </tr>\n  </tbody>\n</table>\n</div>"
     },
     "execution_count": 26,
     "metadata": {},
     "output_type": "execute_result"
    }
   ],
   "source": [
    "tweets.describe()"
   ],
   "metadata": {
    "collapsed": false,
    "pycharm": {
     "name": "#%%\n"
    }
   }
  },
  {
   "cell_type": "markdown",
   "source": [
    "### Cleaning the text"
   ],
   "metadata": {
    "collapsed": false,
    "pycharm": {
     "name": "#%% md\n"
    }
   }
  },
  {
   "cell_type": "markdown",
   "source": [
    "#### Filter the tweets"
   ],
   "metadata": {
    "collapsed": false,
    "pycharm": {
     "name": "#%% md\n"
    }
   }
  },
  {
   "cell_type": "code",
   "execution_count": 27,
   "outputs": [
    {
     "name": "stdout",
     "output_type": "stream",
     "text": [
      "5711375\n"
     ]
    }
   ],
   "source": [
    "tweets_data = tweets.groupby('username').filter(lambda x : len(x)<1000)\n",
    "print(len(tweets_data))"
   ],
   "metadata": {
    "collapsed": false,
    "pycharm": {
     "name": "#%%\n"
    }
   }
  },
  {
   "cell_type": "markdown",
   "source": [
    "#### Remove the noise words and stop words"
   ],
   "metadata": {
    "collapsed": false,
    "pycharm": {
     "name": "#%% md\n"
    }
   }
  },
  {
   "cell_type": "code",
   "execution_count": 28,
   "outputs": [],
   "source": [
    "noise_words = ['free', 'freebitcoin', 'freeminingsoftware', 'freebitco', 'free bitcoin', 'makemoney', 'make money', 'give away','giving away','register', 'pump','join',\n",
    "          'abtcl', 'tradingtool', 'trading tool', 'residualbitcoin', 'faucet', 'casino',\n",
    "          'simplefx', 'nitrogensportsbook', 'makeyourownlane', 'bet', 'bitcoinbet', 'webbot', 'win', 'game', 'lottery',\n",
    "          'bitcoinprice','bitcoin price' , 'mpgvip', 'footballcoin', 'earnbitcoin', 'earn bitcoin',\n",
    "           'trading', 'price', 'performing currency', 'altcoin', 'fintech', 'pic']"
   ],
   "metadata": {
    "collapsed": false,
    "pycharm": {
     "name": "#%%\n"
    }
   }
  },
  {
   "cell_type": "code",
   "execution_count": 29,
   "outputs": [],
   "source": [
    "tweets_data = tweets_data[~tweets_data.text.str.contains('|'.join(noise_words))]"
   ],
   "metadata": {
    "collapsed": false,
    "pycharm": {
     "name": "#%%\n"
    }
   }
  },
  {
   "cell_type": "code",
   "execution_count": 30,
   "outputs": [
    {
     "name": "stdout",
     "output_type": "stream",
     "text": [
      "4755975\n"
     ]
    }
   ],
   "source": [
    "print(len(tweets_data))"
   ],
   "metadata": {
    "collapsed": false,
    "pycharm": {
     "name": "#%%\n"
    }
   }
  },
  {
   "cell_type": "markdown",
   "source": [
    "#### Clean Text"
   ],
   "metadata": {
    "collapsed": false,
    "pycharm": {
     "name": "#%% md\n"
    }
   }
  },
  {
   "cell_type": "code",
   "execution_count": 31,
   "outputs": [
    {
     "name": "stderr",
     "output_type": "stream",
     "text": [
      "[nltk_data] Downloading package stopwords to\n",
      "[nltk_data]     /Users/yujiewang/nltk_data...\n",
      "[nltk_data]   Package stopwords is already up-to-date!\n"
     ]
    },
    {
     "data": {
      "text/plain": "True"
     },
     "execution_count": 31,
     "metadata": {},
     "output_type": "execute_result"
    }
   ],
   "source": [
    "import sys\n",
    "import regex as re\n",
    "from nltk.corpus import stopwords\n",
    "import string\n",
    "from string import digits\n",
    "import contractions\n",
    "import nltk\n",
    "import json\n",
    "\n",
    "from nltk import word_tokenize\n",
    "nltk.download('stopwords')"
   ],
   "metadata": {
    "collapsed": false,
    "pycharm": {
     "name": "#%%\n"
    }
   }
  },
  {
   "cell_type": "code",
   "execution_count": 32,
   "outputs": [],
   "source": [
    "file_path = './data/abbreviations.json'\n",
    "\n",
    "with open(file_path, 'r') as json_file:\n",
    "    json_data = json.load(json_file)\n",
    "    abbreviations = json_data['abbreviations']"
   ],
   "metadata": {
    "collapsed": false,
    "pycharm": {
     "name": "#%%\n"
    }
   }
  },
  {
   "cell_type": "code",
   "execution_count": 33,
   "outputs": [
    {
     "name": "stderr",
     "output_type": "stream",
     "text": [
      "[nltk_data] Downloading package wordnet to\n",
      "[nltk_data]     /Users/yujiewang/nltk_data...\n",
      "[nltk_data]   Package wordnet is already up-to-date!\n"
     ]
    }
   ],
   "source": [
    "nltk.download('wordnet')\n",
    "lemma_sents = []\n",
    "def lemma(text):\n",
    "    lemmatizer = nltk.WordNetLemmatizer()\n",
    "    lemma_sent=[lemmatizer.lemmatize(word) for word in text]\n",
    "    lemma_text=' '.join(lemma_sent)\n",
    "    return lemma_text"
   ],
   "metadata": {
    "collapsed": false,
    "pycharm": {
     "name": "#%%\n"
    }
   }
  },
  {
   "cell_type": "code",
   "execution_count": 34,
   "outputs": [],
   "source": [
    "def convert_abbrev(word):\n",
    "    return abbreviations[word.lower()] if word.lower() in abbreviations.keys() else word"
   ],
   "metadata": {
    "collapsed": false,
    "pycharm": {
     "name": "#%%\n"
    }
   }
  },
  {
   "cell_type": "code",
   "execution_count": 35,
   "outputs": [],
   "source": [
    "def convert_abbrev_in_text(text):\n",
    "    tokens = word_tokenize(text)\n",
    "    tokens=[convert_abbrev(word) for word in tokens]\n",
    "    text = ' '.join(tokens)\n",
    "    return text"
   ],
   "metadata": {
    "collapsed": false,
    "pycharm": {
     "name": "#%%\n"
    }
   }
  },
  {
   "cell_type": "code",
   "execution_count": 36,
   "outputs": [
    {
     "name": "stderr",
     "output_type": "stream",
     "text": [
      "[nltk_data] Downloading package punkt to /Users/yujiewang/nltk_data...\n",
      "[nltk_data]   Package punkt is already up-to-date!\n"
     ]
    }
   ],
   "source": [
    "nltk.download('punkt')\n",
    "def remove_url(text):\n",
    "    # removal of urls\n",
    "    url=re.compile(r'https?://\\S+|www\\.\\S+')\n",
    "    text=url.sub(r'',text)\n",
    "    # removal of html tags\n",
    "    html=re.compile('<.*?>')\n",
    "    text=html.sub(r'',text)\n",
    "    return text"
   ],
   "metadata": {
    "collapsed": false,
    "pycharm": {
     "name": "#%%\n"
    }
   }
  },
  {
   "cell_type": "code",
   "execution_count": 37,
   "outputs": [],
   "source": [
    "#Clean the text\n",
    "tweets_data['text_clean'] = tweets_data['text'].map(remove_url)"
   ],
   "metadata": {
    "collapsed": false,
    "pycharm": {
     "name": "#%%\n"
    }
   }
  },
  {
   "cell_type": "code",
   "execution_count": 38,
   "outputs": [
    {
     "name": "stderr",
     "output_type": "stream",
     "text": [
      "[nltk_data] Error loading onw-1.4: Package 'onw-1.4' not found in\n",
      "[nltk_data]     index\n",
      "[nltk_data] Error loading averaged_percepton_tagger: Package\n",
      "[nltk_data]     'averaged_percepton_tagger' not found in index\n"
     ]
    },
    {
     "data": {
      "text/plain": "False"
     },
     "execution_count": 38,
     "metadata": {},
     "output_type": "execute_result"
    }
   ],
   "source": [
    "nltk.download('onw-1.4')\n",
    "nltk.download('averaged_percepton_tagger')"
   ],
   "metadata": {
    "collapsed": false,
    "pycharm": {
     "name": "#%%\n"
    }
   }
  },
  {
   "cell_type": "code",
   "execution_count": 39,
   "outputs": [],
   "source": [
    "def text_clean(text):\n",
    "    # Expand contractions\n",
    "    try:\n",
    "        text = \" \".join([contractions.fix(word) for word in str(text).split()])\n",
    "    except:\n",
    "        print(text)\n",
    "\n",
    "    # Handle slang and/or acroyms\n",
    "    text = convert_abbrev_in_text(text)\n",
    "\n",
    "    # Remove ticker symbols\n",
    "    ticker_pattern = r'\\$\\w+'\n",
    "    text = re.sub(ticker_pattern, '', text)\n",
    "\n",
    "    # removal of puctuation\n",
    "    text=text.translate(str.maketrans('','',string.punctuation))\n",
    "    # removal of digits\n",
    "    text=text.translate(str.maketrans('', '', digits))\n",
    "    # removal of whitespace\n",
    "    text=\" \".join(text.split())\n",
    "\n",
    "    # Tokenization\n",
    "    text = nltk.word_tokenize(text)\n",
    "\n",
    "    # Wordnet lemmatization\n",
    "    text = lemma(text)\n",
    "\n",
    "    # removal of stopwords\n",
    "    stopword=stopwords.words('english')\n",
    "    text=\" \".join([word for word in str(text).split() if word.lower() not in stopword])\n",
    "\n",
    "    # removal of unneccesary data (non-letter)\n",
    "    un_sen=re.compile(r'[^a-zA-Z\\s]')\n",
    "    text=un_sen.sub(r'',text)\n",
    "    return text.lower()"
   ],
   "metadata": {
    "collapsed": false,
    "pycharm": {
     "name": "#%%\n"
    }
   }
  },
  {
   "cell_type": "code",
   "execution_count": 41,
   "outputs": [
    {
     "name": "stdout",
     "output_type": "stream",
     "text": [
      "@MMCrypto İ BET BİTCOİN WİLL BE BELOW 70K WİTHİN 2022 AND WE WİLL SEE MİNİMUM 20-25K RANGE\n",
      "$BTC breaking the downtrend on the daily chart and also getting over the İchimoku clouds. The Only resistance that is left is the 200EMA. Let's see where the daily candle will close today. NFA. #TMRAnalysis #BTC #Bitcoin \n",
      "#SUPER#SUPER COİN#BİTCOİN#ETHEREUM 🔥🔥🔥🔥🚀🚀🚀\n",
      "@MrBigWhaleREAL meet us, experience the difference, we are the future #vinu #VİNU #Bitcoin #ElonMusk \n",
      "@Bybit_Official @TRVL @Stepnofficial @InsurAce_io @genso_meta @MobLandHQ We are excited to see #VINU on the list, When will you include us on the list, We are waiting for you as the #VINU family #Bybit #vinu #Bitcoin  #BTc  #VİNU @ElemontCapital @VitaInuCoin #Metaverse #cryptocurrency #newlisting @Bybit_Official \n",
      "get ready to fly my family #VİNU @VitaInuCoin #Bitcoin #elonMusk \n",
      "@gate_io hello #Gateio when will you list us #VİNU @VitaInuCoin #BTC   #Bitcoin #Gateio @gate_io \n",
      "@HuobiGlobal hello #huobi when will you list us #VİNU @VitaInuCoin #BTC #Bitcoin #HuobiGlobal #huobi \n",
      "BİTRANİUM  is now listed on TokenMarketCap\n",
      "\n",
      "#btc #bitcoin #ICO #coin #token #Presale3\n",
      "\n",
      " \n"
     ]
    }
   ],
   "source": [
    "#Clean the text\n",
    "tweets_data['text_clean'] = tweets_data['text_clean'].map(text_clean)"
   ],
   "metadata": {
    "collapsed": false,
    "pycharm": {
     "name": "#%%\n"
    }
   }
  },
  {
   "cell_type": "code",
   "execution_count": 42,
   "outputs": [
    {
     "data": {
      "text/plain": "                datetime        username  \\\n0    2022-01-01 23:00:00   priconoticias   \n1    2022-01-01 23:00:00  mmonlineonline   \n2    2022-01-01 23:00:00  CoachKevinRose   \n3    2022-01-01 23:00:00  robert54177167   \n5    2022-01-01 23:00:00    CommodoreBTC   \n..                   ...             ...   \n128  2022-01-01 23:00:00   Criticalinfo1   \n129  2022-01-01 23:00:00       Salansar1   \n130  2022-01-01 23:00:00       santisiri   \n131  2022-01-01 23:00:00      jungIejosh   \n133  2022-01-01 23:00:00     InsiderDefi   \n\n                                                  text  \\\n0    0.4MOT TOKENS IN #LATOKEN  airdrop and maybe m...   \n1    MARA for Bitcoin Exposure: Top Trade Q1 2022 h...   \n2    Every Time the Bell Rings The Titano makes MON...   \n3    If your interested in losing money in 2022 kee...   \n5    @JesseKellyDC Money is at the root of every in...   \n..                                                 ...   \n128  Bitcoin sees ‘non-stop’ end-of-year buying as ...   \n129  The #Turkish🇹🇷 #Lira is not a normal currency ...   \n130  @MartyBent @gladstein because bitcoin has the ...   \n131     @PeterSchiff You all heard Peter, buy #bitcoin   \n133  Turkish President Erdogan Says Cryptocurrency ...   \n\n                                            text_clean  \n0    mot tokens latoken airdrop maybe bitcoin crypt...  \n1                    mara bitcoin exposure top trade q  \n2      every time bell rings titano make money bitcoin  \n3    interested losing money keep money bank accoun...  \n5    jessekellydc money root every institution bitc...  \n..                                                 ...  \n128  bitcoin see  nonstop  endofyear buying k btc l...  \n129  turkish lira normal currency anymore thanks ha...  \n130  martybent gladstein bitcoin ha le censorship r...  \n131                peterschiff heard peter buy bitcoin  \n133  turkish president erdogan says cryptocurrency ...  \n\n[100 rows x 4 columns]",
      "text/html": "<div>\n<style scoped>\n    .dataframe tbody tr th:only-of-type {\n        vertical-align: middle;\n    }\n\n    .dataframe tbody tr th {\n        vertical-align: top;\n    }\n\n    .dataframe thead th {\n        text-align: right;\n    }\n</style>\n<table border=\"1\" class=\"dataframe\">\n  <thead>\n    <tr style=\"text-align: right;\">\n      <th></th>\n      <th>datetime</th>\n      <th>username</th>\n      <th>text</th>\n      <th>text_clean</th>\n    </tr>\n  </thead>\n  <tbody>\n    <tr>\n      <th>0</th>\n      <td>2022-01-01 23:00:00</td>\n      <td>priconoticias</td>\n      <td>0.4MOT TOKENS IN #LATOKEN  airdrop and maybe m...</td>\n      <td>mot tokens latoken airdrop maybe bitcoin crypt...</td>\n    </tr>\n    <tr>\n      <th>1</th>\n      <td>2022-01-01 23:00:00</td>\n      <td>mmonlineonline</td>\n      <td>MARA for Bitcoin Exposure: Top Trade Q1 2022 h...</td>\n      <td>mara bitcoin exposure top trade q</td>\n    </tr>\n    <tr>\n      <th>2</th>\n      <td>2022-01-01 23:00:00</td>\n      <td>CoachKevinRose</td>\n      <td>Every Time the Bell Rings The Titano makes MON...</td>\n      <td>every time bell rings titano make money bitcoin</td>\n    </tr>\n    <tr>\n      <th>3</th>\n      <td>2022-01-01 23:00:00</td>\n      <td>robert54177167</td>\n      <td>If your interested in losing money in 2022 kee...</td>\n      <td>interested losing money keep money bank accoun...</td>\n    </tr>\n    <tr>\n      <th>5</th>\n      <td>2022-01-01 23:00:00</td>\n      <td>CommodoreBTC</td>\n      <td>@JesseKellyDC Money is at the root of every in...</td>\n      <td>jessekellydc money root every institution bitc...</td>\n    </tr>\n    <tr>\n      <th>...</th>\n      <td>...</td>\n      <td>...</td>\n      <td>...</td>\n      <td>...</td>\n    </tr>\n    <tr>\n      <th>128</th>\n      <td>2022-01-01 23:00:00</td>\n      <td>Criticalinfo1</td>\n      <td>Bitcoin sees ‘non-stop’ end-of-year buying as ...</td>\n      <td>bitcoin see  nonstop  endofyear buying k btc l...</td>\n    </tr>\n    <tr>\n      <th>129</th>\n      <td>2022-01-01 23:00:00</td>\n      <td>Salansar1</td>\n      <td>The #Turkish🇹🇷 #Lira is not a normal currency ...</td>\n      <td>turkish lira normal currency anymore thanks ha...</td>\n    </tr>\n    <tr>\n      <th>130</th>\n      <td>2022-01-01 23:00:00</td>\n      <td>santisiri</td>\n      <td>@MartyBent @gladstein because bitcoin has the ...</td>\n      <td>martybent gladstein bitcoin ha le censorship r...</td>\n    </tr>\n    <tr>\n      <th>131</th>\n      <td>2022-01-01 23:00:00</td>\n      <td>jungIejosh</td>\n      <td>@PeterSchiff You all heard Peter, buy #bitcoin</td>\n      <td>peterschiff heard peter buy bitcoin</td>\n    </tr>\n    <tr>\n      <th>133</th>\n      <td>2022-01-01 23:00:00</td>\n      <td>InsiderDefi</td>\n      <td>Turkish President Erdogan Says Cryptocurrency ...</td>\n      <td>turkish president erdogan says cryptocurrency ...</td>\n    </tr>\n  </tbody>\n</table>\n<p>100 rows × 4 columns</p>\n</div>"
     },
     "execution_count": 42,
     "metadata": {},
     "output_type": "execute_result"
    }
   ],
   "source": [
    "tweets_data.head(100)"
   ],
   "metadata": {
    "collapsed": false,
    "pycharm": {
     "name": "#%%\n"
    }
   }
  },
  {
   "cell_type": "markdown",
   "source": [
    "#### Keep tweets which length is between 5 and 60 words"
   ],
   "metadata": {
    "collapsed": false,
    "pycharm": {
     "name": "#%% md\n"
    }
   }
  },
  {
   "cell_type": "code",
   "execution_count": 45,
   "outputs": [
    {
     "data": {
      "text/plain": "Text(0.5, 1.0, 'histogram of number of words in tweet')"
     },
     "execution_count": 45,
     "metadata": {},
     "output_type": "execute_result"
    },
    {
     "data": {
      "text/plain": "<Figure size 640x480 with 1 Axes>",
      "image/png": "[encoded data removed]"
     },
     "metadata": {},
     "output_type": "display_data"
    }
   ],
   "source": [
    "import matplotlib.pyplot as plt\n",
    "plt.hist(tweets_data['text_clean'].apply(lambda x:x.split(' ')).apply(len), bins=40)\n",
    "plt.title('histogram of number of words in tweet')"
   ],
   "metadata": {
    "collapsed": false,
    "pycharm": {
     "name": "#%%\n"
    }
   }
  },
  {
   "cell_type": "code",
   "execution_count": 46,
   "outputs": [],
   "source": [
    "# keep tweets which length is between 5 and 60 words\n",
    "def drop_by_length(text, low, high):\n",
    "  l = len(text.split(' '))\n",
    "  if (l>=low) and (l<=high):\n",
    "    return True\n",
    "  else:\n",
    "    return False"
   ],
   "metadata": {
    "collapsed": false,
    "pycharm": {
     "name": "#%%\n"
    }
   }
  },
  {
   "cell_type": "code",
   "execution_count": 47,
   "outputs": [],
   "source": [
    "tweets_data=tweets_data[tweets_data['text_clean'].apply(lambda x: drop_by_length(x,6,60))]"
   ],
   "metadata": {
    "collapsed": false,
    "pycharm": {
     "name": "#%%\n"
    }
   }
  },
  {
   "cell_type": "code",
   "execution_count": 48,
   "outputs": [
    {
     "name": "stdout",
     "output_type": "stream",
     "text": [
      "3854553\n"
     ]
    }
   ],
   "source": [
    "print(len(tweets_data))"
   ],
   "metadata": {
    "collapsed": false,
    "pycharm": {
     "name": "#%%\n"
    }
   }
  },
  {
   "cell_type": "code",
   "execution_count": 49,
   "outputs": [],
   "source": [
    "tweets_data=tweets_data.drop_duplicates(subset='text_clean').reset_index(drop=True)"
   ],
   "metadata": {
    "collapsed": false,
    "pycharm": {
     "name": "#%%\n"
    }
   }
  },
  {
   "cell_type": "code",
   "execution_count": 50,
   "outputs": [
    {
     "data": {
      "text/plain": "              datetime         username  \\\n0  2022-01-01 23:00:00    priconoticias   \n1  2022-01-01 23:00:00   mmonlineonline   \n2  2022-01-01 23:00:00   CoachKevinRose   \n3  2022-01-01 23:00:00   robert54177167   \n4  2022-01-01 23:00:00     CommodoreBTC   \n5  2022-01-01 23:00:00      Raybonthird   \n6  2022-01-01 23:00:00        AxolotolH   \n7  2022-01-01 23:00:00        joybowtie   \n8  2022-01-01 23:00:00          nft_Vis   \n9  2022-01-01 23:00:00  memecoininsider   \n\n                                                text  \\\n0  0.4MOT TOKENS IN #LATOKEN  airdrop and maybe m...   \n1  MARA for Bitcoin Exposure: Top Trade Q1 2022 h...   \n2  Every Time the Bell Rings The Titano makes MON...   \n3  If your interested in losing money in 2022 kee...   \n4  @JesseKellyDC Money is at the root of every in...   \n5  @nikitabier People want a basis of truth for t...   \n6  @SirPantsALot2 @fairguinevere @totallynotem_ @...   \n7  if we ever get to the point where we start pay...   \n8  In 2021 here’s what I accomplished:\\n\\n1. Buil...   \n9  Happy New Year everyone! 2022 is the year of f...   \n\n                                          text_clean  \n0  mot tokens latoken airdrop maybe bitcoin crypt...  \n1                  mara bitcoin exposure top trade q  \n2    every time bell rings titano make money bitcoin  \n3  interested losing money keep money bank accoun...  \n4  jessekellydc money root every institution bitc...  \n5  nikitabier people want basis truth interaction...  \n6  sirpantsalot fairguinevere totallynotem llhall...  \n7         ever get point start paying rent bitcoin k  \n8  accomplished built needed community center rur...  \n9  happy new year everyone year focus focusing en...  ",
      "text/html": "<div>\n<style scoped>\n    .dataframe tbody tr th:only-of-type {\n        vertical-align: middle;\n    }\n\n    .dataframe tbody tr th {\n        vertical-align: top;\n    }\n\n    .dataframe thead th {\n        text-align: right;\n    }\n</style>\n<table border=\"1\" class=\"dataframe\">\n  <thead>\n    <tr style=\"text-align: right;\">\n      <th></th>\n      <th>datetime</th>\n      <th>username</th>\n      <th>text</th>\n      <th>text_clean</th>\n    </tr>\n  </thead>\n  <tbody>\n    <tr>\n      <th>0</th>\n      <td>2022-01-01 23:00:00</td>\n      <td>priconoticias</td>\n      <td>0.4MOT TOKENS IN #LATOKEN  airdrop and maybe m...</td>\n      <td>mot tokens latoken airdrop maybe bitcoin crypt...</td>\n    </tr>\n    <tr>\n      <th>1</th>\n      <td>2022-01-01 23:00:00</td>\n      <td>mmonlineonline</td>\n      <td>MARA for Bitcoin Exposure: Top Trade Q1 2022 h...</td>\n      <td>mara bitcoin exposure top trade q</td>\n    </tr>\n    <tr>\n      <th>2</th>\n      <td>2022-01-01 23:00:00</td>\n      <td>CoachKevinRose</td>\n      <td>Every Time the Bell Rings The Titano makes MON...</td>\n      <td>every time bell rings titano make money bitcoin</td>\n    </tr>\n    <tr>\n      <th>3</th>\n      <td>2022-01-01 23:00:00</td>\n      <td>robert54177167</td>\n      <td>If your interested in losing money in 2022 kee...</td>\n      <td>interested losing money keep money bank accoun...</td>\n    </tr>\n    <tr>\n      <th>4</th>\n      <td>2022-01-01 23:00:00</td>\n      <td>CommodoreBTC</td>\n      <td>@JesseKellyDC Money is at the root of every in...</td>\n      <td>jessekellydc money root every institution bitc...</td>\n    </tr>\n    <tr>\n      <th>5</th>\n      <td>2022-01-01 23:00:00</td>\n      <td>Raybonthird</td>\n      <td>@nikitabier People want a basis of truth for t...</td>\n      <td>nikitabier people want basis truth interaction...</td>\n    </tr>\n    <tr>\n      <th>6</th>\n      <td>2022-01-01 23:00:00</td>\n      <td>AxolotolH</td>\n      <td>@SirPantsALot2 @fairguinevere @totallynotem_ @...</td>\n      <td>sirpantsalot fairguinevere totallynotem llhall...</td>\n    </tr>\n    <tr>\n      <th>7</th>\n      <td>2022-01-01 23:00:00</td>\n      <td>joybowtie</td>\n      <td>if we ever get to the point where we start pay...</td>\n      <td>ever get point start paying rent bitcoin k</td>\n    </tr>\n    <tr>\n      <th>8</th>\n      <td>2022-01-01 23:00:00</td>\n      <td>nft_Vis</td>\n      <td>In 2021 here’s what I accomplished:\\n\\n1. Buil...</td>\n      <td>accomplished built needed community center rur...</td>\n    </tr>\n    <tr>\n      <th>9</th>\n      <td>2022-01-01 23:00:00</td>\n      <td>memecoininsider</td>\n      <td>Happy New Year everyone! 2022 is the year of f...</td>\n      <td>happy new year everyone year focus focusing en...</td>\n    </tr>\n  </tbody>\n</table>\n</div>"
     },
     "execution_count": 50,
     "metadata": {},
     "output_type": "execute_result"
    }
   ],
   "source": [
    "tweets_data.head(10)"
   ],
   "metadata": {
    "collapsed": false,
    "pycharm": {
     "name": "#%%\n"
    }
   }
  },
  {
   "cell_type": "code",
   "execution_count": 51,
   "outputs": [
    {
     "name": "stdout",
     "output_type": "stream",
     "text": [
      "3324865\n"
     ]
    }
   ],
   "source": [
    "print(len(tweets_data))"
   ],
   "metadata": {
    "collapsed": false,
    "pycharm": {
     "name": "#%%\n"
    }
   }
  },
  {
   "cell_type": "markdown",
   "source": [],
   "metadata": {
    "collapsed": false,
    "pycharm": {
     "name": "#%% md\n"
    }
   }
  },
  {
   "cell_type": "code",
   "execution_count": 54,
   "outputs": [],
   "source": [
    "def remove_white_space(text):\n",
    "    return \" \".join(text.split())"
   ],
   "metadata": {
    "collapsed": false,
    "pycharm": {
     "name": "#%%\n"
    }
   }
  },
  {
   "cell_type": "code",
   "execution_count": 55,
   "outputs": [
    {
     "data": {
      "text/plain": "               datetime        username  \\\n0   2022-01-01 23:00:00   priconoticias   \n1   2022-01-01 23:00:00  mmonlineonline   \n2   2022-01-01 23:00:00  CoachKevinRose   \n3   2022-01-01 23:00:00  robert54177167   \n4   2022-01-01 23:00:00    CommodoreBTC   \n..                  ...             ...   \n95  2022-01-01 23:00:00   thebitcoinwin   \n96  2022-01-01 23:00:00       gomishaco   \n97  2022-01-01 23:00:00     planche_btc   \n98  2022-01-01 23:00:00      LameNichol   \n99  2022-01-01 23:00:00  BitcoinSapiens   \n\n                                                 text  \\\n0   0.4MOT TOKENS IN #LATOKEN  airdrop and maybe m...   \n1   MARA for Bitcoin Exposure: Top Trade Q1 2022 h...   \n2   Every Time the Bell Rings The Titano makes MON...   \n3   If your interested in losing money in 2022 kee...   \n4   @JesseKellyDC Money is at the root of every in...   \n..                                                ...   \n95  Check Our Skeleton Brawlies Premium NFTs Colle...   \n96  the miner - 2022 spray paint, paint pen and ac...   \n97  @Xirallics @mcbyrne @mozilla You don’t need a ...   \n98  Contributors’ Convictions: A Bitcoin Legacy Le...   \n99  “#Bitcoin solves a ~$300 trillion problem, and...   \n\n                                           text_clean  \n0   mot tokens latoken airdrop maybe bitcoin crypt...  \n1                   mara bitcoin exposure top trade q  \n2     every time bell rings titano make money bitcoin  \n3   interested losing money keep money bank accoun...  \n4   jessekellydc money root every institution bitc...  \n..                                                ...  \n95  check skeleton brawlies premium nfts collectio...  \n96  miner spray paint paint pen acrylic canvas x c...  \n97  xirallics mcbyrne mozilla need gpu surf porn a...  \n98     contributors convictions bitcoin legacy letter  \n99  bitcoin solves trillion problem valued lt tril...  \n\n[100 rows x 4 columns]",
      "text/html": "<div>\n<style scoped>\n    .dataframe tbody tr th:only-of-type {\n        vertical-align: middle;\n    }\n\n    .dataframe tbody tr th {\n        vertical-align: top;\n    }\n\n    .dataframe thead th {\n        text-align: right;\n    }\n</style>\n<table border=\"1\" class=\"dataframe\">\n  <thead>\n    <tr style=\"text-align: right;\">\n      <th></th>\n      <th>datetime</th>\n      <th>username</th>\n      <th>text</th>\n      <th>text_clean</th>\n    </tr>\n  </thead>\n  <tbody>\n    <tr>\n      <th>0</th>\n      <td>2022-01-01 23:00:00</td>\n      <td>priconoticias</td>\n      <td>0.4MOT TOKENS IN #LATOKEN  airdrop and maybe m...</td>\n      <td>mot tokens latoken airdrop maybe bitcoin crypt...</td>\n    </tr>\n    <tr>\n      <th>1</th>\n      <td>2022-01-01 23:00:00</td>\n      <td>mmonlineonline</td>\n      <td>MARA for Bitcoin Exposure: Top Trade Q1 2022 h...</td>\n      <td>mara bitcoin exposure top trade q</td>\n    </tr>\n    <tr>\n      <th>2</th>\n      <td>2022-01-01 23:00:00</td>\n      <td>CoachKevinRose</td>\n      <td>Every Time the Bell Rings The Titano makes MON...</td>\n      <td>every time bell rings titano make money bitcoin</td>\n    </tr>\n    <tr>\n      <th>3</th>\n      <td>2022-01-01 23:00:00</td>\n      <td>robert54177167</td>\n      <td>If your interested in losing money in 2022 kee...</td>\n      <td>interested losing money keep money bank accoun...</td>\n    </tr>\n    <tr>\n      <th>4</th>\n      <td>2022-01-01 23:00:00</td>\n      <td>CommodoreBTC</td>\n      <td>@JesseKellyDC Money is at the root of every in...</td>\n      <td>jessekellydc money root every institution bitc...</td>\n    </tr>\n    <tr>\n      <th>...</th>\n      <td>...</td>\n      <td>...</td>\n      <td>...</td>\n      <td>...</td>\n    </tr>\n    <tr>\n      <th>95</th>\n      <td>2022-01-01 23:00:00</td>\n      <td>thebitcoinwin</td>\n      <td>Check Our Skeleton Brawlies Premium NFTs Colle...</td>\n      <td>check skeleton brawlies premium nfts collectio...</td>\n    </tr>\n    <tr>\n      <th>96</th>\n      <td>2022-01-01 23:00:00</td>\n      <td>gomishaco</td>\n      <td>the miner - 2022 spray paint, paint pen and ac...</td>\n      <td>miner spray paint paint pen acrylic canvas x c...</td>\n    </tr>\n    <tr>\n      <th>97</th>\n      <td>2022-01-01 23:00:00</td>\n      <td>planche_btc</td>\n      <td>@Xirallics @mcbyrne @mozilla You don’t need a ...</td>\n      <td>xirallics mcbyrne mozilla need gpu surf porn a...</td>\n    </tr>\n    <tr>\n      <th>98</th>\n      <td>2022-01-01 23:00:00</td>\n      <td>LameNichol</td>\n      <td>Contributors’ Convictions: A Bitcoin Legacy Le...</td>\n      <td>contributors convictions bitcoin legacy letter</td>\n    </tr>\n    <tr>\n      <th>99</th>\n      <td>2022-01-01 23:00:00</td>\n      <td>BitcoinSapiens</td>\n      <td>“#Bitcoin solves a ~$300 trillion problem, and...</td>\n      <td>bitcoin solves trillion problem valued lt tril...</td>\n    </tr>\n  </tbody>\n</table>\n<p>100 rows × 4 columns</p>\n</div>"
     },
     "execution_count": 55,
     "metadata": {},
     "output_type": "execute_result"
    }
   ],
   "source": [
    "tweets_data['text_clean']=tweets_data['text_clean'].apply(lambda x: remove_white_space(x))\n",
    "tweets_data.head(100)"
   ],
   "metadata": {
    "collapsed": false,
    "pycharm": {
     "name": "#%%\n"
    }
   }
  },
  {
   "cell_type": "code",
   "execution_count": 58,
   "outputs": [],
   "source": [
    "tweets_text=tweets_data.drop(columns=['username','text'])"
   ],
   "metadata": {
    "collapsed": false,
    "pycharm": {
     "name": "#%%\n"
    }
   }
  },
  {
   "cell_type": "code",
   "execution_count": 59,
   "outputs": [
    {
     "data": {
      "text/plain": "                    datetime  \\\n0        2022-01-01 23:00:00   \n1        2022-01-01 23:00:00   \n2        2022-01-01 23:00:00   \n3        2022-01-01 23:00:00   \n4        2022-01-01 23:00:00   \n...                      ...   \n3324860  2022-06-30 00:00:00   \n3324861  2022-06-30 00:00:00   \n3324862  2022-06-30 00:00:00   \n3324863  2022-06-30 00:00:00   \n3324864  2022-06-30 00:00:00   \n\n                                                text_clean  \n0        mot tokens latoken airdrop maybe bitcoin crypt...  \n1                        mara bitcoin exposure top trade q  \n2          every time bell rings titano make money bitcoin  \n3        interested losing money keep money bank accoun...  \n4        jessekellydc money root every institution bitc...  \n...                                                    ...  \n3324860  retrotechnoir think bitcoin people would like ...  \n3324861  circle launch eurobacked stablecoin euroc bitc...  \n3324862  btcusd bullish macd crossover alert interval e...  \n3324863  btcarchive really bitcoin run without internet...  \n3324864  shakespeare quote day love love alters alterat...  \n\n[3324865 rows x 2 columns]",
      "text/html": "<div>\n<style scoped>\n    .dataframe tbody tr th:only-of-type {\n        vertical-align: middle;\n    }\n\n    .dataframe tbody tr th {\n        vertical-align: top;\n    }\n\n    .dataframe thead th {\n        text-align: right;\n    }\n</style>\n<table border=\"1\" class=\"dataframe\">\n  <thead>\n    <tr style=\"text-align: right;\">\n      <th></th>\n      <th>datetime</th>\n      <th>text_clean</th>\n    </tr>\n  </thead>\n  <tbody>\n    <tr>\n      <th>0</th>\n      <td>2022-01-01 23:00:00</td>\n      <td>mot tokens latoken airdrop maybe bitcoin crypt...</td>\n    </tr>\n    <tr>\n      <th>1</th>\n      <td>2022-01-01 23:00:00</td>\n      <td>mara bitcoin exposure top trade q</td>\n    </tr>\n    <tr>\n      <th>2</th>\n      <td>2022-01-01 23:00:00</td>\n      <td>every time bell rings titano make money bitcoin</td>\n    </tr>\n    <tr>\n      <th>3</th>\n      <td>2022-01-01 23:00:00</td>\n      <td>interested losing money keep money bank accoun...</td>\n    </tr>\n    <tr>\n      <th>4</th>\n      <td>2022-01-01 23:00:00</td>\n      <td>jessekellydc money root every institution bitc...</td>\n    </tr>\n    <tr>\n      <th>...</th>\n      <td>...</td>\n      <td>...</td>\n    </tr>\n    <tr>\n      <th>3324860</th>\n      <td>2022-06-30 00:00:00</td>\n      <td>retrotechnoir think bitcoin people would like ...</td>\n    </tr>\n    <tr>\n      <th>3324861</th>\n      <td>2022-06-30 00:00:00</td>\n      <td>circle launch eurobacked stablecoin euroc bitc...</td>\n    </tr>\n    <tr>\n      <th>3324862</th>\n      <td>2022-06-30 00:00:00</td>\n      <td>btcusd bullish macd crossover alert interval e...</td>\n    </tr>\n    <tr>\n      <th>3324863</th>\n      <td>2022-06-30 00:00:00</td>\n      <td>btcarchive really bitcoin run without internet...</td>\n    </tr>\n    <tr>\n      <th>3324864</th>\n      <td>2022-06-30 00:00:00</td>\n      <td>shakespeare quote day love love alters alterat...</td>\n    </tr>\n  </tbody>\n</table>\n<p>3324865 rows × 2 columns</p>\n</div>"
     },
     "execution_count": 59,
     "metadata": {},
     "output_type": "execute_result"
    }
   ],
   "source": [
    "tweets_text"
   ],
   "metadata": {
    "collapsed": false,
    "pycharm": {
     "name": "#%%\n"
    }
   }
  },
  {
   "cell_type": "markdown",
   "source": [
    "### Sentiment Analysis"
   ],
   "metadata": {
    "collapsed": false,
    "pycharm": {
     "name": "#%% md\n"
    }
   }
  },
  {
   "cell_type": "markdown",
   "source": [
    "#### VADER"
   ],
   "metadata": {
    "collapsed": false,
    "pycharm": {
     "name": "#%% md\n"
    }
   }
  },
  {
   "cell_type": "code",
   "execution_count": 60,
   "outputs": [],
   "source": [
    "from vaderSentiment.vaderSentiment import SentimentIntensityAnalyzer\n",
    "from tqdm import tnrange, tqdm_notebook, tqdm"
   ],
   "metadata": {
    "collapsed": false,
    "pycharm": {
     "name": "#%%\n"
    }
   }
  },
  {
   "cell_type": "code",
   "execution_count": 61,
   "outputs": [
    {
     "name": "stderr",
     "output_type": "stream",
     "text": [
      "100%|██████████| 3324865/3324865 [02:33<00:00, 21598.73it/s]\n"
     ]
    },
    {
     "data": {
      "text/plain": "               datetime                                         text_clean  \\\n0   2022-01-01 23:00:00  mot tokens latoken airdrop maybe bitcoin crypt...   \n1   2022-01-01 23:00:00                  mara bitcoin exposure top trade q   \n2   2022-01-01 23:00:00    every time bell rings titano make money bitcoin   \n3   2022-01-01 23:00:00  interested losing money keep money bank accoun...   \n4   2022-01-01 23:00:00  jessekellydc money root every institution bitc...   \n..                  ...                                                ...   \n95  2022-01-01 23:00:00  check skeleton brawlies premium nfts collectio...   \n96  2022-01-01 23:00:00  miner spray paint paint pen acrylic canvas x c...   \n97  2022-01-01 23:00:00  xirallics mcbyrne mozilla need gpu surf porn a...   \n98  2022-01-01 23:00:00     contributors convictions bitcoin legacy letter   \n99  2022-01-01 23:00:00  bitcoin solves trillion problem valued lt tril...   \n\n    compound    pos    neu    neg  \n0     0.0000  0.000  1.000  0.000  \n1     0.2023  0.265  0.735  0.000  \n2     0.0000  0.000  1.000  0.000  \n3     0.8360  0.419  0.447  0.134  \n4     0.5106  0.231  0.769  0.000  \n..       ...    ...    ...    ...  \n95    0.0000  0.000  1.000  0.000  \n96    0.0000  0.000  1.000  0.000  \n97    0.2263  0.119  0.881  0.000  \n98    0.0000  0.000  1.000  0.000  \n99    0.3182  0.299  0.539  0.162  \n\n[100 rows x 6 columns]",
      "text/html": "<div>\n<style scoped>\n    .dataframe tbody tr th:only-of-type {\n        vertical-align: middle;\n    }\n\n    .dataframe tbody tr th {\n        vertical-align: top;\n    }\n\n    .dataframe thead th {\n        text-align: right;\n    }\n</style>\n<table border=\"1\" class=\"dataframe\">\n  <thead>\n    <tr style=\"text-align: right;\">\n      <th></th>\n      <th>datetime</th>\n      <th>text_clean</th>\n      <th>compound</th>\n      <th>pos</th>\n      <th>neu</th>\n      <th>neg</th>\n    </tr>\n  </thead>\n  <tbody>\n    <tr>\n      <th>0</th>\n      <td>2022-01-01 23:00:00</td>\n      <td>mot tokens latoken airdrop maybe bitcoin crypt...</td>\n      <td>0.0000</td>\n      <td>0.000</td>\n      <td>1.000</td>\n      <td>0.000</td>\n    </tr>\n    <tr>\n      <th>1</th>\n      <td>2022-01-01 23:00:00</td>\n      <td>mara bitcoin exposure top trade q</td>\n      <td>0.2023</td>\n      <td>0.265</td>\n      <td>0.735</td>\n      <td>0.000</td>\n    </tr>\n    <tr>\n      <th>2</th>\n      <td>2022-01-01 23:00:00</td>\n      <td>every time bell rings titano make money bitcoin</td>\n      <td>0.0000</td>\n      <td>0.000</td>\n      <td>1.000</td>\n      <td>0.000</td>\n    </tr>\n    <tr>\n      <th>3</th>\n      <td>2022-01-01 23:00:00</td>\n      <td>interested losing money keep money bank accoun...</td>\n      <td>0.8360</td>\n      <td>0.419</td>\n      <td>0.447</td>\n      <td>0.134</td>\n    </tr>\n    <tr>\n      <th>4</th>\n      <td>2022-01-01 23:00:00</td>\n      <td>jessekellydc money root every institution bitc...</td>\n      <td>0.5106</td>\n      <td>0.231</td>\n      <td>0.769</td>\n      <td>0.000</td>\n    </tr>\n    <tr>\n      <th>...</th>\n      <td>...</td>\n      <td>...</td>\n      <td>...</td>\n      <td>...</td>\n      <td>...</td>\n      <td>...</td>\n    </tr>\n    <tr>\n      <th>95</th>\n      <td>2022-01-01 23:00:00</td>\n      <td>check skeleton brawlies premium nfts collectio...</td>\n      <td>0.0000</td>\n      <td>0.000</td>\n      <td>1.000</td>\n      <td>0.000</td>\n    </tr>\n    <tr>\n      <th>96</th>\n      <td>2022-01-01 23:00:00</td>\n      <td>miner spray paint paint pen acrylic canvas x c...</td>\n      <td>0.0000</td>\n      <td>0.000</td>\n      <td>1.000</td>\n      <td>0.000</td>\n    </tr>\n    <tr>\n      <th>97</th>\n      <td>2022-01-01 23:00:00</td>\n      <td>xirallics mcbyrne mozilla need gpu surf porn a...</td>\n      <td>0.2263</td>\n      <td>0.119</td>\n      <td>0.881</td>\n      <td>0.000</td>\n    </tr>\n    <tr>\n      <th>98</th>\n      <td>2022-01-01 23:00:00</td>\n      <td>contributors convictions bitcoin legacy letter</td>\n      <td>0.0000</td>\n      <td>0.000</td>\n      <td>1.000</td>\n      <td>0.000</td>\n    </tr>\n    <tr>\n      <th>99</th>\n      <td>2022-01-01 23:00:00</td>\n      <td>bitcoin solves trillion problem valued lt tril...</td>\n      <td>0.3182</td>\n      <td>0.299</td>\n      <td>0.539</td>\n      <td>0.162</td>\n    </tr>\n  </tbody>\n</table>\n<p>100 rows × 6 columns</p>\n</div>"
     },
     "execution_count": 61,
     "metadata": {},
     "output_type": "execute_result"
    }
   ],
   "source": [
    "analyzer = SentimentIntensityAnalyzer()\n",
    "compound = []\n",
    "pos=[]\n",
    "neu=[]\n",
    "neg=[]\n",
    "for i,s in enumerate(tqdm(tweets_text['text_clean'],position=0, leave=True)):\n",
    "    # print(i,s)\n",
    "    vs = analyzer.polarity_scores(str(s))\n",
    "    compound.append(vs[\"compound\"])\n",
    "    pos.append(vs['pos'])\n",
    "    neu.append(vs['neu'])\n",
    "    neg.append(vs['neg'])\n",
    "tweets_text[\"compound\"] = compound\n",
    "tweets_text['pos']=pos\n",
    "tweets_text['neu']=neu\n",
    "tweets_text['neg']=neg\n",
    "tweets_text.head(100)"
   ],
   "metadata": {
    "collapsed": false,
    "pycharm": {
     "name": "#%%\n"
    }
   }
  },
  {
   "cell_type": "markdown",
   "source": [
    "#### TextBlob"
   ],
   "metadata": {
    "collapsed": false,
    "pycharm": {
     "name": "#%% md\n"
    }
   }
  },
  {
   "cell_type": "code",
   "execution_count": 62,
   "outputs": [],
   "source": [
    "# Textblob\n",
    "from textblob import TextBlob\n",
    "\n",
    "# create a function to get subjectivity\n",
    "def getSubjectivity(twt):\n",
    "    return TextBlob(twt).sentiment.subjectivity\n",
    "\n",
    "# create a function to get the polarity\n",
    "def getPolarity(twt):\n",
    "    return TextBlob(twt).sentiment.polarity"
   ],
   "metadata": {
    "collapsed": false,
    "pycharm": {
     "name": "#%%\n"
    }
   }
  },
  {
   "cell_type": "code",
   "execution_count": 63,
   "outputs": [],
   "source": [
    "# create two new columns called \"Subjectivity\" & \"Polarity\"\n",
    "tweets_text['subjectivity'] = tweets_text['text_clean'].apply(getSubjectivity)\n",
    "tweets_text['polarity'] = tweets_text['text_clean'].apply(getPolarity)"
   ],
   "metadata": {
    "collapsed": false,
    "pycharm": {
     "name": "#%%\n"
    }
   }
  },
  {
   "cell_type": "code",
   "execution_count": 68,
   "outputs": [
    {
     "data": {
      "text/plain": "               datetime                                         text_clean  \\\n0   2022-01-01 23:00:00  mot tokens latoken airdrop maybe bitcoin crypt...   \n1   2022-01-01 23:00:00                  mara bitcoin exposure top trade q   \n2   2022-01-01 23:00:00    every time bell rings titano make money bitcoin   \n3   2022-01-01 23:00:00  interested losing money keep money bank accoun...   \n4   2022-01-01 23:00:00  jessekellydc money root every institution bitc...   \n..                  ...                                                ...   \n95  2022-01-01 23:00:00  check skeleton brawlies premium nfts collectio...   \n96  2022-01-01 23:00:00  miner spray paint paint pen acrylic canvas x c...   \n97  2022-01-01 23:00:00  xirallics mcbyrne mozilla need gpu surf porn a...   \n98  2022-01-01 23:00:00     contributors convictions bitcoin legacy letter   \n99  2022-01-01 23:00:00  bitcoin solves trillion problem valued lt tril...   \n\n    compound    pos    neu    neg  subjectivity  polarity  \n0     0.0000  0.000  1.000  0.000      0.000000  0.000000  \n1     0.2023  0.265  0.735  0.000      0.500000  0.500000  \n2     0.0000  0.000  1.000  0.000      0.000000  0.000000  \n3     0.8360  0.419  0.447  0.134      0.703333  0.356667  \n4     0.5106  0.231  0.769  0.000      0.000000  0.000000  \n..       ...    ...    ...    ...           ...       ...  \n95    0.0000  0.000  1.000  0.000      0.000000  0.000000  \n96    0.0000  0.000  1.000  0.000      0.000000  0.000000  \n97    0.2263  0.119  0.881  0.000      0.100000  0.300000  \n98    0.0000  0.000  1.000  0.000      0.000000  0.000000  \n99    0.3182  0.299  0.539  0.162      0.000000  0.000000  \n\n[100 rows x 8 columns]",
      "text/html": "<div>\n<style scoped>\n    .dataframe tbody tr th:only-of-type {\n        vertical-align: middle;\n    }\n\n    .dataframe tbody tr th {\n        vertical-align: top;\n    }\n\n    .dataframe thead th {\n        text-align: right;\n    }\n</style>\n<table border=\"1\" class=\"dataframe\">\n  <thead>\n    <tr style=\"text-align: right;\">\n      <th></th>\n      <th>datetime</th>\n      <th>text_clean</th>\n      <th>compound</th>\n      <th>pos</th>\n      <th>neu</th>\n      <th>neg</th>\n      <th>subjectivity</th>\n      <th>polarity</th>\n    </tr>\n  </thead>\n  <tbody>\n    <tr>\n      <th>0</th>\n      <td>2022-01-01 23:00:00</td>\n      <td>mot tokens latoken airdrop maybe bitcoin crypt...</td>\n      <td>0.0000</td>\n      <td>0.000</td>\n      <td>1.000</td>\n      <td>0.000</td>\n      <td>0.000000</td>\n      <td>0.000000</td>\n    </tr>\n    <tr>\n      <th>1</th>\n      <td>2022-01-01 23:00:00</td>\n      <td>mara bitcoin exposure top trade q</td>\n      <td>0.2023</td>\n      <td>0.265</td>\n      <td>0.735</td>\n      <td>0.000</td>\n      <td>0.500000</td>\n      <td>0.500000</td>\n    </tr>\n    <tr>\n      <th>2</th>\n      <td>2022-01-01 23:00:00</td>\n      <td>every time bell rings titano make money bitcoin</td>\n      <td>0.0000</td>\n      <td>0.000</td>\n      <td>1.000</td>\n      <td>0.000</td>\n      <td>0.000000</td>\n      <td>0.000000</td>\n    </tr>\n    <tr>\n      <th>3</th>\n      <td>2022-01-01 23:00:00</td>\n      <td>interested losing money keep money bank accoun...</td>\n      <td>0.8360</td>\n      <td>0.419</td>\n      <td>0.447</td>\n      <td>0.134</td>\n      <td>0.703333</td>\n      <td>0.356667</td>\n    </tr>\n    <tr>\n      <th>4</th>\n      <td>2022-01-01 23:00:00</td>\n      <td>jessekellydc money root every institution bitc...</td>\n      <td>0.5106</td>\n      <td>0.231</td>\n      <td>0.769</td>\n      <td>0.000</td>\n      <td>0.000000</td>\n      <td>0.000000</td>\n    </tr>\n    <tr>\n      <th>...</th>\n      <td>...</td>\n      <td>...</td>\n      <td>...</td>\n      <td>...</td>\n      <td>...</td>\n      <td>...</td>\n      <td>...</td>\n      <td>...</td>\n    </tr>\n    <tr>\n      <th>95</th>\n      <td>2022-01-01 23:00:00</td>\n      <td>check skeleton brawlies premium nfts collectio...</td>\n      <td>0.0000</td>\n      <td>0.000</td>\n      <td>1.000</td>\n      <td>0.000</td>\n      <td>0.000000</td>\n      <td>0.000000</td>\n    </tr>\n    <tr>\n      <th>96</th>\n      <td>2022-01-01 23:00:00</td>\n      <td>miner spray paint paint pen acrylic canvas x c...</td>\n      <td>0.0000</td>\n      <td>0.000</td>\n      <td>1.000</td>\n      <td>0.000</td>\n      <td>0.000000</td>\n      <td>0.000000</td>\n    </tr>\n    <tr>\n      <th>97</th>\n      <td>2022-01-01 23:00:00</td>\n      <td>xirallics mcbyrne mozilla need gpu surf porn a...</td>\n      <td>0.2263</td>\n      <td>0.119</td>\n      <td>0.881</td>\n      <td>0.000</td>\n      <td>0.100000</td>\n      <td>0.300000</td>\n    </tr>\n    <tr>\n      <th>98</th>\n      <td>2022-01-01 23:00:00</td>\n      <td>contributors convictions bitcoin legacy letter</td>\n      <td>0.0000</td>\n      <td>0.000</td>\n      <td>1.000</td>\n      <td>0.000</td>\n      <td>0.000000</td>\n      <td>0.000000</td>\n    </tr>\n    <tr>\n      <th>99</th>\n      <td>2022-01-01 23:00:00</td>\n      <td>bitcoin solves trillion problem valued lt tril...</td>\n      <td>0.3182</td>\n      <td>0.299</td>\n      <td>0.539</td>\n      <td>0.162</td>\n      <td>0.000000</td>\n      <td>0.000000</td>\n    </tr>\n  </tbody>\n</table>\n<p>100 rows × 8 columns</p>\n</div>"
     },
     "execution_count": 68,
     "metadata": {},
     "output_type": "execute_result"
    }
   ],
   "source": [
    "tweets_text.head(100)"
   ],
   "metadata": {
    "collapsed": false,
    "pycharm": {
     "name": "#%%\n"
    }
   }
  },
  {
   "cell_type": "code",
   "execution_count": 69,
   "outputs": [],
   "source": [],
   "metadata": {
    "collapsed": false,
    "pycharm": {
     "name": "#%%\n"
    }
   }
  },
  {
   "cell_type": "markdown",
   "source": [
    "#### PySentiment2"
   ],
   "metadata": {
    "collapsed": false,
    "pycharm": {
     "name": "#%% md\n"
    }
   }
  },
  {
   "cell_type": "code",
   "execution_count": 86,
   "outputs": [],
   "source": [
    "import pysentiment2 as ps"
   ],
   "metadata": {
    "collapsed": false,
    "pycharm": {
     "name": "#%%\n"
    }
   }
  },
  {
   "cell_type": "code",
   "execution_count": 104,
   "outputs": [],
   "source": [
    "sen=ps.LM()\n",
    "def get_sentiment_score(text):\n",
    "    tokens = sen.tokenize(text)\n",
    "    score = sen.get_score(tokens)\n",
    "    sum_score=score['Positive']+score['Negative']\n",
    "    if sum_score==0:\n",
    "        sum_score=1\n",
    "    final_score=(score['Positive']-score['Negative'])/sum_score\n",
    "    return final_score"
   ],
   "metadata": {
    "collapsed": false,
    "pycharm": {
     "name": "#%%\n"
    }
   }
  },
  {
   "cell_type": "code",
   "execution_count": 105,
   "outputs": [],
   "source": [
    "tweets_text['pysenti_score']=tweets_text['text_clean'].apply(get_sentiment_score)"
   ],
   "metadata": {
    "collapsed": false,
    "pycharm": {
     "name": "#%%\n"
    }
   }
  },
  {
   "cell_type": "code",
   "execution_count": 106,
   "outputs": [
    {
     "data": {
      "text/plain": "              datetime                                         text_clean  \\\n0  2022-01-01 23:00:00  mot tokens latoken airdrop maybe bitcoin crypt...   \n1  2022-01-01 23:00:00                  mara bitcoin exposure top trade q   \n2  2022-01-01 23:00:00    every time bell rings titano make money bitcoin   \n3  2022-01-01 23:00:00  interested losing money keep money bank accoun...   \n4  2022-01-01 23:00:00  jessekellydc money root every institution bitc...   \n..                 ...                                                ...   \n95 2022-01-01 23:00:00  check skeleton brawlies premium nfts collectio...   \n96 2022-01-01 23:00:00  miner spray paint paint pen acrylic canvas x c...   \n97 2022-01-01 23:00:00  xirallics mcbyrne mozilla need gpu surf porn a...   \n98 2022-01-01 23:00:00     contributors convictions bitcoin legacy letter   \n99 2022-01-01 23:00:00  bitcoin solves trillion problem valued lt tril...   \n\n    compound    pos    neu    neg  subjectivity  polarity  pysenti_score  \n0     0.0000  0.000  1.000  0.000      0.000000  0.000000            0.0  \n1     0.2023  0.265  0.735  0.000      0.500000  0.500000            0.0  \n2     0.0000  0.000  1.000  0.000      0.000000  0.000000            0.0  \n3     0.8360  0.419  0.447  0.134      0.703333  0.356667           -1.0  \n4     0.5106  0.231  0.769  0.000      0.000000  0.000000            0.0  \n..       ...    ...    ...    ...           ...       ...            ...  \n95    0.0000  0.000  1.000  0.000      0.000000  0.000000            0.0  \n96    0.0000  0.000  1.000  0.000      0.000000  0.000000            0.0  \n97    0.2263  0.119  0.881  0.000      0.100000  0.300000            0.0  \n98    0.0000  0.000  1.000  0.000      0.000000  0.000000           -1.0  \n99    0.3182  0.299  0.539  0.162      0.000000  0.000000            0.0  \n\n[100 rows x 9 columns]",
      "text/html": "<div>\n<style scoped>\n    .dataframe tbody tr th:only-of-type {\n        vertical-align: middle;\n    }\n\n    .dataframe tbody tr th {\n        vertical-align: top;\n    }\n\n    .dataframe thead th {\n        text-align: right;\n    }\n</style>\n<table border=\"1\" class=\"dataframe\">\n  <thead>\n    <tr style=\"text-align: right;\">\n      <th></th>\n      <th>datetime</th>\n      <th>text_clean</th>\n      <th>compound</th>\n      <th>pos</th>\n      <th>neu</th>\n      <th>neg</th>\n      <th>subjectivity</th>\n      <th>polarity</th>\n      <th>pysenti_score</th>\n    </tr>\n  </thead>\n  <tbody>\n    <tr>\n      <th>0</th>\n      <td>2022-01-01 23:00:00</td>\n      <td>mot tokens latoken airdrop maybe bitcoin crypt...</td>\n      <td>0.0000</td>\n      <td>0.000</td>\n      <td>1.000</td>\n      <td>0.000</td>\n      <td>0.000000</td>\n      <td>0.000000</td>\n      <td>0.0</td>\n    </tr>\n    <tr>\n      <th>1</th>\n      <td>2022-01-01 23:00:00</td>\n      <td>mara bitcoin exposure top trade q</td>\n      <td>0.2023</td>\n      <td>0.265</td>\n      <td>0.735</td>\n      <td>0.000</td>\n      <td>0.500000</td>\n      <td>0.500000</td>\n      <td>0.0</td>\n    </tr>\n    <tr>\n      <th>2</th>\n      <td>2022-01-01 23:00:00</td>\n      <td>every time bell rings titano make money bitcoin</td>\n      <td>0.0000</td>\n      <td>0.000</td>\n      <td>1.000</td>\n      <td>0.000</td>\n      <td>0.000000</td>\n      <td>0.000000</td>\n      <td>0.0</td>\n    </tr>\n    <tr>\n      <th>3</th>\n      <td>2022-01-01 23:00:00</td>\n      <td>interested losing money keep money bank accoun...</td>\n      <td>0.8360</td>\n      <td>0.419</td>\n      <td>0.447</td>\n      <td>0.134</td>\n      <td>0.703333</td>\n      <td>0.356667</td>\n      <td>-1.0</td>\n    </tr>\n    <tr>\n      <th>4</th>\n      <td>2022-01-01 23:00:00</td>\n      <td>jessekellydc money root every institution bitc...</td>\n      <td>0.5106</td>\n      <td>0.231</td>\n      <td>0.769</td>\n      <td>0.000</td>\n      <td>0.000000</td>\n      <td>0.000000</td>\n      <td>0.0</td>\n    </tr>\n    <tr>\n      <th>...</th>\n      <td>...</td>\n      <td>...</td>\n      <td>...</td>\n      <td>...</td>\n      <td>...</td>\n      <td>...</td>\n      <td>...</td>\n      <td>...</td>\n      <td>...</td>\n    </tr>\n    <tr>\n      <th>95</th>\n      <td>2022-01-01 23:00:00</td>\n      <td>check skeleton brawlies premium nfts collectio...</td>\n      <td>0.0000</td>\n      <td>0.000</td>\n      <td>1.000</td>\n      <td>0.000</td>\n      <td>0.000000</td>\n      <td>0.000000</td>\n      <td>0.0</td>\n    </tr>\n    <tr>\n      <th>96</th>\n      <td>2022-01-01 23:00:00</td>\n      <td>miner spray paint paint pen acrylic canvas x c...</td>\n      <td>0.0000</td>\n      <td>0.000</td>\n      <td>1.000</td>\n      <td>0.000</td>\n      <td>0.000000</td>\n      <td>0.000000</td>\n      <td>0.0</td>\n    </tr>\n    <tr>\n      <th>97</th>\n      <td>2022-01-01 23:00:00</td>\n      <td>xirallics mcbyrne mozilla need gpu surf porn a...</td>\n      <td>0.2263</td>\n      <td>0.119</td>\n      <td>0.881</td>\n      <td>0.000</td>\n      <td>0.100000</td>\n      <td>0.300000</td>\n      <td>0.0</td>\n    </tr>\n    <tr>\n      <th>98</th>\n      <td>2022-01-01 23:00:00</td>\n      <td>contributors convictions bitcoin legacy letter</td>\n      <td>0.0000</td>\n      <td>0.000</td>\n      <td>1.000</td>\n      <td>0.000</td>\n      <td>0.000000</td>\n      <td>0.000000</td>\n      <td>-1.0</td>\n    </tr>\n    <tr>\n      <th>99</th>\n      <td>2022-01-01 23:00:00</td>\n      <td>bitcoin solves trillion problem valued lt tril...</td>\n      <td>0.3182</td>\n      <td>0.299</td>\n      <td>0.539</td>\n      <td>0.162</td>\n      <td>0.000000</td>\n      <td>0.000000</td>\n      <td>0.0</td>\n    </tr>\n  </tbody>\n</table>\n<p>100 rows × 9 columns</p>\n</div>"
     },
     "execution_count": 106,
     "metadata": {},
     "output_type": "execute_result"
    }
   ],
   "source": [
    "tweets_text.head(100)"
   ],
   "metadata": {
    "collapsed": false,
    "pycharm": {
     "name": "#%%\n"
    }
   }
  },
  {
   "cell_type": "code",
   "execution_count": 107,
   "outputs": [],
   "source": [
    "tweets_text.to_csv('./data/Twitter/total_tweets_sentiment_score.csv')"
   ],
   "metadata": {
    "collapsed": false,
    "pycharm": {
     "name": "#%%\n"
    }
   }
  },
  {
   "cell_type": "markdown",
   "source": [
    "### Do not remove the neutral score"
   ],
   "metadata": {
    "collapsed": false,
    "pycharm": {
     "name": "#%% md\n"
    }
   }
  },
  {
   "cell_type": "code",
   "execution_count": 108,
   "outputs": [],
   "source": [
    "tweets_score= pd.DataFrame(columns=['datetime','compound','polarity','subjectivity'])\n",
    "tweets_text['datetime']=pd.to_datetime(tweets_text['datetime'])\n",
    "# Grouping by datetime and calculating mean sentiment score\n",
    "compound_grouped_data = tweets_text.groupby('datetime')['compound'].mean()\n",
    "tweets_score['compound']=compound_grouped_data\n",
    "\n",
    "polarity_data=tweets_text.groupby('datetime')['polarity'].mean()\n",
    "subjectivity_data=tweets_text.groupby('datetime')['subjectivity'].mean()\n",
    "\n",
    "tweets_score['polarity']=polarity_data\n",
    "tweets_score['subjectivity']=subjectivity_data"
   ],
   "metadata": {
    "collapsed": false,
    "pycharm": {
     "name": "#%%\n"
    }
   }
  },
  {
   "cell_type": "code",
   "execution_count": 109,
   "outputs": [
    {
     "data": {
      "text/plain": "datetime\n2022-01-01 00:00:00    0.228459\n2022-01-01 01:00:00    0.235804\n2022-01-01 02:00:00    0.216377\n2022-01-01 03:00:00    0.254585\n2022-01-01 04:00:00    0.199023\n                         ...   \n2022-06-30 19:00:00    0.097033\n2022-06-30 20:00:00    0.096938\n2022-06-30 21:00:00    0.112159\n2022-06-30 22:00:00    0.104823\n2022-06-30 23:00:00    0.097806\nName: compound, Length: 4318, dtype: float64"
     },
     "execution_count": 109,
     "metadata": {},
     "output_type": "execute_result"
    }
   ],
   "source": [
    "compound_grouped_data"
   ],
   "metadata": {
    "collapsed": false,
    "pycharm": {
     "name": "#%%\n"
    }
   }
  },
  {
   "cell_type": "code",
   "execution_count": 110,
   "outputs": [
    {
     "data": {
      "text/plain": "datetime\n2022-01-01 00:00:00    0.127819\n2022-01-01 01:00:00    0.115225\n2022-01-01 02:00:00    0.094649\n2022-01-01 03:00:00    0.124391\n2022-01-01 04:00:00    0.106416\n                         ...   \n2022-06-30 19:00:00    0.062959\n2022-06-30 20:00:00    0.049762\n2022-06-30 21:00:00    0.054471\n2022-06-30 22:00:00    0.061164\n2022-06-30 23:00:00    0.061618\nName: polarity, Length: 4318, dtype: float64"
     },
     "execution_count": 110,
     "metadata": {},
     "output_type": "execute_result"
    }
   ],
   "source": [
    "polarity_data"
   ],
   "metadata": {
    "collapsed": false,
    "pycharm": {
     "name": "#%%\n"
    }
   }
  },
  {
   "cell_type": "code",
   "execution_count": 111,
   "outputs": [
    {
     "data": {
      "text/plain": "datetime\n2022-01-01 00:00:00    0.399377\n2022-01-01 01:00:00    0.380319\n2022-01-01 02:00:00    0.391375\n2022-01-01 03:00:00    0.376654\n2022-01-01 04:00:00    0.405293\n                         ...   \n2022-06-30 19:00:00    0.339059\n2022-06-30 20:00:00    0.366837\n2022-06-30 21:00:00    0.355057\n2022-06-30 22:00:00    0.362953\n2022-06-30 23:00:00    0.358823\nName: subjectivity, Length: 4318, dtype: float64"
     },
     "execution_count": 111,
     "metadata": {},
     "output_type": "execute_result"
    }
   ],
   "source": [
    "subjectivity_data"
   ],
   "metadata": {
    "collapsed": false,
    "pycharm": {
     "name": "#%%\n"
    }
   }
  },
  {
   "cell_type": "code",
   "execution_count": 102,
   "outputs": [],
   "source": [
    "tweets_score.drop(columns=['datetime'],inplace=True)"
   ],
   "metadata": {
    "collapsed": false,
    "pycharm": {
     "name": "#%%\n"
    }
   }
  },
  {
   "cell_type": "code",
   "execution_count": 103,
   "outputs": [
    {
     "data": {
      "text/plain": "                     compound  polarity  subjectivity\ndatetime                                             \n2022-01-01 00:00:00  0.228459  0.127819      0.399377\n2022-01-01 01:00:00  0.235804  0.115225      0.380319\n2022-01-01 02:00:00  0.216377  0.094649      0.391375\n2022-01-01 03:00:00  0.254585  0.124391      0.376654\n2022-01-01 04:00:00  0.199023  0.106416      0.405293\n...                       ...       ...           ...\n2022-06-30 19:00:00  0.097033  0.062959      0.339059\n2022-06-30 20:00:00  0.096938  0.049762      0.366837\n2022-06-30 21:00:00  0.112159  0.054471      0.355057\n2022-06-30 22:00:00  0.104823  0.061164      0.362953\n2022-06-30 23:00:00  0.097806  0.061618      0.358823\n\n[4318 rows x 3 columns]",
      "text/html": "<div>\n<style scoped>\n    .dataframe tbody tr th:only-of-type {\n        vertical-align: middle;\n    }\n\n    .dataframe tbody tr th {\n        vertical-align: top;\n    }\n\n    .dataframe thead th {\n        text-align: right;\n    }\n</style>\n<table border=\"1\" class=\"dataframe\">\n  <thead>\n    <tr style=\"text-align: right;\">\n      <th></th>\n      <th>compound</th>\n      <th>polarity</th>\n      <th>subjectivity</th>\n    </tr>\n    <tr>\n      <th>datetime</th>\n      <th></th>\n      <th></th>\n      <th></th>\n    </tr>\n  </thead>\n  <tbody>\n    <tr>\n      <th>2022-01-01 00:00:00</th>\n      <td>0.228459</td>\n      <td>0.127819</td>\n      <td>0.399377</td>\n    </tr>\n    <tr>\n      <th>2022-01-01 01:00:00</th>\n      <td>0.235804</td>\n      <td>0.115225</td>\n      <td>0.380319</td>\n    </tr>\n    <tr>\n      <th>2022-01-01 02:00:00</th>\n      <td>0.216377</td>\n      <td>0.094649</td>\n      <td>0.391375</td>\n    </tr>\n    <tr>\n      <th>2022-01-01 03:00:00</th>\n      <td>0.254585</td>\n      <td>0.124391</td>\n      <td>0.376654</td>\n    </tr>\n    <tr>\n      <th>2022-01-01 04:00:00</th>\n      <td>0.199023</td>\n      <td>0.106416</td>\n      <td>0.405293</td>\n    </tr>\n    <tr>\n      <th>...</th>\n      <td>...</td>\n      <td>...</td>\n      <td>...</td>\n    </tr>\n    <tr>\n      <th>2022-06-30 19:00:00</th>\n      <td>0.097033</td>\n      <td>0.062959</td>\n      <td>0.339059</td>\n    </tr>\n    <tr>\n      <th>2022-06-30 20:00:00</th>\n      <td>0.096938</td>\n      <td>0.049762</td>\n      <td>0.366837</td>\n    </tr>\n    <tr>\n      <th>2022-06-30 21:00:00</th>\n      <td>0.112159</td>\n      <td>0.054471</td>\n      <td>0.355057</td>\n    </tr>\n    <tr>\n      <th>2022-06-30 22:00:00</th>\n      <td>0.104823</td>\n      <td>0.061164</td>\n      <td>0.362953</td>\n    </tr>\n    <tr>\n      <th>2022-06-30 23:00:00</th>\n      <td>0.097806</td>\n      <td>0.061618</td>\n      <td>0.358823</td>\n    </tr>\n  </tbody>\n</table>\n<p>4318 rows × 3 columns</p>\n</div>"
     },
     "execution_count": 103,
     "metadata": {},
     "output_type": "execute_result"
    }
   ],
   "source": [
    "tweets_score"
   ],
   "metadata": {
    "collapsed": false,
    "pycharm": {
     "name": "#%%\n"
    }
   }
  },
  {
   "cell_type": "markdown",
   "source": [
    "### Remove the netural score"
   ],
   "metadata": {
    "collapsed": false,
    "pycharm": {
     "name": "#%% md\n"
    }
   }
  },
  {
   "cell_type": "code",
   "execution_count": 112,
   "outputs": [],
   "source": [
    "tweets_text_filter=tweets_text[tweets_text['compound'] != 0]"
   ],
   "metadata": {
    "collapsed": false,
    "pycharm": {
     "name": "#%%\n"
    }
   }
  },
  {
   "cell_type": "code",
   "execution_count": 113,
   "outputs": [
    {
     "data": {
      "text/plain": "                   datetime  \\\n1       2022-01-01 23:00:00   \n3       2022-01-01 23:00:00   \n4       2022-01-01 23:00:00   \n5       2022-01-01 23:00:00   \n8       2022-01-01 23:00:00   \n...                     ...   \n3324859 2022-06-30 00:00:00   \n3324860 2022-06-30 00:00:00   \n3324862 2022-06-30 00:00:00   \n3324863 2022-06-30 00:00:00   \n3324864 2022-06-30 00:00:00   \n\n                                                text_clean  compound    pos  \\\n1                        mara bitcoin exposure top trade q    0.2023  0.265   \n3        interested losing money keep money bank accoun...    0.8360  0.419   \n4        jessekellydc money root every institution bitc...    0.5106  0.231   \n5        nikitabier people want basis truth interaction...   -0.4019  0.266   \n8        accomplished built needed community center rur...    0.5994  0.164   \n...                                                    ...       ...    ...   \n3324859  bull bear support love volmex change bitcoin e...    0.7845  0.434   \n3324860  retrotechnoir think bitcoin people would like ...    0.7506  0.310   \n3324862  btcusd bullish macd crossover alert interval e...    0.5267  0.173   \n3324863  btcarchive really bitcoin run without internet...   -0.1531  0.085   \n3324864  shakespeare quote day love love alters alterat...    0.8632  0.325   \n\n           neu    neg  subjectivity  polarity  pysenti_score  \n1        0.735  0.000      0.500000  0.500000            0.0  \n3        0.447  0.134      0.703333  0.356667           -1.0  \n4        0.769  0.000      0.000000  0.000000            0.0  \n5        0.475  0.259      0.644444 -0.011111            1.0  \n8        0.836  0.000      0.233333  0.087500            1.0  \n...        ...    ...           ...       ...            ...  \n3324859  0.566  0.000      0.600000  0.500000            0.0  \n3324860  0.615  0.075      0.547619  0.114286            0.0  \n3324862  0.827  0.000      0.000000  0.000000           -1.0  \n3324863  0.806  0.109      0.287500  0.062500           -1.0  \n3324864  0.675  0.000      0.600000  0.500000            0.0  \n\n[2505233 rows x 9 columns]",
      "text/html": "<div>\n<style scoped>\n    .dataframe tbody tr th:only-of-type {\n        vertical-align: middle;\n    }\n\n    .dataframe tbody tr th {\n        vertical-align: top;\n    }\n\n    .dataframe thead th {\n        text-align: right;\n    }\n</style>\n<table border=\"1\" class=\"dataframe\">\n  <thead>\n    <tr style=\"text-align: right;\">\n      <th></th>\n      <th>datetime</th>\n      <th>text_clean</th>\n      <th>compound</th>\n      <th>pos</th>\n      <th>neu</th>\n      <th>neg</th>\n      <th>subjectivity</th>\n      <th>polarity</th>\n      <th>pysenti_score</th>\n    </tr>\n  </thead>\n  <tbody>\n    <tr>\n      <th>1</th>\n      <td>2022-01-01 23:00:00</td>\n      <td>mara bitcoin exposure top trade q</td>\n      <td>0.2023</td>\n      <td>0.265</td>\n      <td>0.735</td>\n      <td>0.000</td>\n      <td>0.500000</td>\n      <td>0.500000</td>\n      <td>0.0</td>\n    </tr>\n    <tr>\n      <th>3</th>\n      <td>2022-01-01 23:00:00</td>\n      <td>interested losing money keep money bank accoun...</td>\n      <td>0.8360</td>\n      <td>0.419</td>\n      <td>0.447</td>\n      <td>0.134</td>\n      <td>0.703333</td>\n      <td>0.356667</td>\n      <td>-1.0</td>\n    </tr>\n    <tr>\n      <th>4</th>\n      <td>2022-01-01 23:00:00</td>\n      <td>jessekellydc money root every institution bitc...</td>\n      <td>0.5106</td>\n      <td>0.231</td>\n      <td>0.769</td>\n      <td>0.000</td>\n      <td>0.000000</td>\n      <td>0.000000</td>\n      <td>0.0</td>\n    </tr>\n    <tr>\n      <th>5</th>\n      <td>2022-01-01 23:00:00</td>\n      <td>nikitabier people want basis truth interaction...</td>\n      <td>-0.4019</td>\n      <td>0.266</td>\n      <td>0.475</td>\n      <td>0.259</td>\n      <td>0.644444</td>\n      <td>-0.011111</td>\n      <td>1.0</td>\n    </tr>\n    <tr>\n      <th>8</th>\n      <td>2022-01-01 23:00:00</td>\n      <td>accomplished built needed community center rur...</td>\n      <td>0.5994</td>\n      <td>0.164</td>\n      <td>0.836</td>\n      <td>0.000</td>\n      <td>0.233333</td>\n      <td>0.087500</td>\n      <td>1.0</td>\n    </tr>\n    <tr>\n      <th>...</th>\n      <td>...</td>\n      <td>...</td>\n      <td>...</td>\n      <td>...</td>\n      <td>...</td>\n      <td>...</td>\n      <td>...</td>\n      <td>...</td>\n      <td>...</td>\n    </tr>\n    <tr>\n      <th>3324859</th>\n      <td>2022-06-30 00:00:00</td>\n      <td>bull bear support love volmex change bitcoin e...</td>\n      <td>0.7845</td>\n      <td>0.434</td>\n      <td>0.566</td>\n      <td>0.000</td>\n      <td>0.600000</td>\n      <td>0.500000</td>\n      <td>0.0</td>\n    </tr>\n    <tr>\n      <th>3324860</th>\n      <td>2022-06-30 00:00:00</td>\n      <td>retrotechnoir think bitcoin people would like ...</td>\n      <td>0.7506</td>\n      <td>0.310</td>\n      <td>0.615</td>\n      <td>0.075</td>\n      <td>0.547619</td>\n      <td>0.114286</td>\n      <td>0.0</td>\n    </tr>\n    <tr>\n      <th>3324862</th>\n      <td>2022-06-30 00:00:00</td>\n      <td>btcusd bullish macd crossover alert interval e...</td>\n      <td>0.5267</td>\n      <td>0.173</td>\n      <td>0.827</td>\n      <td>0.000</td>\n      <td>0.000000</td>\n      <td>0.000000</td>\n      <td>-1.0</td>\n    </tr>\n    <tr>\n      <th>3324863</th>\n      <td>2022-06-30 00:00:00</td>\n      <td>btcarchive really bitcoin run without internet...</td>\n      <td>-0.1531</td>\n      <td>0.085</td>\n      <td>0.806</td>\n      <td>0.109</td>\n      <td>0.287500</td>\n      <td>0.062500</td>\n      <td>-1.0</td>\n    </tr>\n    <tr>\n      <th>3324864</th>\n      <td>2022-06-30 00:00:00</td>\n      <td>shakespeare quote day love love alters alterat...</td>\n      <td>0.8632</td>\n      <td>0.325</td>\n      <td>0.675</td>\n      <td>0.000</td>\n      <td>0.600000</td>\n      <td>0.500000</td>\n      <td>0.0</td>\n    </tr>\n  </tbody>\n</table>\n<p>2505233 rows × 9 columns</p>\n</div>"
     },
     "execution_count": 113,
     "metadata": {},
     "output_type": "execute_result"
    }
   ],
   "source": [
    "tweets_text_filter"
   ],
   "metadata": {
    "collapsed": false,
    "pycharm": {
     "name": "#%%\n"
    }
   }
  },
  {
   "cell_type": "code",
   "execution_count": 114,
   "outputs": [
    {
     "name": "stderr",
     "output_type": "stream",
     "text": [
      "/var/folders/vp/8_rd4_c56g3dpqb1167z6tqr0000gn/T/ipykernel_13826/975353919.py:2: SettingWithCopyWarning: \n",
      "A value is trying to be set on a copy of a slice from a DataFrame.\n",
      "Try using .loc[row_indexer,col_indexer] = value instead\n",
      "\n",
      "See the caveats in the documentation: https://pandas.pydata.org/pandas-docs/stable/user_guide/indexing.html#returning-a-view-versus-a-copy\n",
      "  tweets_text_filter['datetime']=pd.to_datetime(tweets_text_filter['datetime'])\n"
     ]
    }
   ],
   "source": [
    "filter_tweets_score= pd.DataFrame(columns=['datetime','compound','polarity','subjectivity'])\n",
    "tweets_text_filter['datetime']=pd.to_datetime(tweets_text_filter['datetime'])\n",
    "# Grouping by datetime and calculating mean sentiment score\n",
    "compound_grouped_data = tweets_text_filter.groupby('datetime')['compound'].mean()\n",
    "filter_tweets_score['compound']=compound_grouped_data\n",
    "\n",
    "polarity_data=tweets_text_filter.groupby('datetime')['polarity'].mean()\n",
    "subjectivity_data=tweets_text_filter.groupby('datetime')['subjectivity'].mean()\n",
    "\n",
    "filter_tweets_score['polarity']=polarity_data\n",
    "filter_tweets_score['subjectivity']=subjectivity_data"
   ],
   "metadata": {
    "collapsed": false,
    "pycharm": {
     "name": "#%%\n"
    }
   }
  },
  {
   "cell_type": "code",
   "execution_count": 115,
   "outputs": [],
   "source": [
    "filter_tweets_score.drop(columns=['datetime'],inplace=True)"
   ],
   "metadata": {
    "collapsed": false,
    "pycharm": {
     "name": "#%%\n"
    }
   }
  },
  {
   "cell_type": "code",
   "execution_count": 116,
   "outputs": [
    {
     "data": {
      "text/plain": "                     compound  polarity  subjectivity\ndatetime                                             \n2022-01-01 00:00:00  0.294186  0.156530      0.464577\n2022-01-01 01:00:00  0.315843  0.140626      0.455090\n2022-01-01 02:00:00  0.273377  0.113804      0.440913\n2022-01-01 03:00:00  0.323687  0.148573      0.436693\n2022-01-01 04:00:00  0.258454  0.127924      0.469470\n...                       ...       ...           ...\n2022-06-30 19:00:00  0.129110  0.071686      0.391262\n2022-06-30 20:00:00  0.123428  0.055231      0.417231\n2022-06-30 21:00:00  0.145313  0.063928      0.405763\n2022-06-30 22:00:00  0.136381  0.069881      0.414769\n2022-06-30 23:00:00  0.128164  0.074922      0.420452\n\n[4318 rows x 3 columns]",
      "text/html": "<div>\n<style scoped>\n    .dataframe tbody tr th:only-of-type {\n        vertical-align: middle;\n    }\n\n    .dataframe tbody tr th {\n        vertical-align: top;\n    }\n\n    .dataframe thead th {\n        text-align: right;\n    }\n</style>\n<table border=\"1\" class=\"dataframe\">\n  <thead>\n    <tr style=\"text-align: right;\">\n      <th></th>\n      <th>compound</th>\n      <th>polarity</th>\n      <th>subjectivity</th>\n    </tr>\n    <tr>\n      <th>datetime</th>\n      <th></th>\n      <th></th>\n      <th></th>\n    </tr>\n  </thead>\n  <tbody>\n    <tr>\n      <th>2022-01-01 00:00:00</th>\n      <td>0.294186</td>\n      <td>0.156530</td>\n      <td>0.464577</td>\n    </tr>\n    <tr>\n      <th>2022-01-01 01:00:00</th>\n      <td>0.315843</td>\n      <td>0.140626</td>\n      <td>0.455090</td>\n    </tr>\n    <tr>\n      <th>2022-01-01 02:00:00</th>\n      <td>0.273377</td>\n      <td>0.113804</td>\n      <td>0.440913</td>\n    </tr>\n    <tr>\n      <th>2022-01-01 03:00:00</th>\n      <td>0.323687</td>\n      <td>0.148573</td>\n      <td>0.436693</td>\n    </tr>\n    <tr>\n      <th>2022-01-01 04:00:00</th>\n      <td>0.258454</td>\n      <td>0.127924</td>\n      <td>0.469470</td>\n    </tr>\n    <tr>\n      <th>...</th>\n      <td>...</td>\n      <td>...</td>\n      <td>...</td>\n    </tr>\n    <tr>\n      <th>2022-06-30 19:00:00</th>\n      <td>0.129110</td>\n      <td>0.071686</td>\n      <td>0.391262</td>\n    </tr>\n    <tr>\n      <th>2022-06-30 20:00:00</th>\n      <td>0.123428</td>\n      <td>0.055231</td>\n      <td>0.417231</td>\n    </tr>\n    <tr>\n      <th>2022-06-30 21:00:00</th>\n      <td>0.145313</td>\n      <td>0.063928</td>\n      <td>0.405763</td>\n    </tr>\n    <tr>\n      <th>2022-06-30 22:00:00</th>\n      <td>0.136381</td>\n      <td>0.069881</td>\n      <td>0.414769</td>\n    </tr>\n    <tr>\n      <th>2022-06-30 23:00:00</th>\n      <td>0.128164</td>\n      <td>0.074922</td>\n      <td>0.420452</td>\n    </tr>\n  </tbody>\n</table>\n<p>4318 rows × 3 columns</p>\n</div>"
     },
     "execution_count": 116,
     "metadata": {},
     "output_type": "execute_result"
    }
   ],
   "source": [
    "filter_tweets_score"
   ],
   "metadata": {
    "collapsed": false,
    "pycharm": {
     "name": "#%%\n"
    }
   }
  },
  {
   "cell_type": "code",
   "execution_count": 117,
   "outputs": [],
   "source": [
    "tweets_score.to_csv('./data/Twitter/tweets_score.csv')"
   ],
   "metadata": {
    "collapsed": false,
    "pycharm": {
     "name": "#%%\n"
    }
   }
  },
  {
   "cell_type": "code",
   "execution_count": 118,
   "outputs": [],
   "source": [
    "filter_tweets_score.to_csv('./data/Twitter/filter_tweets_score.csv')"
   ],
   "metadata": {
    "collapsed": false,
    "pycharm": {
     "name": "#%%\n"
    }
   }
  },
  {
   "cell_type": "code",
   "execution_count": null,
   "outputs": [],
   "source": [],
   "metadata": {
    "collapsed": false,
    "pycharm": {
     "name": "#%%\n"
    }
   }
  }
 ],
 "metadata": {
  "kernelspec": {
   "display_name": "Python 3",
   "language": "python",
   "name": "python3"
  },
  "language_info": {
   "codemirror_mode": {
    "name": "ipython",
    "version": 2
   },
   "file_extension": ".py",
   "mimetype": "text/x-python",
   "name": "python",
   "nbconvert_exporter": "python",
   "pygments_lexer": "ipython2",
   "version": "2.7.6"
  }
 },
 "nbformat": 4,
 "nbformat_minor": 0
}