{
 "cells": [
  {
   "cell_type": "markdown",
   "source": [
    "# Tweets Data Preprocessing\n",
    "\n",
    "[Subsetting data](https://www.kaggle.com/code/roonat/subsetting-data-81c31d/edit)\n",
    "\n",
    "This file is used to retrieve the tweet volume grouped by hourly datetime and apply the floor function to the datetime to obtain the rounded datetime."
   ],
   "metadata": {
    "collapsed": false,
    "pycharm": {
     "name": "#%% md\n"
    }
   }
  },
  {
   "cell_type": "code",
   "execution_count": 2,
   "outputs": [],
   "source": [
    "import pandas as pd\n",
    "import numpy as np"
   ],
   "metadata": {
    "collapsed": false,
    "pycharm": {
     "name": "#%%\n"
    }
   }
  },
  {
   "cell_type": "code",
   "execution_count": 4,
   "outputs": [
    {
     "name": "stderr",
     "output_type": "stream",
     "text": [
      "/var/folders/vp/8_rd4_c56g3dpqb1167z6tqr0000gn/T/ipykernel_24098/182864493.py:1: DtypeWarning: Columns (0,1,2,3) have mixed types. Specify dtype option on import or set low_memory=False.\n",
      "  data_bit=pd.read_csv('./data/bitcoin-tweets-2022.csv')\n"
     ]
    },
    {
     "data": {
      "text/plain": "                      datetime        date        username  \\\n0    2022-01-01 23:59:56+00:00  2022-01-01   priconoticias   \n1    2022-01-01 23:59:53+00:00  2022-01-01  mmonlineonline   \n2    2022-01-01 23:59:43+00:00  2022-01-01  CoachKevinRose   \n3    2022-01-01 23:59:35+00:00  2022-01-01  robert54177167   \n4    2022-01-01 23:59:34+00:00  2022-01-01  WorldCoinIndex   \n..                         ...         ...             ...   \n995  2022-01-01 23:02:39+00:00  2022-01-01      BotcoinUSD   \n996  2022-01-01 23:02:37+00:00  2022-01-01           MLCLP   \n997  2022-01-01 23:02:37+00:00  2022-01-01   clevercrypto7   \n998  2022-01-01 23:02:35+00:00  2022-01-01      JAG_Trader   \n999  2022-01-01 23:02:32+00:00  2022-01-01  WhaleWatchProx   \n\n                                                  text  \n0    0.4MOT TOKENS IN #LATOKEN  airdrop and maybe m...  \n1    MARA for Bitcoin Exposure: Top Trade Q1 2022 h...  \n2    Every Time the Bell Rings The Titano makes MON...  \n3    If your interested in losing money in 2022 kee...  \n4    Bitcoin price index https://t.co/o7UcHJUhC6 #U...  \n..                                                 ...  \n995  on the 01/01/2022 at 11:02 1BTC was worth $473...  \n996  If You Invested $1,000 In Bitcoin, Dogecoin An...  \n997  I bloody forgot about the 1970s gold fractal. ...  \n998  $BTC weekly chart doesn't look bad to IMO.  St...  \n999  Bitcoin Whale withdraws half a billion dollars...  \n\n[1000 rows x 4 columns]",
      "text/html": "<div>\n<style scoped>\n    .dataframe tbody tr th:only-of-type {\n        vertical-align: middle;\n    }\n\n    .dataframe tbody tr th {\n        vertical-align: top;\n    }\n\n    .dataframe thead th {\n        text-align: right;\n    }\n</style>\n<table border=\"1\" class=\"dataframe\">\n  <thead>\n    <tr style=\"text-align: right;\">\n      <th></th>\n      <th>datetime</th>\n      <th>date</th>\n      <th>username</th>\n      <th>text</th>\n    </tr>\n  </thead>\n  <tbody>\n    <tr>\n      <th>0</th>\n      <td>2022-01-01 23:59:56+00:00</td>\n      <td>2022-01-01</td>\n      <td>priconoticias</td>\n      <td>0.4MOT TOKENS IN #LATOKEN  airdrop and maybe m...</td>\n    </tr>\n    <tr>\n      <th>1</th>\n      <td>2022-01-01 23:59:53+00:00</td>\n      <td>2022-01-01</td>\n      <td>mmonlineonline</td>\n      <td>MARA for Bitcoin Exposure: Top Trade Q1 2022 h...</td>\n    </tr>\n    <tr>\n      <th>2</th>\n      <td>2022-01-01 23:59:43+00:00</td>\n      <td>2022-01-01</td>\n      <td>CoachKevinRose</td>\n      <td>Every Time the Bell Rings The Titano makes MON...</td>\n    </tr>\n    <tr>\n      <th>3</th>\n      <td>2022-01-01 23:59:35+00:00</td>\n      <td>2022-01-01</td>\n      <td>robert54177167</td>\n      <td>If your interested in losing money in 2022 kee...</td>\n    </tr>\n    <tr>\n      <th>4</th>\n      <td>2022-01-01 23:59:34+00:00</td>\n      <td>2022-01-01</td>\n      <td>WorldCoinIndex</td>\n      <td>Bitcoin price index https://t.co/o7UcHJUhC6 #U...</td>\n    </tr>\n    <tr>\n      <th>...</th>\n      <td>...</td>\n      <td>...</td>\n      <td>...</td>\n      <td>...</td>\n    </tr>\n    <tr>\n      <th>995</th>\n      <td>2022-01-01 23:02:39+00:00</td>\n      <td>2022-01-01</td>\n      <td>BotcoinUSD</td>\n      <td>on the 01/01/2022 at 11:02 1BTC was worth $473...</td>\n    </tr>\n    <tr>\n      <th>996</th>\n      <td>2022-01-01 23:02:37+00:00</td>\n      <td>2022-01-01</td>\n      <td>MLCLP</td>\n      <td>If You Invested $1,000 In Bitcoin, Dogecoin An...</td>\n    </tr>\n    <tr>\n      <th>997</th>\n      <td>2022-01-01 23:02:37+00:00</td>\n      <td>2022-01-01</td>\n      <td>clevercrypto7</td>\n      <td>I bloody forgot about the 1970s gold fractal. ...</td>\n    </tr>\n    <tr>\n      <th>998</th>\n      <td>2022-01-01 23:02:35+00:00</td>\n      <td>2022-01-01</td>\n      <td>JAG_Trader</td>\n      <td>$BTC weekly chart doesn't look bad to IMO.  St...</td>\n    </tr>\n    <tr>\n      <th>999</th>\n      <td>2022-01-01 23:02:32+00:00</td>\n      <td>2022-01-01</td>\n      <td>WhaleWatchProx</td>\n      <td>Bitcoin Whale withdraws half a billion dollars...</td>\n    </tr>\n  </tbody>\n</table>\n<p>1000 rows × 4 columns</p>\n</div>"
     },
     "execution_count": 4,
     "metadata": {},
     "output_type": "execute_result"
    }
   ],
   "source": [
    "data_bit=pd.read_csv('./data/bitcoin-tweets-2022.csv')\n",
    "data_bit.head(1000)"
   ],
   "metadata": {
    "collapsed": false,
    "pycharm": {
     "name": "#%%\n"
    }
   }
  },
  {
   "cell_type": "code",
   "execution_count": 5,
   "outputs": [],
   "source": [
    "data_bit['text']=data_bit['text'].str.replace('\\\"','\\'')"
   ],
   "metadata": {
    "collapsed": false,
    "pycharm": {
     "name": "#%%\n"
    }
   }
  },
  {
   "cell_type": "code",
   "execution_count": 6,
   "outputs": [],
   "source": [
    "# Assume \"data_bit\" is the Pandas DataFrame object\n",
    "# Attempt to convert the \"datetime\" column to datetime type and capture conversion errors.\n",
    "data_bit[\"datetime\"] = pd.to_datetime(data_bit[\"datetime\"], errors=\"coerce\")\n",
    "\n",
    "# Filter out the valid datetime\n",
    "valid_rows = data_bit[\"datetime\"].notnull()\n",
    "\n",
    "# Only keep the valid columns\n",
    "data_bit = data_bit[valid_rows]\n",
    "# data_bit[\"date\"] = pd.to_datetime(data_bit[\"date\"]).dt.date"
   ],
   "metadata": {
    "collapsed": false,
    "pycharm": {
     "name": "#%%\n"
    }
   }
  },
  {
   "cell_type": "code",
   "execution_count": 7,
   "outputs": [],
   "source": [
    "data_bit['datetime']=data_bit['datetime'].dt.floor('H')"
   ],
   "metadata": {
    "collapsed": false,
    "pycharm": {
     "name": "#%%\n"
    }
   }
  },
  {
   "cell_type": "code",
   "execution_count": 8,
   "outputs": [],
   "source": [
    "data_bit['datetime'] = data_bit['datetime'].dt.strftime('%Y-%m-%d %H:%M:%S')"
   ],
   "metadata": {
    "collapsed": false,
    "pycharm": {
     "name": "#%%\n"
    }
   }
  },
  {
   "cell_type": "code",
   "execution_count": 9,
   "outputs": [],
   "source": [
    "# get the tweets volume grouped by hourly datetime\n",
    "tweets_volume=data_bit.groupby('datetime').count()\n",
    "# drop the unuseful columns\n",
    "tweets_volume=tweets_volume.drop(columns=[\"date\",\"username\"])"
   ],
   "metadata": {
    "collapsed": false,
    "pycharm": {
     "name": "#%%\n"
    }
   }
  },
  {
   "cell_type": "code",
   "execution_count": 10,
   "outputs": [],
   "source": [
    "tweets_volume=tweets_volume[\"text\"].rename(\"tweet_volume\")"
   ],
   "metadata": {
    "collapsed": false,
    "pycharm": {
     "name": "#%%\n"
    }
   }
  },
  {
   "cell_type": "code",
   "execution_count": 11,
   "outputs": [
    {
     "data": {
      "text/plain": "datetime\n2022-01-01 00:00:00    1314\n2022-01-01 01:00:00    1064\n2022-01-01 02:00:00     986\n2022-01-01 03:00:00     942\n2022-01-01 04:00:00     832\n2022-01-01 05:00:00     863\n2022-01-01 06:00:00     749\n2022-01-01 07:00:00     752\n2022-01-01 08:00:00    1047\n2022-01-01 09:00:00     867\nName: tweet_volume, dtype: int64"
     },
     "execution_count": 11,
     "metadata": {},
     "output_type": "execute_result"
    }
   ],
   "source": [
    "tweets_volume.head(10)"
   ],
   "metadata": {
    "collapsed": false,
    "pycharm": {
     "name": "#%%\n"
    }
   }
  },
  {
   "cell_type": "code",
   "execution_count": 12,
   "outputs": [],
   "source": [
    "# tweets_volume.to_csv(\"tweets_volume.csv\")"
   ],
   "metadata": {
    "collapsed": false,
    "pycharm": {
     "name": "#%%\n"
    }
   }
  },
  {
   "cell_type": "code",
   "execution_count": 13,
   "outputs": [
    {
     "name": "stdout",
     "output_type": "stream",
     "text": [
      "<class 'pandas.core.frame.DataFrame'>\n",
      "Int64Index: 7865899 entries, 0 to 9257420\n",
      "Data columns (total 4 columns):\n",
      " #   Column    Dtype \n",
      "---  ------    ----- \n",
      " 0   datetime  object\n",
      " 1   date      object\n",
      " 2   username  object\n",
      " 3   text      object\n",
      "dtypes: object(4)\n",
      "memory usage: 300.1+ MB\n"
     ]
    }
   ],
   "source": [
    "data_bit.info()"
   ],
   "metadata": {
    "collapsed": false,
    "pycharm": {
     "name": "#%%\n"
    }
   }
  },
  {
   "cell_type": "code",
   "execution_count": 14,
   "outputs": [],
   "source": [
    "data_bit[\"date\"] = pd.to_datetime(data_bit[\"date\"]).dt.date"
   ],
   "metadata": {
    "collapsed": false,
    "pycharm": {
     "name": "#%%\n"
    }
   }
  },
  {
   "cell_type": "code",
   "execution_count": 15,
   "outputs": [
    {
     "name": "stdout",
     "output_type": "stream",
     "text": [
      "<class 'pandas.core.frame.DataFrame'>\n",
      "Int64Index: 7865899 entries, 0 to 9257420\n",
      "Data columns (total 4 columns):\n",
      " #   Column    Dtype \n",
      "---  ------    ----- \n",
      " 0   datetime  object\n",
      " 1   date      object\n",
      " 2   username  object\n",
      " 3   text      object\n",
      "dtypes: object(4)\n",
      "memory usage: 300.1+ MB\n"
     ]
    }
   ],
   "source": [
    "data_bit.info()"
   ],
   "metadata": {
    "collapsed": false,
    "pycharm": {
     "name": "#%%\n"
    }
   }
  },
  {
   "cell_type": "code",
   "execution_count": 16,
   "outputs": [],
   "source": [
    "data_bit2=data_bit.drop(columns=['date'])"
   ],
   "metadata": {
    "collapsed": false,
    "pycharm": {
     "name": "#%%\n"
    }
   }
  },
  {
   "cell_type": "code",
   "execution_count": 17,
   "outputs": [
    {
     "data": {
      "text/plain": "              datetime        username  \\\n0  2022-01-01 23:00:00   priconoticias   \n1  2022-01-01 23:00:00  mmonlineonline   \n2  2022-01-01 23:00:00  CoachKevinRose   \n3  2022-01-01 23:00:00  robert54177167   \n4  2022-01-01 23:00:00  WorldCoinIndex   \n5  2022-01-01 23:00:00    CommodoreBTC   \n6  2022-01-01 23:00:00     Raybonthird   \n7  2022-01-01 23:00:00          jhamby   \n8  2022-01-01 23:00:00       AxolotolH   \n9  2022-01-01 23:00:00     nyan_lou618   \n\n                                                text  \n0  0.4MOT TOKENS IN #LATOKEN  airdrop and maybe m...  \n1  MARA for Bitcoin Exposure: Top Trade Q1 2022 h...  \n2  Every Time the Bell Rings The Titano makes MON...  \n3  If your interested in losing money in 2022 kee...  \n4  Bitcoin price index https://t.co/o7UcHJUhC6 #U...  \n5  @JesseKellyDC Money is at the root of every in...  \n6  @nikitabier People want a basis of truth for t...  \n7  It means the opposite of what they want it to....  \n8  @SirPantsALot2 @fairguinevere @totallynotem_ @...  \n9  BTC diamond reversal and expected volatility f...  ",
      "text/html": "<div>\n<style scoped>\n    .dataframe tbody tr th:only-of-type {\n        vertical-align: middle;\n    }\n\n    .dataframe tbody tr th {\n        vertical-align: top;\n    }\n\n    .dataframe thead th {\n        text-align: right;\n    }\n</style>\n<table border=\"1\" class=\"dataframe\">\n  <thead>\n    <tr style=\"text-align: right;\">\n      <th></th>\n      <th>datetime</th>\n      <th>username</th>\n      <th>text</th>\n    </tr>\n  </thead>\n  <tbody>\n    <tr>\n      <th>0</th>\n      <td>2022-01-01 23:00:00</td>\n      <td>priconoticias</td>\n      <td>0.4MOT TOKENS IN #LATOKEN  airdrop and maybe m...</td>\n    </tr>\n    <tr>\n      <th>1</th>\n      <td>2022-01-01 23:00:00</td>\n      <td>mmonlineonline</td>\n      <td>MARA for Bitcoin Exposure: Top Trade Q1 2022 h...</td>\n    </tr>\n    <tr>\n      <th>2</th>\n      <td>2022-01-01 23:00:00</td>\n      <td>CoachKevinRose</td>\n      <td>Every Time the Bell Rings The Titano makes MON...</td>\n    </tr>\n    <tr>\n      <th>3</th>\n      <td>2022-01-01 23:00:00</td>\n      <td>robert54177167</td>\n      <td>If your interested in losing money in 2022 kee...</td>\n    </tr>\n    <tr>\n      <th>4</th>\n      <td>2022-01-01 23:00:00</td>\n      <td>WorldCoinIndex</td>\n      <td>Bitcoin price index https://t.co/o7UcHJUhC6 #U...</td>\n    </tr>\n    <tr>\n      <th>5</th>\n      <td>2022-01-01 23:00:00</td>\n      <td>CommodoreBTC</td>\n      <td>@JesseKellyDC Money is at the root of every in...</td>\n    </tr>\n    <tr>\n      <th>6</th>\n      <td>2022-01-01 23:00:00</td>\n      <td>Raybonthird</td>\n      <td>@nikitabier People want a basis of truth for t...</td>\n    </tr>\n    <tr>\n      <th>7</th>\n      <td>2022-01-01 23:00:00</td>\n      <td>jhamby</td>\n      <td>It means the opposite of what they want it to....</td>\n    </tr>\n    <tr>\n      <th>8</th>\n      <td>2022-01-01 23:00:00</td>\n      <td>AxolotolH</td>\n      <td>@SirPantsALot2 @fairguinevere @totallynotem_ @...</td>\n    </tr>\n    <tr>\n      <th>9</th>\n      <td>2022-01-01 23:00:00</td>\n      <td>nyan_lou618</td>\n      <td>BTC diamond reversal and expected volatility f...</td>\n    </tr>\n  </tbody>\n</table>\n</div>"
     },
     "execution_count": 17,
     "metadata": {},
     "output_type": "execute_result"
    }
   ],
   "source": [
    "data_bit2.head(10)"
   ],
   "metadata": {
    "collapsed": false,
    "pycharm": {
     "name": "#%%\n"
    }
   }
  },
  {
   "cell_type": "code",
   "execution_count": 18,
   "outputs": [],
   "source": [
    "#data_bit2.to_csv('tweets.csv',index=False)"
   ],
   "metadata": {
    "collapsed": false,
    "pycharm": {
     "name": "#%%\n"
    }
   }
  },
  {
   "cell_type": "code",
   "execution_count": 19,
   "outputs": [
    {
     "name": "stdout",
     "output_type": "stream",
     "text": [
      "<class 'pandas.core.frame.DataFrame'>\n",
      "Int64Index: 7865899 entries, 0 to 9257420\n",
      "Data columns (total 3 columns):\n",
      " #   Column    Dtype \n",
      "---  ------    ----- \n",
      " 0   datetime  object\n",
      " 1   username  object\n",
      " 2   text      object\n",
      "dtypes: object(3)\n",
      "memory usage: 240.0+ MB\n"
     ]
    }
   ],
   "source": [
    "data_bit2.info()"
   ],
   "metadata": {
    "collapsed": false,
    "pycharm": {
     "name": "#%%\n"
    }
   }
  },
  {
   "cell_type": "code",
   "execution_count": 20,
   "outputs": [],
   "source": [
    "users=data_bit.groupby('username').count()"
   ],
   "metadata": {
    "collapsed": false,
    "pycharm": {
     "name": "#%%\n"
    }
   }
  },
  {
   "cell_type": "code",
   "execution_count": 21,
   "outputs": [
    {
     "data": {
      "text/plain": "                 datetime    date    text\nusername                                 \ncripto_informe     198778  198778  198778\nsharky508          174995  174995  174995\nBierwagenTrish     118287  118287  118287\nbmurphypointman     66608   66608   66608\nLivePriceCrypto     63060   63060   63060\n...                   ...     ...     ...\nPinguinXbt              1       1       1\nPingvinSur              1       1       1\nPinheiroMancha          1       1       1\nPink7Electric           1       1       1\nSvetlan17627982         1       1       1\n\n[1038412 rows x 3 columns]",
      "text/html": "<div>\n<style scoped>\n    .dataframe tbody tr th:only-of-type {\n        vertical-align: middle;\n    }\n\n    .dataframe tbody tr th {\n        vertical-align: top;\n    }\n\n    .dataframe thead th {\n        text-align: right;\n    }\n</style>\n<table border=\"1\" class=\"dataframe\">\n  <thead>\n    <tr style=\"text-align: right;\">\n      <th></th>\n      <th>datetime</th>\n      <th>date</th>\n      <th>text</th>\n    </tr>\n    <tr>\n      <th>username</th>\n      <th></th>\n      <th></th>\n      <th></th>\n    </tr>\n  </thead>\n  <tbody>\n    <tr>\n      <th>cripto_informe</th>\n      <td>198778</td>\n      <td>198778</td>\n      <td>198778</td>\n    </tr>\n    <tr>\n      <th>sharky508</th>\n      <td>174995</td>\n      <td>174995</td>\n      <td>174995</td>\n    </tr>\n    <tr>\n      <th>BierwagenTrish</th>\n      <td>118287</td>\n      <td>118287</td>\n      <td>118287</td>\n    </tr>\n    <tr>\n      <th>bmurphypointman</th>\n      <td>66608</td>\n      <td>66608</td>\n      <td>66608</td>\n    </tr>\n    <tr>\n      <th>LivePriceCrypto</th>\n      <td>63060</td>\n      <td>63060</td>\n      <td>63060</td>\n    </tr>\n    <tr>\n      <th>...</th>\n      <td>...</td>\n      <td>...</td>\n      <td>...</td>\n    </tr>\n    <tr>\n      <th>PinguinXbt</th>\n      <td>1</td>\n      <td>1</td>\n      <td>1</td>\n    </tr>\n    <tr>\n      <th>PingvinSur</th>\n      <td>1</td>\n      <td>1</td>\n      <td>1</td>\n    </tr>\n    <tr>\n      <th>PinheiroMancha</th>\n      <td>1</td>\n      <td>1</td>\n      <td>1</td>\n    </tr>\n    <tr>\n      <th>Pink7Electric</th>\n      <td>1</td>\n      <td>1</td>\n      <td>1</td>\n    </tr>\n    <tr>\n      <th>Svetlan17627982</th>\n      <td>1</td>\n      <td>1</td>\n      <td>1</td>\n    </tr>\n  </tbody>\n</table>\n<p>1038412 rows × 3 columns</p>\n</div>"
     },
     "execution_count": 21,
     "metadata": {},
     "output_type": "execute_result"
    }
   ],
   "source": [
    "users.sort_values(by=\"text\",ascending=False)"
   ],
   "metadata": {
    "collapsed": false,
    "pycharm": {
     "name": "#%%\n"
    }
   }
  }
 ],
 "metadata": {
  "kernelspec": {
   "display_name": "Python 3",
   "language": "python",
   "name": "python3"
  },
  "language_info": {
   "codemirror_mode": {
    "name": "ipython",
    "version": 2
   },
   "file_extension": ".py",
   "mimetype": "text/x-python",
   "name": "python",
   "nbconvert_exporter": "python",
   "pygments_lexer": "ipython2",
   "version": "2.7.6"
  }
 },
 "nbformat": 4,
 "nbformat_minor": 0
}