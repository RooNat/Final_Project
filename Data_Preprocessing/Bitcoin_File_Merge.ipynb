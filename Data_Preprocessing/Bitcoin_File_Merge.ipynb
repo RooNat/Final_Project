{
 "cells": [
  {
   "cell_type": "markdown",
   "source": [
    "# Data Merge\n",
    "\n",
    "Data include Close prices, Google Trends, Tweets Sentiment Score, Reddit Sentiment Score"
   ],
   "metadata": {
    "collapsed": false,
    "pycharm": {
     "name": "#%% md\n"
    }
   }
  },
  {
   "cell_type": "code",
   "execution_count": 82,
   "outputs": [],
   "source": [
    "import numpy as np\n",
    "import pandas as pd"
   ],
   "metadata": {
    "collapsed": false,
    "pycharm": {
     "name": "#%%\n"
    }
   }
  },
  {
   "cell_type": "code",
   "execution_count": 83,
   "outputs": [],
   "source": [
    "reddit=pd.read_csv('./../data/Reddit/reddit_score.csv')\n",
    "tweets=pd.read_csv('./../data/Twitter/tweets_score.csv')\n",
    "trends=pd.read_csv('./../data/Google Trends/Trends_replace.csv')\n",
    "tweets_volume=pd.read_csv('./../data/Twitter/tweets_volume.csv')"
   ],
   "metadata": {
    "collapsed": false,
    "pycharm": {
     "name": "#%%\n"
    }
   }
  },
  {
   "cell_type": "code",
   "execution_count": 84,
   "outputs": [],
   "source": [
    "import datetime\n",
    "from datetime import datetime\n",
    "input_format = '%d/%m/%Y %H:%M'\n",
    "tweets['datetime']=tweets['datetime'].apply(lambda x: datetime.strptime(x, input_format))\n",
    "tweets['datetime']=pd.to_datetime(tweets['datetime'])\n",
    "tweets.set_index('datetime', inplace=True)"
   ],
   "metadata": {
    "collapsed": false,
    "pycharm": {
     "name": "#%%\n"
    }
   }
  },
  {
   "cell_type": "code",
   "execution_count": 85,
   "outputs": [
    {
     "data": {
      "text/plain": "                     compound  polarity  subjectivity\ndatetime                                             \n2022-01-01 00:00:00  0.228459  0.127819      0.399377\n2022-01-01 01:00:00  0.235804  0.115225      0.380319\n2022-01-01 02:00:00  0.216377  0.094649      0.391375\n2022-01-01 03:00:00  0.254585  0.124391      0.376654\n2022-01-01 04:00:00  0.199023  0.106416      0.405293\n...                       ...       ...           ...\n2022-06-30 19:00:00  0.097033  0.062959      0.339059\n2022-06-30 20:00:00  0.096938  0.049762      0.366837\n2022-06-30 21:00:00  0.112159  0.054471      0.355057\n2022-06-30 22:00:00  0.104823  0.061164      0.362953\n2022-06-30 23:00:00  0.097806  0.061618      0.358823\n\n[4318 rows x 3 columns]",
      "text/html": "<div>\n<style scoped>\n    .dataframe tbody tr th:only-of-type {\n        vertical-align: middle;\n    }\n\n    .dataframe tbody tr th {\n        vertical-align: top;\n    }\n\n    .dataframe thead th {\n        text-align: right;\n    }\n</style>\n<table border=\"1\" class=\"dataframe\">\n  <thead>\n    <tr style=\"text-align: right;\">\n      <th></th>\n      <th>compound</th>\n      <th>polarity</th>\n      <th>subjectivity</th>\n    </tr>\n    <tr>\n      <th>datetime</th>\n      <th></th>\n      <th></th>\n      <th></th>\n    </tr>\n  </thead>\n  <tbody>\n    <tr>\n      <th>2022-01-01 00:00:00</th>\n      <td>0.228459</td>\n      <td>0.127819</td>\n      <td>0.399377</td>\n    </tr>\n    <tr>\n      <th>2022-01-01 01:00:00</th>\n      <td>0.235804</td>\n      <td>0.115225</td>\n      <td>0.380319</td>\n    </tr>\n    <tr>\n      <th>2022-01-01 02:00:00</th>\n      <td>0.216377</td>\n      <td>0.094649</td>\n      <td>0.391375</td>\n    </tr>\n    <tr>\n      <th>2022-01-01 03:00:00</th>\n      <td>0.254585</td>\n      <td>0.124391</td>\n      <td>0.376654</td>\n    </tr>\n    <tr>\n      <th>2022-01-01 04:00:00</th>\n      <td>0.199023</td>\n      <td>0.106416</td>\n      <td>0.405293</td>\n    </tr>\n    <tr>\n      <th>...</th>\n      <td>...</td>\n      <td>...</td>\n      <td>...</td>\n    </tr>\n    <tr>\n      <th>2022-06-30 19:00:00</th>\n      <td>0.097033</td>\n      <td>0.062959</td>\n      <td>0.339059</td>\n    </tr>\n    <tr>\n      <th>2022-06-30 20:00:00</th>\n      <td>0.096938</td>\n      <td>0.049762</td>\n      <td>0.366837</td>\n    </tr>\n    <tr>\n      <th>2022-06-30 21:00:00</th>\n      <td>0.112159</td>\n      <td>0.054471</td>\n      <td>0.355057</td>\n    </tr>\n    <tr>\n      <th>2022-06-30 22:00:00</th>\n      <td>0.104823</td>\n      <td>0.061164</td>\n      <td>0.362953</td>\n    </tr>\n    <tr>\n      <th>2022-06-30 23:00:00</th>\n      <td>0.097806</td>\n      <td>0.061618</td>\n      <td>0.358823</td>\n    </tr>\n  </tbody>\n</table>\n<p>4318 rows × 3 columns</p>\n</div>"
     },
     "metadata": {},
     "output_type": "display_data"
    }
   ],
   "source": [
    "display(tweets)"
   ],
   "metadata": {
    "collapsed": false,
    "pycharm": {
     "name": "#%%\n"
    }
   }
  },
  {
   "cell_type": "code",
   "execution_count": 86,
   "outputs": [
    {
     "data": {
      "text/plain": "                 datetime  datetime.1  compound  polarity  subjectivity\n0     2022-01-01 00:00:00         NaN  0.806147  0.106285      0.464971\n1     2022-01-01 01:00:00         NaN  0.523754  0.165466      0.469433\n2     2022-01-01 02:00:00         NaN  0.404721 -0.003025      0.499500\n3     2022-01-01 03:00:00         NaN  0.307653  0.129557      0.461581\n4     2022-01-01 04:00:00         NaN  0.682042  0.108311      0.422146\n...                   ...         ...       ...       ...           ...\n4280  2022-12-06 19:00:00         NaN  0.703480  0.051935      0.462542\n4281  2022-12-06 20:00:00         NaN  0.485330  0.115246      0.355653\n4282  2022-12-06 21:00:00         NaN  0.744573  0.199926      0.507846\n4283  2022-12-06 22:00:00         NaN  0.429923  0.110657      0.342307\n4284  2022-12-06 23:00:00         NaN  0.897618  0.121964      0.403639\n\n[4285 rows x 5 columns]",
      "text/html": "<div>\n<style scoped>\n    .dataframe tbody tr th:only-of-type {\n        vertical-align: middle;\n    }\n\n    .dataframe tbody tr th {\n        vertical-align: top;\n    }\n\n    .dataframe thead th {\n        text-align: right;\n    }\n</style>\n<table border=\"1\" class=\"dataframe\">\n  <thead>\n    <tr style=\"text-align: right;\">\n      <th></th>\n      <th>datetime</th>\n      <th>datetime.1</th>\n      <th>compound</th>\n      <th>polarity</th>\n      <th>subjectivity</th>\n    </tr>\n  </thead>\n  <tbody>\n    <tr>\n      <th>0</th>\n      <td>2022-01-01 00:00:00</td>\n      <td>NaN</td>\n      <td>0.806147</td>\n      <td>0.106285</td>\n      <td>0.464971</td>\n    </tr>\n    <tr>\n      <th>1</th>\n      <td>2022-01-01 01:00:00</td>\n      <td>NaN</td>\n      <td>0.523754</td>\n      <td>0.165466</td>\n      <td>0.469433</td>\n    </tr>\n    <tr>\n      <th>2</th>\n      <td>2022-01-01 02:00:00</td>\n      <td>NaN</td>\n      <td>0.404721</td>\n      <td>-0.003025</td>\n      <td>0.499500</td>\n    </tr>\n    <tr>\n      <th>3</th>\n      <td>2022-01-01 03:00:00</td>\n      <td>NaN</td>\n      <td>0.307653</td>\n      <td>0.129557</td>\n      <td>0.461581</td>\n    </tr>\n    <tr>\n      <th>4</th>\n      <td>2022-01-01 04:00:00</td>\n      <td>NaN</td>\n      <td>0.682042</td>\n      <td>0.108311</td>\n      <td>0.422146</td>\n    </tr>\n    <tr>\n      <th>...</th>\n      <td>...</td>\n      <td>...</td>\n      <td>...</td>\n      <td>...</td>\n      <td>...</td>\n    </tr>\n    <tr>\n      <th>4280</th>\n      <td>2022-12-06 19:00:00</td>\n      <td>NaN</td>\n      <td>0.703480</td>\n      <td>0.051935</td>\n      <td>0.462542</td>\n    </tr>\n    <tr>\n      <th>4281</th>\n      <td>2022-12-06 20:00:00</td>\n      <td>NaN</td>\n      <td>0.485330</td>\n      <td>0.115246</td>\n      <td>0.355653</td>\n    </tr>\n    <tr>\n      <th>4282</th>\n      <td>2022-12-06 21:00:00</td>\n      <td>NaN</td>\n      <td>0.744573</td>\n      <td>0.199926</td>\n      <td>0.507846</td>\n    </tr>\n    <tr>\n      <th>4283</th>\n      <td>2022-12-06 22:00:00</td>\n      <td>NaN</td>\n      <td>0.429923</td>\n      <td>0.110657</td>\n      <td>0.342307</td>\n    </tr>\n    <tr>\n      <th>4284</th>\n      <td>2022-12-06 23:00:00</td>\n      <td>NaN</td>\n      <td>0.897618</td>\n      <td>0.121964</td>\n      <td>0.403639</td>\n    </tr>\n  </tbody>\n</table>\n<p>4285 rows × 5 columns</p>\n</div>"
     },
     "metadata": {},
     "output_type": "display_data"
    }
   ],
   "source": [
    "display(reddit)"
   ],
   "metadata": {
    "collapsed": false,
    "pycharm": {
     "name": "#%%\n"
    }
   }
  },
  {
   "cell_type": "code",
   "execution_count": 96,
   "outputs": [
    {
     "ename": "KeyError",
     "evalue": "'datetime'",
     "output_type": "error",
     "traceback": [
      "\u001B[0;31m---------------------------------------------------------------------------\u001B[0m",
      "\u001B[0;31mKeyError\u001B[0m                                  Traceback (most recent call last)",
      "File \u001B[0;32m~/anaconda3/lib/python3.9/site-packages/pandas/core/indexes/base.py:3802\u001B[0m, in \u001B[0;36mIndex.get_loc\u001B[0;34m(self, key, method, tolerance)\u001B[0m\n\u001B[1;32m   3801\u001B[0m \u001B[38;5;28;01mtry\u001B[39;00m:\n\u001B[0;32m-> 3802\u001B[0m     \u001B[38;5;28;01mreturn\u001B[39;00m \u001B[38;5;28;43mself\u001B[39;49m\u001B[38;5;241;43m.\u001B[39;49m\u001B[43m_engine\u001B[49m\u001B[38;5;241;43m.\u001B[39;49m\u001B[43mget_loc\u001B[49m\u001B[43m(\u001B[49m\u001B[43mcasted_key\u001B[49m\u001B[43m)\u001B[49m\n\u001B[1;32m   3803\u001B[0m \u001B[38;5;28;01mexcept\u001B[39;00m \u001B[38;5;167;01mKeyError\u001B[39;00m \u001B[38;5;28;01mas\u001B[39;00m err:\n",
      "File \u001B[0;32m~/anaconda3/lib/python3.9/site-packages/pandas/_libs/index.pyx:138\u001B[0m, in \u001B[0;36mpandas._libs.index.IndexEngine.get_loc\u001B[0;34m()\u001B[0m\n",
      "File \u001B[0;32m~/anaconda3/lib/python3.9/site-packages/pandas/_libs/index.pyx:165\u001B[0m, in \u001B[0;36mpandas._libs.index.IndexEngine.get_loc\u001B[0;34m()\u001B[0m\n",
      "File \u001B[0;32mpandas/_libs/hashtable_class_helper.pxi:5745\u001B[0m, in \u001B[0;36mpandas._libs.hashtable.PyObjectHashTable.get_item\u001B[0;34m()\u001B[0m\n",
      "File \u001B[0;32mpandas/_libs/hashtable_class_helper.pxi:5753\u001B[0m, in \u001B[0;36mpandas._libs.hashtable.PyObjectHashTable.get_item\u001B[0;34m()\u001B[0m\n",
      "\u001B[0;31mKeyError\u001B[0m: 'datetime'",
      "\nThe above exception was the direct cause of the following exception:\n",
      "\u001B[0;31mKeyError\u001B[0m                                  Traceback (most recent call last)",
      "Cell \u001B[0;32mIn[96], line 3\u001B[0m\n\u001B[1;32m      1\u001B[0m input_format2\u001B[38;5;241m=\u001B[39m\u001B[38;5;124m'\u001B[39m\u001B[38;5;124m%\u001B[39m\u001B[38;5;124mY-\u001B[39m\u001B[38;5;124m%\u001B[39m\u001B[38;5;124mm-\u001B[39m\u001B[38;5;132;01m%d\u001B[39;00m\u001B[38;5;124m \u001B[39m\u001B[38;5;124m%\u001B[39m\u001B[38;5;124mH:\u001B[39m\u001B[38;5;124m%\u001B[39m\u001B[38;5;124mM\u001B[39m\u001B[38;5;124m'\u001B[39m\n\u001B[1;32m      2\u001B[0m \u001B[38;5;66;03m# input_format3='%d/%m/%Y %H:%M'\u001B[39;00m\n\u001B[0;32m----> 3\u001B[0m reddit[\u001B[38;5;124m'\u001B[39m\u001B[38;5;124mdatetime\u001B[39m\u001B[38;5;124m'\u001B[39m]\u001B[38;5;241m=\u001B[39m\u001B[43mreddit\u001B[49m\u001B[43m[\u001B[49m\u001B[38;5;124;43m'\u001B[39;49m\u001B[38;5;124;43mdatetime\u001B[39;49m\u001B[38;5;124;43m'\u001B[39;49m\u001B[43m]\u001B[49m\u001B[38;5;241m.\u001B[39mapply(\u001B[38;5;28;01mlambda\u001B[39;00m x: datetime\u001B[38;5;241m.\u001B[39mstrptime(x, input_format2))\n\u001B[1;32m      4\u001B[0m reddit[\u001B[38;5;124m'\u001B[39m\u001B[38;5;124mdatetime\u001B[39m\u001B[38;5;124m'\u001B[39m]\u001B[38;5;241m=\u001B[39mpd\u001B[38;5;241m.\u001B[39mto_datetime(reddit[\u001B[38;5;124m'\u001B[39m\u001B[38;5;124mdatetime\u001B[39m\u001B[38;5;124m'\u001B[39m])\n\u001B[1;32m      5\u001B[0m reddit\u001B[38;5;241m.\u001B[39mset_index(\u001B[38;5;124m'\u001B[39m\u001B[38;5;124mdatetime\u001B[39m\u001B[38;5;124m'\u001B[39m,inplace\u001B[38;5;241m=\u001B[39m\u001B[38;5;28;01mTrue\u001B[39;00m)\n",
      "File \u001B[0;32m~/anaconda3/lib/python3.9/site-packages/pandas/core/frame.py:3807\u001B[0m, in \u001B[0;36mDataFrame.__getitem__\u001B[0;34m(self, key)\u001B[0m\n\u001B[1;32m   3805\u001B[0m \u001B[38;5;28;01mif\u001B[39;00m \u001B[38;5;28mself\u001B[39m\u001B[38;5;241m.\u001B[39mcolumns\u001B[38;5;241m.\u001B[39mnlevels \u001B[38;5;241m>\u001B[39m \u001B[38;5;241m1\u001B[39m:\n\u001B[1;32m   3806\u001B[0m     \u001B[38;5;28;01mreturn\u001B[39;00m \u001B[38;5;28mself\u001B[39m\u001B[38;5;241m.\u001B[39m_getitem_multilevel(key)\n\u001B[0;32m-> 3807\u001B[0m indexer \u001B[38;5;241m=\u001B[39m \u001B[38;5;28;43mself\u001B[39;49m\u001B[38;5;241;43m.\u001B[39;49m\u001B[43mcolumns\u001B[49m\u001B[38;5;241;43m.\u001B[39;49m\u001B[43mget_loc\u001B[49m\u001B[43m(\u001B[49m\u001B[43mkey\u001B[49m\u001B[43m)\u001B[49m\n\u001B[1;32m   3808\u001B[0m \u001B[38;5;28;01mif\u001B[39;00m is_integer(indexer):\n\u001B[1;32m   3809\u001B[0m     indexer \u001B[38;5;241m=\u001B[39m [indexer]\n",
      "File \u001B[0;32m~/anaconda3/lib/python3.9/site-packages/pandas/core/indexes/base.py:3804\u001B[0m, in \u001B[0;36mIndex.get_loc\u001B[0;34m(self, key, method, tolerance)\u001B[0m\n\u001B[1;32m   3802\u001B[0m     \u001B[38;5;28;01mreturn\u001B[39;00m \u001B[38;5;28mself\u001B[39m\u001B[38;5;241m.\u001B[39m_engine\u001B[38;5;241m.\u001B[39mget_loc(casted_key)\n\u001B[1;32m   3803\u001B[0m \u001B[38;5;28;01mexcept\u001B[39;00m \u001B[38;5;167;01mKeyError\u001B[39;00m \u001B[38;5;28;01mas\u001B[39;00m err:\n\u001B[0;32m-> 3804\u001B[0m     \u001B[38;5;28;01mraise\u001B[39;00m \u001B[38;5;167;01mKeyError\u001B[39;00m(key) \u001B[38;5;28;01mfrom\u001B[39;00m \u001B[38;5;21;01merr\u001B[39;00m\n\u001B[1;32m   3805\u001B[0m \u001B[38;5;28;01mexcept\u001B[39;00m \u001B[38;5;167;01mTypeError\u001B[39;00m:\n\u001B[1;32m   3806\u001B[0m     \u001B[38;5;66;03m# If we have a listlike key, _check_indexing_error will raise\u001B[39;00m\n\u001B[1;32m   3807\u001B[0m     \u001B[38;5;66;03m#  InvalidIndexError. Otherwise we fall through and re-raise\u001B[39;00m\n\u001B[1;32m   3808\u001B[0m     \u001B[38;5;66;03m#  the TypeError.\u001B[39;00m\n\u001B[1;32m   3809\u001B[0m     \u001B[38;5;28mself\u001B[39m\u001B[38;5;241m.\u001B[39m_check_indexing_error(key)\n",
      "\u001B[0;31mKeyError\u001B[0m: 'datetime'"
     ]
    }
   ],
   "source": [
    "input_format2='%Y-%m-%d %H:%M'\n",
    "# input_format3='%d/%m/%Y %H:%M'\n",
    "reddit['datetime']=reddit['datetime'].apply(lambda x: datetime.strptime(x, input_format2))\n",
    "reddit['datetime']=pd.to_datetime(reddit['datetime'])\n",
    "reddit.set_index('datetime',inplace=True)"
   ],
   "metadata": {
    "collapsed": false,
    "pycharm": {
     "name": "#%%\n"
    }
   }
  },
  {
   "cell_type": "code",
   "execution_count": 97,
   "outputs": [
    {
     "data": {
      "text/plain": "                     datetime.1  re_compound  re_polarity  re_subjectivity\ndatetime                                                                  \n2022-01-01 00:00:00         NaN     0.806147     0.106285         0.464971\n2022-01-01 01:00:00         NaN     0.523754     0.165466         0.469433\n2022-01-01 02:00:00         NaN     0.404721    -0.003025         0.499500\n2022-01-01 03:00:00         NaN     0.307653     0.129557         0.461581\n2022-01-01 04:00:00         NaN     0.682042     0.108311         0.422146\n...                         ...          ...          ...              ...\n2022-12-06 19:00:00         NaN     0.703480     0.051935         0.462542\n2022-12-06 20:00:00         NaN     0.485330     0.115246         0.355653\n2022-12-06 21:00:00         NaN     0.744573     0.199926         0.507846\n2022-12-06 22:00:00         NaN     0.429923     0.110657         0.342307\n2022-12-06 23:00:00         NaN     0.897618     0.121964         0.403639\n\n[4285 rows x 4 columns]",
      "text/html": "<div>\n<style scoped>\n    .dataframe tbody tr th:only-of-type {\n        vertical-align: middle;\n    }\n\n    .dataframe tbody tr th {\n        vertical-align: top;\n    }\n\n    .dataframe thead th {\n        text-align: right;\n    }\n</style>\n<table border=\"1\" class=\"dataframe\">\n  <thead>\n    <tr style=\"text-align: right;\">\n      <th></th>\n      <th>datetime.1</th>\n      <th>re_compound</th>\n      <th>re_polarity</th>\n      <th>re_subjectivity</th>\n    </tr>\n    <tr>\n      <th>datetime</th>\n      <th></th>\n      <th></th>\n      <th></th>\n      <th></th>\n    </tr>\n  </thead>\n  <tbody>\n    <tr>\n      <th>2022-01-01 00:00:00</th>\n      <td>NaN</td>\n      <td>0.806147</td>\n      <td>0.106285</td>\n      <td>0.464971</td>\n    </tr>\n    <tr>\n      <th>2022-01-01 01:00:00</th>\n      <td>NaN</td>\n      <td>0.523754</td>\n      <td>0.165466</td>\n      <td>0.469433</td>\n    </tr>\n    <tr>\n      <th>2022-01-01 02:00:00</th>\n      <td>NaN</td>\n      <td>0.404721</td>\n      <td>-0.003025</td>\n      <td>0.499500</td>\n    </tr>\n    <tr>\n      <th>2022-01-01 03:00:00</th>\n      <td>NaN</td>\n      <td>0.307653</td>\n      <td>0.129557</td>\n      <td>0.461581</td>\n    </tr>\n    <tr>\n      <th>2022-01-01 04:00:00</th>\n      <td>NaN</td>\n      <td>0.682042</td>\n      <td>0.108311</td>\n      <td>0.422146</td>\n    </tr>\n    <tr>\n      <th>...</th>\n      <td>...</td>\n      <td>...</td>\n      <td>...</td>\n      <td>...</td>\n    </tr>\n    <tr>\n      <th>2022-12-06 19:00:00</th>\n      <td>NaN</td>\n      <td>0.703480</td>\n      <td>0.051935</td>\n      <td>0.462542</td>\n    </tr>\n    <tr>\n      <th>2022-12-06 20:00:00</th>\n      <td>NaN</td>\n      <td>0.485330</td>\n      <td>0.115246</td>\n      <td>0.355653</td>\n    </tr>\n    <tr>\n      <th>2022-12-06 21:00:00</th>\n      <td>NaN</td>\n      <td>0.744573</td>\n      <td>0.199926</td>\n      <td>0.507846</td>\n    </tr>\n    <tr>\n      <th>2022-12-06 22:00:00</th>\n      <td>NaN</td>\n      <td>0.429923</td>\n      <td>0.110657</td>\n      <td>0.342307</td>\n    </tr>\n    <tr>\n      <th>2022-12-06 23:00:00</th>\n      <td>NaN</td>\n      <td>0.897618</td>\n      <td>0.121964</td>\n      <td>0.403639</td>\n    </tr>\n  </tbody>\n</table>\n<p>4285 rows × 4 columns</p>\n</div>"
     },
     "execution_count": 97,
     "metadata": {},
     "output_type": "execute_result"
    }
   ],
   "source": [
    "reddit"
   ],
   "metadata": {
    "collapsed": false,
    "pycharm": {
     "name": "#%%\n"
    }
   }
  },
  {
   "cell_type": "code",
   "execution_count": 89,
   "outputs": [
    {
     "data": {
      "text/plain": "                     tweet_volume\ndatetime                         \n2022-01-01 00:00:00          1314\n2022-01-01 01:00:00          1064\n2022-01-01 02:00:00           986\n2022-01-01 03:00:00           942\n2022-01-01 04:00:00           832\n...                           ...\n2022-06-30 19:00:00          2032\n2022-06-30 20:00:00          2225\n2022-06-30 21:00:00          2159\n2022-06-30 22:00:00          1948\n2022-06-30 23:00:00          1803\n\n[4318 rows x 1 columns]",
      "text/html": "<div>\n<style scoped>\n    .dataframe tbody tr th:only-of-type {\n        vertical-align: middle;\n    }\n\n    .dataframe tbody tr th {\n        vertical-align: top;\n    }\n\n    .dataframe thead th {\n        text-align: right;\n    }\n</style>\n<table border=\"1\" class=\"dataframe\">\n  <thead>\n    <tr style=\"text-align: right;\">\n      <th></th>\n      <th>tweet_volume</th>\n    </tr>\n    <tr>\n      <th>datetime</th>\n      <th></th>\n    </tr>\n  </thead>\n  <tbody>\n    <tr>\n      <th>2022-01-01 00:00:00</th>\n      <td>1314</td>\n    </tr>\n    <tr>\n      <th>2022-01-01 01:00:00</th>\n      <td>1064</td>\n    </tr>\n    <tr>\n      <th>2022-01-01 02:00:00</th>\n      <td>986</td>\n    </tr>\n    <tr>\n      <th>2022-01-01 03:00:00</th>\n      <td>942</td>\n    </tr>\n    <tr>\n      <th>2022-01-01 04:00:00</th>\n      <td>832</td>\n    </tr>\n    <tr>\n      <th>...</th>\n      <td>...</td>\n    </tr>\n    <tr>\n      <th>2022-06-30 19:00:00</th>\n      <td>2032</td>\n    </tr>\n    <tr>\n      <th>2022-06-30 20:00:00</th>\n      <td>2225</td>\n    </tr>\n    <tr>\n      <th>2022-06-30 21:00:00</th>\n      <td>2159</td>\n    </tr>\n    <tr>\n      <th>2022-06-30 22:00:00</th>\n      <td>1948</td>\n    </tr>\n    <tr>\n      <th>2022-06-30 23:00:00</th>\n      <td>1803</td>\n    </tr>\n  </tbody>\n</table>\n<p>4318 rows × 1 columns</p>\n</div>"
     },
     "execution_count": 89,
     "metadata": {},
     "output_type": "execute_result"
    }
   ],
   "source": [
    "# Tweets datetime\n",
    "tweets_volume['datetime']=pd.to_datetime(tweets_volume['datetime'])\n",
    "tweets_volume.set_index('datetime',inplace=True)\n",
    "tweets_volume"
   ],
   "metadata": {
    "collapsed": false,
    "pycharm": {
     "name": "#%%\n"
    }
   }
  },
  {
   "cell_type": "code",
   "execution_count": 90,
   "outputs": [
    {
     "data": {
      "text/plain": "                     google_trends  Bitcoin trend\ndatetime                                         \n2022-01-01 00:00:00      74.000000      19.839923\n2022-01-01 01:00:00      79.162791      21.224103\n2022-01-01 02:00:00      77.441860      20.762710\n2022-01-01 03:00:00      61.953488      16.610168\n2022-01-01 04:00:00      65.395349      17.532955\n...                            ...            ...\n2022-06-30 19:00:00     121.875476      32.675676\n2022-06-30 20:00:00     127.117432      34.081081\n2022-06-30 21:00:00     129.738410      34.783784\n2022-06-30 22:00:00     131.048899      35.135135\n2022-06-30 23:00:00     111.391564      29.864865\n\n[4344 rows x 2 columns]",
      "text/html": "<div>\n<style scoped>\n    .dataframe tbody tr th:only-of-type {\n        vertical-align: middle;\n    }\n\n    .dataframe tbody tr th {\n        vertical-align: top;\n    }\n\n    .dataframe thead th {\n        text-align: right;\n    }\n</style>\n<table border=\"1\" class=\"dataframe\">\n  <thead>\n    <tr style=\"text-align: right;\">\n      <th></th>\n      <th>google_trends</th>\n      <th>Bitcoin trend</th>\n    </tr>\n    <tr>\n      <th>datetime</th>\n      <th></th>\n      <th></th>\n    </tr>\n  </thead>\n  <tbody>\n    <tr>\n      <th>2022-01-01 00:00:00</th>\n      <td>74.000000</td>\n      <td>19.839923</td>\n    </tr>\n    <tr>\n      <th>2022-01-01 01:00:00</th>\n      <td>79.162791</td>\n      <td>21.224103</td>\n    </tr>\n    <tr>\n      <th>2022-01-01 02:00:00</th>\n      <td>77.441860</td>\n      <td>20.762710</td>\n    </tr>\n    <tr>\n      <th>2022-01-01 03:00:00</th>\n      <td>61.953488</td>\n      <td>16.610168</td>\n    </tr>\n    <tr>\n      <th>2022-01-01 04:00:00</th>\n      <td>65.395349</td>\n      <td>17.532955</td>\n    </tr>\n    <tr>\n      <th>...</th>\n      <td>...</td>\n      <td>...</td>\n    </tr>\n    <tr>\n      <th>2022-06-30 19:00:00</th>\n      <td>121.875476</td>\n      <td>32.675676</td>\n    </tr>\n    <tr>\n      <th>2022-06-30 20:00:00</th>\n      <td>127.117432</td>\n      <td>34.081081</td>\n    </tr>\n    <tr>\n      <th>2022-06-30 21:00:00</th>\n      <td>129.738410</td>\n      <td>34.783784</td>\n    </tr>\n    <tr>\n      <th>2022-06-30 22:00:00</th>\n      <td>131.048899</td>\n      <td>35.135135</td>\n    </tr>\n    <tr>\n      <th>2022-06-30 23:00:00</th>\n      <td>111.391564</td>\n      <td>29.864865</td>\n    </tr>\n  </tbody>\n</table>\n<p>4344 rows × 2 columns</p>\n</div>"
     },
     "execution_count": 90,
     "metadata": {},
     "output_type": "execute_result"
    }
   ],
   "source": [
    "trends['date']=pd.to_datetime(trends['date'])\n",
    "sub_trends=trends[trends['date'].dt.month!=12][:-1]\n",
    "sub_trends.set_index('date',inplace=True)\n",
    "sub_trends.rename(columns={'Scaled Value':'google_trends'},inplace=True)\n",
    "sub_trends.rename_axis('datetime')"
   ],
   "metadata": {
    "collapsed": false,
    "pycharm": {
     "name": "#%%\n"
    }
   }
  },
  {
   "cell_type": "code",
   "execution_count": 91,
   "outputs": [],
   "source": [
    "tweets.rename(columns={'compound': 'tw_compound',\n",
    "               'polarity': 'tw_polarity',\n",
    "               'subjectivity': 'tw_subjectivity'}, inplace=True)\n",
    "reddit.rename(columns={'compound': 're_compound',\n",
    "               'polarity': 're_polarity',\n",
    "               'subjectivity': 're_subjectivity'}, inplace=True)"
   ],
   "metadata": {
    "collapsed": false,
    "pycharm": {
     "name": "#%%\n"
    }
   }
  },
  {
   "cell_type": "code",
   "execution_count": 92,
   "outputs": [],
   "source": [
    "import os\n",
    "merge_data=pd.DataFrame()\n",
    "folder_path='./../data/Price/Processed_BTCUSDT'\n",
    "for filename in os.listdir(folder_path):\n",
    "    if filename.endswith(\".csv\"):\n",
    "        if filename.endswith(\"27.csv\"):\n",
    "            price=pd.read_csv(os.path.join(folder_path, filename))\n",
    "            price['Open time']=price['Open time'].apply(lambda x: datetime.strptime(x, input_format))\n",
    "        else:\n",
    "            price=pd.read_csv(os.path.join(folder_path, filename))\n",
    "        columns_keep=['Open time','Open','High','Low','Close','Volume']\n",
    "        columns_delete=list(price.columns.values)\n",
    "        for keep in columns_keep:\n",
    "            columns_delete.remove(keep)\n",
    "        price.drop(columns_delete,axis=1, inplace=True)\n",
    "        merge_data=pd.concat([merge_data, price])"
   ],
   "metadata": {
    "collapsed": false,
    "pycharm": {
     "name": "#%%\n"
    }
   }
  },
  {
   "cell_type": "code",
   "execution_count": 93,
   "outputs": [
    {
     "data": {
      "text/plain": "               Open time     Open     High      Low    Close     Volume\n0    2022-04-27 01:00:00  38093.7  38243.2  37844.5  38152.6  12325.045\n1    2022-04-27 02:00:00  38152.7  38300.0  38140.8  38289.0   7252.431\n2    2022-04-27 03:00:00  38289.1  38409.9  38240.1  38398.2   6225.568\n3    2022-04-27 04:00:00  38398.1  38460.8  38300.0  38324.9   7182.327\n4    2022-04-27 05:00:00  38324.8  38440.0  38282.2  38386.1   4816.644\n..                   ...      ...      ...      ...      ...        ...\n691  2022-04-30 20:00:00  38325.2  38488.8  38287.0  38447.7   5550.196\n692  2022-04-30 21:00:00  38447.8  38447.8  38257.4  38313.4   3983.884\n693  2022-04-30 22:00:00  38313.4  38360.0  38232.1  38284.4   3583.926\n694  2022-04-30 23:00:00  38284.3  38350.0  38135.0  38234.7   8249.713\n695  2022-05-01 00:00:00  38234.8  38259.7  37550.0  37614.5  36665.248\n\n[4344 rows x 6 columns]",
      "text/html": "<div>\n<style scoped>\n    .dataframe tbody tr th:only-of-type {\n        vertical-align: middle;\n    }\n\n    .dataframe tbody tr th {\n        vertical-align: top;\n    }\n\n    .dataframe thead th {\n        text-align: right;\n    }\n</style>\n<table border=\"1\" class=\"dataframe\">\n  <thead>\n    <tr style=\"text-align: right;\">\n      <th></th>\n      <th>Open time</th>\n      <th>Open</th>\n      <th>High</th>\n      <th>Low</th>\n      <th>Close</th>\n      <th>Volume</th>\n    </tr>\n  </thead>\n  <tbody>\n    <tr>\n      <th>0</th>\n      <td>2022-04-27 01:00:00</td>\n      <td>38093.7</td>\n      <td>38243.2</td>\n      <td>37844.5</td>\n      <td>38152.6</td>\n      <td>12325.045</td>\n    </tr>\n    <tr>\n      <th>1</th>\n      <td>2022-04-27 02:00:00</td>\n      <td>38152.7</td>\n      <td>38300.0</td>\n      <td>38140.8</td>\n      <td>38289.0</td>\n      <td>7252.431</td>\n    </tr>\n    <tr>\n      <th>2</th>\n      <td>2022-04-27 03:00:00</td>\n      <td>38289.1</td>\n      <td>38409.9</td>\n      <td>38240.1</td>\n      <td>38398.2</td>\n      <td>6225.568</td>\n    </tr>\n    <tr>\n      <th>3</th>\n      <td>2022-04-27 04:00:00</td>\n      <td>38398.1</td>\n      <td>38460.8</td>\n      <td>38300.0</td>\n      <td>38324.9</td>\n      <td>7182.327</td>\n    </tr>\n    <tr>\n      <th>4</th>\n      <td>2022-04-27 05:00:00</td>\n      <td>38324.8</td>\n      <td>38440.0</td>\n      <td>38282.2</td>\n      <td>38386.1</td>\n      <td>4816.644</td>\n    </tr>\n    <tr>\n      <th>...</th>\n      <td>...</td>\n      <td>...</td>\n      <td>...</td>\n      <td>...</td>\n      <td>...</td>\n      <td>...</td>\n    </tr>\n    <tr>\n      <th>691</th>\n      <td>2022-04-30 20:00:00</td>\n      <td>38325.2</td>\n      <td>38488.8</td>\n      <td>38287.0</td>\n      <td>38447.7</td>\n      <td>5550.196</td>\n    </tr>\n    <tr>\n      <th>692</th>\n      <td>2022-04-30 21:00:00</td>\n      <td>38447.8</td>\n      <td>38447.8</td>\n      <td>38257.4</td>\n      <td>38313.4</td>\n      <td>3983.884</td>\n    </tr>\n    <tr>\n      <th>693</th>\n      <td>2022-04-30 22:00:00</td>\n      <td>38313.4</td>\n      <td>38360.0</td>\n      <td>38232.1</td>\n      <td>38284.4</td>\n      <td>3583.926</td>\n    </tr>\n    <tr>\n      <th>694</th>\n      <td>2022-04-30 23:00:00</td>\n      <td>38284.3</td>\n      <td>38350.0</td>\n      <td>38135.0</td>\n      <td>38234.7</td>\n      <td>8249.713</td>\n    </tr>\n    <tr>\n      <th>695</th>\n      <td>2022-05-01 00:00:00</td>\n      <td>38234.8</td>\n      <td>38259.7</td>\n      <td>37550.0</td>\n      <td>37614.5</td>\n      <td>36665.248</td>\n    </tr>\n  </tbody>\n</table>\n<p>4344 rows × 6 columns</p>\n</div>"
     },
     "metadata": {},
     "output_type": "display_data"
    }
   ],
   "source": [
    "display(merge_data)"
   ],
   "metadata": {
    "collapsed": false,
    "pycharm": {
     "name": "#%%\n"
    }
   }
  },
  {
   "cell_type": "code",
   "execution_count": 94,
   "outputs": [],
   "source": [
    "merge_data['Open time']=pd.to_datetime(merge_data['Open time'])\n",
    "merge_data.set_index('Open time',inplace=True)\n",
    "merge_data.rename_axis('datetime',inplace=True)"
   ],
   "metadata": {
    "collapsed": false,
    "pycharm": {
     "name": "#%%\n"
    }
   }
  },
  {
   "cell_type": "code",
   "execution_count": 95,
   "outputs": [
    {
     "ename": "InvalidIndexError",
     "evalue": "Reindexing only valid with uniquely valued Index objects",
     "output_type": "error",
     "traceback": [
      "\u001B[0;31m---------------------------------------------------------------------------\u001B[0m",
      "\u001B[0;31mInvalidIndexError\u001B[0m                         Traceback (most recent call last)",
      "Cell \u001B[0;32mIn[95], line 1\u001B[0m\n\u001B[0;32m----> 1\u001B[0m new_data\u001B[38;5;241m=\u001B[39m\u001B[43mpd\u001B[49m\u001B[38;5;241;43m.\u001B[39;49m\u001B[43mconcat\u001B[49m\u001B[43m(\u001B[49m\u001B[43m[\u001B[49m\u001B[43mmerge_data\u001B[49m\u001B[43m,\u001B[49m\u001B[43m \u001B[49m\u001B[43msub_trends\u001B[49m\u001B[43m,\u001B[49m\u001B[43m \u001B[49m\u001B[43mtweets\u001B[49m\u001B[43m,\u001B[49m\u001B[43m \u001B[49m\u001B[43mtweets_volume\u001B[49m\u001B[43m,\u001B[49m\u001B[43m \u001B[49m\u001B[43mreddit\u001B[49m\u001B[43m]\u001B[49m\u001B[43m,\u001B[49m\u001B[43maxis\u001B[49m\u001B[38;5;241;43m=\u001B[39;49m\u001B[38;5;241;43m1\u001B[39;49m\u001B[43m)\u001B[49m\n",
      "File \u001B[0;32m~/anaconda3/lib/python3.9/site-packages/pandas/util/_decorators.py:331\u001B[0m, in \u001B[0;36mdeprecate_nonkeyword_arguments.<locals>.decorate.<locals>.wrapper\u001B[0;34m(*args, **kwargs)\u001B[0m\n\u001B[1;32m    325\u001B[0m \u001B[38;5;28;01mif\u001B[39;00m \u001B[38;5;28mlen\u001B[39m(args) \u001B[38;5;241m>\u001B[39m num_allow_args:\n\u001B[1;32m    326\u001B[0m     warnings\u001B[38;5;241m.\u001B[39mwarn(\n\u001B[1;32m    327\u001B[0m         msg\u001B[38;5;241m.\u001B[39mformat(arguments\u001B[38;5;241m=\u001B[39m_format_argument_list(allow_args)),\n\u001B[1;32m    328\u001B[0m         \u001B[38;5;167;01mFutureWarning\u001B[39;00m,\n\u001B[1;32m    329\u001B[0m         stacklevel\u001B[38;5;241m=\u001B[39mfind_stack_level(),\n\u001B[1;32m    330\u001B[0m     )\n\u001B[0;32m--> 331\u001B[0m \u001B[38;5;28;01mreturn\u001B[39;00m \u001B[43mfunc\u001B[49m\u001B[43m(\u001B[49m\u001B[38;5;241;43m*\u001B[39;49m\u001B[43margs\u001B[49m\u001B[43m,\u001B[49m\u001B[43m \u001B[49m\u001B[38;5;241;43m*\u001B[39;49m\u001B[38;5;241;43m*\u001B[39;49m\u001B[43mkwargs\u001B[49m\u001B[43m)\u001B[49m\n",
      "File \u001B[0;32m~/anaconda3/lib/python3.9/site-packages/pandas/core/reshape/concat.py:381\u001B[0m, in \u001B[0;36mconcat\u001B[0;34m(objs, axis, join, ignore_index, keys, levels, names, verify_integrity, sort, copy)\u001B[0m\n\u001B[1;32m    159\u001B[0m \u001B[38;5;250m\u001B[39m\u001B[38;5;124;03m\"\"\"\u001B[39;00m\n\u001B[1;32m    160\u001B[0m \u001B[38;5;124;03mConcatenate pandas objects along a particular axis.\u001B[39;00m\n\u001B[1;32m    161\u001B[0m \n\u001B[0;32m   (...)\u001B[0m\n\u001B[1;32m    366\u001B[0m \u001B[38;5;124;03m1   3   4\u001B[39;00m\n\u001B[1;32m    367\u001B[0m \u001B[38;5;124;03m\"\"\"\u001B[39;00m\n\u001B[1;32m    368\u001B[0m op \u001B[38;5;241m=\u001B[39m _Concatenator(\n\u001B[1;32m    369\u001B[0m     objs,\n\u001B[1;32m    370\u001B[0m     axis\u001B[38;5;241m=\u001B[39maxis,\n\u001B[0;32m   (...)\u001B[0m\n\u001B[1;32m    378\u001B[0m     sort\u001B[38;5;241m=\u001B[39msort,\n\u001B[1;32m    379\u001B[0m )\n\u001B[0;32m--> 381\u001B[0m \u001B[38;5;28;01mreturn\u001B[39;00m \u001B[43mop\u001B[49m\u001B[38;5;241;43m.\u001B[39;49m\u001B[43mget_result\u001B[49m\u001B[43m(\u001B[49m\u001B[43m)\u001B[49m\n",
      "File \u001B[0;32m~/anaconda3/lib/python3.9/site-packages/pandas/core/reshape/concat.py:612\u001B[0m, in \u001B[0;36m_Concatenator.get_result\u001B[0;34m(self)\u001B[0m\n\u001B[1;32m    610\u001B[0m         obj_labels \u001B[38;5;241m=\u001B[39m obj\u001B[38;5;241m.\u001B[39maxes[\u001B[38;5;241m1\u001B[39m \u001B[38;5;241m-\u001B[39m ax]\n\u001B[1;32m    611\u001B[0m         \u001B[38;5;28;01mif\u001B[39;00m \u001B[38;5;129;01mnot\u001B[39;00m new_labels\u001B[38;5;241m.\u001B[39mequals(obj_labels):\n\u001B[0;32m--> 612\u001B[0m             indexers[ax] \u001B[38;5;241m=\u001B[39m \u001B[43mobj_labels\u001B[49m\u001B[38;5;241;43m.\u001B[39;49m\u001B[43mget_indexer\u001B[49m\u001B[43m(\u001B[49m\u001B[43mnew_labels\u001B[49m\u001B[43m)\u001B[49m\n\u001B[1;32m    614\u001B[0m     mgrs_indexers\u001B[38;5;241m.\u001B[39mappend((obj\u001B[38;5;241m.\u001B[39m_mgr, indexers))\n\u001B[1;32m    616\u001B[0m new_data \u001B[38;5;241m=\u001B[39m concatenate_managers(\n\u001B[1;32m    617\u001B[0m     mgrs_indexers, \u001B[38;5;28mself\u001B[39m\u001B[38;5;241m.\u001B[39mnew_axes, concat_axis\u001B[38;5;241m=\u001B[39m\u001B[38;5;28mself\u001B[39m\u001B[38;5;241m.\u001B[39mbm_axis, copy\u001B[38;5;241m=\u001B[39m\u001B[38;5;28mself\u001B[39m\u001B[38;5;241m.\u001B[39mcopy\n\u001B[1;32m    618\u001B[0m )\n",
      "File \u001B[0;32m~/anaconda3/lib/python3.9/site-packages/pandas/core/indexes/base.py:3904\u001B[0m, in \u001B[0;36mIndex.get_indexer\u001B[0;34m(self, target, method, limit, tolerance)\u001B[0m\n\u001B[1;32m   3901\u001B[0m \u001B[38;5;28mself\u001B[39m\u001B[38;5;241m.\u001B[39m_check_indexing_method(method, limit, tolerance)\n\u001B[1;32m   3903\u001B[0m \u001B[38;5;28;01mif\u001B[39;00m \u001B[38;5;129;01mnot\u001B[39;00m \u001B[38;5;28mself\u001B[39m\u001B[38;5;241m.\u001B[39m_index_as_unique:\n\u001B[0;32m-> 3904\u001B[0m     \u001B[38;5;28;01mraise\u001B[39;00m InvalidIndexError(\u001B[38;5;28mself\u001B[39m\u001B[38;5;241m.\u001B[39m_requires_unique_msg)\n\u001B[1;32m   3906\u001B[0m \u001B[38;5;28;01mif\u001B[39;00m \u001B[38;5;28mlen\u001B[39m(target) \u001B[38;5;241m==\u001B[39m \u001B[38;5;241m0\u001B[39m:\n\u001B[1;32m   3907\u001B[0m     \u001B[38;5;28;01mreturn\u001B[39;00m np\u001B[38;5;241m.\u001B[39marray([], dtype\u001B[38;5;241m=\u001B[39mnp\u001B[38;5;241m.\u001B[39mintp)\n",
      "\u001B[0;31mInvalidIndexError\u001B[0m: Reindexing only valid with uniquely valued Index objects"
     ]
    }
   ],
   "source": [
    "new_data=pd.concat([merge_data, sub_trends, tweets, tweets_volume, reddit],axis=1)"
   ],
   "metadata": {
    "collapsed": false,
    "pycharm": {
     "name": "#%%\n"
    }
   }
  },
  {
   "cell_type": "code",
   "execution_count": 77,
   "outputs": [],
   "source": [
    "new_data=new_data[:-1]"
   ],
   "metadata": {
    "collapsed": false,
    "pycharm": {
     "name": "#%%\n"
    }
   }
  },
  {
   "cell_type": "code",
   "execution_count": 78,
   "outputs": [],
   "source": [
    "new_data.drop(columns=['Bitcoin trend'],inplace=True)"
   ],
   "metadata": {
    "collapsed": false,
    "pycharm": {
     "name": "#%%\n"
    }
   }
  },
  {
   "cell_type": "code",
   "execution_count": 79,
   "outputs": [
    {
     "data": {
      "text/plain": "                     tweet_volume\ndatetime                         \n2022-01-01 00:00:00          1314\n2022-01-01 01:00:00          1064\n2022-01-01 02:00:00           986\n2022-01-01 03:00:00           942\n2022-01-01 04:00:00           832\n...                           ...\n2022-06-30 19:00:00          2032\n2022-06-30 20:00:00          2225\n2022-06-30 21:00:00          2159\n2022-06-30 22:00:00          1948\n2022-06-30 23:00:00          1803\n\n[4318 rows x 1 columns]",
      "text/html": "<div>\n<style scoped>\n    .dataframe tbody tr th:only-of-type {\n        vertical-align: middle;\n    }\n\n    .dataframe tbody tr th {\n        vertical-align: top;\n    }\n\n    .dataframe thead th {\n        text-align: right;\n    }\n</style>\n<table border=\"1\" class=\"dataframe\">\n  <thead>\n    <tr style=\"text-align: right;\">\n      <th></th>\n      <th>tweet_volume</th>\n    </tr>\n    <tr>\n      <th>datetime</th>\n      <th></th>\n    </tr>\n  </thead>\n  <tbody>\n    <tr>\n      <th>2022-01-01 00:00:00</th>\n      <td>1314</td>\n    </tr>\n    <tr>\n      <th>2022-01-01 01:00:00</th>\n      <td>1064</td>\n    </tr>\n    <tr>\n      <th>2022-01-01 02:00:00</th>\n      <td>986</td>\n    </tr>\n    <tr>\n      <th>2022-01-01 03:00:00</th>\n      <td>942</td>\n    </tr>\n    <tr>\n      <th>2022-01-01 04:00:00</th>\n      <td>832</td>\n    </tr>\n    <tr>\n      <th>...</th>\n      <td>...</td>\n    </tr>\n    <tr>\n      <th>2022-06-30 19:00:00</th>\n      <td>2032</td>\n    </tr>\n    <tr>\n      <th>2022-06-30 20:00:00</th>\n      <td>2225</td>\n    </tr>\n    <tr>\n      <th>2022-06-30 21:00:00</th>\n      <td>2159</td>\n    </tr>\n    <tr>\n      <th>2022-06-30 22:00:00</th>\n      <td>1948</td>\n    </tr>\n    <tr>\n      <th>2022-06-30 23:00:00</th>\n      <td>1803</td>\n    </tr>\n  </tbody>\n</table>\n<p>4318 rows × 1 columns</p>\n</div>"
     },
     "execution_count": 79,
     "metadata": {},
     "output_type": "execute_result"
    }
   ],
   "source": [
    "tweets_volume"
   ],
   "metadata": {
    "collapsed": false,
    "pycharm": {
     "name": "#%%\n"
    }
   }
  },
  {
   "cell_type": "code",
   "execution_count": 80,
   "outputs": [
    {
     "data": {
      "text/plain": "Empty DataFrame\nColumns: [Open, High, Low, Close, Volume, google_trends, tw_compound, tw_polarity, tw_subjectivity, tweet_volume, datetime.1, re_compound, re_polarity, re_subjectivity]\nIndex: []",
      "text/html": "<div>\n<style scoped>\n    .dataframe tbody tr th:only-of-type {\n        vertical-align: middle;\n    }\n\n    .dataframe tbody tr th {\n        vertical-align: top;\n    }\n\n    .dataframe thead th {\n        text-align: right;\n    }\n</style>\n<table border=\"1\" class=\"dataframe\">\n  <thead>\n    <tr style=\"text-align: right;\">\n      <th></th>\n      <th>Open</th>\n      <th>High</th>\n      <th>Low</th>\n      <th>Close</th>\n      <th>Volume</th>\n      <th>google_trends</th>\n      <th>tw_compound</th>\n      <th>tw_polarity</th>\n      <th>tw_subjectivity</th>\n      <th>tweet_volume</th>\n      <th>datetime.1</th>\n      <th>re_compound</th>\n      <th>re_polarity</th>\n      <th>re_subjectivity</th>\n    </tr>\n  </thead>\n  <tbody>\n  </tbody>\n</table>\n</div>"
     },
     "execution_count": 80,
     "metadata": {},
     "output_type": "execute_result"
    }
   ],
   "source": [
    "new_data_drop=new_data.dropna()\n",
    "new_data_drop"
   ],
   "metadata": {
    "collapsed": false,
    "pycharm": {
     "name": "#%%\n"
    }
   }
  },
  {
   "cell_type": "code",
   "execution_count": null,
   "outputs": [],
   "source": [
    "new_data_drop.to_csv('./../data/processed_data.csv')"
   ],
   "metadata": {
    "collapsed": false,
    "pycharm": {
     "name": "#%%\n"
    }
   }
  },
  {
   "cell_type": "markdown",
   "source": [
    "## Check the NAN values"
   ],
   "metadata": {
    "collapsed": false,
    "pycharm": {
     "name": "#%% md\n"
    }
   }
  },
  {
   "cell_type": "code",
   "execution_count": null,
   "outputs": [],
   "source": [
    "rows_with_na=new_data[new_data.isna().any(axis=1)]"
   ],
   "metadata": {
    "collapsed": false,
    "pycharm": {
     "name": "#%%\n"
    }
   }
  },
  {
   "cell_type": "code",
   "execution_count": null,
   "outputs": [],
   "source": [
    "# use the previdous row's data to fill the nan value\n",
    "new_data_filled= new_data.fillna(method='ffill')"
   ],
   "metadata": {
    "collapsed": false,
    "pycharm": {
     "name": "#%%\n"
    }
   }
  },
  {
   "cell_type": "code",
   "execution_count": null,
   "outputs": [],
   "source": [
    "new_data_filled.to_csv('./data/processed_data2.csv')"
   ],
   "metadata": {
    "collapsed": false,
    "pycharm": {
     "name": "#%%\n"
    }
   }
  },
  {
   "cell_type": "code",
   "execution_count": null,
   "outputs": [],
   "source": [
    "new_data_filled"
   ],
   "metadata": {
    "collapsed": false,
    "pycharm": {
     "name": "#%%\n"
    }
   }
  }
 ],
 "metadata": {
  "kernelspec": {
   "display_name": "Python 3",
   "language": "python",
   "name": "python3"
  },
  "language_info": {
   "codemirror_mode": {
    "name": "ipython",
    "version": 2
   },
   "file_extension": ".py",
   "mimetype": "text/x-python",
   "name": "python",
   "nbconvert_exporter": "python",
   "pygments_lexer": "ipython2",
   "version": "2.7.6"
  }
 },
 "nbformat": 4,
 "nbformat_minor": 0
}