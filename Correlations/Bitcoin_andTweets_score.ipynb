{
 "cells": [
  {
   "cell_type": "markdown",
   "source": [
    "# Tweets Sentiment Score Selection"
   ],
   "metadata": {
    "collapsed": false,
    "pycharm": {
     "name": "#%% md\n"
    }
   }
  },
  {
   "cell_type": "code",
   "execution_count": 19,
   "outputs": [],
   "source": [
    "import pandas as pd\n",
    "import numpy as np"
   ],
   "metadata": {
    "collapsed": false,
    "pycharm": {
     "name": "#%%\n"
    }
   }
  },
  {
   "cell_type": "code",
   "execution_count": 20,
   "outputs": [
    {
     "data": {
      "text/plain": "                         Open      High       Low     Close     Volume  \\\ndatetime                                                                 \n2022-01-01 00:00:00  46210.57  46729.73  46210.55  46650.01   8957.465   \n2022-01-01 01:00:00  46650.00  46944.56  46570.34  46766.78   7276.249   \n2022-01-01 02:00:00  46767.44  46917.87  46709.44  46796.14   4478.713   \n2022-01-01 03:00:00  46796.15  46888.00  46746.32  46789.56   4208.992   \n2022-01-01 04:00:00  46789.55  46868.74  46605.00  46690.81   6149.298   \n...                       ...       ...       ...       ...        ...   \n2022-06-30 19:00:00  19092.90  19113.40  18951.10  18962.10  20425.187   \n2022-06-30 20:00:00  18962.10  19038.20  18843.00  18921.30  32033.326   \n2022-06-30 21:00:00  18921.30  19064.70  18563.00  18742.90  43214.413   \n2022-06-30 22:00:00  18742.90  18961.00  18711.00  18812.60  34372.158   \n2022-06-30 23:00:00  18812.70  18944.80  18730.00  18885.00  25171.476   \n\n                     google_trends  tw_compound  tw_polarity  tw_subjectivity  \\\ndatetime                                                                        \n2022-01-01 00:00:00      71.000000     0.228459     0.127819         0.399377   \n2022-01-01 01:00:00      74.227273     0.235804     0.115225         0.380319   \n2022-01-01 02:00:00      74.227273     0.216377     0.094649         0.391375   \n2022-01-01 03:00:00      61.318182     0.254585     0.124391         0.376654   \n2022-01-01 04:00:00      61.318182     0.199023     0.106416         0.405293   \n...                            ...          ...          ...              ...   \n2022-06-30 19:00:00     112.036340     0.097033     0.062959         0.339059   \n2022-06-30 20:00:00     117.932989     0.096938     0.049762         0.366837   \n2022-06-30 21:00:00     115.574329     0.112159     0.054471         0.355057   \n2022-06-30 22:00:00     115.574329     0.104823     0.061164         0.362953   \n2022-06-30 23:00:00     100.243041     0.097806     0.061618         0.358823   \n\n                     tweet_volume  re_compound  re_polarity  re_subjectivity  \ndatetime                                                                      \n2022-01-01 00:00:00        1314.0     0.806147     0.106285         0.464971  \n2022-01-01 01:00:00        1064.0     0.523754     0.165466         0.469433  \n2022-01-01 02:00:00         986.0     0.404721    -0.003025         0.499500  \n2022-01-01 03:00:00         942.0     0.307653     0.129557         0.461581  \n2022-01-01 04:00:00         832.0     0.682042     0.108311         0.422146  \n...                           ...          ...          ...              ...  \n2022-06-30 19:00:00        2032.0     0.537786     0.112709         0.459895  \n2022-06-30 20:00:00        2225.0     0.456615     0.075858         0.494026  \n2022-06-30 21:00:00        2159.0     0.786424     0.053945         0.433892  \n2022-06-30 22:00:00        1948.0     0.375062     0.086258         0.452399  \n2022-06-30 23:00:00        1803.0     0.945668     0.091818         0.494242  \n\n[4344 rows x 13 columns]",
      "text/html": "<div>\n<style scoped>\n    .dataframe tbody tr th:only-of-type {\n        vertical-align: middle;\n    }\n\n    .dataframe tbody tr th {\n        vertical-align: top;\n    }\n\n    .dataframe thead th {\n        text-align: right;\n    }\n</style>\n<table border=\"1\" class=\"dataframe\">\n  <thead>\n    <tr style=\"text-align: right;\">\n      <th></th>\n      <th>Open</th>\n      <th>High</th>\n      <th>Low</th>\n      <th>Close</th>\n      <th>Volume</th>\n      <th>google_trends</th>\n      <th>tw_compound</th>\n      <th>tw_polarity</th>\n      <th>tw_subjectivity</th>\n      <th>tweet_volume</th>\n      <th>re_compound</th>\n      <th>re_polarity</th>\n      <th>re_subjectivity</th>\n    </tr>\n    <tr>\n      <th>datetime</th>\n      <th></th>\n      <th></th>\n      <th></th>\n      <th></th>\n      <th></th>\n      <th></th>\n      <th></th>\n      <th></th>\n      <th></th>\n      <th></th>\n      <th></th>\n      <th></th>\n      <th></th>\n    </tr>\n  </thead>\n  <tbody>\n    <tr>\n      <th>2022-01-01 00:00:00</th>\n      <td>46210.57</td>\n      <td>46729.73</td>\n      <td>46210.55</td>\n      <td>46650.01</td>\n      <td>8957.465</td>\n      <td>71.000000</td>\n      <td>0.228459</td>\n      <td>0.127819</td>\n      <td>0.399377</td>\n      <td>1314.0</td>\n      <td>0.806147</td>\n      <td>0.106285</td>\n      <td>0.464971</td>\n    </tr>\n    <tr>\n      <th>2022-01-01 01:00:00</th>\n      <td>46650.00</td>\n      <td>46944.56</td>\n      <td>46570.34</td>\n      <td>46766.78</td>\n      <td>7276.249</td>\n      <td>74.227273</td>\n      <td>0.235804</td>\n      <td>0.115225</td>\n      <td>0.380319</td>\n      <td>1064.0</td>\n      <td>0.523754</td>\n      <td>0.165466</td>\n      <td>0.469433</td>\n    </tr>\n    <tr>\n      <th>2022-01-01 02:00:00</th>\n      <td>46767.44</td>\n      <td>46917.87</td>\n      <td>46709.44</td>\n      <td>46796.14</td>\n      <td>4478.713</td>\n      <td>74.227273</td>\n      <td>0.216377</td>\n      <td>0.094649</td>\n      <td>0.391375</td>\n      <td>986.0</td>\n      <td>0.404721</td>\n      <td>-0.003025</td>\n      <td>0.499500</td>\n    </tr>\n    <tr>\n      <th>2022-01-01 03:00:00</th>\n      <td>46796.15</td>\n      <td>46888.00</td>\n      <td>46746.32</td>\n      <td>46789.56</td>\n      <td>4208.992</td>\n      <td>61.318182</td>\n      <td>0.254585</td>\n      <td>0.124391</td>\n      <td>0.376654</td>\n      <td>942.0</td>\n      <td>0.307653</td>\n      <td>0.129557</td>\n      <td>0.461581</td>\n    </tr>\n    <tr>\n      <th>2022-01-01 04:00:00</th>\n      <td>46789.55</td>\n      <td>46868.74</td>\n      <td>46605.00</td>\n      <td>46690.81</td>\n      <td>6149.298</td>\n      <td>61.318182</td>\n      <td>0.199023</td>\n      <td>0.106416</td>\n      <td>0.405293</td>\n      <td>832.0</td>\n      <td>0.682042</td>\n      <td>0.108311</td>\n      <td>0.422146</td>\n    </tr>\n    <tr>\n      <th>...</th>\n      <td>...</td>\n      <td>...</td>\n      <td>...</td>\n      <td>...</td>\n      <td>...</td>\n      <td>...</td>\n      <td>...</td>\n      <td>...</td>\n      <td>...</td>\n      <td>...</td>\n      <td>...</td>\n      <td>...</td>\n      <td>...</td>\n    </tr>\n    <tr>\n      <th>2022-06-30 19:00:00</th>\n      <td>19092.90</td>\n      <td>19113.40</td>\n      <td>18951.10</td>\n      <td>18962.10</td>\n      <td>20425.187</td>\n      <td>112.036340</td>\n      <td>0.097033</td>\n      <td>0.062959</td>\n      <td>0.339059</td>\n      <td>2032.0</td>\n      <td>0.537786</td>\n      <td>0.112709</td>\n      <td>0.459895</td>\n    </tr>\n    <tr>\n      <th>2022-06-30 20:00:00</th>\n      <td>18962.10</td>\n      <td>19038.20</td>\n      <td>18843.00</td>\n      <td>18921.30</td>\n      <td>32033.326</td>\n      <td>117.932989</td>\n      <td>0.096938</td>\n      <td>0.049762</td>\n      <td>0.366837</td>\n      <td>2225.0</td>\n      <td>0.456615</td>\n      <td>0.075858</td>\n      <td>0.494026</td>\n    </tr>\n    <tr>\n      <th>2022-06-30 21:00:00</th>\n      <td>18921.30</td>\n      <td>19064.70</td>\n      <td>18563.00</td>\n      <td>18742.90</td>\n      <td>43214.413</td>\n      <td>115.574329</td>\n      <td>0.112159</td>\n      <td>0.054471</td>\n      <td>0.355057</td>\n      <td>2159.0</td>\n      <td>0.786424</td>\n      <td>0.053945</td>\n      <td>0.433892</td>\n    </tr>\n    <tr>\n      <th>2022-06-30 22:00:00</th>\n      <td>18742.90</td>\n      <td>18961.00</td>\n      <td>18711.00</td>\n      <td>18812.60</td>\n      <td>34372.158</td>\n      <td>115.574329</td>\n      <td>0.104823</td>\n      <td>0.061164</td>\n      <td>0.362953</td>\n      <td>1948.0</td>\n      <td>0.375062</td>\n      <td>0.086258</td>\n      <td>0.452399</td>\n    </tr>\n    <tr>\n      <th>2022-06-30 23:00:00</th>\n      <td>18812.70</td>\n      <td>18944.80</td>\n      <td>18730.00</td>\n      <td>18885.00</td>\n      <td>25171.476</td>\n      <td>100.243041</td>\n      <td>0.097806</td>\n      <td>0.061618</td>\n      <td>0.358823</td>\n      <td>1803.0</td>\n      <td>0.945668</td>\n      <td>0.091818</td>\n      <td>0.494242</td>\n    </tr>\n  </tbody>\n</table>\n<p>4344 rows × 13 columns</p>\n</div>"
     },
     "metadata": {},
     "output_type": "display_data"
    },
    {
     "data": {
      "text/plain": "                        Close     Volume  google_trends  tw_compound  \\\ndatetime                                                               \n2022-01-01 00:00:00  46650.01   8957.465      71.000000     0.294186   \n2022-01-01 01:00:00  46766.78   7276.249      74.227273     0.315843   \n2022-01-01 02:00:00  46796.14   4478.713      74.227273     0.273377   \n2022-01-01 03:00:00  46789.56   4208.992      61.318182     0.323687   \n2022-01-01 04:00:00  46690.81   6149.298      61.318182     0.258454   \n...                       ...        ...            ...          ...   \n2022-06-30 19:00:00  18962.10  20425.187     112.036340     0.129110   \n2022-06-30 20:00:00  18921.30  32033.326     117.932989     0.123428   \n2022-06-30 21:00:00  18742.90  43214.413     115.574329     0.145313   \n2022-06-30 22:00:00  18812.60  34372.158     115.574329     0.136381   \n2022-06-30 23:00:00  18885.00  25171.476     100.243041     0.128164   \n\n                     tw_polarity  tw_subjectivity  tweet_volume  re_compound  \\\ndatetime                                                                       \n2022-01-01 00:00:00     0.156530         0.464577          1314     0.865422   \n2022-01-01 01:00:00     0.140626         0.455090          1064     0.523754   \n2022-01-01 02:00:00     0.113804         0.440913           986     0.404721   \n2022-01-01 03:00:00     0.148573         0.436693           942     0.307653   \n2022-01-01 04:00:00     0.127924         0.469470           832     0.682042   \n...                          ...              ...           ...          ...   \n2022-06-30 19:00:00     0.071686         0.391262          2032     0.537786   \n2022-06-30 20:00:00     0.055231         0.417231          2225     0.456615   \n2022-06-30 21:00:00     0.063928         0.405763          2159     0.786424   \n2022-06-30 22:00:00     0.069881         0.414769          1948     0.375062   \n2022-06-30 23:00:00     0.074922         0.420452          1803     0.945668   \n\n                     re_polarity  re_subjectivity  \ndatetime                                           \n2022-01-01 00:00:00     0.097302         0.473199  \n2022-01-01 01:00:00     0.165466         0.469433  \n2022-01-01 02:00:00    -0.003025         0.499500  \n2022-01-01 03:00:00     0.129557         0.461581  \n2022-01-01 04:00:00     0.108311         0.422146  \n...                          ...              ...  \n2022-06-30 19:00:00     0.112709         0.459895  \n2022-06-30 20:00:00     0.075858         0.494026  \n2022-06-30 21:00:00     0.053945         0.433892  \n2022-06-30 22:00:00     0.086258         0.452399  \n2022-06-30 23:00:00     0.091818         0.494242  \n\n[4344 rows x 10 columns]",
      "text/html": "<div>\n<style scoped>\n    .dataframe tbody tr th:only-of-type {\n        vertical-align: middle;\n    }\n\n    .dataframe tbody tr th {\n        vertical-align: top;\n    }\n\n    .dataframe thead th {\n        text-align: right;\n    }\n</style>\n<table border=\"1\" class=\"dataframe\">\n  <thead>\n    <tr style=\"text-align: right;\">\n      <th></th>\n      <th>Close</th>\n      <th>Volume</th>\n      <th>google_trends</th>\n      <th>tw_compound</th>\n      <th>tw_polarity</th>\n      <th>tw_subjectivity</th>\n      <th>tweet_volume</th>\n      <th>re_compound</th>\n      <th>re_polarity</th>\n      <th>re_subjectivity</th>\n    </tr>\n    <tr>\n      <th>datetime</th>\n      <th></th>\n      <th></th>\n      <th></th>\n      <th></th>\n      <th></th>\n      <th></th>\n      <th></th>\n      <th></th>\n      <th></th>\n      <th></th>\n    </tr>\n  </thead>\n  <tbody>\n    <tr>\n      <th>2022-01-01 00:00:00</th>\n      <td>46650.01</td>\n      <td>8957.465</td>\n      <td>71.000000</td>\n      <td>0.294186</td>\n      <td>0.156530</td>\n      <td>0.464577</td>\n      <td>1314</td>\n      <td>0.865422</td>\n      <td>0.097302</td>\n      <td>0.473199</td>\n    </tr>\n    <tr>\n      <th>2022-01-01 01:00:00</th>\n      <td>46766.78</td>\n      <td>7276.249</td>\n      <td>74.227273</td>\n      <td>0.315843</td>\n      <td>0.140626</td>\n      <td>0.455090</td>\n      <td>1064</td>\n      <td>0.523754</td>\n      <td>0.165466</td>\n      <td>0.469433</td>\n    </tr>\n    <tr>\n      <th>2022-01-01 02:00:00</th>\n      <td>46796.14</td>\n      <td>4478.713</td>\n      <td>74.227273</td>\n      <td>0.273377</td>\n      <td>0.113804</td>\n      <td>0.440913</td>\n      <td>986</td>\n      <td>0.404721</td>\n      <td>-0.003025</td>\n      <td>0.499500</td>\n    </tr>\n    <tr>\n      <th>2022-01-01 03:00:00</th>\n      <td>46789.56</td>\n      <td>4208.992</td>\n      <td>61.318182</td>\n      <td>0.323687</td>\n      <td>0.148573</td>\n      <td>0.436693</td>\n      <td>942</td>\n      <td>0.307653</td>\n      <td>0.129557</td>\n      <td>0.461581</td>\n    </tr>\n    <tr>\n      <th>2022-01-01 04:00:00</th>\n      <td>46690.81</td>\n      <td>6149.298</td>\n      <td>61.318182</td>\n      <td>0.258454</td>\n      <td>0.127924</td>\n      <td>0.469470</td>\n      <td>832</td>\n      <td>0.682042</td>\n      <td>0.108311</td>\n      <td>0.422146</td>\n    </tr>\n    <tr>\n      <th>...</th>\n      <td>...</td>\n      <td>...</td>\n      <td>...</td>\n      <td>...</td>\n      <td>...</td>\n      <td>...</td>\n      <td>...</td>\n      <td>...</td>\n      <td>...</td>\n      <td>...</td>\n    </tr>\n    <tr>\n      <th>2022-06-30 19:00:00</th>\n      <td>18962.10</td>\n      <td>20425.187</td>\n      <td>112.036340</td>\n      <td>0.129110</td>\n      <td>0.071686</td>\n      <td>0.391262</td>\n      <td>2032</td>\n      <td>0.537786</td>\n      <td>0.112709</td>\n      <td>0.459895</td>\n    </tr>\n    <tr>\n      <th>2022-06-30 20:00:00</th>\n      <td>18921.30</td>\n      <td>32033.326</td>\n      <td>117.932989</td>\n      <td>0.123428</td>\n      <td>0.055231</td>\n      <td>0.417231</td>\n      <td>2225</td>\n      <td>0.456615</td>\n      <td>0.075858</td>\n      <td>0.494026</td>\n    </tr>\n    <tr>\n      <th>2022-06-30 21:00:00</th>\n      <td>18742.90</td>\n      <td>43214.413</td>\n      <td>115.574329</td>\n      <td>0.145313</td>\n      <td>0.063928</td>\n      <td>0.405763</td>\n      <td>2159</td>\n      <td>0.786424</td>\n      <td>0.053945</td>\n      <td>0.433892</td>\n    </tr>\n    <tr>\n      <th>2022-06-30 22:00:00</th>\n      <td>18812.60</td>\n      <td>34372.158</td>\n      <td>115.574329</td>\n      <td>0.136381</td>\n      <td>0.069881</td>\n      <td>0.414769</td>\n      <td>1948</td>\n      <td>0.375062</td>\n      <td>0.086258</td>\n      <td>0.452399</td>\n    </tr>\n    <tr>\n      <th>2022-06-30 23:00:00</th>\n      <td>18885.00</td>\n      <td>25171.476</td>\n      <td>100.243041</td>\n      <td>0.128164</td>\n      <td>0.074922</td>\n      <td>0.420452</td>\n      <td>1803</td>\n      <td>0.945668</td>\n      <td>0.091818</td>\n      <td>0.494242</td>\n    </tr>\n  </tbody>\n</table>\n<p>4344 rows × 10 columns</p>\n</div>"
     },
     "metadata": {},
     "output_type": "display_data"
    }
   ],
   "source": [
    "close_data_1=pd.read_csv('./../data/processed_data.csv')\n",
    "close_data_1.rename(columns={'Unnamed: 0': 'datetime'},inplace=True)\n",
    "close_data_1['datetime']=pd.to_datetime(close_data_1['datetime'])\n",
    "close_data_1.set_index('datetime',inplace=True)\n",
    "display(close_data_1)\n",
    "\n",
    "close_data_2=pd.read_csv('./../data/processed_data2.csv')\n",
    "close_data_2.rename(columns={'Unnamed: 0': 'datetime'},inplace=True)\n",
    "close_data_2['datetime']=pd.to_datetime(close_data_2['datetime'])\n",
    "close_data_2.set_index('datetime',inplace=True)\n",
    "display(close_data_2)"
   ],
   "metadata": {
    "collapsed": false,
    "pycharm": {
     "name": "#%%\n"
    }
   }
  },
  {
   "cell_type": "markdown",
   "source": [],
   "metadata": {
    "collapsed": false,
    "pycharm": {
     "name": "#%% md\n"
    }
   }
  },
  {
   "cell_type": "code",
   "execution_count": 21,
   "outputs": [],
   "source": [
    "def get_data(close_data_2, close_data_1, month):\n",
    "    sub_data_1=close_data_1[(close_data_1.index.month>=1) & (close_data_1.index.month <=month)]\n",
    "    sub_data_2=close_data_2[(close_data_2.index.month>=1) & (close_data_2.index.month <=month)]\n",
    "    sub_data_2.rename(columns={'Close':'Close2','tw_compound':'tw_compound2','tw_polarity':'tw_polarity2','tweet_volume':'tweet_volume2'}, inplace=True)\n",
    "    bitcoindata=pd.concat([sub_data_1,sub_data_2], axis=1)\n",
    "    # keep the useful columns\n",
    "    columns_keep=['Close','tw_compound','tw_compound2','tw_polarity','tw_polarity2','tweet_volume']\n",
    "    columns=list(bitcoindata.columns.values)\n",
    "    for i in columns_keep:\n",
    "        columns.remove(i)\n",
    "\n",
    "    bitcoin_new=bitcoindata.drop(columns=columns)\n",
    "    return bitcoin_new"
   ],
   "metadata": {
    "collapsed": false,
    "pycharm": {
     "name": "#%%\n"
    }
   }
  },
  {
   "cell_type": "code",
   "execution_count": 22,
   "outputs": [
    {
     "name": "stderr",
     "output_type": "stream",
     "text": [
      "  0%|          | 0/6 [00:00<?, ?it/s]/var/folders/vp/8_rd4_c56g3dpqb1167z6tqr0000gn/T/ipykernel_9699/4242546074.py:4: SettingWithCopyWarning:\n",
      "\n",
      "\n",
      "A value is trying to be set on a copy of a slice from a DataFrame\n",
      "\n",
      "See the caveats in the documentation: https://pandas.pydata.org/pandas-docs/stable/user_guide/indexing.html#returning-a-view-versus-a-copy\n",
      "\n",
      "/var/folders/vp/8_rd4_c56g3dpqb1167z6tqr0000gn/T/ipykernel_9699/4242546074.py:4: SettingWithCopyWarning:\n",
      "\n",
      "\n",
      "A value is trying to be set on a copy of a slice from a DataFrame\n",
      "\n",
      "See the caveats in the documentation: https://pandas.pydata.org/pandas-docs/stable/user_guide/indexing.html#returning-a-view-versus-a-copy\n",
      "\n",
      "/var/folders/vp/8_rd4_c56g3dpqb1167z6tqr0000gn/T/ipykernel_9699/4242546074.py:4: SettingWithCopyWarning:\n",
      "\n",
      "\n",
      "A value is trying to be set on a copy of a slice from a DataFrame\n",
      "\n",
      "See the caveats in the documentation: https://pandas.pydata.org/pandas-docs/stable/user_guide/indexing.html#returning-a-view-versus-a-copy\n",
      "\n",
      "/var/folders/vp/8_rd4_c56g3dpqb1167z6tqr0000gn/T/ipykernel_9699/4242546074.py:4: SettingWithCopyWarning:\n",
      "\n",
      "\n",
      "A value is trying to be set on a copy of a slice from a DataFrame\n",
      "\n",
      "See the caveats in the documentation: https://pandas.pydata.org/pandas-docs/stable/user_guide/indexing.html#returning-a-view-versus-a-copy\n",
      "\n",
      "/var/folders/vp/8_rd4_c56g3dpqb1167z6tqr0000gn/T/ipykernel_9699/4242546074.py:4: SettingWithCopyWarning:\n",
      "\n",
      "\n",
      "A value is trying to be set on a copy of a slice from a DataFrame\n",
      "\n",
      "See the caveats in the documentation: https://pandas.pydata.org/pandas-docs/stable/user_guide/indexing.html#returning-a-view-versus-a-copy\n",
      "\n",
      "/var/folders/vp/8_rd4_c56g3dpqb1167z6tqr0000gn/T/ipykernel_9699/4242546074.py:4: SettingWithCopyWarning:\n",
      "\n",
      "\n",
      "A value is trying to be set on a copy of a slice from a DataFrame\n",
      "\n",
      "See the caveats in the documentation: https://pandas.pydata.org/pandas-docs/stable/user_guide/indexing.html#returning-a-view-versus-a-copy\n",
      "\n",
      "100%|██████████| 6/6 [00:00<00:00, 112.75it/s]"
     ]
    },
    {
     "name": "stdout",
     "output_type": "stream",
     "text": [
      "                        Close  tw_compound  tw_polarity  tweet_volume  \\\n",
      "datetime                                                                \n",
      "2022-01-01 00:00:00  46650.01     0.228459     0.127819        1314.0   \n",
      "2022-01-01 01:00:00  46766.78     0.235804     0.115225        1064.0   \n",
      "2022-01-01 02:00:00  46796.14     0.216377     0.094649         986.0   \n",
      "2022-01-01 03:00:00  46789.56     0.254585     0.124391         942.0   \n",
      "2022-01-01 04:00:00  46690.81     0.199023     0.106416         832.0   \n",
      "...                       ...          ...          ...           ...   \n",
      "2022-01-31 19:00:00  38400.00     0.183588     0.081839        1783.0   \n",
      "2022-01-31 20:00:00  38432.32     0.192136     0.095253        1643.0   \n",
      "2022-01-31 21:00:00  38395.17     0.161571     0.076959        1710.0   \n",
      "2022-01-31 22:00:00  38385.61     0.174818     0.084645        1535.0   \n",
      "2022-01-31 23:00:00  38439.04     0.179466     0.097385        1492.0   \n",
      "\n",
      "                     tw_compound2  tw_polarity2  \n",
      "datetime                                         \n",
      "2022-01-01 00:00:00      0.294186      0.156530  \n",
      "2022-01-01 01:00:00      0.315843      0.140626  \n",
      "2022-01-01 02:00:00      0.273377      0.113804  \n",
      "2022-01-01 03:00:00      0.323687      0.148573  \n",
      "2022-01-01 04:00:00      0.258454      0.127924  \n",
      "...                           ...           ...  \n",
      "2022-01-31 19:00:00      0.245553      0.093319  \n",
      "2022-01-31 20:00:00      0.251158      0.117039  \n",
      "2022-01-31 21:00:00      0.220012      0.094249  \n",
      "2022-01-31 22:00:00      0.228959      0.107970  \n",
      "2022-01-31 23:00:00      0.231084      0.119654  \n",
      "\n",
      "[744 rows x 6 columns]\n",
      "                 Close  tw_compound  tw_polarity  tweet_volume  tw_compound2  \\\n",
      "Close         1.000000     0.509073     0.433498     -0.273618      0.423875   \n",
      "tw_compound   0.509073     1.000000     0.665713     -0.384550      0.753161   \n",
      "tw_polarity   0.433498     0.665713     1.000000     -0.329176      0.498692   \n",
      "tweet_volume -0.273618    -0.384550    -0.329176      1.000000     -0.404565   \n",
      "tw_compound2  0.423875     0.753161     0.498692     -0.404565      1.000000   \n",
      "tw_polarity2  0.327261     0.521595     0.762477     -0.357553      0.681250   \n",
      "\n",
      "              tw_polarity2  \n",
      "Close             0.327261  \n",
      "tw_compound       0.521595  \n",
      "tw_polarity       0.762477  \n",
      "tweet_volume     -0.357553  \n",
      "tw_compound2      0.681250  \n",
      "tw_polarity2      1.000000  \n",
      "                        Close  tw_compound  tw_polarity  tweet_volume  \\\n",
      "datetime                                                                \n",
      "2022-01-01 00:00:00  46650.01     0.228459     0.127819        1314.0   \n",
      "2022-01-01 01:00:00  46766.78     0.235804     0.115225        1064.0   \n",
      "2022-01-01 02:00:00  46796.14     0.216377     0.094649         986.0   \n",
      "2022-01-01 03:00:00  46789.56     0.254585     0.124391         942.0   \n",
      "2022-01-01 04:00:00  46690.81     0.199023     0.106416         832.0   \n",
      "...                       ...          ...          ...           ...   \n",
      "2022-02-28 19:00:00  41306.40     0.141192     0.066866        2377.0   \n",
      "2022-02-28 20:00:00  41882.00     0.112955     0.075366        2497.0   \n",
      "2022-02-28 21:00:00  41633.10     0.116500     0.075643        2362.0   \n",
      "2022-02-28 22:00:00  43020.60     0.106326     0.044445        3494.0   \n",
      "2022-02-28 23:00:00  43155.00     0.127523     0.064916        2924.0   \n",
      "\n",
      "                     tw_compound2  tw_polarity2  \n",
      "datetime                                         \n",
      "2022-01-01 00:00:00      0.294186      0.156530  \n",
      "2022-01-01 01:00:00      0.315843      0.140626  \n",
      "2022-01-01 02:00:00      0.273377      0.113804  \n",
      "2022-01-01 03:00:00      0.323687      0.148573  \n",
      "2022-01-01 04:00:00      0.258454      0.127924  \n",
      "...                           ...           ...  \n",
      "2022-02-28 19:00:00      0.190719      0.084636  \n",
      "2022-02-28 20:00:00      0.150606      0.093815  \n",
      "2022-02-28 21:00:00      0.154991      0.088733  \n",
      "2022-02-28 22:00:00      0.148251      0.055587  \n",
      "2022-02-28 23:00:00      0.170381      0.079430  \n",
      "\n",
      "[1416 rows x 6 columns]\n",
      "                 Close  tw_compound  tw_polarity  tweet_volume  tw_compound2  \\\n",
      "Close         1.000000     0.391982     0.352550     -0.109117      0.392127   \n",
      "tw_compound   0.391982     1.000000     0.668022     -0.245634      0.819920   \n",
      "tw_polarity   0.352550     0.668022     1.000000     -0.228737      0.564915   \n",
      "tweet_volume -0.109117    -0.245634    -0.228737      1.000000     -0.262575   \n",
      "tw_compound2  0.392127     0.819920     0.564915     -0.262575      1.000000   \n",
      "tw_polarity2  0.274601     0.586378     0.808006     -0.267470      0.696481   \n",
      "\n",
      "              tw_polarity2  \n",
      "Close             0.274601  \n",
      "tw_compound       0.586378  \n",
      "tw_polarity       0.808006  \n",
      "tweet_volume     -0.267470  \n",
      "tw_compound2      0.696481  \n",
      "tw_polarity2      1.000000  \n",
      "                        Close  tw_compound  tw_polarity  tweet_volume  \\\n",
      "datetime                                                                \n",
      "2022-01-01 00:00:00  46650.01     0.228459     0.127819        1314.0   \n",
      "2022-01-01 01:00:00  46766.78     0.235804     0.115225        1064.0   \n",
      "2022-01-01 02:00:00  46796.14     0.216377     0.094649         986.0   \n",
      "2022-01-01 03:00:00  46789.56     0.254585     0.124391         942.0   \n",
      "2022-01-01 04:00:00  46690.81     0.199023     0.106416         832.0   \n",
      "...                       ...          ...          ...           ...   \n",
      "2022-03-31 19:00:00  45946.90     0.165786     0.077545        2097.0   \n",
      "2022-03-31 20:00:00  45578.10     0.142633     0.057634        2010.0   \n",
      "2022-03-31 21:00:00  45741.90     0.163589     0.079326        1729.0   \n",
      "2022-03-31 22:00:00  45736.10     0.147763     0.084282        1617.0   \n",
      "2022-03-31 23:00:00  45782.30     0.125543     0.068931        1618.0   \n",
      "\n",
      "                     tw_compound2  tw_polarity2  \n",
      "datetime                                         \n",
      "2022-01-01 00:00:00      0.294186      0.156530  \n",
      "2022-01-01 01:00:00      0.315843      0.140626  \n",
      "2022-01-01 02:00:00      0.273377      0.113804  \n",
      "2022-01-01 03:00:00      0.323687      0.148573  \n",
      "2022-01-01 04:00:00      0.258454      0.127924  \n",
      "...                           ...           ...  \n",
      "2022-03-31 19:00:00      0.220743      0.098332  \n",
      "2022-03-31 20:00:00      0.193601      0.072407  \n",
      "2022-03-31 21:00:00      0.218205      0.093669  \n",
      "2022-03-31 22:00:00      0.200613      0.113584  \n",
      "2022-03-31 23:00:00      0.162416      0.085210  \n",
      "\n",
      "[2160 rows x 6 columns]\n",
      "                 Close  tw_compound  tw_polarity  tweet_volume  tw_compound2  \\\n",
      "Close         1.000000     0.380995     0.318115     -0.001918      0.425561   \n",
      "tw_compound   0.380995     1.000000     0.629997     -0.137219      0.779921   \n",
      "tw_polarity   0.318115     0.629997     1.000000     -0.156009      0.523728   \n",
      "tweet_volume -0.001918    -0.137219    -0.156009      1.000000     -0.138344   \n",
      "tw_compound2  0.425561     0.779921     0.523728     -0.138344      1.000000   \n",
      "tw_polarity2  0.305445     0.513264     0.779278     -0.159626      0.676059   \n",
      "\n",
      "              tw_polarity2  \n",
      "Close             0.305445  \n",
      "tw_compound       0.513264  \n",
      "tw_polarity       0.779278  \n",
      "tweet_volume     -0.159626  \n",
      "tw_compound2      0.676059  \n",
      "tw_polarity2      1.000000  \n",
      "                        Close  tw_compound  tw_polarity  tweet_volume  \\\n",
      "datetime                                                                \n",
      "2022-01-01 00:00:00  46650.01     0.228459     0.127819        1314.0   \n",
      "2022-01-01 01:00:00  46766.78     0.235804     0.115225        1064.0   \n",
      "2022-01-01 02:00:00  46796.14     0.216377     0.094649         986.0   \n",
      "2022-01-01 03:00:00  46789.56     0.254585     0.124391         942.0   \n",
      "2022-01-01 04:00:00  46690.81     0.199023     0.106416         832.0   \n",
      "...                       ...          ...          ...           ...   \n",
      "2022-04-30 19:00:00  38325.10     0.178449     0.086889        1548.0   \n",
      "2022-04-30 20:00:00  38447.70     0.157960     0.047902        1691.0   \n",
      "2022-04-30 21:00:00  38313.40     0.144588     0.058353        1744.0   \n",
      "2022-04-30 22:00:00  38284.40     0.107440     0.033098        1719.0   \n",
      "2022-04-30 23:00:00  38234.70     0.084014     0.044420        2052.0   \n",
      "\n",
      "                     tw_compound2  tw_polarity2  \n",
      "datetime                                         \n",
      "2022-01-01 00:00:00      0.294186      0.156530  \n",
      "2022-01-01 01:00:00      0.315843      0.140626  \n",
      "2022-01-01 02:00:00      0.273377      0.113804  \n",
      "2022-01-01 03:00:00      0.323687      0.148573  \n",
      "2022-01-01 04:00:00      0.258454      0.127924  \n",
      "...                           ...           ...  \n",
      "2022-04-30 19:00:00      0.236801      0.109380  \n",
      "2022-04-30 20:00:00      0.206404      0.053403  \n",
      "2022-04-30 21:00:00      0.190072      0.070852  \n",
      "2022-04-30 22:00:00      0.140078      0.039081  \n",
      "2022-04-30 23:00:00      0.111149      0.054370  \n",
      "\n",
      "[2880 rows x 6 columns]\n",
      "                 Close  tw_compound  tw_polarity  tweet_volume  tw_compound2  \\\n",
      "Close         1.000000     0.349553     0.282191      0.002924      0.348591   \n",
      "tw_compound   0.349553     1.000000     0.660616     -0.088208      0.775776   \n",
      "tw_polarity   0.282191     0.660616     1.000000     -0.103619      0.543766   \n",
      "tweet_volume  0.002924    -0.088208    -0.103619      1.000000     -0.077508   \n",
      "tw_compound2  0.348591     0.775776     0.543766     -0.077508      1.000000   \n",
      "tw_polarity2  0.237575     0.532229     0.791086     -0.102246      0.691153   \n",
      "\n",
      "              tw_polarity2  \n",
      "Close             0.237575  \n",
      "tw_compound       0.532229  \n",
      "tw_polarity       0.791086  \n",
      "tweet_volume     -0.102246  \n",
      "tw_compound2      0.691153  \n",
      "tw_polarity2      1.000000  \n",
      "                        Close  tw_compound  tw_polarity  tweet_volume  \\\n",
      "datetime                                                                \n",
      "2022-01-01 00:00:00  46650.01     0.228459     0.127819        1314.0   \n",
      "2022-01-01 01:00:00  46766.78     0.235804     0.115225        1064.0   \n",
      "2022-01-01 02:00:00  46796.14     0.216377     0.094649         986.0   \n",
      "2022-01-01 03:00:00  46789.56     0.254585     0.124391         942.0   \n",
      "2022-01-01 04:00:00  46690.81     0.199023     0.106416         832.0   \n",
      "...                       ...          ...          ...           ...   \n",
      "2022-05-31 19:00:00  31671.70     0.177953     0.097971        1900.0   \n",
      "2022-05-31 20:00:00  31618.90     0.152617     0.082622        1571.0   \n",
      "2022-05-31 21:00:00  31804.30     0.151924     0.089992        1403.0   \n",
      "2022-05-31 22:00:00  31714.80     0.164406     0.081688        1406.0   \n",
      "2022-05-31 23:00:00  31856.30     0.144355     0.075089        1234.0   \n",
      "\n",
      "                     tw_compound2  tw_polarity2  \n",
      "datetime                                         \n",
      "2022-01-01 00:00:00      0.294186      0.156530  \n",
      "2022-01-01 01:00:00      0.315843      0.140626  \n",
      "2022-01-01 02:00:00      0.273377      0.113804  \n",
      "2022-01-01 03:00:00      0.323687      0.148573  \n",
      "2022-01-01 04:00:00      0.258454      0.127924  \n",
      "...                           ...           ...  \n",
      "2022-05-31 19:00:00      0.235129      0.119645  \n",
      "2022-05-31 20:00:00      0.209623      0.101652  \n",
      "2022-05-31 21:00:00      0.200118      0.111757  \n",
      "2022-05-31 22:00:00      0.234637      0.110053  \n",
      "2022-05-31 23:00:00      0.194353      0.092466  \n",
      "\n",
      "[3624 rows x 6 columns]\n",
      "                 Close  tw_compound  tw_polarity  tweet_volume  tw_compound2  \\\n",
      "Close         1.000000     0.344118     0.233530     -0.046862      0.295977   \n",
      "tw_compound   0.344118     1.000000     0.679856     -0.143468      0.778071   \n",
      "tw_polarity   0.233530     0.679856     1.000000     -0.140581      0.551872   \n",
      "tweet_volume -0.046862    -0.143468    -0.140581      1.000000     -0.092763   \n",
      "tw_compound2  0.295977     0.778071     0.551872     -0.092763      1.000000   \n",
      "tw_polarity2  0.165772     0.548164     0.796026     -0.116448      0.697128   \n",
      "\n",
      "              tw_polarity2  \n",
      "Close             0.165772  \n",
      "tw_compound       0.548164  \n",
      "tw_polarity       0.796026  \n",
      "tweet_volume     -0.116448  \n",
      "tw_compound2      0.697128  \n",
      "tw_polarity2      1.000000  \n",
      "                        Close  tw_compound  tw_polarity  tweet_volume  \\\n",
      "datetime                                                                \n",
      "2022-01-01 00:00:00  46650.01     0.228459     0.127819        1314.0   \n",
      "2022-01-01 01:00:00  46766.78     0.235804     0.115225        1064.0   \n",
      "2022-01-01 02:00:00  46796.14     0.216377     0.094649         986.0   \n",
      "2022-01-01 03:00:00  46789.56     0.254585     0.124391         942.0   \n",
      "2022-01-01 04:00:00  46690.81     0.199023     0.106416         832.0   \n",
      "...                       ...          ...          ...           ...   \n",
      "2022-06-30 19:00:00  18962.10     0.097033     0.062959        2032.0   \n",
      "2022-06-30 20:00:00  18921.30     0.096938     0.049762        2225.0   \n",
      "2022-06-30 21:00:00  18742.90     0.112159     0.054471        2159.0   \n",
      "2022-06-30 22:00:00  18812.60     0.104823     0.061164        1948.0   \n",
      "2022-06-30 23:00:00  18885.00     0.097806     0.061618        1803.0   \n",
      "\n",
      "                     tw_compound2  tw_polarity2  \n",
      "datetime                                         \n",
      "2022-01-01 00:00:00      0.294186      0.156530  \n",
      "2022-01-01 01:00:00      0.315843      0.140626  \n",
      "2022-01-01 02:00:00      0.273377      0.113804  \n",
      "2022-01-01 03:00:00      0.323687      0.148573  \n",
      "2022-01-01 04:00:00      0.258454      0.127924  \n",
      "...                           ...           ...  \n",
      "2022-06-30 19:00:00      0.129110      0.071686  \n",
      "2022-06-30 20:00:00      0.123428      0.055231  \n",
      "2022-06-30 21:00:00      0.145313      0.063928  \n",
      "2022-06-30 22:00:00      0.136381      0.069881  \n",
      "2022-06-30 23:00:00      0.128164      0.074922  \n",
      "\n",
      "[4344 rows x 6 columns]\n",
      "                 Close  tw_compound  tw_polarity  tweet_volume  tw_compound2  \\\n",
      "Close         1.000000     0.415721     0.294309     -0.116213      0.412561   \n",
      "tw_compound   0.415721     1.000000     0.688786     -0.200523      0.803085   \n",
      "tw_polarity   0.294309     0.688786     1.000000     -0.196069      0.582866   \n",
      "tweet_volume -0.116213    -0.200523    -0.196069      1.000000     -0.182067   \n",
      "tw_compound2  0.412561     0.803085     0.582866     -0.182067      1.000000   \n",
      "tw_polarity2  0.275052     0.587261     0.808495     -0.192056      0.720440   \n",
      "\n",
      "              tw_polarity2  \n",
      "Close             0.275052  \n",
      "tw_compound       0.587261  \n",
      "tw_polarity       0.808495  \n",
      "tweet_volume     -0.192056  \n",
      "tw_compound2      0.720440  \n",
      "tw_polarity2      1.000000  \n"
     ]
    },
    {
     "name": "stderr",
     "output_type": "stream",
     "text": [
      "\n"
     ]
    }
   ],
   "source": [
    "import matplotlib.pyplot as plt\n",
    "import seaborn as sns\n",
    "from sklearn.preprocessing import MinMaxScaler\n",
    "import plotly.express as px\n",
    "# sns.heatmap(bitcoin_new_google.corr(method='spearman'), annot=True)\n",
    "month=[1,2,3,4,5,6]\n",
    "from tqdm import tqdm\n",
    "results=[]\n",
    "for m in tqdm(month, total=len(month)):\n",
    "    data=get_data(close_data_2,close_data_1, m)\n",
    "    correlation=data.corr(method='spearman')\n",
    "    print(correlation)\n",
    "    results.append({\"Months\":m, \"tw_compound\": correlation['Close']['tw_compound'],\"tw_compound2\": correlation['Close']['tw_compound2'],\"tw_polarity\": correlation['Close']['tw_polarity'],\"tw_polarity2\":correlation['Close']['tw_polarity2'],\"tweet_volume\":correlation['Close']['tweet_volume'],})\n"
   ],
   "metadata": {
    "collapsed": false,
    "pycharm": {
     "name": "#%%\n"
    }
   }
  },
  {
   "cell_type": "code",
   "execution_count": 23,
   "outputs": [],
   "source": [
    "results_frame=pd.DataFrame(results)"
   ],
   "metadata": {
    "collapsed": false,
    "pycharm": {
     "name": "#%%\n"
    }
   }
  },
  {
   "cell_type": "code",
   "execution_count": 24,
   "outputs": [
    {
     "data": {
      "text/plain": "        tw_compound  tw_compound2  tw_polarity  tw_polarity2  tweet_volume\nMonths                                                                    \n1          0.509073      0.423875     0.433498      0.327261     -0.273618\n2          0.391982      0.392127     0.352550      0.274601     -0.109117\n3          0.380995      0.425561     0.318115      0.305445     -0.001918\n4          0.349553      0.348591     0.282191      0.237575      0.002924\n5          0.344118      0.295977     0.233530      0.165772     -0.046862\n6          0.415721      0.412561     0.294309      0.275052     -0.116213",
      "text/html": "<div>\n<style scoped>\n    .dataframe tbody tr th:only-of-type {\n        vertical-align: middle;\n    }\n\n    .dataframe tbody tr th {\n        vertical-align: top;\n    }\n\n    .dataframe thead th {\n        text-align: right;\n    }\n</style>\n<table border=\"1\" class=\"dataframe\">\n  <thead>\n    <tr style=\"text-align: right;\">\n      <th></th>\n      <th>tw_compound</th>\n      <th>tw_compound2</th>\n      <th>tw_polarity</th>\n      <th>tw_polarity2</th>\n      <th>tweet_volume</th>\n    </tr>\n    <tr>\n      <th>Months</th>\n      <th></th>\n      <th></th>\n      <th></th>\n      <th></th>\n      <th></th>\n    </tr>\n  </thead>\n  <tbody>\n    <tr>\n      <th>1</th>\n      <td>0.509073</td>\n      <td>0.423875</td>\n      <td>0.433498</td>\n      <td>0.327261</td>\n      <td>-0.273618</td>\n    </tr>\n    <tr>\n      <th>2</th>\n      <td>0.391982</td>\n      <td>0.392127</td>\n      <td>0.352550</td>\n      <td>0.274601</td>\n      <td>-0.109117</td>\n    </tr>\n    <tr>\n      <th>3</th>\n      <td>0.380995</td>\n      <td>0.425561</td>\n      <td>0.318115</td>\n      <td>0.305445</td>\n      <td>-0.001918</td>\n    </tr>\n    <tr>\n      <th>4</th>\n      <td>0.349553</td>\n      <td>0.348591</td>\n      <td>0.282191</td>\n      <td>0.237575</td>\n      <td>0.002924</td>\n    </tr>\n    <tr>\n      <th>5</th>\n      <td>0.344118</td>\n      <td>0.295977</td>\n      <td>0.233530</td>\n      <td>0.165772</td>\n      <td>-0.046862</td>\n    </tr>\n    <tr>\n      <th>6</th>\n      <td>0.415721</td>\n      <td>0.412561</td>\n      <td>0.294309</td>\n      <td>0.275052</td>\n      <td>-0.116213</td>\n    </tr>\n  </tbody>\n</table>\n</div>"
     },
     "execution_count": 24,
     "metadata": {},
     "output_type": "execute_result"
    }
   ],
   "source": [
    "results_frame.set_index('Months',inplace=True)\n",
    "results_frame"
   ],
   "metadata": {
    "collapsed": false,
    "pycharm": {
     "name": "#%%\n"
    }
   }
  },
  {
   "cell_type": "code",
   "execution_count": 25,
   "outputs": [
    {
     "data": {
      "application/vnd.plotly.v1+json": {
       "data": [
        {
         "alignmentgroup": "True",
         "hovertemplate": "variable=tw_compound<br>Months=%{x}<br>value=%{y}<extra></extra>",
         "legendgroup": "tw_compound",
         "marker": {
          "color": "#636efa",
          "pattern": {
           "shape": ""
          }
         },
         "name": "tw_compound",
         "offsetgroup": "tw_compound",
         "orientation": "v",
         "showlegend": true,
         "textposition": "auto",
         "x": [
          1,
          2,
          3,
          4,
          5,
          6
         ],
         "xaxis": "x",
         "y": [
          0.5090730923853928,
          0.3919816446064303,
          0.38099484693765207,
          0.3495528765166986,
          0.34411812836264244,
          0.41572094132027
         ],
         "yaxis": "y",
         "type": "bar"
        },
        {
         "alignmentgroup": "True",
         "hovertemplate": "variable=tw_compound2<br>Months=%{x}<br>value=%{y}<extra></extra>",
         "legendgroup": "tw_compound2",
         "marker": {
          "color": "#EF553B",
          "pattern": {
           "shape": ""
          }
         },
         "name": "tw_compound2",
         "offsetgroup": "tw_compound2",
         "orientation": "v",
         "showlegend": true,
         "textposition": "auto",
         "x": [
          1,
          2,
          3,
          4,
          5,
          6
         ],
         "xaxis": "x",
         "y": [
          0.42387539965388793,
          0.392127205540465,
          0.42556147069647526,
          0.3485908861641101,
          0.29597748714017613,
          0.4125614973467992
         ],
         "yaxis": "y",
         "type": "bar"
        },
        {
         "alignmentgroup": "True",
         "hovertemplate": "variable=tw_polarity<br>Months=%{x}<br>value=%{y}<extra></extra>",
         "legendgroup": "tw_polarity",
         "marker": {
          "color": "#00cc96",
          "pattern": {
           "shape": ""
          }
         },
         "name": "tw_polarity",
         "offsetgroup": "tw_polarity",
         "orientation": "v",
         "showlegend": true,
         "textposition": "auto",
         "x": [
          1,
          2,
          3,
          4,
          5,
          6
         ],
         "xaxis": "x",
         "y": [
          0.4334979140921671,
          0.35255026056828964,
          0.31811475284307467,
          0.2821910761232777,
          0.23352992969779543,
          0.29430932415814104
         ],
         "yaxis": "y",
         "type": "bar"
        },
        {
         "alignmentgroup": "True",
         "hovertemplate": "variable=tw_polarity2<br>Months=%{x}<br>value=%{y}<extra></extra>",
         "legendgroup": "tw_polarity2",
         "marker": {
          "color": "#ab63fa",
          "pattern": {
           "shape": ""
          }
         },
         "name": "tw_polarity2",
         "offsetgroup": "tw_polarity2",
         "orientation": "v",
         "showlegend": true,
         "textposition": "auto",
         "x": [
          1,
          2,
          3,
          4,
          5,
          6
         ],
         "xaxis": "x",
         "y": [
          0.32726068683524123,
          0.2746007300263787,
          0.3054448165231059,
          0.23757484230918888,
          0.16577187772183755,
          0.27505159191044903
         ],
         "yaxis": "y",
         "type": "bar"
        },
        {
         "alignmentgroup": "True",
         "hovertemplate": "variable=tweet_volume<br>Months=%{x}<br>value=%{y}<extra></extra>",
         "legendgroup": "tweet_volume",
         "marker": {
          "color": "#FFA15A",
          "pattern": {
           "shape": ""
          }
         },
         "name": "tweet_volume",
         "offsetgroup": "tweet_volume",
         "orientation": "v",
         "showlegend": true,
         "textposition": "auto",
         "x": [
          1,
          2,
          3,
          4,
          5,
          6
         ],
         "xaxis": "x",
         "y": [
          -0.27361848071684897,
          -0.10911722168655383,
          -0.0019179533880455488,
          0.0029242590584997764,
          -0.046862399690249766,
          -0.11621345921629495
         ],
         "yaxis": "y",
         "type": "bar"
        }
       ],
       "layout": {
        "template": {
         "data": {
          "histogram2dcontour": [
           {
            "type": "histogram2dcontour",
            "colorbar": {
             "outlinewidth": 0,
             "ticks": ""
            },
            "colorscale": [
             [
              0.0,
              "#0d0887"
             ],
             [
              0.1111111111111111,
              "#46039f"
             ],
             [
              0.2222222222222222,
              "#7201a8"
             ],
             [
              0.3333333333333333,
              "#9c179e"
             ],
             [
              0.4444444444444444,
              "#bd3786"
             ],
             [
              0.5555555555555556,
              "#d8576b"
             ],
             [
              0.6666666666666666,
              "#ed7953"
             ],
             [
              0.7777777777777778,
              "#fb9f3a"
             ],
             [
              0.8888888888888888,
              "#fdca26"
             ],
             [
              1.0,
              "#f0f921"
             ]
            ]
           }
          ],
          "choropleth": [
           {
            "type": "choropleth",
            "colorbar": {
             "outlinewidth": 0,
             "ticks": ""
            }
           }
          ],
          "histogram2d": [
           {
            "type": "histogram2d",
            "colorbar": {
             "outlinewidth": 0,
             "ticks": ""
            },
            "colorscale": [
             [
              0.0,
              "#0d0887"
             ],
             [
              0.1111111111111111,
              "#46039f"
             ],
             [
              0.2222222222222222,
              "#7201a8"
             ],
             [
              0.3333333333333333,
              "#9c179e"
             ],
             [
              0.4444444444444444,
              "#bd3786"
             ],
             [
              0.5555555555555556,
              "#d8576b"
             ],
             [
              0.6666666666666666,
              "#ed7953"
             ],
             [
              0.7777777777777778,
              "#fb9f3a"
             ],
             [
              0.8888888888888888,
              "#fdca26"
             ],
             [
              1.0,
              "#f0f921"
             ]
            ]
           }
          ],
          "heatmap": [
           {
            "type": "heatmap",
            "colorbar": {
             "outlinewidth": 0,
             "ticks": ""
            },
            "colorscale": [
             [
              0.0,
              "#0d0887"
             ],
             [
              0.1111111111111111,
              "#46039f"
             ],
             [
              0.2222222222222222,
              "#7201a8"
             ],
             [
              0.3333333333333333,
              "#9c179e"
             ],
             [
              0.4444444444444444,
              "#bd3786"
             ],
             [
              0.5555555555555556,
              "#d8576b"
             ],
             [
              0.6666666666666666,
              "#ed7953"
             ],
             [
              0.7777777777777778,
              "#fb9f3a"
             ],
             [
              0.8888888888888888,
              "#fdca26"
             ],
             [
              1.0,
              "#f0f921"
             ]
            ]
           }
          ],
          "heatmapgl": [
           {
            "type": "heatmapgl",
            "colorbar": {
             "outlinewidth": 0,
             "ticks": ""
            },
            "colorscale": [
             [
              0.0,
              "#0d0887"
             ],
             [
              0.1111111111111111,
              "#46039f"
             ],
             [
              0.2222222222222222,
              "#7201a8"
             ],
             [
              0.3333333333333333,
              "#9c179e"
             ],
             [
              0.4444444444444444,
              "#bd3786"
             ],
             [
              0.5555555555555556,
              "#d8576b"
             ],
             [
              0.6666666666666666,
              "#ed7953"
             ],
             [
              0.7777777777777778,
              "#fb9f3a"
             ],
             [
              0.8888888888888888,
              "#fdca26"
             ],
             [
              1.0,
              "#f0f921"
             ]
            ]
           }
          ],
          "contourcarpet": [
           {
            "type": "contourcarpet",
            "colorbar": {
             "outlinewidth": 0,
             "ticks": ""
            }
           }
          ],
          "contour": [
           {
            "type": "contour",
            "colorbar": {
             "outlinewidth": 0,
             "ticks": ""
            },
            "colorscale": [
             [
              0.0,
              "#0d0887"
             ],
             [
              0.1111111111111111,
              "#46039f"
             ],
             [
              0.2222222222222222,
              "#7201a8"
             ],
             [
              0.3333333333333333,
              "#9c179e"
             ],
             [
              0.4444444444444444,
              "#bd3786"
             ],
             [
              0.5555555555555556,
              "#d8576b"
             ],
             [
              0.6666666666666666,
              "#ed7953"
             ],
             [
              0.7777777777777778,
              "#fb9f3a"
             ],
             [
              0.8888888888888888,
              "#fdca26"
             ],
             [
              1.0,
              "#f0f921"
             ]
            ]
           }
          ],
          "surface": [
           {
            "type": "surface",
            "colorbar": {
             "outlinewidth": 0,
             "ticks": ""
            },
            "colorscale": [
             [
              0.0,
              "#0d0887"
             ],
             [
              0.1111111111111111,
              "#46039f"
             ],
             [
              0.2222222222222222,
              "#7201a8"
             ],
             [
              0.3333333333333333,
              "#9c179e"
             ],
             [
              0.4444444444444444,
              "#bd3786"
             ],
             [
              0.5555555555555556,
              "#d8576b"
             ],
             [
              0.6666666666666666,
              "#ed7953"
             ],
             [
              0.7777777777777778,
              "#fb9f3a"
             ],
             [
              0.8888888888888888,
              "#fdca26"
             ],
             [
              1.0,
              "#f0f921"
             ]
            ]
           }
          ],
          "mesh3d": [
           {
            "type": "mesh3d",
            "colorbar": {
             "outlinewidth": 0,
             "ticks": ""
            }
           }
          ],
          "scatter": [
           {
            "fillpattern": {
             "fillmode": "overlay",
             "size": 10,
             "solidity": 0.2
            },
            "type": "scatter"
           }
          ],
          "parcoords": [
           {
            "type": "parcoords",
            "line": {
             "colorbar": {
              "outlinewidth": 0,
              "ticks": ""
             }
            }
           }
          ],
          "scatterpolargl": [
           {
            "type": "scatterpolargl",
            "marker": {
             "colorbar": {
              "outlinewidth": 0,
              "ticks": ""
             }
            }
           }
          ],
          "bar": [
           {
            "error_x": {
             "color": "#2a3f5f"
            },
            "error_y": {
             "color": "#2a3f5f"
            },
            "marker": {
             "line": {
              "color": "#E5ECF6",
              "width": 0.5
             },
             "pattern": {
              "fillmode": "overlay",
              "size": 10,
              "solidity": 0.2
             }
            },
            "type": "bar"
           }
          ],
          "scattergeo": [
           {
            "type": "scattergeo",
            "marker": {
             "colorbar": {
              "outlinewidth": 0,
              "ticks": ""
             }
            }
           }
          ],
          "scatterpolar": [
           {
            "type": "scatterpolar",
            "marker": {
             "colorbar": {
              "outlinewidth": 0,
              "ticks": ""
             }
            }
           }
          ],
          "histogram": [
           {
            "marker": {
             "pattern": {
              "fillmode": "overlay",
              "size": 10,
              "solidity": 0.2
             }
            },
            "type": "histogram"
           }
          ],
          "scattergl": [
           {
            "type": "scattergl",
            "marker": {
             "colorbar": {
              "outlinewidth": 0,
              "ticks": ""
             }
            }
           }
          ],
          "scatter3d": [
           {
            "type": "scatter3d",
            "line": {
             "colorbar": {
              "outlinewidth": 0,
              "ticks": ""
             }
            },
            "marker": {
             "colorbar": {
              "outlinewidth": 0,
              "ticks": ""
             }
            }
           }
          ],
          "scattermapbox": [
           {
            "type": "scattermapbox",
            "marker": {
             "colorbar": {
              "outlinewidth": 0,
              "ticks": ""
             }
            }
           }
          ],
          "scatterternary": [
           {
            "type": "scatterternary",
            "marker": {
             "colorbar": {
              "outlinewidth": 0,
              "ticks": ""
             }
            }
           }
          ],
          "scattercarpet": [
           {
            "type": "scattercarpet",
            "marker": {
             "colorbar": {
              "outlinewidth": 0,
              "ticks": ""
             }
            }
           }
          ],
          "carpet": [
           {
            "aaxis": {
             "endlinecolor": "#2a3f5f",
             "gridcolor": "white",
             "linecolor": "white",
             "minorgridcolor": "white",
             "startlinecolor": "#2a3f5f"
            },
            "baxis": {
             "endlinecolor": "#2a3f5f",
             "gridcolor": "white",
             "linecolor": "white",
             "minorgridcolor": "white",
             "startlinecolor": "#2a3f5f"
            },
            "type": "carpet"
           }
          ],
          "table": [
           {
            "cells": {
             "fill": {
              "color": "#EBF0F8"
             },
             "line": {
              "color": "white"
             }
            },
            "header": {
             "fill": {
              "color": "#C8D4E3"
             },
             "line": {
              "color": "white"
             }
            },
            "type": "table"
           }
          ],
          "barpolar": [
           {
            "marker": {
             "line": {
              "color": "#E5ECF6",
              "width": 0.5
             },
             "pattern": {
              "fillmode": "overlay",
              "size": 10,
              "solidity": 0.2
             }
            },
            "type": "barpolar"
           }
          ],
          "pie": [
           {
            "automargin": true,
            "type": "pie"
           }
          ]
         },
         "layout": {
          "autotypenumbers": "strict",
          "colorway": [
           "#636efa",
           "#EF553B",
           "#00cc96",
           "#ab63fa",
           "#FFA15A",
           "#19d3f3",
           "#FF6692",
           "#B6E880",
           "#FF97FF",
           "#FECB52"
          ],
          "font": {
           "color": "#2a3f5f"
          },
          "hovermode": "closest",
          "hoverlabel": {
           "align": "left"
          },
          "paper_bgcolor": "white",
          "plot_bgcolor": "#E5ECF6",
          "polar": {
           "bgcolor": "#E5ECF6",
           "angularaxis": {
            "gridcolor": "white",
            "linecolor": "white",
            "ticks": ""
           },
           "radialaxis": {
            "gridcolor": "white",
            "linecolor": "white",
            "ticks": ""
           }
          },
          "ternary": {
           "bgcolor": "#E5ECF6",
           "aaxis": {
            "gridcolor": "white",
            "linecolor": "white",
            "ticks": ""
           },
           "baxis": {
            "gridcolor": "white",
            "linecolor": "white",
            "ticks": ""
           },
           "caxis": {
            "gridcolor": "white",
            "linecolor": "white",
            "ticks": ""
           }
          },
          "coloraxis": {
           "colorbar": {
            "outlinewidth": 0,
            "ticks": ""
           }
          },
          "colorscale": {
           "sequential": [
            [
             0.0,
             "#0d0887"
            ],
            [
             0.1111111111111111,
             "#46039f"
            ],
            [
             0.2222222222222222,
             "#7201a8"
            ],
            [
             0.3333333333333333,
             "#9c179e"
            ],
            [
             0.4444444444444444,
             "#bd3786"
            ],
            [
             0.5555555555555556,
             "#d8576b"
            ],
            [
             0.6666666666666666,
             "#ed7953"
            ],
            [
             0.7777777777777778,
             "#fb9f3a"
            ],
            [
             0.8888888888888888,
             "#fdca26"
            ],
            [
             1.0,
             "#f0f921"
            ]
           ],
           "sequentialminus": [
            [
             0.0,
             "#0d0887"
            ],
            [
             0.1111111111111111,
             "#46039f"
            ],
            [
             0.2222222222222222,
             "#7201a8"
            ],
            [
             0.3333333333333333,
             "#9c179e"
            ],
            [
             0.4444444444444444,
             "#bd3786"
            ],
            [
             0.5555555555555556,
             "#d8576b"
            ],
            [
             0.6666666666666666,
             "#ed7953"
            ],
            [
             0.7777777777777778,
             "#fb9f3a"
            ],
            [
             0.8888888888888888,
             "#fdca26"
            ],
            [
             1.0,
             "#f0f921"
            ]
           ],
           "diverging": [
            [
             0,
             "#8e0152"
            ],
            [
             0.1,
             "#c51b7d"
            ],
            [
             0.2,
             "#de77ae"
            ],
            [
             0.3,
             "#f1b6da"
            ],
            [
             0.4,
             "#fde0ef"
            ],
            [
             0.5,
             "#f7f7f7"
            ],
            [
             0.6,
             "#e6f5d0"
            ],
            [
             0.7,
             "#b8e186"
            ],
            [
             0.8,
             "#7fbc41"
            ],
            [
             0.9,
             "#4d9221"
            ],
            [
             1,
             "#276419"
            ]
           ]
          },
          "xaxis": {
           "gridcolor": "white",
           "linecolor": "white",
           "ticks": "",
           "title": {
            "standoff": 15
           },
           "zerolinecolor": "white",
           "automargin": true,
           "zerolinewidth": 2
          },
          "yaxis": {
           "gridcolor": "white",
           "linecolor": "white",
           "ticks": "",
           "title": {
            "standoff": 15
           },
           "zerolinecolor": "white",
           "automargin": true,
           "zerolinewidth": 2
          },
          "scene": {
           "xaxis": {
            "backgroundcolor": "#E5ECF6",
            "gridcolor": "white",
            "linecolor": "white",
            "showbackground": true,
            "ticks": "",
            "zerolinecolor": "white",
            "gridwidth": 2
           },
           "yaxis": {
            "backgroundcolor": "#E5ECF6",
            "gridcolor": "white",
            "linecolor": "white",
            "showbackground": true,
            "ticks": "",
            "zerolinecolor": "white",
            "gridwidth": 2
           },
           "zaxis": {
            "backgroundcolor": "#E5ECF6",
            "gridcolor": "white",
            "linecolor": "white",
            "showbackground": true,
            "ticks": "",
            "zerolinecolor": "white",
            "gridwidth": 2
           }
          },
          "shapedefaults": {
           "line": {
            "color": "#2a3f5f"
           }
          },
          "annotationdefaults": {
           "arrowcolor": "#2a3f5f",
           "arrowhead": 0,
           "arrowwidth": 1
          },
          "geo": {
           "bgcolor": "white",
           "landcolor": "#E5ECF6",
           "subunitcolor": "white",
           "showland": true,
           "showlakes": true,
           "lakecolor": "white"
          },
          "title": {
           "x": 0.05
          },
          "mapbox": {
           "style": "light"
          }
         }
        },
        "xaxis": {
         "anchor": "y",
         "domain": [
          0.0,
          1.0
         ],
         "title": {
          "text": "Months"
         }
        },
        "yaxis": {
         "anchor": "x",
         "domain": [
          0.0,
          1.0
         ],
         "title": {
          "text": "Spearman Correlation"
         }
        },
        "legend": {
         "title": {
          "text": "variable"
         },
         "tracegroupgap": 0
        },
        "title": {
         "text": "The correlation between Tweets and Close Price"
        },
        "barmode": "group"
       },
       "config": {
        "plotlyServerURL": "https://plot.ly"
       }
      },
      "text/html": "<div>                            <div id=\"f85d0ef3-9c27-4ee8-877e-a027a5a658e2\" class=\"plotly-graph-div\" style=\"height:525px; width:100%;\"></div>            <script type=\"text/javascript\">                require([\"plotly\"], function(Plotly) {                    window.PLOTLYENV=window.PLOTLYENV || {};                                    if (document.getElementById(\"f85d0ef3-9c27-4ee8-877e-a027a5a658e2\")) {                    Plotly.newPlot(                        \"f85d0ef3-9c27-4ee8-877e-a027a5a658e2\",                        [{\"alignmentgroup\":\"True\",\"hovertemplate\":\"variable=tw_compound<br>Months=%{x}<br>value=%{y}<extra></extra>\",\"legendgroup\":\"tw_compound\",\"marker\":{\"color\":\"#636efa\",\"pattern\":{\"shape\":\"\"}},\"name\":\"tw_compound\",\"offsetgroup\":\"tw_compound\",\"orientation\":\"v\",\"showlegend\":true,\"textposition\":\"auto\",\"x\":[1,2,3,4,5,6],\"xaxis\":\"x\",\"y\":[0.5090730923853928,0.3919816446064303,0.38099484693765207,0.3495528765166986,0.34411812836264244,0.41572094132027],\"yaxis\":\"y\",\"type\":\"bar\"},{\"alignmentgroup\":\"True\",\"hovertemplate\":\"variable=tw_compound2<br>Months=%{x}<br>value=%{y}<extra></extra>\",\"legendgroup\":\"tw_compound2\",\"marker\":{\"color\":\"#EF553B\",\"pattern\":{\"shape\":\"\"}},\"name\":\"tw_compound2\",\"offsetgroup\":\"tw_compound2\",\"orientation\":\"v\",\"showlegend\":true,\"textposition\":\"auto\",\"x\":[1,2,3,4,5,6],\"xaxis\":\"x\",\"y\":[0.42387539965388793,0.392127205540465,0.42556147069647526,0.3485908861641101,0.29597748714017613,0.4125614973467992],\"yaxis\":\"y\",\"type\":\"bar\"},{\"alignmentgroup\":\"True\",\"hovertemplate\":\"variable=tw_polarity<br>Months=%{x}<br>value=%{y}<extra></extra>\",\"legendgroup\":\"tw_polarity\",\"marker\":{\"color\":\"#00cc96\",\"pattern\":{\"shape\":\"\"}},\"name\":\"tw_polarity\",\"offsetgroup\":\"tw_polarity\",\"orientation\":\"v\",\"showlegend\":true,\"textposition\":\"auto\",\"x\":[1,2,3,4,5,6],\"xaxis\":\"x\",\"y\":[0.4334979140921671,0.35255026056828964,0.31811475284307467,0.2821910761232777,0.23352992969779543,0.29430932415814104],\"yaxis\":\"y\",\"type\":\"bar\"},{\"alignmentgroup\":\"True\",\"hovertemplate\":\"variable=tw_polarity2<br>Months=%{x}<br>value=%{y}<extra></extra>\",\"legendgroup\":\"tw_polarity2\",\"marker\":{\"color\":\"#ab63fa\",\"pattern\":{\"shape\":\"\"}},\"name\":\"tw_polarity2\",\"offsetgroup\":\"tw_polarity2\",\"orientation\":\"v\",\"showlegend\":true,\"textposition\":\"auto\",\"x\":[1,2,3,4,5,6],\"xaxis\":\"x\",\"y\":[0.32726068683524123,0.2746007300263787,0.3054448165231059,0.23757484230918888,0.16577187772183755,0.27505159191044903],\"yaxis\":\"y\",\"type\":\"bar\"},{\"alignmentgroup\":\"True\",\"hovertemplate\":\"variable=tweet_volume<br>Months=%{x}<br>value=%{y}<extra></extra>\",\"legendgroup\":\"tweet_volume\",\"marker\":{\"color\":\"#FFA15A\",\"pattern\":{\"shape\":\"\"}},\"name\":\"tweet_volume\",\"offsetgroup\":\"tweet_volume\",\"orientation\":\"v\",\"showlegend\":true,\"textposition\":\"auto\",\"x\":[1,2,3,4,5,6],\"xaxis\":\"x\",\"y\":[-0.27361848071684897,-0.10911722168655383,-0.0019179533880455488,0.0029242590584997764,-0.046862399690249766,-0.11621345921629495],\"yaxis\":\"y\",\"type\":\"bar\"}],                        {\"template\":{\"data\":{\"histogram2dcontour\":[{\"type\":\"histogram2dcontour\",\"colorbar\":{\"outlinewidth\":0,\"ticks\":\"\"},\"colorscale\":[[0.0,\"#0d0887\"],[0.1111111111111111,\"#46039f\"],[0.2222222222222222,\"#7201a8\"],[0.3333333333333333,\"#9c179e\"],[0.4444444444444444,\"#bd3786\"],[0.5555555555555556,\"#d8576b\"],[0.6666666666666666,\"#ed7953\"],[0.7777777777777778,\"#fb9f3a\"],[0.8888888888888888,\"#fdca26\"],[1.0,\"#f0f921\"]]}],\"choropleth\":[{\"type\":\"choropleth\",\"colorbar\":{\"outlinewidth\":0,\"ticks\":\"\"}}],\"histogram2d\":[{\"type\":\"histogram2d\",\"colorbar\":{\"outlinewidth\":0,\"ticks\":\"\"},\"colorscale\":[[0.0,\"#0d0887\"],[0.1111111111111111,\"#46039f\"],[0.2222222222222222,\"#7201a8\"],[0.3333333333333333,\"#9c179e\"],[0.4444444444444444,\"#bd3786\"],[0.5555555555555556,\"#d8576b\"],[0.6666666666666666,\"#ed7953\"],[0.7777777777777778,\"#fb9f3a\"],[0.8888888888888888,\"#fdca26\"],[1.0,\"#f0f921\"]]}],\"heatmap\":[{\"type\":\"heatmap\",\"colorbar\":{\"outlinewidth\":0,\"ticks\":\"\"},\"colorscale\":[[0.0,\"#0d0887\"],[0.1111111111111111,\"#46039f\"],[0.2222222222222222,\"#7201a8\"],[0.3333333333333333,\"#9c179e\"],[0.4444444444444444,\"#bd3786\"],[0.5555555555555556,\"#d8576b\"],[0.6666666666666666,\"#ed7953\"],[0.7777777777777778,\"#fb9f3a\"],[0.8888888888888888,\"#fdca26\"],[1.0,\"#f0f921\"]]}],\"heatmapgl\":[{\"type\":\"heatmapgl\",\"colorbar\":{\"outlinewidth\":0,\"ticks\":\"\"},\"colorscale\":[[0.0,\"#0d0887\"],[0.1111111111111111,\"#46039f\"],[0.2222222222222222,\"#7201a8\"],[0.3333333333333333,\"#9c179e\"],[0.4444444444444444,\"#bd3786\"],[0.5555555555555556,\"#d8576b\"],[0.6666666666666666,\"#ed7953\"],[0.7777777777777778,\"#fb9f3a\"],[0.8888888888888888,\"#fdca26\"],[1.0,\"#f0f921\"]]}],\"contourcarpet\":[{\"type\":\"contourcarpet\",\"colorbar\":{\"outlinewidth\":0,\"ticks\":\"\"}}],\"contour\":[{\"type\":\"contour\",\"colorbar\":{\"outlinewidth\":0,\"ticks\":\"\"},\"colorscale\":[[0.0,\"#0d0887\"],[0.1111111111111111,\"#46039f\"],[0.2222222222222222,\"#7201a8\"],[0.3333333333333333,\"#9c179e\"],[0.4444444444444444,\"#bd3786\"],[0.5555555555555556,\"#d8576b\"],[0.6666666666666666,\"#ed7953\"],[0.7777777777777778,\"#fb9f3a\"],[0.8888888888888888,\"#fdca26\"],[1.0,\"#f0f921\"]]}],\"surface\":[{\"type\":\"surface\",\"colorbar\":{\"outlinewidth\":0,\"ticks\":\"\"},\"colorscale\":[[0.0,\"#0d0887\"],[0.1111111111111111,\"#46039f\"],[0.2222222222222222,\"#7201a8\"],[0.3333333333333333,\"#9c179e\"],[0.4444444444444444,\"#bd3786\"],[0.5555555555555556,\"#d8576b\"],[0.6666666666666666,\"#ed7953\"],[0.7777777777777778,\"#fb9f3a\"],[0.8888888888888888,\"#fdca26\"],[1.0,\"#f0f921\"]]}],\"mesh3d\":[{\"type\":\"mesh3d\",\"colorbar\":{\"outlinewidth\":0,\"ticks\":\"\"}}],\"scatter\":[{\"fillpattern\":{\"fillmode\":\"overlay\",\"size\":10,\"solidity\":0.2},\"type\":\"scatter\"}],\"parcoords\":[{\"type\":\"parcoords\",\"line\":{\"colorbar\":{\"outlinewidth\":0,\"ticks\":\"\"}}}],\"scatterpolargl\":[{\"type\":\"scatterpolargl\",\"marker\":{\"colorbar\":{\"outlinewidth\":0,\"ticks\":\"\"}}}],\"bar\":[{\"error_x\":{\"color\":\"#2a3f5f\"},\"error_y\":{\"color\":\"#2a3f5f\"},\"marker\":{\"line\":{\"color\":\"#E5ECF6\",\"width\":0.5},\"pattern\":{\"fillmode\":\"overlay\",\"size\":10,\"solidity\":0.2}},\"type\":\"bar\"}],\"scattergeo\":[{\"type\":\"scattergeo\",\"marker\":{\"colorbar\":{\"outlinewidth\":0,\"ticks\":\"\"}}}],\"scatterpolar\":[{\"type\":\"scatterpolar\",\"marker\":{\"colorbar\":{\"outlinewidth\":0,\"ticks\":\"\"}}}],\"histogram\":[{\"marker\":{\"pattern\":{\"fillmode\":\"overlay\",\"size\":10,\"solidity\":0.2}},\"type\":\"histogram\"}],\"scattergl\":[{\"type\":\"scattergl\",\"marker\":{\"colorbar\":{\"outlinewidth\":0,\"ticks\":\"\"}}}],\"scatter3d\":[{\"type\":\"scatter3d\",\"line\":{\"colorbar\":{\"outlinewidth\":0,\"ticks\":\"\"}},\"marker\":{\"colorbar\":{\"outlinewidth\":0,\"ticks\":\"\"}}}],\"scattermapbox\":[{\"type\":\"scattermapbox\",\"marker\":{\"colorbar\":{\"outlinewidth\":0,\"ticks\":\"\"}}}],\"scatterternary\":[{\"type\":\"scatterternary\",\"marker\":{\"colorbar\":{\"outlinewidth\":0,\"ticks\":\"\"}}}],\"scattercarpet\":[{\"type\":\"scattercarpet\",\"marker\":{\"colorbar\":{\"outlinewidth\":0,\"ticks\":\"\"}}}],\"carpet\":[{\"aaxis\":{\"endlinecolor\":\"#2a3f5f\",\"gridcolor\":\"white\",\"linecolor\":\"white\",\"minorgridcolor\":\"white\",\"startlinecolor\":\"#2a3f5f\"},\"baxis\":{\"endlinecolor\":\"#2a3f5f\",\"gridcolor\":\"white\",\"linecolor\":\"white\",\"minorgridcolor\":\"white\",\"startlinecolor\":\"#2a3f5f\"},\"type\":\"carpet\"}],\"table\":[{\"cells\":{\"fill\":{\"color\":\"#EBF0F8\"},\"line\":{\"color\":\"white\"}},\"header\":{\"fill\":{\"color\":\"#C8D4E3\"},\"line\":{\"color\":\"white\"}},\"type\":\"table\"}],\"barpolar\":[{\"marker\":{\"line\":{\"color\":\"#E5ECF6\",\"width\":0.5},\"pattern\":{\"fillmode\":\"overlay\",\"size\":10,\"solidity\":0.2}},\"type\":\"barpolar\"}],\"pie\":[{\"automargin\":true,\"type\":\"pie\"}]},\"layout\":{\"autotypenumbers\":\"strict\",\"colorway\":[\"#636efa\",\"#EF553B\",\"#00cc96\",\"#ab63fa\",\"#FFA15A\",\"#19d3f3\",\"#FF6692\",\"#B6E880\",\"#FF97FF\",\"#FECB52\"],\"font\":{\"color\":\"#2a3f5f\"},\"hovermode\":\"closest\",\"hoverlabel\":{\"align\":\"left\"},\"paper_bgcolor\":\"white\",\"plot_bgcolor\":\"#E5ECF6\",\"polar\":{\"bgcolor\":\"#E5ECF6\",\"angularaxis\":{\"gridcolor\":\"white\",\"linecolor\":\"white\",\"ticks\":\"\"},\"radialaxis\":{\"gridcolor\":\"white\",\"linecolor\":\"white\",\"ticks\":\"\"}},\"ternary\":{\"bgcolor\":\"#E5ECF6\",\"aaxis\":{\"gridcolor\":\"white\",\"linecolor\":\"white\",\"ticks\":\"\"},\"baxis\":{\"gridcolor\":\"white\",\"linecolor\":\"white\",\"ticks\":\"\"},\"caxis\":{\"gridcolor\":\"white\",\"linecolor\":\"white\",\"ticks\":\"\"}},\"coloraxis\":{\"colorbar\":{\"outlinewidth\":0,\"ticks\":\"\"}},\"colorscale\":{\"sequential\":[[0.0,\"#0d0887\"],[0.1111111111111111,\"#46039f\"],[0.2222222222222222,\"#7201a8\"],[0.3333333333333333,\"#9c179e\"],[0.4444444444444444,\"#bd3786\"],[0.5555555555555556,\"#d8576b\"],[0.6666666666666666,\"#ed7953\"],[0.7777777777777778,\"#fb9f3a\"],[0.8888888888888888,\"#fdca26\"],[1.0,\"#f0f921\"]],\"sequentialminus\":[[0.0,\"#0d0887\"],[0.1111111111111111,\"#46039f\"],[0.2222222222222222,\"#7201a8\"],[0.3333333333333333,\"#9c179e\"],[0.4444444444444444,\"#bd3786\"],[0.5555555555555556,\"#d8576b\"],[0.6666666666666666,\"#ed7953\"],[0.7777777777777778,\"#fb9f3a\"],[0.8888888888888888,\"#fdca26\"],[1.0,\"#f0f921\"]],\"diverging\":[[0,\"#8e0152\"],[0.1,\"#c51b7d\"],[0.2,\"#de77ae\"],[0.3,\"#f1b6da\"],[0.4,\"#fde0ef\"],[0.5,\"#f7f7f7\"],[0.6,\"#e6f5d0\"],[0.7,\"#b8e186\"],[0.8,\"#7fbc41\"],[0.9,\"#4d9221\"],[1,\"#276419\"]]},\"xaxis\":{\"gridcolor\":\"white\",\"linecolor\":\"white\",\"ticks\":\"\",\"title\":{\"standoff\":15},\"zerolinecolor\":\"white\",\"automargin\":true,\"zerolinewidth\":2},\"yaxis\":{\"gridcolor\":\"white\",\"linecolor\":\"white\",\"ticks\":\"\",\"title\":{\"standoff\":15},\"zerolinecolor\":\"white\",\"automargin\":true,\"zerolinewidth\":2},\"scene\":{\"xaxis\":{\"backgroundcolor\":\"#E5ECF6\",\"gridcolor\":\"white\",\"linecolor\":\"white\",\"showbackground\":true,\"ticks\":\"\",\"zerolinecolor\":\"white\",\"gridwidth\":2},\"yaxis\":{\"backgroundcolor\":\"#E5ECF6\",\"gridcolor\":\"white\",\"linecolor\":\"white\",\"showbackground\":true,\"ticks\":\"\",\"zerolinecolor\":\"white\",\"gridwidth\":2},\"zaxis\":{\"backgroundcolor\":\"#E5ECF6\",\"gridcolor\":\"white\",\"linecolor\":\"white\",\"showbackground\":true,\"ticks\":\"\",\"zerolinecolor\":\"white\",\"gridwidth\":2}},\"shapedefaults\":{\"line\":{\"color\":\"#2a3f5f\"}},\"annotationdefaults\":{\"arrowcolor\":\"#2a3f5f\",\"arrowhead\":0,\"arrowwidth\":1},\"geo\":{\"bgcolor\":\"white\",\"landcolor\":\"#E5ECF6\",\"subunitcolor\":\"white\",\"showland\":true,\"showlakes\":true,\"lakecolor\":\"white\"},\"title\":{\"x\":0.05},\"mapbox\":{\"style\":\"light\"}}},\"xaxis\":{\"anchor\":\"y\",\"domain\":[0.0,1.0],\"title\":{\"text\":\"Months\"}},\"yaxis\":{\"anchor\":\"x\",\"domain\":[0.0,1.0],\"title\":{\"text\":\"Spearman Correlation\"}},\"legend\":{\"title\":{\"text\":\"variable\"},\"tracegroupgap\":0},\"title\":{\"text\":\"The correlation between Tweets and Close Price\"},\"barmode\":\"group\"},                        {\"responsive\": true}                    ).then(function(){\n                            \nvar gd = document.getElementById('f85d0ef3-9c27-4ee8-877e-a027a5a658e2');\nvar x = new MutationObserver(function (mutations, observer) {{\n        var display = window.getComputedStyle(gd).display;\n        if (!display || display === 'none') {{\n            console.log([gd, 'removed!']);\n            Plotly.purge(gd);\n            observer.disconnect();\n        }}\n}});\n\n// Listen for the removal of the full notebook cells\nvar notebookContainer = gd.closest('#notebook-container');\nif (notebookContainer) {{\n    x.observe(notebookContainer, {childList: true});\n}}\n\n// Listen for the clearing of the current output cell\nvar outputEl = gd.closest('.output');\nif (outputEl) {{\n    x.observe(outputEl, {childList: true});\n}}\n\n                        })                };                });            </script>        </div>"
     },
     "metadata": {},
     "output_type": "display_data"
    }
   ],
   "source": [
    "# import plotly.graph_objects as go\n",
    "# fig = go.Figure()\n",
    "\n",
    "fig = px.bar(results_frame, x=results_frame.index, y=results_frame.columns, title='Tweets Correlation with Close Price')\n",
    "\n",
    "fig.update_layout(\n",
    "    title='The correlation between Tweets and Close Price',\n",
    "    xaxis_title='Months',\n",
    "    yaxis_title='Spearman Correlation',\n",
    "    barmode='group'\n",
    ")\n",
    "\n",
    "fig.show()"
   ],
   "metadata": {
    "collapsed": false,
    "pycharm": {
     "name": "#%%\n"
    }
   }
  },
  {
   "cell_type": "code",
   "execution_count": 40,
   "outputs": [
    {
     "name": "stderr",
     "output_type": "stream",
     "text": [
      "/var/folders/vp/8_rd4_c56g3dpqb1167z6tqr0000gn/T/ipykernel_9699/2736148052.py:4: SettingWithCopyWarning:\n",
      "\n",
      "\n",
      "A value is trying to be set on a copy of a slice from a DataFrame\n",
      "\n",
      "See the caveats in the documentation: https://pandas.pydata.org/pandas-docs/stable/user_guide/indexing.html#returning-a-view-versus-a-copy\n",
      "\n"
     ]
    }
   ],
   "source": [
    "month=1\n",
    "sub_data_1=close_data_1[(close_data_1.index.month>=1) & (close_data_1.index.month <=month)]\n",
    "sub_data_2=close_data_2[(close_data_2.index.month>=1) & (close_data_2.index.month <=month)]\n",
    "sub_data_2.rename(columns={'Close':'Close2','tw_compound':'tw_compound2','tw_polarity':'tw_polarity2','tweet_volume':'tweet_volume2'}, inplace=True)\n",
    "bitcoindata=pd.concat([sub_data_1,sub_data_2], axis=1)\n",
    "# keep the useful columns\n",
    "columns_keep=['Close','tw_compound','tw_polarity','tweet_volume']\n",
    "columns=list(bitcoindata.columns.values)\n",
    "for i in columns_keep:\n",
    "    columns.remove(i)\n",
    "\n",
    "bitcoin_new=bitcoindata.drop(columns=columns)"
   ],
   "metadata": {
    "collapsed": false,
    "pycharm": {
     "name": "#%%\n"
    }
   }
  },
  {
   "cell_type": "code",
   "execution_count": 43,
   "outputs": [],
   "source": [
    "import plotly.graph_objects as go\n",
    "from plotly.subplots import make_subplots\n",
    "from itertools import cycle\n",
    "def plot_chart(x,y1,y2,name1,name2,axes1,axes2):\n",
    "    # plot the data of the google trends and Bitcoin\n",
    "    fig = make_subplots(specs=[[{\"secondary_y\": True}]])\n",
    "    fig.add_trace(go.Scatter(x=x,\n",
    "                             y=y1,\n",
    "                             mode='lines',\n",
    "                             name=name1), secondary_y=False)\n",
    "    fig.add_trace(go.Scatter(x=x,\n",
    "                             y=y2,\n",
    "                             mode='lines',\n",
    "                             name=name2), secondary_y=True)\n",
    "    # Add axis titles\n",
    "    fig.update_layout(\n",
    "        title_text=\"Bitcoin and Tweets compound score\",\n",
    "        width=800,\n",
    "        height=600,\n",
    "    )\n",
    "\n",
    "    fig.update_xaxes(title_text=\"Datetime\")\n",
    "\n",
    "    # Set y-axes titles\n",
    "    fig.update_yaxes(title_text=axes1, secondary_y=False)\n",
    "    fig.update_yaxes(title_text=axes2, secondary_y=True)\n",
    "    fig.show()"
   ],
   "metadata": {
    "collapsed": false,
    "pycharm": {
     "name": "#%%\n"
    }
   }
  },
  {
   "cell_type": "code",
   "execution_count": 44,
   "outputs": [
    {
     "data": {
      "application/vnd.plotly.v1+json": {
       "data": [
        {
         "mode": "lines",
         "name": "Bitcoin Price",
         "x": [
          "2022-01-01T00:00:00",
          "2022-01-01T01:00:00",
          "2022-01-01T02:00:00",
          "2022-01-01T03:00:00",
          "2022-01-01T04:00:00",
          "2022-01-01T05:00:00",
          "2022-01-01T06:00:00",
          "2022-01-01T07:00:00",
          "2022-01-01T08:00:00",
          "2022-01-01T09:00:00",
          "2022-01-01T10:00:00",
          "2022-01-01T11:00:00",
          "2022-01-01T12:00:00",
          "2022-01-01T13:00:00",
          "2022-01-01T14:00:00",
          "2022-01-01T15:00:00",
          "2022-01-01T16:00:00",
          "2022-01-01T17:00:00",
          "2022-01-01T18:00:00",
          "2022-01-01T19:00:00",
          "2022-01-01T20:00:00",
          "2022-01-01T21:00:00",
          "2022-01-01T22:00:00",
          "2022-01-01T23:00:00",
          "2022-01-02T00:00:00",
          "2022-01-02T01:00:00",
          "2022-01-02T02:00:00",
          "2022-01-02T03:00:00",
          "2022-01-02T04:00:00",
          "2022-01-02T05:00:00",
          "2022-01-02T06:00:00",
          "2022-01-02T07:00:00",
          "2022-01-02T08:00:00",
          "2022-01-02T09:00:00",
          "2022-01-02T10:00:00",
          "2022-01-02T11:00:00",
          "2022-01-02T12:00:00",
          "2022-01-02T13:00:00",
          "2022-01-02T14:00:00",
          "2022-01-02T15:00:00",
          "2022-01-02T16:00:00",
          "2022-01-02T17:00:00",
          "2022-01-02T18:00:00",
          "2022-01-02T19:00:00",
          "2022-01-02T20:00:00",
          "2022-01-02T21:00:00",
          "2022-01-02T22:00:00",
          "2022-01-02T23:00:00",
          "2022-01-03T00:00:00",
          "2022-01-03T01:00:00",
          "2022-01-03T02:00:00",
          "2022-01-03T03:00:00",
          "2022-01-03T04:00:00",
          "2022-01-03T05:00:00",
          "2022-01-03T06:00:00",
          "2022-01-03T07:00:00",
          "2022-01-03T08:00:00",
          "2022-01-03T09:00:00",
          "2022-01-03T10:00:00",
          "2022-01-03T11:00:00",
          "2022-01-03T12:00:00",
          "2022-01-03T13:00:00",
          "2022-01-03T14:00:00",
          "2022-01-03T15:00:00",
          "2022-01-03T16:00:00",
          "2022-01-03T17:00:00",
          "2022-01-03T18:00:00",
          "2022-01-03T19:00:00",
          "2022-01-03T20:00:00",
          "2022-01-03T21:00:00",
          "2022-01-03T22:00:00",
          "2022-01-03T23:00:00",
          "2022-01-04T00:00:00",
          "2022-01-04T01:00:00",
          "2022-01-04T02:00:00",
          "2022-01-04T03:00:00",
          "2022-01-04T04:00:00",
          "2022-01-04T05:00:00",
          "2022-01-04T06:00:00",
          "2022-01-04T07:00:00",
          "2022-01-04T08:00:00",
          "2022-01-04T09:00:00",
          "2022-01-04T10:00:00",
          "2022-01-04T11:00:00",
          "2022-01-04T12:00:00",
          "2022-01-04T13:00:00",
          "2022-01-04T14:00:00",
          "2022-01-04T15:00:00",
          "2022-01-04T16:00:00",
          "2022-01-04T17:00:00",
          "2022-01-04T18:00:00",
          "2022-01-04T19:00:00",
          "2022-01-04T20:00:00",
          "2022-01-04T21:00:00",
          "2022-01-04T22:00:00",
          "2022-01-04T23:00:00",
          "2022-01-05T00:00:00",
          "2022-01-05T01:00:00",
          "2022-01-05T02:00:00",
          "2022-01-05T03:00:00",
          "2022-01-05T04:00:00",
          "2022-01-05T05:00:00",
          "2022-01-05T06:00:00",
          "2022-01-05T07:00:00",
          "2022-01-05T08:00:00",
          "2022-01-05T09:00:00",
          "2022-01-05T10:00:00",
          "2022-01-05T11:00:00",
          "2022-01-05T12:00:00",
          "2022-01-05T13:00:00",
          "2022-01-05T14:00:00",
          "2022-01-05T15:00:00",
          "2022-01-05T16:00:00",
          "2022-01-05T17:00:00",
          "2022-01-05T18:00:00",
          "2022-01-05T19:00:00",
          "2022-01-05T20:00:00",
          "2022-01-05T21:00:00",
          "2022-01-05T22:00:00",
          "2022-01-05T23:00:00",
          "2022-01-06T00:00:00",
          "2022-01-06T01:00:00",
          "2022-01-06T02:00:00",
          "2022-01-06T03:00:00",
          "2022-01-06T04:00:00",
          "2022-01-06T05:00:00",
          "2022-01-06T06:00:00",
          "2022-01-06T07:00:00",
          "2022-01-06T08:00:00",
          "2022-01-06T09:00:00",
          "2022-01-06T10:00:00",
          "2022-01-06T11:00:00",
          "2022-01-06T12:00:00",
          "2022-01-06T13:00:00",
          "2022-01-06T14:00:00",
          "2022-01-06T15:00:00",
          "2022-01-06T16:00:00",
          "2022-01-06T17:00:00",
          "2022-01-06T18:00:00",
          "2022-01-06T19:00:00",
          "2022-01-06T20:00:00",
          "2022-01-06T21:00:00",
          "2022-01-06T22:00:00",
          "2022-01-06T23:00:00",
          "2022-01-07T00:00:00",
          "2022-01-07T01:00:00",
          "2022-01-07T02:00:00",
          "2022-01-07T03:00:00",
          "2022-01-07T04:00:00",
          "2022-01-07T05:00:00",
          "2022-01-07T06:00:00",
          "2022-01-07T07:00:00",
          "2022-01-07T08:00:00",
          "2022-01-07T09:00:00",
          "2022-01-07T10:00:00",
          "2022-01-07T11:00:00",
          "2022-01-07T12:00:00",
          "2022-01-07T13:00:00",
          "2022-01-07T14:00:00",
          "2022-01-07T15:00:00",
          "2022-01-07T16:00:00",
          "2022-01-07T17:00:00",
          "2022-01-07T18:00:00",
          "2022-01-07T19:00:00",
          "2022-01-07T20:00:00",
          "2022-01-07T21:00:00",
          "2022-01-07T22:00:00",
          "2022-01-07T23:00:00",
          "2022-01-08T00:00:00",
          "2022-01-08T01:00:00",
          "2022-01-08T02:00:00",
          "2022-01-08T03:00:00",
          "2022-01-08T04:00:00",
          "2022-01-08T05:00:00",
          "2022-01-08T06:00:00",
          "2022-01-08T07:00:00",
          "2022-01-08T08:00:00",
          "2022-01-08T09:00:00",
          "2022-01-08T10:00:00",
          "2022-01-08T11:00:00",
          "2022-01-08T12:00:00",
          "2022-01-08T13:00:00",
          "2022-01-08T14:00:00",
          "2022-01-08T15:00:00",
          "2022-01-08T16:00:00",
          "2022-01-08T17:00:00",
          "2022-01-08T18:00:00",
          "2022-01-08T19:00:00",
          "2022-01-08T20:00:00",
          "2022-01-08T21:00:00",
          "2022-01-08T22:00:00",
          "2022-01-08T23:00:00",
          "2022-01-09T00:00:00",
          "2022-01-09T01:00:00",
          "2022-01-09T02:00:00",
          "2022-01-09T03:00:00",
          "2022-01-09T04:00:00",
          "2022-01-09T05:00:00",
          "2022-01-09T06:00:00",
          "2022-01-09T07:00:00",
          "2022-01-09T08:00:00",
          "2022-01-09T09:00:00",
          "2022-01-09T10:00:00",
          "2022-01-09T11:00:00",
          "2022-01-09T12:00:00",
          "2022-01-09T13:00:00",
          "2022-01-09T14:00:00",
          "2022-01-09T15:00:00",
          "2022-01-09T16:00:00",
          "2022-01-09T17:00:00",
          "2022-01-09T18:00:00",
          "2022-01-09T19:00:00",
          "2022-01-09T20:00:00",
          "2022-01-09T21:00:00",
          "2022-01-09T22:00:00",
          "2022-01-09T23:00:00",
          "2022-01-10T00:00:00",
          "2022-01-10T01:00:00",
          "2022-01-10T02:00:00",
          "2022-01-10T03:00:00",
          "2022-01-10T04:00:00",
          "2022-01-10T05:00:00",
          "2022-01-10T06:00:00",
          "2022-01-10T07:00:00",
          "2022-01-10T08:00:00",
          "2022-01-10T09:00:00",
          "2022-01-10T10:00:00",
          "2022-01-10T11:00:00",
          "2022-01-10T12:00:00",
          "2022-01-10T13:00:00",
          "2022-01-10T14:00:00",
          "2022-01-10T15:00:00",
          "2022-01-10T16:00:00",
          "2022-01-10T17:00:00",
          "2022-01-10T18:00:00",
          "2022-01-10T19:00:00",
          "2022-01-10T20:00:00",
          "2022-01-10T21:00:00",
          "2022-01-10T22:00:00",
          "2022-01-10T23:00:00",
          "2022-01-11T00:00:00",
          "2022-01-11T01:00:00",
          "2022-01-11T02:00:00",
          "2022-01-11T03:00:00",
          "2022-01-11T04:00:00",
          "2022-01-11T05:00:00",
          "2022-01-11T06:00:00",
          "2022-01-11T07:00:00",
          "2022-01-11T08:00:00",
          "2022-01-11T09:00:00",
          "2022-01-11T10:00:00",
          "2022-01-11T11:00:00",
          "2022-01-11T12:00:00",
          "2022-01-11T13:00:00",
          "2022-01-11T14:00:00",
          "2022-01-11T15:00:00",
          "2022-01-11T16:00:00",
          "2022-01-11T17:00:00",
          "2022-01-11T18:00:00",
          "2022-01-11T19:00:00",
          "2022-01-11T20:00:00",
          "2022-01-11T21:00:00",
          "2022-01-11T22:00:00",
          "2022-01-11T23:00:00",
          "2022-01-12T00:00:00",
          "2022-01-12T01:00:00",
          "2022-01-12T02:00:00",
          "2022-01-12T03:00:00",
          "2022-01-12T04:00:00",
          "2022-01-12T05:00:00",
          "2022-01-12T06:00:00",
          "2022-01-12T07:00:00",
          "2022-01-12T08:00:00",
          "2022-01-12T09:00:00",
          "2022-01-12T10:00:00",
          "2022-01-12T11:00:00",
          "2022-01-12T12:00:00",
          "2022-01-12T13:00:00",
          "2022-01-12T14:00:00",
          "2022-01-12T15:00:00",
          "2022-01-12T16:00:00",
          "2022-01-12T17:00:00",
          "2022-01-12T18:00:00",
          "2022-01-12T19:00:00",
          "2022-01-12T20:00:00",
          "2022-01-12T21:00:00",
          "2022-01-12T22:00:00",
          "2022-01-12T23:00:00",
          "2022-01-13T00:00:00",
          "2022-01-13T01:00:00",
          "2022-01-13T02:00:00",
          "2022-01-13T03:00:00",
          "2022-01-13T04:00:00",
          "2022-01-13T05:00:00",
          "2022-01-13T06:00:00",
          "2022-01-13T07:00:00",
          "2022-01-13T08:00:00",
          "2022-01-13T09:00:00",
          "2022-01-13T10:00:00",
          "2022-01-13T11:00:00",
          "2022-01-13T12:00:00",
          "2022-01-13T13:00:00",
          "2022-01-13T14:00:00",
          "2022-01-13T15:00:00",
          "2022-01-13T16:00:00",
          "2022-01-13T17:00:00",
          "2022-01-13T18:00:00",
          "2022-01-13T19:00:00",
          "2022-01-13T20:00:00",
          "2022-01-13T21:00:00",
          "2022-01-13T22:00:00",
          "2022-01-13T23:00:00",
          "2022-01-14T00:00:00",
          "2022-01-14T01:00:00",
          "2022-01-14T02:00:00",
          "2022-01-14T03:00:00",
          "2022-01-14T04:00:00",
          "2022-01-14T05:00:00",
          "2022-01-14T06:00:00",
          "2022-01-14T07:00:00",
          "2022-01-14T08:00:00",
          "2022-01-14T09:00:00",
          "2022-01-14T10:00:00",
          "2022-01-14T11:00:00",
          "2022-01-14T12:00:00",
          "2022-01-14T13:00:00",
          "2022-01-14T14:00:00",
          "2022-01-14T15:00:00",
          "2022-01-14T16:00:00",
          "2022-01-14T17:00:00",
          "2022-01-14T18:00:00",
          "2022-01-14T19:00:00",
          "2022-01-14T20:00:00",
          "2022-01-14T21:00:00",
          "2022-01-14T22:00:00",
          "2022-01-14T23:00:00",
          "2022-01-15T00:00:00",
          "2022-01-15T01:00:00",
          "2022-01-15T02:00:00",
          "2022-01-15T03:00:00",
          "2022-01-15T04:00:00",
          "2022-01-15T05:00:00",
          "2022-01-15T06:00:00",
          "2022-01-15T07:00:00",
          "2022-01-15T08:00:00",
          "2022-01-15T09:00:00",
          "2022-01-15T10:00:00",
          "2022-01-15T11:00:00",
          "2022-01-15T12:00:00",
          "2022-01-15T13:00:00",
          "2022-01-15T14:00:00",
          "2022-01-15T15:00:00",
          "2022-01-15T16:00:00",
          "2022-01-15T17:00:00",
          "2022-01-15T18:00:00",
          "2022-01-15T19:00:00",
          "2022-01-15T20:00:00",
          "2022-01-15T21:00:00",
          "2022-01-15T22:00:00",
          "2022-01-15T23:00:00",
          "2022-01-16T00:00:00",
          "2022-01-16T01:00:00",
          "2022-01-16T02:00:00",
          "2022-01-16T03:00:00",
          "2022-01-16T04:00:00",
          "2022-01-16T05:00:00",
          "2022-01-16T06:00:00",
          "2022-01-16T07:00:00",
          "2022-01-16T08:00:00",
          "2022-01-16T09:00:00",
          "2022-01-16T10:00:00",
          "2022-01-16T11:00:00",
          "2022-01-16T12:00:00",
          "2022-01-16T13:00:00",
          "2022-01-16T14:00:00",
          "2022-01-16T15:00:00",
          "2022-01-16T16:00:00",
          "2022-01-16T17:00:00",
          "2022-01-16T18:00:00",
          "2022-01-16T19:00:00",
          "2022-01-16T20:00:00",
          "2022-01-16T21:00:00",
          "2022-01-16T22:00:00",
          "2022-01-16T23:00:00",
          "2022-01-17T00:00:00",
          "2022-01-17T01:00:00",
          "2022-01-17T02:00:00",
          "2022-01-17T03:00:00",
          "2022-01-17T04:00:00",
          "2022-01-17T05:00:00",
          "2022-01-17T06:00:00",
          "2022-01-17T07:00:00",
          "2022-01-17T08:00:00",
          "2022-01-17T09:00:00",
          "2022-01-17T10:00:00",
          "2022-01-17T11:00:00",
          "2022-01-17T12:00:00",
          "2022-01-17T13:00:00",
          "2022-01-17T14:00:00",
          "2022-01-17T15:00:00",
          "2022-01-17T16:00:00",
          "2022-01-17T17:00:00",
          "2022-01-17T18:00:00",
          "2022-01-17T19:00:00",
          "2022-01-17T20:00:00",
          "2022-01-17T21:00:00",
          "2022-01-17T22:00:00",
          "2022-01-17T23:00:00",
          "2022-01-18T00:00:00",
          "2022-01-18T01:00:00",
          "2022-01-18T02:00:00",
          "2022-01-18T03:00:00",
          "2022-01-18T04:00:00",
          "2022-01-18T05:00:00",
          "2022-01-18T06:00:00",
          "2022-01-18T07:00:00",
          "2022-01-18T08:00:00",
          "2022-01-18T09:00:00",
          "2022-01-18T10:00:00",
          "2022-01-18T11:00:00",
          "2022-01-18T12:00:00",
          "2022-01-18T13:00:00",
          "2022-01-18T14:00:00",
          "2022-01-18T15:00:00",
          "2022-01-18T16:00:00",
          "2022-01-18T17:00:00",
          "2022-01-18T18:00:00",
          "2022-01-18T19:00:00",
          "2022-01-18T20:00:00",
          "2022-01-18T21:00:00",
          "2022-01-18T22:00:00",
          "2022-01-18T23:00:00",
          "2022-01-19T00:00:00",
          "2022-01-19T01:00:00",
          "2022-01-19T02:00:00",
          "2022-01-19T03:00:00",
          "2022-01-19T04:00:00",
          "2022-01-19T05:00:00",
          "2022-01-19T06:00:00",
          "2022-01-19T07:00:00",
          "2022-01-19T08:00:00",
          "2022-01-19T09:00:00",
          "2022-01-19T10:00:00",
          "2022-01-19T11:00:00",
          "2022-01-19T12:00:00",
          "2022-01-19T13:00:00",
          "2022-01-19T14:00:00",
          "2022-01-19T15:00:00",
          "2022-01-19T16:00:00",
          "2022-01-19T17:00:00",
          "2022-01-19T18:00:00",
          "2022-01-19T19:00:00",
          "2022-01-19T20:00:00",
          "2022-01-19T21:00:00",
          "2022-01-19T22:00:00",
          "2022-01-19T23:00:00",
          "2022-01-20T00:00:00",
          "2022-01-20T01:00:00",
          "2022-01-20T02:00:00",
          "2022-01-20T03:00:00",
          "2022-01-20T04:00:00",
          "2022-01-20T05:00:00",
          "2022-01-20T06:00:00",
          "2022-01-20T07:00:00",
          "2022-01-20T08:00:00",
          "2022-01-20T09:00:00",
          "2022-01-20T10:00:00",
          "2022-01-20T11:00:00",
          "2022-01-20T12:00:00",
          "2022-01-20T13:00:00",
          "2022-01-20T14:00:00",
          "2022-01-20T15:00:00",
          "2022-01-20T16:00:00",
          "2022-01-20T17:00:00",
          "2022-01-20T18:00:00",
          "2022-01-20T19:00:00",
          "2022-01-20T20:00:00",
          "2022-01-20T21:00:00",
          "2022-01-20T22:00:00",
          "2022-01-20T23:00:00",
          "2022-01-21T00:00:00",
          "2022-01-21T01:00:00",
          "2022-01-21T02:00:00",
          "2022-01-21T03:00:00",
          "2022-01-21T04:00:00",
          "2022-01-21T05:00:00",
          "2022-01-21T06:00:00",
          "2022-01-21T07:00:00",
          "2022-01-21T08:00:00",
          "2022-01-21T09:00:00",
          "2022-01-21T10:00:00",
          "2022-01-21T11:00:00",
          "2022-01-21T12:00:00",
          "2022-01-21T13:00:00",
          "2022-01-21T14:00:00",
          "2022-01-21T15:00:00",
          "2022-01-21T16:00:00",
          "2022-01-21T17:00:00",
          "2022-01-21T18:00:00",
          "2022-01-21T19:00:00",
          "2022-01-21T20:00:00",
          "2022-01-21T21:00:00",
          "2022-01-21T22:00:00",
          "2022-01-21T23:00:00",
          "2022-01-22T00:00:00",
          "2022-01-22T01:00:00",
          "2022-01-22T02:00:00",
          "2022-01-22T03:00:00",
          "2022-01-22T04:00:00",
          "2022-01-22T05:00:00",
          "2022-01-22T06:00:00",
          "2022-01-22T07:00:00",
          "2022-01-22T08:00:00",
          "2022-01-22T09:00:00",
          "2022-01-22T10:00:00",
          "2022-01-22T11:00:00",
          "2022-01-22T12:00:00",
          "2022-01-22T13:00:00",
          "2022-01-22T14:00:00",
          "2022-01-22T15:00:00",
          "2022-01-22T16:00:00",
          "2022-01-22T17:00:00",
          "2022-01-22T18:00:00",
          "2022-01-22T19:00:00",
          "2022-01-22T20:00:00",
          "2022-01-22T21:00:00",
          "2022-01-22T22:00:00",
          "2022-01-22T23:00:00",
          "2022-01-23T00:00:00",
          "2022-01-23T01:00:00",
          "2022-01-23T02:00:00",
          "2022-01-23T03:00:00",
          "2022-01-23T04:00:00",
          "2022-01-23T05:00:00",
          "2022-01-23T06:00:00",
          "2022-01-23T07:00:00",
          "2022-01-23T08:00:00",
          "2022-01-23T09:00:00",
          "2022-01-23T10:00:00",
          "2022-01-23T11:00:00",
          "2022-01-23T12:00:00",
          "2022-01-23T13:00:00",
          "2022-01-23T14:00:00",
          "2022-01-23T15:00:00",
          "2022-01-23T16:00:00",
          "2022-01-23T17:00:00",
          "2022-01-23T18:00:00",
          "2022-01-23T19:00:00",
          "2022-01-23T20:00:00",
          "2022-01-23T21:00:00",
          "2022-01-23T22:00:00",
          "2022-01-23T23:00:00",
          "2022-01-24T00:00:00",
          "2022-01-24T01:00:00",
          "2022-01-24T02:00:00",
          "2022-01-24T03:00:00",
          "2022-01-24T04:00:00",
          "2022-01-24T05:00:00",
          "2022-01-24T06:00:00",
          "2022-01-24T07:00:00",
          "2022-01-24T08:00:00",
          "2022-01-24T09:00:00",
          "2022-01-24T10:00:00",
          "2022-01-24T11:00:00",
          "2022-01-24T12:00:00",
          "2022-01-24T13:00:00",
          "2022-01-24T14:00:00",
          "2022-01-24T15:00:00",
          "2022-01-24T16:00:00",
          "2022-01-24T17:00:00",
          "2022-01-24T18:00:00",
          "2022-01-24T19:00:00",
          "2022-01-24T20:00:00",
          "2022-01-24T21:00:00",
          "2022-01-24T22:00:00",
          "2022-01-24T23:00:00",
          "2022-01-25T00:00:00",
          "2022-01-25T01:00:00",
          "2022-01-25T02:00:00",
          "2022-01-25T03:00:00",
          "2022-01-25T04:00:00",
          "2022-01-25T05:00:00",
          "2022-01-25T06:00:00",
          "2022-01-25T07:00:00",
          "2022-01-25T08:00:00",
          "2022-01-25T09:00:00",
          "2022-01-25T10:00:00",
          "2022-01-25T11:00:00",
          "2022-01-25T12:00:00",
          "2022-01-25T13:00:00",
          "2022-01-25T14:00:00",
          "2022-01-25T15:00:00",
          "2022-01-25T16:00:00",
          "2022-01-25T17:00:00",
          "2022-01-25T18:00:00",
          "2022-01-25T19:00:00",
          "2022-01-25T20:00:00",
          "2022-01-25T21:00:00",
          "2022-01-25T22:00:00",
          "2022-01-25T23:00:00",
          "2022-01-26T00:00:00",
          "2022-01-26T01:00:00",
          "2022-01-26T02:00:00",
          "2022-01-26T03:00:00",
          "2022-01-26T04:00:00",
          "2022-01-26T05:00:00",
          "2022-01-26T06:00:00",
          "2022-01-26T07:00:00",
          "2022-01-26T08:00:00",
          "2022-01-26T09:00:00",
          "2022-01-26T10:00:00",
          "2022-01-26T11:00:00",
          "2022-01-26T12:00:00",
          "2022-01-26T13:00:00",
          "2022-01-26T14:00:00",
          "2022-01-26T15:00:00",
          "2022-01-26T16:00:00",
          "2022-01-26T17:00:00",
          "2022-01-26T18:00:00",
          "2022-01-26T19:00:00",
          "2022-01-26T20:00:00",
          "2022-01-26T21:00:00",
          "2022-01-26T22:00:00",
          "2022-01-26T23:00:00",
          "2022-01-27T00:00:00",
          "2022-01-27T01:00:00",
          "2022-01-27T02:00:00",
          "2022-01-27T03:00:00",
          "2022-01-27T04:00:00",
          "2022-01-27T05:00:00",
          "2022-01-27T06:00:00",
          "2022-01-27T07:00:00",
          "2022-01-27T08:00:00",
          "2022-01-27T09:00:00",
          "2022-01-27T10:00:00",
          "2022-01-27T11:00:00",
          "2022-01-27T12:00:00",
          "2022-01-27T13:00:00",
          "2022-01-27T14:00:00",
          "2022-01-27T15:00:00",
          "2022-01-27T16:00:00",
          "2022-01-27T17:00:00",
          "2022-01-27T18:00:00",
          "2022-01-27T19:00:00",
          "2022-01-27T20:00:00",
          "2022-01-27T21:00:00",
          "2022-01-27T22:00:00",
          "2022-01-27T23:00:00",
          "2022-01-28T00:00:00",
          "2022-01-28T01:00:00",
          "2022-01-28T02:00:00",
          "2022-01-28T03:00:00",
          "2022-01-28T04:00:00",
          "2022-01-28T05:00:00",
          "2022-01-28T06:00:00",
          "2022-01-28T07:00:00",
          "2022-01-28T08:00:00",
          "2022-01-28T09:00:00",
          "2022-01-28T10:00:00",
          "2022-01-28T11:00:00",
          "2022-01-28T12:00:00",
          "2022-01-28T13:00:00",
          "2022-01-28T14:00:00",
          "2022-01-28T15:00:00",
          "2022-01-28T16:00:00",
          "2022-01-28T17:00:00",
          "2022-01-28T18:00:00",
          "2022-01-28T19:00:00",
          "2022-01-28T20:00:00",
          "2022-01-28T21:00:00",
          "2022-01-28T22:00:00",
          "2022-01-28T23:00:00",
          "2022-01-29T00:00:00",
          "2022-01-29T01:00:00",
          "2022-01-29T02:00:00",
          "2022-01-29T03:00:00",
          "2022-01-29T04:00:00",
          "2022-01-29T05:00:00",
          "2022-01-29T06:00:00",
          "2022-01-29T07:00:00",
          "2022-01-29T08:00:00",
          "2022-01-29T09:00:00",
          "2022-01-29T10:00:00",
          "2022-01-29T11:00:00",
          "2022-01-29T12:00:00",
          "2022-01-29T13:00:00",
          "2022-01-29T14:00:00",
          "2022-01-29T15:00:00",
          "2022-01-29T16:00:00",
          "2022-01-29T17:00:00",
          "2022-01-29T18:00:00",
          "2022-01-29T19:00:00",
          "2022-01-29T20:00:00",
          "2022-01-29T21:00:00",
          "2022-01-29T22:00:00",
          "2022-01-29T23:00:00",
          "2022-01-30T00:00:00",
          "2022-01-30T01:00:00",
          "2022-01-30T02:00:00",
          "2022-01-30T03:00:00",
          "2022-01-30T04:00:00",
          "2022-01-30T05:00:00",
          "2022-01-30T06:00:00",
          "2022-01-30T07:00:00",
          "2022-01-30T08:00:00",
          "2022-01-30T09:00:00",
          "2022-01-30T10:00:00",
          "2022-01-30T11:00:00",
          "2022-01-30T12:00:00",
          "2022-01-30T13:00:00",
          "2022-01-30T14:00:00",
          "2022-01-30T15:00:00",
          "2022-01-30T16:00:00",
          "2022-01-30T17:00:00",
          "2022-01-30T18:00:00",
          "2022-01-30T19:00:00",
          "2022-01-30T20:00:00",
          "2022-01-30T21:00:00",
          "2022-01-30T22:00:00",
          "2022-01-30T23:00:00",
          "2022-01-31T00:00:00",
          "2022-01-31T01:00:00",
          "2022-01-31T02:00:00",
          "2022-01-31T03:00:00",
          "2022-01-31T04:00:00",
          "2022-01-31T05:00:00",
          "2022-01-31T06:00:00",
          "2022-01-31T07:00:00",
          "2022-01-31T08:00:00",
          "2022-01-31T09:00:00",
          "2022-01-31T10:00:00",
          "2022-01-31T11:00:00",
          "2022-01-31T12:00:00",
          "2022-01-31T13:00:00",
          "2022-01-31T14:00:00",
          "2022-01-31T15:00:00",
          "2022-01-31T16:00:00",
          "2022-01-31T17:00:00",
          "2022-01-31T18:00:00",
          "2022-01-31T19:00:00",
          "2022-01-31T20:00:00",
          "2022-01-31T21:00:00",
          "2022-01-31T22:00:00",
          "2022-01-31T23:00:00"
         ],
         "y": [
          46650.01,
          46766.78,
          46796.14,
          46789.56,
          46690.81,
          47184.18,
          46972.19,
          47186.83,
          47117.84,
          47137.37,
          46864.09,
          46755.01,
          47062.37,
          47005.55,
          46909.2,
          47194.78,
          47249.99,
          47733.16,
          47546.74,
          47326.98,
          47385.22,
          47322.2,
          47428.16,
          47704.35,
          47622.14,
          47381.21,
          47374.28,
          47330.75,
          46902.11,
          47077.7,
          47122.49,
          47171.04,
          47211.36,
          47263.18,
          47175.95,
          47231.3,
          47279.57,
          47133.07,
          47110.2,
          47329.68,
          47780.0,
          47402.3,
          47046.95,
          46908.29,
          47012.47,
          47023.47,
          47261.73,
          47280.0,
          47059.43,
          47117.42,
          47005.39,
          46802.86,
          46823.58,
          47083.37,
          46930.85,
          47041.11,
          46970.01,
          46979.01,
          47116.89,
          47364.11,
          47192.64,
          47157.33,
          46874.66,
          46689.99,
          46484.0,
          46564.54,
          46469.49,
          46364.55,
          45904.74,
          45974.5,
          46214.28,
          46445.81,
          46251.5,
          46065.39,
          46111.81,
          46313.95,
          46107.5,
          46151.49,
          46359.14,
          46521.68,
          46475.02,
          46355.2,
          46599.84,
          46709.98,
          46628.88,
          46933.15,
          47303.01,
          46925.28,
          46767.94,
          46564.0,
          45742.69,
          46058.09,
          46267.79,
          46230.6,
          46155.89,
          45833.42,
          46260.08,
          46112.1,
          46291.45,
          46409.76,
          46419.0,
          46302.72,
          46454.0,
          46399.33,
          46626.53,
          46850.75,
          46809.4,
          46271.93,
          46228.27,
          46429.36,
          46682.79,
          46611.46,
          46308.23,
          46007.99,
          45922.29,
          44673.22,
          43958.56,
          43604.0,
          43415.84,
          43421.69,
          43656.0,
          43525.91,
          43248.4,
          42817.38,
          43007.21,
          43038.12,
          43091.6,
          43222.22,
          43050.0,
          42591.58,
          42874.38,
          42865.15,
          43047.4,
          43123.15,
          42802.24,
          42947.79,
          42878.24,
          42994.68,
          43353.88,
          43409.03,
          43206.67,
          43105.1,
          43163.57,
          43080.01,
          42787.99,
          42988.26,
          42795.77,
          41789.97,
          41680.0,
          41835.97,
          41520.0,
          41691.61,
          42089.3,
          42409.0,
          42167.9,
          42249.99,
          42393.02,
          41471.53,
          41876.11,
          41297.41,
          42131.75,
          41978.79,
          41695.07,
          41764.32,
          41910.96,
          41862.38,
          41522.5,
          41553.86,
          41992.23,
          41880.01,
          41870.9,
          41796.03,
          41880.0,
          41954.47,
          41901.74,
          41902.21,
          41948.85,
          42138.03,
          41907.21,
          41918.02,
          41851.23,
          41884.04,
          41737.01,
          41600.72,
          41342.06,
          40846.58,
          40684.09,
          40837.51,
          40976.06,
          41775.18,
          41912.88,
          41688.05,
          41774.19,
          41800.81,
          42090.34,
          41835.6,
          42065.29,
          41762.99,
          41866.0,
          41784.63,
          41657.45,
          41503.75,
          41636.97,
          41854.25,
          41737.43,
          41467.75,
          41530.99,
          41611.09,
          42127.99,
          42084.96,
          41954.99,
          42678.95,
          42414.64,
          42290.28,
          42193.23,
          41851.22,
          41644.58,
          41790.01,
          41905.0,
          41946.05,
          42164.36,
          42006.0,
          41914.84,
          42034.99,
          41803.54,
          41788.54,
          41765.01,
          41564.26,
          40931.61,
          40753.0,
          40768.6,
          40973.56,
          41892.96,
          41167.99,
          41584.61,
          41280.45,
          41698.68,
          41696.66,
          41592.95,
          41801.55,
          41585.19,
          41913.72,
          42146.26,
          42251.59,
          42284.21,
          42096.61,
          42088.99,
          42191.79,
          41978.17,
          41967.92,
          41619.09,
          41800.95,
          41796.8,
          41691.83,
          41616.57,
          41716.42,
          42684.18,
          42523.15,
          42730.31,
          42938.55,
          42774.08,
          42643.77,
          42685.05,
          42700.68,
          42664.57,
          42617.4,
          42545.54,
          42592.92,
          42614.35,
          42688.49,
          42661.99,
          42550.09,
          42594.19,
          42778.0,
          42739.14,
          42906.98,
          43245.67,
          43881.76,
          43819.68,
          43549.99,
          43593.0,
          43814.93,
          43570.0,
          43707.2,
          43794.87,
          43756.14,
          43813.58,
          43880.72,
          43699.62,
          43540.96,
          43583.2,
          43501.19,
          43604.4,
          43645.7,
          43692.74,
          43682.7,
          43876.44,
          43855.47,
          43766.01,
          43592.1,
          43786.9,
          43891.64,
          44120.24,
          43170.0,
          43224.79,
          42800.0,
          42699.54,
          42690.02,
          42760.66,
          42780.0,
          42566.68,
          42534.32,
          42732.33,
          42576.16,
          42690.0,
          42611.77,
          42655.5,
          42864.34,
          42781.41,
          42635.62,
          42505.72,
          42535.65,
          42059.75,
          41983.12,
          42029.37,
          42140.37,
          42945.09,
          43082.57,
          43183.63,
          42904.07,
          43030.9,
          43055.09,
          43075.96,
          43268.35,
          43230.0,
          43042.4,
          43082.04,
          42965.85,
          43080.0,
          42918.27,
          42895.77,
          42965.67,
          43048.54,
          43073.99,
          42968.18,
          43042.65,
          43085.01,
          42995.23,
          42700.0,
          42889.22,
          43162.19,
          43370.01,
          43306.35,
          43348.2,
          43297.97,
          43496.85,
          43473.72,
          43281.73,
          43225.92,
          43070.51,
          43060.0,
          42979.6,
          42915.41,
          42966.51,
          43004.91,
          42941.14,
          43171.67,
          43173.02,
          43063.92,
          43064.22,
          42904.4,
          42960.0,
          42990.01,
          43097.88,
          43280.64,
          43207.81,
          43359.08,
          43059.54,
          43042.16,
          42817.01,
          43014.28,
          42937.0,
          43157.21,
          43060.66,
          42873.86,
          42879.99,
          42901.91,
          42635.91,
          42606.26,
          42649.7,
          42730.98,
          42639.51,
          42770.01,
          42825.25,
          42775.48,
          42656.61,
          42544.28,
          42631.58,
          42645.25,
          42467.49,
          42212.29,
          42108.49,
          42162.86,
          42221.15,
          42065.0,
          41710.21,
          42063.78,
          42176.34,
          42338.0,
          42238.63,
          42254.78,
          42027.18,
          42022.52,
          42084.88,
          42219.79,
          42040.0,
          41709.99,
          41885.84,
          41909.98,
          41842.4,
          41793.31,
          41640.32,
          41441.51,
          41574.09,
          41693.15,
          41480.65,
          41596.98,
          41680.93,
          41767.25,
          42348.55,
          42460.89,
          42337.58,
          42242.57,
          42409.54,
          42324.74,
          41690.59,
          41699.55,
          41751.99,
          41700.0,
          41271.21,
          41362.88,
          41553.2,
          41494.2,
          42023.15,
          42075.1,
          42171.24,
          42475.99,
          41971.31,
          41904.33,
          42150.0,
          42000.01,
          41864.47,
          41626.0,
          41704.26,
          41956.47,
          41657.89,
          41824.64,
          41756.21,
          41969.69,
          41915.36,
          41875.9,
          41878.84,
          41988.84,
          42039.99,
          41956.98,
          42038.6,
          42089.94,
          42117.31,
          42019.89,
          42368.81,
          42941.36,
          43275.74,
          43257.22,
          43020.35,
          42824.44,
          42909.99,
          42715.35,
          41319.68,
          41137.96,
          40661.69,
          40884.57,
          39750.69,
          39818.48,
          38447.91,
          38819.99,
          38888.95,
          38663.95,
          39106.42,
          39140.86,
          38942.78,
          38956.26,
          38878.71,
          38169.34,
          38484.39,
          38411.24,
          38831.88,
          38704.37,
          38369.69,
          38254.15,
          37967.04,
          38337.36,
          36634.29,
          36093.06,
          36425.98,
          36468.66,
          36475.49,
          36460.42,
          36319.99,
          36258.38,
          35728.06,
          35706.43,
          35374.14,
          35583.24,
          34804.48,
          35461.77,
          35385.59,
          35744.46,
          35572.97,
          35008.02,
          34829.93,
          35085.04,
          34590.01,
          34379.45,
          34506.47,
          35275.85,
          35364.01,
          34861.04,
          35043.73,
          35378.61,
          35296.61,
          34862.32,
          35032.09,
          35199.96,
          35429.32,
          35262.76,
          35553.2,
          35820.2,
          35860.35,
          35883.99,
          35671.57,
          35780.01,
          35944.34,
          35308.53,
          35265.33,
          35211.97,
          35314.96,
          34942.06,
          34763.65,
          35271.3,
          35335.74,
          35490.61,
          36230.01,
          35820.19,
          35640.34,
          35191.05,
          35315.02,
          35106.28,
          35164.38,
          35257.01,
          34875.53,
          34952.37,
          34500.0,
          33270.45,
          33690.01,
          33080.0,
          33319.31,
          33609.51,
          34217.72,
          34384.59,
          35331.17,
          36154.52,
          36050.48,
          37210.38,
          36800.0,
          36368.23,
          36648.31,
          36027.97,
          36116.84,
          36298.0,
          36405.01,
          35939.0,
          36037.16,
          35834.99,
          36035.0,
          36059.27,
          36389.86,
          36410.05,
          36385.0,
          36497.26,
          36479.25,
          36285.7,
          36522.01,
          36805.52,
          37245.24,
          37299.99,
          37039.99,
          36836.91,
          36544.92,
          36769.99,
          36934.26,
          36618.66,
          36833.76,
          36800.15,
          37363.81,
          37762.15,
          37575.0,
          37284.0,
          37321.95,
          37571.86,
          37620.01,
          37910.63,
          38045.91,
          37737.5,
          38170.01,
          38201.88,
          37962.11,
          38234.95,
          38032.27,
          37950.7,
          37548.79,
          36989.1,
          36311.23,
          36489.99,
          36787.43,
          36975.1,
          35868.54,
          35995.29,
          35730.42,
          35912.56,
          35953.76,
          36113.73,
          36150.76,
          36420.01,
          36505.31,
          36301.17,
          36670.15,
          36650.16,
          36806.08,
          36856.18,
          36625.3,
          36513.66,
          36266.37,
          36191.5,
          36194.34,
          35574.0,
          36168.83,
          36683.88,
          37131.0,
          37129.08,
          36862.77,
          36928.66,
          37341.84,
          37210.01,
          37196.06,
          36896.94,
          36788.86,
          36643.79,
          36473.29,
          36596.93,
          36433.29,
          36268.18,
          36890.17,
          36749.65,
          37169.99,
          37082.54,
          36832.16,
          37022.43,
          37205.88,
          37730.18,
          37780.0,
          37642.62,
          37696.21,
          37771.58,
          37520.01,
          37524.39,
          37715.0,
          37793.51,
          37644.0,
          37729.08,
          37822.15,
          37767.6,
          37690.66,
          37740.1,
          37723.57,
          37826.86,
          38129.98,
          37599.38,
          37543.79,
          37519.07,
          37628.76,
          37781.35,
          37831.0,
          38319.8,
          38336.71,
          38120.2,
          38150.01,
          37808.09,
          37916.8,
          37940.63,
          37899.99,
          38081.78,
          38122.67,
          38090.01,
          38228.0,
          37992.01,
          37881.93,
          38173.57,
          38095.46,
          37921.37,
          37945.42,
          37825.49,
          37962.13,
          37822.24,
          37975.0,
          37813.89,
          37505.73,
          37665.0,
          37713.0,
          37767.09,
          37870.01,
          36821.39,
          36804.37,
          36965.9,
          36998.67,
          36894.99,
          36981.0,
          36901.05,
          37098.68,
          37124.29,
          37185.01,
          37274.01,
          37245.0,
          37063.91,
          37225.71,
          37484.04,
          37694.46,
          38304.62,
          38449.98,
          38446.43,
          38400.0,
          38432.32,
          38395.17,
          38385.61,
          38439.04
         ],
         "type": "scatter",
         "xaxis": "x",
         "yaxis": "y"
        },
        {
         "mode": "lines",
         "name": "Tweets compound score",
         "x": [
          "2022-01-01T00:00:00",
          "2022-01-01T01:00:00",
          "2022-01-01T02:00:00",
          "2022-01-01T03:00:00",
          "2022-01-01T04:00:00",
          "2022-01-01T05:00:00",
          "2022-01-01T06:00:00",
          "2022-01-01T07:00:00",
          "2022-01-01T08:00:00",
          "2022-01-01T09:00:00",
          "2022-01-01T10:00:00",
          "2022-01-01T11:00:00",
          "2022-01-01T12:00:00",
          "2022-01-01T13:00:00",
          "2022-01-01T14:00:00",
          "2022-01-01T15:00:00",
          "2022-01-01T16:00:00",
          "2022-01-01T17:00:00",
          "2022-01-01T18:00:00",
          "2022-01-01T19:00:00",
          "2022-01-01T20:00:00",
          "2022-01-01T21:00:00",
          "2022-01-01T22:00:00",
          "2022-01-01T23:00:00",
          "2022-01-02T00:00:00",
          "2022-01-02T01:00:00",
          "2022-01-02T02:00:00",
          "2022-01-02T03:00:00",
          "2022-01-02T04:00:00",
          "2022-01-02T05:00:00",
          "2022-01-02T06:00:00",
          "2022-01-02T07:00:00",
          "2022-01-02T08:00:00",
          "2022-01-02T09:00:00",
          "2022-01-02T10:00:00",
          "2022-01-02T11:00:00",
          "2022-01-02T12:00:00",
          "2022-01-02T13:00:00",
          "2022-01-02T14:00:00",
          "2022-01-02T15:00:00",
          "2022-01-02T16:00:00",
          "2022-01-02T17:00:00",
          "2022-01-02T18:00:00",
          "2022-01-02T19:00:00",
          "2022-01-02T20:00:00",
          "2022-01-02T21:00:00",
          "2022-01-02T22:00:00",
          "2022-01-02T23:00:00",
          "2022-01-03T00:00:00",
          "2022-01-03T01:00:00",
          "2022-01-03T02:00:00",
          "2022-01-03T03:00:00",
          "2022-01-03T04:00:00",
          "2022-01-03T05:00:00",
          "2022-01-03T06:00:00",
          "2022-01-03T07:00:00",
          "2022-01-03T08:00:00",
          "2022-01-03T09:00:00",
          "2022-01-03T10:00:00",
          "2022-01-03T11:00:00",
          "2022-01-03T12:00:00",
          "2022-01-03T13:00:00",
          "2022-01-03T14:00:00",
          "2022-01-03T15:00:00",
          "2022-01-03T16:00:00",
          "2022-01-03T17:00:00",
          "2022-01-03T18:00:00",
          "2022-01-03T19:00:00",
          "2022-01-03T20:00:00",
          "2022-01-03T21:00:00",
          "2022-01-03T22:00:00",
          "2022-01-03T23:00:00",
          "2022-01-04T00:00:00",
          "2022-01-04T01:00:00",
          "2022-01-04T02:00:00",
          "2022-01-04T03:00:00",
          "2022-01-04T04:00:00",
          "2022-01-04T05:00:00",
          "2022-01-04T06:00:00",
          "2022-01-04T07:00:00",
          "2022-01-04T08:00:00",
          "2022-01-04T09:00:00",
          "2022-01-04T10:00:00",
          "2022-01-04T11:00:00",
          "2022-01-04T12:00:00",
          "2022-01-04T13:00:00",
          "2022-01-04T14:00:00",
          "2022-01-04T15:00:00",
          "2022-01-04T16:00:00",
          "2022-01-04T17:00:00",
          "2022-01-04T18:00:00",
          "2022-01-04T19:00:00",
          "2022-01-04T20:00:00",
          "2022-01-04T21:00:00",
          "2022-01-04T22:00:00",
          "2022-01-04T23:00:00",
          "2022-01-05T00:00:00",
          "2022-01-05T01:00:00",
          "2022-01-05T02:00:00",
          "2022-01-05T03:00:00",
          "2022-01-05T04:00:00",
          "2022-01-05T05:00:00",
          "2022-01-05T06:00:00",
          "2022-01-05T07:00:00",
          "2022-01-05T08:00:00",
          "2022-01-05T09:00:00",
          "2022-01-05T10:00:00",
          "2022-01-05T11:00:00",
          "2022-01-05T12:00:00",
          "2022-01-05T13:00:00",
          "2022-01-05T14:00:00",
          "2022-01-05T15:00:00",
          "2022-01-05T16:00:00",
          "2022-01-05T17:00:00",
          "2022-01-05T18:00:00",
          "2022-01-05T19:00:00",
          "2022-01-05T20:00:00",
          "2022-01-05T21:00:00",
          "2022-01-05T22:00:00",
          "2022-01-05T23:00:00",
          "2022-01-06T00:00:00",
          "2022-01-06T01:00:00",
          "2022-01-06T02:00:00",
          "2022-01-06T03:00:00",
          "2022-01-06T04:00:00",
          "2022-01-06T05:00:00",
          "2022-01-06T06:00:00",
          "2022-01-06T07:00:00",
          "2022-01-06T08:00:00",
          "2022-01-06T09:00:00",
          "2022-01-06T10:00:00",
          "2022-01-06T11:00:00",
          "2022-01-06T12:00:00",
          "2022-01-06T13:00:00",
          "2022-01-06T14:00:00",
          "2022-01-06T15:00:00",
          "2022-01-06T16:00:00",
          "2022-01-06T17:00:00",
          "2022-01-06T18:00:00",
          "2022-01-06T19:00:00",
          "2022-01-06T20:00:00",
          "2022-01-06T21:00:00",
          "2022-01-06T22:00:00",
          "2022-01-06T23:00:00",
          "2022-01-07T00:00:00",
          "2022-01-07T01:00:00",
          "2022-01-07T02:00:00",
          "2022-01-07T03:00:00",
          "2022-01-07T04:00:00",
          "2022-01-07T05:00:00",
          "2022-01-07T06:00:00",
          "2022-01-07T07:00:00",
          "2022-01-07T08:00:00",
          "2022-01-07T09:00:00",
          "2022-01-07T10:00:00",
          "2022-01-07T11:00:00",
          "2022-01-07T12:00:00",
          "2022-01-07T13:00:00",
          "2022-01-07T14:00:00",
          "2022-01-07T15:00:00",
          "2022-01-07T16:00:00",
          "2022-01-07T17:00:00",
          "2022-01-07T18:00:00",
          "2022-01-07T19:00:00",
          "2022-01-07T20:00:00",
          "2022-01-07T21:00:00",
          "2022-01-07T22:00:00",
          "2022-01-07T23:00:00",
          "2022-01-08T00:00:00",
          "2022-01-08T01:00:00",
          "2022-01-08T02:00:00",
          "2022-01-08T03:00:00",
          "2022-01-08T04:00:00",
          "2022-01-08T05:00:00",
          "2022-01-08T06:00:00",
          "2022-01-08T07:00:00",
          "2022-01-08T08:00:00",
          "2022-01-08T09:00:00",
          "2022-01-08T10:00:00",
          "2022-01-08T11:00:00",
          "2022-01-08T12:00:00",
          "2022-01-08T13:00:00",
          "2022-01-08T14:00:00",
          "2022-01-08T15:00:00",
          "2022-01-08T16:00:00",
          "2022-01-08T17:00:00",
          "2022-01-08T18:00:00",
          "2022-01-08T19:00:00",
          "2022-01-08T20:00:00",
          "2022-01-08T21:00:00",
          "2022-01-08T22:00:00",
          "2022-01-08T23:00:00",
          "2022-01-09T00:00:00",
          "2022-01-09T01:00:00",
          "2022-01-09T02:00:00",
          "2022-01-09T03:00:00",
          "2022-01-09T04:00:00",
          "2022-01-09T05:00:00",
          "2022-01-09T06:00:00",
          "2022-01-09T07:00:00",
          "2022-01-09T08:00:00",
          "2022-01-09T09:00:00",
          "2022-01-09T10:00:00",
          "2022-01-09T11:00:00",
          "2022-01-09T12:00:00",
          "2022-01-09T13:00:00",
          "2022-01-09T14:00:00",
          "2022-01-09T15:00:00",
          "2022-01-09T16:00:00",
          "2022-01-09T17:00:00",
          "2022-01-09T18:00:00",
          "2022-01-09T19:00:00",
          "2022-01-09T20:00:00",
          "2022-01-09T21:00:00",
          "2022-01-09T22:00:00",
          "2022-01-09T23:00:00",
          "2022-01-10T00:00:00",
          "2022-01-10T01:00:00",
          "2022-01-10T02:00:00",
          "2022-01-10T03:00:00",
          "2022-01-10T04:00:00",
          "2022-01-10T05:00:00",
          "2022-01-10T06:00:00",
          "2022-01-10T07:00:00",
          "2022-01-10T08:00:00",
          "2022-01-10T09:00:00",
          "2022-01-10T10:00:00",
          "2022-01-10T11:00:00",
          "2022-01-10T12:00:00",
          "2022-01-10T13:00:00",
          "2022-01-10T14:00:00",
          "2022-01-10T15:00:00",
          "2022-01-10T16:00:00",
          "2022-01-10T17:00:00",
          "2022-01-10T18:00:00",
          "2022-01-10T19:00:00",
          "2022-01-10T20:00:00",
          "2022-01-10T21:00:00",
          "2022-01-10T22:00:00",
          "2022-01-10T23:00:00",
          "2022-01-11T00:00:00",
          "2022-01-11T01:00:00",
          "2022-01-11T02:00:00",
          "2022-01-11T03:00:00",
          "2022-01-11T04:00:00",
          "2022-01-11T05:00:00",
          "2022-01-11T06:00:00",
          "2022-01-11T07:00:00",
          "2022-01-11T08:00:00",
          "2022-01-11T09:00:00",
          "2022-01-11T10:00:00",
          "2022-01-11T11:00:00",
          "2022-01-11T12:00:00",
          "2022-01-11T13:00:00",
          "2022-01-11T14:00:00",
          "2022-01-11T15:00:00",
          "2022-01-11T16:00:00",
          "2022-01-11T17:00:00",
          "2022-01-11T18:00:00",
          "2022-01-11T19:00:00",
          "2022-01-11T20:00:00",
          "2022-01-11T21:00:00",
          "2022-01-11T22:00:00",
          "2022-01-11T23:00:00",
          "2022-01-12T00:00:00",
          "2022-01-12T01:00:00",
          "2022-01-12T02:00:00",
          "2022-01-12T03:00:00",
          "2022-01-12T04:00:00",
          "2022-01-12T05:00:00",
          "2022-01-12T06:00:00",
          "2022-01-12T07:00:00",
          "2022-01-12T08:00:00",
          "2022-01-12T09:00:00",
          "2022-01-12T10:00:00",
          "2022-01-12T11:00:00",
          "2022-01-12T12:00:00",
          "2022-01-12T13:00:00",
          "2022-01-12T14:00:00",
          "2022-01-12T15:00:00",
          "2022-01-12T16:00:00",
          "2022-01-12T17:00:00",
          "2022-01-12T18:00:00",
          "2022-01-12T19:00:00",
          "2022-01-12T20:00:00",
          "2022-01-12T21:00:00",
          "2022-01-12T22:00:00",
          "2022-01-12T23:00:00",
          "2022-01-13T00:00:00",
          "2022-01-13T01:00:00",
          "2022-01-13T02:00:00",
          "2022-01-13T03:00:00",
          "2022-01-13T04:00:00",
          "2022-01-13T05:00:00",
          "2022-01-13T06:00:00",
          "2022-01-13T07:00:00",
          "2022-01-13T08:00:00",
          "2022-01-13T09:00:00",
          "2022-01-13T10:00:00",
          "2022-01-13T11:00:00",
          "2022-01-13T12:00:00",
          "2022-01-13T13:00:00",
          "2022-01-13T14:00:00",
          "2022-01-13T15:00:00",
          "2022-01-13T16:00:00",
          "2022-01-13T17:00:00",
          "2022-01-13T18:00:00",
          "2022-01-13T19:00:00",
          "2022-01-13T20:00:00",
          "2022-01-13T21:00:00",
          "2022-01-13T22:00:00",
          "2022-01-13T23:00:00",
          "2022-01-14T00:00:00",
          "2022-01-14T01:00:00",
          "2022-01-14T02:00:00",
          "2022-01-14T03:00:00",
          "2022-01-14T04:00:00",
          "2022-01-14T05:00:00",
          "2022-01-14T06:00:00",
          "2022-01-14T07:00:00",
          "2022-01-14T08:00:00",
          "2022-01-14T09:00:00",
          "2022-01-14T10:00:00",
          "2022-01-14T11:00:00",
          "2022-01-14T12:00:00",
          "2022-01-14T13:00:00",
          "2022-01-14T14:00:00",
          "2022-01-14T15:00:00",
          "2022-01-14T16:00:00",
          "2022-01-14T17:00:00",
          "2022-01-14T18:00:00",
          "2022-01-14T19:00:00",
          "2022-01-14T20:00:00",
          "2022-01-14T21:00:00",
          "2022-01-14T22:00:00",
          "2022-01-14T23:00:00",
          "2022-01-15T00:00:00",
          "2022-01-15T01:00:00",
          "2022-01-15T02:00:00",
          "2022-01-15T03:00:00",
          "2022-01-15T04:00:00",
          "2022-01-15T05:00:00",
          "2022-01-15T06:00:00",
          "2022-01-15T07:00:00",
          "2022-01-15T08:00:00",
          "2022-01-15T09:00:00",
          "2022-01-15T10:00:00",
          "2022-01-15T11:00:00",
          "2022-01-15T12:00:00",
          "2022-01-15T13:00:00",
          "2022-01-15T14:00:00",
          "2022-01-15T15:00:00",
          "2022-01-15T16:00:00",
          "2022-01-15T17:00:00",
          "2022-01-15T18:00:00",
          "2022-01-15T19:00:00",
          "2022-01-15T20:00:00",
          "2022-01-15T21:00:00",
          "2022-01-15T22:00:00",
          "2022-01-15T23:00:00",
          "2022-01-16T00:00:00",
          "2022-01-16T01:00:00",
          "2022-01-16T02:00:00",
          "2022-01-16T03:00:00",
          "2022-01-16T04:00:00",
          "2022-01-16T05:00:00",
          "2022-01-16T06:00:00",
          "2022-01-16T07:00:00",
          "2022-01-16T08:00:00",
          "2022-01-16T09:00:00",
          "2022-01-16T10:00:00",
          "2022-01-16T11:00:00",
          "2022-01-16T12:00:00",
          "2022-01-16T13:00:00",
          "2022-01-16T14:00:00",
          "2022-01-16T15:00:00",
          "2022-01-16T16:00:00",
          "2022-01-16T17:00:00",
          "2022-01-16T18:00:00",
          "2022-01-16T19:00:00",
          "2022-01-16T20:00:00",
          "2022-01-16T21:00:00",
          "2022-01-16T22:00:00",
          "2022-01-16T23:00:00",
          "2022-01-17T00:00:00",
          "2022-01-17T01:00:00",
          "2022-01-17T02:00:00",
          "2022-01-17T03:00:00",
          "2022-01-17T04:00:00",
          "2022-01-17T05:00:00",
          "2022-01-17T06:00:00",
          "2022-01-17T07:00:00",
          "2022-01-17T08:00:00",
          "2022-01-17T09:00:00",
          "2022-01-17T10:00:00",
          "2022-01-17T11:00:00",
          "2022-01-17T12:00:00",
          "2022-01-17T13:00:00",
          "2022-01-17T14:00:00",
          "2022-01-17T15:00:00",
          "2022-01-17T16:00:00",
          "2022-01-17T17:00:00",
          "2022-01-17T18:00:00",
          "2022-01-17T19:00:00",
          "2022-01-17T20:00:00",
          "2022-01-17T21:00:00",
          "2022-01-17T22:00:00",
          "2022-01-17T23:00:00",
          "2022-01-18T00:00:00",
          "2022-01-18T01:00:00",
          "2022-01-18T02:00:00",
          "2022-01-18T03:00:00",
          "2022-01-18T04:00:00",
          "2022-01-18T05:00:00",
          "2022-01-18T06:00:00",
          "2022-01-18T07:00:00",
          "2022-01-18T08:00:00",
          "2022-01-18T09:00:00",
          "2022-01-18T10:00:00",
          "2022-01-18T11:00:00",
          "2022-01-18T12:00:00",
          "2022-01-18T13:00:00",
          "2022-01-18T14:00:00",
          "2022-01-18T15:00:00",
          "2022-01-18T16:00:00",
          "2022-01-18T17:00:00",
          "2022-01-18T18:00:00",
          "2022-01-18T19:00:00",
          "2022-01-18T20:00:00",
          "2022-01-18T21:00:00",
          "2022-01-18T22:00:00",
          "2022-01-18T23:00:00",
          "2022-01-19T00:00:00",
          "2022-01-19T01:00:00",
          "2022-01-19T02:00:00",
          "2022-01-19T03:00:00",
          "2022-01-19T04:00:00",
          "2022-01-19T05:00:00",
          "2022-01-19T06:00:00",
          "2022-01-19T07:00:00",
          "2022-01-19T08:00:00",
          "2022-01-19T09:00:00",
          "2022-01-19T10:00:00",
          "2022-01-19T11:00:00",
          "2022-01-19T12:00:00",
          "2022-01-19T13:00:00",
          "2022-01-19T14:00:00",
          "2022-01-19T15:00:00",
          "2022-01-19T16:00:00",
          "2022-01-19T17:00:00",
          "2022-01-19T18:00:00",
          "2022-01-19T19:00:00",
          "2022-01-19T20:00:00",
          "2022-01-19T21:00:00",
          "2022-01-19T22:00:00",
          "2022-01-19T23:00:00",
          "2022-01-20T00:00:00",
          "2022-01-20T01:00:00",
          "2022-01-20T02:00:00",
          "2022-01-20T03:00:00",
          "2022-01-20T04:00:00",
          "2022-01-20T05:00:00",
          "2022-01-20T06:00:00",
          "2022-01-20T07:00:00",
          "2022-01-20T08:00:00",
          "2022-01-20T09:00:00",
          "2022-01-20T10:00:00",
          "2022-01-20T11:00:00",
          "2022-01-20T12:00:00",
          "2022-01-20T13:00:00",
          "2022-01-20T14:00:00",
          "2022-01-20T15:00:00",
          "2022-01-20T16:00:00",
          "2022-01-20T17:00:00",
          "2022-01-20T18:00:00",
          "2022-01-20T19:00:00",
          "2022-01-20T20:00:00",
          "2022-01-20T21:00:00",
          "2022-01-20T22:00:00",
          "2022-01-20T23:00:00",
          "2022-01-21T00:00:00",
          "2022-01-21T01:00:00",
          "2022-01-21T02:00:00",
          "2022-01-21T03:00:00",
          "2022-01-21T04:00:00",
          "2022-01-21T05:00:00",
          "2022-01-21T06:00:00",
          "2022-01-21T07:00:00",
          "2022-01-21T08:00:00",
          "2022-01-21T09:00:00",
          "2022-01-21T10:00:00",
          "2022-01-21T11:00:00",
          "2022-01-21T12:00:00",
          "2022-01-21T13:00:00",
          "2022-01-21T14:00:00",
          "2022-01-21T15:00:00",
          "2022-01-21T16:00:00",
          "2022-01-21T17:00:00",
          "2022-01-21T18:00:00",
          "2022-01-21T19:00:00",
          "2022-01-21T20:00:00",
          "2022-01-21T21:00:00",
          "2022-01-21T22:00:00",
          "2022-01-21T23:00:00",
          "2022-01-22T00:00:00",
          "2022-01-22T01:00:00",
          "2022-01-22T02:00:00",
          "2022-01-22T03:00:00",
          "2022-01-22T04:00:00",
          "2022-01-22T05:00:00",
          "2022-01-22T06:00:00",
          "2022-01-22T07:00:00",
          "2022-01-22T08:00:00",
          "2022-01-22T09:00:00",
          "2022-01-22T10:00:00",
          "2022-01-22T11:00:00",
          "2022-01-22T12:00:00",
          "2022-01-22T13:00:00",
          "2022-01-22T14:00:00",
          "2022-01-22T15:00:00",
          "2022-01-22T16:00:00",
          "2022-01-22T17:00:00",
          "2022-01-22T18:00:00",
          "2022-01-22T19:00:00",
          "2022-01-22T20:00:00",
          "2022-01-22T21:00:00",
          "2022-01-22T22:00:00",
          "2022-01-22T23:00:00",
          "2022-01-23T00:00:00",
          "2022-01-23T01:00:00",
          "2022-01-23T02:00:00",
          "2022-01-23T03:00:00",
          "2022-01-23T04:00:00",
          "2022-01-23T05:00:00",
          "2022-01-23T06:00:00",
          "2022-01-23T07:00:00",
          "2022-01-23T08:00:00",
          "2022-01-23T09:00:00",
          "2022-01-23T10:00:00",
          "2022-01-23T11:00:00",
          "2022-01-23T12:00:00",
          "2022-01-23T13:00:00",
          "2022-01-23T14:00:00",
          "2022-01-23T15:00:00",
          "2022-01-23T16:00:00",
          "2022-01-23T17:00:00",
          "2022-01-23T18:00:00",
          "2022-01-23T19:00:00",
          "2022-01-23T20:00:00",
          "2022-01-23T21:00:00",
          "2022-01-23T22:00:00",
          "2022-01-23T23:00:00",
          "2022-01-24T00:00:00",
          "2022-01-24T01:00:00",
          "2022-01-24T02:00:00",
          "2022-01-24T03:00:00",
          "2022-01-24T04:00:00",
          "2022-01-24T05:00:00",
          "2022-01-24T06:00:00",
          "2022-01-24T07:00:00",
          "2022-01-24T08:00:00",
          "2022-01-24T09:00:00",
          "2022-01-24T10:00:00",
          "2022-01-24T11:00:00",
          "2022-01-24T12:00:00",
          "2022-01-24T13:00:00",
          "2022-01-24T14:00:00",
          "2022-01-24T15:00:00",
          "2022-01-24T16:00:00",
          "2022-01-24T17:00:00",
          "2022-01-24T18:00:00",
          "2022-01-24T19:00:00",
          "2022-01-24T20:00:00",
          "2022-01-24T21:00:00",
          "2022-01-24T22:00:00",
          "2022-01-24T23:00:00",
          "2022-01-25T00:00:00",
          "2022-01-25T01:00:00",
          "2022-01-25T02:00:00",
          "2022-01-25T03:00:00",
          "2022-01-25T04:00:00",
          "2022-01-25T05:00:00",
          "2022-01-25T06:00:00",
          "2022-01-25T07:00:00",
          "2022-01-25T08:00:00",
          "2022-01-25T09:00:00",
          "2022-01-25T10:00:00",
          "2022-01-25T11:00:00",
          "2022-01-25T12:00:00",
          "2022-01-25T13:00:00",
          "2022-01-25T14:00:00",
          "2022-01-25T15:00:00",
          "2022-01-25T16:00:00",
          "2022-01-25T17:00:00",
          "2022-01-25T18:00:00",
          "2022-01-25T19:00:00",
          "2022-01-25T20:00:00",
          "2022-01-25T21:00:00",
          "2022-01-25T22:00:00",
          "2022-01-25T23:00:00",
          "2022-01-26T00:00:00",
          "2022-01-26T01:00:00",
          "2022-01-26T02:00:00",
          "2022-01-26T03:00:00",
          "2022-01-26T04:00:00",
          "2022-01-26T05:00:00",
          "2022-01-26T06:00:00",
          "2022-01-26T07:00:00",
          "2022-01-26T08:00:00",
          "2022-01-26T09:00:00",
          "2022-01-26T10:00:00",
          "2022-01-26T11:00:00",
          "2022-01-26T12:00:00",
          "2022-01-26T13:00:00",
          "2022-01-26T14:00:00",
          "2022-01-26T15:00:00",
          "2022-01-26T16:00:00",
          "2022-01-26T17:00:00",
          "2022-01-26T18:00:00",
          "2022-01-26T19:00:00",
          "2022-01-26T20:00:00",
          "2022-01-26T21:00:00",
          "2022-01-26T22:00:00",
          "2022-01-26T23:00:00",
          "2022-01-27T00:00:00",
          "2022-01-27T01:00:00",
          "2022-01-27T02:00:00",
          "2022-01-27T03:00:00",
          "2022-01-27T04:00:00",
          "2022-01-27T05:00:00",
          "2022-01-27T06:00:00",
          "2022-01-27T07:00:00",
          "2022-01-27T08:00:00",
          "2022-01-27T09:00:00",
          "2022-01-27T10:00:00",
          "2022-01-27T11:00:00",
          "2022-01-27T12:00:00",
          "2022-01-27T13:00:00",
          "2022-01-27T14:00:00",
          "2022-01-27T15:00:00",
          "2022-01-27T16:00:00",
          "2022-01-27T17:00:00",
          "2022-01-27T18:00:00",
          "2022-01-27T19:00:00",
          "2022-01-27T20:00:00",
          "2022-01-27T21:00:00",
          "2022-01-27T22:00:00",
          "2022-01-27T23:00:00",
          "2022-01-28T00:00:00",
          "2022-01-28T01:00:00",
          "2022-01-28T02:00:00",
          "2022-01-28T03:00:00",
          "2022-01-28T04:00:00",
          "2022-01-28T05:00:00",
          "2022-01-28T06:00:00",
          "2022-01-28T07:00:00",
          "2022-01-28T08:00:00",
          "2022-01-28T09:00:00",
          "2022-01-28T10:00:00",
          "2022-01-28T11:00:00",
          "2022-01-28T12:00:00",
          "2022-01-28T13:00:00",
          "2022-01-28T14:00:00",
          "2022-01-28T15:00:00",
          "2022-01-28T16:00:00",
          "2022-01-28T17:00:00",
          "2022-01-28T18:00:00",
          "2022-01-28T19:00:00",
          "2022-01-28T20:00:00",
          "2022-01-28T21:00:00",
          "2022-01-28T22:00:00",
          "2022-01-28T23:00:00",
          "2022-01-29T00:00:00",
          "2022-01-29T01:00:00",
          "2022-01-29T02:00:00",
          "2022-01-29T03:00:00",
          "2022-01-29T04:00:00",
          "2022-01-29T05:00:00",
          "2022-01-29T06:00:00",
          "2022-01-29T07:00:00",
          "2022-01-29T08:00:00",
          "2022-01-29T09:00:00",
          "2022-01-29T10:00:00",
          "2022-01-29T11:00:00",
          "2022-01-29T12:00:00",
          "2022-01-29T13:00:00",
          "2022-01-29T14:00:00",
          "2022-01-29T15:00:00",
          "2022-01-29T16:00:00",
          "2022-01-29T17:00:00",
          "2022-01-29T18:00:00",
          "2022-01-29T19:00:00",
          "2022-01-29T20:00:00",
          "2022-01-29T21:00:00",
          "2022-01-29T22:00:00",
          "2022-01-29T23:00:00",
          "2022-01-30T00:00:00",
          "2022-01-30T01:00:00",
          "2022-01-30T02:00:00",
          "2022-01-30T03:00:00",
          "2022-01-30T04:00:00",
          "2022-01-30T05:00:00",
          "2022-01-30T06:00:00",
          "2022-01-30T07:00:00",
          "2022-01-30T08:00:00",
          "2022-01-30T09:00:00",
          "2022-01-30T10:00:00",
          "2022-01-30T11:00:00",
          "2022-01-30T12:00:00",
          "2022-01-30T13:00:00",
          "2022-01-30T14:00:00",
          "2022-01-30T15:00:00",
          "2022-01-30T16:00:00",
          "2022-01-30T17:00:00",
          "2022-01-30T18:00:00",
          "2022-01-30T19:00:00",
          "2022-01-30T20:00:00",
          "2022-01-30T21:00:00",
          "2022-01-30T22:00:00",
          "2022-01-30T23:00:00",
          "2022-01-31T00:00:00",
          "2022-01-31T01:00:00",
          "2022-01-31T02:00:00",
          "2022-01-31T03:00:00",
          "2022-01-31T04:00:00",
          "2022-01-31T05:00:00",
          "2022-01-31T06:00:00",
          "2022-01-31T07:00:00",
          "2022-01-31T08:00:00",
          "2022-01-31T09:00:00",
          "2022-01-31T10:00:00",
          "2022-01-31T11:00:00",
          "2022-01-31T12:00:00",
          "2022-01-31T13:00:00",
          "2022-01-31T14:00:00",
          "2022-01-31T15:00:00",
          "2022-01-31T16:00:00",
          "2022-01-31T17:00:00",
          "2022-01-31T18:00:00",
          "2022-01-31T19:00:00",
          "2022-01-31T20:00:00",
          "2022-01-31T21:00:00",
          "2022-01-31T22:00:00",
          "2022-01-31T23:00:00"
         ],
         "y": [
          0.228458706,
          0.235804483,
          0.216377126,
          0.254585393,
          0.199023262,
          0.272675269,
          0.248843,
          0.217157823,
          0.257452804,
          0.247964324,
          0.213742939,
          0.233421134,
          0.174651169,
          0.200161419,
          0.229066365,
          0.225803531,
          0.217005384,
          0.22129924,
          0.169680938,
          0.158994872,
          0.197943465,
          0.196269394,
          0.191667838,
          0.196864413,
          0.150971138,
          0.187581468,
          0.168407762,
          0.183478154,
          0.174643158,
          0.197722489,
          0.167307,
          0.195593407,
          0.175999149,
          0.168568579,
          0.182996454,
          0.223113098,
          0.161557117,
          0.155993881,
          0.170073534,
          0.173812242,
          0.164646899,
          0.164452332,
          0.155441913,
          0.146142857,
          0.201740746,
          0.185157977,
          0.142440506,
          0.157567994,
          0.19524688,
          0.184694056,
          0.187413767,
          0.165783539,
          0.212679834,
          0.167316055,
          0.190834504,
          0.17183048,
          0.207934461,
          0.200320557,
          0.207968465,
          0.213462303,
          0.204297778,
          0.226934256,
          0.231681646,
          0.250016212,
          0.216490132,
          0.210666281,
          0.178918458,
          0.221055535,
          0.177767047,
          0.160240738,
          0.153788931,
          0.197620298,
          0.193556643,
          0.175975498,
          0.172287467,
          0.211653712,
          0.177452332,
          0.19327008,
          0.2058692,
          0.184715642,
          0.154740138,
          0.202721828,
          0.201928959,
          0.196972796,
          0.181503903,
          0.208843434,
          0.190536578,
          0.198250321,
          0.207056591,
          0.189357464,
          0.210828752,
          0.161639655,
          0.183192905,
          0.159292527,
          0.19299902,
          0.168266306,
          0.139252594,
          0.194235859,
          0.199968612,
          0.181091712,
          0.208271287,
          0.193201224,
          0.184497,
          0.194897603,
          0.193746924,
          0.190847082,
          0.179750893,
          0.201561478,
          0.151551879,
          0.207884136,
          0.178931976,
          0.16867294,
          0.180298152,
          0.209549518,
          0.144583605,
          0.165677245,
          0.118322597,
          0.079039048,
          0.112382562,
          0.112235604,
          0.10855368,
          0.118436893,
          0.131606957,
          0.14493676,
          0.106137017,
          0.10974015,
          0.124204167,
          0.114401966,
          0.118195543,
          0.112355294,
          0.120089276,
          0.125142617,
          0.135590672,
          0.141634037,
          0.167071951,
          0.142844526,
          0.126757095,
          0.136116734,
          0.130601352,
          0.142591713,
          0.132721932,
          0.143230456,
          0.16093452,
          0.117117654,
          0.134805331,
          0.140980428,
          0.133968406,
          0.113632798,
          0.088422213,
          0.143392195,
          0.105137484,
          0.103940409,
          0.149417381,
          0.166331572,
          0.13143488,
          0.123549725,
          0.141702795,
          0.148625895,
          0.104802968,
          0.147413368,
          0.115189202,
          0.15858662,
          0.132028706,
          0.119959622,
          0.151234278,
          0.147927934,
          0.144041858,
          0.135124207,
          0.127394293,
          0.162986565,
          0.135181636,
          0.162027002,
          0.165493117,
          0.143726609,
          0.127078795,
          0.150015217,
          0.134790353,
          0.137780665,
          0.149294456,
          0.135377457,
          0.098848489,
          0.117506428,
          0.15659525,
          0.147375618,
          0.146284234,
          0.108985772,
          0.126208655,
          0.123497973,
          0.133587982,
          0.11547485,
          0.116456148,
          0.130327744,
          0.134798187,
          0.150271935,
          0.129766475,
          0.168319582,
          0.154211133,
          0.147793038,
          0.144801174,
          0.091597045,
          0.125885625,
          0.170234444,
          0.170093004,
          0.15294495,
          0.164777256,
          0.155391667,
          0.178299356,
          0.162591392,
          0.215921967,
          0.144454126,
          0.181860121,
          0.146223166,
          0.159683049,
          0.147847619,
          0.200668153,
          0.122830516,
          0.173245646,
          0.141495464,
          0.155811132,
          0.177939623,
          0.151744397,
          0.178569712,
          0.181800959,
          0.172928205,
          0.14418427,
          0.175235529,
          0.146299599,
          0.169243485,
          0.107295286,
          0.124946465,
          0.122425731,
          0.143735517,
          0.161380754,
          0.165854532,
          0.131899301,
          0.159786383,
          0.167849953,
          0.162687525,
          0.160641368,
          0.137440452,
          0.159391885,
          0.159128154,
          0.191060203,
          0.178548024,
          0.192522435,
          0.151641865,
          0.182693728,
          0.169920758,
          0.175005749,
          0.178266324,
          0.160521839,
          0.18238677,
          0.181904454,
          0.182252484,
          0.189805882,
          0.168885547,
          0.166304779,
          0.151485754,
          0.166627674,
          0.139872886,
          0.13448181,
          0.173566094,
          0.181282861,
          0.166792208,
          0.18054908,
          0.168855329,
          0.155303885,
          0.164171581,
          0.189628834,
          0.173487922,
          0.165131124,
          0.199665362,
          0.169843048,
          0.178978471,
          0.151677575,
          0.152107194,
          0.164767258,
          0.174455428,
          0.185903769,
          0.169478028,
          0.195976115,
          0.184056222,
          0.190738446,
          0.175767031,
          0.199193103,
          0.171161804,
          0.151073886,
          0.193921622,
          0.162388906,
          0.198128413,
          0.155175536,
          0.192264122,
          0.165546598,
          0.199264912,
          0.195606164,
          0.189130472,
          0.178186678,
          0.193024902,
          0.140519586,
          0.186922942,
          0.172200418,
          0.199342472,
          0.22602009,
          0.178151327,
          0.1946541,
          0.164948563,
          0.20086288,
          0.181998982,
          0.183943853,
          0.187671325,
          0.168490809,
          0.144807134,
          0.134125345,
          0.134868646,
          0.177004382,
          0.203128238,
          0.17040985,
          0.152195455,
          0.167697351,
          0.168289686,
          0.176659926,
          0.176554307,
          0.133760839,
          0.136426087,
          0.159382577,
          0.182449571,
          0.169511392,
          0.191154657,
          0.19161479,
          0.155306748,
          0.183883236,
          0.195731635,
          0.193579605,
          0.201683668,
          0.196147638,
          0.172508864,
          0.185521329,
          0.166773875,
          0.175066348,
          0.168344496,
          0.137614039,
          0.138843275,
          0.172391803,
          0.163213587,
          0.195470071,
          0.183201176,
          0.173310269,
          0.147540748,
          0.201550501,
          0.188781541,
          0.190403163,
          0.181650367,
          0.199436293,
          0.196055118,
          0.167293239,
          0.203942801,
          0.175497711,
          0.1729,
          0.192575336,
          0.173165891,
          0.176241518,
          0.168465217,
          0.171745009,
          0.16264477,
          0.148454569,
          0.179990176,
          0.159410761,
          0.190234132,
          0.172443371,
          0.15132665,
          0.177938992,
          0.180887736,
          0.222430769,
          0.189441021,
          0.169703293,
          0.188455687,
          0.173697342,
          0.173482324,
          0.20306458,
          0.193064987,
          0.176695322,
          0.188187441,
          0.179591523,
          0.1843256,
          0.157118327,
          0.170785504,
          0.227400205,
          0.193645368,
          0.206916854,
          0.149322983,
          0.166288528,
          0.193844961,
          0.19058204,
          0.17704877,
          0.173626582,
          0.175940038,
          0.190987386,
          0.140553157,
          0.174714925,
          0.158818329,
          0.208515737,
          0.152280388,
          0.180687126,
          0.170944793,
          0.170604706,
          0.171194982,
          0.127372442,
          0.16700995,
          0.150134354,
          0.139074141,
          0.162595262,
          0.187013619,
          0.184368889,
          0.183163333,
          0.235194407,
          0.198364951,
          0.1606152,
          0.170214082,
          0.203263093,
          0.170578821,
          0.171466825,
          0.164436828,
          0.144059796,
          0.157808923,
          0.17045678,
          0.199831374,
          0.173704247,
          0.168238153,
          0.161480185,
          0.167184442,
          0.188635793,
          0.175171798,
          0.160604697,
          0.160339696,
          0.207540226,
          0.168099822,
          0.169551594,
          0.180402282,
          0.154140097,
          0.130140938,
          0.15906258,
          0.143917143,
          0.170341746,
          0.185201097,
          0.137151494,
          0.157067778,
          0.210096649,
          0.166339615,
          0.179750915,
          0.180576133,
          0.18204877,
          0.193148856,
          0.174371395,
          0.186248394,
          0.149184866,
          0.153093245,
          0.159697901,
          0.179685502,
          0.188945941,
          0.188952135,
          0.171195127,
          0.150315711,
          0.199125752,
          0.158352928,
          0.204886264,
          0.169750313,
          0.159760506,
          0.184431498,
          0.158260366,
          0.147741496,
          0.179282066,
          0.153738737,
          0.181459228,
          0.160218635,
          0.138851765,
          0.148269119,
          0.168511896,
          0.12373067,
          0.121954011,
          0.096319309,
          0.12019795,
          0.134552821,
          0.099082996,
          0.086326292,
          0.090227012,
          0.086930854,
          0.080999308,
          0.098281564,
          0.082484693,
          0.100194054,
          0.102479181,
          0.108033235,
          0.097456705,
          0.085358381,
          0.115767866,
          0.094019085,
          0.131911571,
          0.114006643,
          0.11497406,
          0.118677794,
          0.123811839,
          0.082963285,
          0.096534374,
          0.111742465,
          0.10088978,
          0.122070693,
          0.121454214,
          0.119515796,
          0.121365239,
          0.120368757,
          0.10434264,
          0.092272646,
          0.099686198,
          0.098810161,
          0.098941772,
          0.110942611,
          0.105073121,
          0.124823304,
          0.118731791,
          0.127741277,
          0.142957263,
          0.112226438,
          0.116063774,
          0.136128101,
          0.139856227,
          0.140598339,
          0.128075213,
          0.129674547,
          0.129854369,
          0.147616276,
          0.153402477,
          0.126133921,
          0.129436615,
          0.117766044,
          0.170902206,
          0.166720213,
          0.146321491,
          0.125326389,
          0.136990068,
          0.176210236,
          0.141999231,
          0.153840418,
          0.163936686,
          0.136126901,
          0.142258977,
          0.136228064,
          0.150308003,
          0.124827831,
          0.137858071,
          0.117303839,
          0.137288878,
          0.132283091,
          0.125265988,
          0.138539895,
          0.142026814,
          0.129,
          0.155614821,
          0.164300497,
          0.127500685,
          0.142317391,
          0.13311595,
          0.136179028,
          0.090339582,
          0.095528715,
          0.092913983,
          0.106370898,
          0.098981875,
          0.112634702,
          0.126017978,
          0.125689199,
          0.137366433,
          0.138266942,
          0.143910856,
          0.125866814,
          0.132631451,
          0.157533436,
          0.134219706,
          0.134929344,
          0.147345092,
          0.164307447,
          0.159557991,
          0.117616918,
          0.18088569,
          0.13607354,
          0.15186184,
          0.154816351,
          0.123061239,
          0.142467251,
          0.155198284,
          0.159615704,
          0.16050766,
          0.125225614,
          0.127878233,
          0.145713904,
          0.161227428,
          0.142226412,
          0.140245361,
          0.126481803,
          0.120952705,
          0.139236297,
          0.138178817,
          0.146645732,
          0.149427358,
          0.153515282,
          0.126018377,
          0.096666869,
          0.14356188,
          0.116493704,
          0.145315686,
          0.130616228,
          0.120915823,
          0.146660577,
          0.158476286,
          0.160050757,
          0.151981734,
          0.126858369,
          0.180642122,
          0.154953663,
          0.156223119,
          0.153931682,
          0.10170074,
          0.152194723,
          0.122433634,
          0.129454613,
          0.149141785,
          0.144545109,
          0.125657489,
          0.167577572,
          0.129329926,
          0.148305589,
          0.166835699,
          0.158357752,
          0.139665886,
          0.144640286,
          0.169632696,
          0.159661424,
          0.164956285,
          0.166619903,
          0.158739092,
          0.142839231,
          0.171591431,
          0.152381231,
          0.147991972,
          0.144788,
          0.153122723,
          0.140562069,
          0.122961333,
          0.145311765,
          0.137092401,
          0.139440336,
          0.114758934,
          0.192084783,
          0.209286185,
          0.159300753,
          0.169318012,
          0.190012731,
          0.17723181,
          0.215312184,
          0.21572016,
          0.189013729,
          0.158866579,
          0.180618674,
          0.20295397,
          0.160999526,
          0.153539106,
          0.139052343,
          0.192812212,
          0.184684245,
          0.17778142,
          0.17881316,
          0.197792369,
          0.157968278,
          0.149476323,
          0.168844109,
          0.175017321,
          0.176429711,
          0.214883274,
          0.177648842,
          0.169049393,
          0.169698807,
          0.161786931,
          0.162971366,
          0.199172867,
          0.169678077,
          0.175855422,
          0.149286076,
          0.190941082,
          0.146421192,
          0.171164452,
          0.209967407,
          0.204909395,
          0.193932125,
          0.179860591,
          0.18263075,
          0.178285358,
          0.176990468,
          0.172779352,
          0.160463867,
          0.146995229,
          0.130282952,
          0.227086224,
          0.159490571,
          0.193277596,
          0.147911141,
          0.165108467,
          0.162746929,
          0.18101069,
          0.152489786,
          0.178225444,
          0.217780744,
          0.220260124,
          0.167155267,
          0.182072656,
          0.204719176,
          0.156864349,
          0.178750126,
          0.169915457,
          0.168243111,
          0.185501246,
          0.164893432,
          0.151853922,
          0.123104561,
          0.159658365,
          0.161635667,
          0.153603529,
          0.143886241,
          0.157345588,
          0.173622472,
          0.166592665,
          0.139604887,
          0.117824277,
          0.169177113,
          0.15381683,
          0.119344054,
          0.166450123,
          0.162378002,
          0.138679149,
          0.16131213,
          0.171716535,
          0.183588028,
          0.19213575,
          0.161571154,
          0.174817664,
          0.179465828
         ],
         "type": "scatter",
         "xaxis": "x",
         "yaxis": "y2"
        }
       ],
       "layout": {
        "template": {
         "data": {
          "histogram2dcontour": [
           {
            "type": "histogram2dcontour",
            "colorbar": {
             "outlinewidth": 0,
             "ticks": ""
            },
            "colorscale": [
             [
              0.0,
              "#0d0887"
             ],
             [
              0.1111111111111111,
              "#46039f"
             ],
             [
              0.2222222222222222,
              "#7201a8"
             ],
             [
              0.3333333333333333,
              "#9c179e"
             ],
             [
              0.4444444444444444,
              "#bd3786"
             ],
             [
              0.5555555555555556,
              "#d8576b"
             ],
             [
              0.6666666666666666,
              "#ed7953"
             ],
             [
              0.7777777777777778,
              "#fb9f3a"
             ],
             [
              0.8888888888888888,
              "#fdca26"
             ],
             [
              1.0,
              "#f0f921"
             ]
            ]
           }
          ],
          "choropleth": [
           {
            "type": "choropleth",
            "colorbar": {
             "outlinewidth": 0,
             "ticks": ""
            }
           }
          ],
          "histogram2d": [
           {
            "type": "histogram2d",
            "colorbar": {
             "outlinewidth": 0,
             "ticks": ""
            },
            "colorscale": [
             [
              0.0,
              "#0d0887"
             ],
             [
              0.1111111111111111,
              "#46039f"
             ],
             [
              0.2222222222222222,
              "#7201a8"
             ],
             [
              0.3333333333333333,
              "#9c179e"
             ],
             [
              0.4444444444444444,
              "#bd3786"
             ],
             [
              0.5555555555555556,
              "#d8576b"
             ],
             [
              0.6666666666666666,
              "#ed7953"
             ],
             [
              0.7777777777777778,
              "#fb9f3a"
             ],
             [
              0.8888888888888888,
              "#fdca26"
             ],
             [
              1.0,
              "#f0f921"
             ]
            ]
           }
          ],
          "heatmap": [
           {
            "type": "heatmap",
            "colorbar": {
             "outlinewidth": 0,
             "ticks": ""
            },
            "colorscale": [
             [
              0.0,
              "#0d0887"
             ],
             [
              0.1111111111111111,
              "#46039f"
             ],
             [
              0.2222222222222222,
              "#7201a8"
             ],
             [
              0.3333333333333333,
              "#9c179e"
             ],
             [
              0.4444444444444444,
              "#bd3786"
             ],
             [
              0.5555555555555556,
              "#d8576b"
             ],
             [
              0.6666666666666666,
              "#ed7953"
             ],
             [
              0.7777777777777778,
              "#fb9f3a"
             ],
             [
              0.8888888888888888,
              "#fdca26"
             ],
             [
              1.0,
              "#f0f921"
             ]
            ]
           }
          ],
          "heatmapgl": [
           {
            "type": "heatmapgl",
            "colorbar": {
             "outlinewidth": 0,
             "ticks": ""
            },
            "colorscale": [
             [
              0.0,
              "#0d0887"
             ],
             [
              0.1111111111111111,
              "#46039f"
             ],
             [
              0.2222222222222222,
              "#7201a8"
             ],
             [
              0.3333333333333333,
              "#9c179e"
             ],
             [
              0.4444444444444444,
              "#bd3786"
             ],
             [
              0.5555555555555556,
              "#d8576b"
             ],
             [
              0.6666666666666666,
              "#ed7953"
             ],
             [
              0.7777777777777778,
              "#fb9f3a"
             ],
             [
              0.8888888888888888,
              "#fdca26"
             ],
             [
              1.0,
              "#f0f921"
             ]
            ]
           }
          ],
          "contourcarpet": [
           {
            "type": "contourcarpet",
            "colorbar": {
             "outlinewidth": 0,
             "ticks": ""
            }
           }
          ],
          "contour": [
           {
            "type": "contour",
            "colorbar": {
             "outlinewidth": 0,
             "ticks": ""
            },
            "colorscale": [
             [
              0.0,
              "#0d0887"
             ],
             [
              0.1111111111111111,
              "#46039f"
             ],
             [
              0.2222222222222222,
              "#7201a8"
             ],
             [
              0.3333333333333333,
              "#9c179e"
             ],
             [
              0.4444444444444444,
              "#bd3786"
             ],
             [
              0.5555555555555556,
              "#d8576b"
             ],
             [
              0.6666666666666666,
              "#ed7953"
             ],
             [
              0.7777777777777778,
              "#fb9f3a"
             ],
             [
              0.8888888888888888,
              "#fdca26"
             ],
             [
              1.0,
              "#f0f921"
             ]
            ]
           }
          ],
          "surface": [
           {
            "type": "surface",
            "colorbar": {
             "outlinewidth": 0,
             "ticks": ""
            },
            "colorscale": [
             [
              0.0,
              "#0d0887"
             ],
             [
              0.1111111111111111,
              "#46039f"
             ],
             [
              0.2222222222222222,
              "#7201a8"
             ],
             [
              0.3333333333333333,
              "#9c179e"
             ],
             [
              0.4444444444444444,
              "#bd3786"
             ],
             [
              0.5555555555555556,
              "#d8576b"
             ],
             [
              0.6666666666666666,
              "#ed7953"
             ],
             [
              0.7777777777777778,
              "#fb9f3a"
             ],
             [
              0.8888888888888888,
              "#fdca26"
             ],
             [
              1.0,
              "#f0f921"
             ]
            ]
           }
          ],
          "mesh3d": [
           {
            "type": "mesh3d",
            "colorbar": {
             "outlinewidth": 0,
             "ticks": ""
            }
           }
          ],
          "scatter": [
           {
            "fillpattern": {
             "fillmode": "overlay",
             "size": 10,
             "solidity": 0.2
            },
            "type": "scatter"
           }
          ],
          "parcoords": [
           {
            "type": "parcoords",
            "line": {
             "colorbar": {
              "outlinewidth": 0,
              "ticks": ""
             }
            }
           }
          ],
          "scatterpolargl": [
           {
            "type": "scatterpolargl",
            "marker": {
             "colorbar": {
              "outlinewidth": 0,
              "ticks": ""
             }
            }
           }
          ],
          "bar": [
           {
            "error_x": {
             "color": "#2a3f5f"
            },
            "error_y": {
             "color": "#2a3f5f"
            },
            "marker": {
             "line": {
              "color": "#E5ECF6",
              "width": 0.5
             },
             "pattern": {
              "fillmode": "overlay",
              "size": 10,
              "solidity": 0.2
             }
            },
            "type": "bar"
           }
          ],
          "scattergeo": [
           {
            "type": "scattergeo",
            "marker": {
             "colorbar": {
              "outlinewidth": 0,
              "ticks": ""
             }
            }
           }
          ],
          "scatterpolar": [
           {
            "type": "scatterpolar",
            "marker": {
             "colorbar": {
              "outlinewidth": 0,
              "ticks": ""
             }
            }
           }
          ],
          "histogram": [
           {
            "marker": {
             "pattern": {
              "fillmode": "overlay",
              "size": 10,
              "solidity": 0.2
             }
            },
            "type": "histogram"
           }
          ],
          "scattergl": [
           {
            "type": "scattergl",
            "marker": {
             "colorbar": {
              "outlinewidth": 0,
              "ticks": ""
             }
            }
           }
          ],
          "scatter3d": [
           {
            "type": "scatter3d",
            "line": {
             "colorbar": {
              "outlinewidth": 0,
              "ticks": ""
             }
            },
            "marker": {
             "colorbar": {
              "outlinewidth": 0,
              "ticks": ""
             }
            }
           }
          ],
          "scattermapbox": [
           {
            "type": "scattermapbox",
            "marker": {
             "colorbar": {
              "outlinewidth": 0,
              "ticks": ""
             }
            }
           }
          ],
          "scatterternary": [
           {
            "type": "scatterternary",
            "marker": {
             "colorbar": {
              "outlinewidth": 0,
              "ticks": ""
             }
            }
           }
          ],
          "scattercarpet": [
           {
            "type": "scattercarpet",
            "marker": {
             "colorbar": {
              "outlinewidth": 0,
              "ticks": ""
             }
            }
           }
          ],
          "carpet": [
           {
            "aaxis": {
             "endlinecolor": "#2a3f5f",
             "gridcolor": "white",
             "linecolor": "white",
             "minorgridcolor": "white",
             "startlinecolor": "#2a3f5f"
            },
            "baxis": {
             "endlinecolor": "#2a3f5f",
             "gridcolor": "white",
             "linecolor": "white",
             "minorgridcolor": "white",
             "startlinecolor": "#2a3f5f"
            },
            "type": "carpet"
           }
          ],
          "table": [
           {
            "cells": {
             "fill": {
              "color": "#EBF0F8"
             },
             "line": {
              "color": "white"
             }
            },
            "header": {
             "fill": {
              "color": "#C8D4E3"
             },
             "line": {
              "color": "white"
             }
            },
            "type": "table"
           }
          ],
          "barpolar": [
           {
            "marker": {
             "line": {
              "color": "#E5ECF6",
              "width": 0.5
             },
             "pattern": {
              "fillmode": "overlay",
              "size": 10,
              "solidity": 0.2
             }
            },
            "type": "barpolar"
           }
          ],
          "pie": [
           {
            "automargin": true,
            "type": "pie"
           }
          ]
         },
         "layout": {
          "autotypenumbers": "strict",
          "colorway": [
           "#636efa",
           "#EF553B",
           "#00cc96",
           "#ab63fa",
           "#FFA15A",
           "#19d3f3",
           "#FF6692",
           "#B6E880",
           "#FF97FF",
           "#FECB52"
          ],
          "font": {
           "color": "#2a3f5f"
          },
          "hovermode": "closest",
          "hoverlabel": {
           "align": "left"
          },
          "paper_bgcolor": "white",
          "plot_bgcolor": "#E5ECF6",
          "polar": {
           "bgcolor": "#E5ECF6",
           "angularaxis": {
            "gridcolor": "white",
            "linecolor": "white",
            "ticks": ""
           },
           "radialaxis": {
            "gridcolor": "white",
            "linecolor": "white",
            "ticks": ""
           }
          },
          "ternary": {
           "bgcolor": "#E5ECF6",
           "aaxis": {
            "gridcolor": "white",
            "linecolor": "white",
            "ticks": ""
           },
           "baxis": {
            "gridcolor": "white",
            "linecolor": "white",
            "ticks": ""
           },
           "caxis": {
            "gridcolor": "white",
            "linecolor": "white",
            "ticks": ""
           }
          },
          "coloraxis": {
           "colorbar": {
            "outlinewidth": 0,
            "ticks": ""
           }
          },
          "colorscale": {
           "sequential": [
            [
             0.0,
             "#0d0887"
            ],
            [
             0.1111111111111111,
             "#46039f"
            ],
            [
             0.2222222222222222,
             "#7201a8"
            ],
            [
             0.3333333333333333,
             "#9c179e"
            ],
            [
             0.4444444444444444,
             "#bd3786"
            ],
            [
             0.5555555555555556,
             "#d8576b"
            ],
            [
             0.6666666666666666,
             "#ed7953"
            ],
            [
             0.7777777777777778,
             "#fb9f3a"
            ],
            [
             0.8888888888888888,
             "#fdca26"
            ],
            [
             1.0,
             "#f0f921"
            ]
           ],
           "sequentialminus": [
            [
             0.0,
             "#0d0887"
            ],
            [
             0.1111111111111111,
             "#46039f"
            ],
            [
             0.2222222222222222,
             "#7201a8"
            ],
            [
             0.3333333333333333,
             "#9c179e"
            ],
            [
             0.4444444444444444,
             "#bd3786"
            ],
            [
             0.5555555555555556,
             "#d8576b"
            ],
            [
             0.6666666666666666,
             "#ed7953"
            ],
            [
             0.7777777777777778,
             "#fb9f3a"
            ],
            [
             0.8888888888888888,
             "#fdca26"
            ],
            [
             1.0,
             "#f0f921"
            ]
           ],
           "diverging": [
            [
             0,
             "#8e0152"
            ],
            [
             0.1,
             "#c51b7d"
            ],
            [
             0.2,
             "#de77ae"
            ],
            [
             0.3,
             "#f1b6da"
            ],
            [
             0.4,
             "#fde0ef"
            ],
            [
             0.5,
             "#f7f7f7"
            ],
            [
             0.6,
             "#e6f5d0"
            ],
            [
             0.7,
             "#b8e186"
            ],
            [
             0.8,
             "#7fbc41"
            ],
            [
             0.9,
             "#4d9221"
            ],
            [
             1,
             "#276419"
            ]
           ]
          },
          "xaxis": {
           "gridcolor": "white",
           "linecolor": "white",
           "ticks": "",
           "title": {
            "standoff": 15
           },
           "zerolinecolor": "white",
           "automargin": true,
           "zerolinewidth": 2
          },
          "yaxis": {
           "gridcolor": "white",
           "linecolor": "white",
           "ticks": "",
           "title": {
            "standoff": 15
           },
           "zerolinecolor": "white",
           "automargin": true,
           "zerolinewidth": 2
          },
          "scene": {
           "xaxis": {
            "backgroundcolor": "#E5ECF6",
            "gridcolor": "white",
            "linecolor": "white",
            "showbackground": true,
            "ticks": "",
            "zerolinecolor": "white",
            "gridwidth": 2
           },
           "yaxis": {
            "backgroundcolor": "#E5ECF6",
            "gridcolor": "white",
            "linecolor": "white",
            "showbackground": true,
            "ticks": "",
            "zerolinecolor": "white",
            "gridwidth": 2
           },
           "zaxis": {
            "backgroundcolor": "#E5ECF6",
            "gridcolor": "white",
            "linecolor": "white",
            "showbackground": true,
            "ticks": "",
            "zerolinecolor": "white",
            "gridwidth": 2
           }
          },
          "shapedefaults": {
           "line": {
            "color": "#2a3f5f"
           }
          },
          "annotationdefaults": {
           "arrowcolor": "#2a3f5f",
           "arrowhead": 0,
           "arrowwidth": 1
          },
          "geo": {
           "bgcolor": "white",
           "landcolor": "#E5ECF6",
           "subunitcolor": "white",
           "showland": true,
           "showlakes": true,
           "lakecolor": "white"
          },
          "title": {
           "x": 0.05
          },
          "mapbox": {
           "style": "light"
          }
         }
        },
        "xaxis": {
         "anchor": "y",
         "domain": [
          0.0,
          0.94
         ],
         "title": {
          "text": "Datetime"
         }
        },
        "yaxis": {
         "anchor": "x",
         "domain": [
          0.0,
          1.0
         ],
         "title": {
          "text": "Bitcoin Price"
         }
        },
        "yaxis2": {
         "anchor": "x",
         "overlaying": "y",
         "side": "right",
         "title": {
          "text": "Compound score"
         }
        },
        "title": {
         "text": "Bitcoin and Tweets compound score"
        },
        "width": 800,
        "height": 600
       },
       "config": {
        "plotlyServerURL": "https://plot.ly"
       }
      },
      "text/html": "<div>                            <div id=\"d03e65d1-4997-4dff-b989-bc119374b82f\" class=\"plotly-graph-div\" style=\"height:600px; width:800px;\"></div>            <script type=\"text/javascript\">                require([\"plotly\"], function(Plotly) {                    window.PLOTLYENV=window.PLOTLYENV || {};                                    if (document.getElementById(\"d03e65d1-4997-4dff-b989-bc119374b82f\")) {                    Plotly.newPlot(                        \"d03e65d1-4997-4dff-b989-bc119374b82f\",                        [{\"mode\":\"lines\",\"name\":\"Bitcoin Price\",\"x\":[\"2022-01-01T00:00:00\",\"2022-01-01T01:00:00\",\"2022-01-01T02:00:00\",\"2022-01-01T03:00:00\",\"2022-01-01T04:00:00\",\"2022-01-01T05:00:00\",\"2022-01-01T06:00:00\",\"2022-01-01T07:00:00\",\"2022-01-01T08:00:00\",\"2022-01-01T09:00:00\",\"2022-01-01T10:00:00\",\"2022-01-01T11:00:00\",\"2022-01-01T12:00:00\",\"2022-01-01T13:00:00\",\"2022-01-01T14:00:00\",\"2022-01-01T15:00:00\",\"2022-01-01T16:00:00\",\"2022-01-01T17:00:00\",\"2022-01-01T18:00:00\",\"2022-01-01T19:00:00\",\"2022-01-01T20:00:00\",\"2022-01-01T21:00:00\",\"2022-01-01T22:00:00\",\"2022-01-01T23:00:00\",\"2022-01-02T00:00:00\",\"2022-01-02T01:00:00\",\"2022-01-02T02:00:00\",\"2022-01-02T03:00:00\",\"2022-01-02T04:00:00\",\"2022-01-02T05:00:00\",\"2022-01-02T06:00:00\",\"2022-01-02T07:00:00\",\"2022-01-02T08:00:00\",\"2022-01-02T09:00:00\",\"2022-01-02T10:00:00\",\"2022-01-02T11:00:00\",\"2022-01-02T12:00:00\",\"2022-01-02T13:00:00\",\"2022-01-02T14:00:00\",\"2022-01-02T15:00:00\",\"2022-01-02T16:00:00\",\"2022-01-02T17:00:00\",\"2022-01-02T18:00:00\",\"2022-01-02T19:00:00\",\"2022-01-02T20:00:00\",\"2022-01-02T21:00:00\",\"2022-01-02T22:00:00\",\"2022-01-02T23:00:00\",\"2022-01-03T00:00:00\",\"2022-01-03T01:00:00\",\"2022-01-03T02:00:00\",\"2022-01-03T03:00:00\",\"2022-01-03T04:00:00\",\"2022-01-03T05:00:00\",\"2022-01-03T06:00:00\",\"2022-01-03T07:00:00\",\"2022-01-03T08:00:00\",\"2022-01-03T09:00:00\",\"2022-01-03T10:00:00\",\"2022-01-03T11:00:00\",\"2022-01-03T12:00:00\",\"2022-01-03T13:00:00\",\"2022-01-03T14:00:00\",\"2022-01-03T15:00:00\",\"2022-01-03T16:00:00\",\"2022-01-03T17:00:00\",\"2022-01-03T18:00:00\",\"2022-01-03T19:00:00\",\"2022-01-03T20:00:00\",\"2022-01-03T21:00:00\",\"2022-01-03T22:00:00\",\"2022-01-03T23:00:00\",\"2022-01-04T00:00:00\",\"2022-01-04T01:00:00\",\"2022-01-04T02:00:00\",\"2022-01-04T03:00:00\",\"2022-01-04T04:00:00\",\"2022-01-04T05:00:00\",\"2022-01-04T06:00:00\",\"2022-01-04T07:00:00\",\"2022-01-04T08:00:00\",\"2022-01-04T09:00:00\",\"2022-01-04T10:00:00\",\"2022-01-04T11:00:00\",\"2022-01-04T12:00:00\",\"2022-01-04T13:00:00\",\"2022-01-04T14:00:00\",\"2022-01-04T15:00:00\",\"2022-01-04T16:00:00\",\"2022-01-04T17:00:00\",\"2022-01-04T18:00:00\",\"2022-01-04T19:00:00\",\"2022-01-04T20:00:00\",\"2022-01-04T21:00:00\",\"2022-01-04T22:00:00\",\"2022-01-04T23:00:00\",\"2022-01-05T00:00:00\",\"2022-01-05T01:00:00\",\"2022-01-05T02:00:00\",\"2022-01-05T03:00:00\",\"2022-01-05T04:00:00\",\"2022-01-05T05:00:00\",\"2022-01-05T06:00:00\",\"2022-01-05T07:00:00\",\"2022-01-05T08:00:00\",\"2022-01-05T09:00:00\",\"2022-01-05T10:00:00\",\"2022-01-05T11:00:00\",\"2022-01-05T12:00:00\",\"2022-01-05T13:00:00\",\"2022-01-05T14:00:00\",\"2022-01-05T15:00:00\",\"2022-01-05T16:00:00\",\"2022-01-05T17:00:00\",\"2022-01-05T18:00:00\",\"2022-01-05T19:00:00\",\"2022-01-05T20:00:00\",\"2022-01-05T21:00:00\",\"2022-01-05T22:00:00\",\"2022-01-05T23:00:00\",\"2022-01-06T00:00:00\",\"2022-01-06T01:00:00\",\"2022-01-06T02:00:00\",\"2022-01-06T03:00:00\",\"2022-01-06T04:00:00\",\"2022-01-06T05:00:00\",\"2022-01-06T06:00:00\",\"2022-01-06T07:00:00\",\"2022-01-06T08:00:00\",\"2022-01-06T09:00:00\",\"2022-01-06T10:00:00\",\"2022-01-06T11:00:00\",\"2022-01-06T12:00:00\",\"2022-01-06T13:00:00\",\"2022-01-06T14:00:00\",\"2022-01-06T15:00:00\",\"2022-01-06T16:00:00\",\"2022-01-06T17:00:00\",\"2022-01-06T18:00:00\",\"2022-01-06T19:00:00\",\"2022-01-06T20:00:00\",\"2022-01-06T21:00:00\",\"2022-01-06T22:00:00\",\"2022-01-06T23:00:00\",\"2022-01-07T00:00:00\",\"2022-01-07T01:00:00\",\"2022-01-07T02:00:00\",\"2022-01-07T03:00:00\",\"2022-01-07T04:00:00\",\"2022-01-07T05:00:00\",\"2022-01-07T06:00:00\",\"2022-01-07T07:00:00\",\"2022-01-07T08:00:00\",\"2022-01-07T09:00:00\",\"2022-01-07T10:00:00\",\"2022-01-07T11:00:00\",\"2022-01-07T12:00:00\",\"2022-01-07T13:00:00\",\"2022-01-07T14:00:00\",\"2022-01-07T15:00:00\",\"2022-01-07T16:00:00\",\"2022-01-07T17:00:00\",\"2022-01-07T18:00:00\",\"2022-01-07T19:00:00\",\"2022-01-07T20:00:00\",\"2022-01-07T21:00:00\",\"2022-01-07T22:00:00\",\"2022-01-07T23:00:00\",\"2022-01-08T00:00:00\",\"2022-01-08T01:00:00\",\"2022-01-08T02:00:00\",\"2022-01-08T03:00:00\",\"2022-01-08T04:00:00\",\"2022-01-08T05:00:00\",\"2022-01-08T06:00:00\",\"2022-01-08T07:00:00\",\"2022-01-08T08:00:00\",\"2022-01-08T09:00:00\",\"2022-01-08T10:00:00\",\"2022-01-08T11:00:00\",\"2022-01-08T12:00:00\",\"2022-01-08T13:00:00\",\"2022-01-08T14:00:00\",\"2022-01-08T15:00:00\",\"2022-01-08T16:00:00\",\"2022-01-08T17:00:00\",\"2022-01-08T18:00:00\",\"2022-01-08T19:00:00\",\"2022-01-08T20:00:00\",\"2022-01-08T21:00:00\",\"2022-01-08T22:00:00\",\"2022-01-08T23:00:00\",\"2022-01-09T00:00:00\",\"2022-01-09T01:00:00\",\"2022-01-09T02:00:00\",\"2022-01-09T03:00:00\",\"2022-01-09T04:00:00\",\"2022-01-09T05:00:00\",\"2022-01-09T06:00:00\",\"2022-01-09T07:00:00\",\"2022-01-09T08:00:00\",\"2022-01-09T09:00:00\",\"2022-01-09T10:00:00\",\"2022-01-09T11:00:00\",\"2022-01-09T12:00:00\",\"2022-01-09T13:00:00\",\"2022-01-09T14:00:00\",\"2022-01-09T15:00:00\",\"2022-01-09T16:00:00\",\"2022-01-09T17:00:00\",\"2022-01-09T18:00:00\",\"2022-01-09T19:00:00\",\"2022-01-09T20:00:00\",\"2022-01-09T21:00:00\",\"2022-01-09T22:00:00\",\"2022-01-09T23:00:00\",\"2022-01-10T00:00:00\",\"2022-01-10T01:00:00\",\"2022-01-10T02:00:00\",\"2022-01-10T03:00:00\",\"2022-01-10T04:00:00\",\"2022-01-10T05:00:00\",\"2022-01-10T06:00:00\",\"2022-01-10T07:00:00\",\"2022-01-10T08:00:00\",\"2022-01-10T09:00:00\",\"2022-01-10T10:00:00\",\"2022-01-10T11:00:00\",\"2022-01-10T12:00:00\",\"2022-01-10T13:00:00\",\"2022-01-10T14:00:00\",\"2022-01-10T15:00:00\",\"2022-01-10T16:00:00\",\"2022-01-10T17:00:00\",\"2022-01-10T18:00:00\",\"2022-01-10T19:00:00\",\"2022-01-10T20:00:00\",\"2022-01-10T21:00:00\",\"2022-01-10T22:00:00\",\"2022-01-10T23:00:00\",\"2022-01-11T00:00:00\",\"2022-01-11T01:00:00\",\"2022-01-11T02:00:00\",\"2022-01-11T03:00:00\",\"2022-01-11T04:00:00\",\"2022-01-11T05:00:00\",\"2022-01-11T06:00:00\",\"2022-01-11T07:00:00\",\"2022-01-11T08:00:00\",\"2022-01-11T09:00:00\",\"2022-01-11T10:00:00\",\"2022-01-11T11:00:00\",\"2022-01-11T12:00:00\",\"2022-01-11T13:00:00\",\"2022-01-11T14:00:00\",\"2022-01-11T15:00:00\",\"2022-01-11T16:00:00\",\"2022-01-11T17:00:00\",\"2022-01-11T18:00:00\",\"2022-01-11T19:00:00\",\"2022-01-11T20:00:00\",\"2022-01-11T21:00:00\",\"2022-01-11T22:00:00\",\"2022-01-11T23:00:00\",\"2022-01-12T00:00:00\",\"2022-01-12T01:00:00\",\"2022-01-12T02:00:00\",\"2022-01-12T03:00:00\",\"2022-01-12T04:00:00\",\"2022-01-12T05:00:00\",\"2022-01-12T06:00:00\",\"2022-01-12T07:00:00\",\"2022-01-12T08:00:00\",\"2022-01-12T09:00:00\",\"2022-01-12T10:00:00\",\"2022-01-12T11:00:00\",\"2022-01-12T12:00:00\",\"2022-01-12T13:00:00\",\"2022-01-12T14:00:00\",\"2022-01-12T15:00:00\",\"2022-01-12T16:00:00\",\"2022-01-12T17:00:00\",\"2022-01-12T18:00:00\",\"2022-01-12T19:00:00\",\"2022-01-12T20:00:00\",\"2022-01-12T21:00:00\",\"2022-01-12T22:00:00\",\"2022-01-12T23:00:00\",\"2022-01-13T00:00:00\",\"2022-01-13T01:00:00\",\"2022-01-13T02:00:00\",\"2022-01-13T03:00:00\",\"2022-01-13T04:00:00\",\"2022-01-13T05:00:00\",\"2022-01-13T06:00:00\",\"2022-01-13T07:00:00\",\"2022-01-13T08:00:00\",\"2022-01-13T09:00:00\",\"2022-01-13T10:00:00\",\"2022-01-13T11:00:00\",\"2022-01-13T12:00:00\",\"2022-01-13T13:00:00\",\"2022-01-13T14:00:00\",\"2022-01-13T15:00:00\",\"2022-01-13T16:00:00\",\"2022-01-13T17:00:00\",\"2022-01-13T18:00:00\",\"2022-01-13T19:00:00\",\"2022-01-13T20:00:00\",\"2022-01-13T21:00:00\",\"2022-01-13T22:00:00\",\"2022-01-13T23:00:00\",\"2022-01-14T00:00:00\",\"2022-01-14T01:00:00\",\"2022-01-14T02:00:00\",\"2022-01-14T03:00:00\",\"2022-01-14T04:00:00\",\"2022-01-14T05:00:00\",\"2022-01-14T06:00:00\",\"2022-01-14T07:00:00\",\"2022-01-14T08:00:00\",\"2022-01-14T09:00:00\",\"2022-01-14T10:00:00\",\"2022-01-14T11:00:00\",\"2022-01-14T12:00:00\",\"2022-01-14T13:00:00\",\"2022-01-14T14:00:00\",\"2022-01-14T15:00:00\",\"2022-01-14T16:00:00\",\"2022-01-14T17:00:00\",\"2022-01-14T18:00:00\",\"2022-01-14T19:00:00\",\"2022-01-14T20:00:00\",\"2022-01-14T21:00:00\",\"2022-01-14T22:00:00\",\"2022-01-14T23:00:00\",\"2022-01-15T00:00:00\",\"2022-01-15T01:00:00\",\"2022-01-15T02:00:00\",\"2022-01-15T03:00:00\",\"2022-01-15T04:00:00\",\"2022-01-15T05:00:00\",\"2022-01-15T06:00:00\",\"2022-01-15T07:00:00\",\"2022-01-15T08:00:00\",\"2022-01-15T09:00:00\",\"2022-01-15T10:00:00\",\"2022-01-15T11:00:00\",\"2022-01-15T12:00:00\",\"2022-01-15T13:00:00\",\"2022-01-15T14:00:00\",\"2022-01-15T15:00:00\",\"2022-01-15T16:00:00\",\"2022-01-15T17:00:00\",\"2022-01-15T18:00:00\",\"2022-01-15T19:00:00\",\"2022-01-15T20:00:00\",\"2022-01-15T21:00:00\",\"2022-01-15T22:00:00\",\"2022-01-15T23:00:00\",\"2022-01-16T00:00:00\",\"2022-01-16T01:00:00\",\"2022-01-16T02:00:00\",\"2022-01-16T03:00:00\",\"2022-01-16T04:00:00\",\"2022-01-16T05:00:00\",\"2022-01-16T06:00:00\",\"2022-01-16T07:00:00\",\"2022-01-16T08:00:00\",\"2022-01-16T09:00:00\",\"2022-01-16T10:00:00\",\"2022-01-16T11:00:00\",\"2022-01-16T12:00:00\",\"2022-01-16T13:00:00\",\"2022-01-16T14:00:00\",\"2022-01-16T15:00:00\",\"2022-01-16T16:00:00\",\"2022-01-16T17:00:00\",\"2022-01-16T18:00:00\",\"2022-01-16T19:00:00\",\"2022-01-16T20:00:00\",\"2022-01-16T21:00:00\",\"2022-01-16T22:00:00\",\"2022-01-16T23:00:00\",\"2022-01-17T00:00:00\",\"2022-01-17T01:00:00\",\"2022-01-17T02:00:00\",\"2022-01-17T03:00:00\",\"2022-01-17T04:00:00\",\"2022-01-17T05:00:00\",\"2022-01-17T06:00:00\",\"2022-01-17T07:00:00\",\"2022-01-17T08:00:00\",\"2022-01-17T09:00:00\",\"2022-01-17T10:00:00\",\"2022-01-17T11:00:00\",\"2022-01-17T12:00:00\",\"2022-01-17T13:00:00\",\"2022-01-17T14:00:00\",\"2022-01-17T15:00:00\",\"2022-01-17T16:00:00\",\"2022-01-17T17:00:00\",\"2022-01-17T18:00:00\",\"2022-01-17T19:00:00\",\"2022-01-17T20:00:00\",\"2022-01-17T21:00:00\",\"2022-01-17T22:00:00\",\"2022-01-17T23:00:00\",\"2022-01-18T00:00:00\",\"2022-01-18T01:00:00\",\"2022-01-18T02:00:00\",\"2022-01-18T03:00:00\",\"2022-01-18T04:00:00\",\"2022-01-18T05:00:00\",\"2022-01-18T06:00:00\",\"2022-01-18T07:00:00\",\"2022-01-18T08:00:00\",\"2022-01-18T09:00:00\",\"2022-01-18T10:00:00\",\"2022-01-18T11:00:00\",\"2022-01-18T12:00:00\",\"2022-01-18T13:00:00\",\"2022-01-18T14:00:00\",\"2022-01-18T15:00:00\",\"2022-01-18T16:00:00\",\"2022-01-18T17:00:00\",\"2022-01-18T18:00:00\",\"2022-01-18T19:00:00\",\"2022-01-18T20:00:00\",\"2022-01-18T21:00:00\",\"2022-01-18T22:00:00\",\"2022-01-18T23:00:00\",\"2022-01-19T00:00:00\",\"2022-01-19T01:00:00\",\"2022-01-19T02:00:00\",\"2022-01-19T03:00:00\",\"2022-01-19T04:00:00\",\"2022-01-19T05:00:00\",\"2022-01-19T06:00:00\",\"2022-01-19T07:00:00\",\"2022-01-19T08:00:00\",\"2022-01-19T09:00:00\",\"2022-01-19T10:00:00\",\"2022-01-19T11:00:00\",\"2022-01-19T12:00:00\",\"2022-01-19T13:00:00\",\"2022-01-19T14:00:00\",\"2022-01-19T15:00:00\",\"2022-01-19T16:00:00\",\"2022-01-19T17:00:00\",\"2022-01-19T18:00:00\",\"2022-01-19T19:00:00\",\"2022-01-19T20:00:00\",\"2022-01-19T21:00:00\",\"2022-01-19T22:00:00\",\"2022-01-19T23:00:00\",\"2022-01-20T00:00:00\",\"2022-01-20T01:00:00\",\"2022-01-20T02:00:00\",\"2022-01-20T03:00:00\",\"2022-01-20T04:00:00\",\"2022-01-20T05:00:00\",\"2022-01-20T06:00:00\",\"2022-01-20T07:00:00\",\"2022-01-20T08:00:00\",\"2022-01-20T09:00:00\",\"2022-01-20T10:00:00\",\"2022-01-20T11:00:00\",\"2022-01-20T12:00:00\",\"2022-01-20T13:00:00\",\"2022-01-20T14:00:00\",\"2022-01-20T15:00:00\",\"2022-01-20T16:00:00\",\"2022-01-20T17:00:00\",\"2022-01-20T18:00:00\",\"2022-01-20T19:00:00\",\"2022-01-20T20:00:00\",\"2022-01-20T21:00:00\",\"2022-01-20T22:00:00\",\"2022-01-20T23:00:00\",\"2022-01-21T00:00:00\",\"2022-01-21T01:00:00\",\"2022-01-21T02:00:00\",\"2022-01-21T03:00:00\",\"2022-01-21T04:00:00\",\"2022-01-21T05:00:00\",\"2022-01-21T06:00:00\",\"2022-01-21T07:00:00\",\"2022-01-21T08:00:00\",\"2022-01-21T09:00:00\",\"2022-01-21T10:00:00\",\"2022-01-21T11:00:00\",\"2022-01-21T12:00:00\",\"2022-01-21T13:00:00\",\"2022-01-21T14:00:00\",\"2022-01-21T15:00:00\",\"2022-01-21T16:00:00\",\"2022-01-21T17:00:00\",\"2022-01-21T18:00:00\",\"2022-01-21T19:00:00\",\"2022-01-21T20:00:00\",\"2022-01-21T21:00:00\",\"2022-01-21T22:00:00\",\"2022-01-21T23:00:00\",\"2022-01-22T00:00:00\",\"2022-01-22T01:00:00\",\"2022-01-22T02:00:00\",\"2022-01-22T03:00:00\",\"2022-01-22T04:00:00\",\"2022-01-22T05:00:00\",\"2022-01-22T06:00:00\",\"2022-01-22T07:00:00\",\"2022-01-22T08:00:00\",\"2022-01-22T09:00:00\",\"2022-01-22T10:00:00\",\"2022-01-22T11:00:00\",\"2022-01-22T12:00:00\",\"2022-01-22T13:00:00\",\"2022-01-22T14:00:00\",\"2022-01-22T15:00:00\",\"2022-01-22T16:00:00\",\"2022-01-22T17:00:00\",\"2022-01-22T18:00:00\",\"2022-01-22T19:00:00\",\"2022-01-22T20:00:00\",\"2022-01-22T21:00:00\",\"2022-01-22T22:00:00\",\"2022-01-22T23:00:00\",\"2022-01-23T00:00:00\",\"2022-01-23T01:00:00\",\"2022-01-23T02:00:00\",\"2022-01-23T03:00:00\",\"2022-01-23T04:00:00\",\"2022-01-23T05:00:00\",\"2022-01-23T06:00:00\",\"2022-01-23T07:00:00\",\"2022-01-23T08:00:00\",\"2022-01-23T09:00:00\",\"2022-01-23T10:00:00\",\"2022-01-23T11:00:00\",\"2022-01-23T12:00:00\",\"2022-01-23T13:00:00\",\"2022-01-23T14:00:00\",\"2022-01-23T15:00:00\",\"2022-01-23T16:00:00\",\"2022-01-23T17:00:00\",\"2022-01-23T18:00:00\",\"2022-01-23T19:00:00\",\"2022-01-23T20:00:00\",\"2022-01-23T21:00:00\",\"2022-01-23T22:00:00\",\"2022-01-23T23:00:00\",\"2022-01-24T00:00:00\",\"2022-01-24T01:00:00\",\"2022-01-24T02:00:00\",\"2022-01-24T03:00:00\",\"2022-01-24T04:00:00\",\"2022-01-24T05:00:00\",\"2022-01-24T06:00:00\",\"2022-01-24T07:00:00\",\"2022-01-24T08:00:00\",\"2022-01-24T09:00:00\",\"2022-01-24T10:00:00\",\"2022-01-24T11:00:00\",\"2022-01-24T12:00:00\",\"2022-01-24T13:00:00\",\"2022-01-24T14:00:00\",\"2022-01-24T15:00:00\",\"2022-01-24T16:00:00\",\"2022-01-24T17:00:00\",\"2022-01-24T18:00:00\",\"2022-01-24T19:00:00\",\"2022-01-24T20:00:00\",\"2022-01-24T21:00:00\",\"2022-01-24T22:00:00\",\"2022-01-24T23:00:00\",\"2022-01-25T00:00:00\",\"2022-01-25T01:00:00\",\"2022-01-25T02:00:00\",\"2022-01-25T03:00:00\",\"2022-01-25T04:00:00\",\"2022-01-25T05:00:00\",\"2022-01-25T06:00:00\",\"2022-01-25T07:00:00\",\"2022-01-25T08:00:00\",\"2022-01-25T09:00:00\",\"2022-01-25T10:00:00\",\"2022-01-25T11:00:00\",\"2022-01-25T12:00:00\",\"2022-01-25T13:00:00\",\"2022-01-25T14:00:00\",\"2022-01-25T15:00:00\",\"2022-01-25T16:00:00\",\"2022-01-25T17:00:00\",\"2022-01-25T18:00:00\",\"2022-01-25T19:00:00\",\"2022-01-25T20:00:00\",\"2022-01-25T21:00:00\",\"2022-01-25T22:00:00\",\"2022-01-25T23:00:00\",\"2022-01-26T00:00:00\",\"2022-01-26T01:00:00\",\"2022-01-26T02:00:00\",\"2022-01-26T03:00:00\",\"2022-01-26T04:00:00\",\"2022-01-26T05:00:00\",\"2022-01-26T06:00:00\",\"2022-01-26T07:00:00\",\"2022-01-26T08:00:00\",\"2022-01-26T09:00:00\",\"2022-01-26T10:00:00\",\"2022-01-26T11:00:00\",\"2022-01-26T12:00:00\",\"2022-01-26T13:00:00\",\"2022-01-26T14:00:00\",\"2022-01-26T15:00:00\",\"2022-01-26T16:00:00\",\"2022-01-26T17:00:00\",\"2022-01-26T18:00:00\",\"2022-01-26T19:00:00\",\"2022-01-26T20:00:00\",\"2022-01-26T21:00:00\",\"2022-01-26T22:00:00\",\"2022-01-26T23:00:00\",\"2022-01-27T00:00:00\",\"2022-01-27T01:00:00\",\"2022-01-27T02:00:00\",\"2022-01-27T03:00:00\",\"2022-01-27T04:00:00\",\"2022-01-27T05:00:00\",\"2022-01-27T06:00:00\",\"2022-01-27T07:00:00\",\"2022-01-27T08:00:00\",\"2022-01-27T09:00:00\",\"2022-01-27T10:00:00\",\"2022-01-27T11:00:00\",\"2022-01-27T12:00:00\",\"2022-01-27T13:00:00\",\"2022-01-27T14:00:00\",\"2022-01-27T15:00:00\",\"2022-01-27T16:00:00\",\"2022-01-27T17:00:00\",\"2022-01-27T18:00:00\",\"2022-01-27T19:00:00\",\"2022-01-27T20:00:00\",\"2022-01-27T21:00:00\",\"2022-01-27T22:00:00\",\"2022-01-27T23:00:00\",\"2022-01-28T00:00:00\",\"2022-01-28T01:00:00\",\"2022-01-28T02:00:00\",\"2022-01-28T03:00:00\",\"2022-01-28T04:00:00\",\"2022-01-28T05:00:00\",\"2022-01-28T06:00:00\",\"2022-01-28T07:00:00\",\"2022-01-28T08:00:00\",\"2022-01-28T09:00:00\",\"2022-01-28T10:00:00\",\"2022-01-28T11:00:00\",\"2022-01-28T12:00:00\",\"2022-01-28T13:00:00\",\"2022-01-28T14:00:00\",\"2022-01-28T15:00:00\",\"2022-01-28T16:00:00\",\"2022-01-28T17:00:00\",\"2022-01-28T18:00:00\",\"2022-01-28T19:00:00\",\"2022-01-28T20:00:00\",\"2022-01-28T21:00:00\",\"2022-01-28T22:00:00\",\"2022-01-28T23:00:00\",\"2022-01-29T00:00:00\",\"2022-01-29T01:00:00\",\"2022-01-29T02:00:00\",\"2022-01-29T03:00:00\",\"2022-01-29T04:00:00\",\"2022-01-29T05:00:00\",\"2022-01-29T06:00:00\",\"2022-01-29T07:00:00\",\"2022-01-29T08:00:00\",\"2022-01-29T09:00:00\",\"2022-01-29T10:00:00\",\"2022-01-29T11:00:00\",\"2022-01-29T12:00:00\",\"2022-01-29T13:00:00\",\"2022-01-29T14:00:00\",\"2022-01-29T15:00:00\",\"2022-01-29T16:00:00\",\"2022-01-29T17:00:00\",\"2022-01-29T18:00:00\",\"2022-01-29T19:00:00\",\"2022-01-29T20:00:00\",\"2022-01-29T21:00:00\",\"2022-01-29T22:00:00\",\"2022-01-29T23:00:00\",\"2022-01-30T00:00:00\",\"2022-01-30T01:00:00\",\"2022-01-30T02:00:00\",\"2022-01-30T03:00:00\",\"2022-01-30T04:00:00\",\"2022-01-30T05:00:00\",\"2022-01-30T06:00:00\",\"2022-01-30T07:00:00\",\"2022-01-30T08:00:00\",\"2022-01-30T09:00:00\",\"2022-01-30T10:00:00\",\"2022-01-30T11:00:00\",\"2022-01-30T12:00:00\",\"2022-01-30T13:00:00\",\"2022-01-30T14:00:00\",\"2022-01-30T15:00:00\",\"2022-01-30T16:00:00\",\"2022-01-30T17:00:00\",\"2022-01-30T18:00:00\",\"2022-01-30T19:00:00\",\"2022-01-30T20:00:00\",\"2022-01-30T21:00:00\",\"2022-01-30T22:00:00\",\"2022-01-30T23:00:00\",\"2022-01-31T00:00:00\",\"2022-01-31T01:00:00\",\"2022-01-31T02:00:00\",\"2022-01-31T03:00:00\",\"2022-01-31T04:00:00\",\"2022-01-31T05:00:00\",\"2022-01-31T06:00:00\",\"2022-01-31T07:00:00\",\"2022-01-31T08:00:00\",\"2022-01-31T09:00:00\",\"2022-01-31T10:00:00\",\"2022-01-31T11:00:00\",\"2022-01-31T12:00:00\",\"2022-01-31T13:00:00\",\"2022-01-31T14:00:00\",\"2022-01-31T15:00:00\",\"2022-01-31T16:00:00\",\"2022-01-31T17:00:00\",\"2022-01-31T18:00:00\",\"2022-01-31T19:00:00\",\"2022-01-31T20:00:00\",\"2022-01-31T21:00:00\",\"2022-01-31T22:00:00\",\"2022-01-31T23:00:00\"],\"y\":[46650.01,46766.78,46796.14,46789.56,46690.81,47184.18,46972.19,47186.83,47117.84,47137.37,46864.09,46755.01,47062.37,47005.55,46909.2,47194.78,47249.99,47733.16,47546.74,47326.98,47385.22,47322.2,47428.16,47704.35,47622.14,47381.21,47374.28,47330.75,46902.11,47077.7,47122.49,47171.04,47211.36,47263.18,47175.95,47231.3,47279.57,47133.07,47110.2,47329.68,47780.0,47402.3,47046.95,46908.29,47012.47,47023.47,47261.73,47280.0,47059.43,47117.42,47005.39,46802.86,46823.58,47083.37,46930.85,47041.11,46970.01,46979.01,47116.89,47364.11,47192.64,47157.33,46874.66,46689.99,46484.0,46564.54,46469.49,46364.55,45904.74,45974.5,46214.28,46445.81,46251.5,46065.39,46111.81,46313.95,46107.5,46151.49,46359.14,46521.68,46475.02,46355.2,46599.84,46709.98,46628.88,46933.15,47303.01,46925.28,46767.94,46564.0,45742.69,46058.09,46267.79,46230.6,46155.89,45833.42,46260.08,46112.1,46291.45,46409.76,46419.0,46302.72,46454.0,46399.33,46626.53,46850.75,46809.4,46271.93,46228.27,46429.36,46682.79,46611.46,46308.23,46007.99,45922.29,44673.22,43958.56,43604.0,43415.84,43421.69,43656.0,43525.91,43248.4,42817.38,43007.21,43038.12,43091.6,43222.22,43050.0,42591.58,42874.38,42865.15,43047.4,43123.15,42802.24,42947.79,42878.24,42994.68,43353.88,43409.03,43206.67,43105.1,43163.57,43080.01,42787.99,42988.26,42795.77,41789.97,41680.0,41835.97,41520.0,41691.61,42089.3,42409.0,42167.9,42249.99,42393.02,41471.53,41876.11,41297.41,42131.75,41978.79,41695.07,41764.32,41910.96,41862.38,41522.5,41553.86,41992.23,41880.01,41870.9,41796.03,41880.0,41954.47,41901.74,41902.21,41948.85,42138.03,41907.21,41918.02,41851.23,41884.04,41737.01,41600.72,41342.06,40846.58,40684.09,40837.51,40976.06,41775.18,41912.88,41688.05,41774.19,41800.81,42090.34,41835.6,42065.29,41762.99,41866.0,41784.63,41657.45,41503.75,41636.97,41854.25,41737.43,41467.75,41530.99,41611.09,42127.99,42084.96,41954.99,42678.95,42414.64,42290.28,42193.23,41851.22,41644.58,41790.01,41905.0,41946.05,42164.36,42006.0,41914.84,42034.99,41803.54,41788.54,41765.01,41564.26,40931.61,40753.0,40768.6,40973.56,41892.96,41167.99,41584.61,41280.45,41698.68,41696.66,41592.95,41801.55,41585.19,41913.72,42146.26,42251.59,42284.21,42096.61,42088.99,42191.79,41978.17,41967.92,41619.09,41800.95,41796.8,41691.83,41616.57,41716.42,42684.18,42523.15,42730.31,42938.55,42774.08,42643.77,42685.05,42700.68,42664.57,42617.4,42545.54,42592.92,42614.35,42688.49,42661.99,42550.09,42594.19,42778.0,42739.14,42906.98,43245.67,43881.76,43819.68,43549.99,43593.0,43814.93,43570.0,43707.2,43794.87,43756.14,43813.58,43880.72,43699.62,43540.96,43583.2,43501.19,43604.4,43645.7,43692.74,43682.7,43876.44,43855.47,43766.01,43592.1,43786.9,43891.64,44120.24,43170.0,43224.79,42800.0,42699.54,42690.02,42760.66,42780.0,42566.68,42534.32,42732.33,42576.16,42690.0,42611.77,42655.5,42864.34,42781.41,42635.62,42505.72,42535.65,42059.75,41983.12,42029.37,42140.37,42945.09,43082.57,43183.63,42904.07,43030.9,43055.09,43075.96,43268.35,43230.0,43042.4,43082.04,42965.85,43080.0,42918.27,42895.77,42965.67,43048.54,43073.99,42968.18,43042.65,43085.01,42995.23,42700.0,42889.22,43162.19,43370.01,43306.35,43348.2,43297.97,43496.85,43473.72,43281.73,43225.92,43070.51,43060.0,42979.6,42915.41,42966.51,43004.91,42941.14,43171.67,43173.02,43063.92,43064.22,42904.4,42960.0,42990.01,43097.88,43280.64,43207.81,43359.08,43059.54,43042.16,42817.01,43014.28,42937.0,43157.21,43060.66,42873.86,42879.99,42901.91,42635.91,42606.26,42649.7,42730.98,42639.51,42770.01,42825.25,42775.48,42656.61,42544.28,42631.58,42645.25,42467.49,42212.29,42108.49,42162.86,42221.15,42065.0,41710.21,42063.78,42176.34,42338.0,42238.63,42254.78,42027.18,42022.52,42084.88,42219.79,42040.0,41709.99,41885.84,41909.98,41842.4,41793.31,41640.32,41441.51,41574.09,41693.15,41480.65,41596.98,41680.93,41767.25,42348.55,42460.89,42337.58,42242.57,42409.54,42324.74,41690.59,41699.55,41751.99,41700.0,41271.21,41362.88,41553.2,41494.2,42023.15,42075.1,42171.24,42475.99,41971.31,41904.33,42150.0,42000.01,41864.47,41626.0,41704.26,41956.47,41657.89,41824.64,41756.21,41969.69,41915.36,41875.9,41878.84,41988.84,42039.99,41956.98,42038.6,42089.94,42117.31,42019.89,42368.81,42941.36,43275.74,43257.22,43020.35,42824.44,42909.99,42715.35,41319.68,41137.96,40661.69,40884.57,39750.69,39818.48,38447.91,38819.99,38888.95,38663.95,39106.42,39140.86,38942.78,38956.26,38878.71,38169.34,38484.39,38411.24,38831.88,38704.37,38369.69,38254.15,37967.04,38337.36,36634.29,36093.06,36425.98,36468.66,36475.49,36460.42,36319.99,36258.38,35728.06,35706.43,35374.14,35583.24,34804.48,35461.77,35385.59,35744.46,35572.97,35008.02,34829.93,35085.04,34590.01,34379.45,34506.47,35275.85,35364.01,34861.04,35043.73,35378.61,35296.61,34862.32,35032.09,35199.96,35429.32,35262.76,35553.2,35820.2,35860.35,35883.99,35671.57,35780.01,35944.34,35308.53,35265.33,35211.97,35314.96,34942.06,34763.65,35271.3,35335.74,35490.61,36230.01,35820.19,35640.34,35191.05,35315.02,35106.28,35164.38,35257.01,34875.53,34952.37,34500.0,33270.45,33690.01,33080.0,33319.31,33609.51,34217.72,34384.59,35331.17,36154.52,36050.48,37210.38,36800.0,36368.23,36648.31,36027.97,36116.84,36298.0,36405.01,35939.0,36037.16,35834.99,36035.0,36059.27,36389.86,36410.05,36385.0,36497.26,36479.25,36285.7,36522.01,36805.52,37245.24,37299.99,37039.99,36836.91,36544.92,36769.99,36934.26,36618.66,36833.76,36800.15,37363.81,37762.15,37575.0,37284.0,37321.95,37571.86,37620.01,37910.63,38045.91,37737.5,38170.01,38201.88,37962.11,38234.95,38032.27,37950.7,37548.79,36989.1,36311.23,36489.99,36787.43,36975.1,35868.54,35995.29,35730.42,35912.56,35953.76,36113.73,36150.76,36420.01,36505.31,36301.17,36670.15,36650.16,36806.08,36856.18,36625.3,36513.66,36266.37,36191.5,36194.34,35574.0,36168.83,36683.88,37131.0,37129.08,36862.77,36928.66,37341.84,37210.01,37196.06,36896.94,36788.86,36643.79,36473.29,36596.93,36433.29,36268.18,36890.17,36749.65,37169.99,37082.54,36832.16,37022.43,37205.88,37730.18,37780.0,37642.62,37696.21,37771.58,37520.01,37524.39,37715.0,37793.51,37644.0,37729.08,37822.15,37767.6,37690.66,37740.1,37723.57,37826.86,38129.98,37599.38,37543.79,37519.07,37628.76,37781.35,37831.0,38319.8,38336.71,38120.2,38150.01,37808.09,37916.8,37940.63,37899.99,38081.78,38122.67,38090.01,38228.0,37992.01,37881.93,38173.57,38095.46,37921.37,37945.42,37825.49,37962.13,37822.24,37975.0,37813.89,37505.73,37665.0,37713.0,37767.09,37870.01,36821.39,36804.37,36965.9,36998.67,36894.99,36981.0,36901.05,37098.68,37124.29,37185.01,37274.01,37245.0,37063.91,37225.71,37484.04,37694.46,38304.62,38449.98,38446.43,38400.0,38432.32,38395.17,38385.61,38439.04],\"type\":\"scatter\",\"xaxis\":\"x\",\"yaxis\":\"y\"},{\"mode\":\"lines\",\"name\":\"Tweets compound score\",\"x\":[\"2022-01-01T00:00:00\",\"2022-01-01T01:00:00\",\"2022-01-01T02:00:00\",\"2022-01-01T03:00:00\",\"2022-01-01T04:00:00\",\"2022-01-01T05:00:00\",\"2022-01-01T06:00:00\",\"2022-01-01T07:00:00\",\"2022-01-01T08:00:00\",\"2022-01-01T09:00:00\",\"2022-01-01T10:00:00\",\"2022-01-01T11:00:00\",\"2022-01-01T12:00:00\",\"2022-01-01T13:00:00\",\"2022-01-01T14:00:00\",\"2022-01-01T15:00:00\",\"2022-01-01T16:00:00\",\"2022-01-01T17:00:00\",\"2022-01-01T18:00:00\",\"2022-01-01T19:00:00\",\"2022-01-01T20:00:00\",\"2022-01-01T21:00:00\",\"2022-01-01T22:00:00\",\"2022-01-01T23:00:00\",\"2022-01-02T00:00:00\",\"2022-01-02T01:00:00\",\"2022-01-02T02:00:00\",\"2022-01-02T03:00:00\",\"2022-01-02T04:00:00\",\"2022-01-02T05:00:00\",\"2022-01-02T06:00:00\",\"2022-01-02T07:00:00\",\"2022-01-02T08:00:00\",\"2022-01-02T09:00:00\",\"2022-01-02T10:00:00\",\"2022-01-02T11:00:00\",\"2022-01-02T12:00:00\",\"2022-01-02T13:00:00\",\"2022-01-02T14:00:00\",\"2022-01-02T15:00:00\",\"2022-01-02T16:00:00\",\"2022-01-02T17:00:00\",\"2022-01-02T18:00:00\",\"2022-01-02T19:00:00\",\"2022-01-02T20:00:00\",\"2022-01-02T21:00:00\",\"2022-01-02T22:00:00\",\"2022-01-02T23:00:00\",\"2022-01-03T00:00:00\",\"2022-01-03T01:00:00\",\"2022-01-03T02:00:00\",\"2022-01-03T03:00:00\",\"2022-01-03T04:00:00\",\"2022-01-03T05:00:00\",\"2022-01-03T06:00:00\",\"2022-01-03T07:00:00\",\"2022-01-03T08:00:00\",\"2022-01-03T09:00:00\",\"2022-01-03T10:00:00\",\"2022-01-03T11:00:00\",\"2022-01-03T12:00:00\",\"2022-01-03T13:00:00\",\"2022-01-03T14:00:00\",\"2022-01-03T15:00:00\",\"2022-01-03T16:00:00\",\"2022-01-03T17:00:00\",\"2022-01-03T18:00:00\",\"2022-01-03T19:00:00\",\"2022-01-03T20:00:00\",\"2022-01-03T21:00:00\",\"2022-01-03T22:00:00\",\"2022-01-03T23:00:00\",\"2022-01-04T00:00:00\",\"2022-01-04T01:00:00\",\"2022-01-04T02:00:00\",\"2022-01-04T03:00:00\",\"2022-01-04T04:00:00\",\"2022-01-04T05:00:00\",\"2022-01-04T06:00:00\",\"2022-01-04T07:00:00\",\"2022-01-04T08:00:00\",\"2022-01-04T09:00:00\",\"2022-01-04T10:00:00\",\"2022-01-04T11:00:00\",\"2022-01-04T12:00:00\",\"2022-01-04T13:00:00\",\"2022-01-04T14:00:00\",\"2022-01-04T15:00:00\",\"2022-01-04T16:00:00\",\"2022-01-04T17:00:00\",\"2022-01-04T18:00:00\",\"2022-01-04T19:00:00\",\"2022-01-04T20:00:00\",\"2022-01-04T21:00:00\",\"2022-01-04T22:00:00\",\"2022-01-04T23:00:00\",\"2022-01-05T00:00:00\",\"2022-01-05T01:00:00\",\"2022-01-05T02:00:00\",\"2022-01-05T03:00:00\",\"2022-01-05T04:00:00\",\"2022-01-05T05:00:00\",\"2022-01-05T06:00:00\",\"2022-01-05T07:00:00\",\"2022-01-05T08:00:00\",\"2022-01-05T09:00:00\",\"2022-01-05T10:00:00\",\"2022-01-05T11:00:00\",\"2022-01-05T12:00:00\",\"2022-01-05T13:00:00\",\"2022-01-05T14:00:00\",\"2022-01-05T15:00:00\",\"2022-01-05T16:00:00\",\"2022-01-05T17:00:00\",\"2022-01-05T18:00:00\",\"2022-01-05T19:00:00\",\"2022-01-05T20:00:00\",\"2022-01-05T21:00:00\",\"2022-01-05T22:00:00\",\"2022-01-05T23:00:00\",\"2022-01-06T00:00:00\",\"2022-01-06T01:00:00\",\"2022-01-06T02:00:00\",\"2022-01-06T03:00:00\",\"2022-01-06T04:00:00\",\"2022-01-06T05:00:00\",\"2022-01-06T06:00:00\",\"2022-01-06T07:00:00\",\"2022-01-06T08:00:00\",\"2022-01-06T09:00:00\",\"2022-01-06T10:00:00\",\"2022-01-06T11:00:00\",\"2022-01-06T12:00:00\",\"2022-01-06T13:00:00\",\"2022-01-06T14:00:00\",\"2022-01-06T15:00:00\",\"2022-01-06T16:00:00\",\"2022-01-06T17:00:00\",\"2022-01-06T18:00:00\",\"2022-01-06T19:00:00\",\"2022-01-06T20:00:00\",\"2022-01-06T21:00:00\",\"2022-01-06T22:00:00\",\"2022-01-06T23:00:00\",\"2022-01-07T00:00:00\",\"2022-01-07T01:00:00\",\"2022-01-07T02:00:00\",\"2022-01-07T03:00:00\",\"2022-01-07T04:00:00\",\"2022-01-07T05:00:00\",\"2022-01-07T06:00:00\",\"2022-01-07T07:00:00\",\"2022-01-07T08:00:00\",\"2022-01-07T09:00:00\",\"2022-01-07T10:00:00\",\"2022-01-07T11:00:00\",\"2022-01-07T12:00:00\",\"2022-01-07T13:00:00\",\"2022-01-07T14:00:00\",\"2022-01-07T15:00:00\",\"2022-01-07T16:00:00\",\"2022-01-07T17:00:00\",\"2022-01-07T18:00:00\",\"2022-01-07T19:00:00\",\"2022-01-07T20:00:00\",\"2022-01-07T21:00:00\",\"2022-01-07T22:00:00\",\"2022-01-07T23:00:00\",\"2022-01-08T00:00:00\",\"2022-01-08T01:00:00\",\"2022-01-08T02:00:00\",\"2022-01-08T03:00:00\",\"2022-01-08T04:00:00\",\"2022-01-08T05:00:00\",\"2022-01-08T06:00:00\",\"2022-01-08T07:00:00\",\"2022-01-08T08:00:00\",\"2022-01-08T09:00:00\",\"2022-01-08T10:00:00\",\"2022-01-08T11:00:00\",\"2022-01-08T12:00:00\",\"2022-01-08T13:00:00\",\"2022-01-08T14:00:00\",\"2022-01-08T15:00:00\",\"2022-01-08T16:00:00\",\"2022-01-08T17:00:00\",\"2022-01-08T18:00:00\",\"2022-01-08T19:00:00\",\"2022-01-08T20:00:00\",\"2022-01-08T21:00:00\",\"2022-01-08T22:00:00\",\"2022-01-08T23:00:00\",\"2022-01-09T00:00:00\",\"2022-01-09T01:00:00\",\"2022-01-09T02:00:00\",\"2022-01-09T03:00:00\",\"2022-01-09T04:00:00\",\"2022-01-09T05:00:00\",\"2022-01-09T06:00:00\",\"2022-01-09T07:00:00\",\"2022-01-09T08:00:00\",\"2022-01-09T09:00:00\",\"2022-01-09T10:00:00\",\"2022-01-09T11:00:00\",\"2022-01-09T12:00:00\",\"2022-01-09T13:00:00\",\"2022-01-09T14:00:00\",\"2022-01-09T15:00:00\",\"2022-01-09T16:00:00\",\"2022-01-09T17:00:00\",\"2022-01-09T18:00:00\",\"2022-01-09T19:00:00\",\"2022-01-09T20:00:00\",\"2022-01-09T21:00:00\",\"2022-01-09T22:00:00\",\"2022-01-09T23:00:00\",\"2022-01-10T00:00:00\",\"2022-01-10T01:00:00\",\"2022-01-10T02:00:00\",\"2022-01-10T03:00:00\",\"2022-01-10T04:00:00\",\"2022-01-10T05:00:00\",\"2022-01-10T06:00:00\",\"2022-01-10T07:00:00\",\"2022-01-10T08:00:00\",\"2022-01-10T09:00:00\",\"2022-01-10T10:00:00\",\"2022-01-10T11:00:00\",\"2022-01-10T12:00:00\",\"2022-01-10T13:00:00\",\"2022-01-10T14:00:00\",\"2022-01-10T15:00:00\",\"2022-01-10T16:00:00\",\"2022-01-10T17:00:00\",\"2022-01-10T18:00:00\",\"2022-01-10T19:00:00\",\"2022-01-10T20:00:00\",\"2022-01-10T21:00:00\",\"2022-01-10T22:00:00\",\"2022-01-10T23:00:00\",\"2022-01-11T00:00:00\",\"2022-01-11T01:00:00\",\"2022-01-11T02:00:00\",\"2022-01-11T03:00:00\",\"2022-01-11T04:00:00\",\"2022-01-11T05:00:00\",\"2022-01-11T06:00:00\",\"2022-01-11T07:00:00\",\"2022-01-11T08:00:00\",\"2022-01-11T09:00:00\",\"2022-01-11T10:00:00\",\"2022-01-11T11:00:00\",\"2022-01-11T12:00:00\",\"2022-01-11T13:00:00\",\"2022-01-11T14:00:00\",\"2022-01-11T15:00:00\",\"2022-01-11T16:00:00\",\"2022-01-11T17:00:00\",\"2022-01-11T18:00:00\",\"2022-01-11T19:00:00\",\"2022-01-11T20:00:00\",\"2022-01-11T21:00:00\",\"2022-01-11T22:00:00\",\"2022-01-11T23:00:00\",\"2022-01-12T00:00:00\",\"2022-01-12T01:00:00\",\"2022-01-12T02:00:00\",\"2022-01-12T03:00:00\",\"2022-01-12T04:00:00\",\"2022-01-12T05:00:00\",\"2022-01-12T06:00:00\",\"2022-01-12T07:00:00\",\"2022-01-12T08:00:00\",\"2022-01-12T09:00:00\",\"2022-01-12T10:00:00\",\"2022-01-12T11:00:00\",\"2022-01-12T12:00:00\",\"2022-01-12T13:00:00\",\"2022-01-12T14:00:00\",\"2022-01-12T15:00:00\",\"2022-01-12T16:00:00\",\"2022-01-12T17:00:00\",\"2022-01-12T18:00:00\",\"2022-01-12T19:00:00\",\"2022-01-12T20:00:00\",\"2022-01-12T21:00:00\",\"2022-01-12T22:00:00\",\"2022-01-12T23:00:00\",\"2022-01-13T00:00:00\",\"2022-01-13T01:00:00\",\"2022-01-13T02:00:00\",\"2022-01-13T03:00:00\",\"2022-01-13T04:00:00\",\"2022-01-13T05:00:00\",\"2022-01-13T06:00:00\",\"2022-01-13T07:00:00\",\"2022-01-13T08:00:00\",\"2022-01-13T09:00:00\",\"2022-01-13T10:00:00\",\"2022-01-13T11:00:00\",\"2022-01-13T12:00:00\",\"2022-01-13T13:00:00\",\"2022-01-13T14:00:00\",\"2022-01-13T15:00:00\",\"2022-01-13T16:00:00\",\"2022-01-13T17:00:00\",\"2022-01-13T18:00:00\",\"2022-01-13T19:00:00\",\"2022-01-13T20:00:00\",\"2022-01-13T21:00:00\",\"2022-01-13T22:00:00\",\"2022-01-13T23:00:00\",\"2022-01-14T00:00:00\",\"2022-01-14T01:00:00\",\"2022-01-14T02:00:00\",\"2022-01-14T03:00:00\",\"2022-01-14T04:00:00\",\"2022-01-14T05:00:00\",\"2022-01-14T06:00:00\",\"2022-01-14T07:00:00\",\"2022-01-14T08:00:00\",\"2022-01-14T09:00:00\",\"2022-01-14T10:00:00\",\"2022-01-14T11:00:00\",\"2022-01-14T12:00:00\",\"2022-01-14T13:00:00\",\"2022-01-14T14:00:00\",\"2022-01-14T15:00:00\",\"2022-01-14T16:00:00\",\"2022-01-14T17:00:00\",\"2022-01-14T18:00:00\",\"2022-01-14T19:00:00\",\"2022-01-14T20:00:00\",\"2022-01-14T21:00:00\",\"2022-01-14T22:00:00\",\"2022-01-14T23:00:00\",\"2022-01-15T00:00:00\",\"2022-01-15T01:00:00\",\"2022-01-15T02:00:00\",\"2022-01-15T03:00:00\",\"2022-01-15T04:00:00\",\"2022-01-15T05:00:00\",\"2022-01-15T06:00:00\",\"2022-01-15T07:00:00\",\"2022-01-15T08:00:00\",\"2022-01-15T09:00:00\",\"2022-01-15T10:00:00\",\"2022-01-15T11:00:00\",\"2022-01-15T12:00:00\",\"2022-01-15T13:00:00\",\"2022-01-15T14:00:00\",\"2022-01-15T15:00:00\",\"2022-01-15T16:00:00\",\"2022-01-15T17:00:00\",\"2022-01-15T18:00:00\",\"2022-01-15T19:00:00\",\"2022-01-15T20:00:00\",\"2022-01-15T21:00:00\",\"2022-01-15T22:00:00\",\"2022-01-15T23:00:00\",\"2022-01-16T00:00:00\",\"2022-01-16T01:00:00\",\"2022-01-16T02:00:00\",\"2022-01-16T03:00:00\",\"2022-01-16T04:00:00\",\"2022-01-16T05:00:00\",\"2022-01-16T06:00:00\",\"2022-01-16T07:00:00\",\"2022-01-16T08:00:00\",\"2022-01-16T09:00:00\",\"2022-01-16T10:00:00\",\"2022-01-16T11:00:00\",\"2022-01-16T12:00:00\",\"2022-01-16T13:00:00\",\"2022-01-16T14:00:00\",\"2022-01-16T15:00:00\",\"2022-01-16T16:00:00\",\"2022-01-16T17:00:00\",\"2022-01-16T18:00:00\",\"2022-01-16T19:00:00\",\"2022-01-16T20:00:00\",\"2022-01-16T21:00:00\",\"2022-01-16T22:00:00\",\"2022-01-16T23:00:00\",\"2022-01-17T00:00:00\",\"2022-01-17T01:00:00\",\"2022-01-17T02:00:00\",\"2022-01-17T03:00:00\",\"2022-01-17T04:00:00\",\"2022-01-17T05:00:00\",\"2022-01-17T06:00:00\",\"2022-01-17T07:00:00\",\"2022-01-17T08:00:00\",\"2022-01-17T09:00:00\",\"2022-01-17T10:00:00\",\"2022-01-17T11:00:00\",\"2022-01-17T12:00:00\",\"2022-01-17T13:00:00\",\"2022-01-17T14:00:00\",\"2022-01-17T15:00:00\",\"2022-01-17T16:00:00\",\"2022-01-17T17:00:00\",\"2022-01-17T18:00:00\",\"2022-01-17T19:00:00\",\"2022-01-17T20:00:00\",\"2022-01-17T21:00:00\",\"2022-01-17T22:00:00\",\"2022-01-17T23:00:00\",\"2022-01-18T00:00:00\",\"2022-01-18T01:00:00\",\"2022-01-18T02:00:00\",\"2022-01-18T03:00:00\",\"2022-01-18T04:00:00\",\"2022-01-18T05:00:00\",\"2022-01-18T06:00:00\",\"2022-01-18T07:00:00\",\"2022-01-18T08:00:00\",\"2022-01-18T09:00:00\",\"2022-01-18T10:00:00\",\"2022-01-18T11:00:00\",\"2022-01-18T12:00:00\",\"2022-01-18T13:00:00\",\"2022-01-18T14:00:00\",\"2022-01-18T15:00:00\",\"2022-01-18T16:00:00\",\"2022-01-18T17:00:00\",\"2022-01-18T18:00:00\",\"2022-01-18T19:00:00\",\"2022-01-18T20:00:00\",\"2022-01-18T21:00:00\",\"2022-01-18T22:00:00\",\"2022-01-18T23:00:00\",\"2022-01-19T00:00:00\",\"2022-01-19T01:00:00\",\"2022-01-19T02:00:00\",\"2022-01-19T03:00:00\",\"2022-01-19T04:00:00\",\"2022-01-19T05:00:00\",\"2022-01-19T06:00:00\",\"2022-01-19T07:00:00\",\"2022-01-19T08:00:00\",\"2022-01-19T09:00:00\",\"2022-01-19T10:00:00\",\"2022-01-19T11:00:00\",\"2022-01-19T12:00:00\",\"2022-01-19T13:00:00\",\"2022-01-19T14:00:00\",\"2022-01-19T15:00:00\",\"2022-01-19T16:00:00\",\"2022-01-19T17:00:00\",\"2022-01-19T18:00:00\",\"2022-01-19T19:00:00\",\"2022-01-19T20:00:00\",\"2022-01-19T21:00:00\",\"2022-01-19T22:00:00\",\"2022-01-19T23:00:00\",\"2022-01-20T00:00:00\",\"2022-01-20T01:00:00\",\"2022-01-20T02:00:00\",\"2022-01-20T03:00:00\",\"2022-01-20T04:00:00\",\"2022-01-20T05:00:00\",\"2022-01-20T06:00:00\",\"2022-01-20T07:00:00\",\"2022-01-20T08:00:00\",\"2022-01-20T09:00:00\",\"2022-01-20T10:00:00\",\"2022-01-20T11:00:00\",\"2022-01-20T12:00:00\",\"2022-01-20T13:00:00\",\"2022-01-20T14:00:00\",\"2022-01-20T15:00:00\",\"2022-01-20T16:00:00\",\"2022-01-20T17:00:00\",\"2022-01-20T18:00:00\",\"2022-01-20T19:00:00\",\"2022-01-20T20:00:00\",\"2022-01-20T21:00:00\",\"2022-01-20T22:00:00\",\"2022-01-20T23:00:00\",\"2022-01-21T00:00:00\",\"2022-01-21T01:00:00\",\"2022-01-21T02:00:00\",\"2022-01-21T03:00:00\",\"2022-01-21T04:00:00\",\"2022-01-21T05:00:00\",\"2022-01-21T06:00:00\",\"2022-01-21T07:00:00\",\"2022-01-21T08:00:00\",\"2022-01-21T09:00:00\",\"2022-01-21T10:00:00\",\"2022-01-21T11:00:00\",\"2022-01-21T12:00:00\",\"2022-01-21T13:00:00\",\"2022-01-21T14:00:00\",\"2022-01-21T15:00:00\",\"2022-01-21T16:00:00\",\"2022-01-21T17:00:00\",\"2022-01-21T18:00:00\",\"2022-01-21T19:00:00\",\"2022-01-21T20:00:00\",\"2022-01-21T21:00:00\",\"2022-01-21T22:00:00\",\"2022-01-21T23:00:00\",\"2022-01-22T00:00:00\",\"2022-01-22T01:00:00\",\"2022-01-22T02:00:00\",\"2022-01-22T03:00:00\",\"2022-01-22T04:00:00\",\"2022-01-22T05:00:00\",\"2022-01-22T06:00:00\",\"2022-01-22T07:00:00\",\"2022-01-22T08:00:00\",\"2022-01-22T09:00:00\",\"2022-01-22T10:00:00\",\"2022-01-22T11:00:00\",\"2022-01-22T12:00:00\",\"2022-01-22T13:00:00\",\"2022-01-22T14:00:00\",\"2022-01-22T15:00:00\",\"2022-01-22T16:00:00\",\"2022-01-22T17:00:00\",\"2022-01-22T18:00:00\",\"2022-01-22T19:00:00\",\"2022-01-22T20:00:00\",\"2022-01-22T21:00:00\",\"2022-01-22T22:00:00\",\"2022-01-22T23:00:00\",\"2022-01-23T00:00:00\",\"2022-01-23T01:00:00\",\"2022-01-23T02:00:00\",\"2022-01-23T03:00:00\",\"2022-01-23T04:00:00\",\"2022-01-23T05:00:00\",\"2022-01-23T06:00:00\",\"2022-01-23T07:00:00\",\"2022-01-23T08:00:00\",\"2022-01-23T09:00:00\",\"2022-01-23T10:00:00\",\"2022-01-23T11:00:00\",\"2022-01-23T12:00:00\",\"2022-01-23T13:00:00\",\"2022-01-23T14:00:00\",\"2022-01-23T15:00:00\",\"2022-01-23T16:00:00\",\"2022-01-23T17:00:00\",\"2022-01-23T18:00:00\",\"2022-01-23T19:00:00\",\"2022-01-23T20:00:00\",\"2022-01-23T21:00:00\",\"2022-01-23T22:00:00\",\"2022-01-23T23:00:00\",\"2022-01-24T00:00:00\",\"2022-01-24T01:00:00\",\"2022-01-24T02:00:00\",\"2022-01-24T03:00:00\",\"2022-01-24T04:00:00\",\"2022-01-24T05:00:00\",\"2022-01-24T06:00:00\",\"2022-01-24T07:00:00\",\"2022-01-24T08:00:00\",\"2022-01-24T09:00:00\",\"2022-01-24T10:00:00\",\"2022-01-24T11:00:00\",\"2022-01-24T12:00:00\",\"2022-01-24T13:00:00\",\"2022-01-24T14:00:00\",\"2022-01-24T15:00:00\",\"2022-01-24T16:00:00\",\"2022-01-24T17:00:00\",\"2022-01-24T18:00:00\",\"2022-01-24T19:00:00\",\"2022-01-24T20:00:00\",\"2022-01-24T21:00:00\",\"2022-01-24T22:00:00\",\"2022-01-24T23:00:00\",\"2022-01-25T00:00:00\",\"2022-01-25T01:00:00\",\"2022-01-25T02:00:00\",\"2022-01-25T03:00:00\",\"2022-01-25T04:00:00\",\"2022-01-25T05:00:00\",\"2022-01-25T06:00:00\",\"2022-01-25T07:00:00\",\"2022-01-25T08:00:00\",\"2022-01-25T09:00:00\",\"2022-01-25T10:00:00\",\"2022-01-25T11:00:00\",\"2022-01-25T12:00:00\",\"2022-01-25T13:00:00\",\"2022-01-25T14:00:00\",\"2022-01-25T15:00:00\",\"2022-01-25T16:00:00\",\"2022-01-25T17:00:00\",\"2022-01-25T18:00:00\",\"2022-01-25T19:00:00\",\"2022-01-25T20:00:00\",\"2022-01-25T21:00:00\",\"2022-01-25T22:00:00\",\"2022-01-25T23:00:00\",\"2022-01-26T00:00:00\",\"2022-01-26T01:00:00\",\"2022-01-26T02:00:00\",\"2022-01-26T03:00:00\",\"2022-01-26T04:00:00\",\"2022-01-26T05:00:00\",\"2022-01-26T06:00:00\",\"2022-01-26T07:00:00\",\"2022-01-26T08:00:00\",\"2022-01-26T09:00:00\",\"2022-01-26T10:00:00\",\"2022-01-26T11:00:00\",\"2022-01-26T12:00:00\",\"2022-01-26T13:00:00\",\"2022-01-26T14:00:00\",\"2022-01-26T15:00:00\",\"2022-01-26T16:00:00\",\"2022-01-26T17:00:00\",\"2022-01-26T18:00:00\",\"2022-01-26T19:00:00\",\"2022-01-26T20:00:00\",\"2022-01-26T21:00:00\",\"2022-01-26T22:00:00\",\"2022-01-26T23:00:00\",\"2022-01-27T00:00:00\",\"2022-01-27T01:00:00\",\"2022-01-27T02:00:00\",\"2022-01-27T03:00:00\",\"2022-01-27T04:00:00\",\"2022-01-27T05:00:00\",\"2022-01-27T06:00:00\",\"2022-01-27T07:00:00\",\"2022-01-27T08:00:00\",\"2022-01-27T09:00:00\",\"2022-01-27T10:00:00\",\"2022-01-27T11:00:00\",\"2022-01-27T12:00:00\",\"2022-01-27T13:00:00\",\"2022-01-27T14:00:00\",\"2022-01-27T15:00:00\",\"2022-01-27T16:00:00\",\"2022-01-27T17:00:00\",\"2022-01-27T18:00:00\",\"2022-01-27T19:00:00\",\"2022-01-27T20:00:00\",\"2022-01-27T21:00:00\",\"2022-01-27T22:00:00\",\"2022-01-27T23:00:00\",\"2022-01-28T00:00:00\",\"2022-01-28T01:00:00\",\"2022-01-28T02:00:00\",\"2022-01-28T03:00:00\",\"2022-01-28T04:00:00\",\"2022-01-28T05:00:00\",\"2022-01-28T06:00:00\",\"2022-01-28T07:00:00\",\"2022-01-28T08:00:00\",\"2022-01-28T09:00:00\",\"2022-01-28T10:00:00\",\"2022-01-28T11:00:00\",\"2022-01-28T12:00:00\",\"2022-01-28T13:00:00\",\"2022-01-28T14:00:00\",\"2022-01-28T15:00:00\",\"2022-01-28T16:00:00\",\"2022-01-28T17:00:00\",\"2022-01-28T18:00:00\",\"2022-01-28T19:00:00\",\"2022-01-28T20:00:00\",\"2022-01-28T21:00:00\",\"2022-01-28T22:00:00\",\"2022-01-28T23:00:00\",\"2022-01-29T00:00:00\",\"2022-01-29T01:00:00\",\"2022-01-29T02:00:00\",\"2022-01-29T03:00:00\",\"2022-01-29T04:00:00\",\"2022-01-29T05:00:00\",\"2022-01-29T06:00:00\",\"2022-01-29T07:00:00\",\"2022-01-29T08:00:00\",\"2022-01-29T09:00:00\",\"2022-01-29T10:00:00\",\"2022-01-29T11:00:00\",\"2022-01-29T12:00:00\",\"2022-01-29T13:00:00\",\"2022-01-29T14:00:00\",\"2022-01-29T15:00:00\",\"2022-01-29T16:00:00\",\"2022-01-29T17:00:00\",\"2022-01-29T18:00:00\",\"2022-01-29T19:00:00\",\"2022-01-29T20:00:00\",\"2022-01-29T21:00:00\",\"2022-01-29T22:00:00\",\"2022-01-29T23:00:00\",\"2022-01-30T00:00:00\",\"2022-01-30T01:00:00\",\"2022-01-30T02:00:00\",\"2022-01-30T03:00:00\",\"2022-01-30T04:00:00\",\"2022-01-30T05:00:00\",\"2022-01-30T06:00:00\",\"2022-01-30T07:00:00\",\"2022-01-30T08:00:00\",\"2022-01-30T09:00:00\",\"2022-01-30T10:00:00\",\"2022-01-30T11:00:00\",\"2022-01-30T12:00:00\",\"2022-01-30T13:00:00\",\"2022-01-30T14:00:00\",\"2022-01-30T15:00:00\",\"2022-01-30T16:00:00\",\"2022-01-30T17:00:00\",\"2022-01-30T18:00:00\",\"2022-01-30T19:00:00\",\"2022-01-30T20:00:00\",\"2022-01-30T21:00:00\",\"2022-01-30T22:00:00\",\"2022-01-30T23:00:00\",\"2022-01-31T00:00:00\",\"2022-01-31T01:00:00\",\"2022-01-31T02:00:00\",\"2022-01-31T03:00:00\",\"2022-01-31T04:00:00\",\"2022-01-31T05:00:00\",\"2022-01-31T06:00:00\",\"2022-01-31T07:00:00\",\"2022-01-31T08:00:00\",\"2022-01-31T09:00:00\",\"2022-01-31T10:00:00\",\"2022-01-31T11:00:00\",\"2022-01-31T12:00:00\",\"2022-01-31T13:00:00\",\"2022-01-31T14:00:00\",\"2022-01-31T15:00:00\",\"2022-01-31T16:00:00\",\"2022-01-31T17:00:00\",\"2022-01-31T18:00:00\",\"2022-01-31T19:00:00\",\"2022-01-31T20:00:00\",\"2022-01-31T21:00:00\",\"2022-01-31T22:00:00\",\"2022-01-31T23:00:00\"],\"y\":[0.228458706,0.235804483,0.216377126,0.254585393,0.199023262,0.272675269,0.248843,0.217157823,0.257452804,0.247964324,0.213742939,0.233421134,0.174651169,0.200161419,0.229066365,0.225803531,0.217005384,0.22129924,0.169680938,0.158994872,0.197943465,0.196269394,0.191667838,0.196864413,0.150971138,0.187581468,0.168407762,0.183478154,0.174643158,0.197722489,0.167307,0.195593407,0.175999149,0.168568579,0.182996454,0.223113098,0.161557117,0.155993881,0.170073534,0.173812242,0.164646899,0.164452332,0.155441913,0.146142857,0.201740746,0.185157977,0.142440506,0.157567994,0.19524688,0.184694056,0.187413767,0.165783539,0.212679834,0.167316055,0.190834504,0.17183048,0.207934461,0.200320557,0.207968465,0.213462303,0.204297778,0.226934256,0.231681646,0.250016212,0.216490132,0.210666281,0.178918458,0.221055535,0.177767047,0.160240738,0.153788931,0.197620298,0.193556643,0.175975498,0.172287467,0.211653712,0.177452332,0.19327008,0.2058692,0.184715642,0.154740138,0.202721828,0.201928959,0.196972796,0.181503903,0.208843434,0.190536578,0.198250321,0.207056591,0.189357464,0.210828752,0.161639655,0.183192905,0.159292527,0.19299902,0.168266306,0.139252594,0.194235859,0.199968612,0.181091712,0.208271287,0.193201224,0.184497,0.194897603,0.193746924,0.190847082,0.179750893,0.201561478,0.151551879,0.207884136,0.178931976,0.16867294,0.180298152,0.209549518,0.144583605,0.165677245,0.118322597,0.079039048,0.112382562,0.112235604,0.10855368,0.118436893,0.131606957,0.14493676,0.106137017,0.10974015,0.124204167,0.114401966,0.118195543,0.112355294,0.120089276,0.125142617,0.135590672,0.141634037,0.167071951,0.142844526,0.126757095,0.136116734,0.130601352,0.142591713,0.132721932,0.143230456,0.16093452,0.117117654,0.134805331,0.140980428,0.133968406,0.113632798,0.088422213,0.143392195,0.105137484,0.103940409,0.149417381,0.166331572,0.13143488,0.123549725,0.141702795,0.148625895,0.104802968,0.147413368,0.115189202,0.15858662,0.132028706,0.119959622,0.151234278,0.147927934,0.144041858,0.135124207,0.127394293,0.162986565,0.135181636,0.162027002,0.165493117,0.143726609,0.127078795,0.150015217,0.134790353,0.137780665,0.149294456,0.135377457,0.098848489,0.117506428,0.15659525,0.147375618,0.146284234,0.108985772,0.126208655,0.123497973,0.133587982,0.11547485,0.116456148,0.130327744,0.134798187,0.150271935,0.129766475,0.168319582,0.154211133,0.147793038,0.144801174,0.091597045,0.125885625,0.170234444,0.170093004,0.15294495,0.164777256,0.155391667,0.178299356,0.162591392,0.215921967,0.144454126,0.181860121,0.146223166,0.159683049,0.147847619,0.200668153,0.122830516,0.173245646,0.141495464,0.155811132,0.177939623,0.151744397,0.178569712,0.181800959,0.172928205,0.14418427,0.175235529,0.146299599,0.169243485,0.107295286,0.124946465,0.122425731,0.143735517,0.161380754,0.165854532,0.131899301,0.159786383,0.167849953,0.162687525,0.160641368,0.137440452,0.159391885,0.159128154,0.191060203,0.178548024,0.192522435,0.151641865,0.182693728,0.169920758,0.175005749,0.178266324,0.160521839,0.18238677,0.181904454,0.182252484,0.189805882,0.168885547,0.166304779,0.151485754,0.166627674,0.139872886,0.13448181,0.173566094,0.181282861,0.166792208,0.18054908,0.168855329,0.155303885,0.164171581,0.189628834,0.173487922,0.165131124,0.199665362,0.169843048,0.178978471,0.151677575,0.152107194,0.164767258,0.174455428,0.185903769,0.169478028,0.195976115,0.184056222,0.190738446,0.175767031,0.199193103,0.171161804,0.151073886,0.193921622,0.162388906,0.198128413,0.155175536,0.192264122,0.165546598,0.199264912,0.195606164,0.189130472,0.178186678,0.193024902,0.140519586,0.186922942,0.172200418,0.199342472,0.22602009,0.178151327,0.1946541,0.164948563,0.20086288,0.181998982,0.183943853,0.187671325,0.168490809,0.144807134,0.134125345,0.134868646,0.177004382,0.203128238,0.17040985,0.152195455,0.167697351,0.168289686,0.176659926,0.176554307,0.133760839,0.136426087,0.159382577,0.182449571,0.169511392,0.191154657,0.19161479,0.155306748,0.183883236,0.195731635,0.193579605,0.201683668,0.196147638,0.172508864,0.185521329,0.166773875,0.175066348,0.168344496,0.137614039,0.138843275,0.172391803,0.163213587,0.195470071,0.183201176,0.173310269,0.147540748,0.201550501,0.188781541,0.190403163,0.181650367,0.199436293,0.196055118,0.167293239,0.203942801,0.175497711,0.1729,0.192575336,0.173165891,0.176241518,0.168465217,0.171745009,0.16264477,0.148454569,0.179990176,0.159410761,0.190234132,0.172443371,0.15132665,0.177938992,0.180887736,0.222430769,0.189441021,0.169703293,0.188455687,0.173697342,0.173482324,0.20306458,0.193064987,0.176695322,0.188187441,0.179591523,0.1843256,0.157118327,0.170785504,0.227400205,0.193645368,0.206916854,0.149322983,0.166288528,0.193844961,0.19058204,0.17704877,0.173626582,0.175940038,0.190987386,0.140553157,0.174714925,0.158818329,0.208515737,0.152280388,0.180687126,0.170944793,0.170604706,0.171194982,0.127372442,0.16700995,0.150134354,0.139074141,0.162595262,0.187013619,0.184368889,0.183163333,0.235194407,0.198364951,0.1606152,0.170214082,0.203263093,0.170578821,0.171466825,0.164436828,0.144059796,0.157808923,0.17045678,0.199831374,0.173704247,0.168238153,0.161480185,0.167184442,0.188635793,0.175171798,0.160604697,0.160339696,0.207540226,0.168099822,0.169551594,0.180402282,0.154140097,0.130140938,0.15906258,0.143917143,0.170341746,0.185201097,0.137151494,0.157067778,0.210096649,0.166339615,0.179750915,0.180576133,0.18204877,0.193148856,0.174371395,0.186248394,0.149184866,0.153093245,0.159697901,0.179685502,0.188945941,0.188952135,0.171195127,0.150315711,0.199125752,0.158352928,0.204886264,0.169750313,0.159760506,0.184431498,0.158260366,0.147741496,0.179282066,0.153738737,0.181459228,0.160218635,0.138851765,0.148269119,0.168511896,0.12373067,0.121954011,0.096319309,0.12019795,0.134552821,0.099082996,0.086326292,0.090227012,0.086930854,0.080999308,0.098281564,0.082484693,0.100194054,0.102479181,0.108033235,0.097456705,0.085358381,0.115767866,0.094019085,0.131911571,0.114006643,0.11497406,0.118677794,0.123811839,0.082963285,0.096534374,0.111742465,0.10088978,0.122070693,0.121454214,0.119515796,0.121365239,0.120368757,0.10434264,0.092272646,0.099686198,0.098810161,0.098941772,0.110942611,0.105073121,0.124823304,0.118731791,0.127741277,0.142957263,0.112226438,0.116063774,0.136128101,0.139856227,0.140598339,0.128075213,0.129674547,0.129854369,0.147616276,0.153402477,0.126133921,0.129436615,0.117766044,0.170902206,0.166720213,0.146321491,0.125326389,0.136990068,0.176210236,0.141999231,0.153840418,0.163936686,0.136126901,0.142258977,0.136228064,0.150308003,0.124827831,0.137858071,0.117303839,0.137288878,0.132283091,0.125265988,0.138539895,0.142026814,0.129,0.155614821,0.164300497,0.127500685,0.142317391,0.13311595,0.136179028,0.090339582,0.095528715,0.092913983,0.106370898,0.098981875,0.112634702,0.126017978,0.125689199,0.137366433,0.138266942,0.143910856,0.125866814,0.132631451,0.157533436,0.134219706,0.134929344,0.147345092,0.164307447,0.159557991,0.117616918,0.18088569,0.13607354,0.15186184,0.154816351,0.123061239,0.142467251,0.155198284,0.159615704,0.16050766,0.125225614,0.127878233,0.145713904,0.161227428,0.142226412,0.140245361,0.126481803,0.120952705,0.139236297,0.138178817,0.146645732,0.149427358,0.153515282,0.126018377,0.096666869,0.14356188,0.116493704,0.145315686,0.130616228,0.120915823,0.146660577,0.158476286,0.160050757,0.151981734,0.126858369,0.180642122,0.154953663,0.156223119,0.153931682,0.10170074,0.152194723,0.122433634,0.129454613,0.149141785,0.144545109,0.125657489,0.167577572,0.129329926,0.148305589,0.166835699,0.158357752,0.139665886,0.144640286,0.169632696,0.159661424,0.164956285,0.166619903,0.158739092,0.142839231,0.171591431,0.152381231,0.147991972,0.144788,0.153122723,0.140562069,0.122961333,0.145311765,0.137092401,0.139440336,0.114758934,0.192084783,0.209286185,0.159300753,0.169318012,0.190012731,0.17723181,0.215312184,0.21572016,0.189013729,0.158866579,0.180618674,0.20295397,0.160999526,0.153539106,0.139052343,0.192812212,0.184684245,0.17778142,0.17881316,0.197792369,0.157968278,0.149476323,0.168844109,0.175017321,0.176429711,0.214883274,0.177648842,0.169049393,0.169698807,0.161786931,0.162971366,0.199172867,0.169678077,0.175855422,0.149286076,0.190941082,0.146421192,0.171164452,0.209967407,0.204909395,0.193932125,0.179860591,0.18263075,0.178285358,0.176990468,0.172779352,0.160463867,0.146995229,0.130282952,0.227086224,0.159490571,0.193277596,0.147911141,0.165108467,0.162746929,0.18101069,0.152489786,0.178225444,0.217780744,0.220260124,0.167155267,0.182072656,0.204719176,0.156864349,0.178750126,0.169915457,0.168243111,0.185501246,0.164893432,0.151853922,0.123104561,0.159658365,0.161635667,0.153603529,0.143886241,0.157345588,0.173622472,0.166592665,0.139604887,0.117824277,0.169177113,0.15381683,0.119344054,0.166450123,0.162378002,0.138679149,0.16131213,0.171716535,0.183588028,0.19213575,0.161571154,0.174817664,0.179465828],\"type\":\"scatter\",\"xaxis\":\"x\",\"yaxis\":\"y2\"}],                        {\"template\":{\"data\":{\"histogram2dcontour\":[{\"type\":\"histogram2dcontour\",\"colorbar\":{\"outlinewidth\":0,\"ticks\":\"\"},\"colorscale\":[[0.0,\"#0d0887\"],[0.1111111111111111,\"#46039f\"],[0.2222222222222222,\"#7201a8\"],[0.3333333333333333,\"#9c179e\"],[0.4444444444444444,\"#bd3786\"],[0.5555555555555556,\"#d8576b\"],[0.6666666666666666,\"#ed7953\"],[0.7777777777777778,\"#fb9f3a\"],[0.8888888888888888,\"#fdca26\"],[1.0,\"#f0f921\"]]}],\"choropleth\":[{\"type\":\"choropleth\",\"colorbar\":{\"outlinewidth\":0,\"ticks\":\"\"}}],\"histogram2d\":[{\"type\":\"histogram2d\",\"colorbar\":{\"outlinewidth\":0,\"ticks\":\"\"},\"colorscale\":[[0.0,\"#0d0887\"],[0.1111111111111111,\"#46039f\"],[0.2222222222222222,\"#7201a8\"],[0.3333333333333333,\"#9c179e\"],[0.4444444444444444,\"#bd3786\"],[0.5555555555555556,\"#d8576b\"],[0.6666666666666666,\"#ed7953\"],[0.7777777777777778,\"#fb9f3a\"],[0.8888888888888888,\"#fdca26\"],[1.0,\"#f0f921\"]]}],\"heatmap\":[{\"type\":\"heatmap\",\"colorbar\":{\"outlinewidth\":0,\"ticks\":\"\"},\"colorscale\":[[0.0,\"#0d0887\"],[0.1111111111111111,\"#46039f\"],[0.2222222222222222,\"#7201a8\"],[0.3333333333333333,\"#9c179e\"],[0.4444444444444444,\"#bd3786\"],[0.5555555555555556,\"#d8576b\"],[0.6666666666666666,\"#ed7953\"],[0.7777777777777778,\"#fb9f3a\"],[0.8888888888888888,\"#fdca26\"],[1.0,\"#f0f921\"]]}],\"heatmapgl\":[{\"type\":\"heatmapgl\",\"colorbar\":{\"outlinewidth\":0,\"ticks\":\"\"},\"colorscale\":[[0.0,\"#0d0887\"],[0.1111111111111111,\"#46039f\"],[0.2222222222222222,\"#7201a8\"],[0.3333333333333333,\"#9c179e\"],[0.4444444444444444,\"#bd3786\"],[0.5555555555555556,\"#d8576b\"],[0.6666666666666666,\"#ed7953\"],[0.7777777777777778,\"#fb9f3a\"],[0.8888888888888888,\"#fdca26\"],[1.0,\"#f0f921\"]]}],\"contourcarpet\":[{\"type\":\"contourcarpet\",\"colorbar\":{\"outlinewidth\":0,\"ticks\":\"\"}}],\"contour\":[{\"type\":\"contour\",\"colorbar\":{\"outlinewidth\":0,\"ticks\":\"\"},\"colorscale\":[[0.0,\"#0d0887\"],[0.1111111111111111,\"#46039f\"],[0.2222222222222222,\"#7201a8\"],[0.3333333333333333,\"#9c179e\"],[0.4444444444444444,\"#bd3786\"],[0.5555555555555556,\"#d8576b\"],[0.6666666666666666,\"#ed7953\"],[0.7777777777777778,\"#fb9f3a\"],[0.8888888888888888,\"#fdca26\"],[1.0,\"#f0f921\"]]}],\"surface\":[{\"type\":\"surface\",\"colorbar\":{\"outlinewidth\":0,\"ticks\":\"\"},\"colorscale\":[[0.0,\"#0d0887\"],[0.1111111111111111,\"#46039f\"],[0.2222222222222222,\"#7201a8\"],[0.3333333333333333,\"#9c179e\"],[0.4444444444444444,\"#bd3786\"],[0.5555555555555556,\"#d8576b\"],[0.6666666666666666,\"#ed7953\"],[0.7777777777777778,\"#fb9f3a\"],[0.8888888888888888,\"#fdca26\"],[1.0,\"#f0f921\"]]}],\"mesh3d\":[{\"type\":\"mesh3d\",\"colorbar\":{\"outlinewidth\":0,\"ticks\":\"\"}}],\"scatter\":[{\"fillpattern\":{\"fillmode\":\"overlay\",\"size\":10,\"solidity\":0.2},\"type\":\"scatter\"}],\"parcoords\":[{\"type\":\"parcoords\",\"line\":{\"colorbar\":{\"outlinewidth\":0,\"ticks\":\"\"}}}],\"scatterpolargl\":[{\"type\":\"scatterpolargl\",\"marker\":{\"colorbar\":{\"outlinewidth\":0,\"ticks\":\"\"}}}],\"bar\":[{\"error_x\":{\"color\":\"#2a3f5f\"},\"error_y\":{\"color\":\"#2a3f5f\"},\"marker\":{\"line\":{\"color\":\"#E5ECF6\",\"width\":0.5},\"pattern\":{\"fillmode\":\"overlay\",\"size\":10,\"solidity\":0.2}},\"type\":\"bar\"}],\"scattergeo\":[{\"type\":\"scattergeo\",\"marker\":{\"colorbar\":{\"outlinewidth\":0,\"ticks\":\"\"}}}],\"scatterpolar\":[{\"type\":\"scatterpolar\",\"marker\":{\"colorbar\":{\"outlinewidth\":0,\"ticks\":\"\"}}}],\"histogram\":[{\"marker\":{\"pattern\":{\"fillmode\":\"overlay\",\"size\":10,\"solidity\":0.2}},\"type\":\"histogram\"}],\"scattergl\":[{\"type\":\"scattergl\",\"marker\":{\"colorbar\":{\"outlinewidth\":0,\"ticks\":\"\"}}}],\"scatter3d\":[{\"type\":\"scatter3d\",\"line\":{\"colorbar\":{\"outlinewidth\":0,\"ticks\":\"\"}},\"marker\":{\"colorbar\":{\"outlinewidth\":0,\"ticks\":\"\"}}}],\"scattermapbox\":[{\"type\":\"scattermapbox\",\"marker\":{\"colorbar\":{\"outlinewidth\":0,\"ticks\":\"\"}}}],\"scatterternary\":[{\"type\":\"scatterternary\",\"marker\":{\"colorbar\":{\"outlinewidth\":0,\"ticks\":\"\"}}}],\"scattercarpet\":[{\"type\":\"scattercarpet\",\"marker\":{\"colorbar\":{\"outlinewidth\":0,\"ticks\":\"\"}}}],\"carpet\":[{\"aaxis\":{\"endlinecolor\":\"#2a3f5f\",\"gridcolor\":\"white\",\"linecolor\":\"white\",\"minorgridcolor\":\"white\",\"startlinecolor\":\"#2a3f5f\"},\"baxis\":{\"endlinecolor\":\"#2a3f5f\",\"gridcolor\":\"white\",\"linecolor\":\"white\",\"minorgridcolor\":\"white\",\"startlinecolor\":\"#2a3f5f\"},\"type\":\"carpet\"}],\"table\":[{\"cells\":{\"fill\":{\"color\":\"#EBF0F8\"},\"line\":{\"color\":\"white\"}},\"header\":{\"fill\":{\"color\":\"#C8D4E3\"},\"line\":{\"color\":\"white\"}},\"type\":\"table\"}],\"barpolar\":[{\"marker\":{\"line\":{\"color\":\"#E5ECF6\",\"width\":0.5},\"pattern\":{\"fillmode\":\"overlay\",\"size\":10,\"solidity\":0.2}},\"type\":\"barpolar\"}],\"pie\":[{\"automargin\":true,\"type\":\"pie\"}]},\"layout\":{\"autotypenumbers\":\"strict\",\"colorway\":[\"#636efa\",\"#EF553B\",\"#00cc96\",\"#ab63fa\",\"#FFA15A\",\"#19d3f3\",\"#FF6692\",\"#B6E880\",\"#FF97FF\",\"#FECB52\"],\"font\":{\"color\":\"#2a3f5f\"},\"hovermode\":\"closest\",\"hoverlabel\":{\"align\":\"left\"},\"paper_bgcolor\":\"white\",\"plot_bgcolor\":\"#E5ECF6\",\"polar\":{\"bgcolor\":\"#E5ECF6\",\"angularaxis\":{\"gridcolor\":\"white\",\"linecolor\":\"white\",\"ticks\":\"\"},\"radialaxis\":{\"gridcolor\":\"white\",\"linecolor\":\"white\",\"ticks\":\"\"}},\"ternary\":{\"bgcolor\":\"#E5ECF6\",\"aaxis\":{\"gridcolor\":\"white\",\"linecolor\":\"white\",\"ticks\":\"\"},\"baxis\":{\"gridcolor\":\"white\",\"linecolor\":\"white\",\"ticks\":\"\"},\"caxis\":{\"gridcolor\":\"white\",\"linecolor\":\"white\",\"ticks\":\"\"}},\"coloraxis\":{\"colorbar\":{\"outlinewidth\":0,\"ticks\":\"\"}},\"colorscale\":{\"sequential\":[[0.0,\"#0d0887\"],[0.1111111111111111,\"#46039f\"],[0.2222222222222222,\"#7201a8\"],[0.3333333333333333,\"#9c179e\"],[0.4444444444444444,\"#bd3786\"],[0.5555555555555556,\"#d8576b\"],[0.6666666666666666,\"#ed7953\"],[0.7777777777777778,\"#fb9f3a\"],[0.8888888888888888,\"#fdca26\"],[1.0,\"#f0f921\"]],\"sequentialminus\":[[0.0,\"#0d0887\"],[0.1111111111111111,\"#46039f\"],[0.2222222222222222,\"#7201a8\"],[0.3333333333333333,\"#9c179e\"],[0.4444444444444444,\"#bd3786\"],[0.5555555555555556,\"#d8576b\"],[0.6666666666666666,\"#ed7953\"],[0.7777777777777778,\"#fb9f3a\"],[0.8888888888888888,\"#fdca26\"],[1.0,\"#f0f921\"]],\"diverging\":[[0,\"#8e0152\"],[0.1,\"#c51b7d\"],[0.2,\"#de77ae\"],[0.3,\"#f1b6da\"],[0.4,\"#fde0ef\"],[0.5,\"#f7f7f7\"],[0.6,\"#e6f5d0\"],[0.7,\"#b8e186\"],[0.8,\"#7fbc41\"],[0.9,\"#4d9221\"],[1,\"#276419\"]]},\"xaxis\":{\"gridcolor\":\"white\",\"linecolor\":\"white\",\"ticks\":\"\",\"title\":{\"standoff\":15},\"zerolinecolor\":\"white\",\"automargin\":true,\"zerolinewidth\":2},\"yaxis\":{\"gridcolor\":\"white\",\"linecolor\":\"white\",\"ticks\":\"\",\"title\":{\"standoff\":15},\"zerolinecolor\":\"white\",\"automargin\":true,\"zerolinewidth\":2},\"scene\":{\"xaxis\":{\"backgroundcolor\":\"#E5ECF6\",\"gridcolor\":\"white\",\"linecolor\":\"white\",\"showbackground\":true,\"ticks\":\"\",\"zerolinecolor\":\"white\",\"gridwidth\":2},\"yaxis\":{\"backgroundcolor\":\"#E5ECF6\",\"gridcolor\":\"white\",\"linecolor\":\"white\",\"showbackground\":true,\"ticks\":\"\",\"zerolinecolor\":\"white\",\"gridwidth\":2},\"zaxis\":{\"backgroundcolor\":\"#E5ECF6\",\"gridcolor\":\"white\",\"linecolor\":\"white\",\"showbackground\":true,\"ticks\":\"\",\"zerolinecolor\":\"white\",\"gridwidth\":2}},\"shapedefaults\":{\"line\":{\"color\":\"#2a3f5f\"}},\"annotationdefaults\":{\"arrowcolor\":\"#2a3f5f\",\"arrowhead\":0,\"arrowwidth\":1},\"geo\":{\"bgcolor\":\"white\",\"landcolor\":\"#E5ECF6\",\"subunitcolor\":\"white\",\"showland\":true,\"showlakes\":true,\"lakecolor\":\"white\"},\"title\":{\"x\":0.05},\"mapbox\":{\"style\":\"light\"}}},\"xaxis\":{\"anchor\":\"y\",\"domain\":[0.0,0.94],\"title\":{\"text\":\"Datetime\"}},\"yaxis\":{\"anchor\":\"x\",\"domain\":[0.0,1.0],\"title\":{\"text\":\"Bitcoin Price\"}},\"yaxis2\":{\"anchor\":\"x\",\"overlaying\":\"y\",\"side\":\"right\",\"title\":{\"text\":\"Compound score\"}},\"title\":{\"text\":\"Bitcoin and Tweets compound score\"},\"width\":800,\"height\":600},                        {\"responsive\": true}                    ).then(function(){\n                            \nvar gd = document.getElementById('d03e65d1-4997-4dff-b989-bc119374b82f');\nvar x = new MutationObserver(function (mutations, observer) {{\n        var display = window.getComputedStyle(gd).display;\n        if (!display || display === 'none') {{\n            console.log([gd, 'removed!']);\n            Plotly.purge(gd);\n            observer.disconnect();\n        }}\n}});\n\n// Listen for the removal of the full notebook cells\nvar notebookContainer = gd.closest('#notebook-container');\nif (notebookContainer) {{\n    x.observe(notebookContainer, {childList: true});\n}}\n\n// Listen for the clearing of the current output cell\nvar outputEl = gd.closest('.output');\nif (outputEl) {{\n    x.observe(outputEl, {childList: true});\n}}\n\n                        })                };                });            </script>        </div>"
     },
     "metadata": {},
     "output_type": "display_data"
    }
   ],
   "source": [
    "x= bitcoin_new.index\n",
    "y1=bitcoin_new['Close']\n",
    "y2=bitcoin_new['tw_compound']\n",
    "name1=\"Bitcoin Price\"\n",
    "name2=\"Tweets compound score\"\n",
    "axes1= \"Bitcoin Price\"\n",
    "axes2=\"Compound score\"\n",
    "plot_chart(x, y1, y2, name1, name2, axes1, axes2)"
   ],
   "metadata": {
    "collapsed": false,
    "pycharm": {
     "name": "#%%\n"
    }
   }
  },
  {
   "cell_type": "code",
   "execution_count": null,
   "outputs": [],
   "source": [],
   "metadata": {
    "collapsed": false,
    "pycharm": {
     "name": "#%%\n"
    }
   }
  }
 ],
 "metadata": {
  "kernelspec": {
   "display_name": "Python 3",
   "language": "python",
   "name": "python3"
  },
  "language_info": {
   "codemirror_mode": {
    "name": "ipython",
    "version": 2
   },
   "file_extension": ".py",
   "mimetype": "text/x-python",
   "name": "python",
   "nbconvert_exporter": "python",
   "pygments_lexer": "ipython2",
   "version": "2.7.6"
  }
 },
 "nbformat": 4,
 "nbformat_minor": 0
}