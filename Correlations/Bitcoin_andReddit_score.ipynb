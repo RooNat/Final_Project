{
 "cells": [
  {
   "cell_type": "markdown",
   "source": [
    "# Reddit Sentiment Score Selection"
   ],
   "metadata": {
    "collapsed": false,
    "pycharm": {
     "name": "#%% md\n"
    }
   }
  },
  {
   "cell_type": "code",
   "execution_count": 13,
   "outputs": [],
   "source": [
    "import pandas as pd\n",
    "import numpy as np"
   ],
   "metadata": {
    "collapsed": false,
    "pycharm": {
     "name": "#%%\n"
    }
   }
  },
  {
   "cell_type": "code",
   "execution_count": 14,
   "outputs": [
    {
     "data": {
      "text/plain": "                         Open      High       Low     Close     Volume  \\\ndatetime                                                                 \n2022-01-01 00:00:00  46210.57  46729.73  46210.55  46650.01   8957.465   \n2022-01-01 01:00:00  46650.00  46944.56  46570.34  46766.78   7276.249   \n2022-01-01 02:00:00  46767.44  46917.87  46709.44  46796.14   4478.713   \n2022-01-01 03:00:00  46796.15  46888.00  46746.32  46789.56   4208.992   \n2022-01-01 04:00:00  46789.55  46868.74  46605.00  46690.81   6149.298   \n...                       ...       ...       ...       ...        ...   \n2022-06-30 19:00:00  19092.90  19113.40  18951.10  18962.10  20425.187   \n2022-06-30 20:00:00  18962.10  19038.20  18843.00  18921.30  32033.326   \n2022-06-30 21:00:00  18921.30  19064.70  18563.00  18742.90  43214.413   \n2022-06-30 22:00:00  18742.90  18961.00  18711.00  18812.60  34372.158   \n2022-06-30 23:00:00  18812.70  18944.80  18730.00  18885.00  25171.476   \n\n                     google_trends  tw_compound  tw_polarity  tw_subjectivity  \\\ndatetime                                                                        \n2022-01-01 00:00:00      71.000000     0.228459     0.127819         0.399377   \n2022-01-01 01:00:00      74.227273     0.235804     0.115225         0.380319   \n2022-01-01 02:00:00      74.227273     0.216377     0.094649         0.391375   \n2022-01-01 03:00:00      61.318182     0.254585     0.124391         0.376654   \n2022-01-01 04:00:00      61.318182     0.199023     0.106416         0.405293   \n...                            ...          ...          ...              ...   \n2022-06-30 19:00:00     112.036340     0.097033     0.062959         0.339059   \n2022-06-30 20:00:00     117.932989     0.096938     0.049762         0.366837   \n2022-06-30 21:00:00     115.574329     0.112159     0.054471         0.355057   \n2022-06-30 22:00:00     115.574329     0.104823     0.061164         0.362953   \n2022-06-30 23:00:00     100.243041     0.097806     0.061618         0.358823   \n\n                     tweet_volume  re_compound  re_polarity  re_subjectivity  \ndatetime                                                                      \n2022-01-01 00:00:00        1314.0     0.806147     0.106285         0.464971  \n2022-01-01 01:00:00        1064.0     0.523754     0.165466         0.469433  \n2022-01-01 02:00:00         986.0     0.404721    -0.003025         0.499500  \n2022-01-01 03:00:00         942.0     0.307653     0.129557         0.461581  \n2022-01-01 04:00:00         832.0     0.682042     0.108311         0.422146  \n...                           ...          ...          ...              ...  \n2022-06-30 19:00:00        2032.0     0.537786     0.112709         0.459895  \n2022-06-30 20:00:00        2225.0     0.456615     0.075858         0.494026  \n2022-06-30 21:00:00        2159.0     0.786424     0.053945         0.433892  \n2022-06-30 22:00:00        1948.0     0.375062     0.086258         0.452399  \n2022-06-30 23:00:00        1803.0     0.945668     0.091818         0.494242  \n\n[4344 rows x 13 columns]",
      "text/html": "<div>\n<style scoped>\n    .dataframe tbody tr th:only-of-type {\n        vertical-align: middle;\n    }\n\n    .dataframe tbody tr th {\n        vertical-align: top;\n    }\n\n    .dataframe thead th {\n        text-align: right;\n    }\n</style>\n<table border=\"1\" class=\"dataframe\">\n  <thead>\n    <tr style=\"text-align: right;\">\n      <th></th>\n      <th>Open</th>\n      <th>High</th>\n      <th>Low</th>\n      <th>Close</th>\n      <th>Volume</th>\n      <th>google_trends</th>\n      <th>tw_compound</th>\n      <th>tw_polarity</th>\n      <th>tw_subjectivity</th>\n      <th>tweet_volume</th>\n      <th>re_compound</th>\n      <th>re_polarity</th>\n      <th>re_subjectivity</th>\n    </tr>\n    <tr>\n      <th>datetime</th>\n      <th></th>\n      <th></th>\n      <th></th>\n      <th></th>\n      <th></th>\n      <th></th>\n      <th></th>\n      <th></th>\n      <th></th>\n      <th></th>\n      <th></th>\n      <th></th>\n      <th></th>\n    </tr>\n  </thead>\n  <tbody>\n    <tr>\n      <th>2022-01-01 00:00:00</th>\n      <td>46210.57</td>\n      <td>46729.73</td>\n      <td>46210.55</td>\n      <td>46650.01</td>\n      <td>8957.465</td>\n      <td>71.000000</td>\n      <td>0.228459</td>\n      <td>0.127819</td>\n      <td>0.399377</td>\n      <td>1314.0</td>\n      <td>0.806147</td>\n      <td>0.106285</td>\n      <td>0.464971</td>\n    </tr>\n    <tr>\n      <th>2022-01-01 01:00:00</th>\n      <td>46650.00</td>\n      <td>46944.56</td>\n      <td>46570.34</td>\n      <td>46766.78</td>\n      <td>7276.249</td>\n      <td>74.227273</td>\n      <td>0.235804</td>\n      <td>0.115225</td>\n      <td>0.380319</td>\n      <td>1064.0</td>\n      <td>0.523754</td>\n      <td>0.165466</td>\n      <td>0.469433</td>\n    </tr>\n    <tr>\n      <th>2022-01-01 02:00:00</th>\n      <td>46767.44</td>\n      <td>46917.87</td>\n      <td>46709.44</td>\n      <td>46796.14</td>\n      <td>4478.713</td>\n      <td>74.227273</td>\n      <td>0.216377</td>\n      <td>0.094649</td>\n      <td>0.391375</td>\n      <td>986.0</td>\n      <td>0.404721</td>\n      <td>-0.003025</td>\n      <td>0.499500</td>\n    </tr>\n    <tr>\n      <th>2022-01-01 03:00:00</th>\n      <td>46796.15</td>\n      <td>46888.00</td>\n      <td>46746.32</td>\n      <td>46789.56</td>\n      <td>4208.992</td>\n      <td>61.318182</td>\n      <td>0.254585</td>\n      <td>0.124391</td>\n      <td>0.376654</td>\n      <td>942.0</td>\n      <td>0.307653</td>\n      <td>0.129557</td>\n      <td>0.461581</td>\n    </tr>\n    <tr>\n      <th>2022-01-01 04:00:00</th>\n      <td>46789.55</td>\n      <td>46868.74</td>\n      <td>46605.00</td>\n      <td>46690.81</td>\n      <td>6149.298</td>\n      <td>61.318182</td>\n      <td>0.199023</td>\n      <td>0.106416</td>\n      <td>0.405293</td>\n      <td>832.0</td>\n      <td>0.682042</td>\n      <td>0.108311</td>\n      <td>0.422146</td>\n    </tr>\n    <tr>\n      <th>...</th>\n      <td>...</td>\n      <td>...</td>\n      <td>...</td>\n      <td>...</td>\n      <td>...</td>\n      <td>...</td>\n      <td>...</td>\n      <td>...</td>\n      <td>...</td>\n      <td>...</td>\n      <td>...</td>\n      <td>...</td>\n      <td>...</td>\n    </tr>\n    <tr>\n      <th>2022-06-30 19:00:00</th>\n      <td>19092.90</td>\n      <td>19113.40</td>\n      <td>18951.10</td>\n      <td>18962.10</td>\n      <td>20425.187</td>\n      <td>112.036340</td>\n      <td>0.097033</td>\n      <td>0.062959</td>\n      <td>0.339059</td>\n      <td>2032.0</td>\n      <td>0.537786</td>\n      <td>0.112709</td>\n      <td>0.459895</td>\n    </tr>\n    <tr>\n      <th>2022-06-30 20:00:00</th>\n      <td>18962.10</td>\n      <td>19038.20</td>\n      <td>18843.00</td>\n      <td>18921.30</td>\n      <td>32033.326</td>\n      <td>117.932989</td>\n      <td>0.096938</td>\n      <td>0.049762</td>\n      <td>0.366837</td>\n      <td>2225.0</td>\n      <td>0.456615</td>\n      <td>0.075858</td>\n      <td>0.494026</td>\n    </tr>\n    <tr>\n      <th>2022-06-30 21:00:00</th>\n      <td>18921.30</td>\n      <td>19064.70</td>\n      <td>18563.00</td>\n      <td>18742.90</td>\n      <td>43214.413</td>\n      <td>115.574329</td>\n      <td>0.112159</td>\n      <td>0.054471</td>\n      <td>0.355057</td>\n      <td>2159.0</td>\n      <td>0.786424</td>\n      <td>0.053945</td>\n      <td>0.433892</td>\n    </tr>\n    <tr>\n      <th>2022-06-30 22:00:00</th>\n      <td>18742.90</td>\n      <td>18961.00</td>\n      <td>18711.00</td>\n      <td>18812.60</td>\n      <td>34372.158</td>\n      <td>115.574329</td>\n      <td>0.104823</td>\n      <td>0.061164</td>\n      <td>0.362953</td>\n      <td>1948.0</td>\n      <td>0.375062</td>\n      <td>0.086258</td>\n      <td>0.452399</td>\n    </tr>\n    <tr>\n      <th>2022-06-30 23:00:00</th>\n      <td>18812.70</td>\n      <td>18944.80</td>\n      <td>18730.00</td>\n      <td>18885.00</td>\n      <td>25171.476</td>\n      <td>100.243041</td>\n      <td>0.097806</td>\n      <td>0.061618</td>\n      <td>0.358823</td>\n      <td>1803.0</td>\n      <td>0.945668</td>\n      <td>0.091818</td>\n      <td>0.494242</td>\n    </tr>\n  </tbody>\n</table>\n<p>4344 rows × 13 columns</p>\n</div>"
     },
     "metadata": {},
     "output_type": "display_data"
    },
    {
     "data": {
      "text/plain": "                         Open      High       Low     Close     Volume  \\\ndatetime                                                                 \n2022-01-01 00:00:00  46210.57  46729.73  46210.55  46650.01   8957.465   \n2022-01-01 01:00:00  46650.00  46944.56  46570.34  46766.78   7276.249   \n2022-01-01 02:00:00  46767.44  46917.87  46709.44  46796.14   4478.713   \n2022-01-01 03:00:00  46796.15  46888.00  46746.32  46789.56   4208.992   \n2022-01-01 04:00:00  46789.55  46868.74  46605.00  46690.81   6149.298   \n...                       ...       ...       ...       ...        ...   \n2022-06-30 19:00:00  19092.90  19113.40  18951.10  18962.10  20425.187   \n2022-06-30 20:00:00  18962.10  19038.20  18843.00  18921.30  32033.326   \n2022-06-30 21:00:00  18921.30  19064.70  18563.00  18742.90  43214.413   \n2022-06-30 22:00:00  18742.90  18961.00  18711.00  18812.60  34372.158   \n2022-06-30 23:00:00  18812.70  18944.80  18730.00  18885.00  25171.476   \n\n                     google_trends  tw_compound  tw_polarity  tw_subjectivity  \\\ndatetime                                                                        \n2022-01-01 00:00:00      71.000000     0.228459     0.127819         0.399377   \n2022-01-01 01:00:00      74.227273     0.235804     0.115225         0.380319   \n2022-01-01 02:00:00      74.227273     0.216377     0.094649         0.391375   \n2022-01-01 03:00:00      61.318182     0.254585     0.124391         0.376654   \n2022-01-01 04:00:00      61.318182     0.199023     0.106416         0.405293   \n...                            ...          ...          ...              ...   \n2022-06-30 19:00:00     112.036340     0.097033     0.062959         0.339059   \n2022-06-30 20:00:00     117.932989     0.096938     0.049762         0.366837   \n2022-06-30 21:00:00     115.574329     0.112159     0.054471         0.355057   \n2022-06-30 22:00:00     115.574329     0.104823     0.061164         0.362953   \n2022-06-30 23:00:00     100.243041     0.097806     0.061618         0.358823   \n\n                     tweet_volume  re_compound  re_polarity  re_subjectivity  \ndatetime                                                                      \n2022-01-01 00:00:00        1314.0     0.816894     0.106285         0.464971  \n2022-01-01 01:00:00        1064.0     0.523900     0.165466         0.469433  \n2022-01-01 02:00:00         986.0     0.415686    -0.003025         0.499500  \n2022-01-01 03:00:00         942.0     0.323871     0.129557         0.461581  \n2022-01-01 04:00:00         832.0     0.717750     0.108311         0.422146  \n...                           ...          ...          ...              ...  \n2022-06-30 19:00:00        2032.0     0.522200     0.112709         0.459895  \n2022-06-30 20:00:00        2225.0     0.386614     0.075858         0.494026  \n2022-06-30 21:00:00        2159.0     0.786880     0.053945         0.433892  \n2022-06-30 22:00:00        1948.0     0.428250     0.086258         0.452399  \n2022-06-30 23:00:00        1803.0     0.949000     0.091818         0.494242  \n\n[4344 rows x 13 columns]",
      "text/html": "<div>\n<style scoped>\n    .dataframe tbody tr th:only-of-type {\n        vertical-align: middle;\n    }\n\n    .dataframe tbody tr th {\n        vertical-align: top;\n    }\n\n    .dataframe thead th {\n        text-align: right;\n    }\n</style>\n<table border=\"1\" class=\"dataframe\">\n  <thead>\n    <tr style=\"text-align: right;\">\n      <th></th>\n      <th>Open</th>\n      <th>High</th>\n      <th>Low</th>\n      <th>Close</th>\n      <th>Volume</th>\n      <th>google_trends</th>\n      <th>tw_compound</th>\n      <th>tw_polarity</th>\n      <th>tw_subjectivity</th>\n      <th>tweet_volume</th>\n      <th>re_compound</th>\n      <th>re_polarity</th>\n      <th>re_subjectivity</th>\n    </tr>\n    <tr>\n      <th>datetime</th>\n      <th></th>\n      <th></th>\n      <th></th>\n      <th></th>\n      <th></th>\n      <th></th>\n      <th></th>\n      <th></th>\n      <th></th>\n      <th></th>\n      <th></th>\n      <th></th>\n      <th></th>\n    </tr>\n  </thead>\n  <tbody>\n    <tr>\n      <th>2022-01-01 00:00:00</th>\n      <td>46210.57</td>\n      <td>46729.73</td>\n      <td>46210.55</td>\n      <td>46650.01</td>\n      <td>8957.465</td>\n      <td>71.000000</td>\n      <td>0.228459</td>\n      <td>0.127819</td>\n      <td>0.399377</td>\n      <td>1314.0</td>\n      <td>0.816894</td>\n      <td>0.106285</td>\n      <td>0.464971</td>\n    </tr>\n    <tr>\n      <th>2022-01-01 01:00:00</th>\n      <td>46650.00</td>\n      <td>46944.56</td>\n      <td>46570.34</td>\n      <td>46766.78</td>\n      <td>7276.249</td>\n      <td>74.227273</td>\n      <td>0.235804</td>\n      <td>0.115225</td>\n      <td>0.380319</td>\n      <td>1064.0</td>\n      <td>0.523900</td>\n      <td>0.165466</td>\n      <td>0.469433</td>\n    </tr>\n    <tr>\n      <th>2022-01-01 02:00:00</th>\n      <td>46767.44</td>\n      <td>46917.87</td>\n      <td>46709.44</td>\n      <td>46796.14</td>\n      <td>4478.713</td>\n      <td>74.227273</td>\n      <td>0.216377</td>\n      <td>0.094649</td>\n      <td>0.391375</td>\n      <td>986.0</td>\n      <td>0.415686</td>\n      <td>-0.003025</td>\n      <td>0.499500</td>\n    </tr>\n    <tr>\n      <th>2022-01-01 03:00:00</th>\n      <td>46796.15</td>\n      <td>46888.00</td>\n      <td>46746.32</td>\n      <td>46789.56</td>\n      <td>4208.992</td>\n      <td>61.318182</td>\n      <td>0.254585</td>\n      <td>0.124391</td>\n      <td>0.376654</td>\n      <td>942.0</td>\n      <td>0.323871</td>\n      <td>0.129557</td>\n      <td>0.461581</td>\n    </tr>\n    <tr>\n      <th>2022-01-01 04:00:00</th>\n      <td>46789.55</td>\n      <td>46868.74</td>\n      <td>46605.00</td>\n      <td>46690.81</td>\n      <td>6149.298</td>\n      <td>61.318182</td>\n      <td>0.199023</td>\n      <td>0.106416</td>\n      <td>0.405293</td>\n      <td>832.0</td>\n      <td>0.717750</td>\n      <td>0.108311</td>\n      <td>0.422146</td>\n    </tr>\n    <tr>\n      <th>...</th>\n      <td>...</td>\n      <td>...</td>\n      <td>...</td>\n      <td>...</td>\n      <td>...</td>\n      <td>...</td>\n      <td>...</td>\n      <td>...</td>\n      <td>...</td>\n      <td>...</td>\n      <td>...</td>\n      <td>...</td>\n      <td>...</td>\n    </tr>\n    <tr>\n      <th>2022-06-30 19:00:00</th>\n      <td>19092.90</td>\n      <td>19113.40</td>\n      <td>18951.10</td>\n      <td>18962.10</td>\n      <td>20425.187</td>\n      <td>112.036340</td>\n      <td>0.097033</td>\n      <td>0.062959</td>\n      <td>0.339059</td>\n      <td>2032.0</td>\n      <td>0.522200</td>\n      <td>0.112709</td>\n      <td>0.459895</td>\n    </tr>\n    <tr>\n      <th>2022-06-30 20:00:00</th>\n      <td>18962.10</td>\n      <td>19038.20</td>\n      <td>18843.00</td>\n      <td>18921.30</td>\n      <td>32033.326</td>\n      <td>117.932989</td>\n      <td>0.096938</td>\n      <td>0.049762</td>\n      <td>0.366837</td>\n      <td>2225.0</td>\n      <td>0.386614</td>\n      <td>0.075858</td>\n      <td>0.494026</td>\n    </tr>\n    <tr>\n      <th>2022-06-30 21:00:00</th>\n      <td>18921.30</td>\n      <td>19064.70</td>\n      <td>18563.00</td>\n      <td>18742.90</td>\n      <td>43214.413</td>\n      <td>115.574329</td>\n      <td>0.112159</td>\n      <td>0.054471</td>\n      <td>0.355057</td>\n      <td>2159.0</td>\n      <td>0.786880</td>\n      <td>0.053945</td>\n      <td>0.433892</td>\n    </tr>\n    <tr>\n      <th>2022-06-30 22:00:00</th>\n      <td>18742.90</td>\n      <td>18961.00</td>\n      <td>18711.00</td>\n      <td>18812.60</td>\n      <td>34372.158</td>\n      <td>115.574329</td>\n      <td>0.104823</td>\n      <td>0.061164</td>\n      <td>0.362953</td>\n      <td>1948.0</td>\n      <td>0.428250</td>\n      <td>0.086258</td>\n      <td>0.452399</td>\n    </tr>\n    <tr>\n      <th>2022-06-30 23:00:00</th>\n      <td>18812.70</td>\n      <td>18944.80</td>\n      <td>18730.00</td>\n      <td>18885.00</td>\n      <td>25171.476</td>\n      <td>100.243041</td>\n      <td>0.097806</td>\n      <td>0.061618</td>\n      <td>0.358823</td>\n      <td>1803.0</td>\n      <td>0.949000</td>\n      <td>0.091818</td>\n      <td>0.494242</td>\n    </tr>\n  </tbody>\n</table>\n<p>4344 rows × 13 columns</p>\n</div>"
     },
     "metadata": {},
     "output_type": "display_data"
    }
   ],
   "source": [
    "close_data_1=pd.read_csv('./../data/processed_data.csv')\n",
    "close_data_1.rename(columns={'Unnamed: 0': 'datetime'},inplace=True)\n",
    "close_data_1['datetime']=pd.to_datetime(close_data_1['datetime'])\n",
    "close_data_1.set_index('datetime',inplace=True)\n",
    "display(close_data_1)\n",
    "\n",
    "close_data_2=pd.read_csv('./../data/processed_data4_without_weight.csv')\n",
    "close_data_2.rename(columns={'Unnamed: 0': 'datetime'},inplace=True)\n",
    "close_data_2['datetime']=pd.to_datetime(close_data_2['datetime'])\n",
    "close_data_2.set_index('datetime',inplace=True)\n",
    "display(close_data_2)"
   ],
   "metadata": {
    "collapsed": false,
    "pycharm": {
     "name": "#%%\n"
    }
   }
  },
  {
   "cell_type": "markdown",
   "source": [],
   "metadata": {
    "collapsed": false,
    "pycharm": {
     "name": "#%% md\n"
    }
   }
  },
  {
   "cell_type": "code",
   "execution_count": 15,
   "outputs": [],
   "source": [
    "def get_data(close_data_2, close_data_1, month):\n",
    "    sub_data_1=close_data_1[(close_data_1.index.month>=1) & (close_data_1.index.month <=month)]\n",
    "    sub_data_2=close_data_2[(close_data_2.index.month>=1) & (close_data_2.index.month <=month)]\n",
    "    sub_data_2.rename(columns={'Close':'Close2','re_compound':'re_compound2','re_polarity':'re_polarity2'}, inplace=True)\n",
    "    bitcoindata=pd.concat([sub_data_1,sub_data_2], axis=1)\n",
    "    # keep the useful columns\n",
    "    columns_keep=['Close','re_compound','re_compound2','re_polarity','re_polarity2',]\n",
    "    columns=list(bitcoindata.columns.values)\n",
    "    for i in columns_keep:\n",
    "        columns.remove(i)\n",
    "\n",
    "    bitcoin_new=bitcoindata.drop(columns=columns)\n",
    "    return bitcoin_new"
   ],
   "metadata": {
    "collapsed": false,
    "pycharm": {
     "name": "#%%\n"
    }
   }
  },
  {
   "cell_type": "code",
   "execution_count": 16,
   "outputs": [
    {
     "name": "stderr",
     "output_type": "stream",
     "text": [
      "  0%|          | 0/6 [00:00<?, ?it/s]/var/folders/vp/8_rd4_c56g3dpqb1167z6tqr0000gn/T/ipykernel_11604/1355470217.py:4: SettingWithCopyWarning:\n",
      "\n",
      "\n",
      "A value is trying to be set on a copy of a slice from a DataFrame\n",
      "\n",
      "See the caveats in the documentation: https://pandas.pydata.org/pandas-docs/stable/user_guide/indexing.html#returning-a-view-versus-a-copy\n",
      "\n",
      "/var/folders/vp/8_rd4_c56g3dpqb1167z6tqr0000gn/T/ipykernel_11604/1355470217.py:4: SettingWithCopyWarning:\n",
      "\n",
      "\n",
      "A value is trying to be set on a copy of a slice from a DataFrame\n",
      "\n",
      "See the caveats in the documentation: https://pandas.pydata.org/pandas-docs/stable/user_guide/indexing.html#returning-a-view-versus-a-copy\n",
      "\n",
      "/var/folders/vp/8_rd4_c56g3dpqb1167z6tqr0000gn/T/ipykernel_11604/1355470217.py:4: SettingWithCopyWarning:\n",
      "\n",
      "\n",
      "A value is trying to be set on a copy of a slice from a DataFrame\n",
      "\n",
      "See the caveats in the documentation: https://pandas.pydata.org/pandas-docs/stable/user_guide/indexing.html#returning-a-view-versus-a-copy\n",
      "\n",
      "/var/folders/vp/8_rd4_c56g3dpqb1167z6tqr0000gn/T/ipykernel_11604/1355470217.py:4: SettingWithCopyWarning:\n",
      "\n",
      "\n",
      "A value is trying to be set on a copy of a slice from a DataFrame\n",
      "\n",
      "See the caveats in the documentation: https://pandas.pydata.org/pandas-docs/stable/user_guide/indexing.html#returning-a-view-versus-a-copy\n",
      "\n",
      "/var/folders/vp/8_rd4_c56g3dpqb1167z6tqr0000gn/T/ipykernel_11604/1355470217.py:4: SettingWithCopyWarning:\n",
      "\n",
      "\n",
      "A value is trying to be set on a copy of a slice from a DataFrame\n",
      "\n",
      "See the caveats in the documentation: https://pandas.pydata.org/pandas-docs/stable/user_guide/indexing.html#returning-a-view-versus-a-copy\n",
      "\n",
      "100%|██████████| 6/6 [00:00<00:00, 360.80it/s]\n"
     ]
    }
   ],
   "source": [
    "import matplotlib.pyplot as plt\n",
    "import seaborn as sns\n",
    "from sklearn.preprocessing import MinMaxScaler\n",
    "import plotly.express as px\n",
    "# sns.heatmap(bitcoin_new_google.corr(method='spearman'), annot=True)\n",
    "month=[1,2,3,4,5,6]\n",
    "from tqdm import tqdm\n",
    "results=[]\n",
    "for m in tqdm(month, total=len(month)):\n",
    "    data=get_data(close_data_2,close_data_1, m)\n",
    "    correlation=data.corr(method='spearman')\n",
    "    results.append({\"Months\":m, \"re_compound\": correlation['Close']['re_compound'],\"re_compound2\": correlation['Close']['re_compound2'],\"re_polarity\": correlation['Close']['re_polarity'],\"re_polarity2\":correlation['Close']['re_polarity2']})\n"
   ],
   "metadata": {
    "collapsed": false,
    "pycharm": {
     "name": "#%%\n"
    }
   }
  },
  {
   "cell_type": "code",
   "execution_count": 17,
   "outputs": [],
   "source": [
    "results_frame=pd.DataFrame(results)"
   ],
   "metadata": {
    "collapsed": false,
    "pycharm": {
     "name": "#%%\n"
    }
   }
  },
  {
   "cell_type": "code",
   "execution_count": 18,
   "outputs": [
    {
     "data": {
      "text/plain": "        re_compound  re_compound2  re_polarity  re_polarity2\nMonths                                                      \n1          0.199309      0.212438     0.102374      0.102374\n2          0.154992      0.163967     0.081875      0.081875\n3          0.114491      0.122404     0.045119      0.045119\n4          0.089277      0.092076     0.044084      0.044084\n5          0.105273      0.104853     0.042755      0.042755\n6          0.133940      0.137070     0.067112      0.067112",
      "text/html": "<div>\n<style scoped>\n    .dataframe tbody tr th:only-of-type {\n        vertical-align: middle;\n    }\n\n    .dataframe tbody tr th {\n        vertical-align: top;\n    }\n\n    .dataframe thead th {\n        text-align: right;\n    }\n</style>\n<table border=\"1\" class=\"dataframe\">\n  <thead>\n    <tr style=\"text-align: right;\">\n      <th></th>\n      <th>re_compound</th>\n      <th>re_compound2</th>\n      <th>re_polarity</th>\n      <th>re_polarity2</th>\n    </tr>\n    <tr>\n      <th>Months</th>\n      <th></th>\n      <th></th>\n      <th></th>\n      <th></th>\n    </tr>\n  </thead>\n  <tbody>\n    <tr>\n      <th>1</th>\n      <td>0.199309</td>\n      <td>0.212438</td>\n      <td>0.102374</td>\n      <td>0.102374</td>\n    </tr>\n    <tr>\n      <th>2</th>\n      <td>0.154992</td>\n      <td>0.163967</td>\n      <td>0.081875</td>\n      <td>0.081875</td>\n    </tr>\n    <tr>\n      <th>3</th>\n      <td>0.114491</td>\n      <td>0.122404</td>\n      <td>0.045119</td>\n      <td>0.045119</td>\n    </tr>\n    <tr>\n      <th>4</th>\n      <td>0.089277</td>\n      <td>0.092076</td>\n      <td>0.044084</td>\n      <td>0.044084</td>\n    </tr>\n    <tr>\n      <th>5</th>\n      <td>0.105273</td>\n      <td>0.104853</td>\n      <td>0.042755</td>\n      <td>0.042755</td>\n    </tr>\n    <tr>\n      <th>6</th>\n      <td>0.133940</td>\n      <td>0.137070</td>\n      <td>0.067112</td>\n      <td>0.067112</td>\n    </tr>\n  </tbody>\n</table>\n</div>"
     },
     "execution_count": 18,
     "metadata": {},
     "output_type": "execute_result"
    }
   ],
   "source": [
    "results_frame.set_index('Months',inplace=True)\n",
    "results_frame"
   ],
   "metadata": {
    "collapsed": false,
    "pycharm": {
     "name": "#%%\n"
    }
   }
  },
  {
   "cell_type": "code",
   "execution_count": 19,
   "outputs": [
    {
     "data": {
      "application/vnd.plotly.v1+json": {
       "data": [
        {
         "alignmentgroup": "True",
         "hovertemplate": "variable=re_compound<br>Months=%{x}<br>value=%{y}<extra></extra>",
         "legendgroup": "re_compound",
         "marker": {
          "color": "#636efa",
          "pattern": {
           "shape": ""
          }
         },
         "name": "re_compound",
         "offsetgroup": "re_compound",
         "orientation": "v",
         "showlegend": true,
         "textposition": "auto",
         "x": [
          1,
          2,
          3,
          4,
          5,
          6
         ],
         "xaxis": "x",
         "y": [
          0.19930901592317063,
          0.15499231543961042,
          0.11449114370170786,
          0.08927654943286999,
          0.10527282899305626,
          0.13393955707818367
         ],
         "yaxis": "y",
         "type": "bar"
        },
        {
         "alignmentgroup": "True",
         "hovertemplate": "variable=re_compound2<br>Months=%{x}<br>value=%{y}<extra></extra>",
         "legendgroup": "re_compound2",
         "marker": {
          "color": "#EF553B",
          "pattern": {
           "shape": ""
          }
         },
         "name": "re_compound2",
         "offsetgroup": "re_compound2",
         "orientation": "v",
         "showlegend": true,
         "textposition": "auto",
         "x": [
          1,
          2,
          3,
          4,
          5,
          6
         ],
         "xaxis": "x",
         "y": [
          0.21243751251031875,
          0.1639666170613231,
          0.12240431667622181,
          0.0920762754091943,
          0.10485347788551012,
          0.13707021422654833
         ],
         "yaxis": "y",
         "type": "bar"
        },
        {
         "alignmentgroup": "True",
         "hovertemplate": "variable=re_polarity<br>Months=%{x}<br>value=%{y}<extra></extra>",
         "legendgroup": "re_polarity",
         "marker": {
          "color": "#00cc96",
          "pattern": {
           "shape": ""
          }
         },
         "name": "re_polarity",
         "offsetgroup": "re_polarity",
         "orientation": "v",
         "showlegend": true,
         "textposition": "auto",
         "x": [
          1,
          2,
          3,
          4,
          5,
          6
         ],
         "xaxis": "x",
         "y": [
          0.10237418329172879,
          0.08187456696314106,
          0.04511912654558766,
          0.044084370287720345,
          0.04275504490961649,
          0.0671120929801776
         ],
         "yaxis": "y",
         "type": "bar"
        },
        {
         "alignmentgroup": "True",
         "hovertemplate": "variable=re_polarity2<br>Months=%{x}<br>value=%{y}<extra></extra>",
         "legendgroup": "re_polarity2",
         "marker": {
          "color": "#ab63fa",
          "pattern": {
           "shape": ""
          }
         },
         "name": "re_polarity2",
         "offsetgroup": "re_polarity2",
         "orientation": "v",
         "showlegend": true,
         "textposition": "auto",
         "x": [
          1,
          2,
          3,
          4,
          5,
          6
         ],
         "xaxis": "x",
         "y": [
          0.10237418329172879,
          0.08187456696314106,
          0.04511870146175932,
          0.04408386719824326,
          0.04275452415793932,
          0.06711190095315643
         ],
         "yaxis": "y",
         "type": "bar"
        }
       ],
       "layout": {
        "template": {
         "data": {
          "histogram2dcontour": [
           {
            "type": "histogram2dcontour",
            "colorbar": {
             "outlinewidth": 0,
             "ticks": ""
            },
            "colorscale": [
             [
              0.0,
              "#0d0887"
             ],
             [
              0.1111111111111111,
              "#46039f"
             ],
             [
              0.2222222222222222,
              "#7201a8"
             ],
             [
              0.3333333333333333,
              "#9c179e"
             ],
             [
              0.4444444444444444,
              "#bd3786"
             ],
             [
              0.5555555555555556,
              "#d8576b"
             ],
             [
              0.6666666666666666,
              "#ed7953"
             ],
             [
              0.7777777777777778,
              "#fb9f3a"
             ],
             [
              0.8888888888888888,
              "#fdca26"
             ],
             [
              1.0,
              "#f0f921"
             ]
            ]
           }
          ],
          "choropleth": [
           {
            "type": "choropleth",
            "colorbar": {
             "outlinewidth": 0,
             "ticks": ""
            }
           }
          ],
          "histogram2d": [
           {
            "type": "histogram2d",
            "colorbar": {
             "outlinewidth": 0,
             "ticks": ""
            },
            "colorscale": [
             [
              0.0,
              "#0d0887"
             ],
             [
              0.1111111111111111,
              "#46039f"
             ],
             [
              0.2222222222222222,
              "#7201a8"
             ],
             [
              0.3333333333333333,
              "#9c179e"
             ],
             [
              0.4444444444444444,
              "#bd3786"
             ],
             [
              0.5555555555555556,
              "#d8576b"
             ],
             [
              0.6666666666666666,
              "#ed7953"
             ],
             [
              0.7777777777777778,
              "#fb9f3a"
             ],
             [
              0.8888888888888888,
              "#fdca26"
             ],
             [
              1.0,
              "#f0f921"
             ]
            ]
           }
          ],
          "heatmap": [
           {
            "type": "heatmap",
            "colorbar": {
             "outlinewidth": 0,
             "ticks": ""
            },
            "colorscale": [
             [
              0.0,
              "#0d0887"
             ],
             [
              0.1111111111111111,
              "#46039f"
             ],
             [
              0.2222222222222222,
              "#7201a8"
             ],
             [
              0.3333333333333333,
              "#9c179e"
             ],
             [
              0.4444444444444444,
              "#bd3786"
             ],
             [
              0.5555555555555556,
              "#d8576b"
             ],
             [
              0.6666666666666666,
              "#ed7953"
             ],
             [
              0.7777777777777778,
              "#fb9f3a"
             ],
             [
              0.8888888888888888,
              "#fdca26"
             ],
             [
              1.0,
              "#f0f921"
             ]
            ]
           }
          ],
          "heatmapgl": [
           {
            "type": "heatmapgl",
            "colorbar": {
             "outlinewidth": 0,
             "ticks": ""
            },
            "colorscale": [
             [
              0.0,
              "#0d0887"
             ],
             [
              0.1111111111111111,
              "#46039f"
             ],
             [
              0.2222222222222222,
              "#7201a8"
             ],
             [
              0.3333333333333333,
              "#9c179e"
             ],
             [
              0.4444444444444444,
              "#bd3786"
             ],
             [
              0.5555555555555556,
              "#d8576b"
             ],
             [
              0.6666666666666666,
              "#ed7953"
             ],
             [
              0.7777777777777778,
              "#fb9f3a"
             ],
             [
              0.8888888888888888,
              "#fdca26"
             ],
             [
              1.0,
              "#f0f921"
             ]
            ]
           }
          ],
          "contourcarpet": [
           {
            "type": "contourcarpet",
            "colorbar": {
             "outlinewidth": 0,
             "ticks": ""
            }
           }
          ],
          "contour": [
           {
            "type": "contour",
            "colorbar": {
             "outlinewidth": 0,
             "ticks": ""
            },
            "colorscale": [
             [
              0.0,
              "#0d0887"
             ],
             [
              0.1111111111111111,
              "#46039f"
             ],
             [
              0.2222222222222222,
              "#7201a8"
             ],
             [
              0.3333333333333333,
              "#9c179e"
             ],
             [
              0.4444444444444444,
              "#bd3786"
             ],
             [
              0.5555555555555556,
              "#d8576b"
             ],
             [
              0.6666666666666666,
              "#ed7953"
             ],
             [
              0.7777777777777778,
              "#fb9f3a"
             ],
             [
              0.8888888888888888,
              "#fdca26"
             ],
             [
              1.0,
              "#f0f921"
             ]
            ]
           }
          ],
          "surface": [
           {
            "type": "surface",
            "colorbar": {
             "outlinewidth": 0,
             "ticks": ""
            },
            "colorscale": [
             [
              0.0,
              "#0d0887"
             ],
             [
              0.1111111111111111,
              "#46039f"
             ],
             [
              0.2222222222222222,
              "#7201a8"
             ],
             [
              0.3333333333333333,
              "#9c179e"
             ],
             [
              0.4444444444444444,
              "#bd3786"
             ],
             [
              0.5555555555555556,
              "#d8576b"
             ],
             [
              0.6666666666666666,
              "#ed7953"
             ],
             [
              0.7777777777777778,
              "#fb9f3a"
             ],
             [
              0.8888888888888888,
              "#fdca26"
             ],
             [
              1.0,
              "#f0f921"
             ]
            ]
           }
          ],
          "mesh3d": [
           {
            "type": "mesh3d",
            "colorbar": {
             "outlinewidth": 0,
             "ticks": ""
            }
           }
          ],
          "scatter": [
           {
            "fillpattern": {
             "fillmode": "overlay",
             "size": 10,
             "solidity": 0.2
            },
            "type": "scatter"
           }
          ],
          "parcoords": [
           {
            "type": "parcoords",
            "line": {
             "colorbar": {
              "outlinewidth": 0,
              "ticks": ""
             }
            }
           }
          ],
          "scatterpolargl": [
           {
            "type": "scatterpolargl",
            "marker": {
             "colorbar": {
              "outlinewidth": 0,
              "ticks": ""
             }
            }
           }
          ],
          "bar": [
           {
            "error_x": {
             "color": "#2a3f5f"
            },
            "error_y": {
             "color": "#2a3f5f"
            },
            "marker": {
             "line": {
              "color": "#E5ECF6",
              "width": 0.5
             },
             "pattern": {
              "fillmode": "overlay",
              "size": 10,
              "solidity": 0.2
             }
            },
            "type": "bar"
           }
          ],
          "scattergeo": [
           {
            "type": "scattergeo",
            "marker": {
             "colorbar": {
              "outlinewidth": 0,
              "ticks": ""
             }
            }
           }
          ],
          "scatterpolar": [
           {
            "type": "scatterpolar",
            "marker": {
             "colorbar": {
              "outlinewidth": 0,
              "ticks": ""
             }
            }
           }
          ],
          "histogram": [
           {
            "marker": {
             "pattern": {
              "fillmode": "overlay",
              "size": 10,
              "solidity": 0.2
             }
            },
            "type": "histogram"
           }
          ],
          "scattergl": [
           {
            "type": "scattergl",
            "marker": {
             "colorbar": {
              "outlinewidth": 0,
              "ticks": ""
             }
            }
           }
          ],
          "scatter3d": [
           {
            "type": "scatter3d",
            "line": {
             "colorbar": {
              "outlinewidth": 0,
              "ticks": ""
             }
            },
            "marker": {
             "colorbar": {
              "outlinewidth": 0,
              "ticks": ""
             }
            }
           }
          ],
          "scattermapbox": [
           {
            "type": "scattermapbox",
            "marker": {
             "colorbar": {
              "outlinewidth": 0,
              "ticks": ""
             }
            }
           }
          ],
          "scatterternary": [
           {
            "type": "scatterternary",
            "marker": {
             "colorbar": {
              "outlinewidth": 0,
              "ticks": ""
             }
            }
           }
          ],
          "scattercarpet": [
           {
            "type": "scattercarpet",
            "marker": {
             "colorbar": {
              "outlinewidth": 0,
              "ticks": ""
             }
            }
           }
          ],
          "carpet": [
           {
            "aaxis": {
             "endlinecolor": "#2a3f5f",
             "gridcolor": "white",
             "linecolor": "white",
             "minorgridcolor": "white",
             "startlinecolor": "#2a3f5f"
            },
            "baxis": {
             "endlinecolor": "#2a3f5f",
             "gridcolor": "white",
             "linecolor": "white",
             "minorgridcolor": "white",
             "startlinecolor": "#2a3f5f"
            },
            "type": "carpet"
           }
          ],
          "table": [
           {
            "cells": {
             "fill": {
              "color": "#EBF0F8"
             },
             "line": {
              "color": "white"
             }
            },
            "header": {
             "fill": {
              "color": "#C8D4E3"
             },
             "line": {
              "color": "white"
             }
            },
            "type": "table"
           }
          ],
          "barpolar": [
           {
            "marker": {
             "line": {
              "color": "#E5ECF6",
              "width": 0.5
             },
             "pattern": {
              "fillmode": "overlay",
              "size": 10,
              "solidity": 0.2
             }
            },
            "type": "barpolar"
           }
          ],
          "pie": [
           {
            "automargin": true,
            "type": "pie"
           }
          ]
         },
         "layout": {
          "autotypenumbers": "strict",
          "colorway": [
           "#636efa",
           "#EF553B",
           "#00cc96",
           "#ab63fa",
           "#FFA15A",
           "#19d3f3",
           "#FF6692",
           "#B6E880",
           "#FF97FF",
           "#FECB52"
          ],
          "font": {
           "color": "#2a3f5f"
          },
          "hovermode": "closest",
          "hoverlabel": {
           "align": "left"
          },
          "paper_bgcolor": "white",
          "plot_bgcolor": "#E5ECF6",
          "polar": {
           "bgcolor": "#E5ECF6",
           "angularaxis": {
            "gridcolor": "white",
            "linecolor": "white",
            "ticks": ""
           },
           "radialaxis": {
            "gridcolor": "white",
            "linecolor": "white",
            "ticks": ""
           }
          },
          "ternary": {
           "bgcolor": "#E5ECF6",
           "aaxis": {
            "gridcolor": "white",
            "linecolor": "white",
            "ticks": ""
           },
           "baxis": {
            "gridcolor": "white",
            "linecolor": "white",
            "ticks": ""
           },
           "caxis": {
            "gridcolor": "white",
            "linecolor": "white",
            "ticks": ""
           }
          },
          "coloraxis": {
           "colorbar": {
            "outlinewidth": 0,
            "ticks": ""
           }
          },
          "colorscale": {
           "sequential": [
            [
             0.0,
             "#0d0887"
            ],
            [
             0.1111111111111111,
             "#46039f"
            ],
            [
             0.2222222222222222,
             "#7201a8"
            ],
            [
             0.3333333333333333,
             "#9c179e"
            ],
            [
             0.4444444444444444,
             "#bd3786"
            ],
            [
             0.5555555555555556,
             "#d8576b"
            ],
            [
             0.6666666666666666,
             "#ed7953"
            ],
            [
             0.7777777777777778,
             "#fb9f3a"
            ],
            [
             0.8888888888888888,
             "#fdca26"
            ],
            [
             1.0,
             "#f0f921"
            ]
           ],
           "sequentialminus": [
            [
             0.0,
             "#0d0887"
            ],
            [
             0.1111111111111111,
             "#46039f"
            ],
            [
             0.2222222222222222,
             "#7201a8"
            ],
            [
             0.3333333333333333,
             "#9c179e"
            ],
            [
             0.4444444444444444,
             "#bd3786"
            ],
            [
             0.5555555555555556,
             "#d8576b"
            ],
            [
             0.6666666666666666,
             "#ed7953"
            ],
            [
             0.7777777777777778,
             "#fb9f3a"
            ],
            [
             0.8888888888888888,
             "#fdca26"
            ],
            [
             1.0,
             "#f0f921"
            ]
           ],
           "diverging": [
            [
             0,
             "#8e0152"
            ],
            [
             0.1,
             "#c51b7d"
            ],
            [
             0.2,
             "#de77ae"
            ],
            [
             0.3,
             "#f1b6da"
            ],
            [
             0.4,
             "#fde0ef"
            ],
            [
             0.5,
             "#f7f7f7"
            ],
            [
             0.6,
             "#e6f5d0"
            ],
            [
             0.7,
             "#b8e186"
            ],
            [
             0.8,
             "#7fbc41"
            ],
            [
             0.9,
             "#4d9221"
            ],
            [
             1,
             "#276419"
            ]
           ]
          },
          "xaxis": {
           "gridcolor": "white",
           "linecolor": "white",
           "ticks": "",
           "title": {
            "standoff": 15
           },
           "zerolinecolor": "white",
           "automargin": true,
           "zerolinewidth": 2
          },
          "yaxis": {
           "gridcolor": "white",
           "linecolor": "white",
           "ticks": "",
           "title": {
            "standoff": 15
           },
           "zerolinecolor": "white",
           "automargin": true,
           "zerolinewidth": 2
          },
          "scene": {
           "xaxis": {
            "backgroundcolor": "#E5ECF6",
            "gridcolor": "white",
            "linecolor": "white",
            "showbackground": true,
            "ticks": "",
            "zerolinecolor": "white",
            "gridwidth": 2
           },
           "yaxis": {
            "backgroundcolor": "#E5ECF6",
            "gridcolor": "white",
            "linecolor": "white",
            "showbackground": true,
            "ticks": "",
            "zerolinecolor": "white",
            "gridwidth": 2
           },
           "zaxis": {
            "backgroundcolor": "#E5ECF6",
            "gridcolor": "white",
            "linecolor": "white",
            "showbackground": true,
            "ticks": "",
            "zerolinecolor": "white",
            "gridwidth": 2
           }
          },
          "shapedefaults": {
           "line": {
            "color": "#2a3f5f"
           }
          },
          "annotationdefaults": {
           "arrowcolor": "#2a3f5f",
           "arrowhead": 0,
           "arrowwidth": 1
          },
          "geo": {
           "bgcolor": "white",
           "landcolor": "#E5ECF6",
           "subunitcolor": "white",
           "showland": true,
           "showlakes": true,
           "lakecolor": "white"
          },
          "title": {
           "x": 0.05
          },
          "mapbox": {
           "style": "light"
          }
         }
        },
        "xaxis": {
         "anchor": "y",
         "domain": [
          0.0,
          1.0
         ],
         "title": {
          "text": "Months"
         }
        },
        "yaxis": {
         "anchor": "x",
         "domain": [
          0.0,
          1.0
         ],
         "title": {
          "text": "Spearman Correlation"
         }
        },
        "legend": {
         "title": {
          "text": "variable"
         },
         "tracegroupgap": 0
        },
        "title": {
         "text": "The correlation between Reddit Posts and Close Price"
        },
        "barmode": "group"
       },
       "config": {
        "plotlyServerURL": "https://plot.ly"
       }
      },
      "text/html": "<div>                            <div id=\"055caa31-d102-4627-a353-1240612169cf\" class=\"plotly-graph-div\" style=\"height:525px; width:100%;\"></div>            <script type=\"text/javascript\">                require([\"plotly\"], function(Plotly) {                    window.PLOTLYENV=window.PLOTLYENV || {};                                    if (document.getElementById(\"055caa31-d102-4627-a353-1240612169cf\")) {                    Plotly.newPlot(                        \"055caa31-d102-4627-a353-1240612169cf\",                        [{\"alignmentgroup\":\"True\",\"hovertemplate\":\"variable=re_compound<br>Months=%{x}<br>value=%{y}<extra></extra>\",\"legendgroup\":\"re_compound\",\"marker\":{\"color\":\"#636efa\",\"pattern\":{\"shape\":\"\"}},\"name\":\"re_compound\",\"offsetgroup\":\"re_compound\",\"orientation\":\"v\",\"showlegend\":true,\"textposition\":\"auto\",\"x\":[1,2,3,4,5,6],\"xaxis\":\"x\",\"y\":[0.19930901592317063,0.15499231543961042,0.11449114370170786,0.08927654943286999,0.10527282899305626,0.13393955707818367],\"yaxis\":\"y\",\"type\":\"bar\"},{\"alignmentgroup\":\"True\",\"hovertemplate\":\"variable=re_compound2<br>Months=%{x}<br>value=%{y}<extra></extra>\",\"legendgroup\":\"re_compound2\",\"marker\":{\"color\":\"#EF553B\",\"pattern\":{\"shape\":\"\"}},\"name\":\"re_compound2\",\"offsetgroup\":\"re_compound2\",\"orientation\":\"v\",\"showlegend\":true,\"textposition\":\"auto\",\"x\":[1,2,3,4,5,6],\"xaxis\":\"x\",\"y\":[0.21243751251031875,0.1639666170613231,0.12240431667622181,0.0920762754091943,0.10485347788551012,0.13707021422654833],\"yaxis\":\"y\",\"type\":\"bar\"},{\"alignmentgroup\":\"True\",\"hovertemplate\":\"variable=re_polarity<br>Months=%{x}<br>value=%{y}<extra></extra>\",\"legendgroup\":\"re_polarity\",\"marker\":{\"color\":\"#00cc96\",\"pattern\":{\"shape\":\"\"}},\"name\":\"re_polarity\",\"offsetgroup\":\"re_polarity\",\"orientation\":\"v\",\"showlegend\":true,\"textposition\":\"auto\",\"x\":[1,2,3,4,5,6],\"xaxis\":\"x\",\"y\":[0.10237418329172879,0.08187456696314106,0.04511912654558766,0.044084370287720345,0.04275504490961649,0.0671120929801776],\"yaxis\":\"y\",\"type\":\"bar\"},{\"alignmentgroup\":\"True\",\"hovertemplate\":\"variable=re_polarity2<br>Months=%{x}<br>value=%{y}<extra></extra>\",\"legendgroup\":\"re_polarity2\",\"marker\":{\"color\":\"#ab63fa\",\"pattern\":{\"shape\":\"\"}},\"name\":\"re_polarity2\",\"offsetgroup\":\"re_polarity2\",\"orientation\":\"v\",\"showlegend\":true,\"textposition\":\"auto\",\"x\":[1,2,3,4,5,6],\"xaxis\":\"x\",\"y\":[0.10237418329172879,0.08187456696314106,0.04511870146175932,0.04408386719824326,0.04275452415793932,0.06711190095315643],\"yaxis\":\"y\",\"type\":\"bar\"}],                        {\"template\":{\"data\":{\"histogram2dcontour\":[{\"type\":\"histogram2dcontour\",\"colorbar\":{\"outlinewidth\":0,\"ticks\":\"\"},\"colorscale\":[[0.0,\"#0d0887\"],[0.1111111111111111,\"#46039f\"],[0.2222222222222222,\"#7201a8\"],[0.3333333333333333,\"#9c179e\"],[0.4444444444444444,\"#bd3786\"],[0.5555555555555556,\"#d8576b\"],[0.6666666666666666,\"#ed7953\"],[0.7777777777777778,\"#fb9f3a\"],[0.8888888888888888,\"#fdca26\"],[1.0,\"#f0f921\"]]}],\"choropleth\":[{\"type\":\"choropleth\",\"colorbar\":{\"outlinewidth\":0,\"ticks\":\"\"}}],\"histogram2d\":[{\"type\":\"histogram2d\",\"colorbar\":{\"outlinewidth\":0,\"ticks\":\"\"},\"colorscale\":[[0.0,\"#0d0887\"],[0.1111111111111111,\"#46039f\"],[0.2222222222222222,\"#7201a8\"],[0.3333333333333333,\"#9c179e\"],[0.4444444444444444,\"#bd3786\"],[0.5555555555555556,\"#d8576b\"],[0.6666666666666666,\"#ed7953\"],[0.7777777777777778,\"#fb9f3a\"],[0.8888888888888888,\"#fdca26\"],[1.0,\"#f0f921\"]]}],\"heatmap\":[{\"type\":\"heatmap\",\"colorbar\":{\"outlinewidth\":0,\"ticks\":\"\"},\"colorscale\":[[0.0,\"#0d0887\"],[0.1111111111111111,\"#46039f\"],[0.2222222222222222,\"#7201a8\"],[0.3333333333333333,\"#9c179e\"],[0.4444444444444444,\"#bd3786\"],[0.5555555555555556,\"#d8576b\"],[0.6666666666666666,\"#ed7953\"],[0.7777777777777778,\"#fb9f3a\"],[0.8888888888888888,\"#fdca26\"],[1.0,\"#f0f921\"]]}],\"heatmapgl\":[{\"type\":\"heatmapgl\",\"colorbar\":{\"outlinewidth\":0,\"ticks\":\"\"},\"colorscale\":[[0.0,\"#0d0887\"],[0.1111111111111111,\"#46039f\"],[0.2222222222222222,\"#7201a8\"],[0.3333333333333333,\"#9c179e\"],[0.4444444444444444,\"#bd3786\"],[0.5555555555555556,\"#d8576b\"],[0.6666666666666666,\"#ed7953\"],[0.7777777777777778,\"#fb9f3a\"],[0.8888888888888888,\"#fdca26\"],[1.0,\"#f0f921\"]]}],\"contourcarpet\":[{\"type\":\"contourcarpet\",\"colorbar\":{\"outlinewidth\":0,\"ticks\":\"\"}}],\"contour\":[{\"type\":\"contour\",\"colorbar\":{\"outlinewidth\":0,\"ticks\":\"\"},\"colorscale\":[[0.0,\"#0d0887\"],[0.1111111111111111,\"#46039f\"],[0.2222222222222222,\"#7201a8\"],[0.3333333333333333,\"#9c179e\"],[0.4444444444444444,\"#bd3786\"],[0.5555555555555556,\"#d8576b\"],[0.6666666666666666,\"#ed7953\"],[0.7777777777777778,\"#fb9f3a\"],[0.8888888888888888,\"#fdca26\"],[1.0,\"#f0f921\"]]}],\"surface\":[{\"type\":\"surface\",\"colorbar\":{\"outlinewidth\":0,\"ticks\":\"\"},\"colorscale\":[[0.0,\"#0d0887\"],[0.1111111111111111,\"#46039f\"],[0.2222222222222222,\"#7201a8\"],[0.3333333333333333,\"#9c179e\"],[0.4444444444444444,\"#bd3786\"],[0.5555555555555556,\"#d8576b\"],[0.6666666666666666,\"#ed7953\"],[0.7777777777777778,\"#fb9f3a\"],[0.8888888888888888,\"#fdca26\"],[1.0,\"#f0f921\"]]}],\"mesh3d\":[{\"type\":\"mesh3d\",\"colorbar\":{\"outlinewidth\":0,\"ticks\":\"\"}}],\"scatter\":[{\"fillpattern\":{\"fillmode\":\"overlay\",\"size\":10,\"solidity\":0.2},\"type\":\"scatter\"}],\"parcoords\":[{\"type\":\"parcoords\",\"line\":{\"colorbar\":{\"outlinewidth\":0,\"ticks\":\"\"}}}],\"scatterpolargl\":[{\"type\":\"scatterpolargl\",\"marker\":{\"colorbar\":{\"outlinewidth\":0,\"ticks\":\"\"}}}],\"bar\":[{\"error_x\":{\"color\":\"#2a3f5f\"},\"error_y\":{\"color\":\"#2a3f5f\"},\"marker\":{\"line\":{\"color\":\"#E5ECF6\",\"width\":0.5},\"pattern\":{\"fillmode\":\"overlay\",\"size\":10,\"solidity\":0.2}},\"type\":\"bar\"}],\"scattergeo\":[{\"type\":\"scattergeo\",\"marker\":{\"colorbar\":{\"outlinewidth\":0,\"ticks\":\"\"}}}],\"scatterpolar\":[{\"type\":\"scatterpolar\",\"marker\":{\"colorbar\":{\"outlinewidth\":0,\"ticks\":\"\"}}}],\"histogram\":[{\"marker\":{\"pattern\":{\"fillmode\":\"overlay\",\"size\":10,\"solidity\":0.2}},\"type\":\"histogram\"}],\"scattergl\":[{\"type\":\"scattergl\",\"marker\":{\"colorbar\":{\"outlinewidth\":0,\"ticks\":\"\"}}}],\"scatter3d\":[{\"type\":\"scatter3d\",\"line\":{\"colorbar\":{\"outlinewidth\":0,\"ticks\":\"\"}},\"marker\":{\"colorbar\":{\"outlinewidth\":0,\"ticks\":\"\"}}}],\"scattermapbox\":[{\"type\":\"scattermapbox\",\"marker\":{\"colorbar\":{\"outlinewidth\":0,\"ticks\":\"\"}}}],\"scatterternary\":[{\"type\":\"scatterternary\",\"marker\":{\"colorbar\":{\"outlinewidth\":0,\"ticks\":\"\"}}}],\"scattercarpet\":[{\"type\":\"scattercarpet\",\"marker\":{\"colorbar\":{\"outlinewidth\":0,\"ticks\":\"\"}}}],\"carpet\":[{\"aaxis\":{\"endlinecolor\":\"#2a3f5f\",\"gridcolor\":\"white\",\"linecolor\":\"white\",\"minorgridcolor\":\"white\",\"startlinecolor\":\"#2a3f5f\"},\"baxis\":{\"endlinecolor\":\"#2a3f5f\",\"gridcolor\":\"white\",\"linecolor\":\"white\",\"minorgridcolor\":\"white\",\"startlinecolor\":\"#2a3f5f\"},\"type\":\"carpet\"}],\"table\":[{\"cells\":{\"fill\":{\"color\":\"#EBF0F8\"},\"line\":{\"color\":\"white\"}},\"header\":{\"fill\":{\"color\":\"#C8D4E3\"},\"line\":{\"color\":\"white\"}},\"type\":\"table\"}],\"barpolar\":[{\"marker\":{\"line\":{\"color\":\"#E5ECF6\",\"width\":0.5},\"pattern\":{\"fillmode\":\"overlay\",\"size\":10,\"solidity\":0.2}},\"type\":\"barpolar\"}],\"pie\":[{\"automargin\":true,\"type\":\"pie\"}]},\"layout\":{\"autotypenumbers\":\"strict\",\"colorway\":[\"#636efa\",\"#EF553B\",\"#00cc96\",\"#ab63fa\",\"#FFA15A\",\"#19d3f3\",\"#FF6692\",\"#B6E880\",\"#FF97FF\",\"#FECB52\"],\"font\":{\"color\":\"#2a3f5f\"},\"hovermode\":\"closest\",\"hoverlabel\":{\"align\":\"left\"},\"paper_bgcolor\":\"white\",\"plot_bgcolor\":\"#E5ECF6\",\"polar\":{\"bgcolor\":\"#E5ECF6\",\"angularaxis\":{\"gridcolor\":\"white\",\"linecolor\":\"white\",\"ticks\":\"\"},\"radialaxis\":{\"gridcolor\":\"white\",\"linecolor\":\"white\",\"ticks\":\"\"}},\"ternary\":{\"bgcolor\":\"#E5ECF6\",\"aaxis\":{\"gridcolor\":\"white\",\"linecolor\":\"white\",\"ticks\":\"\"},\"baxis\":{\"gridcolor\":\"white\",\"linecolor\":\"white\",\"ticks\":\"\"},\"caxis\":{\"gridcolor\":\"white\",\"linecolor\":\"white\",\"ticks\":\"\"}},\"coloraxis\":{\"colorbar\":{\"outlinewidth\":0,\"ticks\":\"\"}},\"colorscale\":{\"sequential\":[[0.0,\"#0d0887\"],[0.1111111111111111,\"#46039f\"],[0.2222222222222222,\"#7201a8\"],[0.3333333333333333,\"#9c179e\"],[0.4444444444444444,\"#bd3786\"],[0.5555555555555556,\"#d8576b\"],[0.6666666666666666,\"#ed7953\"],[0.7777777777777778,\"#fb9f3a\"],[0.8888888888888888,\"#fdca26\"],[1.0,\"#f0f921\"]],\"sequentialminus\":[[0.0,\"#0d0887\"],[0.1111111111111111,\"#46039f\"],[0.2222222222222222,\"#7201a8\"],[0.3333333333333333,\"#9c179e\"],[0.4444444444444444,\"#bd3786\"],[0.5555555555555556,\"#d8576b\"],[0.6666666666666666,\"#ed7953\"],[0.7777777777777778,\"#fb9f3a\"],[0.8888888888888888,\"#fdca26\"],[1.0,\"#f0f921\"]],\"diverging\":[[0,\"#8e0152\"],[0.1,\"#c51b7d\"],[0.2,\"#de77ae\"],[0.3,\"#f1b6da\"],[0.4,\"#fde0ef\"],[0.5,\"#f7f7f7\"],[0.6,\"#e6f5d0\"],[0.7,\"#b8e186\"],[0.8,\"#7fbc41\"],[0.9,\"#4d9221\"],[1,\"#276419\"]]},\"xaxis\":{\"gridcolor\":\"white\",\"linecolor\":\"white\",\"ticks\":\"\",\"title\":{\"standoff\":15},\"zerolinecolor\":\"white\",\"automargin\":true,\"zerolinewidth\":2},\"yaxis\":{\"gridcolor\":\"white\",\"linecolor\":\"white\",\"ticks\":\"\",\"title\":{\"standoff\":15},\"zerolinecolor\":\"white\",\"automargin\":true,\"zerolinewidth\":2},\"scene\":{\"xaxis\":{\"backgroundcolor\":\"#E5ECF6\",\"gridcolor\":\"white\",\"linecolor\":\"white\",\"showbackground\":true,\"ticks\":\"\",\"zerolinecolor\":\"white\",\"gridwidth\":2},\"yaxis\":{\"backgroundcolor\":\"#E5ECF6\",\"gridcolor\":\"white\",\"linecolor\":\"white\",\"showbackground\":true,\"ticks\":\"\",\"zerolinecolor\":\"white\",\"gridwidth\":2},\"zaxis\":{\"backgroundcolor\":\"#E5ECF6\",\"gridcolor\":\"white\",\"linecolor\":\"white\",\"showbackground\":true,\"ticks\":\"\",\"zerolinecolor\":\"white\",\"gridwidth\":2}},\"shapedefaults\":{\"line\":{\"color\":\"#2a3f5f\"}},\"annotationdefaults\":{\"arrowcolor\":\"#2a3f5f\",\"arrowhead\":0,\"arrowwidth\":1},\"geo\":{\"bgcolor\":\"white\",\"landcolor\":\"#E5ECF6\",\"subunitcolor\":\"white\",\"showland\":true,\"showlakes\":true,\"lakecolor\":\"white\"},\"title\":{\"x\":0.05},\"mapbox\":{\"style\":\"light\"}}},\"xaxis\":{\"anchor\":\"y\",\"domain\":[0.0,1.0],\"title\":{\"text\":\"Months\"}},\"yaxis\":{\"anchor\":\"x\",\"domain\":[0.0,1.0],\"title\":{\"text\":\"Spearman Correlation\"}},\"legend\":{\"title\":{\"text\":\"variable\"},\"tracegroupgap\":0},\"title\":{\"text\":\"The correlation between Reddit Posts and Close Price\"},\"barmode\":\"group\"},                        {\"responsive\": true}                    ).then(function(){\n                            \nvar gd = document.getElementById('055caa31-d102-4627-a353-1240612169cf');\nvar x = new MutationObserver(function (mutations, observer) {{\n        var display = window.getComputedStyle(gd).display;\n        if (!display || display === 'none') {{\n            console.log([gd, 'removed!']);\n            Plotly.purge(gd);\n            observer.disconnect();\n        }}\n}});\n\n// Listen for the removal of the full notebook cells\nvar notebookContainer = gd.closest('#notebook-container');\nif (notebookContainer) {{\n    x.observe(notebookContainer, {childList: true});\n}}\n\n// Listen for the clearing of the current output cell\nvar outputEl = gd.closest('.output');\nif (outputEl) {{\n    x.observe(outputEl, {childList: true});\n}}\n\n                        })                };                });            </script>        </div>"
     },
     "metadata": {},
     "output_type": "display_data"
    }
   ],
   "source": [
    "# import plotly.graph_objects as go\n",
    "# fig = go.Figure()\n",
    "\n",
    "fig = px.bar(results_frame, x=results_frame.index, y=results_frame.columns, title='Reddit Posts Correlation with Close Price')\n",
    "\n",
    "fig.update_layout(\n",
    "    title='The correlation between Reddit Posts and Close Price',\n",
    "    xaxis_title='Months',\n",
    "    yaxis_title='Spearman Correlation',\n",
    "    barmode='group'\n",
    ")\n",
    "\n",
    "fig.show()"
   ],
   "metadata": {
    "collapsed": false,
    "pycharm": {
     "name": "#%%\n"
    }
   }
  },
  {
   "cell_type": "code",
   "execution_count": 23,
   "outputs": [
    {
     "name": "stderr",
     "output_type": "stream",
     "text": [
      "/var/folders/vp/8_rd4_c56g3dpqb1167z6tqr0000gn/T/ipykernel_11604/2571803287.py:4: SettingWithCopyWarning:\n",
      "\n",
      "\n",
      "A value is trying to be set on a copy of a slice from a DataFrame\n",
      "\n",
      "See the caveats in the documentation: https://pandas.pydata.org/pandas-docs/stable/user_guide/indexing.html#returning-a-view-versus-a-copy\n",
      "\n"
     ]
    }
   ],
   "source": [
    "month=1\n",
    "sub_data_1=close_data_1[(close_data_1.index.month>=1) & (close_data_1.index.month <=month)]\n",
    "sub_data_2=close_data_2[(close_data_2.index.month>=1) & (close_data_2.index.month <=month)]\n",
    "sub_data_2.rename(columns={'Close':'Close2','re_compound':'re_compound2','re_polarity':'re_polarity2'}, inplace=True)\n",
    "bitcoindata=pd.concat([sub_data_1,sub_data_2], axis=1)\n",
    "# keep the useful columns\n",
    "columns_keep=['Close','re_compound','re_compound2','re_polarity','re_polarity2',]\n",
    "columns=list(bitcoindata.columns.values)\n",
    "for i in columns_keep:\n",
    "    columns.remove(i)\n",
    "\n",
    "bitcoin_new=bitcoindata.drop(columns=columns)"
   ],
   "metadata": {
    "collapsed": false,
    "pycharm": {
     "name": "#%%\n"
    }
   }
  },
  {
   "cell_type": "code",
   "execution_count": 24,
   "outputs": [],
   "source": [
    "import plotly.graph_objects as go\n",
    "from plotly.subplots import make_subplots\n",
    "from itertools import cycle\n",
    "def plot_chart(x,y1,y2,name1,name2,axes1,axes2):\n",
    "    # plot the data of the google trends and Bitcoin\n",
    "    fig = make_subplots(specs=[[{\"secondary_y\": True}]])\n",
    "    fig.add_trace(go.Scatter(x=x,\n",
    "                             y=y1,\n",
    "                             mode='lines',\n",
    "                             name=name1), secondary_y=False)\n",
    "    fig.add_trace(go.Scatter(x=x,\n",
    "                             y=y2,\n",
    "                             mode='lines',\n",
    "                             name=name2), secondary_y=True)\n",
    "    # Add axis titles\n",
    "    fig.update_layout(\n",
    "        title_text=\"Bitcoin and Reddit Posts\",\n",
    "        width=800,\n",
    "        height=600,\n",
    "    )\n",
    "\n",
    "    fig.update_xaxes(title_text=\"Datetime\")\n",
    "\n",
    "    # Set y-axes titles\n",
    "    fig.update_yaxes(title_text=axes1, secondary_y=False)\n",
    "    fig.update_yaxes(title_text=axes2, secondary_y=True)\n",
    "    fig.show()"
   ],
   "metadata": {
    "collapsed": false,
    "pycharm": {
     "name": "#%%\n"
    }
   }
  },
  {
   "cell_type": "code",
   "execution_count": 25,
   "outputs": [
    {
     "data": {
      "application/vnd.plotly.v1+json": {
       "data": [
        {
         "mode": "lines",
         "name": "Bitcoin Price",
         "x": [
          "2022-01-01T00:00:00",
          "2022-01-01T01:00:00",
          "2022-01-01T02:00:00",
          "2022-01-01T03:00:00",
          "2022-01-01T04:00:00",
          "2022-01-01T05:00:00",
          "2022-01-01T06:00:00",
          "2022-01-01T07:00:00",
          "2022-01-01T08:00:00",
          "2022-01-01T09:00:00",
          "2022-01-01T10:00:00",
          "2022-01-01T11:00:00",
          "2022-01-01T12:00:00",
          "2022-01-01T13:00:00",
          "2022-01-01T14:00:00",
          "2022-01-01T15:00:00",
          "2022-01-01T16:00:00",
          "2022-01-01T17:00:00",
          "2022-01-01T18:00:00",
          "2022-01-01T19:00:00",
          "2022-01-01T20:00:00",
          "2022-01-01T21:00:00",
          "2022-01-01T22:00:00",
          "2022-01-01T23:00:00",
          "2022-01-02T00:00:00",
          "2022-01-02T01:00:00",
          "2022-01-02T02:00:00",
          "2022-01-02T03:00:00",
          "2022-01-02T04:00:00",
          "2022-01-02T05:00:00",
          "2022-01-02T06:00:00",
          "2022-01-02T07:00:00",
          "2022-01-02T08:00:00",
          "2022-01-02T09:00:00",
          "2022-01-02T10:00:00",
          "2022-01-02T11:00:00",
          "2022-01-02T12:00:00",
          "2022-01-02T13:00:00",
          "2022-01-02T14:00:00",
          "2022-01-02T15:00:00",
          "2022-01-02T16:00:00",
          "2022-01-02T17:00:00",
          "2022-01-02T18:00:00",
          "2022-01-02T19:00:00",
          "2022-01-02T20:00:00",
          "2022-01-02T21:00:00",
          "2022-01-02T22:00:00",
          "2022-01-02T23:00:00",
          "2022-01-03T00:00:00",
          "2022-01-03T01:00:00",
          "2022-01-03T02:00:00",
          "2022-01-03T03:00:00",
          "2022-01-03T04:00:00",
          "2022-01-03T05:00:00",
          "2022-01-03T06:00:00",
          "2022-01-03T07:00:00",
          "2022-01-03T08:00:00",
          "2022-01-03T09:00:00",
          "2022-01-03T10:00:00",
          "2022-01-03T11:00:00",
          "2022-01-03T12:00:00",
          "2022-01-03T13:00:00",
          "2022-01-03T14:00:00",
          "2022-01-03T15:00:00",
          "2022-01-03T16:00:00",
          "2022-01-03T17:00:00",
          "2022-01-03T18:00:00",
          "2022-01-03T19:00:00",
          "2022-01-03T20:00:00",
          "2022-01-03T21:00:00",
          "2022-01-03T22:00:00",
          "2022-01-03T23:00:00",
          "2022-01-04T00:00:00",
          "2022-01-04T01:00:00",
          "2022-01-04T02:00:00",
          "2022-01-04T03:00:00",
          "2022-01-04T04:00:00",
          "2022-01-04T05:00:00",
          "2022-01-04T06:00:00",
          "2022-01-04T07:00:00",
          "2022-01-04T08:00:00",
          "2022-01-04T09:00:00",
          "2022-01-04T10:00:00",
          "2022-01-04T11:00:00",
          "2022-01-04T12:00:00",
          "2022-01-04T13:00:00",
          "2022-01-04T14:00:00",
          "2022-01-04T15:00:00",
          "2022-01-04T16:00:00",
          "2022-01-04T17:00:00",
          "2022-01-04T18:00:00",
          "2022-01-04T19:00:00",
          "2022-01-04T20:00:00",
          "2022-01-04T21:00:00",
          "2022-01-04T22:00:00",
          "2022-01-04T23:00:00",
          "2022-01-05T00:00:00",
          "2022-01-05T01:00:00",
          "2022-01-05T02:00:00",
          "2022-01-05T03:00:00",
          "2022-01-05T04:00:00",
          "2022-01-05T05:00:00",
          "2022-01-05T06:00:00",
          "2022-01-05T07:00:00",
          "2022-01-05T08:00:00",
          "2022-01-05T09:00:00",
          "2022-01-05T10:00:00",
          "2022-01-05T11:00:00",
          "2022-01-05T12:00:00",
          "2022-01-05T13:00:00",
          "2022-01-05T14:00:00",
          "2022-01-05T15:00:00",
          "2022-01-05T16:00:00",
          "2022-01-05T17:00:00",
          "2022-01-05T18:00:00",
          "2022-01-05T19:00:00",
          "2022-01-05T20:00:00",
          "2022-01-05T21:00:00",
          "2022-01-05T22:00:00",
          "2022-01-05T23:00:00",
          "2022-01-06T00:00:00",
          "2022-01-06T01:00:00",
          "2022-01-06T02:00:00",
          "2022-01-06T03:00:00",
          "2022-01-06T04:00:00",
          "2022-01-06T05:00:00",
          "2022-01-06T06:00:00",
          "2022-01-06T07:00:00",
          "2022-01-06T08:00:00",
          "2022-01-06T09:00:00",
          "2022-01-06T10:00:00",
          "2022-01-06T11:00:00",
          "2022-01-06T12:00:00",
          "2022-01-06T13:00:00",
          "2022-01-06T14:00:00",
          "2022-01-06T15:00:00",
          "2022-01-06T16:00:00",
          "2022-01-06T17:00:00",
          "2022-01-06T18:00:00",
          "2022-01-06T19:00:00",
          "2022-01-06T20:00:00",
          "2022-01-06T21:00:00",
          "2022-01-06T22:00:00",
          "2022-01-06T23:00:00",
          "2022-01-07T00:00:00",
          "2022-01-07T01:00:00",
          "2022-01-07T02:00:00",
          "2022-01-07T03:00:00",
          "2022-01-07T04:00:00",
          "2022-01-07T05:00:00",
          "2022-01-07T06:00:00",
          "2022-01-07T07:00:00",
          "2022-01-07T08:00:00",
          "2022-01-07T09:00:00",
          "2022-01-07T10:00:00",
          "2022-01-07T11:00:00",
          "2022-01-07T12:00:00",
          "2022-01-07T13:00:00",
          "2022-01-07T14:00:00",
          "2022-01-07T15:00:00",
          "2022-01-07T16:00:00",
          "2022-01-07T17:00:00",
          "2022-01-07T18:00:00",
          "2022-01-07T19:00:00",
          "2022-01-07T20:00:00",
          "2022-01-07T21:00:00",
          "2022-01-07T22:00:00",
          "2022-01-07T23:00:00",
          "2022-01-08T00:00:00",
          "2022-01-08T01:00:00",
          "2022-01-08T02:00:00",
          "2022-01-08T03:00:00",
          "2022-01-08T04:00:00",
          "2022-01-08T05:00:00",
          "2022-01-08T06:00:00",
          "2022-01-08T07:00:00",
          "2022-01-08T08:00:00",
          "2022-01-08T09:00:00",
          "2022-01-08T10:00:00",
          "2022-01-08T11:00:00",
          "2022-01-08T12:00:00",
          "2022-01-08T13:00:00",
          "2022-01-08T14:00:00",
          "2022-01-08T15:00:00",
          "2022-01-08T16:00:00",
          "2022-01-08T17:00:00",
          "2022-01-08T18:00:00",
          "2022-01-08T19:00:00",
          "2022-01-08T20:00:00",
          "2022-01-08T21:00:00",
          "2022-01-08T22:00:00",
          "2022-01-08T23:00:00",
          "2022-01-09T00:00:00",
          "2022-01-09T01:00:00",
          "2022-01-09T02:00:00",
          "2022-01-09T03:00:00",
          "2022-01-09T04:00:00",
          "2022-01-09T05:00:00",
          "2022-01-09T06:00:00",
          "2022-01-09T07:00:00",
          "2022-01-09T08:00:00",
          "2022-01-09T09:00:00",
          "2022-01-09T10:00:00",
          "2022-01-09T11:00:00",
          "2022-01-09T12:00:00",
          "2022-01-09T13:00:00",
          "2022-01-09T14:00:00",
          "2022-01-09T15:00:00",
          "2022-01-09T16:00:00",
          "2022-01-09T17:00:00",
          "2022-01-09T18:00:00",
          "2022-01-09T19:00:00",
          "2022-01-09T20:00:00",
          "2022-01-09T21:00:00",
          "2022-01-09T22:00:00",
          "2022-01-09T23:00:00",
          "2022-01-10T00:00:00",
          "2022-01-10T01:00:00",
          "2022-01-10T02:00:00",
          "2022-01-10T03:00:00",
          "2022-01-10T04:00:00",
          "2022-01-10T05:00:00",
          "2022-01-10T06:00:00",
          "2022-01-10T07:00:00",
          "2022-01-10T08:00:00",
          "2022-01-10T09:00:00",
          "2022-01-10T10:00:00",
          "2022-01-10T11:00:00",
          "2022-01-10T12:00:00",
          "2022-01-10T13:00:00",
          "2022-01-10T14:00:00",
          "2022-01-10T15:00:00",
          "2022-01-10T16:00:00",
          "2022-01-10T17:00:00",
          "2022-01-10T18:00:00",
          "2022-01-10T19:00:00",
          "2022-01-10T20:00:00",
          "2022-01-10T21:00:00",
          "2022-01-10T22:00:00",
          "2022-01-10T23:00:00",
          "2022-01-11T00:00:00",
          "2022-01-11T01:00:00",
          "2022-01-11T02:00:00",
          "2022-01-11T03:00:00",
          "2022-01-11T04:00:00",
          "2022-01-11T05:00:00",
          "2022-01-11T06:00:00",
          "2022-01-11T07:00:00",
          "2022-01-11T08:00:00",
          "2022-01-11T09:00:00",
          "2022-01-11T10:00:00",
          "2022-01-11T11:00:00",
          "2022-01-11T12:00:00",
          "2022-01-11T13:00:00",
          "2022-01-11T14:00:00",
          "2022-01-11T15:00:00",
          "2022-01-11T16:00:00",
          "2022-01-11T17:00:00",
          "2022-01-11T18:00:00",
          "2022-01-11T19:00:00",
          "2022-01-11T20:00:00",
          "2022-01-11T21:00:00",
          "2022-01-11T22:00:00",
          "2022-01-11T23:00:00",
          "2022-01-12T00:00:00",
          "2022-01-12T01:00:00",
          "2022-01-12T02:00:00",
          "2022-01-12T03:00:00",
          "2022-01-12T04:00:00",
          "2022-01-12T05:00:00",
          "2022-01-12T06:00:00",
          "2022-01-12T07:00:00",
          "2022-01-12T08:00:00",
          "2022-01-12T09:00:00",
          "2022-01-12T10:00:00",
          "2022-01-12T11:00:00",
          "2022-01-12T12:00:00",
          "2022-01-12T13:00:00",
          "2022-01-12T14:00:00",
          "2022-01-12T15:00:00",
          "2022-01-12T16:00:00",
          "2022-01-12T17:00:00",
          "2022-01-12T18:00:00",
          "2022-01-12T19:00:00",
          "2022-01-12T20:00:00",
          "2022-01-12T21:00:00",
          "2022-01-12T22:00:00",
          "2022-01-12T23:00:00",
          "2022-01-13T00:00:00",
          "2022-01-13T01:00:00",
          "2022-01-13T02:00:00",
          "2022-01-13T03:00:00",
          "2022-01-13T04:00:00",
          "2022-01-13T05:00:00",
          "2022-01-13T06:00:00",
          "2022-01-13T07:00:00",
          "2022-01-13T08:00:00",
          "2022-01-13T09:00:00",
          "2022-01-13T10:00:00",
          "2022-01-13T11:00:00",
          "2022-01-13T12:00:00",
          "2022-01-13T13:00:00",
          "2022-01-13T14:00:00",
          "2022-01-13T15:00:00",
          "2022-01-13T16:00:00",
          "2022-01-13T17:00:00",
          "2022-01-13T18:00:00",
          "2022-01-13T19:00:00",
          "2022-01-13T20:00:00",
          "2022-01-13T21:00:00",
          "2022-01-13T22:00:00",
          "2022-01-13T23:00:00",
          "2022-01-14T00:00:00",
          "2022-01-14T01:00:00",
          "2022-01-14T02:00:00",
          "2022-01-14T03:00:00",
          "2022-01-14T04:00:00",
          "2022-01-14T05:00:00",
          "2022-01-14T06:00:00",
          "2022-01-14T07:00:00",
          "2022-01-14T08:00:00",
          "2022-01-14T09:00:00",
          "2022-01-14T10:00:00",
          "2022-01-14T11:00:00",
          "2022-01-14T12:00:00",
          "2022-01-14T13:00:00",
          "2022-01-14T14:00:00",
          "2022-01-14T15:00:00",
          "2022-01-14T16:00:00",
          "2022-01-14T17:00:00",
          "2022-01-14T18:00:00",
          "2022-01-14T19:00:00",
          "2022-01-14T20:00:00",
          "2022-01-14T21:00:00",
          "2022-01-14T22:00:00",
          "2022-01-14T23:00:00",
          "2022-01-15T00:00:00",
          "2022-01-15T01:00:00",
          "2022-01-15T02:00:00",
          "2022-01-15T03:00:00",
          "2022-01-15T04:00:00",
          "2022-01-15T05:00:00",
          "2022-01-15T06:00:00",
          "2022-01-15T07:00:00",
          "2022-01-15T08:00:00",
          "2022-01-15T09:00:00",
          "2022-01-15T10:00:00",
          "2022-01-15T11:00:00",
          "2022-01-15T12:00:00",
          "2022-01-15T13:00:00",
          "2022-01-15T14:00:00",
          "2022-01-15T15:00:00",
          "2022-01-15T16:00:00",
          "2022-01-15T17:00:00",
          "2022-01-15T18:00:00",
          "2022-01-15T19:00:00",
          "2022-01-15T20:00:00",
          "2022-01-15T21:00:00",
          "2022-01-15T22:00:00",
          "2022-01-15T23:00:00",
          "2022-01-16T00:00:00",
          "2022-01-16T01:00:00",
          "2022-01-16T02:00:00",
          "2022-01-16T03:00:00",
          "2022-01-16T04:00:00",
          "2022-01-16T05:00:00",
          "2022-01-16T06:00:00",
          "2022-01-16T07:00:00",
          "2022-01-16T08:00:00",
          "2022-01-16T09:00:00",
          "2022-01-16T10:00:00",
          "2022-01-16T11:00:00",
          "2022-01-16T12:00:00",
          "2022-01-16T13:00:00",
          "2022-01-16T14:00:00",
          "2022-01-16T15:00:00",
          "2022-01-16T16:00:00",
          "2022-01-16T17:00:00",
          "2022-01-16T18:00:00",
          "2022-01-16T19:00:00",
          "2022-01-16T20:00:00",
          "2022-01-16T21:00:00",
          "2022-01-16T22:00:00",
          "2022-01-16T23:00:00",
          "2022-01-17T00:00:00",
          "2022-01-17T01:00:00",
          "2022-01-17T02:00:00",
          "2022-01-17T03:00:00",
          "2022-01-17T04:00:00",
          "2022-01-17T05:00:00",
          "2022-01-17T06:00:00",
          "2022-01-17T07:00:00",
          "2022-01-17T08:00:00",
          "2022-01-17T09:00:00",
          "2022-01-17T10:00:00",
          "2022-01-17T11:00:00",
          "2022-01-17T12:00:00",
          "2022-01-17T13:00:00",
          "2022-01-17T14:00:00",
          "2022-01-17T15:00:00",
          "2022-01-17T16:00:00",
          "2022-01-17T17:00:00",
          "2022-01-17T18:00:00",
          "2022-01-17T19:00:00",
          "2022-01-17T20:00:00",
          "2022-01-17T21:00:00",
          "2022-01-17T22:00:00",
          "2022-01-17T23:00:00",
          "2022-01-18T00:00:00",
          "2022-01-18T01:00:00",
          "2022-01-18T02:00:00",
          "2022-01-18T03:00:00",
          "2022-01-18T04:00:00",
          "2022-01-18T05:00:00",
          "2022-01-18T06:00:00",
          "2022-01-18T07:00:00",
          "2022-01-18T08:00:00",
          "2022-01-18T09:00:00",
          "2022-01-18T10:00:00",
          "2022-01-18T11:00:00",
          "2022-01-18T12:00:00",
          "2022-01-18T13:00:00",
          "2022-01-18T14:00:00",
          "2022-01-18T15:00:00",
          "2022-01-18T16:00:00",
          "2022-01-18T17:00:00",
          "2022-01-18T18:00:00",
          "2022-01-18T19:00:00",
          "2022-01-18T20:00:00",
          "2022-01-18T21:00:00",
          "2022-01-18T22:00:00",
          "2022-01-18T23:00:00",
          "2022-01-19T00:00:00",
          "2022-01-19T01:00:00",
          "2022-01-19T02:00:00",
          "2022-01-19T03:00:00",
          "2022-01-19T04:00:00",
          "2022-01-19T05:00:00",
          "2022-01-19T06:00:00",
          "2022-01-19T07:00:00",
          "2022-01-19T08:00:00",
          "2022-01-19T09:00:00",
          "2022-01-19T10:00:00",
          "2022-01-19T11:00:00",
          "2022-01-19T12:00:00",
          "2022-01-19T13:00:00",
          "2022-01-19T14:00:00",
          "2022-01-19T15:00:00",
          "2022-01-19T16:00:00",
          "2022-01-19T17:00:00",
          "2022-01-19T18:00:00",
          "2022-01-19T19:00:00",
          "2022-01-19T20:00:00",
          "2022-01-19T21:00:00",
          "2022-01-19T22:00:00",
          "2022-01-19T23:00:00",
          "2022-01-20T00:00:00",
          "2022-01-20T01:00:00",
          "2022-01-20T02:00:00",
          "2022-01-20T03:00:00",
          "2022-01-20T04:00:00",
          "2022-01-20T05:00:00",
          "2022-01-20T06:00:00",
          "2022-01-20T07:00:00",
          "2022-01-20T08:00:00",
          "2022-01-20T09:00:00",
          "2022-01-20T10:00:00",
          "2022-01-20T11:00:00",
          "2022-01-20T12:00:00",
          "2022-01-20T13:00:00",
          "2022-01-20T14:00:00",
          "2022-01-20T15:00:00",
          "2022-01-20T16:00:00",
          "2022-01-20T17:00:00",
          "2022-01-20T18:00:00",
          "2022-01-20T19:00:00",
          "2022-01-20T20:00:00",
          "2022-01-20T21:00:00",
          "2022-01-20T22:00:00",
          "2022-01-20T23:00:00",
          "2022-01-21T00:00:00",
          "2022-01-21T01:00:00",
          "2022-01-21T02:00:00",
          "2022-01-21T03:00:00",
          "2022-01-21T04:00:00",
          "2022-01-21T05:00:00",
          "2022-01-21T06:00:00",
          "2022-01-21T07:00:00",
          "2022-01-21T08:00:00",
          "2022-01-21T09:00:00",
          "2022-01-21T10:00:00",
          "2022-01-21T11:00:00",
          "2022-01-21T12:00:00",
          "2022-01-21T13:00:00",
          "2022-01-21T14:00:00",
          "2022-01-21T15:00:00",
          "2022-01-21T16:00:00",
          "2022-01-21T17:00:00",
          "2022-01-21T18:00:00",
          "2022-01-21T19:00:00",
          "2022-01-21T20:00:00",
          "2022-01-21T21:00:00",
          "2022-01-21T22:00:00",
          "2022-01-21T23:00:00",
          "2022-01-22T00:00:00",
          "2022-01-22T01:00:00",
          "2022-01-22T02:00:00",
          "2022-01-22T03:00:00",
          "2022-01-22T04:00:00",
          "2022-01-22T05:00:00",
          "2022-01-22T06:00:00",
          "2022-01-22T07:00:00",
          "2022-01-22T08:00:00",
          "2022-01-22T09:00:00",
          "2022-01-22T10:00:00",
          "2022-01-22T11:00:00",
          "2022-01-22T12:00:00",
          "2022-01-22T13:00:00",
          "2022-01-22T14:00:00",
          "2022-01-22T15:00:00",
          "2022-01-22T16:00:00",
          "2022-01-22T17:00:00",
          "2022-01-22T18:00:00",
          "2022-01-22T19:00:00",
          "2022-01-22T20:00:00",
          "2022-01-22T21:00:00",
          "2022-01-22T22:00:00",
          "2022-01-22T23:00:00",
          "2022-01-23T00:00:00",
          "2022-01-23T01:00:00",
          "2022-01-23T02:00:00",
          "2022-01-23T03:00:00",
          "2022-01-23T04:00:00",
          "2022-01-23T05:00:00",
          "2022-01-23T06:00:00",
          "2022-01-23T07:00:00",
          "2022-01-23T08:00:00",
          "2022-01-23T09:00:00",
          "2022-01-23T10:00:00",
          "2022-01-23T11:00:00",
          "2022-01-23T12:00:00",
          "2022-01-23T13:00:00",
          "2022-01-23T14:00:00",
          "2022-01-23T15:00:00",
          "2022-01-23T16:00:00",
          "2022-01-23T17:00:00",
          "2022-01-23T18:00:00",
          "2022-01-23T19:00:00",
          "2022-01-23T20:00:00",
          "2022-01-23T21:00:00",
          "2022-01-23T22:00:00",
          "2022-01-23T23:00:00",
          "2022-01-24T00:00:00",
          "2022-01-24T01:00:00",
          "2022-01-24T02:00:00",
          "2022-01-24T03:00:00",
          "2022-01-24T04:00:00",
          "2022-01-24T05:00:00",
          "2022-01-24T06:00:00",
          "2022-01-24T07:00:00",
          "2022-01-24T08:00:00",
          "2022-01-24T09:00:00",
          "2022-01-24T10:00:00",
          "2022-01-24T11:00:00",
          "2022-01-24T12:00:00",
          "2022-01-24T13:00:00",
          "2022-01-24T14:00:00",
          "2022-01-24T15:00:00",
          "2022-01-24T16:00:00",
          "2022-01-24T17:00:00",
          "2022-01-24T18:00:00",
          "2022-01-24T19:00:00",
          "2022-01-24T20:00:00",
          "2022-01-24T21:00:00",
          "2022-01-24T22:00:00",
          "2022-01-24T23:00:00",
          "2022-01-25T00:00:00",
          "2022-01-25T01:00:00",
          "2022-01-25T02:00:00",
          "2022-01-25T03:00:00",
          "2022-01-25T04:00:00",
          "2022-01-25T05:00:00",
          "2022-01-25T06:00:00",
          "2022-01-25T07:00:00",
          "2022-01-25T08:00:00",
          "2022-01-25T09:00:00",
          "2022-01-25T10:00:00",
          "2022-01-25T11:00:00",
          "2022-01-25T12:00:00",
          "2022-01-25T13:00:00",
          "2022-01-25T14:00:00",
          "2022-01-25T15:00:00",
          "2022-01-25T16:00:00",
          "2022-01-25T17:00:00",
          "2022-01-25T18:00:00",
          "2022-01-25T19:00:00",
          "2022-01-25T20:00:00",
          "2022-01-25T21:00:00",
          "2022-01-25T22:00:00",
          "2022-01-25T23:00:00",
          "2022-01-26T00:00:00",
          "2022-01-26T01:00:00",
          "2022-01-26T02:00:00",
          "2022-01-26T03:00:00",
          "2022-01-26T04:00:00",
          "2022-01-26T05:00:00",
          "2022-01-26T06:00:00",
          "2022-01-26T07:00:00",
          "2022-01-26T08:00:00",
          "2022-01-26T09:00:00",
          "2022-01-26T10:00:00",
          "2022-01-26T11:00:00",
          "2022-01-26T12:00:00",
          "2022-01-26T13:00:00",
          "2022-01-26T14:00:00",
          "2022-01-26T15:00:00",
          "2022-01-26T16:00:00",
          "2022-01-26T17:00:00",
          "2022-01-26T18:00:00",
          "2022-01-26T19:00:00",
          "2022-01-26T20:00:00",
          "2022-01-26T21:00:00",
          "2022-01-26T22:00:00",
          "2022-01-26T23:00:00",
          "2022-01-27T00:00:00",
          "2022-01-27T01:00:00",
          "2022-01-27T02:00:00",
          "2022-01-27T03:00:00",
          "2022-01-27T04:00:00",
          "2022-01-27T05:00:00",
          "2022-01-27T06:00:00",
          "2022-01-27T07:00:00",
          "2022-01-27T08:00:00",
          "2022-01-27T09:00:00",
          "2022-01-27T10:00:00",
          "2022-01-27T11:00:00",
          "2022-01-27T12:00:00",
          "2022-01-27T13:00:00",
          "2022-01-27T14:00:00",
          "2022-01-27T15:00:00",
          "2022-01-27T16:00:00",
          "2022-01-27T17:00:00",
          "2022-01-27T18:00:00",
          "2022-01-27T19:00:00",
          "2022-01-27T20:00:00",
          "2022-01-27T21:00:00",
          "2022-01-27T22:00:00",
          "2022-01-27T23:00:00",
          "2022-01-28T00:00:00",
          "2022-01-28T01:00:00",
          "2022-01-28T02:00:00",
          "2022-01-28T03:00:00",
          "2022-01-28T04:00:00",
          "2022-01-28T05:00:00",
          "2022-01-28T06:00:00",
          "2022-01-28T07:00:00",
          "2022-01-28T08:00:00",
          "2022-01-28T09:00:00",
          "2022-01-28T10:00:00",
          "2022-01-28T11:00:00",
          "2022-01-28T12:00:00",
          "2022-01-28T13:00:00",
          "2022-01-28T14:00:00",
          "2022-01-28T15:00:00",
          "2022-01-28T16:00:00",
          "2022-01-28T17:00:00",
          "2022-01-28T18:00:00",
          "2022-01-28T19:00:00",
          "2022-01-28T20:00:00",
          "2022-01-28T21:00:00",
          "2022-01-28T22:00:00",
          "2022-01-28T23:00:00",
          "2022-01-29T00:00:00",
          "2022-01-29T01:00:00",
          "2022-01-29T02:00:00",
          "2022-01-29T03:00:00",
          "2022-01-29T04:00:00",
          "2022-01-29T05:00:00",
          "2022-01-29T06:00:00",
          "2022-01-29T07:00:00",
          "2022-01-29T08:00:00",
          "2022-01-29T09:00:00",
          "2022-01-29T10:00:00",
          "2022-01-29T11:00:00",
          "2022-01-29T12:00:00",
          "2022-01-29T13:00:00",
          "2022-01-29T14:00:00",
          "2022-01-29T15:00:00",
          "2022-01-29T16:00:00",
          "2022-01-29T17:00:00",
          "2022-01-29T18:00:00",
          "2022-01-29T19:00:00",
          "2022-01-29T20:00:00",
          "2022-01-29T21:00:00",
          "2022-01-29T22:00:00",
          "2022-01-29T23:00:00",
          "2022-01-30T00:00:00",
          "2022-01-30T01:00:00",
          "2022-01-30T02:00:00",
          "2022-01-30T03:00:00",
          "2022-01-30T04:00:00",
          "2022-01-30T05:00:00",
          "2022-01-30T06:00:00",
          "2022-01-30T07:00:00",
          "2022-01-30T08:00:00",
          "2022-01-30T09:00:00",
          "2022-01-30T10:00:00",
          "2022-01-30T11:00:00",
          "2022-01-30T12:00:00",
          "2022-01-30T13:00:00",
          "2022-01-30T14:00:00",
          "2022-01-30T15:00:00",
          "2022-01-30T16:00:00",
          "2022-01-30T17:00:00",
          "2022-01-30T18:00:00",
          "2022-01-30T19:00:00",
          "2022-01-30T20:00:00",
          "2022-01-30T21:00:00",
          "2022-01-30T22:00:00",
          "2022-01-30T23:00:00",
          "2022-01-31T00:00:00",
          "2022-01-31T01:00:00",
          "2022-01-31T02:00:00",
          "2022-01-31T03:00:00",
          "2022-01-31T04:00:00",
          "2022-01-31T05:00:00",
          "2022-01-31T06:00:00",
          "2022-01-31T07:00:00",
          "2022-01-31T08:00:00",
          "2022-01-31T09:00:00",
          "2022-01-31T10:00:00",
          "2022-01-31T11:00:00",
          "2022-01-31T12:00:00",
          "2022-01-31T13:00:00",
          "2022-01-31T14:00:00",
          "2022-01-31T15:00:00",
          "2022-01-31T16:00:00",
          "2022-01-31T17:00:00",
          "2022-01-31T18:00:00",
          "2022-01-31T19:00:00",
          "2022-01-31T20:00:00",
          "2022-01-31T21:00:00",
          "2022-01-31T22:00:00",
          "2022-01-31T23:00:00"
         ],
         "y": [
          46650.01,
          46766.78,
          46796.14,
          46789.56,
          46690.81,
          47184.18,
          46972.19,
          47186.83,
          47117.84,
          47137.37,
          46864.09,
          46755.01,
          47062.37,
          47005.55,
          46909.2,
          47194.78,
          47249.99,
          47733.16,
          47546.74,
          47326.98,
          47385.22,
          47322.2,
          47428.16,
          47704.35,
          47622.14,
          47381.21,
          47374.28,
          47330.75,
          46902.11,
          47077.7,
          47122.49,
          47171.04,
          47211.36,
          47263.18,
          47175.95,
          47231.3,
          47279.57,
          47133.07,
          47110.2,
          47329.68,
          47780.0,
          47402.3,
          47046.95,
          46908.29,
          47012.47,
          47023.47,
          47261.73,
          47280.0,
          47059.43,
          47117.42,
          47005.39,
          46802.86,
          46823.58,
          47083.37,
          46930.85,
          47041.11,
          46970.01,
          46979.01,
          47116.89,
          47364.11,
          47192.64,
          47157.33,
          46874.66,
          46689.99,
          46484.0,
          46564.54,
          46469.49,
          46364.55,
          45904.74,
          45974.5,
          46214.28,
          46445.81,
          46251.5,
          46065.39,
          46111.81,
          46313.95,
          46107.5,
          46151.49,
          46359.14,
          46521.68,
          46475.02,
          46355.2,
          46599.84,
          46709.98,
          46628.88,
          46933.15,
          47303.01,
          46925.28,
          46767.94,
          46564.0,
          45742.69,
          46058.09,
          46267.79,
          46230.6,
          46155.89,
          45833.42,
          46260.08,
          46112.1,
          46291.45,
          46409.76,
          46419.0,
          46302.72,
          46454.0,
          46399.33,
          46626.53,
          46850.75,
          46809.4,
          46271.93,
          46228.27,
          46429.36,
          46682.79,
          46611.46,
          46308.23,
          46007.99,
          45922.29,
          44673.22,
          43958.56,
          43604.0,
          43415.84,
          43421.69,
          43656.0,
          43525.91,
          43248.4,
          42817.38,
          43007.21,
          43038.12,
          43091.6,
          43222.22,
          43050.0,
          42591.58,
          42874.38,
          42865.15,
          43047.4,
          43123.15,
          42802.24,
          42947.79,
          42878.24,
          42994.68,
          43353.88,
          43409.03,
          43206.67,
          43105.1,
          43163.57,
          43080.01,
          42787.99,
          42988.26,
          42795.77,
          41789.97,
          41680.0,
          41835.97,
          41520.0,
          41691.61,
          42089.3,
          42409.0,
          42167.9,
          42249.99,
          42393.02,
          41471.53,
          41876.11,
          41297.41,
          42131.75,
          41978.79,
          41695.07,
          41764.32,
          41910.96,
          41862.38,
          41522.5,
          41553.86,
          41992.23,
          41880.01,
          41870.9,
          41796.03,
          41880.0,
          41954.47,
          41901.74,
          41902.21,
          41948.85,
          42138.03,
          41907.21,
          41918.02,
          41851.23,
          41884.04,
          41737.01,
          41600.72,
          41342.06,
          40846.58,
          40684.09,
          40837.51,
          40976.06,
          41775.18,
          41912.88,
          41688.05,
          41774.19,
          41800.81,
          42090.34,
          41835.6,
          42065.29,
          41762.99,
          41866.0,
          41784.63,
          41657.45,
          41503.75,
          41636.97,
          41854.25,
          41737.43,
          41467.75,
          41530.99,
          41611.09,
          42127.99,
          42084.96,
          41954.99,
          42678.95,
          42414.64,
          42290.28,
          42193.23,
          41851.22,
          41644.58,
          41790.01,
          41905.0,
          41946.05,
          42164.36,
          42006.0,
          41914.84,
          42034.99,
          41803.54,
          41788.54,
          41765.01,
          41564.26,
          40931.61,
          40753.0,
          40768.6,
          40973.56,
          41892.96,
          41167.99,
          41584.61,
          41280.45,
          41698.68,
          41696.66,
          41592.95,
          41801.55,
          41585.19,
          41913.72,
          42146.26,
          42251.59,
          42284.21,
          42096.61,
          42088.99,
          42191.79,
          41978.17,
          41967.92,
          41619.09,
          41800.95,
          41796.8,
          41691.83,
          41616.57,
          41716.42,
          42684.18,
          42523.15,
          42730.31,
          42938.55,
          42774.08,
          42643.77,
          42685.05,
          42700.68,
          42664.57,
          42617.4,
          42545.54,
          42592.92,
          42614.35,
          42688.49,
          42661.99,
          42550.09,
          42594.19,
          42778.0,
          42739.14,
          42906.98,
          43245.67,
          43881.76,
          43819.68,
          43549.99,
          43593.0,
          43814.93,
          43570.0,
          43707.2,
          43794.87,
          43756.14,
          43813.58,
          43880.72,
          43699.62,
          43540.96,
          43583.2,
          43501.19,
          43604.4,
          43645.7,
          43692.74,
          43682.7,
          43876.44,
          43855.47,
          43766.01,
          43592.1,
          43786.9,
          43891.64,
          44120.24,
          43170.0,
          43224.79,
          42800.0,
          42699.54,
          42690.02,
          42760.66,
          42780.0,
          42566.68,
          42534.32,
          42732.33,
          42576.16,
          42690.0,
          42611.77,
          42655.5,
          42864.34,
          42781.41,
          42635.62,
          42505.72,
          42535.65,
          42059.75,
          41983.12,
          42029.37,
          42140.37,
          42945.09,
          43082.57,
          43183.63,
          42904.07,
          43030.9,
          43055.09,
          43075.96,
          43268.35,
          43230.0,
          43042.4,
          43082.04,
          42965.85,
          43080.0,
          42918.27,
          42895.77,
          42965.67,
          43048.54,
          43073.99,
          42968.18,
          43042.65,
          43085.01,
          42995.23,
          42700.0,
          42889.22,
          43162.19,
          43370.01,
          43306.35,
          43348.2,
          43297.97,
          43496.85,
          43473.72,
          43281.73,
          43225.92,
          43070.51,
          43060.0,
          42979.6,
          42915.41,
          42966.51,
          43004.91,
          42941.14,
          43171.67,
          43173.02,
          43063.92,
          43064.22,
          42904.4,
          42960.0,
          42990.01,
          43097.88,
          43280.64,
          43207.81,
          43359.08,
          43059.54,
          43042.16,
          42817.01,
          43014.28,
          42937.0,
          43157.21,
          43060.66,
          42873.86,
          42879.99,
          42901.91,
          42635.91,
          42606.26,
          42649.7,
          42730.98,
          42639.51,
          42770.01,
          42825.25,
          42775.48,
          42656.61,
          42544.28,
          42631.58,
          42645.25,
          42467.49,
          42212.29,
          42108.49,
          42162.86,
          42221.15,
          42065.0,
          41710.21,
          42063.78,
          42176.34,
          42338.0,
          42238.63,
          42254.78,
          42027.18,
          42022.52,
          42084.88,
          42219.79,
          42040.0,
          41709.99,
          41885.84,
          41909.98,
          41842.4,
          41793.31,
          41640.32,
          41441.51,
          41574.09,
          41693.15,
          41480.65,
          41596.98,
          41680.93,
          41767.25,
          42348.55,
          42460.89,
          42337.58,
          42242.57,
          42409.54,
          42324.74,
          41690.59,
          41699.55,
          41751.99,
          41700.0,
          41271.21,
          41362.88,
          41553.2,
          41494.2,
          42023.15,
          42075.1,
          42171.24,
          42475.99,
          41971.31,
          41904.33,
          42150.0,
          42000.01,
          41864.47,
          41626.0,
          41704.26,
          41956.47,
          41657.89,
          41824.64,
          41756.21,
          41969.69,
          41915.36,
          41875.9,
          41878.84,
          41988.84,
          42039.99,
          41956.98,
          42038.6,
          42089.94,
          42117.31,
          42019.89,
          42368.81,
          42941.36,
          43275.74,
          43257.22,
          43020.35,
          42824.44,
          42909.99,
          42715.35,
          41319.68,
          41137.96,
          40661.69,
          40884.57,
          39750.69,
          39818.48,
          38447.91,
          38819.99,
          38888.95,
          38663.95,
          39106.42,
          39140.86,
          38942.78,
          38956.26,
          38878.71,
          38169.34,
          38484.39,
          38411.24,
          38831.88,
          38704.37,
          38369.69,
          38254.15,
          37967.04,
          38337.36,
          36634.29,
          36093.06,
          36425.98,
          36468.66,
          36475.49,
          36460.42,
          36319.99,
          36258.38,
          35728.06,
          35706.43,
          35374.14,
          35583.24,
          34804.48,
          35461.77,
          35385.59,
          35744.46,
          35572.97,
          35008.02,
          34829.93,
          35085.04,
          34590.01,
          34379.45,
          34506.47,
          35275.85,
          35364.01,
          34861.04,
          35043.73,
          35378.61,
          35296.61,
          34862.32,
          35032.09,
          35199.96,
          35429.32,
          35262.76,
          35553.2,
          35820.2,
          35860.35,
          35883.99,
          35671.57,
          35780.01,
          35944.34,
          35308.53,
          35265.33,
          35211.97,
          35314.96,
          34942.06,
          34763.65,
          35271.3,
          35335.74,
          35490.61,
          36230.01,
          35820.19,
          35640.34,
          35191.05,
          35315.02,
          35106.28,
          35164.38,
          35257.01,
          34875.53,
          34952.37,
          34500.0,
          33270.45,
          33690.01,
          33080.0,
          33319.31,
          33609.51,
          34217.72,
          34384.59,
          35331.17,
          36154.52,
          36050.48,
          37210.38,
          36800.0,
          36368.23,
          36648.31,
          36027.97,
          36116.84,
          36298.0,
          36405.01,
          35939.0,
          36037.16,
          35834.99,
          36035.0,
          36059.27,
          36389.86,
          36410.05,
          36385.0,
          36497.26,
          36479.25,
          36285.7,
          36522.01,
          36805.52,
          37245.24,
          37299.99,
          37039.99,
          36836.91,
          36544.92,
          36769.99,
          36934.26,
          36618.66,
          36833.76,
          36800.15,
          37363.81,
          37762.15,
          37575.0,
          37284.0,
          37321.95,
          37571.86,
          37620.01,
          37910.63,
          38045.91,
          37737.5,
          38170.01,
          38201.88,
          37962.11,
          38234.95,
          38032.27,
          37950.7,
          37548.79,
          36989.1,
          36311.23,
          36489.99,
          36787.43,
          36975.1,
          35868.54,
          35995.29,
          35730.42,
          35912.56,
          35953.76,
          36113.73,
          36150.76,
          36420.01,
          36505.31,
          36301.17,
          36670.15,
          36650.16,
          36806.08,
          36856.18,
          36625.3,
          36513.66,
          36266.37,
          36191.5,
          36194.34,
          35574.0,
          36168.83,
          36683.88,
          37131.0,
          37129.08,
          36862.77,
          36928.66,
          37341.84,
          37210.01,
          37196.06,
          36896.94,
          36788.86,
          36643.79,
          36473.29,
          36596.93,
          36433.29,
          36268.18,
          36890.17,
          36749.65,
          37169.99,
          37082.54,
          36832.16,
          37022.43,
          37205.88,
          37730.18,
          37780.0,
          37642.62,
          37696.21,
          37771.58,
          37520.01,
          37524.39,
          37715.0,
          37793.51,
          37644.0,
          37729.08,
          37822.15,
          37767.6,
          37690.66,
          37740.1,
          37723.57,
          37826.86,
          38129.98,
          37599.38,
          37543.79,
          37519.07,
          37628.76,
          37781.35,
          37831.0,
          38319.8,
          38336.71,
          38120.2,
          38150.01,
          37808.09,
          37916.8,
          37940.63,
          37899.99,
          38081.78,
          38122.67,
          38090.01,
          38228.0,
          37992.01,
          37881.93,
          38173.57,
          38095.46,
          37921.37,
          37945.42,
          37825.49,
          37962.13,
          37822.24,
          37975.0,
          37813.89,
          37505.73,
          37665.0,
          37713.0,
          37767.09,
          37870.01,
          36821.39,
          36804.37,
          36965.9,
          36998.67,
          36894.99,
          36981.0,
          36901.05,
          37098.68,
          37124.29,
          37185.01,
          37274.01,
          37245.0,
          37063.91,
          37225.71,
          37484.04,
          37694.46,
          38304.62,
          38449.98,
          38446.43,
          38400.0,
          38432.32,
          38395.17,
          38385.61,
          38439.04
         ],
         "type": "scatter",
         "xaxis": "x",
         "yaxis": "y"
        },
        {
         "mode": "lines",
         "name": "Reddit Posts compound score",
         "x": [
          "2022-01-01T00:00:00",
          "2022-01-01T01:00:00",
          "2022-01-01T02:00:00",
          "2022-01-01T03:00:00",
          "2022-01-01T04:00:00",
          "2022-01-01T05:00:00",
          "2022-01-01T06:00:00",
          "2022-01-01T07:00:00",
          "2022-01-01T08:00:00",
          "2022-01-01T09:00:00",
          "2022-01-01T10:00:00",
          "2022-01-01T11:00:00",
          "2022-01-01T12:00:00",
          "2022-01-01T13:00:00",
          "2022-01-01T14:00:00",
          "2022-01-01T15:00:00",
          "2022-01-01T16:00:00",
          "2022-01-01T17:00:00",
          "2022-01-01T18:00:00",
          "2022-01-01T19:00:00",
          "2022-01-01T20:00:00",
          "2022-01-01T21:00:00",
          "2022-01-01T22:00:00",
          "2022-01-01T23:00:00",
          "2022-01-02T00:00:00",
          "2022-01-02T01:00:00",
          "2022-01-02T02:00:00",
          "2022-01-02T03:00:00",
          "2022-01-02T04:00:00",
          "2022-01-02T05:00:00",
          "2022-01-02T06:00:00",
          "2022-01-02T07:00:00",
          "2022-01-02T08:00:00",
          "2022-01-02T09:00:00",
          "2022-01-02T10:00:00",
          "2022-01-02T11:00:00",
          "2022-01-02T12:00:00",
          "2022-01-02T13:00:00",
          "2022-01-02T14:00:00",
          "2022-01-02T15:00:00",
          "2022-01-02T16:00:00",
          "2022-01-02T17:00:00",
          "2022-01-02T18:00:00",
          "2022-01-02T19:00:00",
          "2022-01-02T20:00:00",
          "2022-01-02T21:00:00",
          "2022-01-02T22:00:00",
          "2022-01-02T23:00:00",
          "2022-01-03T00:00:00",
          "2022-01-03T01:00:00",
          "2022-01-03T02:00:00",
          "2022-01-03T03:00:00",
          "2022-01-03T04:00:00",
          "2022-01-03T05:00:00",
          "2022-01-03T06:00:00",
          "2022-01-03T07:00:00",
          "2022-01-03T08:00:00",
          "2022-01-03T09:00:00",
          "2022-01-03T10:00:00",
          "2022-01-03T11:00:00",
          "2022-01-03T12:00:00",
          "2022-01-03T13:00:00",
          "2022-01-03T14:00:00",
          "2022-01-03T15:00:00",
          "2022-01-03T16:00:00",
          "2022-01-03T17:00:00",
          "2022-01-03T18:00:00",
          "2022-01-03T19:00:00",
          "2022-01-03T20:00:00",
          "2022-01-03T21:00:00",
          "2022-01-03T22:00:00",
          "2022-01-03T23:00:00",
          "2022-01-04T00:00:00",
          "2022-01-04T01:00:00",
          "2022-01-04T02:00:00",
          "2022-01-04T03:00:00",
          "2022-01-04T04:00:00",
          "2022-01-04T05:00:00",
          "2022-01-04T06:00:00",
          "2022-01-04T07:00:00",
          "2022-01-04T08:00:00",
          "2022-01-04T09:00:00",
          "2022-01-04T10:00:00",
          "2022-01-04T11:00:00",
          "2022-01-04T12:00:00",
          "2022-01-04T13:00:00",
          "2022-01-04T14:00:00",
          "2022-01-04T15:00:00",
          "2022-01-04T16:00:00",
          "2022-01-04T17:00:00",
          "2022-01-04T18:00:00",
          "2022-01-04T19:00:00",
          "2022-01-04T20:00:00",
          "2022-01-04T21:00:00",
          "2022-01-04T22:00:00",
          "2022-01-04T23:00:00",
          "2022-01-05T00:00:00",
          "2022-01-05T01:00:00",
          "2022-01-05T02:00:00",
          "2022-01-05T03:00:00",
          "2022-01-05T04:00:00",
          "2022-01-05T05:00:00",
          "2022-01-05T06:00:00",
          "2022-01-05T07:00:00",
          "2022-01-05T08:00:00",
          "2022-01-05T09:00:00",
          "2022-01-05T10:00:00",
          "2022-01-05T11:00:00",
          "2022-01-05T12:00:00",
          "2022-01-05T13:00:00",
          "2022-01-05T14:00:00",
          "2022-01-05T15:00:00",
          "2022-01-05T16:00:00",
          "2022-01-05T17:00:00",
          "2022-01-05T18:00:00",
          "2022-01-05T19:00:00",
          "2022-01-05T20:00:00",
          "2022-01-05T21:00:00",
          "2022-01-05T22:00:00",
          "2022-01-05T23:00:00",
          "2022-01-06T00:00:00",
          "2022-01-06T01:00:00",
          "2022-01-06T02:00:00",
          "2022-01-06T03:00:00",
          "2022-01-06T04:00:00",
          "2022-01-06T05:00:00",
          "2022-01-06T06:00:00",
          "2022-01-06T07:00:00",
          "2022-01-06T08:00:00",
          "2022-01-06T09:00:00",
          "2022-01-06T10:00:00",
          "2022-01-06T11:00:00",
          "2022-01-06T12:00:00",
          "2022-01-06T13:00:00",
          "2022-01-06T14:00:00",
          "2022-01-06T15:00:00",
          "2022-01-06T16:00:00",
          "2022-01-06T17:00:00",
          "2022-01-06T18:00:00",
          "2022-01-06T19:00:00",
          "2022-01-06T20:00:00",
          "2022-01-06T21:00:00",
          "2022-01-06T22:00:00",
          "2022-01-06T23:00:00",
          "2022-01-07T00:00:00",
          "2022-01-07T01:00:00",
          "2022-01-07T02:00:00",
          "2022-01-07T03:00:00",
          "2022-01-07T04:00:00",
          "2022-01-07T05:00:00",
          "2022-01-07T06:00:00",
          "2022-01-07T07:00:00",
          "2022-01-07T08:00:00",
          "2022-01-07T09:00:00",
          "2022-01-07T10:00:00",
          "2022-01-07T11:00:00",
          "2022-01-07T12:00:00",
          "2022-01-07T13:00:00",
          "2022-01-07T14:00:00",
          "2022-01-07T15:00:00",
          "2022-01-07T16:00:00",
          "2022-01-07T17:00:00",
          "2022-01-07T18:00:00",
          "2022-01-07T19:00:00",
          "2022-01-07T20:00:00",
          "2022-01-07T21:00:00",
          "2022-01-07T22:00:00",
          "2022-01-07T23:00:00",
          "2022-01-08T00:00:00",
          "2022-01-08T01:00:00",
          "2022-01-08T02:00:00",
          "2022-01-08T03:00:00",
          "2022-01-08T04:00:00",
          "2022-01-08T05:00:00",
          "2022-01-08T06:00:00",
          "2022-01-08T07:00:00",
          "2022-01-08T08:00:00",
          "2022-01-08T09:00:00",
          "2022-01-08T10:00:00",
          "2022-01-08T11:00:00",
          "2022-01-08T12:00:00",
          "2022-01-08T13:00:00",
          "2022-01-08T14:00:00",
          "2022-01-08T15:00:00",
          "2022-01-08T16:00:00",
          "2022-01-08T17:00:00",
          "2022-01-08T18:00:00",
          "2022-01-08T19:00:00",
          "2022-01-08T20:00:00",
          "2022-01-08T21:00:00",
          "2022-01-08T22:00:00",
          "2022-01-08T23:00:00",
          "2022-01-09T00:00:00",
          "2022-01-09T01:00:00",
          "2022-01-09T02:00:00",
          "2022-01-09T03:00:00",
          "2022-01-09T04:00:00",
          "2022-01-09T05:00:00",
          "2022-01-09T06:00:00",
          "2022-01-09T07:00:00",
          "2022-01-09T08:00:00",
          "2022-01-09T09:00:00",
          "2022-01-09T10:00:00",
          "2022-01-09T11:00:00",
          "2022-01-09T12:00:00",
          "2022-01-09T13:00:00",
          "2022-01-09T14:00:00",
          "2022-01-09T15:00:00",
          "2022-01-09T16:00:00",
          "2022-01-09T17:00:00",
          "2022-01-09T18:00:00",
          "2022-01-09T19:00:00",
          "2022-01-09T20:00:00",
          "2022-01-09T21:00:00",
          "2022-01-09T22:00:00",
          "2022-01-09T23:00:00",
          "2022-01-10T00:00:00",
          "2022-01-10T01:00:00",
          "2022-01-10T02:00:00",
          "2022-01-10T03:00:00",
          "2022-01-10T04:00:00",
          "2022-01-10T05:00:00",
          "2022-01-10T06:00:00",
          "2022-01-10T07:00:00",
          "2022-01-10T08:00:00",
          "2022-01-10T09:00:00",
          "2022-01-10T10:00:00",
          "2022-01-10T11:00:00",
          "2022-01-10T12:00:00",
          "2022-01-10T13:00:00",
          "2022-01-10T14:00:00",
          "2022-01-10T15:00:00",
          "2022-01-10T16:00:00",
          "2022-01-10T17:00:00",
          "2022-01-10T18:00:00",
          "2022-01-10T19:00:00",
          "2022-01-10T20:00:00",
          "2022-01-10T21:00:00",
          "2022-01-10T22:00:00",
          "2022-01-10T23:00:00",
          "2022-01-11T00:00:00",
          "2022-01-11T01:00:00",
          "2022-01-11T02:00:00",
          "2022-01-11T03:00:00",
          "2022-01-11T04:00:00",
          "2022-01-11T05:00:00",
          "2022-01-11T06:00:00",
          "2022-01-11T07:00:00",
          "2022-01-11T08:00:00",
          "2022-01-11T09:00:00",
          "2022-01-11T10:00:00",
          "2022-01-11T11:00:00",
          "2022-01-11T12:00:00",
          "2022-01-11T13:00:00",
          "2022-01-11T14:00:00",
          "2022-01-11T15:00:00",
          "2022-01-11T16:00:00",
          "2022-01-11T17:00:00",
          "2022-01-11T18:00:00",
          "2022-01-11T19:00:00",
          "2022-01-11T20:00:00",
          "2022-01-11T21:00:00",
          "2022-01-11T22:00:00",
          "2022-01-11T23:00:00",
          "2022-01-12T00:00:00",
          "2022-01-12T01:00:00",
          "2022-01-12T02:00:00",
          "2022-01-12T03:00:00",
          "2022-01-12T04:00:00",
          "2022-01-12T05:00:00",
          "2022-01-12T06:00:00",
          "2022-01-12T07:00:00",
          "2022-01-12T08:00:00",
          "2022-01-12T09:00:00",
          "2022-01-12T10:00:00",
          "2022-01-12T11:00:00",
          "2022-01-12T12:00:00",
          "2022-01-12T13:00:00",
          "2022-01-12T14:00:00",
          "2022-01-12T15:00:00",
          "2022-01-12T16:00:00",
          "2022-01-12T17:00:00",
          "2022-01-12T18:00:00",
          "2022-01-12T19:00:00",
          "2022-01-12T20:00:00",
          "2022-01-12T21:00:00",
          "2022-01-12T22:00:00",
          "2022-01-12T23:00:00",
          "2022-01-13T00:00:00",
          "2022-01-13T01:00:00",
          "2022-01-13T02:00:00",
          "2022-01-13T03:00:00",
          "2022-01-13T04:00:00",
          "2022-01-13T05:00:00",
          "2022-01-13T06:00:00",
          "2022-01-13T07:00:00",
          "2022-01-13T08:00:00",
          "2022-01-13T09:00:00",
          "2022-01-13T10:00:00",
          "2022-01-13T11:00:00",
          "2022-01-13T12:00:00",
          "2022-01-13T13:00:00",
          "2022-01-13T14:00:00",
          "2022-01-13T15:00:00",
          "2022-01-13T16:00:00",
          "2022-01-13T17:00:00",
          "2022-01-13T18:00:00",
          "2022-01-13T19:00:00",
          "2022-01-13T20:00:00",
          "2022-01-13T21:00:00",
          "2022-01-13T22:00:00",
          "2022-01-13T23:00:00",
          "2022-01-14T00:00:00",
          "2022-01-14T01:00:00",
          "2022-01-14T02:00:00",
          "2022-01-14T03:00:00",
          "2022-01-14T04:00:00",
          "2022-01-14T05:00:00",
          "2022-01-14T06:00:00",
          "2022-01-14T07:00:00",
          "2022-01-14T08:00:00",
          "2022-01-14T09:00:00",
          "2022-01-14T10:00:00",
          "2022-01-14T11:00:00",
          "2022-01-14T12:00:00",
          "2022-01-14T13:00:00",
          "2022-01-14T14:00:00",
          "2022-01-14T15:00:00",
          "2022-01-14T16:00:00",
          "2022-01-14T17:00:00",
          "2022-01-14T18:00:00",
          "2022-01-14T19:00:00",
          "2022-01-14T20:00:00",
          "2022-01-14T21:00:00",
          "2022-01-14T22:00:00",
          "2022-01-14T23:00:00",
          "2022-01-15T00:00:00",
          "2022-01-15T01:00:00",
          "2022-01-15T02:00:00",
          "2022-01-15T03:00:00",
          "2022-01-15T04:00:00",
          "2022-01-15T05:00:00",
          "2022-01-15T06:00:00",
          "2022-01-15T07:00:00",
          "2022-01-15T08:00:00",
          "2022-01-15T09:00:00",
          "2022-01-15T10:00:00",
          "2022-01-15T11:00:00",
          "2022-01-15T12:00:00",
          "2022-01-15T13:00:00",
          "2022-01-15T14:00:00",
          "2022-01-15T15:00:00",
          "2022-01-15T16:00:00",
          "2022-01-15T17:00:00",
          "2022-01-15T18:00:00",
          "2022-01-15T19:00:00",
          "2022-01-15T20:00:00",
          "2022-01-15T21:00:00",
          "2022-01-15T22:00:00",
          "2022-01-15T23:00:00",
          "2022-01-16T00:00:00",
          "2022-01-16T01:00:00",
          "2022-01-16T02:00:00",
          "2022-01-16T03:00:00",
          "2022-01-16T04:00:00",
          "2022-01-16T05:00:00",
          "2022-01-16T06:00:00",
          "2022-01-16T07:00:00",
          "2022-01-16T08:00:00",
          "2022-01-16T09:00:00",
          "2022-01-16T10:00:00",
          "2022-01-16T11:00:00",
          "2022-01-16T12:00:00",
          "2022-01-16T13:00:00",
          "2022-01-16T14:00:00",
          "2022-01-16T15:00:00",
          "2022-01-16T16:00:00",
          "2022-01-16T17:00:00",
          "2022-01-16T18:00:00",
          "2022-01-16T19:00:00",
          "2022-01-16T20:00:00",
          "2022-01-16T21:00:00",
          "2022-01-16T22:00:00",
          "2022-01-16T23:00:00",
          "2022-01-17T00:00:00",
          "2022-01-17T01:00:00",
          "2022-01-17T02:00:00",
          "2022-01-17T03:00:00",
          "2022-01-17T04:00:00",
          "2022-01-17T05:00:00",
          "2022-01-17T06:00:00",
          "2022-01-17T07:00:00",
          "2022-01-17T08:00:00",
          "2022-01-17T09:00:00",
          "2022-01-17T10:00:00",
          "2022-01-17T11:00:00",
          "2022-01-17T12:00:00",
          "2022-01-17T13:00:00",
          "2022-01-17T14:00:00",
          "2022-01-17T15:00:00",
          "2022-01-17T16:00:00",
          "2022-01-17T17:00:00",
          "2022-01-17T18:00:00",
          "2022-01-17T19:00:00",
          "2022-01-17T20:00:00",
          "2022-01-17T21:00:00",
          "2022-01-17T22:00:00",
          "2022-01-17T23:00:00",
          "2022-01-18T00:00:00",
          "2022-01-18T01:00:00",
          "2022-01-18T02:00:00",
          "2022-01-18T03:00:00",
          "2022-01-18T04:00:00",
          "2022-01-18T05:00:00",
          "2022-01-18T06:00:00",
          "2022-01-18T07:00:00",
          "2022-01-18T08:00:00",
          "2022-01-18T09:00:00",
          "2022-01-18T10:00:00",
          "2022-01-18T11:00:00",
          "2022-01-18T12:00:00",
          "2022-01-18T13:00:00",
          "2022-01-18T14:00:00",
          "2022-01-18T15:00:00",
          "2022-01-18T16:00:00",
          "2022-01-18T17:00:00",
          "2022-01-18T18:00:00",
          "2022-01-18T19:00:00",
          "2022-01-18T20:00:00",
          "2022-01-18T21:00:00",
          "2022-01-18T22:00:00",
          "2022-01-18T23:00:00",
          "2022-01-19T00:00:00",
          "2022-01-19T01:00:00",
          "2022-01-19T02:00:00",
          "2022-01-19T03:00:00",
          "2022-01-19T04:00:00",
          "2022-01-19T05:00:00",
          "2022-01-19T06:00:00",
          "2022-01-19T07:00:00",
          "2022-01-19T08:00:00",
          "2022-01-19T09:00:00",
          "2022-01-19T10:00:00",
          "2022-01-19T11:00:00",
          "2022-01-19T12:00:00",
          "2022-01-19T13:00:00",
          "2022-01-19T14:00:00",
          "2022-01-19T15:00:00",
          "2022-01-19T16:00:00",
          "2022-01-19T17:00:00",
          "2022-01-19T18:00:00",
          "2022-01-19T19:00:00",
          "2022-01-19T20:00:00",
          "2022-01-19T21:00:00",
          "2022-01-19T22:00:00",
          "2022-01-19T23:00:00",
          "2022-01-20T00:00:00",
          "2022-01-20T01:00:00",
          "2022-01-20T02:00:00",
          "2022-01-20T03:00:00",
          "2022-01-20T04:00:00",
          "2022-01-20T05:00:00",
          "2022-01-20T06:00:00",
          "2022-01-20T07:00:00",
          "2022-01-20T08:00:00",
          "2022-01-20T09:00:00",
          "2022-01-20T10:00:00",
          "2022-01-20T11:00:00",
          "2022-01-20T12:00:00",
          "2022-01-20T13:00:00",
          "2022-01-20T14:00:00",
          "2022-01-20T15:00:00",
          "2022-01-20T16:00:00",
          "2022-01-20T17:00:00",
          "2022-01-20T18:00:00",
          "2022-01-20T19:00:00",
          "2022-01-20T20:00:00",
          "2022-01-20T21:00:00",
          "2022-01-20T22:00:00",
          "2022-01-20T23:00:00",
          "2022-01-21T00:00:00",
          "2022-01-21T01:00:00",
          "2022-01-21T02:00:00",
          "2022-01-21T03:00:00",
          "2022-01-21T04:00:00",
          "2022-01-21T05:00:00",
          "2022-01-21T06:00:00",
          "2022-01-21T07:00:00",
          "2022-01-21T08:00:00",
          "2022-01-21T09:00:00",
          "2022-01-21T10:00:00",
          "2022-01-21T11:00:00",
          "2022-01-21T12:00:00",
          "2022-01-21T13:00:00",
          "2022-01-21T14:00:00",
          "2022-01-21T15:00:00",
          "2022-01-21T16:00:00",
          "2022-01-21T17:00:00",
          "2022-01-21T18:00:00",
          "2022-01-21T19:00:00",
          "2022-01-21T20:00:00",
          "2022-01-21T21:00:00",
          "2022-01-21T22:00:00",
          "2022-01-21T23:00:00",
          "2022-01-22T00:00:00",
          "2022-01-22T01:00:00",
          "2022-01-22T02:00:00",
          "2022-01-22T03:00:00",
          "2022-01-22T04:00:00",
          "2022-01-22T05:00:00",
          "2022-01-22T06:00:00",
          "2022-01-22T07:00:00",
          "2022-01-22T08:00:00",
          "2022-01-22T09:00:00",
          "2022-01-22T10:00:00",
          "2022-01-22T11:00:00",
          "2022-01-22T12:00:00",
          "2022-01-22T13:00:00",
          "2022-01-22T14:00:00",
          "2022-01-22T15:00:00",
          "2022-01-22T16:00:00",
          "2022-01-22T17:00:00",
          "2022-01-22T18:00:00",
          "2022-01-22T19:00:00",
          "2022-01-22T20:00:00",
          "2022-01-22T21:00:00",
          "2022-01-22T22:00:00",
          "2022-01-22T23:00:00",
          "2022-01-23T00:00:00",
          "2022-01-23T01:00:00",
          "2022-01-23T02:00:00",
          "2022-01-23T03:00:00",
          "2022-01-23T04:00:00",
          "2022-01-23T05:00:00",
          "2022-01-23T06:00:00",
          "2022-01-23T07:00:00",
          "2022-01-23T08:00:00",
          "2022-01-23T09:00:00",
          "2022-01-23T10:00:00",
          "2022-01-23T11:00:00",
          "2022-01-23T12:00:00",
          "2022-01-23T13:00:00",
          "2022-01-23T14:00:00",
          "2022-01-23T15:00:00",
          "2022-01-23T16:00:00",
          "2022-01-23T17:00:00",
          "2022-01-23T18:00:00",
          "2022-01-23T19:00:00",
          "2022-01-23T20:00:00",
          "2022-01-23T21:00:00",
          "2022-01-23T22:00:00",
          "2022-01-23T23:00:00",
          "2022-01-24T00:00:00",
          "2022-01-24T01:00:00",
          "2022-01-24T02:00:00",
          "2022-01-24T03:00:00",
          "2022-01-24T04:00:00",
          "2022-01-24T05:00:00",
          "2022-01-24T06:00:00",
          "2022-01-24T07:00:00",
          "2022-01-24T08:00:00",
          "2022-01-24T09:00:00",
          "2022-01-24T10:00:00",
          "2022-01-24T11:00:00",
          "2022-01-24T12:00:00",
          "2022-01-24T13:00:00",
          "2022-01-24T14:00:00",
          "2022-01-24T15:00:00",
          "2022-01-24T16:00:00",
          "2022-01-24T17:00:00",
          "2022-01-24T18:00:00",
          "2022-01-24T19:00:00",
          "2022-01-24T20:00:00",
          "2022-01-24T21:00:00",
          "2022-01-24T22:00:00",
          "2022-01-24T23:00:00",
          "2022-01-25T00:00:00",
          "2022-01-25T01:00:00",
          "2022-01-25T02:00:00",
          "2022-01-25T03:00:00",
          "2022-01-25T04:00:00",
          "2022-01-25T05:00:00",
          "2022-01-25T06:00:00",
          "2022-01-25T07:00:00",
          "2022-01-25T08:00:00",
          "2022-01-25T09:00:00",
          "2022-01-25T10:00:00",
          "2022-01-25T11:00:00",
          "2022-01-25T12:00:00",
          "2022-01-25T13:00:00",
          "2022-01-25T14:00:00",
          "2022-01-25T15:00:00",
          "2022-01-25T16:00:00",
          "2022-01-25T17:00:00",
          "2022-01-25T18:00:00",
          "2022-01-25T19:00:00",
          "2022-01-25T20:00:00",
          "2022-01-25T21:00:00",
          "2022-01-25T22:00:00",
          "2022-01-25T23:00:00",
          "2022-01-26T00:00:00",
          "2022-01-26T01:00:00",
          "2022-01-26T02:00:00",
          "2022-01-26T03:00:00",
          "2022-01-26T04:00:00",
          "2022-01-26T05:00:00",
          "2022-01-26T06:00:00",
          "2022-01-26T07:00:00",
          "2022-01-26T08:00:00",
          "2022-01-26T09:00:00",
          "2022-01-26T10:00:00",
          "2022-01-26T11:00:00",
          "2022-01-26T12:00:00",
          "2022-01-26T13:00:00",
          "2022-01-26T14:00:00",
          "2022-01-26T15:00:00",
          "2022-01-26T16:00:00",
          "2022-01-26T17:00:00",
          "2022-01-26T18:00:00",
          "2022-01-26T19:00:00",
          "2022-01-26T20:00:00",
          "2022-01-26T21:00:00",
          "2022-01-26T22:00:00",
          "2022-01-26T23:00:00",
          "2022-01-27T00:00:00",
          "2022-01-27T01:00:00",
          "2022-01-27T02:00:00",
          "2022-01-27T03:00:00",
          "2022-01-27T04:00:00",
          "2022-01-27T05:00:00",
          "2022-01-27T06:00:00",
          "2022-01-27T07:00:00",
          "2022-01-27T08:00:00",
          "2022-01-27T09:00:00",
          "2022-01-27T10:00:00",
          "2022-01-27T11:00:00",
          "2022-01-27T12:00:00",
          "2022-01-27T13:00:00",
          "2022-01-27T14:00:00",
          "2022-01-27T15:00:00",
          "2022-01-27T16:00:00",
          "2022-01-27T17:00:00",
          "2022-01-27T18:00:00",
          "2022-01-27T19:00:00",
          "2022-01-27T20:00:00",
          "2022-01-27T21:00:00",
          "2022-01-27T22:00:00",
          "2022-01-27T23:00:00",
          "2022-01-28T00:00:00",
          "2022-01-28T01:00:00",
          "2022-01-28T02:00:00",
          "2022-01-28T03:00:00",
          "2022-01-28T04:00:00",
          "2022-01-28T05:00:00",
          "2022-01-28T06:00:00",
          "2022-01-28T07:00:00",
          "2022-01-28T08:00:00",
          "2022-01-28T09:00:00",
          "2022-01-28T10:00:00",
          "2022-01-28T11:00:00",
          "2022-01-28T12:00:00",
          "2022-01-28T13:00:00",
          "2022-01-28T14:00:00",
          "2022-01-28T15:00:00",
          "2022-01-28T16:00:00",
          "2022-01-28T17:00:00",
          "2022-01-28T18:00:00",
          "2022-01-28T19:00:00",
          "2022-01-28T20:00:00",
          "2022-01-28T21:00:00",
          "2022-01-28T22:00:00",
          "2022-01-28T23:00:00",
          "2022-01-29T00:00:00",
          "2022-01-29T01:00:00",
          "2022-01-29T02:00:00",
          "2022-01-29T03:00:00",
          "2022-01-29T04:00:00",
          "2022-01-29T05:00:00",
          "2022-01-29T06:00:00",
          "2022-01-29T07:00:00",
          "2022-01-29T08:00:00",
          "2022-01-29T09:00:00",
          "2022-01-29T10:00:00",
          "2022-01-29T11:00:00",
          "2022-01-29T12:00:00",
          "2022-01-29T13:00:00",
          "2022-01-29T14:00:00",
          "2022-01-29T15:00:00",
          "2022-01-29T16:00:00",
          "2022-01-29T17:00:00",
          "2022-01-29T18:00:00",
          "2022-01-29T19:00:00",
          "2022-01-29T20:00:00",
          "2022-01-29T21:00:00",
          "2022-01-29T22:00:00",
          "2022-01-29T23:00:00",
          "2022-01-30T00:00:00",
          "2022-01-30T01:00:00",
          "2022-01-30T02:00:00",
          "2022-01-30T03:00:00",
          "2022-01-30T04:00:00",
          "2022-01-30T05:00:00",
          "2022-01-30T06:00:00",
          "2022-01-30T07:00:00",
          "2022-01-30T08:00:00",
          "2022-01-30T09:00:00",
          "2022-01-30T10:00:00",
          "2022-01-30T11:00:00",
          "2022-01-30T12:00:00",
          "2022-01-30T13:00:00",
          "2022-01-30T14:00:00",
          "2022-01-30T15:00:00",
          "2022-01-30T16:00:00",
          "2022-01-30T17:00:00",
          "2022-01-30T18:00:00",
          "2022-01-30T19:00:00",
          "2022-01-30T20:00:00",
          "2022-01-30T21:00:00",
          "2022-01-30T22:00:00",
          "2022-01-30T23:00:00",
          "2022-01-31T00:00:00",
          "2022-01-31T01:00:00",
          "2022-01-31T02:00:00",
          "2022-01-31T03:00:00",
          "2022-01-31T04:00:00",
          "2022-01-31T05:00:00",
          "2022-01-31T06:00:00",
          "2022-01-31T07:00:00",
          "2022-01-31T08:00:00",
          "2022-01-31T09:00:00",
          "2022-01-31T10:00:00",
          "2022-01-31T11:00:00",
          "2022-01-31T12:00:00",
          "2022-01-31T13:00:00",
          "2022-01-31T14:00:00",
          "2022-01-31T15:00:00",
          "2022-01-31T16:00:00",
          "2022-01-31T17:00:00",
          "2022-01-31T18:00:00",
          "2022-01-31T19:00:00",
          "2022-01-31T20:00:00",
          "2022-01-31T21:00:00",
          "2022-01-31T22:00:00",
          "2022-01-31T23:00:00"
         ],
         "y": [
          0.8061469406392693,
          0.5237544585987262,
          0.4047211214953271,
          0.3076527450980392,
          0.6820418367346939,
          0.651255748373102,
          0.3743484931506849,
          0.7588235697940502,
          0.3313737226277372,
          0.7600403547671841,
          0.7867646666666667,
          0.7136005853658539,
          0.4025332149200711,
          0.5587475000000001,
          0.8204545981173065,
          0.7232236571428572,
          0.7006433198380567,
          0.5724782222222221,
          0.7574106567534077,
          0.6006123720930233,
          0.7153207430340556,
          0.5128148060174188,
          0.6533708999999999,
          0.5720801369863012,
          0.5521130876747141,
          0.3761621236133122,
          0.7126448051948052,
          0.4461454545454545,
          0.4769315179606024,
          0.8781706572769951,
          0.621034226190476,
          0.7212542904290428,
          0.8529859863945577,
          0.5968555279503106,
          0.6652453428863868,
          0.6893616891064872,
          0.6540388764044944,
          0.7302738654147105,
          0.4883572463768116,
          0.6858779400461185,
          0.7063013562386979,
          0.5252152140672783,
          0.4204461933276305,
          0.5440868204283361,
          0.6797899143672695,
          0.5989499111900533,
          0.9107848699763592,
          0.4751788717948717,
          0.5857008695652173,
          0.8091366071428572,
          0.6251477234401349,
          0.3562938730853391,
          0.8576018148820328,
          0.1519321888412017,
          0.7155156492785795,
          0.683080787037037,
          0.3945611428571428,
          0.5475969090909092,
          0.6986713250517597,
          0.7131985221674878,
          0.2840825214899713,
          0.6595844574780059,
          0.5240558038932949,
          0.649301403956605,
          0.6847421186440678,
          0.8299474238875876,
          0.8186250370370369,
          0.6909556896551724,
          0.5546957000000001,
          0.6404534482758623,
          0.7184968867924528,
          0.7144861937452325,
          0.6236441441441442,
          0.830232362459547,
          0.5318735981308411,
          0.777944906743185,
          0.5452375757575758,
          0.8133634641407308,
          -0.2820771812080537,
          0.1315429149797571,
          0.7454433734939759,
          0.6583506416584403,
          0.71011113243762,
          0.5929939618644068,
          0.4054510121457489,
          0.6726446499339499,
          0.6026782214156081,
          0.7405610212765956,
          0.862564773820982,
          0.7898722004698514,
          0.7472877192982457,
          0.5709239944521496,
          0.7373332258064516,
          0.6559897496087636,
          0.7185279951100244,
          0.8386733009708737,
          0.7785970845481051,
          0.6316037249283668,
          0.6395056795131847,
          0.3534547892720307,
          0.7714325708061001,
          0.6397681341719077,
          0.3385109589041096,
          0.7329820717131474,
          0.3591253581661892,
          0.4508161520190023,
          0.6110632992327365,
          0.4624736559139785,
          0.5695676148796498,
          0.3965960985626283,
          0.2341131103074141,
          0.5970731809981961,
          0.4455396246089677,
          0.5492225187656382,
          0.7524529542097489,
          0.5535536549707603,
          0.6805581362007168,
          0.5546954032957502,
          0.3859825474254741,
          0.2970527651858567,
          0.2371672429481346,
          0.6273401826484019,
          0.3636151741293532,
          0.3222236329935125,
          0.492929689608637,
          0.4445619281045752,
          0.3994286931818183,
          0.6478099337748343,
          0.59174,
          0.4027003720930233,
          0.6705170141223941,
          0.4143442829457363,
          0.6607765171503959,
          0.5481606657608696,
          0.4481675699300699,
          0.3161221568627451,
          0.4323147157190636,
          0.4497706992230854,
          0.6357121019108279,
          0.3075966168371362,
          0.5933726315789474,
          0.4359930434782609,
          0.44657265917603,
          0.4064705405405405,
          0.5427994535519126,
          0.5038632619439868,
          0.4271242424242424,
          0.6660375423728814,
          0.4365516908212561,
          0.0710908969210174,
          0.9036121428571428,
          0.3191348258706467,
          0.4536763235294118,
          0.1380035447761193,
          0.5901471040189126,
          0.6281754824063565,
          0.5500632724719101,
          0.4390307167235494,
          0.3399256564141034,
          0.5320662447257385,
          0.8540962588473208,
          0.2668243150684931,
          0.572636305278174,
          0.5716318979266346,
          0.639294642857143,
          0.4867271323529411,
          0.4292955105633803,
          0.5199651914893617,
          0.6243088016967128,
          0.8710226443768995,
          0.1472688202247191,
          0.7753329015544042,
          0.6971018495684341,
          0.6866319620253166,
          -0.1004296875,
          0.2266690437601296,
          0.3522030797101449,
          0.0625319129646419,
          0.5364098765432098,
          0.1288978102189781,
          0.7060610705596108,
          0.5865991111111111,
          0.2785840607210625,
          0.547394560669456,
          0.5269188596491228,
          0.5437204109589041,
          0.5556432262129806,
          0.3311265486725664,
          0.4189787061994608,
          0.0694588068181818,
          0.3970102150537634,
          0.7347290419161678,
          0.9210762836185816,
          0.4901281012658228,
          0.6083972758229286,
          0.6895593466424682,
          0.1416662121212121,
          0.5161041401273886,
          0.4861400473933647,
          0.6064613976705492,
          0.8743026479750781,
          0.5476564760793466,
          0.4453670753064798,
          0.3176576623376623,
          0.4016387027027027,
          0.4874865963855422,
          0.5618367559523808,
          0.515608311229001,
          0.6095841193455246,
          0.5980809973045822,
          0.4284688122096881,
          0.527478530612245,
          0.4611228813559321,
          0.5222776071139854,
          0.6984573576799139,
          0.7168266311584554,
          0.5045185886402754,
          0.8026431592039802,
          0.5448655896607432,
          0.7785250632911392,
          0.5968147509578545,
          0.686516464891041,
          0.2853654708520179,
          0.4060758196721312,
          0.968922142857143,
          0.627365476190476,
          0.6092526956521739,
          0.679053861003861,
          0.6649254509018035,
          0.3405351315789474,
          0.6099892739273929,
          0.4657882296650718,
          0.6511764758497315,
          0.4811762975778547,
          0.3319176470588235,
          0.6346072164948454,
          0.6607574051407588,
          0.5636602027883397,
          0.724700185013876,
          0.6395633858267716,
          0.599682131147541,
          0.5393351351351352,
          0.1824404069767442,
          0.7856091575091575,
          0.4183490259740259,
          0.917585854616896,
          0.822524505327245,
          0.724166323024055,
          0.8535454682779456,
          0.680056496350365,
          0.0868572834645669,
          0.6411656862745098,
          0.7621575931232093,
          0.8848628378378381,
          0.7239301415487094,
          0.6314400627615063,
          0.518652824858757,
          0.3981038546255505,
          0.5993050338091661,
          0.7461289777094542,
          0.6353339497041419,
          0.3298154411764706,
          0.5193059514487077,
          0.4161218225419664,
          0.8794473029045644,
          0.7478447227191413,
          0.6790207988980719,
          0.7248365426695841,
          0.5722264984227129,
          0.4813719999999999,
          0.5318326086956521,
          0.6137090410958903,
          0.5230770370370371,
          0.6113927536231885,
          0.34486559714795,
          0.1932696855345912,
          0.8252071017274473,
          0.4826883984867592,
          0.538614096499527,
          0.4516339455782313,
          0.8118681415929204,
          0.851155278093076,
          0.7667793478260869,
          0.8687628475147429,
          0.6767148897058822,
          0.7363882217090071,
          0.5835042025862069,
          0.5476912466843502,
          0.441545325203252,
          0.4949423976608186,
          0.6407920930232558,
          0.5391894859813086,
          0.6396241773962804,
          0.8796851612903224,
          0.5119105939004815,
          0.3170349056603774,
          0.5079394265232975,
          0.8513329268292684,
          0.4925224083769636,
          0.9761590673575128,
          0.9203333333333332,
          0.4736789825970547,
          0.6124413008130082,
          0.7930631172839505,
          0.7039380398671097,
          0.6220527173913045,
          0.6688982142857144,
          0.7479997644287399,
          0.7954673913043478,
          0.6644843548387098,
          0.5699386548913044,
          0.7946196594427245,
          0.3763920570264765,
          0.5698300751879699,
          0.5403672619047619,
          0.3596521008403362,
          0.8148643990929706,
          0.1419404255319148,
          0.5045893617021276,
          0.281181238938053,
          0.6611862660944205,
          0.7797073002754822,
          0.8668093360995851,
          0.6702918067226892,
          0.7220741818181818,
          0.6186831970935514,
          0.8965172268907564,
          0.615144089673913,
          0.7361860282574569,
          0.8334119294605808,
          0.8019738654147105,
          0.8362102059925095,
          0.7548036398467434,
          0.5277574412532638,
          0.53275,
          0.7740436842105264,
          0.6675266749379655,
          0.8274256916996048,
          0.5313170953101362,
          0.3868766917293233,
          0.9673724137931032,
          0.5185675627240144,
          0.6684396825396827,
          0.7993415492957747,
          0.3566200863930886,
          0.3146608442503639,
          0.414847628458498,
          0.4621911111111111,
          0.4294906249999999,
          0.5311660271782572,
          0.3744860612460401,
          0.2111405541561712,
          0.6293947984395319,
          0.6344145065398334,
          0.6515529654036244,
          0.1877228791773778,
          0.6818990853658535,
          0.4862525682182985,
          0.6580933862433861,
          0.6875982989064399,
          0.7363937875751504,
          0.519574689826303,
          0.8367939759036144,
          0.0658992094861659,
          0.6531261224489796,
          0.7800282511210762,
          0.8057822006472491,
          -0.3182,
          0.0145932773109243,
          0.7986163179916318,
          0.4296992619926199,
          0.7047214285714285,
          0.7117327607361965,
          0.558131490015361,
          0.5923175226586104,
          0.7785089599999999,
          0.4667071917808221,
          0.4892400406504065,
          0.4161815730337079,
          0.5940340848806366,
          0.4232148681055155,
          0.7539171038824763,
          0.3160650872817955,
          0.8555667436489607,
          0.5751198380566801,
          0.6889824675324675,
          0.5186501953125001,
          0.438946529562982,
          0.6369447619047621,
          0.9834,
          0.8422885462555066,
          0.5087536585365853,
          0.5521892857142856,
          0.8173733656174336,
          0.6375016348773843,
          0.6159562814070353,
          0.890324017467249,
          0.2191544554455445,
          0.4373156043956043,
          0.8306850574712643,
          0.4988979525862068,
          0.4315323008849557,
          0.569582508250825,
          0.5849080124869926,
          0.6633465868263473,
          0.5658523306401492,
          0.3968540577716644,
          0.5795522174535049,
          0.6398984251968504,
          0.3593506112469437,
          0.8694532625189682,
          0.8640122383252821,
          0.8801178343949043,
          0.8575797962648556,
          0.0684051546391753,
          0.6500930294906166,
          -0.1161178423236514,
          0.5425227272727272,
          0.0612661341853034,
          0.7905262096774194,
          0.4366488469601677,
          0.5781483050847457,
          0.3923765006385696,
          0.4700848614072495,
          0.6132387543252596,
          0.5031399484536083,
          0.2980912100456621,
          0.4598006979062811,
          0.657749392971246,
          0.3402142439024391,
          0.4647478753541076,
          -0.0021165605095541,
          0.6652244897959184,
          0.7642804241435563,
          0.7877780104712041,
          0.6039665796344648,
          0.8616510869565216,
          0.7853138504155125,
          0.760867332123412,
          0.6058892436974789,
          0.6521995073891625,
          0.3636802721088435,
          0.5867351002865331,
          0.4710102362204724,
          0.1670793577981651,
          0.2061372549019608,
          0.5243610878661088,
          0.7267125899280575,
          0.456715082644628,
          0.2203757174392936,
          0.1937157142857143,
          0.4446648675171737,
          0.6037128450106157,
          0.7422794891640868,
          0.8090711999999999,
          0.0516876811594202,
          0.5084371223021583,
          0.0654556962025316,
          0.6340851261620186,
          0.4747777279521674,
          0.6857767441860465,
          0.2576801546391752,
          0.3112659400544959,
          0.5777573770491804,
          0.7860109185441939,
          0.8642963172804533,
          0.8256471094710945,
          0.7483164623467601,
          0.1347270207852194,
          0.3873630996309963,
          0.646493950177936,
          0.5795610687022901,
          0.6535138263665594,
          0.596119136522754,
          0.6437095667870038,
          0.608564758698092,
          0.6689026402640265,
          0.5504409270216962,
          0.2958191441441442,
          0.6635960118168389,
          0.4085089743589743,
          0.1969552763819095,
          0.4887999999999999,
          0.1981219361483006,
          0.7281928358208957,
          0.6495967362924282,
          -0.155225755033557,
          0.5923280991735537,
          0.7112210626185959,
          0.0660601118359739,
          0.61659760087241,
          0.7406275190516509,
          0.5242249008723234,
          0.8296268308080809,
          0.5172519507186858,
          0.5876316440049444,
          0.6840568220101068,
          0.6188533060269166,
          0.5046013623978202,
          0.555623819301848,
          0.2166216088328076,
          0.38683012987013,
          0.8226377177700349,
          0.3972819772942289,
          0.4451316614420062,
          0.5938452997275203,
          0.3245170157068062,
          0.4390291866028707,
          0.6209670329670328,
          0.3592043378995433,
          0.0940961868446138,
          0.4312281564245809,
          0.2181612510860121,
          0.4379704815864023,
          0.3822361466821885,
          0.2674621960206337,
          0.6220275797373358,
          0.3522211302211303,
          0.4572770507349456,
          0.4763955692652831,
          0.4969899466869763,
          0.2601487004686834,
          0.2909871268656716,
          0.4749712470588235,
          0.474204776119403,
          0.5537073198847261,
          0.2173593080724876,
          0.2657575965130759,
          0.4024960358056266,
          0.202267113276492,
          0.3631190168175939,
          0.1172213289581624,
          0.1369990849673203,
          0.2081886214442012,
          0.5739813765182186,
          0.6981329493087557,
          0.9243569620253164,
          0.3736371115173675,
          0.2678150943396225,
          0.4812195804195803,
          0.4793206235011991,
          0.2821337285902503,
          0.6368414192614049,
          0.4399735193621868,
          0.5687268336314848,
          0.6001796636085627,
          0.5027765830346475,
          0.5253856321839079,
          0.3125932,
          0.2734112204724409,
          0.4550613608748481,
          0.6259507982583455,
          0.4079159062885326,
          0.1066046,
          0.3116419421487603,
          0.6144091199999999,
          0.8764060324825985,
          0.5891337301587302,
          0.66334,
          0.3763948553054662,
          0.1362231067961165,
          0.712878762541806,
          0.5718038922155688,
          0.3046731038878267,
          0.1713938541068351,
          0.5218640356897735,
          0.3780569186875891,
          0.3376803889789302,
          0.3674949136276391,
          0.4603206991720331,
          0.5469632010081916,
          0.4660790354989953,
          0.5200431340872375,
          0.5305284030642311,
          0.6099513819095476,
          0.5437811671087535,
          0.6000013245033113,
          0.2318853462157809,
          0.3045387788778878,
          0.4561580152671756,
          0.5475807280513919,
          -0.2410518018018018,
          -0.2822853448275862,
          0.5652151273885351,
          0.6739338204592902,
          0.3031021156558533,
          0.5786918807810896,
          0.4952285496183206,
          0.6696267361111111,
          0.4687740558292282,
          0.4187919168591224,
          0.2705298210735586,
          0.7718307874015747,
          0.5121972868217054,
          0.468273311546841,
          0.4658610119047619,
          0.3640523489932886,
          0.5118246696035242,
          0.404947973713034,
          0.5132057840616967,
          0.7299987738419619,
          0.0865232091690544,
          0.3675117857142858,
          0.5625242424242425,
          0.8032311216429701,
          0.6223940902021772,
          0.6117762711864405,
          0.5741567832167831,
          0.9578731884057972,
          0.6618814876033057,
          0.6466377850162867,
          0.5254922600619195,
          0.1873985673352436,
          0.6666824462061156,
          0.8323076009501188,
          0.466482508250825,
          0.2870274596182085,
          0.7604434065934067,
          0.7119209926769732,
          0.566538441780822,
          0.5410248708010336,
          0.2863333907056798,
          0.4313166666666666,
          0.5297524291497977,
          0.3961872773536896,
          0.7298624615384615,
          0.7572022556390977,
          0.2766236947791163,
          0.3162548435171385,
          0.8792936507936508,
          0.4824436363636363,
          0.2513648496240602,
          0.5302546848381601,
          0.4563015974440895,
          0.7847453027139875,
          0.2905728340675478,
          0.5440280718336483,
          0.3605468005018821,
          0.7788192881745121,
          0.5290050554870531,
          0.1739183274021352,
          0.6329831833520811,
          0.507158523908524,
          0.5206262953367877,
          0.8119850490196078,
          0.2443113636363636,
          0.6311790060851926,
          0.3241963093145869,
          0.5795931769722815,
          0.384748717948718,
          0.4873849090909092,
          0.7884428571428571,
          0.5417700831024931,
          0.4715017605633804,
          0.8719960893854749,
          0.8058671480144404,
          0.77683991507431,
          0.3721981762917933,
          0.5760100817438693,
          0.3396241214057508,
          0.5677015424164524,
          0.6838813366960907,
          0.5025610852713179,
          0.6518039694656488,
          0.3884217213114754,
          0.8075706955530214,
          0.7029269421487603,
          0.6267574449339207,
          0.9330268292682926,
          0.2991620143884893,
          0.8781074349442377,
          0.2829582178217821,
          0.7825800731261425,
          0.7454819306930692,
          0.7460729941291585,
          0.791616182572614,
          -0.0257599999999999,
          0.664490063424947,
          0.9228,
          0.4508364444444445,
          0.8156869806094182,
          0.6345869688385268,
          0.4152346416382252,
          0.3910791095890411,
          0.4911044776119403,
          0.5902842998585572,
          0.7889286031042128,
          0.6436030660377356,
          0.5375332110091744,
          0.59024,
          0.6271763948497853,
          0.4412026865671641,
          0.4695293641618497,
          0.773478121878122,
          0.5131097402597402,
          0.9365916550764952,
          0.7357781725888324,
          0.520146013667426,
          0.5878457055214724,
          0.6025805555555556,
          0.8869069832402235,
          0.3739966463414634,
          0.514544476744186,
          0.0776569587628866,
          0.4655425000000001,
          0.613630376344086,
          0.8465064593301436,
          0.8568448421052632,
          0.7967726495726497,
          0.9003862745098039,
          0.3750716730038021,
          0.5687138011695905,
          0.7623747720364742,
          0.4963088235294117,
          0.9389383928571428,
          0.4684573248407643,
          0.6052617256637168,
          0.5331951013513513,
          0.425144530046225,
          0.2556096428571429,
          0.7604376196990424,
          0.4781855813953489,
          0.0262936170212765,
          0.6889917293233083,
          0.6418754022988505,
          0.9411587301587304,
          0.0514792397660818,
          0.5717554687499999,
          0.8997402739726026,
          0.6082247467438495,
          0.3893906578947368,
          0.8912142857142857,
          0.654218655097614,
          0.6781407120743034,
          0.6441858373205742,
          0.5523634117647062,
          0.7508883945841394,
          0.7217003610108303,
          -0.0097211050724637,
          0.7922602582496414,
          0.8534154867256638,
          0.7336935356200528,
          0.5710524390243903,
          0.7018310043668121
         ],
         "type": "scatter",
         "xaxis": "x",
         "yaxis": "y2"
        }
       ],
       "layout": {
        "template": {
         "data": {
          "histogram2dcontour": [
           {
            "type": "histogram2dcontour",
            "colorbar": {
             "outlinewidth": 0,
             "ticks": ""
            },
            "colorscale": [
             [
              0.0,
              "#0d0887"
             ],
             [
              0.1111111111111111,
              "#46039f"
             ],
             [
              0.2222222222222222,
              "#7201a8"
             ],
             [
              0.3333333333333333,
              "#9c179e"
             ],
             [
              0.4444444444444444,
              "#bd3786"
             ],
             [
              0.5555555555555556,
              "#d8576b"
             ],
             [
              0.6666666666666666,
              "#ed7953"
             ],
             [
              0.7777777777777778,
              "#fb9f3a"
             ],
             [
              0.8888888888888888,
              "#fdca26"
             ],
             [
              1.0,
              "#f0f921"
             ]
            ]
           }
          ],
          "choropleth": [
           {
            "type": "choropleth",
            "colorbar": {
             "outlinewidth": 0,
             "ticks": ""
            }
           }
          ],
          "histogram2d": [
           {
            "type": "histogram2d",
            "colorbar": {
             "outlinewidth": 0,
             "ticks": ""
            },
            "colorscale": [
             [
              0.0,
              "#0d0887"
             ],
             [
              0.1111111111111111,
              "#46039f"
             ],
             [
              0.2222222222222222,
              "#7201a8"
             ],
             [
              0.3333333333333333,
              "#9c179e"
             ],
             [
              0.4444444444444444,
              "#bd3786"
             ],
             [
              0.5555555555555556,
              "#d8576b"
             ],
             [
              0.6666666666666666,
              "#ed7953"
             ],
             [
              0.7777777777777778,
              "#fb9f3a"
             ],
             [
              0.8888888888888888,
              "#fdca26"
             ],
             [
              1.0,
              "#f0f921"
             ]
            ]
           }
          ],
          "heatmap": [
           {
            "type": "heatmap",
            "colorbar": {
             "outlinewidth": 0,
             "ticks": ""
            },
            "colorscale": [
             [
              0.0,
              "#0d0887"
             ],
             [
              0.1111111111111111,
              "#46039f"
             ],
             [
              0.2222222222222222,
              "#7201a8"
             ],
             [
              0.3333333333333333,
              "#9c179e"
             ],
             [
              0.4444444444444444,
              "#bd3786"
             ],
             [
              0.5555555555555556,
              "#d8576b"
             ],
             [
              0.6666666666666666,
              "#ed7953"
             ],
             [
              0.7777777777777778,
              "#fb9f3a"
             ],
             [
              0.8888888888888888,
              "#fdca26"
             ],
             [
              1.0,
              "#f0f921"
             ]
            ]
           }
          ],
          "heatmapgl": [
           {
            "type": "heatmapgl",
            "colorbar": {
             "outlinewidth": 0,
             "ticks": ""
            },
            "colorscale": [
             [
              0.0,
              "#0d0887"
             ],
             [
              0.1111111111111111,
              "#46039f"
             ],
             [
              0.2222222222222222,
              "#7201a8"
             ],
             [
              0.3333333333333333,
              "#9c179e"
             ],
             [
              0.4444444444444444,
              "#bd3786"
             ],
             [
              0.5555555555555556,
              "#d8576b"
             ],
             [
              0.6666666666666666,
              "#ed7953"
             ],
             [
              0.7777777777777778,
              "#fb9f3a"
             ],
             [
              0.8888888888888888,
              "#fdca26"
             ],
             [
              1.0,
              "#f0f921"
             ]
            ]
           }
          ],
          "contourcarpet": [
           {
            "type": "contourcarpet",
            "colorbar": {
             "outlinewidth": 0,
             "ticks": ""
            }
           }
          ],
          "contour": [
           {
            "type": "contour",
            "colorbar": {
             "outlinewidth": 0,
             "ticks": ""
            },
            "colorscale": [
             [
              0.0,
              "#0d0887"
             ],
             [
              0.1111111111111111,
              "#46039f"
             ],
             [
              0.2222222222222222,
              "#7201a8"
             ],
             [
              0.3333333333333333,
              "#9c179e"
             ],
             [
              0.4444444444444444,
              "#bd3786"
             ],
             [
              0.5555555555555556,
              "#d8576b"
             ],
             [
              0.6666666666666666,
              "#ed7953"
             ],
             [
              0.7777777777777778,
              "#fb9f3a"
             ],
             [
              0.8888888888888888,
              "#fdca26"
             ],
             [
              1.0,
              "#f0f921"
             ]
            ]
           }
          ],
          "surface": [
           {
            "type": "surface",
            "colorbar": {
             "outlinewidth": 0,
             "ticks": ""
            },
            "colorscale": [
             [
              0.0,
              "#0d0887"
             ],
             [
              0.1111111111111111,
              "#46039f"
             ],
             [
              0.2222222222222222,
              "#7201a8"
             ],
             [
              0.3333333333333333,
              "#9c179e"
             ],
             [
              0.4444444444444444,
              "#bd3786"
             ],
             [
              0.5555555555555556,
              "#d8576b"
             ],
             [
              0.6666666666666666,
              "#ed7953"
             ],
             [
              0.7777777777777778,
              "#fb9f3a"
             ],
             [
              0.8888888888888888,
              "#fdca26"
             ],
             [
              1.0,
              "#f0f921"
             ]
            ]
           }
          ],
          "mesh3d": [
           {
            "type": "mesh3d",
            "colorbar": {
             "outlinewidth": 0,
             "ticks": ""
            }
           }
          ],
          "scatter": [
           {
            "fillpattern": {
             "fillmode": "overlay",
             "size": 10,
             "solidity": 0.2
            },
            "type": "scatter"
           }
          ],
          "parcoords": [
           {
            "type": "parcoords",
            "line": {
             "colorbar": {
              "outlinewidth": 0,
              "ticks": ""
             }
            }
           }
          ],
          "scatterpolargl": [
           {
            "type": "scatterpolargl",
            "marker": {
             "colorbar": {
              "outlinewidth": 0,
              "ticks": ""
             }
            }
           }
          ],
          "bar": [
           {
            "error_x": {
             "color": "#2a3f5f"
            },
            "error_y": {
             "color": "#2a3f5f"
            },
            "marker": {
             "line": {
              "color": "#E5ECF6",
              "width": 0.5
             },
             "pattern": {
              "fillmode": "overlay",
              "size": 10,
              "solidity": 0.2
             }
            },
            "type": "bar"
           }
          ],
          "scattergeo": [
           {
            "type": "scattergeo",
            "marker": {
             "colorbar": {
              "outlinewidth": 0,
              "ticks": ""
             }
            }
           }
          ],
          "scatterpolar": [
           {
            "type": "scatterpolar",
            "marker": {
             "colorbar": {
              "outlinewidth": 0,
              "ticks": ""
             }
            }
           }
          ],
          "histogram": [
           {
            "marker": {
             "pattern": {
              "fillmode": "overlay",
              "size": 10,
              "solidity": 0.2
             }
            },
            "type": "histogram"
           }
          ],
          "scattergl": [
           {
            "type": "scattergl",
            "marker": {
             "colorbar": {
              "outlinewidth": 0,
              "ticks": ""
             }
            }
           }
          ],
          "scatter3d": [
           {
            "type": "scatter3d",
            "line": {
             "colorbar": {
              "outlinewidth": 0,
              "ticks": ""
             }
            },
            "marker": {
             "colorbar": {
              "outlinewidth": 0,
              "ticks": ""
             }
            }
           }
          ],
          "scattermapbox": [
           {
            "type": "scattermapbox",
            "marker": {
             "colorbar": {
              "outlinewidth": 0,
              "ticks": ""
             }
            }
           }
          ],
          "scatterternary": [
           {
            "type": "scatterternary",
            "marker": {
             "colorbar": {
              "outlinewidth": 0,
              "ticks": ""
             }
            }
           }
          ],
          "scattercarpet": [
           {
            "type": "scattercarpet",
            "marker": {
             "colorbar": {
              "outlinewidth": 0,
              "ticks": ""
             }
            }
           }
          ],
          "carpet": [
           {
            "aaxis": {
             "endlinecolor": "#2a3f5f",
             "gridcolor": "white",
             "linecolor": "white",
             "minorgridcolor": "white",
             "startlinecolor": "#2a3f5f"
            },
            "baxis": {
             "endlinecolor": "#2a3f5f",
             "gridcolor": "white",
             "linecolor": "white",
             "minorgridcolor": "white",
             "startlinecolor": "#2a3f5f"
            },
            "type": "carpet"
           }
          ],
          "table": [
           {
            "cells": {
             "fill": {
              "color": "#EBF0F8"
             },
             "line": {
              "color": "white"
             }
            },
            "header": {
             "fill": {
              "color": "#C8D4E3"
             },
             "line": {
              "color": "white"
             }
            },
            "type": "table"
           }
          ],
          "barpolar": [
           {
            "marker": {
             "line": {
              "color": "#E5ECF6",
              "width": 0.5
             },
             "pattern": {
              "fillmode": "overlay",
              "size": 10,
              "solidity": 0.2
             }
            },
            "type": "barpolar"
           }
          ],
          "pie": [
           {
            "automargin": true,
            "type": "pie"
           }
          ]
         },
         "layout": {
          "autotypenumbers": "strict",
          "colorway": [
           "#636efa",
           "#EF553B",
           "#00cc96",
           "#ab63fa",
           "#FFA15A",
           "#19d3f3",
           "#FF6692",
           "#B6E880",
           "#FF97FF",
           "#FECB52"
          ],
          "font": {
           "color": "#2a3f5f"
          },
          "hovermode": "closest",
          "hoverlabel": {
           "align": "left"
          },
          "paper_bgcolor": "white",
          "plot_bgcolor": "#E5ECF6",
          "polar": {
           "bgcolor": "#E5ECF6",
           "angularaxis": {
            "gridcolor": "white",
            "linecolor": "white",
            "ticks": ""
           },
           "radialaxis": {
            "gridcolor": "white",
            "linecolor": "white",
            "ticks": ""
           }
          },
          "ternary": {
           "bgcolor": "#E5ECF6",
           "aaxis": {
            "gridcolor": "white",
            "linecolor": "white",
            "ticks": ""
           },
           "baxis": {
            "gridcolor": "white",
            "linecolor": "white",
            "ticks": ""
           },
           "caxis": {
            "gridcolor": "white",
            "linecolor": "white",
            "ticks": ""
           }
          },
          "coloraxis": {
           "colorbar": {
            "outlinewidth": 0,
            "ticks": ""
           }
          },
          "colorscale": {
           "sequential": [
            [
             0.0,
             "#0d0887"
            ],
            [
             0.1111111111111111,
             "#46039f"
            ],
            [
             0.2222222222222222,
             "#7201a8"
            ],
            [
             0.3333333333333333,
             "#9c179e"
            ],
            [
             0.4444444444444444,
             "#bd3786"
            ],
            [
             0.5555555555555556,
             "#d8576b"
            ],
            [
             0.6666666666666666,
             "#ed7953"
            ],
            [
             0.7777777777777778,
             "#fb9f3a"
            ],
            [
             0.8888888888888888,
             "#fdca26"
            ],
            [
             1.0,
             "#f0f921"
            ]
           ],
           "sequentialminus": [
            [
             0.0,
             "#0d0887"
            ],
            [
             0.1111111111111111,
             "#46039f"
            ],
            [
             0.2222222222222222,
             "#7201a8"
            ],
            [
             0.3333333333333333,
             "#9c179e"
            ],
            [
             0.4444444444444444,
             "#bd3786"
            ],
            [
             0.5555555555555556,
             "#d8576b"
            ],
            [
             0.6666666666666666,
             "#ed7953"
            ],
            [
             0.7777777777777778,
             "#fb9f3a"
            ],
            [
             0.8888888888888888,
             "#fdca26"
            ],
            [
             1.0,
             "#f0f921"
            ]
           ],
           "diverging": [
            [
             0,
             "#8e0152"
            ],
            [
             0.1,
             "#c51b7d"
            ],
            [
             0.2,
             "#de77ae"
            ],
            [
             0.3,
             "#f1b6da"
            ],
            [
             0.4,
             "#fde0ef"
            ],
            [
             0.5,
             "#f7f7f7"
            ],
            [
             0.6,
             "#e6f5d0"
            ],
            [
             0.7,
             "#b8e186"
            ],
            [
             0.8,
             "#7fbc41"
            ],
            [
             0.9,
             "#4d9221"
            ],
            [
             1,
             "#276419"
            ]
           ]
          },
          "xaxis": {
           "gridcolor": "white",
           "linecolor": "white",
           "ticks": "",
           "title": {
            "standoff": 15
           },
           "zerolinecolor": "white",
           "automargin": true,
           "zerolinewidth": 2
          },
          "yaxis": {
           "gridcolor": "white",
           "linecolor": "white",
           "ticks": "",
           "title": {
            "standoff": 15
           },
           "zerolinecolor": "white",
           "automargin": true,
           "zerolinewidth": 2
          },
          "scene": {
           "xaxis": {
            "backgroundcolor": "#E5ECF6",
            "gridcolor": "white",
            "linecolor": "white",
            "showbackground": true,
            "ticks": "",
            "zerolinecolor": "white",
            "gridwidth": 2
           },
           "yaxis": {
            "backgroundcolor": "#E5ECF6",
            "gridcolor": "white",
            "linecolor": "white",
            "showbackground": true,
            "ticks": "",
            "zerolinecolor": "white",
            "gridwidth": 2
           },
           "zaxis": {
            "backgroundcolor": "#E5ECF6",
            "gridcolor": "white",
            "linecolor": "white",
            "showbackground": true,
            "ticks": "",
            "zerolinecolor": "white",
            "gridwidth": 2
           }
          },
          "shapedefaults": {
           "line": {
            "color": "#2a3f5f"
           }
          },
          "annotationdefaults": {
           "arrowcolor": "#2a3f5f",
           "arrowhead": 0,
           "arrowwidth": 1
          },
          "geo": {
           "bgcolor": "white",
           "landcolor": "#E5ECF6",
           "subunitcolor": "white",
           "showland": true,
           "showlakes": true,
           "lakecolor": "white"
          },
          "title": {
           "x": 0.05
          },
          "mapbox": {
           "style": "light"
          }
         }
        },
        "xaxis": {
         "anchor": "y",
         "domain": [
          0.0,
          0.94
         ],
         "title": {
          "text": "Datetime"
         }
        },
        "yaxis": {
         "anchor": "x",
         "domain": [
          0.0,
          1.0
         ],
         "title": {
          "text": "Bitcoin Price"
         }
        },
        "yaxis2": {
         "anchor": "x",
         "overlaying": "y",
         "side": "right",
         "title": {
          "text": "Compound score"
         }
        },
        "title": {
         "text": "Bitcoin and Reddit Posts"
        },
        "width": 800,
        "height": 600
       },
       "config": {
        "plotlyServerURL": "https://plot.ly"
       }
      },
      "text/html": "<div>                            <div id=\"2015e397-7958-4a49-a13b-a461f2451bdd\" class=\"plotly-graph-div\" style=\"height:600px; width:800px;\"></div>            <script type=\"text/javascript\">                require([\"plotly\"], function(Plotly) {                    window.PLOTLYENV=window.PLOTLYENV || {};                                    if (document.getElementById(\"2015e397-7958-4a49-a13b-a461f2451bdd\")) {                    Plotly.newPlot(                        \"2015e397-7958-4a49-a13b-a461f2451bdd\",                        [{\"mode\":\"lines\",\"name\":\"Bitcoin Price\",\"x\":[\"2022-01-01T00:00:00\",\"2022-01-01T01:00:00\",\"2022-01-01T02:00:00\",\"2022-01-01T03:00:00\",\"2022-01-01T04:00:00\",\"2022-01-01T05:00:00\",\"2022-01-01T06:00:00\",\"2022-01-01T07:00:00\",\"2022-01-01T08:00:00\",\"2022-01-01T09:00:00\",\"2022-01-01T10:00:00\",\"2022-01-01T11:00:00\",\"2022-01-01T12:00:00\",\"2022-01-01T13:00:00\",\"2022-01-01T14:00:00\",\"2022-01-01T15:00:00\",\"2022-01-01T16:00:00\",\"2022-01-01T17:00:00\",\"2022-01-01T18:00:00\",\"2022-01-01T19:00:00\",\"2022-01-01T20:00:00\",\"2022-01-01T21:00:00\",\"2022-01-01T22:00:00\",\"2022-01-01T23:00:00\",\"2022-01-02T00:00:00\",\"2022-01-02T01:00:00\",\"2022-01-02T02:00:00\",\"2022-01-02T03:00:00\",\"2022-01-02T04:00:00\",\"2022-01-02T05:00:00\",\"2022-01-02T06:00:00\",\"2022-01-02T07:00:00\",\"2022-01-02T08:00:00\",\"2022-01-02T09:00:00\",\"2022-01-02T10:00:00\",\"2022-01-02T11:00:00\",\"2022-01-02T12:00:00\",\"2022-01-02T13:00:00\",\"2022-01-02T14:00:00\",\"2022-01-02T15:00:00\",\"2022-01-02T16:00:00\",\"2022-01-02T17:00:00\",\"2022-01-02T18:00:00\",\"2022-01-02T19:00:00\",\"2022-01-02T20:00:00\",\"2022-01-02T21:00:00\",\"2022-01-02T22:00:00\",\"2022-01-02T23:00:00\",\"2022-01-03T00:00:00\",\"2022-01-03T01:00:00\",\"2022-01-03T02:00:00\",\"2022-01-03T03:00:00\",\"2022-01-03T04:00:00\",\"2022-01-03T05:00:00\",\"2022-01-03T06:00:00\",\"2022-01-03T07:00:00\",\"2022-01-03T08:00:00\",\"2022-01-03T09:00:00\",\"2022-01-03T10:00:00\",\"2022-01-03T11:00:00\",\"2022-01-03T12:00:00\",\"2022-01-03T13:00:00\",\"2022-01-03T14:00:00\",\"2022-01-03T15:00:00\",\"2022-01-03T16:00:00\",\"2022-01-03T17:00:00\",\"2022-01-03T18:00:00\",\"2022-01-03T19:00:00\",\"2022-01-03T20:00:00\",\"2022-01-03T21:00:00\",\"2022-01-03T22:00:00\",\"2022-01-03T23:00:00\",\"2022-01-04T00:00:00\",\"2022-01-04T01:00:00\",\"2022-01-04T02:00:00\",\"2022-01-04T03:00:00\",\"2022-01-04T04:00:00\",\"2022-01-04T05:00:00\",\"2022-01-04T06:00:00\",\"2022-01-04T07:00:00\",\"2022-01-04T08:00:00\",\"2022-01-04T09:00:00\",\"2022-01-04T10:00:00\",\"2022-01-04T11:00:00\",\"2022-01-04T12:00:00\",\"2022-01-04T13:00:00\",\"2022-01-04T14:00:00\",\"2022-01-04T15:00:00\",\"2022-01-04T16:00:00\",\"2022-01-04T17:00:00\",\"2022-01-04T18:00:00\",\"2022-01-04T19:00:00\",\"2022-01-04T20:00:00\",\"2022-01-04T21:00:00\",\"2022-01-04T22:00:00\",\"2022-01-04T23:00:00\",\"2022-01-05T00:00:00\",\"2022-01-05T01:00:00\",\"2022-01-05T02:00:00\",\"2022-01-05T03:00:00\",\"2022-01-05T04:00:00\",\"2022-01-05T05:00:00\",\"2022-01-05T06:00:00\",\"2022-01-05T07:00:00\",\"2022-01-05T08:00:00\",\"2022-01-05T09:00:00\",\"2022-01-05T10:00:00\",\"2022-01-05T11:00:00\",\"2022-01-05T12:00:00\",\"2022-01-05T13:00:00\",\"2022-01-05T14:00:00\",\"2022-01-05T15:00:00\",\"2022-01-05T16:00:00\",\"2022-01-05T17:00:00\",\"2022-01-05T18:00:00\",\"2022-01-05T19:00:00\",\"2022-01-05T20:00:00\",\"2022-01-05T21:00:00\",\"2022-01-05T22:00:00\",\"2022-01-05T23:00:00\",\"2022-01-06T00:00:00\",\"2022-01-06T01:00:00\",\"2022-01-06T02:00:00\",\"2022-01-06T03:00:00\",\"2022-01-06T04:00:00\",\"2022-01-06T05:00:00\",\"2022-01-06T06:00:00\",\"2022-01-06T07:00:00\",\"2022-01-06T08:00:00\",\"2022-01-06T09:00:00\",\"2022-01-06T10:00:00\",\"2022-01-06T11:00:00\",\"2022-01-06T12:00:00\",\"2022-01-06T13:00:00\",\"2022-01-06T14:00:00\",\"2022-01-06T15:00:00\",\"2022-01-06T16:00:00\",\"2022-01-06T17:00:00\",\"2022-01-06T18:00:00\",\"2022-01-06T19:00:00\",\"2022-01-06T20:00:00\",\"2022-01-06T21:00:00\",\"2022-01-06T22:00:00\",\"2022-01-06T23:00:00\",\"2022-01-07T00:00:00\",\"2022-01-07T01:00:00\",\"2022-01-07T02:00:00\",\"2022-01-07T03:00:00\",\"2022-01-07T04:00:00\",\"2022-01-07T05:00:00\",\"2022-01-07T06:00:00\",\"2022-01-07T07:00:00\",\"2022-01-07T08:00:00\",\"2022-01-07T09:00:00\",\"2022-01-07T10:00:00\",\"2022-01-07T11:00:00\",\"2022-01-07T12:00:00\",\"2022-01-07T13:00:00\",\"2022-01-07T14:00:00\",\"2022-01-07T15:00:00\",\"2022-01-07T16:00:00\",\"2022-01-07T17:00:00\",\"2022-01-07T18:00:00\",\"2022-01-07T19:00:00\",\"2022-01-07T20:00:00\",\"2022-01-07T21:00:00\",\"2022-01-07T22:00:00\",\"2022-01-07T23:00:00\",\"2022-01-08T00:00:00\",\"2022-01-08T01:00:00\",\"2022-01-08T02:00:00\",\"2022-01-08T03:00:00\",\"2022-01-08T04:00:00\",\"2022-01-08T05:00:00\",\"2022-01-08T06:00:00\",\"2022-01-08T07:00:00\",\"2022-01-08T08:00:00\",\"2022-01-08T09:00:00\",\"2022-01-08T10:00:00\",\"2022-01-08T11:00:00\",\"2022-01-08T12:00:00\",\"2022-01-08T13:00:00\",\"2022-01-08T14:00:00\",\"2022-01-08T15:00:00\",\"2022-01-08T16:00:00\",\"2022-01-08T17:00:00\",\"2022-01-08T18:00:00\",\"2022-01-08T19:00:00\",\"2022-01-08T20:00:00\",\"2022-01-08T21:00:00\",\"2022-01-08T22:00:00\",\"2022-01-08T23:00:00\",\"2022-01-09T00:00:00\",\"2022-01-09T01:00:00\",\"2022-01-09T02:00:00\",\"2022-01-09T03:00:00\",\"2022-01-09T04:00:00\",\"2022-01-09T05:00:00\",\"2022-01-09T06:00:00\",\"2022-01-09T07:00:00\",\"2022-01-09T08:00:00\",\"2022-01-09T09:00:00\",\"2022-01-09T10:00:00\",\"2022-01-09T11:00:00\",\"2022-01-09T12:00:00\",\"2022-01-09T13:00:00\",\"2022-01-09T14:00:00\",\"2022-01-09T15:00:00\",\"2022-01-09T16:00:00\",\"2022-01-09T17:00:00\",\"2022-01-09T18:00:00\",\"2022-01-09T19:00:00\",\"2022-01-09T20:00:00\",\"2022-01-09T21:00:00\",\"2022-01-09T22:00:00\",\"2022-01-09T23:00:00\",\"2022-01-10T00:00:00\",\"2022-01-10T01:00:00\",\"2022-01-10T02:00:00\",\"2022-01-10T03:00:00\",\"2022-01-10T04:00:00\",\"2022-01-10T05:00:00\",\"2022-01-10T06:00:00\",\"2022-01-10T07:00:00\",\"2022-01-10T08:00:00\",\"2022-01-10T09:00:00\",\"2022-01-10T10:00:00\",\"2022-01-10T11:00:00\",\"2022-01-10T12:00:00\",\"2022-01-10T13:00:00\",\"2022-01-10T14:00:00\",\"2022-01-10T15:00:00\",\"2022-01-10T16:00:00\",\"2022-01-10T17:00:00\",\"2022-01-10T18:00:00\",\"2022-01-10T19:00:00\",\"2022-01-10T20:00:00\",\"2022-01-10T21:00:00\",\"2022-01-10T22:00:00\",\"2022-01-10T23:00:00\",\"2022-01-11T00:00:00\",\"2022-01-11T01:00:00\",\"2022-01-11T02:00:00\",\"2022-01-11T03:00:00\",\"2022-01-11T04:00:00\",\"2022-01-11T05:00:00\",\"2022-01-11T06:00:00\",\"2022-01-11T07:00:00\",\"2022-01-11T08:00:00\",\"2022-01-11T09:00:00\",\"2022-01-11T10:00:00\",\"2022-01-11T11:00:00\",\"2022-01-11T12:00:00\",\"2022-01-11T13:00:00\",\"2022-01-11T14:00:00\",\"2022-01-11T15:00:00\",\"2022-01-11T16:00:00\",\"2022-01-11T17:00:00\",\"2022-01-11T18:00:00\",\"2022-01-11T19:00:00\",\"2022-01-11T20:00:00\",\"2022-01-11T21:00:00\",\"2022-01-11T22:00:00\",\"2022-01-11T23:00:00\",\"2022-01-12T00:00:00\",\"2022-01-12T01:00:00\",\"2022-01-12T02:00:00\",\"2022-01-12T03:00:00\",\"2022-01-12T04:00:00\",\"2022-01-12T05:00:00\",\"2022-01-12T06:00:00\",\"2022-01-12T07:00:00\",\"2022-01-12T08:00:00\",\"2022-01-12T09:00:00\",\"2022-01-12T10:00:00\",\"2022-01-12T11:00:00\",\"2022-01-12T12:00:00\",\"2022-01-12T13:00:00\",\"2022-01-12T14:00:00\",\"2022-01-12T15:00:00\",\"2022-01-12T16:00:00\",\"2022-01-12T17:00:00\",\"2022-01-12T18:00:00\",\"2022-01-12T19:00:00\",\"2022-01-12T20:00:00\",\"2022-01-12T21:00:00\",\"2022-01-12T22:00:00\",\"2022-01-12T23:00:00\",\"2022-01-13T00:00:00\",\"2022-01-13T01:00:00\",\"2022-01-13T02:00:00\",\"2022-01-13T03:00:00\",\"2022-01-13T04:00:00\",\"2022-01-13T05:00:00\",\"2022-01-13T06:00:00\",\"2022-01-13T07:00:00\",\"2022-01-13T08:00:00\",\"2022-01-13T09:00:00\",\"2022-01-13T10:00:00\",\"2022-01-13T11:00:00\",\"2022-01-13T12:00:00\",\"2022-01-13T13:00:00\",\"2022-01-13T14:00:00\",\"2022-01-13T15:00:00\",\"2022-01-13T16:00:00\",\"2022-01-13T17:00:00\",\"2022-01-13T18:00:00\",\"2022-01-13T19:00:00\",\"2022-01-13T20:00:00\",\"2022-01-13T21:00:00\",\"2022-01-13T22:00:00\",\"2022-01-13T23:00:00\",\"2022-01-14T00:00:00\",\"2022-01-14T01:00:00\",\"2022-01-14T02:00:00\",\"2022-01-14T03:00:00\",\"2022-01-14T04:00:00\",\"2022-01-14T05:00:00\",\"2022-01-14T06:00:00\",\"2022-01-14T07:00:00\",\"2022-01-14T08:00:00\",\"2022-01-14T09:00:00\",\"2022-01-14T10:00:00\",\"2022-01-14T11:00:00\",\"2022-01-14T12:00:00\",\"2022-01-14T13:00:00\",\"2022-01-14T14:00:00\",\"2022-01-14T15:00:00\",\"2022-01-14T16:00:00\",\"2022-01-14T17:00:00\",\"2022-01-14T18:00:00\",\"2022-01-14T19:00:00\",\"2022-01-14T20:00:00\",\"2022-01-14T21:00:00\",\"2022-01-14T22:00:00\",\"2022-01-14T23:00:00\",\"2022-01-15T00:00:00\",\"2022-01-15T01:00:00\",\"2022-01-15T02:00:00\",\"2022-01-15T03:00:00\",\"2022-01-15T04:00:00\",\"2022-01-15T05:00:00\",\"2022-01-15T06:00:00\",\"2022-01-15T07:00:00\",\"2022-01-15T08:00:00\",\"2022-01-15T09:00:00\",\"2022-01-15T10:00:00\",\"2022-01-15T11:00:00\",\"2022-01-15T12:00:00\",\"2022-01-15T13:00:00\",\"2022-01-15T14:00:00\",\"2022-01-15T15:00:00\",\"2022-01-15T16:00:00\",\"2022-01-15T17:00:00\",\"2022-01-15T18:00:00\",\"2022-01-15T19:00:00\",\"2022-01-15T20:00:00\",\"2022-01-15T21:00:00\",\"2022-01-15T22:00:00\",\"2022-01-15T23:00:00\",\"2022-01-16T00:00:00\",\"2022-01-16T01:00:00\",\"2022-01-16T02:00:00\",\"2022-01-16T03:00:00\",\"2022-01-16T04:00:00\",\"2022-01-16T05:00:00\",\"2022-01-16T06:00:00\",\"2022-01-16T07:00:00\",\"2022-01-16T08:00:00\",\"2022-01-16T09:00:00\",\"2022-01-16T10:00:00\",\"2022-01-16T11:00:00\",\"2022-01-16T12:00:00\",\"2022-01-16T13:00:00\",\"2022-01-16T14:00:00\",\"2022-01-16T15:00:00\",\"2022-01-16T16:00:00\",\"2022-01-16T17:00:00\",\"2022-01-16T18:00:00\",\"2022-01-16T19:00:00\",\"2022-01-16T20:00:00\",\"2022-01-16T21:00:00\",\"2022-01-16T22:00:00\",\"2022-01-16T23:00:00\",\"2022-01-17T00:00:00\",\"2022-01-17T01:00:00\",\"2022-01-17T02:00:00\",\"2022-01-17T03:00:00\",\"2022-01-17T04:00:00\",\"2022-01-17T05:00:00\",\"2022-01-17T06:00:00\",\"2022-01-17T07:00:00\",\"2022-01-17T08:00:00\",\"2022-01-17T09:00:00\",\"2022-01-17T10:00:00\",\"2022-01-17T11:00:00\",\"2022-01-17T12:00:00\",\"2022-01-17T13:00:00\",\"2022-01-17T14:00:00\",\"2022-01-17T15:00:00\",\"2022-01-17T16:00:00\",\"2022-01-17T17:00:00\",\"2022-01-17T18:00:00\",\"2022-01-17T19:00:00\",\"2022-01-17T20:00:00\",\"2022-01-17T21:00:00\",\"2022-01-17T22:00:00\",\"2022-01-17T23:00:00\",\"2022-01-18T00:00:00\",\"2022-01-18T01:00:00\",\"2022-01-18T02:00:00\",\"2022-01-18T03:00:00\",\"2022-01-18T04:00:00\",\"2022-01-18T05:00:00\",\"2022-01-18T06:00:00\",\"2022-01-18T07:00:00\",\"2022-01-18T08:00:00\",\"2022-01-18T09:00:00\",\"2022-01-18T10:00:00\",\"2022-01-18T11:00:00\",\"2022-01-18T12:00:00\",\"2022-01-18T13:00:00\",\"2022-01-18T14:00:00\",\"2022-01-18T15:00:00\",\"2022-01-18T16:00:00\",\"2022-01-18T17:00:00\",\"2022-01-18T18:00:00\",\"2022-01-18T19:00:00\",\"2022-01-18T20:00:00\",\"2022-01-18T21:00:00\",\"2022-01-18T22:00:00\",\"2022-01-18T23:00:00\",\"2022-01-19T00:00:00\",\"2022-01-19T01:00:00\",\"2022-01-19T02:00:00\",\"2022-01-19T03:00:00\",\"2022-01-19T04:00:00\",\"2022-01-19T05:00:00\",\"2022-01-19T06:00:00\",\"2022-01-19T07:00:00\",\"2022-01-19T08:00:00\",\"2022-01-19T09:00:00\",\"2022-01-19T10:00:00\",\"2022-01-19T11:00:00\",\"2022-01-19T12:00:00\",\"2022-01-19T13:00:00\",\"2022-01-19T14:00:00\",\"2022-01-19T15:00:00\",\"2022-01-19T16:00:00\",\"2022-01-19T17:00:00\",\"2022-01-19T18:00:00\",\"2022-01-19T19:00:00\",\"2022-01-19T20:00:00\",\"2022-01-19T21:00:00\",\"2022-01-19T22:00:00\",\"2022-01-19T23:00:00\",\"2022-01-20T00:00:00\",\"2022-01-20T01:00:00\",\"2022-01-20T02:00:00\",\"2022-01-20T03:00:00\",\"2022-01-20T04:00:00\",\"2022-01-20T05:00:00\",\"2022-01-20T06:00:00\",\"2022-01-20T07:00:00\",\"2022-01-20T08:00:00\",\"2022-01-20T09:00:00\",\"2022-01-20T10:00:00\",\"2022-01-20T11:00:00\",\"2022-01-20T12:00:00\",\"2022-01-20T13:00:00\",\"2022-01-20T14:00:00\",\"2022-01-20T15:00:00\",\"2022-01-20T16:00:00\",\"2022-01-20T17:00:00\",\"2022-01-20T18:00:00\",\"2022-01-20T19:00:00\",\"2022-01-20T20:00:00\",\"2022-01-20T21:00:00\",\"2022-01-20T22:00:00\",\"2022-01-20T23:00:00\",\"2022-01-21T00:00:00\",\"2022-01-21T01:00:00\",\"2022-01-21T02:00:00\",\"2022-01-21T03:00:00\",\"2022-01-21T04:00:00\",\"2022-01-21T05:00:00\",\"2022-01-21T06:00:00\",\"2022-01-21T07:00:00\",\"2022-01-21T08:00:00\",\"2022-01-21T09:00:00\",\"2022-01-21T10:00:00\",\"2022-01-21T11:00:00\",\"2022-01-21T12:00:00\",\"2022-01-21T13:00:00\",\"2022-01-21T14:00:00\",\"2022-01-21T15:00:00\",\"2022-01-21T16:00:00\",\"2022-01-21T17:00:00\",\"2022-01-21T18:00:00\",\"2022-01-21T19:00:00\",\"2022-01-21T20:00:00\",\"2022-01-21T21:00:00\",\"2022-01-21T22:00:00\",\"2022-01-21T23:00:00\",\"2022-01-22T00:00:00\",\"2022-01-22T01:00:00\",\"2022-01-22T02:00:00\",\"2022-01-22T03:00:00\",\"2022-01-22T04:00:00\",\"2022-01-22T05:00:00\",\"2022-01-22T06:00:00\",\"2022-01-22T07:00:00\",\"2022-01-22T08:00:00\",\"2022-01-22T09:00:00\",\"2022-01-22T10:00:00\",\"2022-01-22T11:00:00\",\"2022-01-22T12:00:00\",\"2022-01-22T13:00:00\",\"2022-01-22T14:00:00\",\"2022-01-22T15:00:00\",\"2022-01-22T16:00:00\",\"2022-01-22T17:00:00\",\"2022-01-22T18:00:00\",\"2022-01-22T19:00:00\",\"2022-01-22T20:00:00\",\"2022-01-22T21:00:00\",\"2022-01-22T22:00:00\",\"2022-01-22T23:00:00\",\"2022-01-23T00:00:00\",\"2022-01-23T01:00:00\",\"2022-01-23T02:00:00\",\"2022-01-23T03:00:00\",\"2022-01-23T04:00:00\",\"2022-01-23T05:00:00\",\"2022-01-23T06:00:00\",\"2022-01-23T07:00:00\",\"2022-01-23T08:00:00\",\"2022-01-23T09:00:00\",\"2022-01-23T10:00:00\",\"2022-01-23T11:00:00\",\"2022-01-23T12:00:00\",\"2022-01-23T13:00:00\",\"2022-01-23T14:00:00\",\"2022-01-23T15:00:00\",\"2022-01-23T16:00:00\",\"2022-01-23T17:00:00\",\"2022-01-23T18:00:00\",\"2022-01-23T19:00:00\",\"2022-01-23T20:00:00\",\"2022-01-23T21:00:00\",\"2022-01-23T22:00:00\",\"2022-01-23T23:00:00\",\"2022-01-24T00:00:00\",\"2022-01-24T01:00:00\",\"2022-01-24T02:00:00\",\"2022-01-24T03:00:00\",\"2022-01-24T04:00:00\",\"2022-01-24T05:00:00\",\"2022-01-24T06:00:00\",\"2022-01-24T07:00:00\",\"2022-01-24T08:00:00\",\"2022-01-24T09:00:00\",\"2022-01-24T10:00:00\",\"2022-01-24T11:00:00\",\"2022-01-24T12:00:00\",\"2022-01-24T13:00:00\",\"2022-01-24T14:00:00\",\"2022-01-24T15:00:00\",\"2022-01-24T16:00:00\",\"2022-01-24T17:00:00\",\"2022-01-24T18:00:00\",\"2022-01-24T19:00:00\",\"2022-01-24T20:00:00\",\"2022-01-24T21:00:00\",\"2022-01-24T22:00:00\",\"2022-01-24T23:00:00\",\"2022-01-25T00:00:00\",\"2022-01-25T01:00:00\",\"2022-01-25T02:00:00\",\"2022-01-25T03:00:00\",\"2022-01-25T04:00:00\",\"2022-01-25T05:00:00\",\"2022-01-25T06:00:00\",\"2022-01-25T07:00:00\",\"2022-01-25T08:00:00\",\"2022-01-25T09:00:00\",\"2022-01-25T10:00:00\",\"2022-01-25T11:00:00\",\"2022-01-25T12:00:00\",\"2022-01-25T13:00:00\",\"2022-01-25T14:00:00\",\"2022-01-25T15:00:00\",\"2022-01-25T16:00:00\",\"2022-01-25T17:00:00\",\"2022-01-25T18:00:00\",\"2022-01-25T19:00:00\",\"2022-01-25T20:00:00\",\"2022-01-25T21:00:00\",\"2022-01-25T22:00:00\",\"2022-01-25T23:00:00\",\"2022-01-26T00:00:00\",\"2022-01-26T01:00:00\",\"2022-01-26T02:00:00\",\"2022-01-26T03:00:00\",\"2022-01-26T04:00:00\",\"2022-01-26T05:00:00\",\"2022-01-26T06:00:00\",\"2022-01-26T07:00:00\",\"2022-01-26T08:00:00\",\"2022-01-26T09:00:00\",\"2022-01-26T10:00:00\",\"2022-01-26T11:00:00\",\"2022-01-26T12:00:00\",\"2022-01-26T13:00:00\",\"2022-01-26T14:00:00\",\"2022-01-26T15:00:00\",\"2022-01-26T16:00:00\",\"2022-01-26T17:00:00\",\"2022-01-26T18:00:00\",\"2022-01-26T19:00:00\",\"2022-01-26T20:00:00\",\"2022-01-26T21:00:00\",\"2022-01-26T22:00:00\",\"2022-01-26T23:00:00\",\"2022-01-27T00:00:00\",\"2022-01-27T01:00:00\",\"2022-01-27T02:00:00\",\"2022-01-27T03:00:00\",\"2022-01-27T04:00:00\",\"2022-01-27T05:00:00\",\"2022-01-27T06:00:00\",\"2022-01-27T07:00:00\",\"2022-01-27T08:00:00\",\"2022-01-27T09:00:00\",\"2022-01-27T10:00:00\",\"2022-01-27T11:00:00\",\"2022-01-27T12:00:00\",\"2022-01-27T13:00:00\",\"2022-01-27T14:00:00\",\"2022-01-27T15:00:00\",\"2022-01-27T16:00:00\",\"2022-01-27T17:00:00\",\"2022-01-27T18:00:00\",\"2022-01-27T19:00:00\",\"2022-01-27T20:00:00\",\"2022-01-27T21:00:00\",\"2022-01-27T22:00:00\",\"2022-01-27T23:00:00\",\"2022-01-28T00:00:00\",\"2022-01-28T01:00:00\",\"2022-01-28T02:00:00\",\"2022-01-28T03:00:00\",\"2022-01-28T04:00:00\",\"2022-01-28T05:00:00\",\"2022-01-28T06:00:00\",\"2022-01-28T07:00:00\",\"2022-01-28T08:00:00\",\"2022-01-28T09:00:00\",\"2022-01-28T10:00:00\",\"2022-01-28T11:00:00\",\"2022-01-28T12:00:00\",\"2022-01-28T13:00:00\",\"2022-01-28T14:00:00\",\"2022-01-28T15:00:00\",\"2022-01-28T16:00:00\",\"2022-01-28T17:00:00\",\"2022-01-28T18:00:00\",\"2022-01-28T19:00:00\",\"2022-01-28T20:00:00\",\"2022-01-28T21:00:00\",\"2022-01-28T22:00:00\",\"2022-01-28T23:00:00\",\"2022-01-29T00:00:00\",\"2022-01-29T01:00:00\",\"2022-01-29T02:00:00\",\"2022-01-29T03:00:00\",\"2022-01-29T04:00:00\",\"2022-01-29T05:00:00\",\"2022-01-29T06:00:00\",\"2022-01-29T07:00:00\",\"2022-01-29T08:00:00\",\"2022-01-29T09:00:00\",\"2022-01-29T10:00:00\",\"2022-01-29T11:00:00\",\"2022-01-29T12:00:00\",\"2022-01-29T13:00:00\",\"2022-01-29T14:00:00\",\"2022-01-29T15:00:00\",\"2022-01-29T16:00:00\",\"2022-01-29T17:00:00\",\"2022-01-29T18:00:00\",\"2022-01-29T19:00:00\",\"2022-01-29T20:00:00\",\"2022-01-29T21:00:00\",\"2022-01-29T22:00:00\",\"2022-01-29T23:00:00\",\"2022-01-30T00:00:00\",\"2022-01-30T01:00:00\",\"2022-01-30T02:00:00\",\"2022-01-30T03:00:00\",\"2022-01-30T04:00:00\",\"2022-01-30T05:00:00\",\"2022-01-30T06:00:00\",\"2022-01-30T07:00:00\",\"2022-01-30T08:00:00\",\"2022-01-30T09:00:00\",\"2022-01-30T10:00:00\",\"2022-01-30T11:00:00\",\"2022-01-30T12:00:00\",\"2022-01-30T13:00:00\",\"2022-01-30T14:00:00\",\"2022-01-30T15:00:00\",\"2022-01-30T16:00:00\",\"2022-01-30T17:00:00\",\"2022-01-30T18:00:00\",\"2022-01-30T19:00:00\",\"2022-01-30T20:00:00\",\"2022-01-30T21:00:00\",\"2022-01-30T22:00:00\",\"2022-01-30T23:00:00\",\"2022-01-31T00:00:00\",\"2022-01-31T01:00:00\",\"2022-01-31T02:00:00\",\"2022-01-31T03:00:00\",\"2022-01-31T04:00:00\",\"2022-01-31T05:00:00\",\"2022-01-31T06:00:00\",\"2022-01-31T07:00:00\",\"2022-01-31T08:00:00\",\"2022-01-31T09:00:00\",\"2022-01-31T10:00:00\",\"2022-01-31T11:00:00\",\"2022-01-31T12:00:00\",\"2022-01-31T13:00:00\",\"2022-01-31T14:00:00\",\"2022-01-31T15:00:00\",\"2022-01-31T16:00:00\",\"2022-01-31T17:00:00\",\"2022-01-31T18:00:00\",\"2022-01-31T19:00:00\",\"2022-01-31T20:00:00\",\"2022-01-31T21:00:00\",\"2022-01-31T22:00:00\",\"2022-01-31T23:00:00\"],\"y\":[46650.01,46766.78,46796.14,46789.56,46690.81,47184.18,46972.19,47186.83,47117.84,47137.37,46864.09,46755.01,47062.37,47005.55,46909.2,47194.78,47249.99,47733.16,47546.74,47326.98,47385.22,47322.2,47428.16,47704.35,47622.14,47381.21,47374.28,47330.75,46902.11,47077.7,47122.49,47171.04,47211.36,47263.18,47175.95,47231.3,47279.57,47133.07,47110.2,47329.68,47780.0,47402.3,47046.95,46908.29,47012.47,47023.47,47261.73,47280.0,47059.43,47117.42,47005.39,46802.86,46823.58,47083.37,46930.85,47041.11,46970.01,46979.01,47116.89,47364.11,47192.64,47157.33,46874.66,46689.99,46484.0,46564.54,46469.49,46364.55,45904.74,45974.5,46214.28,46445.81,46251.5,46065.39,46111.81,46313.95,46107.5,46151.49,46359.14,46521.68,46475.02,46355.2,46599.84,46709.98,46628.88,46933.15,47303.01,46925.28,46767.94,46564.0,45742.69,46058.09,46267.79,46230.6,46155.89,45833.42,46260.08,46112.1,46291.45,46409.76,46419.0,46302.72,46454.0,46399.33,46626.53,46850.75,46809.4,46271.93,46228.27,46429.36,46682.79,46611.46,46308.23,46007.99,45922.29,44673.22,43958.56,43604.0,43415.84,43421.69,43656.0,43525.91,43248.4,42817.38,43007.21,43038.12,43091.6,43222.22,43050.0,42591.58,42874.38,42865.15,43047.4,43123.15,42802.24,42947.79,42878.24,42994.68,43353.88,43409.03,43206.67,43105.1,43163.57,43080.01,42787.99,42988.26,42795.77,41789.97,41680.0,41835.97,41520.0,41691.61,42089.3,42409.0,42167.9,42249.99,42393.02,41471.53,41876.11,41297.41,42131.75,41978.79,41695.07,41764.32,41910.96,41862.38,41522.5,41553.86,41992.23,41880.01,41870.9,41796.03,41880.0,41954.47,41901.74,41902.21,41948.85,42138.03,41907.21,41918.02,41851.23,41884.04,41737.01,41600.72,41342.06,40846.58,40684.09,40837.51,40976.06,41775.18,41912.88,41688.05,41774.19,41800.81,42090.34,41835.6,42065.29,41762.99,41866.0,41784.63,41657.45,41503.75,41636.97,41854.25,41737.43,41467.75,41530.99,41611.09,42127.99,42084.96,41954.99,42678.95,42414.64,42290.28,42193.23,41851.22,41644.58,41790.01,41905.0,41946.05,42164.36,42006.0,41914.84,42034.99,41803.54,41788.54,41765.01,41564.26,40931.61,40753.0,40768.6,40973.56,41892.96,41167.99,41584.61,41280.45,41698.68,41696.66,41592.95,41801.55,41585.19,41913.72,42146.26,42251.59,42284.21,42096.61,42088.99,42191.79,41978.17,41967.92,41619.09,41800.95,41796.8,41691.83,41616.57,41716.42,42684.18,42523.15,42730.31,42938.55,42774.08,42643.77,42685.05,42700.68,42664.57,42617.4,42545.54,42592.92,42614.35,42688.49,42661.99,42550.09,42594.19,42778.0,42739.14,42906.98,43245.67,43881.76,43819.68,43549.99,43593.0,43814.93,43570.0,43707.2,43794.87,43756.14,43813.58,43880.72,43699.62,43540.96,43583.2,43501.19,43604.4,43645.7,43692.74,43682.7,43876.44,43855.47,43766.01,43592.1,43786.9,43891.64,44120.24,43170.0,43224.79,42800.0,42699.54,42690.02,42760.66,42780.0,42566.68,42534.32,42732.33,42576.16,42690.0,42611.77,42655.5,42864.34,42781.41,42635.62,42505.72,42535.65,42059.75,41983.12,42029.37,42140.37,42945.09,43082.57,43183.63,42904.07,43030.9,43055.09,43075.96,43268.35,43230.0,43042.4,43082.04,42965.85,43080.0,42918.27,42895.77,42965.67,43048.54,43073.99,42968.18,43042.65,43085.01,42995.23,42700.0,42889.22,43162.19,43370.01,43306.35,43348.2,43297.97,43496.85,43473.72,43281.73,43225.92,43070.51,43060.0,42979.6,42915.41,42966.51,43004.91,42941.14,43171.67,43173.02,43063.92,43064.22,42904.4,42960.0,42990.01,43097.88,43280.64,43207.81,43359.08,43059.54,43042.16,42817.01,43014.28,42937.0,43157.21,43060.66,42873.86,42879.99,42901.91,42635.91,42606.26,42649.7,42730.98,42639.51,42770.01,42825.25,42775.48,42656.61,42544.28,42631.58,42645.25,42467.49,42212.29,42108.49,42162.86,42221.15,42065.0,41710.21,42063.78,42176.34,42338.0,42238.63,42254.78,42027.18,42022.52,42084.88,42219.79,42040.0,41709.99,41885.84,41909.98,41842.4,41793.31,41640.32,41441.51,41574.09,41693.15,41480.65,41596.98,41680.93,41767.25,42348.55,42460.89,42337.58,42242.57,42409.54,42324.74,41690.59,41699.55,41751.99,41700.0,41271.21,41362.88,41553.2,41494.2,42023.15,42075.1,42171.24,42475.99,41971.31,41904.33,42150.0,42000.01,41864.47,41626.0,41704.26,41956.47,41657.89,41824.64,41756.21,41969.69,41915.36,41875.9,41878.84,41988.84,42039.99,41956.98,42038.6,42089.94,42117.31,42019.89,42368.81,42941.36,43275.74,43257.22,43020.35,42824.44,42909.99,42715.35,41319.68,41137.96,40661.69,40884.57,39750.69,39818.48,38447.91,38819.99,38888.95,38663.95,39106.42,39140.86,38942.78,38956.26,38878.71,38169.34,38484.39,38411.24,38831.88,38704.37,38369.69,38254.15,37967.04,38337.36,36634.29,36093.06,36425.98,36468.66,36475.49,36460.42,36319.99,36258.38,35728.06,35706.43,35374.14,35583.24,34804.48,35461.77,35385.59,35744.46,35572.97,35008.02,34829.93,35085.04,34590.01,34379.45,34506.47,35275.85,35364.01,34861.04,35043.73,35378.61,35296.61,34862.32,35032.09,35199.96,35429.32,35262.76,35553.2,35820.2,35860.35,35883.99,35671.57,35780.01,35944.34,35308.53,35265.33,35211.97,35314.96,34942.06,34763.65,35271.3,35335.74,35490.61,36230.01,35820.19,35640.34,35191.05,35315.02,35106.28,35164.38,35257.01,34875.53,34952.37,34500.0,33270.45,33690.01,33080.0,33319.31,33609.51,34217.72,34384.59,35331.17,36154.52,36050.48,37210.38,36800.0,36368.23,36648.31,36027.97,36116.84,36298.0,36405.01,35939.0,36037.16,35834.99,36035.0,36059.27,36389.86,36410.05,36385.0,36497.26,36479.25,36285.7,36522.01,36805.52,37245.24,37299.99,37039.99,36836.91,36544.92,36769.99,36934.26,36618.66,36833.76,36800.15,37363.81,37762.15,37575.0,37284.0,37321.95,37571.86,37620.01,37910.63,38045.91,37737.5,38170.01,38201.88,37962.11,38234.95,38032.27,37950.7,37548.79,36989.1,36311.23,36489.99,36787.43,36975.1,35868.54,35995.29,35730.42,35912.56,35953.76,36113.73,36150.76,36420.01,36505.31,36301.17,36670.15,36650.16,36806.08,36856.18,36625.3,36513.66,36266.37,36191.5,36194.34,35574.0,36168.83,36683.88,37131.0,37129.08,36862.77,36928.66,37341.84,37210.01,37196.06,36896.94,36788.86,36643.79,36473.29,36596.93,36433.29,36268.18,36890.17,36749.65,37169.99,37082.54,36832.16,37022.43,37205.88,37730.18,37780.0,37642.62,37696.21,37771.58,37520.01,37524.39,37715.0,37793.51,37644.0,37729.08,37822.15,37767.6,37690.66,37740.1,37723.57,37826.86,38129.98,37599.38,37543.79,37519.07,37628.76,37781.35,37831.0,38319.8,38336.71,38120.2,38150.01,37808.09,37916.8,37940.63,37899.99,38081.78,38122.67,38090.01,38228.0,37992.01,37881.93,38173.57,38095.46,37921.37,37945.42,37825.49,37962.13,37822.24,37975.0,37813.89,37505.73,37665.0,37713.0,37767.09,37870.01,36821.39,36804.37,36965.9,36998.67,36894.99,36981.0,36901.05,37098.68,37124.29,37185.01,37274.01,37245.0,37063.91,37225.71,37484.04,37694.46,38304.62,38449.98,38446.43,38400.0,38432.32,38395.17,38385.61,38439.04],\"type\":\"scatter\",\"xaxis\":\"x\",\"yaxis\":\"y\"},{\"mode\":\"lines\",\"name\":\"Reddit Posts compound score\",\"x\":[\"2022-01-01T00:00:00\",\"2022-01-01T01:00:00\",\"2022-01-01T02:00:00\",\"2022-01-01T03:00:00\",\"2022-01-01T04:00:00\",\"2022-01-01T05:00:00\",\"2022-01-01T06:00:00\",\"2022-01-01T07:00:00\",\"2022-01-01T08:00:00\",\"2022-01-01T09:00:00\",\"2022-01-01T10:00:00\",\"2022-01-01T11:00:00\",\"2022-01-01T12:00:00\",\"2022-01-01T13:00:00\",\"2022-01-01T14:00:00\",\"2022-01-01T15:00:00\",\"2022-01-01T16:00:00\",\"2022-01-01T17:00:00\",\"2022-01-01T18:00:00\",\"2022-01-01T19:00:00\",\"2022-01-01T20:00:00\",\"2022-01-01T21:00:00\",\"2022-01-01T22:00:00\",\"2022-01-01T23:00:00\",\"2022-01-02T00:00:00\",\"2022-01-02T01:00:00\",\"2022-01-02T02:00:00\",\"2022-01-02T03:00:00\",\"2022-01-02T04:00:00\",\"2022-01-02T05:00:00\",\"2022-01-02T06:00:00\",\"2022-01-02T07:00:00\",\"2022-01-02T08:00:00\",\"2022-01-02T09:00:00\",\"2022-01-02T10:00:00\",\"2022-01-02T11:00:00\",\"2022-01-02T12:00:00\",\"2022-01-02T13:00:00\",\"2022-01-02T14:00:00\",\"2022-01-02T15:00:00\",\"2022-01-02T16:00:00\",\"2022-01-02T17:00:00\",\"2022-01-02T18:00:00\",\"2022-01-02T19:00:00\",\"2022-01-02T20:00:00\",\"2022-01-02T21:00:00\",\"2022-01-02T22:00:00\",\"2022-01-02T23:00:00\",\"2022-01-03T00:00:00\",\"2022-01-03T01:00:00\",\"2022-01-03T02:00:00\",\"2022-01-03T03:00:00\",\"2022-01-03T04:00:00\",\"2022-01-03T05:00:00\",\"2022-01-03T06:00:00\",\"2022-01-03T07:00:00\",\"2022-01-03T08:00:00\",\"2022-01-03T09:00:00\",\"2022-01-03T10:00:00\",\"2022-01-03T11:00:00\",\"2022-01-03T12:00:00\",\"2022-01-03T13:00:00\",\"2022-01-03T14:00:00\",\"2022-01-03T15:00:00\",\"2022-01-03T16:00:00\",\"2022-01-03T17:00:00\",\"2022-01-03T18:00:00\",\"2022-01-03T19:00:00\",\"2022-01-03T20:00:00\",\"2022-01-03T21:00:00\",\"2022-01-03T22:00:00\",\"2022-01-03T23:00:00\",\"2022-01-04T00:00:00\",\"2022-01-04T01:00:00\",\"2022-01-04T02:00:00\",\"2022-01-04T03:00:00\",\"2022-01-04T04:00:00\",\"2022-01-04T05:00:00\",\"2022-01-04T06:00:00\",\"2022-01-04T07:00:00\",\"2022-01-04T08:00:00\",\"2022-01-04T09:00:00\",\"2022-01-04T10:00:00\",\"2022-01-04T11:00:00\",\"2022-01-04T12:00:00\",\"2022-01-04T13:00:00\",\"2022-01-04T14:00:00\",\"2022-01-04T15:00:00\",\"2022-01-04T16:00:00\",\"2022-01-04T17:00:00\",\"2022-01-04T18:00:00\",\"2022-01-04T19:00:00\",\"2022-01-04T20:00:00\",\"2022-01-04T21:00:00\",\"2022-01-04T22:00:00\",\"2022-01-04T23:00:00\",\"2022-01-05T00:00:00\",\"2022-01-05T01:00:00\",\"2022-01-05T02:00:00\",\"2022-01-05T03:00:00\",\"2022-01-05T04:00:00\",\"2022-01-05T05:00:00\",\"2022-01-05T06:00:00\",\"2022-01-05T07:00:00\",\"2022-01-05T08:00:00\",\"2022-01-05T09:00:00\",\"2022-01-05T10:00:00\",\"2022-01-05T11:00:00\",\"2022-01-05T12:00:00\",\"2022-01-05T13:00:00\",\"2022-01-05T14:00:00\",\"2022-01-05T15:00:00\",\"2022-01-05T16:00:00\",\"2022-01-05T17:00:00\",\"2022-01-05T18:00:00\",\"2022-01-05T19:00:00\",\"2022-01-05T20:00:00\",\"2022-01-05T21:00:00\",\"2022-01-05T22:00:00\",\"2022-01-05T23:00:00\",\"2022-01-06T00:00:00\",\"2022-01-06T01:00:00\",\"2022-01-06T02:00:00\",\"2022-01-06T03:00:00\",\"2022-01-06T04:00:00\",\"2022-01-06T05:00:00\",\"2022-01-06T06:00:00\",\"2022-01-06T07:00:00\",\"2022-01-06T08:00:00\",\"2022-01-06T09:00:00\",\"2022-01-06T10:00:00\",\"2022-01-06T11:00:00\",\"2022-01-06T12:00:00\",\"2022-01-06T13:00:00\",\"2022-01-06T14:00:00\",\"2022-01-06T15:00:00\",\"2022-01-06T16:00:00\",\"2022-01-06T17:00:00\",\"2022-01-06T18:00:00\",\"2022-01-06T19:00:00\",\"2022-01-06T20:00:00\",\"2022-01-06T21:00:00\",\"2022-01-06T22:00:00\",\"2022-01-06T23:00:00\",\"2022-01-07T00:00:00\",\"2022-01-07T01:00:00\",\"2022-01-07T02:00:00\",\"2022-01-07T03:00:00\",\"2022-01-07T04:00:00\",\"2022-01-07T05:00:00\",\"2022-01-07T06:00:00\",\"2022-01-07T07:00:00\",\"2022-01-07T08:00:00\",\"2022-01-07T09:00:00\",\"2022-01-07T10:00:00\",\"2022-01-07T11:00:00\",\"2022-01-07T12:00:00\",\"2022-01-07T13:00:00\",\"2022-01-07T14:00:00\",\"2022-01-07T15:00:00\",\"2022-01-07T16:00:00\",\"2022-01-07T17:00:00\",\"2022-01-07T18:00:00\",\"2022-01-07T19:00:00\",\"2022-01-07T20:00:00\",\"2022-01-07T21:00:00\",\"2022-01-07T22:00:00\",\"2022-01-07T23:00:00\",\"2022-01-08T00:00:00\",\"2022-01-08T01:00:00\",\"2022-01-08T02:00:00\",\"2022-01-08T03:00:00\",\"2022-01-08T04:00:00\",\"2022-01-08T05:00:00\",\"2022-01-08T06:00:00\",\"2022-01-08T07:00:00\",\"2022-01-08T08:00:00\",\"2022-01-08T09:00:00\",\"2022-01-08T10:00:00\",\"2022-01-08T11:00:00\",\"2022-01-08T12:00:00\",\"2022-01-08T13:00:00\",\"2022-01-08T14:00:00\",\"2022-01-08T15:00:00\",\"2022-01-08T16:00:00\",\"2022-01-08T17:00:00\",\"2022-01-08T18:00:00\",\"2022-01-08T19:00:00\",\"2022-01-08T20:00:00\",\"2022-01-08T21:00:00\",\"2022-01-08T22:00:00\",\"2022-01-08T23:00:00\",\"2022-01-09T00:00:00\",\"2022-01-09T01:00:00\",\"2022-01-09T02:00:00\",\"2022-01-09T03:00:00\",\"2022-01-09T04:00:00\",\"2022-01-09T05:00:00\",\"2022-01-09T06:00:00\",\"2022-01-09T07:00:00\",\"2022-01-09T08:00:00\",\"2022-01-09T09:00:00\",\"2022-01-09T10:00:00\",\"2022-01-09T11:00:00\",\"2022-01-09T12:00:00\",\"2022-01-09T13:00:00\",\"2022-01-09T14:00:00\",\"2022-01-09T15:00:00\",\"2022-01-09T16:00:00\",\"2022-01-09T17:00:00\",\"2022-01-09T18:00:00\",\"2022-01-09T19:00:00\",\"2022-01-09T20:00:00\",\"2022-01-09T21:00:00\",\"2022-01-09T22:00:00\",\"2022-01-09T23:00:00\",\"2022-01-10T00:00:00\",\"2022-01-10T01:00:00\",\"2022-01-10T02:00:00\",\"2022-01-10T03:00:00\",\"2022-01-10T04:00:00\",\"2022-01-10T05:00:00\",\"2022-01-10T06:00:00\",\"2022-01-10T07:00:00\",\"2022-01-10T08:00:00\",\"2022-01-10T09:00:00\",\"2022-01-10T10:00:00\",\"2022-01-10T11:00:00\",\"2022-01-10T12:00:00\",\"2022-01-10T13:00:00\",\"2022-01-10T14:00:00\",\"2022-01-10T15:00:00\",\"2022-01-10T16:00:00\",\"2022-01-10T17:00:00\",\"2022-01-10T18:00:00\",\"2022-01-10T19:00:00\",\"2022-01-10T20:00:00\",\"2022-01-10T21:00:00\",\"2022-01-10T22:00:00\",\"2022-01-10T23:00:00\",\"2022-01-11T00:00:00\",\"2022-01-11T01:00:00\",\"2022-01-11T02:00:00\",\"2022-01-11T03:00:00\",\"2022-01-11T04:00:00\",\"2022-01-11T05:00:00\",\"2022-01-11T06:00:00\",\"2022-01-11T07:00:00\",\"2022-01-11T08:00:00\",\"2022-01-11T09:00:00\",\"2022-01-11T10:00:00\",\"2022-01-11T11:00:00\",\"2022-01-11T12:00:00\",\"2022-01-11T13:00:00\",\"2022-01-11T14:00:00\",\"2022-01-11T15:00:00\",\"2022-01-11T16:00:00\",\"2022-01-11T17:00:00\",\"2022-01-11T18:00:00\",\"2022-01-11T19:00:00\",\"2022-01-11T20:00:00\",\"2022-01-11T21:00:00\",\"2022-01-11T22:00:00\",\"2022-01-11T23:00:00\",\"2022-01-12T00:00:00\",\"2022-01-12T01:00:00\",\"2022-01-12T02:00:00\",\"2022-01-12T03:00:00\",\"2022-01-12T04:00:00\",\"2022-01-12T05:00:00\",\"2022-01-12T06:00:00\",\"2022-01-12T07:00:00\",\"2022-01-12T08:00:00\",\"2022-01-12T09:00:00\",\"2022-01-12T10:00:00\",\"2022-01-12T11:00:00\",\"2022-01-12T12:00:00\",\"2022-01-12T13:00:00\",\"2022-01-12T14:00:00\",\"2022-01-12T15:00:00\",\"2022-01-12T16:00:00\",\"2022-01-12T17:00:00\",\"2022-01-12T18:00:00\",\"2022-01-12T19:00:00\",\"2022-01-12T20:00:00\",\"2022-01-12T21:00:00\",\"2022-01-12T22:00:00\",\"2022-01-12T23:00:00\",\"2022-01-13T00:00:00\",\"2022-01-13T01:00:00\",\"2022-01-13T02:00:00\",\"2022-01-13T03:00:00\",\"2022-01-13T04:00:00\",\"2022-01-13T05:00:00\",\"2022-01-13T06:00:00\",\"2022-01-13T07:00:00\",\"2022-01-13T08:00:00\",\"2022-01-13T09:00:00\",\"2022-01-13T10:00:00\",\"2022-01-13T11:00:00\",\"2022-01-13T12:00:00\",\"2022-01-13T13:00:00\",\"2022-01-13T14:00:00\",\"2022-01-13T15:00:00\",\"2022-01-13T16:00:00\",\"2022-01-13T17:00:00\",\"2022-01-13T18:00:00\",\"2022-01-13T19:00:00\",\"2022-01-13T20:00:00\",\"2022-01-13T21:00:00\",\"2022-01-13T22:00:00\",\"2022-01-13T23:00:00\",\"2022-01-14T00:00:00\",\"2022-01-14T01:00:00\",\"2022-01-14T02:00:00\",\"2022-01-14T03:00:00\",\"2022-01-14T04:00:00\",\"2022-01-14T05:00:00\",\"2022-01-14T06:00:00\",\"2022-01-14T07:00:00\",\"2022-01-14T08:00:00\",\"2022-01-14T09:00:00\",\"2022-01-14T10:00:00\",\"2022-01-14T11:00:00\",\"2022-01-14T12:00:00\",\"2022-01-14T13:00:00\",\"2022-01-14T14:00:00\",\"2022-01-14T15:00:00\",\"2022-01-14T16:00:00\",\"2022-01-14T17:00:00\",\"2022-01-14T18:00:00\",\"2022-01-14T19:00:00\",\"2022-01-14T20:00:00\",\"2022-01-14T21:00:00\",\"2022-01-14T22:00:00\",\"2022-01-14T23:00:00\",\"2022-01-15T00:00:00\",\"2022-01-15T01:00:00\",\"2022-01-15T02:00:00\",\"2022-01-15T03:00:00\",\"2022-01-15T04:00:00\",\"2022-01-15T05:00:00\",\"2022-01-15T06:00:00\",\"2022-01-15T07:00:00\",\"2022-01-15T08:00:00\",\"2022-01-15T09:00:00\",\"2022-01-15T10:00:00\",\"2022-01-15T11:00:00\",\"2022-01-15T12:00:00\",\"2022-01-15T13:00:00\",\"2022-01-15T14:00:00\",\"2022-01-15T15:00:00\",\"2022-01-15T16:00:00\",\"2022-01-15T17:00:00\",\"2022-01-15T18:00:00\",\"2022-01-15T19:00:00\",\"2022-01-15T20:00:00\",\"2022-01-15T21:00:00\",\"2022-01-15T22:00:00\",\"2022-01-15T23:00:00\",\"2022-01-16T00:00:00\",\"2022-01-16T01:00:00\",\"2022-01-16T02:00:00\",\"2022-01-16T03:00:00\",\"2022-01-16T04:00:00\",\"2022-01-16T05:00:00\",\"2022-01-16T06:00:00\",\"2022-01-16T07:00:00\",\"2022-01-16T08:00:00\",\"2022-01-16T09:00:00\",\"2022-01-16T10:00:00\",\"2022-01-16T11:00:00\",\"2022-01-16T12:00:00\",\"2022-01-16T13:00:00\",\"2022-01-16T14:00:00\",\"2022-01-16T15:00:00\",\"2022-01-16T16:00:00\",\"2022-01-16T17:00:00\",\"2022-01-16T18:00:00\",\"2022-01-16T19:00:00\",\"2022-01-16T20:00:00\",\"2022-01-16T21:00:00\",\"2022-01-16T22:00:00\",\"2022-01-16T23:00:00\",\"2022-01-17T00:00:00\",\"2022-01-17T01:00:00\",\"2022-01-17T02:00:00\",\"2022-01-17T03:00:00\",\"2022-01-17T04:00:00\",\"2022-01-17T05:00:00\",\"2022-01-17T06:00:00\",\"2022-01-17T07:00:00\",\"2022-01-17T08:00:00\",\"2022-01-17T09:00:00\",\"2022-01-17T10:00:00\",\"2022-01-17T11:00:00\",\"2022-01-17T12:00:00\",\"2022-01-17T13:00:00\",\"2022-01-17T14:00:00\",\"2022-01-17T15:00:00\",\"2022-01-17T16:00:00\",\"2022-01-17T17:00:00\",\"2022-01-17T18:00:00\",\"2022-01-17T19:00:00\",\"2022-01-17T20:00:00\",\"2022-01-17T21:00:00\",\"2022-01-17T22:00:00\",\"2022-01-17T23:00:00\",\"2022-01-18T00:00:00\",\"2022-01-18T01:00:00\",\"2022-01-18T02:00:00\",\"2022-01-18T03:00:00\",\"2022-01-18T04:00:00\",\"2022-01-18T05:00:00\",\"2022-01-18T06:00:00\",\"2022-01-18T07:00:00\",\"2022-01-18T08:00:00\",\"2022-01-18T09:00:00\",\"2022-01-18T10:00:00\",\"2022-01-18T11:00:00\",\"2022-01-18T12:00:00\",\"2022-01-18T13:00:00\",\"2022-01-18T14:00:00\",\"2022-01-18T15:00:00\",\"2022-01-18T16:00:00\",\"2022-01-18T17:00:00\",\"2022-01-18T18:00:00\",\"2022-01-18T19:00:00\",\"2022-01-18T20:00:00\",\"2022-01-18T21:00:00\",\"2022-01-18T22:00:00\",\"2022-01-18T23:00:00\",\"2022-01-19T00:00:00\",\"2022-01-19T01:00:00\",\"2022-01-19T02:00:00\",\"2022-01-19T03:00:00\",\"2022-01-19T04:00:00\",\"2022-01-19T05:00:00\",\"2022-01-19T06:00:00\",\"2022-01-19T07:00:00\",\"2022-01-19T08:00:00\",\"2022-01-19T09:00:00\",\"2022-01-19T10:00:00\",\"2022-01-19T11:00:00\",\"2022-01-19T12:00:00\",\"2022-01-19T13:00:00\",\"2022-01-19T14:00:00\",\"2022-01-19T15:00:00\",\"2022-01-19T16:00:00\",\"2022-01-19T17:00:00\",\"2022-01-19T18:00:00\",\"2022-01-19T19:00:00\",\"2022-01-19T20:00:00\",\"2022-01-19T21:00:00\",\"2022-01-19T22:00:00\",\"2022-01-19T23:00:00\",\"2022-01-20T00:00:00\",\"2022-01-20T01:00:00\",\"2022-01-20T02:00:00\",\"2022-01-20T03:00:00\",\"2022-01-20T04:00:00\",\"2022-01-20T05:00:00\",\"2022-01-20T06:00:00\",\"2022-01-20T07:00:00\",\"2022-01-20T08:00:00\",\"2022-01-20T09:00:00\",\"2022-01-20T10:00:00\",\"2022-01-20T11:00:00\",\"2022-01-20T12:00:00\",\"2022-01-20T13:00:00\",\"2022-01-20T14:00:00\",\"2022-01-20T15:00:00\",\"2022-01-20T16:00:00\",\"2022-01-20T17:00:00\",\"2022-01-20T18:00:00\",\"2022-01-20T19:00:00\",\"2022-01-20T20:00:00\",\"2022-01-20T21:00:00\",\"2022-01-20T22:00:00\",\"2022-01-20T23:00:00\",\"2022-01-21T00:00:00\",\"2022-01-21T01:00:00\",\"2022-01-21T02:00:00\",\"2022-01-21T03:00:00\",\"2022-01-21T04:00:00\",\"2022-01-21T05:00:00\",\"2022-01-21T06:00:00\",\"2022-01-21T07:00:00\",\"2022-01-21T08:00:00\",\"2022-01-21T09:00:00\",\"2022-01-21T10:00:00\",\"2022-01-21T11:00:00\",\"2022-01-21T12:00:00\",\"2022-01-21T13:00:00\",\"2022-01-21T14:00:00\",\"2022-01-21T15:00:00\",\"2022-01-21T16:00:00\",\"2022-01-21T17:00:00\",\"2022-01-21T18:00:00\",\"2022-01-21T19:00:00\",\"2022-01-21T20:00:00\",\"2022-01-21T21:00:00\",\"2022-01-21T22:00:00\",\"2022-01-21T23:00:00\",\"2022-01-22T00:00:00\",\"2022-01-22T01:00:00\",\"2022-01-22T02:00:00\",\"2022-01-22T03:00:00\",\"2022-01-22T04:00:00\",\"2022-01-22T05:00:00\",\"2022-01-22T06:00:00\",\"2022-01-22T07:00:00\",\"2022-01-22T08:00:00\",\"2022-01-22T09:00:00\",\"2022-01-22T10:00:00\",\"2022-01-22T11:00:00\",\"2022-01-22T12:00:00\",\"2022-01-22T13:00:00\",\"2022-01-22T14:00:00\",\"2022-01-22T15:00:00\",\"2022-01-22T16:00:00\",\"2022-01-22T17:00:00\",\"2022-01-22T18:00:00\",\"2022-01-22T19:00:00\",\"2022-01-22T20:00:00\",\"2022-01-22T21:00:00\",\"2022-01-22T22:00:00\",\"2022-01-22T23:00:00\",\"2022-01-23T00:00:00\",\"2022-01-23T01:00:00\",\"2022-01-23T02:00:00\",\"2022-01-23T03:00:00\",\"2022-01-23T04:00:00\",\"2022-01-23T05:00:00\",\"2022-01-23T06:00:00\",\"2022-01-23T07:00:00\",\"2022-01-23T08:00:00\",\"2022-01-23T09:00:00\",\"2022-01-23T10:00:00\",\"2022-01-23T11:00:00\",\"2022-01-23T12:00:00\",\"2022-01-23T13:00:00\",\"2022-01-23T14:00:00\",\"2022-01-23T15:00:00\",\"2022-01-23T16:00:00\",\"2022-01-23T17:00:00\",\"2022-01-23T18:00:00\",\"2022-01-23T19:00:00\",\"2022-01-23T20:00:00\",\"2022-01-23T21:00:00\",\"2022-01-23T22:00:00\",\"2022-01-23T23:00:00\",\"2022-01-24T00:00:00\",\"2022-01-24T01:00:00\",\"2022-01-24T02:00:00\",\"2022-01-24T03:00:00\",\"2022-01-24T04:00:00\",\"2022-01-24T05:00:00\",\"2022-01-24T06:00:00\",\"2022-01-24T07:00:00\",\"2022-01-24T08:00:00\",\"2022-01-24T09:00:00\",\"2022-01-24T10:00:00\",\"2022-01-24T11:00:00\",\"2022-01-24T12:00:00\",\"2022-01-24T13:00:00\",\"2022-01-24T14:00:00\",\"2022-01-24T15:00:00\",\"2022-01-24T16:00:00\",\"2022-01-24T17:00:00\",\"2022-01-24T18:00:00\",\"2022-01-24T19:00:00\",\"2022-01-24T20:00:00\",\"2022-01-24T21:00:00\",\"2022-01-24T22:00:00\",\"2022-01-24T23:00:00\",\"2022-01-25T00:00:00\",\"2022-01-25T01:00:00\",\"2022-01-25T02:00:00\",\"2022-01-25T03:00:00\",\"2022-01-25T04:00:00\",\"2022-01-25T05:00:00\",\"2022-01-25T06:00:00\",\"2022-01-25T07:00:00\",\"2022-01-25T08:00:00\",\"2022-01-25T09:00:00\",\"2022-01-25T10:00:00\",\"2022-01-25T11:00:00\",\"2022-01-25T12:00:00\",\"2022-01-25T13:00:00\",\"2022-01-25T14:00:00\",\"2022-01-25T15:00:00\",\"2022-01-25T16:00:00\",\"2022-01-25T17:00:00\",\"2022-01-25T18:00:00\",\"2022-01-25T19:00:00\",\"2022-01-25T20:00:00\",\"2022-01-25T21:00:00\",\"2022-01-25T22:00:00\",\"2022-01-25T23:00:00\",\"2022-01-26T00:00:00\",\"2022-01-26T01:00:00\",\"2022-01-26T02:00:00\",\"2022-01-26T03:00:00\",\"2022-01-26T04:00:00\",\"2022-01-26T05:00:00\",\"2022-01-26T06:00:00\",\"2022-01-26T07:00:00\",\"2022-01-26T08:00:00\",\"2022-01-26T09:00:00\",\"2022-01-26T10:00:00\",\"2022-01-26T11:00:00\",\"2022-01-26T12:00:00\",\"2022-01-26T13:00:00\",\"2022-01-26T14:00:00\",\"2022-01-26T15:00:00\",\"2022-01-26T16:00:00\",\"2022-01-26T17:00:00\",\"2022-01-26T18:00:00\",\"2022-01-26T19:00:00\",\"2022-01-26T20:00:00\",\"2022-01-26T21:00:00\",\"2022-01-26T22:00:00\",\"2022-01-26T23:00:00\",\"2022-01-27T00:00:00\",\"2022-01-27T01:00:00\",\"2022-01-27T02:00:00\",\"2022-01-27T03:00:00\",\"2022-01-27T04:00:00\",\"2022-01-27T05:00:00\",\"2022-01-27T06:00:00\",\"2022-01-27T07:00:00\",\"2022-01-27T08:00:00\",\"2022-01-27T09:00:00\",\"2022-01-27T10:00:00\",\"2022-01-27T11:00:00\",\"2022-01-27T12:00:00\",\"2022-01-27T13:00:00\",\"2022-01-27T14:00:00\",\"2022-01-27T15:00:00\",\"2022-01-27T16:00:00\",\"2022-01-27T17:00:00\",\"2022-01-27T18:00:00\",\"2022-01-27T19:00:00\",\"2022-01-27T20:00:00\",\"2022-01-27T21:00:00\",\"2022-01-27T22:00:00\",\"2022-01-27T23:00:00\",\"2022-01-28T00:00:00\",\"2022-01-28T01:00:00\",\"2022-01-28T02:00:00\",\"2022-01-28T03:00:00\",\"2022-01-28T04:00:00\",\"2022-01-28T05:00:00\",\"2022-01-28T06:00:00\",\"2022-01-28T07:00:00\",\"2022-01-28T08:00:00\",\"2022-01-28T09:00:00\",\"2022-01-28T10:00:00\",\"2022-01-28T11:00:00\",\"2022-01-28T12:00:00\",\"2022-01-28T13:00:00\",\"2022-01-28T14:00:00\",\"2022-01-28T15:00:00\",\"2022-01-28T16:00:00\",\"2022-01-28T17:00:00\",\"2022-01-28T18:00:00\",\"2022-01-28T19:00:00\",\"2022-01-28T20:00:00\",\"2022-01-28T21:00:00\",\"2022-01-28T22:00:00\",\"2022-01-28T23:00:00\",\"2022-01-29T00:00:00\",\"2022-01-29T01:00:00\",\"2022-01-29T02:00:00\",\"2022-01-29T03:00:00\",\"2022-01-29T04:00:00\",\"2022-01-29T05:00:00\",\"2022-01-29T06:00:00\",\"2022-01-29T07:00:00\",\"2022-01-29T08:00:00\",\"2022-01-29T09:00:00\",\"2022-01-29T10:00:00\",\"2022-01-29T11:00:00\",\"2022-01-29T12:00:00\",\"2022-01-29T13:00:00\",\"2022-01-29T14:00:00\",\"2022-01-29T15:00:00\",\"2022-01-29T16:00:00\",\"2022-01-29T17:00:00\",\"2022-01-29T18:00:00\",\"2022-01-29T19:00:00\",\"2022-01-29T20:00:00\",\"2022-01-29T21:00:00\",\"2022-01-29T22:00:00\",\"2022-01-29T23:00:00\",\"2022-01-30T00:00:00\",\"2022-01-30T01:00:00\",\"2022-01-30T02:00:00\",\"2022-01-30T03:00:00\",\"2022-01-30T04:00:00\",\"2022-01-30T05:00:00\",\"2022-01-30T06:00:00\",\"2022-01-30T07:00:00\",\"2022-01-30T08:00:00\",\"2022-01-30T09:00:00\",\"2022-01-30T10:00:00\",\"2022-01-30T11:00:00\",\"2022-01-30T12:00:00\",\"2022-01-30T13:00:00\",\"2022-01-30T14:00:00\",\"2022-01-30T15:00:00\",\"2022-01-30T16:00:00\",\"2022-01-30T17:00:00\",\"2022-01-30T18:00:00\",\"2022-01-30T19:00:00\",\"2022-01-30T20:00:00\",\"2022-01-30T21:00:00\",\"2022-01-30T22:00:00\",\"2022-01-30T23:00:00\",\"2022-01-31T00:00:00\",\"2022-01-31T01:00:00\",\"2022-01-31T02:00:00\",\"2022-01-31T03:00:00\",\"2022-01-31T04:00:00\",\"2022-01-31T05:00:00\",\"2022-01-31T06:00:00\",\"2022-01-31T07:00:00\",\"2022-01-31T08:00:00\",\"2022-01-31T09:00:00\",\"2022-01-31T10:00:00\",\"2022-01-31T11:00:00\",\"2022-01-31T12:00:00\",\"2022-01-31T13:00:00\",\"2022-01-31T14:00:00\",\"2022-01-31T15:00:00\",\"2022-01-31T16:00:00\",\"2022-01-31T17:00:00\",\"2022-01-31T18:00:00\",\"2022-01-31T19:00:00\",\"2022-01-31T20:00:00\",\"2022-01-31T21:00:00\",\"2022-01-31T22:00:00\",\"2022-01-31T23:00:00\"],\"y\":[0.8061469406392693,0.5237544585987262,0.4047211214953271,0.3076527450980392,0.6820418367346939,0.651255748373102,0.3743484931506849,0.7588235697940502,0.3313737226277372,0.7600403547671841,0.7867646666666667,0.7136005853658539,0.4025332149200711,0.5587475000000001,0.8204545981173065,0.7232236571428572,0.7006433198380567,0.5724782222222221,0.7574106567534077,0.6006123720930233,0.7153207430340556,0.5128148060174188,0.6533708999999999,0.5720801369863012,0.5521130876747141,0.3761621236133122,0.7126448051948052,0.4461454545454545,0.4769315179606024,0.8781706572769951,0.621034226190476,0.7212542904290428,0.8529859863945577,0.5968555279503106,0.6652453428863868,0.6893616891064872,0.6540388764044944,0.7302738654147105,0.4883572463768116,0.6858779400461185,0.7063013562386979,0.5252152140672783,0.4204461933276305,0.5440868204283361,0.6797899143672695,0.5989499111900533,0.9107848699763592,0.4751788717948717,0.5857008695652173,0.8091366071428572,0.6251477234401349,0.3562938730853391,0.8576018148820328,0.1519321888412017,0.7155156492785795,0.683080787037037,0.3945611428571428,0.5475969090909092,0.6986713250517597,0.7131985221674878,0.2840825214899713,0.6595844574780059,0.5240558038932949,0.649301403956605,0.6847421186440678,0.8299474238875876,0.8186250370370369,0.6909556896551724,0.5546957000000001,0.6404534482758623,0.7184968867924528,0.7144861937452325,0.6236441441441442,0.830232362459547,0.5318735981308411,0.777944906743185,0.5452375757575758,0.8133634641407308,-0.2820771812080537,0.1315429149797571,0.7454433734939759,0.6583506416584403,0.71011113243762,0.5929939618644068,0.4054510121457489,0.6726446499339499,0.6026782214156081,0.7405610212765956,0.862564773820982,0.7898722004698514,0.7472877192982457,0.5709239944521496,0.7373332258064516,0.6559897496087636,0.7185279951100244,0.8386733009708737,0.7785970845481051,0.6316037249283668,0.6395056795131847,0.3534547892720307,0.7714325708061001,0.6397681341719077,0.3385109589041096,0.7329820717131474,0.3591253581661892,0.4508161520190023,0.6110632992327365,0.4624736559139785,0.5695676148796498,0.3965960985626283,0.2341131103074141,0.5970731809981961,0.4455396246089677,0.5492225187656382,0.7524529542097489,0.5535536549707603,0.6805581362007168,0.5546954032957502,0.3859825474254741,0.2970527651858567,0.2371672429481346,0.6273401826484019,0.3636151741293532,0.3222236329935125,0.492929689608637,0.4445619281045752,0.3994286931818183,0.6478099337748343,0.59174,0.4027003720930233,0.6705170141223941,0.4143442829457363,0.6607765171503959,0.5481606657608696,0.4481675699300699,0.3161221568627451,0.4323147157190636,0.4497706992230854,0.6357121019108279,0.3075966168371362,0.5933726315789474,0.4359930434782609,0.44657265917603,0.4064705405405405,0.5427994535519126,0.5038632619439868,0.4271242424242424,0.6660375423728814,0.4365516908212561,0.0710908969210174,0.9036121428571428,0.3191348258706467,0.4536763235294118,0.1380035447761193,0.5901471040189126,0.6281754824063565,0.5500632724719101,0.4390307167235494,0.3399256564141034,0.5320662447257385,0.8540962588473208,0.2668243150684931,0.572636305278174,0.5716318979266346,0.639294642857143,0.4867271323529411,0.4292955105633803,0.5199651914893617,0.6243088016967128,0.8710226443768995,0.1472688202247191,0.7753329015544042,0.6971018495684341,0.6866319620253166,-0.1004296875,0.2266690437601296,0.3522030797101449,0.0625319129646419,0.5364098765432098,0.1288978102189781,0.7060610705596108,0.5865991111111111,0.2785840607210625,0.547394560669456,0.5269188596491228,0.5437204109589041,0.5556432262129806,0.3311265486725664,0.4189787061994608,0.0694588068181818,0.3970102150537634,0.7347290419161678,0.9210762836185816,0.4901281012658228,0.6083972758229286,0.6895593466424682,0.1416662121212121,0.5161041401273886,0.4861400473933647,0.6064613976705492,0.8743026479750781,0.5476564760793466,0.4453670753064798,0.3176576623376623,0.4016387027027027,0.4874865963855422,0.5618367559523808,0.515608311229001,0.6095841193455246,0.5980809973045822,0.4284688122096881,0.527478530612245,0.4611228813559321,0.5222776071139854,0.6984573576799139,0.7168266311584554,0.5045185886402754,0.8026431592039802,0.5448655896607432,0.7785250632911392,0.5968147509578545,0.686516464891041,0.2853654708520179,0.4060758196721312,0.968922142857143,0.627365476190476,0.6092526956521739,0.679053861003861,0.6649254509018035,0.3405351315789474,0.6099892739273929,0.4657882296650718,0.6511764758497315,0.4811762975778547,0.3319176470588235,0.6346072164948454,0.6607574051407588,0.5636602027883397,0.724700185013876,0.6395633858267716,0.599682131147541,0.5393351351351352,0.1824404069767442,0.7856091575091575,0.4183490259740259,0.917585854616896,0.822524505327245,0.724166323024055,0.8535454682779456,0.680056496350365,0.0868572834645669,0.6411656862745098,0.7621575931232093,0.8848628378378381,0.7239301415487094,0.6314400627615063,0.518652824858757,0.3981038546255505,0.5993050338091661,0.7461289777094542,0.6353339497041419,0.3298154411764706,0.5193059514487077,0.4161218225419664,0.8794473029045644,0.7478447227191413,0.6790207988980719,0.7248365426695841,0.5722264984227129,0.4813719999999999,0.5318326086956521,0.6137090410958903,0.5230770370370371,0.6113927536231885,0.34486559714795,0.1932696855345912,0.8252071017274473,0.4826883984867592,0.538614096499527,0.4516339455782313,0.8118681415929204,0.851155278093076,0.7667793478260869,0.8687628475147429,0.6767148897058822,0.7363882217090071,0.5835042025862069,0.5476912466843502,0.441545325203252,0.4949423976608186,0.6407920930232558,0.5391894859813086,0.6396241773962804,0.8796851612903224,0.5119105939004815,0.3170349056603774,0.5079394265232975,0.8513329268292684,0.4925224083769636,0.9761590673575128,0.9203333333333332,0.4736789825970547,0.6124413008130082,0.7930631172839505,0.7039380398671097,0.6220527173913045,0.6688982142857144,0.7479997644287399,0.7954673913043478,0.6644843548387098,0.5699386548913044,0.7946196594427245,0.3763920570264765,0.5698300751879699,0.5403672619047619,0.3596521008403362,0.8148643990929706,0.1419404255319148,0.5045893617021276,0.281181238938053,0.6611862660944205,0.7797073002754822,0.8668093360995851,0.6702918067226892,0.7220741818181818,0.6186831970935514,0.8965172268907564,0.615144089673913,0.7361860282574569,0.8334119294605808,0.8019738654147105,0.8362102059925095,0.7548036398467434,0.5277574412532638,0.53275,0.7740436842105264,0.6675266749379655,0.8274256916996048,0.5313170953101362,0.3868766917293233,0.9673724137931032,0.5185675627240144,0.6684396825396827,0.7993415492957747,0.3566200863930886,0.3146608442503639,0.414847628458498,0.4621911111111111,0.4294906249999999,0.5311660271782572,0.3744860612460401,0.2111405541561712,0.6293947984395319,0.6344145065398334,0.6515529654036244,0.1877228791773778,0.6818990853658535,0.4862525682182985,0.6580933862433861,0.6875982989064399,0.7363937875751504,0.519574689826303,0.8367939759036144,0.0658992094861659,0.6531261224489796,0.7800282511210762,0.8057822006472491,-0.3182,0.0145932773109243,0.7986163179916318,0.4296992619926199,0.7047214285714285,0.7117327607361965,0.558131490015361,0.5923175226586104,0.7785089599999999,0.4667071917808221,0.4892400406504065,0.4161815730337079,0.5940340848806366,0.4232148681055155,0.7539171038824763,0.3160650872817955,0.8555667436489607,0.5751198380566801,0.6889824675324675,0.5186501953125001,0.438946529562982,0.6369447619047621,0.9834,0.8422885462555066,0.5087536585365853,0.5521892857142856,0.8173733656174336,0.6375016348773843,0.6159562814070353,0.890324017467249,0.2191544554455445,0.4373156043956043,0.8306850574712643,0.4988979525862068,0.4315323008849557,0.569582508250825,0.5849080124869926,0.6633465868263473,0.5658523306401492,0.3968540577716644,0.5795522174535049,0.6398984251968504,0.3593506112469437,0.8694532625189682,0.8640122383252821,0.8801178343949043,0.8575797962648556,0.0684051546391753,0.6500930294906166,-0.1161178423236514,0.5425227272727272,0.0612661341853034,0.7905262096774194,0.4366488469601677,0.5781483050847457,0.3923765006385696,0.4700848614072495,0.6132387543252596,0.5031399484536083,0.2980912100456621,0.4598006979062811,0.657749392971246,0.3402142439024391,0.4647478753541076,-0.0021165605095541,0.6652244897959184,0.7642804241435563,0.7877780104712041,0.6039665796344648,0.8616510869565216,0.7853138504155125,0.760867332123412,0.6058892436974789,0.6521995073891625,0.3636802721088435,0.5867351002865331,0.4710102362204724,0.1670793577981651,0.2061372549019608,0.5243610878661088,0.7267125899280575,0.456715082644628,0.2203757174392936,0.1937157142857143,0.4446648675171737,0.6037128450106157,0.7422794891640868,0.8090711999999999,0.0516876811594202,0.5084371223021583,0.0654556962025316,0.6340851261620186,0.4747777279521674,0.6857767441860465,0.2576801546391752,0.3112659400544959,0.5777573770491804,0.7860109185441939,0.8642963172804533,0.8256471094710945,0.7483164623467601,0.1347270207852194,0.3873630996309963,0.646493950177936,0.5795610687022901,0.6535138263665594,0.596119136522754,0.6437095667870038,0.608564758698092,0.6689026402640265,0.5504409270216962,0.2958191441441442,0.6635960118168389,0.4085089743589743,0.1969552763819095,0.4887999999999999,0.1981219361483006,0.7281928358208957,0.6495967362924282,-0.155225755033557,0.5923280991735537,0.7112210626185959,0.0660601118359739,0.61659760087241,0.7406275190516509,0.5242249008723234,0.8296268308080809,0.5172519507186858,0.5876316440049444,0.6840568220101068,0.6188533060269166,0.5046013623978202,0.555623819301848,0.2166216088328076,0.38683012987013,0.8226377177700349,0.3972819772942289,0.4451316614420062,0.5938452997275203,0.3245170157068062,0.4390291866028707,0.6209670329670328,0.3592043378995433,0.0940961868446138,0.4312281564245809,0.2181612510860121,0.4379704815864023,0.3822361466821885,0.2674621960206337,0.6220275797373358,0.3522211302211303,0.4572770507349456,0.4763955692652831,0.4969899466869763,0.2601487004686834,0.2909871268656716,0.4749712470588235,0.474204776119403,0.5537073198847261,0.2173593080724876,0.2657575965130759,0.4024960358056266,0.202267113276492,0.3631190168175939,0.1172213289581624,0.1369990849673203,0.2081886214442012,0.5739813765182186,0.6981329493087557,0.9243569620253164,0.3736371115173675,0.2678150943396225,0.4812195804195803,0.4793206235011991,0.2821337285902503,0.6368414192614049,0.4399735193621868,0.5687268336314848,0.6001796636085627,0.5027765830346475,0.5253856321839079,0.3125932,0.2734112204724409,0.4550613608748481,0.6259507982583455,0.4079159062885326,0.1066046,0.3116419421487603,0.6144091199999999,0.8764060324825985,0.5891337301587302,0.66334,0.3763948553054662,0.1362231067961165,0.712878762541806,0.5718038922155688,0.3046731038878267,0.1713938541068351,0.5218640356897735,0.3780569186875891,0.3376803889789302,0.3674949136276391,0.4603206991720331,0.5469632010081916,0.4660790354989953,0.5200431340872375,0.5305284030642311,0.6099513819095476,0.5437811671087535,0.6000013245033113,0.2318853462157809,0.3045387788778878,0.4561580152671756,0.5475807280513919,-0.2410518018018018,-0.2822853448275862,0.5652151273885351,0.6739338204592902,0.3031021156558533,0.5786918807810896,0.4952285496183206,0.6696267361111111,0.4687740558292282,0.4187919168591224,0.2705298210735586,0.7718307874015747,0.5121972868217054,0.468273311546841,0.4658610119047619,0.3640523489932886,0.5118246696035242,0.404947973713034,0.5132057840616967,0.7299987738419619,0.0865232091690544,0.3675117857142858,0.5625242424242425,0.8032311216429701,0.6223940902021772,0.6117762711864405,0.5741567832167831,0.9578731884057972,0.6618814876033057,0.6466377850162867,0.5254922600619195,0.1873985673352436,0.6666824462061156,0.8323076009501188,0.466482508250825,0.2870274596182085,0.7604434065934067,0.7119209926769732,0.566538441780822,0.5410248708010336,0.2863333907056798,0.4313166666666666,0.5297524291497977,0.3961872773536896,0.7298624615384615,0.7572022556390977,0.2766236947791163,0.3162548435171385,0.8792936507936508,0.4824436363636363,0.2513648496240602,0.5302546848381601,0.4563015974440895,0.7847453027139875,0.2905728340675478,0.5440280718336483,0.3605468005018821,0.7788192881745121,0.5290050554870531,0.1739183274021352,0.6329831833520811,0.507158523908524,0.5206262953367877,0.8119850490196078,0.2443113636363636,0.6311790060851926,0.3241963093145869,0.5795931769722815,0.384748717948718,0.4873849090909092,0.7884428571428571,0.5417700831024931,0.4715017605633804,0.8719960893854749,0.8058671480144404,0.77683991507431,0.3721981762917933,0.5760100817438693,0.3396241214057508,0.5677015424164524,0.6838813366960907,0.5025610852713179,0.6518039694656488,0.3884217213114754,0.8075706955530214,0.7029269421487603,0.6267574449339207,0.9330268292682926,0.2991620143884893,0.8781074349442377,0.2829582178217821,0.7825800731261425,0.7454819306930692,0.7460729941291585,0.791616182572614,-0.0257599999999999,0.664490063424947,0.9228,0.4508364444444445,0.8156869806094182,0.6345869688385268,0.4152346416382252,0.3910791095890411,0.4911044776119403,0.5902842998585572,0.7889286031042128,0.6436030660377356,0.5375332110091744,0.59024,0.6271763948497853,0.4412026865671641,0.4695293641618497,0.773478121878122,0.5131097402597402,0.9365916550764952,0.7357781725888324,0.520146013667426,0.5878457055214724,0.6025805555555556,0.8869069832402235,0.3739966463414634,0.514544476744186,0.0776569587628866,0.4655425000000001,0.613630376344086,0.8465064593301436,0.8568448421052632,0.7967726495726497,0.9003862745098039,0.3750716730038021,0.5687138011695905,0.7623747720364742,0.4963088235294117,0.9389383928571428,0.4684573248407643,0.6052617256637168,0.5331951013513513,0.425144530046225,0.2556096428571429,0.7604376196990424,0.4781855813953489,0.0262936170212765,0.6889917293233083,0.6418754022988505,0.9411587301587304,0.0514792397660818,0.5717554687499999,0.8997402739726026,0.6082247467438495,0.3893906578947368,0.8912142857142857,0.654218655097614,0.6781407120743034,0.6441858373205742,0.5523634117647062,0.7508883945841394,0.7217003610108303,-0.0097211050724637,0.7922602582496414,0.8534154867256638,0.7336935356200528,0.5710524390243903,0.7018310043668121],\"type\":\"scatter\",\"xaxis\":\"x\",\"yaxis\":\"y2\"}],                        {\"template\":{\"data\":{\"histogram2dcontour\":[{\"type\":\"histogram2dcontour\",\"colorbar\":{\"outlinewidth\":0,\"ticks\":\"\"},\"colorscale\":[[0.0,\"#0d0887\"],[0.1111111111111111,\"#46039f\"],[0.2222222222222222,\"#7201a8\"],[0.3333333333333333,\"#9c179e\"],[0.4444444444444444,\"#bd3786\"],[0.5555555555555556,\"#d8576b\"],[0.6666666666666666,\"#ed7953\"],[0.7777777777777778,\"#fb9f3a\"],[0.8888888888888888,\"#fdca26\"],[1.0,\"#f0f921\"]]}],\"choropleth\":[{\"type\":\"choropleth\",\"colorbar\":{\"outlinewidth\":0,\"ticks\":\"\"}}],\"histogram2d\":[{\"type\":\"histogram2d\",\"colorbar\":{\"outlinewidth\":0,\"ticks\":\"\"},\"colorscale\":[[0.0,\"#0d0887\"],[0.1111111111111111,\"#46039f\"],[0.2222222222222222,\"#7201a8\"],[0.3333333333333333,\"#9c179e\"],[0.4444444444444444,\"#bd3786\"],[0.5555555555555556,\"#d8576b\"],[0.6666666666666666,\"#ed7953\"],[0.7777777777777778,\"#fb9f3a\"],[0.8888888888888888,\"#fdca26\"],[1.0,\"#f0f921\"]]}],\"heatmap\":[{\"type\":\"heatmap\",\"colorbar\":{\"outlinewidth\":0,\"ticks\":\"\"},\"colorscale\":[[0.0,\"#0d0887\"],[0.1111111111111111,\"#46039f\"],[0.2222222222222222,\"#7201a8\"],[0.3333333333333333,\"#9c179e\"],[0.4444444444444444,\"#bd3786\"],[0.5555555555555556,\"#d8576b\"],[0.6666666666666666,\"#ed7953\"],[0.7777777777777778,\"#fb9f3a\"],[0.8888888888888888,\"#fdca26\"],[1.0,\"#f0f921\"]]}],\"heatmapgl\":[{\"type\":\"heatmapgl\",\"colorbar\":{\"outlinewidth\":0,\"ticks\":\"\"},\"colorscale\":[[0.0,\"#0d0887\"],[0.1111111111111111,\"#46039f\"],[0.2222222222222222,\"#7201a8\"],[0.3333333333333333,\"#9c179e\"],[0.4444444444444444,\"#bd3786\"],[0.5555555555555556,\"#d8576b\"],[0.6666666666666666,\"#ed7953\"],[0.7777777777777778,\"#fb9f3a\"],[0.8888888888888888,\"#fdca26\"],[1.0,\"#f0f921\"]]}],\"contourcarpet\":[{\"type\":\"contourcarpet\",\"colorbar\":{\"outlinewidth\":0,\"ticks\":\"\"}}],\"contour\":[{\"type\":\"contour\",\"colorbar\":{\"outlinewidth\":0,\"ticks\":\"\"},\"colorscale\":[[0.0,\"#0d0887\"],[0.1111111111111111,\"#46039f\"],[0.2222222222222222,\"#7201a8\"],[0.3333333333333333,\"#9c179e\"],[0.4444444444444444,\"#bd3786\"],[0.5555555555555556,\"#d8576b\"],[0.6666666666666666,\"#ed7953\"],[0.7777777777777778,\"#fb9f3a\"],[0.8888888888888888,\"#fdca26\"],[1.0,\"#f0f921\"]]}],\"surface\":[{\"type\":\"surface\",\"colorbar\":{\"outlinewidth\":0,\"ticks\":\"\"},\"colorscale\":[[0.0,\"#0d0887\"],[0.1111111111111111,\"#46039f\"],[0.2222222222222222,\"#7201a8\"],[0.3333333333333333,\"#9c179e\"],[0.4444444444444444,\"#bd3786\"],[0.5555555555555556,\"#d8576b\"],[0.6666666666666666,\"#ed7953\"],[0.7777777777777778,\"#fb9f3a\"],[0.8888888888888888,\"#fdca26\"],[1.0,\"#f0f921\"]]}],\"mesh3d\":[{\"type\":\"mesh3d\",\"colorbar\":{\"outlinewidth\":0,\"ticks\":\"\"}}],\"scatter\":[{\"fillpattern\":{\"fillmode\":\"overlay\",\"size\":10,\"solidity\":0.2},\"type\":\"scatter\"}],\"parcoords\":[{\"type\":\"parcoords\",\"line\":{\"colorbar\":{\"outlinewidth\":0,\"ticks\":\"\"}}}],\"scatterpolargl\":[{\"type\":\"scatterpolargl\",\"marker\":{\"colorbar\":{\"outlinewidth\":0,\"ticks\":\"\"}}}],\"bar\":[{\"error_x\":{\"color\":\"#2a3f5f\"},\"error_y\":{\"color\":\"#2a3f5f\"},\"marker\":{\"line\":{\"color\":\"#E5ECF6\",\"width\":0.5},\"pattern\":{\"fillmode\":\"overlay\",\"size\":10,\"solidity\":0.2}},\"type\":\"bar\"}],\"scattergeo\":[{\"type\":\"scattergeo\",\"marker\":{\"colorbar\":{\"outlinewidth\":0,\"ticks\":\"\"}}}],\"scatterpolar\":[{\"type\":\"scatterpolar\",\"marker\":{\"colorbar\":{\"outlinewidth\":0,\"ticks\":\"\"}}}],\"histogram\":[{\"marker\":{\"pattern\":{\"fillmode\":\"overlay\",\"size\":10,\"solidity\":0.2}},\"type\":\"histogram\"}],\"scattergl\":[{\"type\":\"scattergl\",\"marker\":{\"colorbar\":{\"outlinewidth\":0,\"ticks\":\"\"}}}],\"scatter3d\":[{\"type\":\"scatter3d\",\"line\":{\"colorbar\":{\"outlinewidth\":0,\"ticks\":\"\"}},\"marker\":{\"colorbar\":{\"outlinewidth\":0,\"ticks\":\"\"}}}],\"scattermapbox\":[{\"type\":\"scattermapbox\",\"marker\":{\"colorbar\":{\"outlinewidth\":0,\"ticks\":\"\"}}}],\"scatterternary\":[{\"type\":\"scatterternary\",\"marker\":{\"colorbar\":{\"outlinewidth\":0,\"ticks\":\"\"}}}],\"scattercarpet\":[{\"type\":\"scattercarpet\",\"marker\":{\"colorbar\":{\"outlinewidth\":0,\"ticks\":\"\"}}}],\"carpet\":[{\"aaxis\":{\"endlinecolor\":\"#2a3f5f\",\"gridcolor\":\"white\",\"linecolor\":\"white\",\"minorgridcolor\":\"white\",\"startlinecolor\":\"#2a3f5f\"},\"baxis\":{\"endlinecolor\":\"#2a3f5f\",\"gridcolor\":\"white\",\"linecolor\":\"white\",\"minorgridcolor\":\"white\",\"startlinecolor\":\"#2a3f5f\"},\"type\":\"carpet\"}],\"table\":[{\"cells\":{\"fill\":{\"color\":\"#EBF0F8\"},\"line\":{\"color\":\"white\"}},\"header\":{\"fill\":{\"color\":\"#C8D4E3\"},\"line\":{\"color\":\"white\"}},\"type\":\"table\"}],\"barpolar\":[{\"marker\":{\"line\":{\"color\":\"#E5ECF6\",\"width\":0.5},\"pattern\":{\"fillmode\":\"overlay\",\"size\":10,\"solidity\":0.2}},\"type\":\"barpolar\"}],\"pie\":[{\"automargin\":true,\"type\":\"pie\"}]},\"layout\":{\"autotypenumbers\":\"strict\",\"colorway\":[\"#636efa\",\"#EF553B\",\"#00cc96\",\"#ab63fa\",\"#FFA15A\",\"#19d3f3\",\"#FF6692\",\"#B6E880\",\"#FF97FF\",\"#FECB52\"],\"font\":{\"color\":\"#2a3f5f\"},\"hovermode\":\"closest\",\"hoverlabel\":{\"align\":\"left\"},\"paper_bgcolor\":\"white\",\"plot_bgcolor\":\"#E5ECF6\",\"polar\":{\"bgcolor\":\"#E5ECF6\",\"angularaxis\":{\"gridcolor\":\"white\",\"linecolor\":\"white\",\"ticks\":\"\"},\"radialaxis\":{\"gridcolor\":\"white\",\"linecolor\":\"white\",\"ticks\":\"\"}},\"ternary\":{\"bgcolor\":\"#E5ECF6\",\"aaxis\":{\"gridcolor\":\"white\",\"linecolor\":\"white\",\"ticks\":\"\"},\"baxis\":{\"gridcolor\":\"white\",\"linecolor\":\"white\",\"ticks\":\"\"},\"caxis\":{\"gridcolor\":\"white\",\"linecolor\":\"white\",\"ticks\":\"\"}},\"coloraxis\":{\"colorbar\":{\"outlinewidth\":0,\"ticks\":\"\"}},\"colorscale\":{\"sequential\":[[0.0,\"#0d0887\"],[0.1111111111111111,\"#46039f\"],[0.2222222222222222,\"#7201a8\"],[0.3333333333333333,\"#9c179e\"],[0.4444444444444444,\"#bd3786\"],[0.5555555555555556,\"#d8576b\"],[0.6666666666666666,\"#ed7953\"],[0.7777777777777778,\"#fb9f3a\"],[0.8888888888888888,\"#fdca26\"],[1.0,\"#f0f921\"]],\"sequentialminus\":[[0.0,\"#0d0887\"],[0.1111111111111111,\"#46039f\"],[0.2222222222222222,\"#7201a8\"],[0.3333333333333333,\"#9c179e\"],[0.4444444444444444,\"#bd3786\"],[0.5555555555555556,\"#d8576b\"],[0.6666666666666666,\"#ed7953\"],[0.7777777777777778,\"#fb9f3a\"],[0.8888888888888888,\"#fdca26\"],[1.0,\"#f0f921\"]],\"diverging\":[[0,\"#8e0152\"],[0.1,\"#c51b7d\"],[0.2,\"#de77ae\"],[0.3,\"#f1b6da\"],[0.4,\"#fde0ef\"],[0.5,\"#f7f7f7\"],[0.6,\"#e6f5d0\"],[0.7,\"#b8e186\"],[0.8,\"#7fbc41\"],[0.9,\"#4d9221\"],[1,\"#276419\"]]},\"xaxis\":{\"gridcolor\":\"white\",\"linecolor\":\"white\",\"ticks\":\"\",\"title\":{\"standoff\":15},\"zerolinecolor\":\"white\",\"automargin\":true,\"zerolinewidth\":2},\"yaxis\":{\"gridcolor\":\"white\",\"linecolor\":\"white\",\"ticks\":\"\",\"title\":{\"standoff\":15},\"zerolinecolor\":\"white\",\"automargin\":true,\"zerolinewidth\":2},\"scene\":{\"xaxis\":{\"backgroundcolor\":\"#E5ECF6\",\"gridcolor\":\"white\",\"linecolor\":\"white\",\"showbackground\":true,\"ticks\":\"\",\"zerolinecolor\":\"white\",\"gridwidth\":2},\"yaxis\":{\"backgroundcolor\":\"#E5ECF6\",\"gridcolor\":\"white\",\"linecolor\":\"white\",\"showbackground\":true,\"ticks\":\"\",\"zerolinecolor\":\"white\",\"gridwidth\":2},\"zaxis\":{\"backgroundcolor\":\"#E5ECF6\",\"gridcolor\":\"white\",\"linecolor\":\"white\",\"showbackground\":true,\"ticks\":\"\",\"zerolinecolor\":\"white\",\"gridwidth\":2}},\"shapedefaults\":{\"line\":{\"color\":\"#2a3f5f\"}},\"annotationdefaults\":{\"arrowcolor\":\"#2a3f5f\",\"arrowhead\":0,\"arrowwidth\":1},\"geo\":{\"bgcolor\":\"white\",\"landcolor\":\"#E5ECF6\",\"subunitcolor\":\"white\",\"showland\":true,\"showlakes\":true,\"lakecolor\":\"white\"},\"title\":{\"x\":0.05},\"mapbox\":{\"style\":\"light\"}}},\"xaxis\":{\"anchor\":\"y\",\"domain\":[0.0,0.94],\"title\":{\"text\":\"Datetime\"}},\"yaxis\":{\"anchor\":\"x\",\"domain\":[0.0,1.0],\"title\":{\"text\":\"Bitcoin Price\"}},\"yaxis2\":{\"anchor\":\"x\",\"overlaying\":\"y\",\"side\":\"right\",\"title\":{\"text\":\"Compound score\"}},\"title\":{\"text\":\"Bitcoin and Reddit Posts\"},\"width\":800,\"height\":600},                        {\"responsive\": true}                    ).then(function(){\n                            \nvar gd = document.getElementById('2015e397-7958-4a49-a13b-a461f2451bdd');\nvar x = new MutationObserver(function (mutations, observer) {{\n        var display = window.getComputedStyle(gd).display;\n        if (!display || display === 'none') {{\n            console.log([gd, 'removed!']);\n            Plotly.purge(gd);\n            observer.disconnect();\n        }}\n}});\n\n// Listen for the removal of the full notebook cells\nvar notebookContainer = gd.closest('#notebook-container');\nif (notebookContainer) {{\n    x.observe(notebookContainer, {childList: true});\n}}\n\n// Listen for the clearing of the current output cell\nvar outputEl = gd.closest('.output');\nif (outputEl) {{\n    x.observe(outputEl, {childList: true});\n}}\n\n                        })                };                });            </script>        </div>"
     },
     "metadata": {},
     "output_type": "display_data"
    }
   ],
   "source": [
    "x= bitcoin_new.index\n",
    "y1=bitcoin_new['Close']\n",
    "y2=bitcoin_new['re_compound']\n",
    "name1=\"Bitcoin Price\"\n",
    "name2=\"Reddit Posts compound score\"\n",
    "axes1= \"Bitcoin Price\"\n",
    "axes2=\"Compound score\"\n",
    "plot_chart(x, y1, y2, name1, name2, axes1, axes2)"
   ],
   "metadata": {
    "collapsed": false,
    "pycharm": {
     "name": "#%%\n"
    }
   }
  },
  {
   "cell_type": "code",
   "execution_count": 22,
   "outputs": [],
   "source": [],
   "metadata": {
    "collapsed": false,
    "pycharm": {
     "name": "#%%\n"
    }
   }
  }
 ],
 "metadata": {
  "kernelspec": {
   "display_name": "Python 3",
   "language": "python",
   "name": "python3"
  },
  "language_info": {
   "codemirror_mode": {
    "name": "ipython",
    "version": 2
   },
   "file_extension": ".py",
   "mimetype": "text/x-python",
   "name": "python",
   "nbconvert_exporter": "python",
   "pygments_lexer": "ipython2",
   "version": "2.7.6"
  }
 },
 "nbformat": 4,
 "nbformat_minor": 0
}