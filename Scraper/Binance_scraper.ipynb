{
 "cells": [
  {
   "cell_type": "markdown",
   "source": [
    "# Binance\n",
    "\n",
    "https://medium.com/swlh/retrieving-full-historical-data-for-every-cryptocurrency-on-binance-bitmex-using-the-python-apis-27b47fd8137f\n",
    "\n",
    "https://pypi.org/project/binance-historical-data/#toc-entry-17"
   ],
   "metadata": {
    "collapsed": false,
    "pycharm": {
     "name": "#%% md\n"
    }
   }
  },
  {
   "cell_type": "markdown",
   "source": [
    "## 5-min Interval"
   ],
   "metadata": {
    "collapsed": false,
    "pycharm": {
     "name": "#%% md\n"
    }
   }
  },
  {
   "cell_type": "code",
   "execution_count": 4,
   "outputs": [],
   "source": [
    "from binance_historical_data import BinanceDataDumper\n",
    "import datetime\n",
    "\n",
    "data_dumper = BinanceDataDumper(\n",
    "    path_dir_where_to_dump=\".\",\n",
    "    asset_class=\"um\",\n",
    "    data_type=\"klines\",\n",
    "    data_frequency= \"5m\"\n",
    ")"
   ],
   "metadata": {
    "collapsed": false,
    "pycharm": {
     "name": "#%%\n"
    }
   }
  },
  {
   "cell_type": "code",
   "execution_count": 9,
   "outputs": [
    {
     "name": "stdout",
     "output_type": "stream",
     "text": [
      "---> Found overall tickers: 239\n",
      "---> Filter to asked tickers: 3\n",
      "------> Tickers left: 3\n",
      "---> Exclude the asked tickers: 1\n",
      "------> Tickers left: 3\n",
      "Download full data for 3 tickers: \n",
      "---> Data will be saved here: /Users/yujiewang/MyProjects/Data Science/Data Science Project/Notes/um\n",
      "---> Data Frequency: 5m\n",
      "---> Start Date: 20220101\n",
      "---> End Date: 20220701\n"
     ]
    },
    {
     "data": {
      "text/plain": "Tickers:   0%|          | 0/3 [00:00<?, ?it/s]",
      "application/vnd.jupyter.widget-view+json": {
       "version_major": 2,
       "version_minor": 0,
       "model_id": "d7d67b2e1d224bdfa6b075bf0cd3f909"
      }
     },
     "metadata": {},
     "output_type": "display_data"
    },
    {
     "data": {
      "text/plain": "monthly files to download:   0%|          | 0/6 [00:00<?, ?files/s]",
      "application/vnd.jupyter.widget-view+json": {
       "version_major": 2,
       "version_minor": 0,
       "model_id": "4dcc385f6b924280ae24dca9eedf1807"
      }
     },
     "metadata": {},
     "output_type": "display_data"
    },
    {
     "data": {
      "text/plain": "daily files to download: 0files [00:00, ?files/s]",
      "application/vnd.jupyter.widget-view+json": {
       "version_major": 2,
       "version_minor": 0,
       "model_id": "a905d7753d6b480588d922dbd80885cf"
      }
     },
     "metadata": {},
     "output_type": "display_data"
    },
    {
     "data": {
      "text/plain": "monthly files to download:   0%|          | 0/6 [00:00<?, ?files/s]",
      "application/vnd.jupyter.widget-view+json": {
       "version_major": 2,
       "version_minor": 0,
       "model_id": "b7c8b99a0d2d481ba305a2518064ce99"
      }
     },
     "metadata": {},
     "output_type": "display_data"
    },
    {
     "data": {
      "text/plain": "daily files to download: 0files [00:00, ?files/s]",
      "application/vnd.jupyter.widget-view+json": {
       "version_major": 2,
       "version_minor": 0,
       "model_id": "a4625eb29de14cffba3fdaacf8d0bfbe"
      }
     },
     "metadata": {},
     "output_type": "display_data"
    },
    {
     "data": {
      "text/plain": "monthly files to download:   0%|          | 0/6 [00:00<?, ?files/s]",
      "application/vnd.jupyter.widget-view+json": {
       "version_major": 2,
       "version_minor": 0,
       "model_id": "284fbaefe1124bb79f3eb6637ba8a6d9"
      }
     },
     "metadata": {},
     "output_type": "display_data"
    },
    {
     "data": {
      "text/plain": "daily files to download: 0files [00:00, ?files/s]",
      "application/vnd.jupyter.widget-view+json": {
       "version_major": 2,
       "version_minor": 0,
       "model_id": "2345208b35bb4e39b1577bc125322d63"
      }
     },
     "metadata": {},
     "output_type": "display_data"
    },
    {
     "name": "stdout",
     "output_type": "stream",
     "text": [
      "Tried to dump data for 3 tickers:\n",
      "---> For BTCUSDT new data saved for: 6 months 0 days\n",
      "---> For LTCUSDT new data saved for: 6 months 0 days\n",
      "---> For ETCUSDT new data saved for: 6 months 0 days\n"
     ]
    }
   ],
   "source": [
    "data_dumper.dump_data(\n",
    "    tickers=[\"BTCUSDT\",\"LTCUSDT\",\"ETCUSDT\"],\n",
    "    date_start=datetime.date(year=2022, month=1, day=1),\n",
    "    date_end=datetime.date(year=2022, month=7, day=1),\n",
    "    is_to_update_existing=True,\n",
    "    tickers_to_exclude=[\"UST\"],\n",
    ")"
   ],
   "metadata": {
    "collapsed": false,
    "pycharm": {
     "name": "#%%\n"
    }
   }
  },
  {
   "cell_type": "code",
   "execution_count": 10,
   "outputs": [
    {
     "data": {
      "text/plain": "'./futures/um/daily/klines/BTCUSD/5m'"
     },
     "execution_count": 10,
     "metadata": {},
     "output_type": "execute_result"
    }
   ],
   "source": [
    "data_dumper.get_local_dir_to_data(ticker=\"BTCUSD\", timeperiod_per_file=\"daily\")"
   ],
   "metadata": {
    "collapsed": false,
    "pycharm": {
     "name": "#%%\n"
    }
   }
  },
  {
   "cell_type": "markdown",
   "source": [
    "## 30-min Interval"
   ],
   "metadata": {
    "collapsed": false,
    "pycharm": {
     "name": "#%% md\n"
    }
   }
  },
  {
   "cell_type": "code",
   "execution_count": 5,
   "outputs": [],
   "source": [
    "data_dumper_30 = BinanceDataDumper(\n",
    "    path_dir_where_to_dump=\".\",\n",
    "    asset_class=\"um\",\n",
    "    data_type=\"klines\",\n",
    "    data_frequency= \"1h\"\n",
    ")"
   ],
   "metadata": {
    "collapsed": false,
    "pycharm": {
     "name": "#%%\n"
    }
   }
  },
  {
   "cell_type": "code",
   "execution_count": 6,
   "outputs": [
    {
     "name": "stdout",
     "output_type": "stream",
     "text": [
      "---> Found overall tickers: 239\n",
      "---> Filter to asked tickers: 7\n",
      "------> Tickers left: 1\n",
      "---> Exclude the asked tickers: 1\n",
      "------> Tickers left: 1\n",
      "Download full data for 1 tickers: \n",
      "---> Data will be saved here: /Users/yujiewang/MyProjects/Data Science/Data Science Project/Notes/um\n",
      "---> Data Frequency: 1h\n",
      "---> Start Date: 20220101\n",
      "---> End Date: 20220701\n"
     ]
    },
    {
     "data": {
      "text/plain": "Tickers:   0%|          | 0/1 [00:00<?, ?it/s]",
      "application/vnd.jupyter.widget-view+json": {
       "version_major": 2,
       "version_minor": 0,
       "model_id": "d87c6671b67248e5bce6293c1b2fd704"
      }
     },
     "metadata": {},
     "output_type": "display_data"
    },
    {
     "data": {
      "text/plain": "monthly files to download:   0%|          | 0/6 [00:00<?, ?files/s]",
      "application/vnd.jupyter.widget-view+json": {
       "version_major": 2,
       "version_minor": 0,
       "model_id": "19ee5af484ca436dbd8e83403ec85021"
      }
     },
     "metadata": {},
     "output_type": "display_data"
    },
    {
     "data": {
      "text/plain": "daily files to download: 0files [00:00, ?files/s]",
      "application/vnd.jupyter.widget-view+json": {
       "version_major": 2,
       "version_minor": 0,
       "model_id": "8094e1ea6eb84a2db3dbfc9f42405282"
      }
     },
     "metadata": {},
     "output_type": "display_data"
    },
    {
     "name": "stdout",
     "output_type": "stream",
     "text": [
      "Tried to dump data for 1 tickers:\n",
      "---> For BTCUSDT new data saved for: 6 months 0 days\n"
     ]
    }
   ],
   "source": [
    "data_dumper_30.dump_data(\n",
    "    tickers=\"BTCUSDT\",\n",
    "    date_start=datetime.date(year=2022, month=1, day=1),\n",
    "    date_end=datetime.date(year=2022, month=7, day=1),\n",
    "    is_to_update_existing=True,\n",
    "    tickers_to_exclude=[\"UST\"],\n",
    ")"
   ],
   "metadata": {
    "collapsed": false,
    "pycharm": {
     "name": "#%%\n"
    }
   }
  },
  {
   "cell_type": "code",
   "execution_count": 7,
   "outputs": [],
   "source": [],
   "metadata": {
    "collapsed": false,
    "pycharm": {
     "name": "#%%\n"
    }
   }
  },
  {
   "cell_type": "code",
   "execution_count": null,
   "outputs": [],
   "source": [],
   "metadata": {
    "collapsed": false,
    "pycharm": {
     "name": "#%%\n"
    }
   }
  }
 ],
 "metadata": {
  "kernelspec": {
   "display_name": "Python 3",
   "language": "python",
   "name": "python3"
  },
  "language_info": {
   "codemirror_mode": {
    "name": "ipython",
    "version": 2
   },
   "file_extension": ".py",
   "mimetype": "text/x-python",
   "name": "python",
   "nbconvert_exporter": "python",
   "pygments_lexer": "ipython2",
   "version": "2.7.6"
  }
 },
 "nbformat": 4,
 "nbformat_minor": 0
}