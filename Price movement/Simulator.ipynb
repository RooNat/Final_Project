{
 "cells": [
  {
   "cell_type": "markdown",
   "source": [
    "## Backtesting"
   ],
   "metadata": {
    "collapsed": false,
    "pycharm": {
     "name": "#%% md\n"
    }
   }
  },
  {
   "cell_type": "code",
   "execution_count": 373,
   "outputs": [],
   "source": [
    "import pandas as pd\n",
    "import numpy as np\n",
    "from datetime import datetime\n",
    "import datetime\n",
    "import sklearn\n",
    "from sklearn.model_selection import train_test_split\n",
    "from tensorflow.keras.utils import to_categorical\n",
    "from sklearn.preprocessing import MinMaxScaler\n",
    "import seaborn as sns\n",
    "import matplotlib.pyplot as plt\n",
    "from sklearn.utils import shuffle\n",
    "import tensorflow as tf\n",
    "\n",
    "import keras.utils\n",
    "from tensorflow.keras.layers import Conv1D, MaxPooling1D,Flatten\n",
    "from keras.models import Sequential\n",
    "from keras.layers import Dropout\n",
    "from keras.layers import Activation\n",
    "from keras.layers import Bidirectional\n",
    "from keras.layers import Dense\n",
    "from keras.layers import LSTM, GRU\n",
    "from keras.optimizers import Adam\n",
    "from tensorflow.keras.layers import Conv2D, Flatten, Dense,LeakyReLU,MaxPooling2D,Dropout\n",
    "from tensorflow.keras.optimizers import RMSprop\n",
    "from sklearn.metrics import classification_report\n",
    "from tensorflow.keras.models import load_model\n",
    "from keras.utils.vis_utils import plot_model"
   ],
   "metadata": {
    "collapsed": false,
    "pycharm": {
     "name": "#%%\n"
    }
   }
  },
  {
   "cell_type": "code",
   "execution_count": 374,
   "outputs": [],
   "source": [
    "def rename_datetime(data):\n",
    "    data.rename(columns={'Unnamed: 0': 'datetime'},inplace=True)\n",
    "    data['datetime']=pd.to_datetime(data['datetime'])\n",
    "    data.set_index('datetime', inplace=True)\n",
    "    return data"
   ],
   "metadata": {
    "collapsed": false,
    "pycharm": {
     "name": "#%%\n"
    }
   }
  },
  {
   "cell_type": "code",
   "execution_count": 375,
   "outputs": [],
   "source": [
    "filepath='./../data/processed_data.csv'"
   ],
   "metadata": {
    "collapsed": false,
    "pycharm": {
     "name": "#%%\n"
    }
   }
  },
  {
   "cell_type": "code",
   "execution_count": 376,
   "outputs": [],
   "source": [
    "feature_conditions = {\n",
    "        'google_trends': 0, 'google_trends_lag': 0,\n",
    "        'tweet_volume_lag': 0, 'tw_polarity_lag': 0, 'tw_compound': 0,\n",
    "        'tw_polarity': 0, 'tweet_volume': 0,'re_compound': 0,'re_polarity': 0,\n",
    "        're_subjectivity': 0\n",
    "    }"
   ],
   "metadata": {
    "collapsed": false,
    "pycharm": {
     "name": "#%%\n"
    }
   }
  },
  {
   "cell_type": "code",
   "execution_count": 377,
   "outputs": [],
   "source": [
    "# create features\n",
    "def create_features(data, g_lag, tv_lag, tw_lag,thresh):\n",
    "    data['return'] =data['Close'].pct_change().dropna()\n",
    "    # data['Change']=data['Close'].diff().dropna()\n",
    "    # data['return_change']=data['return'].diff().dropna()\n",
    "    data['Label'] = np.where(data['return']>thresh, 1 ,0)\n",
    "    # data['Label'] = np.where(data['return_change']<thresh, -1 ,data['Label'])\n",
    "    data['tw_score_lag']=data['tw_compound'].shift(10)\n",
    "    data['google_trends_lag']=data['google_trends'].shift(g_lag)\n",
    "    data['tweet_volume_lag']=data['tweet_volume'].shift(tv_lag)\n",
    "    data['tw_polarity_lag'] = data['tw_polarity'].shift(tw_lag)\n",
    "\n",
    "    data.drop(columns=['Open','High','Low'],inplace=True)\n",
    "    # Add features like RSI? Moving average?\n",
    "\n",
    "    data.dropna(inplace=True)\n",
    "    return data"
   ],
   "metadata": {
    "collapsed": false,
    "pycharm": {
     "name": "#%%\n"
    }
   }
  },
  {
   "cell_type": "code",
   "execution_count": 378,
   "outputs": [],
   "source": [
    "def keep_features(feature_conditions):\n",
    "    features=['Label','Close']\n",
    "    for feature, condition in feature_conditions.items():\n",
    "        if condition:\n",
    "            features.append(feature)\n",
    "    return features"
   ],
   "metadata": {
    "collapsed": false,
    "pycharm": {
     "name": "#%%\n"
    }
   }
  },
  {
   "cell_type": "code",
   "execution_count": 379,
   "outputs": [],
   "source": [
    "def create_data(filepath, month, g_lag, tv_lag, tw_lag, thresh,feature_conditions,flag):\n",
    "    # import data\n",
    "    # import the original data. processed_data\n",
    "    # processed_data: weighted reddit score+ fill the nan data\n",
    "    data=pd.read_csv(filepath)\n",
    "    # show the data\n",
    "    data=rename_datetime(data)\n",
    "\n",
    "    # create features\n",
    "    data_created = create_features(data,g_lag,tv_lag,tw_lag,thresh)\n",
    "\n",
    "    # get the subdata set\n",
    "    if flag==0:\n",
    "        data=data_created[data_created.index.month==month]\n",
    "    else:\n",
    "        data=data_created[(data_created.index.month>=1) & (data_created.index.month <=month)]\n",
    "\n",
    "    # keep the wanted features\n",
    "    features = keep_features(feature_conditions)\n",
    "    data=data[features]\n",
    "    return data"
   ],
   "metadata": {
    "collapsed": false,
    "pycharm": {
     "name": "#%%\n"
    }
   }
  },
  {
   "cell_type": "code",
   "execution_count": 380,
   "outputs": [
    {
     "data": {
      "text/plain": "                     Label     Close\ndatetime                            \n2022-01-02 04:00:00      0  46902.11\n2022-01-02 05:00:00      1  47077.70\n2022-01-02 06:00:00      1  47122.49\n2022-01-02 07:00:00      1  47171.04\n2022-01-02 08:00:00      1  47211.36\n...                    ...       ...\n2022-01-31 19:00:00      0  38400.00\n2022-01-31 20:00:00      1  38432.32\n2022-01-31 21:00:00      0  38395.17\n2022-01-31 22:00:00      0  38385.61\n2022-01-31 23:00:00      1  38439.04\n\n[716 rows x 2 columns]",
      "text/html": "<div>\n<style scoped>\n    .dataframe tbody tr th:only-of-type {\n        vertical-align: middle;\n    }\n\n    .dataframe tbody tr th {\n        vertical-align: top;\n    }\n\n    .dataframe thead th {\n        text-align: right;\n    }\n</style>\n<table border=\"1\" class=\"dataframe\">\n  <thead>\n    <tr style=\"text-align: right;\">\n      <th></th>\n      <th>Label</th>\n      <th>Close</th>\n    </tr>\n    <tr>\n      <th>datetime</th>\n      <th></th>\n      <th></th>\n    </tr>\n  </thead>\n  <tbody>\n    <tr>\n      <th>2022-01-02 04:00:00</th>\n      <td>0</td>\n      <td>46902.11</td>\n    </tr>\n    <tr>\n      <th>2022-01-02 05:00:00</th>\n      <td>1</td>\n      <td>47077.70</td>\n    </tr>\n    <tr>\n      <th>2022-01-02 06:00:00</th>\n      <td>1</td>\n      <td>47122.49</td>\n    </tr>\n    <tr>\n      <th>2022-01-02 07:00:00</th>\n      <td>1</td>\n      <td>47171.04</td>\n    </tr>\n    <tr>\n      <th>2022-01-02 08:00:00</th>\n      <td>1</td>\n      <td>47211.36</td>\n    </tr>\n    <tr>\n      <th>...</th>\n      <td>...</td>\n      <td>...</td>\n    </tr>\n    <tr>\n      <th>2022-01-31 19:00:00</th>\n      <td>0</td>\n      <td>38400.00</td>\n    </tr>\n    <tr>\n      <th>2022-01-31 20:00:00</th>\n      <td>1</td>\n      <td>38432.32</td>\n    </tr>\n    <tr>\n      <th>2022-01-31 21:00:00</th>\n      <td>0</td>\n      <td>38395.17</td>\n    </tr>\n    <tr>\n      <th>2022-01-31 22:00:00</th>\n      <td>0</td>\n      <td>38385.61</td>\n    </tr>\n    <tr>\n      <th>2022-01-31 23:00:00</th>\n      <td>1</td>\n      <td>38439.04</td>\n    </tr>\n  </tbody>\n</table>\n<p>716 rows × 2 columns</p>\n</div>"
     },
     "metadata": {},
     "output_type": "display_data"
    }
   ],
   "source": [
    "data = create_data(filepath, month=1, g_lag=2, tv_lag=28, tw_lag=3, thresh=0, feature_conditions=feature_conditions, flag=1)\n",
    "display(data)"
   ],
   "metadata": {
    "collapsed": false,
    "pycharm": {
     "name": "#%%\n"
    }
   }
  },
  {
   "cell_type": "code",
   "execution_count": 381,
   "outputs": [
    {
     "data": {
      "image/png": "[encoded data removed]",
      "text/plain": "<IPython.core.display.Image object>"
     },
     "execution_count": 381,
     "metadata": {},
     "output_type": "execute_result"
    }
   ],
   "source": [
    "lstm_model= load_model('./saved_models/1_base_lstm_model.h5')\n",
    "plot_model(lstm_model, to_file='./lstm_model.png', show_shapes=True, show_layer_names=True)"
   ],
   "metadata": {
    "collapsed": false,
    "pycharm": {
     "name": "#%%\n"
    }
   }
  },
  {
   "cell_type": "code",
   "execution_count": 382,
   "outputs": [],
   "source": [
    "def reshape_features(data, to_keep=1, to_remove=1):\n",
    "    variables = 1 if type(data) is list else data.shape[1]\n",
    "    df = pd.DataFrame(data)\n",
    "    columns, names = list(), list()\n",
    "\n",
    "    for i in range(to_keep, 0, -1):\n",
    "        columns.append(df.shift(i))\n",
    "        names += [('var%d(t-%d)' % (j+1, i)) for j in range(variables)]\n",
    "\n",
    "    for i in range(0, to_remove):\n",
    "        columns.append(df.shift(-i))\n",
    "        if i == 0:\n",
    "            names += [('var%d(t)' % (j+1)) for j in range(variables)]\n",
    "        else:\n",
    "            names += [('var%d(t+%d)' % (j+1, i)) for j in range(variables)]\n",
    "\n",
    "    #put it all together\n",
    "    final = pd.concat(columns, axis=1)\n",
    "    final.columns = names\n",
    "\n",
    "    #drop rows with NaN values\n",
    "    final.dropna(inplace=True)\n",
    "\n",
    "    new_data = final.reset_index()\n",
    "\n",
    "    new_data = new_data.drop(columns=['datetime'])\n",
    "\n",
    "    return new_data"
   ],
   "metadata": {
    "collapsed": false,
    "pycharm": {
     "name": "#%%\n"
    }
   }
  },
  {
   "cell_type": "code",
   "execution_count": 383,
   "outputs": [],
   "source": [
    "from tqdm import tqdm\n",
    "import plotly.express as px\n",
    "def run_simulator(timestep, data, amt, thresh, model, verbose, plot=True):\n",
    "    curr_holding = False\n",
    "    events_list = []\n",
    "    init_amt = amt\n",
    "    prices=data['Close']\n",
    "    irowdata=data.iloc[timestep:]\n",
    "    pred=1\n",
    "    #go through dates\n",
    "    i=0\n",
    "    for date, r in tqdm(irowdata.iterrows(),total=len(irowdata)):\n",
    "\n",
    "        #if you're currently holding the stock, sell it\n",
    "        if curr_holding and pred<1-thresh:\n",
    "            sell_price = prices.loc[date]\n",
    "            curr_holding=False\n",
    "            ret = (sell_price-buy_price)/buy_price\n",
    "            amt *= (1+ret)\n",
    "            events_list.append(('s', date, ret))\n",
    "\n",
    "            if verbose:\n",
    "                print('Sold at $%s'%sell_price)\n",
    "                print('Predicted Return: %s'%round(pred,4))\n",
    "                print('Actual Return: %s'%(round(ret, 4)))\n",
    "                print('=======================================')\n",
    "            continue\n",
    "\n",
    "        # date = pd.to_datetime(date)\n",
    "        # #\n",
    "        # # # Calculate start date using pd.Timedelta\n",
    "        # start_date = date - pd.Timedelta(hours=timestep)\n",
    "        # Calculate start date using pd.DateOffset\n",
    "        curr_data=data[:date]\n",
    "\n",
    "        features= len(curr_data.columns.values)\n",
    "        df_copy = curr_data.copy()\n",
    "        new_data=reshape_features(df_copy, timestep, 1)\n",
    "\n",
    "        feature_scaler=MinMaxScaler()\n",
    "        scale_test_data= feature_scaler.fit_transform(new_data)\n",
    "        all_features = timestep * features\n",
    "\n",
    "        test = scale_test_data[:, :all_features]\n",
    "        input_data = test.reshape((test.shape[0], timestep, features))\n",
    "\n",
    "        pred=model.predict(input_data,verbose=0)\n",
    "\n",
    "        pred=pred[-1][1]\n",
    "\n",
    "        if i==0:\n",
    "            pred=1\n",
    "\n",
    "        # If you predict a high enough return and not holding, buy stock\n",
    "        if (not curr_holding) and pred > thresh:\n",
    "            curr_holding = True\n",
    "            buy_price = prices.loc[date]\n",
    "            events_list.append(('b', date))\n",
    "            if verbose:\n",
    "                print('Bought at $%s' % buy_price)\n",
    "\n",
    "        if 1-thresh<pred<thresh:\n",
    "            events_list.append(('w', date))\n",
    "        i=i+1\n",
    "\n",
    "        #graph\n",
    "    tot_return = round(100 * (amt / init_amt - 1), 2)\n",
    "    print(tot_return)\n",
    "    # if plot:\n",
    "    #\n",
    "    #     plt.figure(figsize=(10,4))\n",
    "    #     plt.plot(prices[14:])\n",
    "    #\n",
    "    #     y_lims = (int(prices.min()*.95), int(prices.max()*1.05))\n",
    "    #     shaded_y_lims = int(prices.min()*.5), int(prices.max()*1.5)\n",
    "    #\n",
    "    #     for idx, event in enumerate(events_list):\n",
    "    #         # plt.axvline(event[1], color='k', linestyle='--', alpha=0.1)\n",
    "    #         if event[0] == 's':\n",
    "    #             plt.axvline(event[1], color='k', linestyle='--', alpha=0.1)\n",
    "    #             color = 'green' if event[2] > 0 else 'red'\n",
    "    #             plt.fill_betweenx(range(*shaded_y_lims),\n",
    "    #                               event[1], events_list[idx-1][1], color=color, alpha=0.8)\n",
    "    #\n",
    "    #     tot_return = round(100*(amt / init_amt - 1), 2)\n",
    "    #     tot_return = str(tot_return) + '%'\n",
    "    #     plt.title(\"%s Price Data\\nThresh=%s\\nTotal Amt: $%s\\nTotal Return: %s\"%(\"Bitcoin\", thresh, round(amt,2), tot_return), fontsize=20)\n",
    "    #     plt.ylim(*y_lims)\n",
    "    #     plt.show()\n",
    "    if plot:\n",
    "        tickerSymbol = 'BTC'\n",
    "\n",
    "        fig = px.line(prices[timestep:], x=prices.index[timestep:], y=prices[timestep:], title=f\"{tickerSymbol} Price Data\",\n",
    "                      labels={'Price': 'Price'},\n",
    "                      line_shape='linear')\n",
    "\n",
    "        y_lims = (int(prices.min() * .95), int(prices.max() * 1.05))\n",
    "        shaded_y_lims = int(prices.min() * .5), int(prices.max() * 1.5)\n",
    "\n",
    "        for idx, event in enumerate(events_list):\n",
    "\n",
    "            if event[0] == 's':\n",
    "                fig.add_shape(type=\"line\", x0=event[1], x1=event[1], y0=shaded_y_lims[0], y1=shaded_y_lims[1],\n",
    "                          line=dict(color='grey', dash='dash'), opacity=0.4)\n",
    "                color = 'green' if event[2] > 0 else 'red'\n",
    "                fig.add_shape(type=\"rect\", x0=event[1], x1=events_list[idx - 1][1], y0=shaded_y_lims[0],\n",
    "                              y1=shaded_y_lims[1], fillcolor=color, opacity=0.1)\n",
    "\n",
    "        tot_return = round(100 * (amt / init_amt - 1), 2)\n",
    "        tot_return = str(tot_return) + '%'\n",
    "\n",
    "        fig.update_layout(\n",
    "            shapes=[dict(type='line', x0=event[1], x1=event[1], y0=shaded_y_lims[0], y1=shaded_y_lims[1],\n",
    "                     line=dict(color='grey', dash='dash'), opacity=0.3) for event in events_list] +\n",
    "                   [dict(type='rect', x0=event[1], x1=events_list[idx - 1][1], y0=shaded_y_lims[0],\n",
    "                     y1=shaded_y_lims[1], fillcolor='green' if event[2] > 0 else 'red', opacity=0.5) for idx, event in enumerate(events_list) if event[0] == 's'],\n",
    "            title=f\"{tickerSymbol} Price Data\\nThresh={thresh}\\nTotal Amt: ${round(amt, 2)}\\nTotal Return: {tot_return}\",\n",
    "            xaxis_title='Date',\n",
    "            yaxis_title='Price',\n",
    "            yaxis_range=y_lims\n",
    "        )\n",
    "\n",
    "        fig.show()\n",
    "\n",
    "\n",
    "    return amt"
   ],
   "metadata": {
    "collapsed": false,
    "pycharm": {
     "name": "#%%\n"
    }
   }
  },
  {
   "cell_type": "code",
   "execution_count": 384,
   "outputs": [
    {
     "name": "stderr",
     "output_type": "stream",
     "text": [
      "100%|██████████| 705/705 [00:23<00:00, 30.37it/s]\n"
     ]
    },
    {
     "name": "stdout",
     "output_type": "stream",
     "text": [
      "-0.67\n"
     ]
    },
    {
     "data": {
      "application/vnd.plotly.v1+json": {
       "data": [
        {
         "hovertemplate": "x=%{x}<br>y=%{y}<extra></extra>",
         "legendgroup": "",
         "line": {
          "color": "#636efa",
          "dash": "solid",
          "shape": "linear"
         },
         "marker": {
          "symbol": "circle"
         },
         "mode": "lines",
         "name": "",
         "orientation": "v",
         "showlegend": false,
         "x": [
          "2022-01-02T15:00:00",
          "2022-01-02T16:00:00",
          "2022-01-02T17:00:00",
          "2022-01-02T18:00:00",
          "2022-01-02T19:00:00",
          "2022-01-02T20:00:00",
          "2022-01-02T21:00:00",
          "2022-01-02T22:00:00",
          "2022-01-02T23:00:00",
          "2022-01-03T00:00:00",
          "2022-01-03T01:00:00",
          "2022-01-03T02:00:00",
          "2022-01-03T03:00:00",
          "2022-01-03T04:00:00",
          "2022-01-03T05:00:00",
          "2022-01-03T06:00:00",
          "2022-01-03T07:00:00",
          "2022-01-03T08:00:00",
          "2022-01-03T09:00:00",
          "2022-01-03T10:00:00",
          "2022-01-03T11:00:00",
          "2022-01-03T12:00:00",
          "2022-01-03T13:00:00",
          "2022-01-03T14:00:00",
          "2022-01-03T15:00:00",
          "2022-01-03T16:00:00",
          "2022-01-03T17:00:00",
          "2022-01-03T18:00:00",
          "2022-01-03T19:00:00",
          "2022-01-03T20:00:00",
          "2022-01-03T21:00:00",
          "2022-01-03T22:00:00",
          "2022-01-03T23:00:00",
          "2022-01-04T00:00:00",
          "2022-01-04T01:00:00",
          "2022-01-04T02:00:00",
          "2022-01-04T03:00:00",
          "2022-01-04T04:00:00",
          "2022-01-04T05:00:00",
          "2022-01-04T06:00:00",
          "2022-01-04T07:00:00",
          "2022-01-04T08:00:00",
          "2022-01-04T09:00:00",
          "2022-01-04T10:00:00",
          "2022-01-04T11:00:00",
          "2022-01-04T12:00:00",
          "2022-01-04T13:00:00",
          "2022-01-04T14:00:00",
          "2022-01-04T15:00:00",
          "2022-01-04T16:00:00",
          "2022-01-04T17:00:00",
          "2022-01-04T18:00:00",
          "2022-01-04T19:00:00",
          "2022-01-04T20:00:00",
          "2022-01-04T21:00:00",
          "2022-01-04T22:00:00",
          "2022-01-04T23:00:00",
          "2022-01-05T00:00:00",
          "2022-01-05T01:00:00",
          "2022-01-05T02:00:00",
          "2022-01-05T03:00:00",
          "2022-01-05T04:00:00",
          "2022-01-05T05:00:00",
          "2022-01-05T06:00:00",
          "2022-01-05T07:00:00",
          "2022-01-05T08:00:00",
          "2022-01-05T09:00:00",
          "2022-01-05T10:00:00",
          "2022-01-05T11:00:00",
          "2022-01-05T12:00:00",
          "2022-01-05T13:00:00",
          "2022-01-05T14:00:00",
          "2022-01-05T15:00:00",
          "2022-01-05T16:00:00",
          "2022-01-05T17:00:00",
          "2022-01-05T18:00:00",
          "2022-01-05T19:00:00",
          "2022-01-05T20:00:00",
          "2022-01-05T21:00:00",
          "2022-01-05T22:00:00",
          "2022-01-05T23:00:00",
          "2022-01-06T00:00:00",
          "2022-01-06T01:00:00",
          "2022-01-06T02:00:00",
          "2022-01-06T03:00:00",
          "2022-01-06T04:00:00",
          "2022-01-06T05:00:00",
          "2022-01-06T06:00:00",
          "2022-01-06T07:00:00",
          "2022-01-06T08:00:00",
          "2022-01-06T09:00:00",
          "2022-01-06T10:00:00",
          "2022-01-06T11:00:00",
          "2022-01-06T12:00:00",
          "2022-01-06T13:00:00",
          "2022-01-06T14:00:00",
          "2022-01-06T15:00:00",
          "2022-01-06T16:00:00",
          "2022-01-06T17:00:00",
          "2022-01-06T18:00:00",
          "2022-01-06T19:00:00",
          "2022-01-06T20:00:00",
          "2022-01-06T21:00:00",
          "2022-01-06T22:00:00",
          "2022-01-06T23:00:00",
          "2022-01-07T00:00:00",
          "2022-01-07T01:00:00",
          "2022-01-07T02:00:00",
          "2022-01-07T03:00:00",
          "2022-01-07T04:00:00",
          "2022-01-07T05:00:00",
          "2022-01-07T06:00:00",
          "2022-01-07T07:00:00",
          "2022-01-07T08:00:00",
          "2022-01-07T09:00:00",
          "2022-01-07T10:00:00",
          "2022-01-07T11:00:00",
          "2022-01-07T12:00:00",
          "2022-01-07T13:00:00",
          "2022-01-07T14:00:00",
          "2022-01-07T15:00:00",
          "2022-01-07T16:00:00",
          "2022-01-07T17:00:00",
          "2022-01-07T18:00:00",
          "2022-01-07T19:00:00",
          "2022-01-07T20:00:00",
          "2022-01-07T21:00:00",
          "2022-01-07T22:00:00",
          "2022-01-07T23:00:00",
          "2022-01-08T00:00:00",
          "2022-01-08T01:00:00",
          "2022-01-08T02:00:00",
          "2022-01-08T03:00:00",
          "2022-01-08T04:00:00",
          "2022-01-08T05:00:00",
          "2022-01-08T06:00:00",
          "2022-01-08T07:00:00",
          "2022-01-08T08:00:00",
          "2022-01-08T09:00:00",
          "2022-01-08T10:00:00",
          "2022-01-08T11:00:00",
          "2022-01-08T12:00:00",
          "2022-01-08T13:00:00",
          "2022-01-08T14:00:00",
          "2022-01-08T15:00:00",
          "2022-01-08T16:00:00",
          "2022-01-08T17:00:00",
          "2022-01-08T18:00:00",
          "2022-01-08T19:00:00",
          "2022-01-08T20:00:00",
          "2022-01-08T21:00:00",
          "2022-01-08T22:00:00",
          "2022-01-08T23:00:00",
          "2022-01-09T00:00:00",
          "2022-01-09T01:00:00",
          "2022-01-09T02:00:00",
          "2022-01-09T03:00:00",
          "2022-01-09T04:00:00",
          "2022-01-09T05:00:00",
          "2022-01-09T06:00:00",
          "2022-01-09T07:00:00",
          "2022-01-09T08:00:00",
          "2022-01-09T09:00:00",
          "2022-01-09T10:00:00",
          "2022-01-09T11:00:00",
          "2022-01-09T12:00:00",
          "2022-01-09T13:00:00",
          "2022-01-09T14:00:00",
          "2022-01-09T15:00:00",
          "2022-01-09T16:00:00",
          "2022-01-09T17:00:00",
          "2022-01-09T18:00:00",
          "2022-01-09T19:00:00",
          "2022-01-09T20:00:00",
          "2022-01-09T21:00:00",
          "2022-01-09T22:00:00",
          "2022-01-09T23:00:00",
          "2022-01-10T00:00:00",
          "2022-01-10T01:00:00",
          "2022-01-10T02:00:00",
          "2022-01-10T03:00:00",
          "2022-01-10T04:00:00",
          "2022-01-10T05:00:00",
          "2022-01-10T06:00:00",
          "2022-01-10T07:00:00",
          "2022-01-10T08:00:00",
          "2022-01-10T09:00:00",
          "2022-01-10T10:00:00",
          "2022-01-10T11:00:00",
          "2022-01-10T12:00:00",
          "2022-01-10T13:00:00",
          "2022-01-10T14:00:00",
          "2022-01-10T15:00:00",
          "2022-01-10T16:00:00",
          "2022-01-10T17:00:00",
          "2022-01-10T18:00:00",
          "2022-01-10T19:00:00",
          "2022-01-10T20:00:00",
          "2022-01-10T21:00:00",
          "2022-01-10T22:00:00",
          "2022-01-10T23:00:00",
          "2022-01-11T00:00:00",
          "2022-01-11T01:00:00",
          "2022-01-11T02:00:00",
          "2022-01-11T03:00:00",
          "2022-01-11T04:00:00",
          "2022-01-11T05:00:00",
          "2022-01-11T06:00:00",
          "2022-01-11T07:00:00",
          "2022-01-11T08:00:00",
          "2022-01-11T09:00:00",
          "2022-01-11T10:00:00",
          "2022-01-11T11:00:00",
          "2022-01-11T12:00:00",
          "2022-01-11T13:00:00",
          "2022-01-11T14:00:00",
          "2022-01-11T15:00:00",
          "2022-01-11T16:00:00",
          "2022-01-11T17:00:00",
          "2022-01-11T18:00:00",
          "2022-01-11T19:00:00",
          "2022-01-11T20:00:00",
          "2022-01-11T21:00:00",
          "2022-01-11T22:00:00",
          "2022-01-11T23:00:00",
          "2022-01-12T00:00:00",
          "2022-01-12T01:00:00",
          "2022-01-12T02:00:00",
          "2022-01-12T03:00:00",
          "2022-01-12T04:00:00",
          "2022-01-12T05:00:00",
          "2022-01-12T06:00:00",
          "2022-01-12T07:00:00",
          "2022-01-12T08:00:00",
          "2022-01-12T09:00:00",
          "2022-01-12T10:00:00",
          "2022-01-12T11:00:00",
          "2022-01-12T12:00:00",
          "2022-01-12T13:00:00",
          "2022-01-12T14:00:00",
          "2022-01-12T15:00:00",
          "2022-01-12T16:00:00",
          "2022-01-12T17:00:00",
          "2022-01-12T18:00:00",
          "2022-01-12T19:00:00",
          "2022-01-12T20:00:00",
          "2022-01-12T21:00:00",
          "2022-01-12T22:00:00",
          "2022-01-12T23:00:00",
          "2022-01-13T00:00:00",
          "2022-01-13T01:00:00",
          "2022-01-13T02:00:00",
          "2022-01-13T03:00:00",
          "2022-01-13T04:00:00",
          "2022-01-13T05:00:00",
          "2022-01-13T06:00:00",
          "2022-01-13T07:00:00",
          "2022-01-13T08:00:00",
          "2022-01-13T09:00:00",
          "2022-01-13T10:00:00",
          "2022-01-13T11:00:00",
          "2022-01-13T12:00:00",
          "2022-01-13T13:00:00",
          "2022-01-13T14:00:00",
          "2022-01-13T15:00:00",
          "2022-01-13T16:00:00",
          "2022-01-13T17:00:00",
          "2022-01-13T18:00:00",
          "2022-01-13T19:00:00",
          "2022-01-13T20:00:00",
          "2022-01-13T21:00:00",
          "2022-01-13T22:00:00",
          "2022-01-13T23:00:00",
          "2022-01-14T00:00:00",
          "2022-01-14T01:00:00",
          "2022-01-14T02:00:00",
          "2022-01-14T03:00:00",
          "2022-01-14T04:00:00",
          "2022-01-14T05:00:00",
          "2022-01-14T06:00:00",
          "2022-01-14T07:00:00",
          "2022-01-14T08:00:00",
          "2022-01-14T09:00:00",
          "2022-01-14T10:00:00",
          "2022-01-14T11:00:00",
          "2022-01-14T12:00:00",
          "2022-01-14T13:00:00",
          "2022-01-14T14:00:00",
          "2022-01-14T15:00:00",
          "2022-01-14T16:00:00",
          "2022-01-14T17:00:00",
          "2022-01-14T18:00:00",
          "2022-01-14T19:00:00",
          "2022-01-14T20:00:00",
          "2022-01-14T21:00:00",
          "2022-01-14T22:00:00",
          "2022-01-14T23:00:00",
          "2022-01-15T00:00:00",
          "2022-01-15T01:00:00",
          "2022-01-15T02:00:00",
          "2022-01-15T03:00:00",
          "2022-01-15T04:00:00",
          "2022-01-15T05:00:00",
          "2022-01-15T06:00:00",
          "2022-01-15T07:00:00",
          "2022-01-15T08:00:00",
          "2022-01-15T09:00:00",
          "2022-01-15T10:00:00",
          "2022-01-15T11:00:00",
          "2022-01-15T12:00:00",
          "2022-01-15T13:00:00",
          "2022-01-15T14:00:00",
          "2022-01-15T15:00:00",
          "2022-01-15T16:00:00",
          "2022-01-15T17:00:00",
          "2022-01-15T18:00:00",
          "2022-01-15T19:00:00",
          "2022-01-15T20:00:00",
          "2022-01-15T21:00:00",
          "2022-01-15T22:00:00",
          "2022-01-15T23:00:00",
          "2022-01-16T00:00:00",
          "2022-01-16T01:00:00",
          "2022-01-16T02:00:00",
          "2022-01-16T03:00:00",
          "2022-01-16T04:00:00",
          "2022-01-16T05:00:00",
          "2022-01-16T06:00:00",
          "2022-01-16T07:00:00",
          "2022-01-16T08:00:00",
          "2022-01-16T09:00:00",
          "2022-01-16T10:00:00",
          "2022-01-16T11:00:00",
          "2022-01-16T12:00:00",
          "2022-01-16T13:00:00",
          "2022-01-16T14:00:00",
          "2022-01-16T15:00:00",
          "2022-01-16T16:00:00",
          "2022-01-16T17:00:00",
          "2022-01-16T18:00:00",
          "2022-01-16T19:00:00",
          "2022-01-16T20:00:00",
          "2022-01-16T21:00:00",
          "2022-01-16T22:00:00",
          "2022-01-16T23:00:00",
          "2022-01-17T00:00:00",
          "2022-01-17T01:00:00",
          "2022-01-17T02:00:00",
          "2022-01-17T03:00:00",
          "2022-01-17T04:00:00",
          "2022-01-17T05:00:00",
          "2022-01-17T06:00:00",
          "2022-01-17T07:00:00",
          "2022-01-17T08:00:00",
          "2022-01-17T09:00:00",
          "2022-01-17T10:00:00",
          "2022-01-17T11:00:00",
          "2022-01-17T12:00:00",
          "2022-01-17T13:00:00",
          "2022-01-17T14:00:00",
          "2022-01-17T15:00:00",
          "2022-01-17T16:00:00",
          "2022-01-17T17:00:00",
          "2022-01-17T18:00:00",
          "2022-01-17T19:00:00",
          "2022-01-17T20:00:00",
          "2022-01-17T21:00:00",
          "2022-01-17T22:00:00",
          "2022-01-17T23:00:00",
          "2022-01-18T00:00:00",
          "2022-01-18T01:00:00",
          "2022-01-18T02:00:00",
          "2022-01-18T03:00:00",
          "2022-01-18T04:00:00",
          "2022-01-18T05:00:00",
          "2022-01-18T06:00:00",
          "2022-01-18T07:00:00",
          "2022-01-18T08:00:00",
          "2022-01-18T09:00:00",
          "2022-01-18T10:00:00",
          "2022-01-18T11:00:00",
          "2022-01-18T12:00:00",
          "2022-01-18T13:00:00",
          "2022-01-18T14:00:00",
          "2022-01-18T15:00:00",
          "2022-01-18T16:00:00",
          "2022-01-18T17:00:00",
          "2022-01-18T18:00:00",
          "2022-01-18T19:00:00",
          "2022-01-18T20:00:00",
          "2022-01-18T21:00:00",
          "2022-01-18T22:00:00",
          "2022-01-18T23:00:00",
          "2022-01-19T00:00:00",
          "2022-01-19T01:00:00",
          "2022-01-19T02:00:00",
          "2022-01-19T03:00:00",
          "2022-01-19T04:00:00",
          "2022-01-19T05:00:00",
          "2022-01-19T06:00:00",
          "2022-01-19T07:00:00",
          "2022-01-19T08:00:00",
          "2022-01-19T09:00:00",
          "2022-01-19T10:00:00",
          "2022-01-19T11:00:00",
          "2022-01-19T12:00:00",
          "2022-01-19T13:00:00",
          "2022-01-19T14:00:00",
          "2022-01-19T15:00:00",
          "2022-01-19T16:00:00",
          "2022-01-19T17:00:00",
          "2022-01-19T18:00:00",
          "2022-01-19T19:00:00",
          "2022-01-19T20:00:00",
          "2022-01-19T21:00:00",
          "2022-01-19T22:00:00",
          "2022-01-19T23:00:00",
          "2022-01-20T00:00:00",
          "2022-01-20T01:00:00",
          "2022-01-20T02:00:00",
          "2022-01-20T03:00:00",
          "2022-01-20T04:00:00",
          "2022-01-20T05:00:00",
          "2022-01-20T06:00:00",
          "2022-01-20T07:00:00",
          "2022-01-20T08:00:00",
          "2022-01-20T09:00:00",
          "2022-01-20T10:00:00",
          "2022-01-20T11:00:00",
          "2022-01-20T12:00:00",
          "2022-01-20T13:00:00",
          "2022-01-20T14:00:00",
          "2022-01-20T15:00:00",
          "2022-01-20T16:00:00",
          "2022-01-20T17:00:00",
          "2022-01-20T18:00:00",
          "2022-01-20T19:00:00",
          "2022-01-20T20:00:00",
          "2022-01-20T21:00:00",
          "2022-01-20T22:00:00",
          "2022-01-20T23:00:00",
          "2022-01-21T00:00:00",
          "2022-01-21T01:00:00",
          "2022-01-21T02:00:00",
          "2022-01-21T03:00:00",
          "2022-01-21T04:00:00",
          "2022-01-21T05:00:00",
          "2022-01-21T06:00:00",
          "2022-01-21T07:00:00",
          "2022-01-21T08:00:00",
          "2022-01-21T09:00:00",
          "2022-01-21T10:00:00",
          "2022-01-21T11:00:00",
          "2022-01-21T12:00:00",
          "2022-01-21T13:00:00",
          "2022-01-21T14:00:00",
          "2022-01-21T15:00:00",
          "2022-01-21T16:00:00",
          "2022-01-21T17:00:00",
          "2022-01-21T18:00:00",
          "2022-01-21T19:00:00",
          "2022-01-21T20:00:00",
          "2022-01-21T21:00:00",
          "2022-01-21T22:00:00",
          "2022-01-21T23:00:00",
          "2022-01-22T00:00:00",
          "2022-01-22T01:00:00",
          "2022-01-22T02:00:00",
          "2022-01-22T03:00:00",
          "2022-01-22T04:00:00",
          "2022-01-22T05:00:00",
          "2022-01-22T06:00:00",
          "2022-01-22T07:00:00",
          "2022-01-22T08:00:00",
          "2022-01-22T09:00:00",
          "2022-01-22T10:00:00",
          "2022-01-22T11:00:00",
          "2022-01-22T12:00:00",
          "2022-01-22T13:00:00",
          "2022-01-22T14:00:00",
          "2022-01-22T15:00:00",
          "2022-01-22T16:00:00",
          "2022-01-22T17:00:00",
          "2022-01-22T18:00:00",
          "2022-01-22T19:00:00",
          "2022-01-22T20:00:00",
          "2022-01-22T21:00:00",
          "2022-01-22T22:00:00",
          "2022-01-22T23:00:00",
          "2022-01-23T00:00:00",
          "2022-01-23T01:00:00",
          "2022-01-23T02:00:00",
          "2022-01-23T03:00:00",
          "2022-01-23T04:00:00",
          "2022-01-23T05:00:00",
          "2022-01-23T06:00:00",
          "2022-01-23T07:00:00",
          "2022-01-23T08:00:00",
          "2022-01-23T09:00:00",
          "2022-01-23T10:00:00",
          "2022-01-23T11:00:00",
          "2022-01-23T12:00:00",
          "2022-01-23T13:00:00",
          "2022-01-23T14:00:00",
          "2022-01-23T15:00:00",
          "2022-01-23T16:00:00",
          "2022-01-23T17:00:00",
          "2022-01-23T18:00:00",
          "2022-01-23T19:00:00",
          "2022-01-23T20:00:00",
          "2022-01-23T21:00:00",
          "2022-01-23T22:00:00",
          "2022-01-23T23:00:00",
          "2022-01-24T00:00:00",
          "2022-01-24T01:00:00",
          "2022-01-24T02:00:00",
          "2022-01-24T03:00:00",
          "2022-01-24T04:00:00",
          "2022-01-24T05:00:00",
          "2022-01-24T06:00:00",
          "2022-01-24T07:00:00",
          "2022-01-24T08:00:00",
          "2022-01-24T09:00:00",
          "2022-01-24T10:00:00",
          "2022-01-24T11:00:00",
          "2022-01-24T12:00:00",
          "2022-01-24T13:00:00",
          "2022-01-24T14:00:00",
          "2022-01-24T15:00:00",
          "2022-01-24T16:00:00",
          "2022-01-24T17:00:00",
          "2022-01-24T18:00:00",
          "2022-01-24T19:00:00",
          "2022-01-24T20:00:00",
          "2022-01-24T21:00:00",
          "2022-01-24T22:00:00",
          "2022-01-24T23:00:00",
          "2022-01-25T00:00:00",
          "2022-01-25T01:00:00",
          "2022-01-25T02:00:00",
          "2022-01-25T03:00:00",
          "2022-01-25T04:00:00",
          "2022-01-25T05:00:00",
          "2022-01-25T06:00:00",
          "2022-01-25T07:00:00",
          "2022-01-25T08:00:00",
          "2022-01-25T09:00:00",
          "2022-01-25T10:00:00",
          "2022-01-25T11:00:00",
          "2022-01-25T12:00:00",
          "2022-01-25T13:00:00",
          "2022-01-25T14:00:00",
          "2022-01-25T15:00:00",
          "2022-01-25T16:00:00",
          "2022-01-25T17:00:00",
          "2022-01-25T18:00:00",
          "2022-01-25T19:00:00",
          "2022-01-25T20:00:00",
          "2022-01-25T21:00:00",
          "2022-01-25T22:00:00",
          "2022-01-25T23:00:00",
          "2022-01-26T00:00:00",
          "2022-01-26T01:00:00",
          "2022-01-26T02:00:00",
          "2022-01-26T03:00:00",
          "2022-01-26T04:00:00",
          "2022-01-26T05:00:00",
          "2022-01-26T06:00:00",
          "2022-01-26T07:00:00",
          "2022-01-26T08:00:00",
          "2022-01-26T09:00:00",
          "2022-01-26T10:00:00",
          "2022-01-26T11:00:00",
          "2022-01-26T12:00:00",
          "2022-01-26T13:00:00",
          "2022-01-26T14:00:00",
          "2022-01-26T15:00:00",
          "2022-01-26T16:00:00",
          "2022-01-26T17:00:00",
          "2022-01-26T18:00:00",
          "2022-01-26T19:00:00",
          "2022-01-26T20:00:00",
          "2022-01-26T21:00:00",
          "2022-01-26T22:00:00",
          "2022-01-26T23:00:00",
          "2022-01-27T00:00:00",
          "2022-01-27T01:00:00",
          "2022-01-27T02:00:00",
          "2022-01-27T03:00:00",
          "2022-01-27T04:00:00",
          "2022-01-27T05:00:00",
          "2022-01-27T06:00:00",
          "2022-01-27T07:00:00",
          "2022-01-27T08:00:00",
          "2022-01-27T09:00:00",
          "2022-01-27T10:00:00",
          "2022-01-27T11:00:00",
          "2022-01-27T12:00:00",
          "2022-01-27T13:00:00",
          "2022-01-27T14:00:00",
          "2022-01-27T15:00:00",
          "2022-01-27T16:00:00",
          "2022-01-27T17:00:00",
          "2022-01-27T18:00:00",
          "2022-01-27T19:00:00",
          "2022-01-27T20:00:00",
          "2022-01-27T21:00:00",
          "2022-01-27T22:00:00",
          "2022-01-27T23:00:00",
          "2022-01-28T00:00:00",
          "2022-01-28T01:00:00",
          "2022-01-28T02:00:00",
          "2022-01-28T03:00:00",
          "2022-01-28T04:00:00",
          "2022-01-28T05:00:00",
          "2022-01-28T06:00:00",
          "2022-01-28T07:00:00",
          "2022-01-28T08:00:00",
          "2022-01-28T09:00:00",
          "2022-01-28T10:00:00",
          "2022-01-28T11:00:00",
          "2022-01-28T12:00:00",
          "2022-01-28T13:00:00",
          "2022-01-28T14:00:00",
          "2022-01-28T15:00:00",
          "2022-01-28T16:00:00",
          "2022-01-28T17:00:00",
          "2022-01-28T18:00:00",
          "2022-01-28T19:00:00",
          "2022-01-28T20:00:00",
          "2022-01-28T21:00:00",
          "2022-01-28T22:00:00",
          "2022-01-28T23:00:00",
          "2022-01-29T00:00:00",
          "2022-01-29T01:00:00",
          "2022-01-29T02:00:00",
          "2022-01-29T03:00:00",
          "2022-01-29T04:00:00",
          "2022-01-29T05:00:00",
          "2022-01-29T06:00:00",
          "2022-01-29T07:00:00",
          "2022-01-29T08:00:00",
          "2022-01-29T09:00:00",
          "2022-01-29T10:00:00",
          "2022-01-29T11:00:00",
          "2022-01-29T12:00:00",
          "2022-01-29T13:00:00",
          "2022-01-29T14:00:00",
          "2022-01-29T15:00:00",
          "2022-01-29T16:00:00",
          "2022-01-29T17:00:00",
          "2022-01-29T18:00:00",
          "2022-01-29T19:00:00",
          "2022-01-29T20:00:00",
          "2022-01-29T21:00:00",
          "2022-01-29T22:00:00",
          "2022-01-29T23:00:00",
          "2022-01-30T00:00:00",
          "2022-01-30T01:00:00",
          "2022-01-30T02:00:00",
          "2022-01-30T03:00:00",
          "2022-01-30T04:00:00",
          "2022-01-30T05:00:00",
          "2022-01-30T06:00:00",
          "2022-01-30T07:00:00",
          "2022-01-30T08:00:00",
          "2022-01-30T09:00:00",
          "2022-01-30T10:00:00",
          "2022-01-30T11:00:00",
          "2022-01-30T12:00:00",
          "2022-01-30T13:00:00",
          "2022-01-30T14:00:00",
          "2022-01-30T15:00:00",
          "2022-01-30T16:00:00",
          "2022-01-30T17:00:00",
          "2022-01-30T18:00:00",
          "2022-01-30T19:00:00",
          "2022-01-30T20:00:00",
          "2022-01-30T21:00:00",
          "2022-01-30T22:00:00",
          "2022-01-30T23:00:00",
          "2022-01-31T00:00:00",
          "2022-01-31T01:00:00",
          "2022-01-31T02:00:00",
          "2022-01-31T03:00:00",
          "2022-01-31T04:00:00",
          "2022-01-31T05:00:00",
          "2022-01-31T06:00:00",
          "2022-01-31T07:00:00",
          "2022-01-31T08:00:00",
          "2022-01-31T09:00:00",
          "2022-01-31T10:00:00",
          "2022-01-31T11:00:00",
          "2022-01-31T12:00:00",
          "2022-01-31T13:00:00",
          "2022-01-31T14:00:00",
          "2022-01-31T15:00:00",
          "2022-01-31T16:00:00",
          "2022-01-31T17:00:00",
          "2022-01-31T18:00:00",
          "2022-01-31T19:00:00",
          "2022-01-31T20:00:00",
          "2022-01-31T21:00:00",
          "2022-01-31T22:00:00",
          "2022-01-31T23:00:00"
         ],
         "xaxis": "x",
         "y": [
          47329.68,
          47780.0,
          47402.3,
          47046.95,
          46908.29,
          47012.47,
          47023.47,
          47261.73,
          47280.0,
          47059.43,
          47117.42,
          47005.39,
          46802.86,
          46823.58,
          47083.37,
          46930.85,
          47041.11,
          46970.01,
          46979.01,
          47116.89,
          47364.11,
          47192.64,
          47157.33,
          46874.66,
          46689.99,
          46484.0,
          46564.54,
          46469.49,
          46364.55,
          45904.74,
          45974.5,
          46214.28,
          46445.81,
          46251.5,
          46065.39,
          46111.81,
          46313.95,
          46107.5,
          46151.49,
          46359.14,
          46521.68,
          46475.02,
          46355.2,
          46599.84,
          46709.98,
          46628.88,
          46933.15,
          47303.01,
          46925.28,
          46767.94,
          46564.0,
          45742.69,
          46058.09,
          46267.79,
          46230.6,
          46155.89,
          45833.42,
          46260.08,
          46112.1,
          46291.45,
          46409.76,
          46419.0,
          46302.72,
          46454.0,
          46399.33,
          46626.53,
          46850.75,
          46809.4,
          46271.93,
          46228.27,
          46429.36,
          46682.79,
          46611.46,
          46308.23,
          46007.99,
          45922.29,
          44673.22,
          43958.56,
          43604.0,
          43415.84,
          43421.69,
          43656.0,
          43525.91,
          43248.4,
          42817.38,
          43007.21,
          43038.12,
          43091.6,
          43222.22,
          43050.0,
          42591.58,
          42874.38,
          42865.15,
          43047.4,
          43123.15,
          42802.24,
          42947.79,
          42878.24,
          42994.68,
          43353.88,
          43409.03,
          43206.67,
          43105.1,
          43163.57,
          43080.01,
          42787.99,
          42988.26,
          42795.77,
          41789.97,
          41680.0,
          41835.97,
          41520.0,
          41691.61,
          42089.3,
          42409.0,
          42167.9,
          42249.99,
          42393.02,
          41471.53,
          41876.11,
          41297.41,
          42131.75,
          41978.79,
          41695.07,
          41764.32,
          41910.96,
          41862.38,
          41522.5,
          41553.86,
          41992.23,
          41880.01,
          41870.9,
          41796.03,
          41880.0,
          41954.47,
          41901.74,
          41902.21,
          41948.85,
          42138.03,
          41907.21,
          41918.02,
          41851.23,
          41884.04,
          41737.01,
          41600.72,
          41342.06,
          40846.58,
          40684.09,
          40837.51,
          40976.06,
          41775.18,
          41912.88,
          41688.05,
          41774.19,
          41800.81,
          42090.34,
          41835.6,
          42065.29,
          41762.99,
          41866.0,
          41784.63,
          41657.45,
          41503.75,
          41636.97,
          41854.25,
          41737.43,
          41467.75,
          41530.99,
          41611.09,
          42127.99,
          42084.96,
          41954.99,
          42678.95,
          42414.64,
          42290.28,
          42193.23,
          41851.22,
          41644.58,
          41790.01,
          41905.0,
          41946.05,
          42164.36,
          42006.0,
          41914.84,
          42034.99,
          41803.54,
          41788.54,
          41765.01,
          41564.26,
          40931.61,
          40753.0,
          40768.6,
          40973.56,
          41892.96,
          41167.99,
          41584.61,
          41280.45,
          41698.68,
          41696.66,
          41592.95,
          41801.55,
          41585.19,
          41913.72,
          42146.26,
          42251.59,
          42284.21,
          42096.61,
          42088.99,
          42191.79,
          41978.17,
          41967.92,
          41619.09,
          41800.95,
          41796.8,
          41691.83,
          41616.57,
          41716.42,
          42684.18,
          42523.15,
          42730.31,
          42938.55,
          42774.08,
          42643.77,
          42685.05,
          42700.68,
          42664.57,
          42617.4,
          42545.54,
          42592.92,
          42614.35,
          42688.49,
          42661.99,
          42550.09,
          42594.19,
          42778.0,
          42739.14,
          42906.98,
          43245.67,
          43881.76,
          43819.68,
          43549.99,
          43593.0,
          43814.93,
          43570.0,
          43707.2,
          43794.87,
          43756.14,
          43813.58,
          43880.72,
          43699.62,
          43540.96,
          43583.2,
          43501.19,
          43604.4,
          43645.7,
          43692.74,
          43682.7,
          43876.44,
          43855.47,
          43766.01,
          43592.1,
          43786.9,
          43891.64,
          44120.24,
          43170.0,
          43224.79,
          42800.0,
          42699.54,
          42690.02,
          42760.66,
          42780.0,
          42566.68,
          42534.32,
          42732.33,
          42576.16,
          42690.0,
          42611.77,
          42655.5,
          42864.34,
          42781.41,
          42635.62,
          42505.72,
          42535.65,
          42059.75,
          41983.12,
          42029.37,
          42140.37,
          42945.09,
          43082.57,
          43183.63,
          42904.07,
          43030.9,
          43055.09,
          43075.96,
          43268.35,
          43230.0,
          43042.4,
          43082.04,
          42965.85,
          43080.0,
          42918.27,
          42895.77,
          42965.67,
          43048.54,
          43073.99,
          42968.18,
          43042.65,
          43085.01,
          42995.23,
          42700.0,
          42889.22,
          43162.19,
          43370.01,
          43306.35,
          43348.2,
          43297.97,
          43496.85,
          43473.72,
          43281.73,
          43225.92,
          43070.51,
          43060.0,
          42979.6,
          42915.41,
          42966.51,
          43004.91,
          42941.14,
          43171.67,
          43173.02,
          43063.92,
          43064.22,
          42904.4,
          42960.0,
          42990.01,
          43097.88,
          43280.64,
          43207.81,
          43359.08,
          43059.54,
          43042.16,
          42817.01,
          43014.28,
          42937.0,
          43157.21,
          43060.66,
          42873.86,
          42879.99,
          42901.91,
          42635.91,
          42606.26,
          42649.7,
          42730.98,
          42639.51,
          42770.01,
          42825.25,
          42775.48,
          42656.61,
          42544.28,
          42631.58,
          42645.25,
          42467.49,
          42212.29,
          42108.49,
          42162.86,
          42221.15,
          42065.0,
          41710.21,
          42063.78,
          42176.34,
          42338.0,
          42238.63,
          42254.78,
          42027.18,
          42022.52,
          42084.88,
          42219.79,
          42040.0,
          41709.99,
          41885.84,
          41909.98,
          41842.4,
          41793.31,
          41640.32,
          41441.51,
          41574.09,
          41693.15,
          41480.65,
          41596.98,
          41680.93,
          41767.25,
          42348.55,
          42460.89,
          42337.58,
          42242.57,
          42409.54,
          42324.74,
          41690.59,
          41699.55,
          41751.99,
          41700.0,
          41271.21,
          41362.88,
          41553.2,
          41494.2,
          42023.15,
          42075.1,
          42171.24,
          42475.99,
          41971.31,
          41904.33,
          42150.0,
          42000.01,
          41864.47,
          41626.0,
          41704.26,
          41956.47,
          41657.89,
          41824.64,
          41756.21,
          41969.69,
          41915.36,
          41875.9,
          41878.84,
          41988.84,
          42039.99,
          41956.98,
          42038.6,
          42089.94,
          42117.31,
          42019.89,
          42368.81,
          42941.36,
          43275.74,
          43257.22,
          43020.35,
          42824.44,
          42909.99,
          42715.35,
          41319.68,
          41137.96,
          40661.69,
          40884.57,
          39750.69,
          39818.48,
          38447.91,
          38819.99,
          38888.95,
          38663.95,
          39106.42,
          39140.86,
          38942.78,
          38956.26,
          38878.71,
          38169.34,
          38484.39,
          38411.24,
          38831.88,
          38704.37,
          38369.69,
          38254.15,
          37967.04,
          38337.36,
          36634.29,
          36093.06,
          36425.98,
          36468.66,
          36475.49,
          36460.42,
          36319.99,
          36258.38,
          35728.06,
          35706.43,
          35374.14,
          35583.24,
          34804.48,
          35461.77,
          35385.59,
          35744.46,
          35572.97,
          35008.02,
          34829.93,
          35085.04,
          34590.01,
          34379.45,
          34506.47,
          35275.85,
          35364.01,
          34861.04,
          35043.73,
          35378.61,
          35296.61,
          34862.32,
          35032.09,
          35199.96,
          35429.32,
          35262.76,
          35553.2,
          35820.2,
          35860.35,
          35883.99,
          35671.57,
          35780.01,
          35944.34,
          35308.53,
          35265.33,
          35211.97,
          35314.96,
          34942.06,
          34763.65,
          35271.3,
          35335.74,
          35490.61,
          36230.01,
          35820.19,
          35640.34,
          35191.05,
          35315.02,
          35106.28,
          35164.38,
          35257.01,
          34875.53,
          34952.37,
          34500.0,
          33270.45,
          33690.01,
          33080.0,
          33319.31,
          33609.51,
          34217.72,
          34384.59,
          35331.17,
          36154.52,
          36050.48,
          37210.38,
          36800.0,
          36368.23,
          36648.31,
          36027.97,
          36116.84,
          36298.0,
          36405.01,
          35939.0,
          36037.16,
          35834.99,
          36035.0,
          36059.27,
          36389.86,
          36410.05,
          36385.0,
          36497.26,
          36479.25,
          36285.7,
          36522.01,
          36805.52,
          37245.24,
          37299.99,
          37039.99,
          36836.91,
          36544.92,
          36769.99,
          36934.26,
          36618.66,
          36833.76,
          36800.15,
          37363.81,
          37762.15,
          37575.0,
          37284.0,
          37321.95,
          37571.86,
          37620.01,
          37910.63,
          38045.91,
          37737.5,
          38170.01,
          38201.88,
          37962.11,
          38234.95,
          38032.27,
          37950.7,
          37548.79,
          36989.1,
          36311.23,
          36489.99,
          36787.43,
          36975.1,
          35868.54,
          35995.29,
          35730.42,
          35912.56,
          35953.76,
          36113.73,
          36150.76,
          36420.01,
          36505.31,
          36301.17,
          36670.15,
          36650.16,
          36806.08,
          36856.18,
          36625.3,
          36513.66,
          36266.37,
          36191.5,
          36194.34,
          35574.0,
          36168.83,
          36683.88,
          37131.0,
          37129.08,
          36862.77,
          36928.66,
          37341.84,
          37210.01,
          37196.06,
          36896.94,
          36788.86,
          36643.79,
          36473.29,
          36596.93,
          36433.29,
          36268.18,
          36890.17,
          36749.65,
          37169.99,
          37082.54,
          36832.16,
          37022.43,
          37205.88,
          37730.18,
          37780.0,
          37642.62,
          37696.21,
          37771.58,
          37520.01,
          37524.39,
          37715.0,
          37793.51,
          37644.0,
          37729.08,
          37822.15,
          37767.6,
          37690.66,
          37740.1,
          37723.57,
          37826.86,
          38129.98,
          37599.38,
          37543.79,
          37519.07,
          37628.76,
          37781.35,
          37831.0,
          38319.8,
          38336.71,
          38120.2,
          38150.01,
          37808.09,
          37916.8,
          37940.63,
          37899.99,
          38081.78,
          38122.67,
          38090.01,
          38228.0,
          37992.01,
          37881.93,
          38173.57,
          38095.46,
          37921.37,
          37945.42,
          37825.49,
          37962.13,
          37822.24,
          37975.0,
          37813.89,
          37505.73,
          37665.0,
          37713.0,
          37767.09,
          37870.01,
          36821.39,
          36804.37,
          36965.9,
          36998.67,
          36894.99,
          36981.0,
          36901.05,
          37098.68,
          37124.29,
          37185.01,
          37274.01,
          37245.0,
          37063.91,
          37225.71,
          37484.04,
          37694.46,
          38304.62,
          38449.98,
          38446.43,
          38400.0,
          38432.32,
          38395.17,
          38385.61,
          38439.04
         ],
         "yaxis": "y",
         "type": "scatter"
        }
       ],
       "layout": {
        "template": {
         "data": {
          "histogram2dcontour": [
           {
            "type": "histogram2dcontour",
            "colorbar": {
             "outlinewidth": 0,
             "ticks": ""
            },
            "colorscale": [
             [
              0.0,
              "#0d0887"
             ],
             [
              0.1111111111111111,
              "#46039f"
             ],
             [
              0.2222222222222222,
              "#7201a8"
             ],
             [
              0.3333333333333333,
              "#9c179e"
             ],
             [
              0.4444444444444444,
              "#bd3786"
             ],
             [
              0.5555555555555556,
              "#d8576b"
             ],
             [
              0.6666666666666666,
              "#ed7953"
             ],
             [
              0.7777777777777778,
              "#fb9f3a"
             ],
             [
              0.8888888888888888,
              "#fdca26"
             ],
             [
              1.0,
              "#f0f921"
             ]
            ]
           }
          ],
          "choropleth": [
           {
            "type": "choropleth",
            "colorbar": {
             "outlinewidth": 0,
             "ticks": ""
            }
           }
          ],
          "histogram2d": [
           {
            "type": "histogram2d",
            "colorbar": {
             "outlinewidth": 0,
             "ticks": ""
            },
            "colorscale": [
             [
              0.0,
              "#0d0887"
             ],
             [
              0.1111111111111111,
              "#46039f"
             ],
             [
              0.2222222222222222,
              "#7201a8"
             ],
             [
              0.3333333333333333,
              "#9c179e"
             ],
             [
              0.4444444444444444,
              "#bd3786"
             ],
             [
              0.5555555555555556,
              "#d8576b"
             ],
             [
              0.6666666666666666,
              "#ed7953"
             ],
             [
              0.7777777777777778,
              "#fb9f3a"
             ],
             [
              0.8888888888888888,
              "#fdca26"
             ],
             [
              1.0,
              "#f0f921"
             ]
            ]
           }
          ],
          "heatmap": [
           {
            "type": "heatmap",
            "colorbar": {
             "outlinewidth": 0,
             "ticks": ""
            },
            "colorscale": [
             [
              0.0,
              "#0d0887"
             ],
             [
              0.1111111111111111,
              "#46039f"
             ],
             [
              0.2222222222222222,
              "#7201a8"
             ],
             [
              0.3333333333333333,
              "#9c179e"
             ],
             [
              0.4444444444444444,
              "#bd3786"
             ],
             [
              0.5555555555555556,
              "#d8576b"
             ],
             [
              0.6666666666666666,
              "#ed7953"
             ],
             [
              0.7777777777777778,
              "#fb9f3a"
             ],
             [
              0.8888888888888888,
              "#fdca26"
             ],
             [
              1.0,
              "#f0f921"
             ]
            ]
           }
          ],
          "heatmapgl": [
           {
            "type": "heatmapgl",
            "colorbar": {
             "outlinewidth": 0,
             "ticks": ""
            },
            "colorscale": [
             [
              0.0,
              "#0d0887"
             ],
             [
              0.1111111111111111,
              "#46039f"
             ],
             [
              0.2222222222222222,
              "#7201a8"
             ],
             [
              0.3333333333333333,
              "#9c179e"
             ],
             [
              0.4444444444444444,
              "#bd3786"
             ],
             [
              0.5555555555555556,
              "#d8576b"
             ],
             [
              0.6666666666666666,
              "#ed7953"
             ],
             [
              0.7777777777777778,
              "#fb9f3a"
             ],
             [
              0.8888888888888888,
              "#fdca26"
             ],
             [
              1.0,
              "#f0f921"
             ]
            ]
           }
          ],
          "contourcarpet": [
           {
            "type": "contourcarpet",
            "colorbar": {
             "outlinewidth": 0,
             "ticks": ""
            }
           }
          ],
          "contour": [
           {
            "type": "contour",
            "colorbar": {
             "outlinewidth": 0,
             "ticks": ""
            },
            "colorscale": [
             [
              0.0,
              "#0d0887"
             ],
             [
              0.1111111111111111,
              "#46039f"
             ],
             [
              0.2222222222222222,
              "#7201a8"
             ],
             [
              0.3333333333333333,
              "#9c179e"
             ],
             [
              0.4444444444444444,
              "#bd3786"
             ],
             [
              0.5555555555555556,
              "#d8576b"
             ],
             [
              0.6666666666666666,
              "#ed7953"
             ],
             [
              0.7777777777777778,
              "#fb9f3a"
             ],
             [
              0.8888888888888888,
              "#fdca26"
             ],
             [
              1.0,
              "#f0f921"
             ]
            ]
           }
          ],
          "surface": [
           {
            "type": "surface",
            "colorbar": {
             "outlinewidth": 0,
             "ticks": ""
            },
            "colorscale": [
             [
              0.0,
              "#0d0887"
             ],
             [
              0.1111111111111111,
              "#46039f"
             ],
             [
              0.2222222222222222,
              "#7201a8"
             ],
             [
              0.3333333333333333,
              "#9c179e"
             ],
             [
              0.4444444444444444,
              "#bd3786"
             ],
             [
              0.5555555555555556,
              "#d8576b"
             ],
             [
              0.6666666666666666,
              "#ed7953"
             ],
             [
              0.7777777777777778,
              "#fb9f3a"
             ],
             [
              0.8888888888888888,
              "#fdca26"
             ],
             [
              1.0,
              "#f0f921"
             ]
            ]
           }
          ],
          "mesh3d": [
           {
            "type": "mesh3d",
            "colorbar": {
             "outlinewidth": 0,
             "ticks": ""
            }
           }
          ],
          "scatter": [
           {
            "fillpattern": {
             "fillmode": "overlay",
             "size": 10,
             "solidity": 0.2
            },
            "type": "scatter"
           }
          ],
          "parcoords": [
           {
            "type": "parcoords",
            "line": {
             "colorbar": {
              "outlinewidth": 0,
              "ticks": ""
             }
            }
           }
          ],
          "scatterpolargl": [
           {
            "type": "scatterpolargl",
            "marker": {
             "colorbar": {
              "outlinewidth": 0,
              "ticks": ""
             }
            }
           }
          ],
          "bar": [
           {
            "error_x": {
             "color": "#2a3f5f"
            },
            "error_y": {
             "color": "#2a3f5f"
            },
            "marker": {
             "line": {
              "color": "#E5ECF6",
              "width": 0.5
             },
             "pattern": {
              "fillmode": "overlay",
              "size": 10,
              "solidity": 0.2
             }
            },
            "type": "bar"
           }
          ],
          "scattergeo": [
           {
            "type": "scattergeo",
            "marker": {
             "colorbar": {
              "outlinewidth": 0,
              "ticks": ""
             }
            }
           }
          ],
          "scatterpolar": [
           {
            "type": "scatterpolar",
            "marker": {
             "colorbar": {
              "outlinewidth": 0,
              "ticks": ""
             }
            }
           }
          ],
          "histogram": [
           {
            "marker": {
             "pattern": {
              "fillmode": "overlay",
              "size": 10,
              "solidity": 0.2
             }
            },
            "type": "histogram"
           }
          ],
          "scattergl": [
           {
            "type": "scattergl",
            "marker": {
             "colorbar": {
              "outlinewidth": 0,
              "ticks": ""
             }
            }
           }
          ],
          "scatter3d": [
           {
            "type": "scatter3d",
            "line": {
             "colorbar": {
              "outlinewidth": 0,
              "ticks": ""
             }
            },
            "marker": {
             "colorbar": {
              "outlinewidth": 0,
              "ticks": ""
             }
            }
           }
          ],
          "scattermapbox": [
           {
            "type": "scattermapbox",
            "marker": {
             "colorbar": {
              "outlinewidth": 0,
              "ticks": ""
             }
            }
           }
          ],
          "scatterternary": [
           {
            "type": "scatterternary",
            "marker": {
             "colorbar": {
              "outlinewidth": 0,
              "ticks": ""
             }
            }
           }
          ],
          "scattercarpet": [
           {
            "type": "scattercarpet",
            "marker": {
             "colorbar": {
              "outlinewidth": 0,
              "ticks": ""
             }
            }
           }
          ],
          "carpet": [
           {
            "aaxis": {
             "endlinecolor": "#2a3f5f",
             "gridcolor": "white",
             "linecolor": "white",
             "minorgridcolor": "white",
             "startlinecolor": "#2a3f5f"
            },
            "baxis": {
             "endlinecolor": "#2a3f5f",
             "gridcolor": "white",
             "linecolor": "white",
             "minorgridcolor": "white",
             "startlinecolor": "#2a3f5f"
            },
            "type": "carpet"
           }
          ],
          "table": [
           {
            "cells": {
             "fill": {
              "color": "#EBF0F8"
             },
             "line": {
              "color": "white"
             }
            },
            "header": {
             "fill": {
              "color": "#C8D4E3"
             },
             "line": {
              "color": "white"
             }
            },
            "type": "table"
           }
          ],
          "barpolar": [
           {
            "marker": {
             "line": {
              "color": "#E5ECF6",
              "width": 0.5
             },
             "pattern": {
              "fillmode": "overlay",
              "size": 10,
              "solidity": 0.2
             }
            },
            "type": "barpolar"
           }
          ],
          "pie": [
           {
            "automargin": true,
            "type": "pie"
           }
          ]
         },
         "layout": {
          "autotypenumbers": "strict",
          "colorway": [
           "#636efa",
           "#EF553B",
           "#00cc96",
           "#ab63fa",
           "#FFA15A",
           "#19d3f3",
           "#FF6692",
           "#B6E880",
           "#FF97FF",
           "#FECB52"
          ],
          "font": {
           "color": "#2a3f5f"
          },
          "hovermode": "closest",
          "hoverlabel": {
           "align": "left"
          },
          "paper_bgcolor": "white",
          "plot_bgcolor": "#E5ECF6",
          "polar": {
           "bgcolor": "#E5ECF6",
           "angularaxis": {
            "gridcolor": "white",
            "linecolor": "white",
            "ticks": ""
           },
           "radialaxis": {
            "gridcolor": "white",
            "linecolor": "white",
            "ticks": ""
           }
          },
          "ternary": {
           "bgcolor": "#E5ECF6",
           "aaxis": {
            "gridcolor": "white",
            "linecolor": "white",
            "ticks": ""
           },
           "baxis": {
            "gridcolor": "white",
            "linecolor": "white",
            "ticks": ""
           },
           "caxis": {
            "gridcolor": "white",
            "linecolor": "white",
            "ticks": ""
           }
          },
          "coloraxis": {
           "colorbar": {
            "outlinewidth": 0,
            "ticks": ""
           }
          },
          "colorscale": {
           "sequential": [
            [
             0.0,
             "#0d0887"
            ],
            [
             0.1111111111111111,
             "#46039f"
            ],
            [
             0.2222222222222222,
             "#7201a8"
            ],
            [
             0.3333333333333333,
             "#9c179e"
            ],
            [
             0.4444444444444444,
             "#bd3786"
            ],
            [
             0.5555555555555556,
             "#d8576b"
            ],
            [
             0.6666666666666666,
             "#ed7953"
            ],
            [
             0.7777777777777778,
             "#fb9f3a"
            ],
            [
             0.8888888888888888,
             "#fdca26"
            ],
            [
             1.0,
             "#f0f921"
            ]
           ],
           "sequentialminus": [
            [
             0.0,
             "#0d0887"
            ],
            [
             0.1111111111111111,
             "#46039f"
            ],
            [
             0.2222222222222222,
             "#7201a8"
            ],
            [
             0.3333333333333333,
             "#9c179e"
            ],
            [
             0.4444444444444444,
             "#bd3786"
            ],
            [
             0.5555555555555556,
             "#d8576b"
            ],
            [
             0.6666666666666666,
             "#ed7953"
            ],
            [
             0.7777777777777778,
             "#fb9f3a"
            ],
            [
             0.8888888888888888,
             "#fdca26"
            ],
            [
             1.0,
             "#f0f921"
            ]
           ],
           "diverging": [
            [
             0,
             "#8e0152"
            ],
            [
             0.1,
             "#c51b7d"
            ],
            [
             0.2,
             "#de77ae"
            ],
            [
             0.3,
             "#f1b6da"
            ],
            [
             0.4,
             "#fde0ef"
            ],
            [
             0.5,
             "#f7f7f7"
            ],
            [
             0.6,
             "#e6f5d0"
            ],
            [
             0.7,
             "#b8e186"
            ],
            [
             0.8,
             "#7fbc41"
            ],
            [
             0.9,
             "#4d9221"
            ],
            [
             1,
             "#276419"
            ]
           ]
          },
          "xaxis": {
           "gridcolor": "white",
           "linecolor": "white",
           "ticks": "",
           "title": {
            "standoff": 15
           },
           "zerolinecolor": "white",
           "automargin": true,
           "zerolinewidth": 2
          },
          "yaxis": {
           "gridcolor": "white",
           "linecolor": "white",
           "ticks": "",
           "title": {
            "standoff": 15
           },
           "zerolinecolor": "white",
           "automargin": true,
           "zerolinewidth": 2
          },
          "scene": {
           "xaxis": {
            "backgroundcolor": "#E5ECF6",
            "gridcolor": "white",
            "linecolor": "white",
            "showbackground": true,
            "ticks": "",
            "zerolinecolor": "white",
            "gridwidth": 2
           },
           "yaxis": {
            "backgroundcolor": "#E5ECF6",
            "gridcolor": "white",
            "linecolor": "white",
            "showbackground": true,
            "ticks": "",
            "zerolinecolor": "white",
            "gridwidth": 2
           },
           "zaxis": {
            "backgroundcolor": "#E5ECF6",
            "gridcolor": "white",
            "linecolor": "white",
            "showbackground": true,
            "ticks": "",
            "zerolinecolor": "white",
            "gridwidth": 2
           }
          },
          "shapedefaults": {
           "line": {
            "color": "#2a3f5f"
           }
          },
          "annotationdefaults": {
           "arrowcolor": "#2a3f5f",
           "arrowhead": 0,
           "arrowwidth": 1
          },
          "geo": {
           "bgcolor": "white",
           "landcolor": "#E5ECF6",
           "subunitcolor": "white",
           "showland": true,
           "showlakes": true,
           "lakecolor": "white"
          },
          "title": {
           "x": 0.05
          },
          "mapbox": {
           "style": "light"
          }
         }
        },
        "xaxis": {
         "anchor": "y",
         "domain": [
          0.0,
          1.0
         ],
         "title": {
          "text": "Date"
         }
        },
        "yaxis": {
         "anchor": "x",
         "domain": [
          0.0,
          1.0
         ],
         "title": {
          "text": "Price"
         },
         "range": [
          31426,
          50169
         ]
        },
        "legend": {
         "tracegroupgap": 0
        },
        "title": {
         "text": "BTC Price Data\nThresh=0.51\nTotal Amt: $99.33\nTotal Return: -0.67%"
        },
        "shapes": [
         {
          "line": {
           "color": "grey",
           "dash": "dash"
          },
          "opacity": 0.4,
          "type": "line",
          "x0": "2022-01-02T20:00:00",
          "x1": "2022-01-02T20:00:00",
          "y0": 16540,
          "y1": 71670
         },
         {
          "fillcolor": "red",
          "opacity": 0.1,
          "type": "rect",
          "x0": "2022-01-02T20:00:00",
          "x1": "2022-01-02T18:00:00",
          "y0": 16540,
          "y1": 71670
         },
         {
          "line": {
           "color": "grey",
           "dash": "dash"
          },
          "opacity": 0.3,
          "type": "line",
          "x0": "2022-01-02T17:00:00",
          "x1": "2022-01-02T17:00:00",
          "y0": 16540,
          "y1": 71670
         },
         {
          "line": {
           "color": "grey",
           "dash": "dash"
          },
          "opacity": 0.3,
          "type": "line",
          "x0": "2022-01-02T18:00:00",
          "x1": "2022-01-02T18:00:00",
          "y0": 16540,
          "y1": 71670
         },
         {
          "line": {
           "color": "grey",
           "dash": "dash"
          },
          "opacity": 0.3,
          "type": "line",
          "x0": "2022-01-02T20:00:00",
          "x1": "2022-01-02T20:00:00",
          "y0": 16540,
          "y1": 71670
         },
         {
          "line": {
           "color": "grey",
           "dash": "dash"
          },
          "opacity": 0.3,
          "type": "line",
          "x0": "2022-01-02T21:00:00",
          "x1": "2022-01-02T21:00:00",
          "y0": 16540,
          "y1": 71670
         },
         {
          "line": {
           "color": "grey",
           "dash": "dash"
          },
          "opacity": 0.3,
          "type": "line",
          "x0": "2022-01-02T22:00:00",
          "x1": "2022-01-02T22:00:00",
          "y0": 16540,
          "y1": 71670
         },
         {
          "line": {
           "color": "grey",
           "dash": "dash"
          },
          "opacity": 0.3,
          "type": "line",
          "x0": "2022-01-02T23:00:00",
          "x1": "2022-01-02T23:00:00",
          "y0": 16540,
          "y1": 71670
         },
         {
          "line": {
           "color": "grey",
           "dash": "dash"
          },
          "opacity": 0.3,
          "type": "line",
          "x0": "2022-01-03T00:00:00",
          "x1": "2022-01-03T00:00:00",
          "y0": 16540,
          "y1": 71670
         },
         {
          "line": {
           "color": "grey",
           "dash": "dash"
          },
          "opacity": 0.3,
          "type": "line",
          "x0": "2022-01-03T01:00:00",
          "x1": "2022-01-03T01:00:00",
          "y0": 16540,
          "y1": 71670
         },
         {
          "line": {
           "color": "grey",
           "dash": "dash"
          },
          "opacity": 0.3,
          "type": "line",
          "x0": "2022-01-03T02:00:00",
          "x1": "2022-01-03T02:00:00",
          "y0": 16540,
          "y1": 71670
         },
         {
          "line": {
           "color": "grey",
           "dash": "dash"
          },
          "opacity": 0.3,
          "type": "line",
          "x0": "2022-01-03T03:00:00",
          "x1": "2022-01-03T03:00:00",
          "y0": 16540,
          "y1": 71670
         },
         {
          "line": {
           "color": "grey",
           "dash": "dash"
          },
          "opacity": 0.3,
          "type": "line",
          "x0": "2022-01-03T04:00:00",
          "x1": "2022-01-03T04:00:00",
          "y0": 16540,
          "y1": 71670
         },
         {
          "line": {
           "color": "grey",
           "dash": "dash"
          },
          "opacity": 0.3,
          "type": "line",
          "x0": "2022-01-03T05:00:00",
          "x1": "2022-01-03T05:00:00",
          "y0": 16540,
          "y1": 71670
         },
         {
          "line": {
           "color": "grey",
           "dash": "dash"
          },
          "opacity": 0.3,
          "type": "line",
          "x0": "2022-01-03T06:00:00",
          "x1": "2022-01-03T06:00:00",
          "y0": 16540,
          "y1": 71670
         },
         {
          "line": {
           "color": "grey",
           "dash": "dash"
          },
          "opacity": 0.3,
          "type": "line",
          "x0": "2022-01-03T07:00:00",
          "x1": "2022-01-03T07:00:00",
          "y0": 16540,
          "y1": 71670
         },
         {
          "line": {
           "color": "grey",
           "dash": "dash"
          },
          "opacity": 0.3,
          "type": "line",
          "x0": "2022-01-03T08:00:00",
          "x1": "2022-01-03T08:00:00",
          "y0": 16540,
          "y1": 71670
         },
         {
          "line": {
           "color": "grey",
           "dash": "dash"
          },
          "opacity": 0.3,
          "type": "line",
          "x0": "2022-01-03T09:00:00",
          "x1": "2022-01-03T09:00:00",
          "y0": 16540,
          "y1": 71670
         },
         {
          "line": {
           "color": "grey",
           "dash": "dash"
          },
          "opacity": 0.3,
          "type": "line",
          "x0": "2022-01-03T10:00:00",
          "x1": "2022-01-03T10:00:00",
          "y0": 16540,
          "y1": 71670
         },
         {
          "line": {
           "color": "grey",
           "dash": "dash"
          },
          "opacity": 0.3,
          "type": "line",
          "x0": "2022-01-03T11:00:00",
          "x1": "2022-01-03T11:00:00",
          "y0": 16540,
          "y1": 71670
         },
         {
          "line": {
           "color": "grey",
           "dash": "dash"
          },
          "opacity": 0.3,
          "type": "line",
          "x0": "2022-01-03T12:00:00",
          "x1": "2022-01-03T12:00:00",
          "y0": 16540,
          "y1": 71670
         },
         {
          "line": {
           "color": "grey",
           "dash": "dash"
          },
          "opacity": 0.3,
          "type": "line",
          "x0": "2022-01-03T13:00:00",
          "x1": "2022-01-03T13:00:00",
          "y0": 16540,
          "y1": 71670
         },
         {
          "line": {
           "color": "grey",
           "dash": "dash"
          },
          "opacity": 0.3,
          "type": "line",
          "x0": "2022-01-03T14:00:00",
          "x1": "2022-01-03T14:00:00",
          "y0": 16540,
          "y1": 71670
         },
         {
          "line": {
           "color": "grey",
           "dash": "dash"
          },
          "opacity": 0.3,
          "type": "line",
          "x0": "2022-01-03T15:00:00",
          "x1": "2022-01-03T15:00:00",
          "y0": 16540,
          "y1": 71670
         },
         {
          "line": {
           "color": "grey",
           "dash": "dash"
          },
          "opacity": 0.3,
          "type": "line",
          "x0": "2022-01-03T16:00:00",
          "x1": "2022-01-03T16:00:00",
          "y0": 16540,
          "y1": 71670
         },
         {
          "line": {
           "color": "grey",
           "dash": "dash"
          },
          "opacity": 0.3,
          "type": "line",
          "x0": "2022-01-03T17:00:00",
          "x1": "2022-01-03T17:00:00",
          "y0": 16540,
          "y1": 71670
         },
         {
          "line": {
           "color": "grey",
           "dash": "dash"
          },
          "opacity": 0.3,
          "type": "line",
          "x0": "2022-01-03T18:00:00",
          "x1": "2022-01-03T18:00:00",
          "y0": 16540,
          "y1": 71670
         },
         {
          "line": {
           "color": "grey",
           "dash": "dash"
          },
          "opacity": 0.3,
          "type": "line",
          "x0": "2022-01-03T19:00:00",
          "x1": "2022-01-03T19:00:00",
          "y0": 16540,
          "y1": 71670
         },
         {
          "line": {
           "color": "grey",
           "dash": "dash"
          },
          "opacity": 0.3,
          "type": "line",
          "x0": "2022-01-03T20:00:00",
          "x1": "2022-01-03T20:00:00",
          "y0": 16540,
          "y1": 71670
         },
         {
          "line": {
           "color": "grey",
           "dash": "dash"
          },
          "opacity": 0.3,
          "type": "line",
          "x0": "2022-01-03T21:00:00",
          "x1": "2022-01-03T21:00:00",
          "y0": 16540,
          "y1": 71670
         },
         {
          "line": {
           "color": "grey",
           "dash": "dash"
          },
          "opacity": 0.3,
          "type": "line",
          "x0": "2022-01-04T05:00:00",
          "x1": "2022-01-04T05:00:00",
          "y0": 16540,
          "y1": 71670
         },
         {
          "line": {
           "color": "grey",
           "dash": "dash"
          },
          "opacity": 0.3,
          "type": "line",
          "x0": "2022-01-04T06:00:00",
          "x1": "2022-01-04T06:00:00",
          "y0": 16540,
          "y1": 71670
         },
         {
          "line": {
           "color": "grey",
           "dash": "dash"
          },
          "opacity": 0.3,
          "type": "line",
          "x0": "2022-01-04T07:00:00",
          "x1": "2022-01-04T07:00:00",
          "y0": 16540,
          "y1": 71670
         },
         {
          "line": {
           "color": "grey",
           "dash": "dash"
          },
          "opacity": 0.3,
          "type": "line",
          "x0": "2022-01-04T08:00:00",
          "x1": "2022-01-04T08:00:00",
          "y0": 16540,
          "y1": 71670
         },
         {
          "line": {
           "color": "grey",
           "dash": "dash"
          },
          "opacity": 0.3,
          "type": "line",
          "x0": "2022-01-04T09:00:00",
          "x1": "2022-01-04T09:00:00",
          "y0": 16540,
          "y1": 71670
         },
         {
          "line": {
           "color": "grey",
           "dash": "dash"
          },
          "opacity": 0.3,
          "type": "line",
          "x0": "2022-01-04T10:00:00",
          "x1": "2022-01-04T10:00:00",
          "y0": 16540,
          "y1": 71670
         },
         {
          "line": {
           "color": "grey",
           "dash": "dash"
          },
          "opacity": 0.3,
          "type": "line",
          "x0": "2022-01-04T11:00:00",
          "x1": "2022-01-04T11:00:00",
          "y0": 16540,
          "y1": 71670
         },
         {
          "line": {
           "color": "grey",
           "dash": "dash"
          },
          "opacity": 0.3,
          "type": "line",
          "x0": "2022-01-04T12:00:00",
          "x1": "2022-01-04T12:00:00",
          "y0": 16540,
          "y1": 71670
         },
         {
          "line": {
           "color": "grey",
           "dash": "dash"
          },
          "opacity": 0.3,
          "type": "line",
          "x0": "2022-01-04T13:00:00",
          "x1": "2022-01-04T13:00:00",
          "y0": 16540,
          "y1": 71670
         },
         {
          "line": {
           "color": "grey",
           "dash": "dash"
          },
          "opacity": 0.3,
          "type": "line",
          "x0": "2022-01-04T14:00:00",
          "x1": "2022-01-04T14:00:00",
          "y0": 16540,
          "y1": 71670
         },
         {
          "line": {
           "color": "grey",
           "dash": "dash"
          },
          "opacity": 0.3,
          "type": "line",
          "x0": "2022-01-04T15:00:00",
          "x1": "2022-01-04T15:00:00",
          "y0": 16540,
          "y1": 71670
         },
         {
          "line": {
           "color": "grey",
           "dash": "dash"
          },
          "opacity": 0.3,
          "type": "line",
          "x0": "2022-01-04T16:00:00",
          "x1": "2022-01-04T16:00:00",
          "y0": 16540,
          "y1": 71670
         },
         {
          "line": {
           "color": "grey",
           "dash": "dash"
          },
          "opacity": 0.3,
          "type": "line",
          "x0": "2022-01-04T17:00:00",
          "x1": "2022-01-04T17:00:00",
          "y0": 16540,
          "y1": 71670
         },
         {
          "line": {
           "color": "grey",
           "dash": "dash"
          },
          "opacity": 0.3,
          "type": "line",
          "x0": "2022-01-04T18:00:00",
          "x1": "2022-01-04T18:00:00",
          "y0": 16540,
          "y1": 71670
         },
         {
          "line": {
           "color": "grey",
           "dash": "dash"
          },
          "opacity": 0.3,
          "type": "line",
          "x0": "2022-01-04T19:00:00",
          "x1": "2022-01-04T19:00:00",
          "y0": 16540,
          "y1": 71670
         },
         {
          "line": {
           "color": "grey",
           "dash": "dash"
          },
          "opacity": 0.3,
          "type": "line",
          "x0": "2022-01-04T20:00:00",
          "x1": "2022-01-04T20:00:00",
          "y0": 16540,
          "y1": 71670
         },
         {
          "line": {
           "color": "grey",
           "dash": "dash"
          },
          "opacity": 0.3,
          "type": "line",
          "x0": "2022-01-04T21:00:00",
          "x1": "2022-01-04T21:00:00",
          "y0": 16540,
          "y1": 71670
         },
         {
          "line": {
           "color": "grey",
           "dash": "dash"
          },
          "opacity": 0.3,
          "type": "line",
          "x0": "2022-01-04T22:00:00",
          "x1": "2022-01-04T22:00:00",
          "y0": 16540,
          "y1": 71670
         },
         {
          "line": {
           "color": "grey",
           "dash": "dash"
          },
          "opacity": 0.3,
          "type": "line",
          "x0": "2022-01-04T23:00:00",
          "x1": "2022-01-04T23:00:00",
          "y0": 16540,
          "y1": 71670
         },
         {
          "line": {
           "color": "grey",
           "dash": "dash"
          },
          "opacity": 0.3,
          "type": "line",
          "x0": "2022-01-05T00:00:00",
          "x1": "2022-01-05T00:00:00",
          "y0": 16540,
          "y1": 71670
         },
         {
          "line": {
           "color": "grey",
           "dash": "dash"
          },
          "opacity": 0.3,
          "type": "line",
          "x0": "2022-01-05T01:00:00",
          "x1": "2022-01-05T01:00:00",
          "y0": 16540,
          "y1": 71670
         },
         {
          "line": {
           "color": "grey",
           "dash": "dash"
          },
          "opacity": 0.3,
          "type": "line",
          "x0": "2022-01-05T02:00:00",
          "x1": "2022-01-05T02:00:00",
          "y0": 16540,
          "y1": 71670
         },
         {
          "line": {
           "color": "grey",
           "dash": "dash"
          },
          "opacity": 0.3,
          "type": "line",
          "x0": "2022-01-05T03:00:00",
          "x1": "2022-01-05T03:00:00",
          "y0": 16540,
          "y1": 71670
         },
         {
          "line": {
           "color": "grey",
           "dash": "dash"
          },
          "opacity": 0.3,
          "type": "line",
          "x0": "2022-01-05T04:00:00",
          "x1": "2022-01-05T04:00:00",
          "y0": 16540,
          "y1": 71670
         },
         {
          "line": {
           "color": "grey",
           "dash": "dash"
          },
          "opacity": 0.3,
          "type": "line",
          "x0": "2022-01-05T05:00:00",
          "x1": "2022-01-05T05:00:00",
          "y0": 16540,
          "y1": 71670
         },
         {
          "line": {
           "color": "grey",
           "dash": "dash"
          },
          "opacity": 0.3,
          "type": "line",
          "x0": "2022-01-05T06:00:00",
          "x1": "2022-01-05T06:00:00",
          "y0": 16540,
          "y1": 71670
         },
         {
          "line": {
           "color": "grey",
           "dash": "dash"
          },
          "opacity": 0.3,
          "type": "line",
          "x0": "2022-01-05T07:00:00",
          "x1": "2022-01-05T07:00:00",
          "y0": 16540,
          "y1": 71670
         },
         {
          "line": {
           "color": "grey",
           "dash": "dash"
          },
          "opacity": 0.3,
          "type": "line",
          "x0": "2022-01-05T08:00:00",
          "x1": "2022-01-05T08:00:00",
          "y0": 16540,
          "y1": 71670
         },
         {
          "line": {
           "color": "grey",
           "dash": "dash"
          },
          "opacity": 0.3,
          "type": "line",
          "x0": "2022-01-05T09:00:00",
          "x1": "2022-01-05T09:00:00",
          "y0": 16540,
          "y1": 71670
         },
         {
          "line": {
           "color": "grey",
           "dash": "dash"
          },
          "opacity": 0.3,
          "type": "line",
          "x0": "2022-01-05T10:00:00",
          "x1": "2022-01-05T10:00:00",
          "y0": 16540,
          "y1": 71670
         },
         {
          "line": {
           "color": "grey",
           "dash": "dash"
          },
          "opacity": 0.3,
          "type": "line",
          "x0": "2022-01-05T11:00:00",
          "x1": "2022-01-05T11:00:00",
          "y0": 16540,
          "y1": 71670
         },
         {
          "line": {
           "color": "grey",
           "dash": "dash"
          },
          "opacity": 0.3,
          "type": "line",
          "x0": "2022-01-05T12:00:00",
          "x1": "2022-01-05T12:00:00",
          "y0": 16540,
          "y1": 71670
         },
         {
          "line": {
           "color": "grey",
           "dash": "dash"
          },
          "opacity": 0.3,
          "type": "line",
          "x0": "2022-01-05T13:00:00",
          "x1": "2022-01-05T13:00:00",
          "y0": 16540,
          "y1": 71670
         },
         {
          "line": {
           "color": "grey",
           "dash": "dash"
          },
          "opacity": 0.3,
          "type": "line",
          "x0": "2022-01-05T14:00:00",
          "x1": "2022-01-05T14:00:00",
          "y0": 16540,
          "y1": 71670
         },
         {
          "line": {
           "color": "grey",
           "dash": "dash"
          },
          "opacity": 0.3,
          "type": "line",
          "x0": "2022-01-05T15:00:00",
          "x1": "2022-01-05T15:00:00",
          "y0": 16540,
          "y1": 71670
         },
         {
          "line": {
           "color": "grey",
           "dash": "dash"
          },
          "opacity": 0.3,
          "type": "line",
          "x0": "2022-01-05T16:00:00",
          "x1": "2022-01-05T16:00:00",
          "y0": 16540,
          "y1": 71670
         },
         {
          "line": {
           "color": "grey",
           "dash": "dash"
          },
          "opacity": 0.3,
          "type": "line",
          "x0": "2022-01-05T17:00:00",
          "x1": "2022-01-05T17:00:00",
          "y0": 16540,
          "y1": 71670
         },
         {
          "line": {
           "color": "grey",
           "dash": "dash"
          },
          "opacity": 0.3,
          "type": "line",
          "x0": "2022-01-05T18:00:00",
          "x1": "2022-01-05T18:00:00",
          "y0": 16540,
          "y1": 71670
         },
         {
          "line": {
           "color": "grey",
           "dash": "dash"
          },
          "opacity": 0.3,
          "type": "line",
          "x0": "2022-01-05T19:00:00",
          "x1": "2022-01-05T19:00:00",
          "y0": 16540,
          "y1": 71670
         },
         {
          "line": {
           "color": "grey",
           "dash": "dash"
          },
          "opacity": 0.3,
          "type": "line",
          "x0": "2022-01-05T20:00:00",
          "x1": "2022-01-05T20:00:00",
          "y0": 16540,
          "y1": 71670
         },
         {
          "line": {
           "color": "grey",
           "dash": "dash"
          },
          "opacity": 0.3,
          "type": "line",
          "x0": "2022-01-05T21:00:00",
          "x1": "2022-01-05T21:00:00",
          "y0": 16540,
          "y1": 71670
         },
         {
          "line": {
           "color": "grey",
           "dash": "dash"
          },
          "opacity": 0.3,
          "type": "line",
          "x0": "2022-01-05T22:00:00",
          "x1": "2022-01-05T22:00:00",
          "y0": 16540,
          "y1": 71670
         },
         {
          "line": {
           "color": "grey",
           "dash": "dash"
          },
          "opacity": 0.3,
          "type": "line",
          "x0": "2022-01-06T21:00:00",
          "x1": "2022-01-06T21:00:00",
          "y0": 16540,
          "y1": 71670
         },
         {
          "line": {
           "color": "grey",
           "dash": "dash"
          },
          "opacity": 0.3,
          "type": "line",
          "x0": "2022-01-06T22:00:00",
          "x1": "2022-01-06T22:00:00",
          "y0": 16540,
          "y1": 71670
         },
         {
          "line": {
           "color": "grey",
           "dash": "dash"
          },
          "opacity": 0.3,
          "type": "line",
          "x0": "2022-01-08T11:00:00",
          "x1": "2022-01-08T11:00:00",
          "y0": 16540,
          "y1": 71670
         },
         {
          "line": {
           "color": "grey",
           "dash": "dash"
          },
          "opacity": 0.3,
          "type": "line",
          "x0": "2022-01-08T12:00:00",
          "x1": "2022-01-08T12:00:00",
          "y0": 16540,
          "y1": 71670
         },
         {
          "line": {
           "color": "grey",
           "dash": "dash"
          },
          "opacity": 0.3,
          "type": "line",
          "x0": "2022-01-08T13:00:00",
          "x1": "2022-01-08T13:00:00",
          "y0": 16540,
          "y1": 71670
         },
         {
          "line": {
           "color": "grey",
           "dash": "dash"
          },
          "opacity": 0.3,
          "type": "line",
          "x0": "2022-01-08T14:00:00",
          "x1": "2022-01-08T14:00:00",
          "y0": 16540,
          "y1": 71670
         },
         {
          "line": {
           "color": "grey",
           "dash": "dash"
          },
          "opacity": 0.3,
          "type": "line",
          "x0": "2022-01-09T02:00:00",
          "x1": "2022-01-09T02:00:00",
          "y0": 16540,
          "y1": 71670
         },
         {
          "line": {
           "color": "grey",
           "dash": "dash"
          },
          "opacity": 0.3,
          "type": "line",
          "x0": "2022-01-09T03:00:00",
          "x1": "2022-01-09T03:00:00",
          "y0": 16540,
          "y1": 71670
         },
         {
          "line": {
           "color": "grey",
           "dash": "dash"
          },
          "opacity": 0.3,
          "type": "line",
          "x0": "2022-01-09T04:00:00",
          "x1": "2022-01-09T04:00:00",
          "y0": 16540,
          "y1": 71670
         },
         {
          "line": {
           "color": "grey",
           "dash": "dash"
          },
          "opacity": 0.3,
          "type": "line",
          "x0": "2022-01-09T05:00:00",
          "x1": "2022-01-09T05:00:00",
          "y0": 16540,
          "y1": 71670
         },
         {
          "line": {
           "color": "grey",
           "dash": "dash"
          },
          "opacity": 0.3,
          "type": "line",
          "x0": "2022-01-09T06:00:00",
          "x1": "2022-01-09T06:00:00",
          "y0": 16540,
          "y1": 71670
         },
         {
          "line": {
           "color": "grey",
           "dash": "dash"
          },
          "opacity": 0.3,
          "type": "line",
          "x0": "2022-01-09T07:00:00",
          "x1": "2022-01-09T07:00:00",
          "y0": 16540,
          "y1": 71670
         },
         {
          "line": {
           "color": "grey",
           "dash": "dash"
          },
          "opacity": 0.3,
          "type": "line",
          "x0": "2022-01-09T08:00:00",
          "x1": "2022-01-09T08:00:00",
          "y0": 16540,
          "y1": 71670
         },
         {
          "line": {
           "color": "grey",
           "dash": "dash"
          },
          "opacity": 0.3,
          "type": "line",
          "x0": "2022-01-09T09:00:00",
          "x1": "2022-01-09T09:00:00",
          "y0": 16540,
          "y1": 71670
         },
         {
          "line": {
           "color": "grey",
           "dash": "dash"
          },
          "opacity": 0.3,
          "type": "line",
          "x0": "2022-01-09T10:00:00",
          "x1": "2022-01-09T10:00:00",
          "y0": 16540,
          "y1": 71670
         },
         {
          "line": {
           "color": "grey",
           "dash": "dash"
          },
          "opacity": 0.3,
          "type": "line",
          "x0": "2022-01-09T13:00:00",
          "x1": "2022-01-09T13:00:00",
          "y0": 16540,
          "y1": 71670
         },
         {
          "line": {
           "color": "grey",
           "dash": "dash"
          },
          "opacity": 0.3,
          "type": "line",
          "x0": "2022-01-09T14:00:00",
          "x1": "2022-01-09T14:00:00",
          "y0": 16540,
          "y1": 71670
         },
         {
          "line": {
           "color": "grey",
           "dash": "dash"
          },
          "opacity": 0.3,
          "type": "line",
          "x0": "2022-01-09T17:00:00",
          "x1": "2022-01-09T17:00:00",
          "y0": 16540,
          "y1": 71670
         },
         {
          "line": {
           "color": "grey",
           "dash": "dash"
          },
          "opacity": 0.3,
          "type": "line",
          "x0": "2022-01-09T18:00:00",
          "x1": "2022-01-09T18:00:00",
          "y0": 16540,
          "y1": 71670
         },
         {
          "line": {
           "color": "grey",
           "dash": "dash"
          },
          "opacity": 0.3,
          "type": "line",
          "x0": "2022-01-09T19:00:00",
          "x1": "2022-01-09T19:00:00",
          "y0": 16540,
          "y1": 71670
         },
         {
          "line": {
           "color": "grey",
           "dash": "dash"
          },
          "opacity": 0.3,
          "type": "line",
          "x0": "2022-01-09T20:00:00",
          "x1": "2022-01-09T20:00:00",
          "y0": 16540,
          "y1": 71670
         },
         {
          "line": {
           "color": "grey",
           "dash": "dash"
          },
          "opacity": 0.3,
          "type": "line",
          "x0": "2022-01-09T21:00:00",
          "x1": "2022-01-09T21:00:00",
          "y0": 16540,
          "y1": 71670
         },
         {
          "line": {
           "color": "grey",
           "dash": "dash"
          },
          "opacity": 0.3,
          "type": "line",
          "x0": "2022-01-09T22:00:00",
          "x1": "2022-01-09T22:00:00",
          "y0": 16540,
          "y1": 71670
         },
         {
          "line": {
           "color": "grey",
           "dash": "dash"
          },
          "opacity": 0.3,
          "type": "line",
          "x0": "2022-01-09T23:00:00",
          "x1": "2022-01-09T23:00:00",
          "y0": 16540,
          "y1": 71670
         },
         {
          "line": {
           "color": "grey",
           "dash": "dash"
          },
          "opacity": 0.3,
          "type": "line",
          "x0": "2022-01-10T00:00:00",
          "x1": "2022-01-10T00:00:00",
          "y0": 16540,
          "y1": 71670
         },
         {
          "line": {
           "color": "grey",
           "dash": "dash"
          },
          "opacity": 0.3,
          "type": "line",
          "x0": "2022-01-10T01:00:00",
          "x1": "2022-01-10T01:00:00",
          "y0": 16540,
          "y1": 71670
         },
         {
          "line": {
           "color": "grey",
           "dash": "dash"
          },
          "opacity": 0.3,
          "type": "line",
          "x0": "2022-01-10T04:00:00",
          "x1": "2022-01-10T04:00:00",
          "y0": 16540,
          "y1": 71670
         },
         {
          "line": {
           "color": "grey",
           "dash": "dash"
          },
          "opacity": 0.3,
          "type": "line",
          "x0": "2022-01-10T05:00:00",
          "x1": "2022-01-10T05:00:00",
          "y0": 16540,
          "y1": 71670
         },
         {
          "line": {
           "color": "grey",
           "dash": "dash"
          },
          "opacity": 0.3,
          "type": "line",
          "x0": "2022-01-10T06:00:00",
          "x1": "2022-01-10T06:00:00",
          "y0": 16540,
          "y1": 71670
         },
         {
          "line": {
           "color": "grey",
           "dash": "dash"
          },
          "opacity": 0.3,
          "type": "line",
          "x0": "2022-01-10T07:00:00",
          "x1": "2022-01-10T07:00:00",
          "y0": 16540,
          "y1": 71670
         },
         {
          "line": {
           "color": "grey",
           "dash": "dash"
          },
          "opacity": 0.3,
          "type": "line",
          "x0": "2022-01-10T08:00:00",
          "x1": "2022-01-10T08:00:00",
          "y0": 16540,
          "y1": 71670
         },
         {
          "line": {
           "color": "grey",
           "dash": "dash"
          },
          "opacity": 0.3,
          "type": "line",
          "x0": "2022-01-10T09:00:00",
          "x1": "2022-01-10T09:00:00",
          "y0": 16540,
          "y1": 71670
         },
         {
          "line": {
           "color": "grey",
           "dash": "dash"
          },
          "opacity": 0.3,
          "type": "line",
          "x0": "2022-01-10T10:00:00",
          "x1": "2022-01-10T10:00:00",
          "y0": 16540,
          "y1": 71670
         },
         {
          "line": {
           "color": "grey",
           "dash": "dash"
          },
          "opacity": 0.3,
          "type": "line",
          "x0": "2022-01-10T11:00:00",
          "x1": "2022-01-10T11:00:00",
          "y0": 16540,
          "y1": 71670
         },
         {
          "line": {
           "color": "grey",
           "dash": "dash"
          },
          "opacity": 0.3,
          "type": "line",
          "x0": "2022-01-10T12:00:00",
          "x1": "2022-01-10T12:00:00",
          "y0": 16540,
          "y1": 71670
         },
         {
          "line": {
           "color": "grey",
           "dash": "dash"
          },
          "opacity": 0.3,
          "type": "line",
          "x0": "2022-01-11T04:00:00",
          "x1": "2022-01-11T04:00:00",
          "y0": 16540,
          "y1": 71670
         },
         {
          "line": {
           "color": "grey",
           "dash": "dash"
          },
          "opacity": 0.3,
          "type": "line",
          "x0": "2022-01-11T05:00:00",
          "x1": "2022-01-11T05:00:00",
          "y0": 16540,
          "y1": 71670
         },
         {
          "line": {
           "color": "grey",
           "dash": "dash"
          },
          "opacity": 0.3,
          "type": "line",
          "x0": "2022-01-11T06:00:00",
          "x1": "2022-01-11T06:00:00",
          "y0": 16540,
          "y1": 71670
         },
         {
          "line": {
           "color": "grey",
           "dash": "dash"
          },
          "opacity": 0.3,
          "type": "line",
          "x0": "2022-01-11T07:00:00",
          "x1": "2022-01-11T07:00:00",
          "y0": 16540,
          "y1": 71670
         },
         {
          "line": {
           "color": "grey",
           "dash": "dash"
          },
          "opacity": 0.3,
          "type": "line",
          "x0": "2022-01-11T08:00:00",
          "x1": "2022-01-11T08:00:00",
          "y0": 16540,
          "y1": 71670
         },
         {
          "line": {
           "color": "grey",
           "dash": "dash"
          },
          "opacity": 0.3,
          "type": "line",
          "x0": "2022-01-11T09:00:00",
          "x1": "2022-01-11T09:00:00",
          "y0": 16540,
          "y1": 71670
         },
         {
          "line": {
           "color": "grey",
           "dash": "dash"
          },
          "opacity": 0.3,
          "type": "line",
          "x0": "2022-01-11T10:00:00",
          "x1": "2022-01-11T10:00:00",
          "y0": 16540,
          "y1": 71670
         },
         {
          "line": {
           "color": "grey",
           "dash": "dash"
          },
          "opacity": 0.3,
          "type": "line",
          "x0": "2022-01-11T11:00:00",
          "x1": "2022-01-11T11:00:00",
          "y0": 16540,
          "y1": 71670
         },
         {
          "line": {
           "color": "grey",
           "dash": "dash"
          },
          "opacity": 0.3,
          "type": "line",
          "x0": "2022-01-11T12:00:00",
          "x1": "2022-01-11T12:00:00",
          "y0": 16540,
          "y1": 71670
         },
         {
          "line": {
           "color": "grey",
           "dash": "dash"
          },
          "opacity": 0.3,
          "type": "line",
          "x0": "2022-01-11T13:00:00",
          "x1": "2022-01-11T13:00:00",
          "y0": 16540,
          "y1": 71670
         },
         {
          "line": {
           "color": "grey",
           "dash": "dash"
          },
          "opacity": 0.3,
          "type": "line",
          "x0": "2022-01-11T14:00:00",
          "x1": "2022-01-11T14:00:00",
          "y0": 16540,
          "y1": 71670
         },
         {
          "line": {
           "color": "grey",
           "dash": "dash"
          },
          "opacity": 0.3,
          "type": "line",
          "x0": "2022-01-11T18:00:00",
          "x1": "2022-01-11T18:00:00",
          "y0": 16540,
          "y1": 71670
         },
         {
          "line": {
           "color": "grey",
           "dash": "dash"
          },
          "opacity": 0.3,
          "type": "line",
          "x0": "2022-01-11T19:00:00",
          "x1": "2022-01-11T19:00:00",
          "y0": 16540,
          "y1": 71670
         },
         {
          "line": {
           "color": "grey",
           "dash": "dash"
          },
          "opacity": 0.3,
          "type": "line",
          "x0": "2022-01-11T20:00:00",
          "x1": "2022-01-11T20:00:00",
          "y0": 16540,
          "y1": 71670
         },
         {
          "line": {
           "color": "grey",
           "dash": "dash"
          },
          "opacity": 0.3,
          "type": "line",
          "x0": "2022-01-11T21:00:00",
          "x1": "2022-01-11T21:00:00",
          "y0": 16540,
          "y1": 71670
         },
         {
          "line": {
           "color": "grey",
           "dash": "dash"
          },
          "opacity": 0.3,
          "type": "line",
          "x0": "2022-01-11T22:00:00",
          "x1": "2022-01-11T22:00:00",
          "y0": 16540,
          "y1": 71670
         },
         {
          "line": {
           "color": "grey",
           "dash": "dash"
          },
          "opacity": 0.3,
          "type": "line",
          "x0": "2022-01-11T23:00:00",
          "x1": "2022-01-11T23:00:00",
          "y0": 16540,
          "y1": 71670
         },
         {
          "line": {
           "color": "grey",
           "dash": "dash"
          },
          "opacity": 0.3,
          "type": "line",
          "x0": "2022-01-12T00:00:00",
          "x1": "2022-01-12T00:00:00",
          "y0": 16540,
          "y1": 71670
         },
         {
          "line": {
           "color": "grey",
           "dash": "dash"
          },
          "opacity": 0.3,
          "type": "line",
          "x0": "2022-01-12T01:00:00",
          "x1": "2022-01-12T01:00:00",
          "y0": 16540,
          "y1": 71670
         },
         {
          "line": {
           "color": "grey",
           "dash": "dash"
          },
          "opacity": 0.3,
          "type": "line",
          "x0": "2022-01-12T02:00:00",
          "x1": "2022-01-12T02:00:00",
          "y0": 16540,
          "y1": 71670
         },
         {
          "line": {
           "color": "grey",
           "dash": "dash"
          },
          "opacity": 0.3,
          "type": "line",
          "x0": "2022-01-12T03:00:00",
          "x1": "2022-01-12T03:00:00",
          "y0": 16540,
          "y1": 71670
         },
         {
          "line": {
           "color": "grey",
           "dash": "dash"
          },
          "opacity": 0.3,
          "type": "line",
          "x0": "2022-01-12T04:00:00",
          "x1": "2022-01-12T04:00:00",
          "y0": 16540,
          "y1": 71670
         },
         {
          "line": {
           "color": "grey",
           "dash": "dash"
          },
          "opacity": 0.3,
          "type": "line",
          "x0": "2022-01-12T05:00:00",
          "x1": "2022-01-12T05:00:00",
          "y0": 16540,
          "y1": 71670
         },
         {
          "line": {
           "color": "grey",
           "dash": "dash"
          },
          "opacity": 0.3,
          "type": "line",
          "x0": "2022-01-12T06:00:00",
          "x1": "2022-01-12T06:00:00",
          "y0": 16540,
          "y1": 71670
         },
         {
          "line": {
           "color": "grey",
           "dash": "dash"
          },
          "opacity": 0.3,
          "type": "line",
          "x0": "2022-01-12T07:00:00",
          "x1": "2022-01-12T07:00:00",
          "y0": 16540,
          "y1": 71670
         },
         {
          "line": {
           "color": "grey",
           "dash": "dash"
          },
          "opacity": 0.3,
          "type": "line",
          "x0": "2022-01-12T08:00:00",
          "x1": "2022-01-12T08:00:00",
          "y0": 16540,
          "y1": 71670
         },
         {
          "line": {
           "color": "grey",
           "dash": "dash"
          },
          "opacity": 0.3,
          "type": "line",
          "x0": "2022-01-12T09:00:00",
          "x1": "2022-01-12T09:00:00",
          "y0": 16540,
          "y1": 71670
         },
         {
          "line": {
           "color": "grey",
           "dash": "dash"
          },
          "opacity": 0.3,
          "type": "line",
          "x0": "2022-01-12T10:00:00",
          "x1": "2022-01-12T10:00:00",
          "y0": 16540,
          "y1": 71670
         },
         {
          "line": {
           "color": "grey",
           "dash": "dash"
          },
          "opacity": 0.3,
          "type": "line",
          "x0": "2022-01-12T11:00:00",
          "x1": "2022-01-12T11:00:00",
          "y0": 16540,
          "y1": 71670
         },
         {
          "line": {
           "color": "grey",
           "dash": "dash"
          },
          "opacity": 0.3,
          "type": "line",
          "x0": "2022-01-12T12:00:00",
          "x1": "2022-01-12T12:00:00",
          "y0": 16540,
          "y1": 71670
         },
         {
          "line": {
           "color": "grey",
           "dash": "dash"
          },
          "opacity": 0.3,
          "type": "line",
          "x0": "2022-01-12T13:00:00",
          "x1": "2022-01-12T13:00:00",
          "y0": 16540,
          "y1": 71670
         },
         {
          "line": {
           "color": "grey",
           "dash": "dash"
          },
          "opacity": 0.3,
          "type": "line",
          "x0": "2022-01-12T14:00:00",
          "x1": "2022-01-12T14:00:00",
          "y0": 16540,
          "y1": 71670
         },
         {
          "line": {
           "color": "grey",
           "dash": "dash"
          },
          "opacity": 0.3,
          "type": "line",
          "x0": "2022-01-12T15:00:00",
          "x1": "2022-01-12T15:00:00",
          "y0": 16540,
          "y1": 71670
         },
         {
          "line": {
           "color": "grey",
           "dash": "dash"
          },
          "opacity": 0.3,
          "type": "line",
          "x0": "2022-01-12T16:00:00",
          "x1": "2022-01-12T16:00:00",
          "y0": 16540,
          "y1": 71670
         },
         {
          "line": {
           "color": "grey",
           "dash": "dash"
          },
          "opacity": 0.3,
          "type": "line",
          "x0": "2022-01-12T17:00:00",
          "x1": "2022-01-12T17:00:00",
          "y0": 16540,
          "y1": 71670
         },
         {
          "line": {
           "color": "grey",
           "dash": "dash"
          },
          "opacity": 0.3,
          "type": "line",
          "x0": "2022-01-12T18:00:00",
          "x1": "2022-01-12T18:00:00",
          "y0": 16540,
          "y1": 71670
         },
         {
          "line": {
           "color": "grey",
           "dash": "dash"
          },
          "opacity": 0.3,
          "type": "line",
          "x0": "2022-01-12T19:00:00",
          "x1": "2022-01-12T19:00:00",
          "y0": 16540,
          "y1": 71670
         },
         {
          "line": {
           "color": "grey",
           "dash": "dash"
          },
          "opacity": 0.3,
          "type": "line",
          "x0": "2022-01-12T20:00:00",
          "x1": "2022-01-12T20:00:00",
          "y0": 16540,
          "y1": 71670
         },
         {
          "line": {
           "color": "grey",
           "dash": "dash"
          },
          "opacity": 0.3,
          "type": "line",
          "x0": "2022-01-12T21:00:00",
          "x1": "2022-01-12T21:00:00",
          "y0": 16540,
          "y1": 71670
         },
         {
          "line": {
           "color": "grey",
           "dash": "dash"
          },
          "opacity": 0.3,
          "type": "line",
          "x0": "2022-01-12T22:00:00",
          "x1": "2022-01-12T22:00:00",
          "y0": 16540,
          "y1": 71670
         },
         {
          "line": {
           "color": "grey",
           "dash": "dash"
          },
          "opacity": 0.3,
          "type": "line",
          "x0": "2022-01-12T23:00:00",
          "x1": "2022-01-12T23:00:00",
          "y0": 16540,
          "y1": 71670
         },
         {
          "line": {
           "color": "grey",
           "dash": "dash"
          },
          "opacity": 0.3,
          "type": "line",
          "x0": "2022-01-13T00:00:00",
          "x1": "2022-01-13T00:00:00",
          "y0": 16540,
          "y1": 71670
         },
         {
          "line": {
           "color": "grey",
           "dash": "dash"
          },
          "opacity": 0.3,
          "type": "line",
          "x0": "2022-01-13T01:00:00",
          "x1": "2022-01-13T01:00:00",
          "y0": 16540,
          "y1": 71670
         },
         {
          "line": {
           "color": "grey",
           "dash": "dash"
          },
          "opacity": 0.3,
          "type": "line",
          "x0": "2022-01-13T02:00:00",
          "x1": "2022-01-13T02:00:00",
          "y0": 16540,
          "y1": 71670
         },
         {
          "line": {
           "color": "grey",
           "dash": "dash"
          },
          "opacity": 0.3,
          "type": "line",
          "x0": "2022-01-13T03:00:00",
          "x1": "2022-01-13T03:00:00",
          "y0": 16540,
          "y1": 71670
         },
         {
          "line": {
           "color": "grey",
           "dash": "dash"
          },
          "opacity": 0.3,
          "type": "line",
          "x0": "2022-01-13T04:00:00",
          "x1": "2022-01-13T04:00:00",
          "y0": 16540,
          "y1": 71670
         },
         {
          "line": {
           "color": "grey",
           "dash": "dash"
          },
          "opacity": 0.3,
          "type": "line",
          "x0": "2022-01-13T05:00:00",
          "x1": "2022-01-13T05:00:00",
          "y0": 16540,
          "y1": 71670
         },
         {
          "line": {
           "color": "grey",
           "dash": "dash"
          },
          "opacity": 0.3,
          "type": "line",
          "x0": "2022-01-13T06:00:00",
          "x1": "2022-01-13T06:00:00",
          "y0": 16540,
          "y1": 71670
         },
         {
          "line": {
           "color": "grey",
           "dash": "dash"
          },
          "opacity": 0.3,
          "type": "line",
          "x0": "2022-01-13T07:00:00",
          "x1": "2022-01-13T07:00:00",
          "y0": 16540,
          "y1": 71670
         },
         {
          "line": {
           "color": "grey",
           "dash": "dash"
          },
          "opacity": 0.3,
          "type": "line",
          "x0": "2022-01-13T08:00:00",
          "x1": "2022-01-13T08:00:00",
          "y0": 16540,
          "y1": 71670
         },
         {
          "line": {
           "color": "grey",
           "dash": "dash"
          },
          "opacity": 0.3,
          "type": "line",
          "x0": "2022-01-13T09:00:00",
          "x1": "2022-01-13T09:00:00",
          "y0": 16540,
          "y1": 71670
         },
         {
          "line": {
           "color": "grey",
           "dash": "dash"
          },
          "opacity": 0.3,
          "type": "line",
          "x0": "2022-01-13T10:00:00",
          "x1": "2022-01-13T10:00:00",
          "y0": 16540,
          "y1": 71670
         },
         {
          "line": {
           "color": "grey",
           "dash": "dash"
          },
          "opacity": 0.3,
          "type": "line",
          "x0": "2022-01-13T11:00:00",
          "x1": "2022-01-13T11:00:00",
          "y0": 16540,
          "y1": 71670
         },
         {
          "line": {
           "color": "grey",
           "dash": "dash"
          },
          "opacity": 0.3,
          "type": "line",
          "x0": "2022-01-13T12:00:00",
          "x1": "2022-01-13T12:00:00",
          "y0": 16540,
          "y1": 71670
         },
         {
          "line": {
           "color": "grey",
           "dash": "dash"
          },
          "opacity": 0.3,
          "type": "line",
          "x0": "2022-01-13T13:00:00",
          "x1": "2022-01-13T13:00:00",
          "y0": 16540,
          "y1": 71670
         },
         {
          "line": {
           "color": "grey",
           "dash": "dash"
          },
          "opacity": 0.3,
          "type": "line",
          "x0": "2022-01-13T14:00:00",
          "x1": "2022-01-13T14:00:00",
          "y0": 16540,
          "y1": 71670
         },
         {
          "line": {
           "color": "grey",
           "dash": "dash"
          },
          "opacity": 0.3,
          "type": "line",
          "x0": "2022-01-13T15:00:00",
          "x1": "2022-01-13T15:00:00",
          "y0": 16540,
          "y1": 71670
         },
         {
          "line": {
           "color": "grey",
           "dash": "dash"
          },
          "opacity": 0.3,
          "type": "line",
          "x0": "2022-01-13T16:00:00",
          "x1": "2022-01-13T16:00:00",
          "y0": 16540,
          "y1": 71670
         },
         {
          "line": {
           "color": "grey",
           "dash": "dash"
          },
          "opacity": 0.3,
          "type": "line",
          "x0": "2022-01-13T17:00:00",
          "x1": "2022-01-13T17:00:00",
          "y0": 16540,
          "y1": 71670
         },
         {
          "line": {
           "color": "grey",
           "dash": "dash"
          },
          "opacity": 0.3,
          "type": "line",
          "x0": "2022-01-13T18:00:00",
          "x1": "2022-01-13T18:00:00",
          "y0": 16540,
          "y1": 71670
         },
         {
          "line": {
           "color": "grey",
           "dash": "dash"
          },
          "opacity": 0.3,
          "type": "line",
          "x0": "2022-01-13T19:00:00",
          "x1": "2022-01-13T19:00:00",
          "y0": 16540,
          "y1": 71670
         },
         {
          "line": {
           "color": "grey",
           "dash": "dash"
          },
          "opacity": 0.3,
          "type": "line",
          "x0": "2022-01-13T20:00:00",
          "x1": "2022-01-13T20:00:00",
          "y0": 16540,
          "y1": 71670
         },
         {
          "line": {
           "color": "grey",
           "dash": "dash"
          },
          "opacity": 0.3,
          "type": "line",
          "x0": "2022-01-13T21:00:00",
          "x1": "2022-01-13T21:00:00",
          "y0": 16540,
          "y1": 71670
         },
         {
          "line": {
           "color": "grey",
           "dash": "dash"
          },
          "opacity": 0.3,
          "type": "line",
          "x0": "2022-01-13T22:00:00",
          "x1": "2022-01-13T22:00:00",
          "y0": 16540,
          "y1": 71670
         },
         {
          "line": {
           "color": "grey",
           "dash": "dash"
          },
          "opacity": 0.3,
          "type": "line",
          "x0": "2022-01-13T23:00:00",
          "x1": "2022-01-13T23:00:00",
          "y0": 16540,
          "y1": 71670
         },
         {
          "line": {
           "color": "grey",
           "dash": "dash"
          },
          "opacity": 0.3,
          "type": "line",
          "x0": "2022-01-14T00:00:00",
          "x1": "2022-01-14T00:00:00",
          "y0": 16540,
          "y1": 71670
         },
         {
          "line": {
           "color": "grey",
           "dash": "dash"
          },
          "opacity": 0.3,
          "type": "line",
          "x0": "2022-01-14T01:00:00",
          "x1": "2022-01-14T01:00:00",
          "y0": 16540,
          "y1": 71670
         },
         {
          "line": {
           "color": "grey",
           "dash": "dash"
          },
          "opacity": 0.3,
          "type": "line",
          "x0": "2022-01-14T02:00:00",
          "x1": "2022-01-14T02:00:00",
          "y0": 16540,
          "y1": 71670
         },
         {
          "line": {
           "color": "grey",
           "dash": "dash"
          },
          "opacity": 0.3,
          "type": "line",
          "x0": "2022-01-14T03:00:00",
          "x1": "2022-01-14T03:00:00",
          "y0": 16540,
          "y1": 71670
         },
         {
          "line": {
           "color": "grey",
           "dash": "dash"
          },
          "opacity": 0.3,
          "type": "line",
          "x0": "2022-01-14T04:00:00",
          "x1": "2022-01-14T04:00:00",
          "y0": 16540,
          "y1": 71670
         },
         {
          "line": {
           "color": "grey",
           "dash": "dash"
          },
          "opacity": 0.3,
          "type": "line",
          "x0": "2022-01-14T05:00:00",
          "x1": "2022-01-14T05:00:00",
          "y0": 16540,
          "y1": 71670
         },
         {
          "line": {
           "color": "grey",
           "dash": "dash"
          },
          "opacity": 0.3,
          "type": "line",
          "x0": "2022-01-14T06:00:00",
          "x1": "2022-01-14T06:00:00",
          "y0": 16540,
          "y1": 71670
         },
         {
          "line": {
           "color": "grey",
           "dash": "dash"
          },
          "opacity": 0.3,
          "type": "line",
          "x0": "2022-01-14T07:00:00",
          "x1": "2022-01-14T07:00:00",
          "y0": 16540,
          "y1": 71670
         },
         {
          "line": {
           "color": "grey",
           "dash": "dash"
          },
          "opacity": 0.3,
          "type": "line",
          "x0": "2022-01-14T08:00:00",
          "x1": "2022-01-14T08:00:00",
          "y0": 16540,
          "y1": 71670
         },
         {
          "line": {
           "color": "grey",
           "dash": "dash"
          },
          "opacity": 0.3,
          "type": "line",
          "x0": "2022-01-14T09:00:00",
          "x1": "2022-01-14T09:00:00",
          "y0": 16540,
          "y1": 71670
         },
         {
          "line": {
           "color": "grey",
           "dash": "dash"
          },
          "opacity": 0.3,
          "type": "line",
          "x0": "2022-01-14T10:00:00",
          "x1": "2022-01-14T10:00:00",
          "y0": 16540,
          "y1": 71670
         },
         {
          "line": {
           "color": "grey",
           "dash": "dash"
          },
          "opacity": 0.3,
          "type": "line",
          "x0": "2022-01-14T11:00:00",
          "x1": "2022-01-14T11:00:00",
          "y0": 16540,
          "y1": 71670
         },
         {
          "line": {
           "color": "grey",
           "dash": "dash"
          },
          "opacity": 0.3,
          "type": "line",
          "x0": "2022-01-14T12:00:00",
          "x1": "2022-01-14T12:00:00",
          "y0": 16540,
          "y1": 71670
         },
         {
          "line": {
           "color": "grey",
           "dash": "dash"
          },
          "opacity": 0.3,
          "type": "line",
          "x0": "2022-01-14T13:00:00",
          "x1": "2022-01-14T13:00:00",
          "y0": 16540,
          "y1": 71670
         },
         {
          "line": {
           "color": "grey",
           "dash": "dash"
          },
          "opacity": 0.3,
          "type": "line",
          "x0": "2022-01-14T14:00:00",
          "x1": "2022-01-14T14:00:00",
          "y0": 16540,
          "y1": 71670
         },
         {
          "line": {
           "color": "grey",
           "dash": "dash"
          },
          "opacity": 0.3,
          "type": "line",
          "x0": "2022-01-14T15:00:00",
          "x1": "2022-01-14T15:00:00",
          "y0": 16540,
          "y1": 71670
         },
         {
          "line": {
           "color": "grey",
           "dash": "dash"
          },
          "opacity": 0.3,
          "type": "line",
          "x0": "2022-01-14T16:00:00",
          "x1": "2022-01-14T16:00:00",
          "y0": 16540,
          "y1": 71670
         },
         {
          "line": {
           "color": "grey",
           "dash": "dash"
          },
          "opacity": 0.3,
          "type": "line",
          "x0": "2022-01-14T17:00:00",
          "x1": "2022-01-14T17:00:00",
          "y0": 16540,
          "y1": 71670
         },
         {
          "line": {
           "color": "grey",
           "dash": "dash"
          },
          "opacity": 0.3,
          "type": "line",
          "x0": "2022-01-14T18:00:00",
          "x1": "2022-01-14T18:00:00",
          "y0": 16540,
          "y1": 71670
         },
         {
          "line": {
           "color": "grey",
           "dash": "dash"
          },
          "opacity": 0.3,
          "type": "line",
          "x0": "2022-01-14T19:00:00",
          "x1": "2022-01-14T19:00:00",
          "y0": 16540,
          "y1": 71670
         },
         {
          "line": {
           "color": "grey",
           "dash": "dash"
          },
          "opacity": 0.3,
          "type": "line",
          "x0": "2022-01-14T20:00:00",
          "x1": "2022-01-14T20:00:00",
          "y0": 16540,
          "y1": 71670
         },
         {
          "line": {
           "color": "grey",
           "dash": "dash"
          },
          "opacity": 0.3,
          "type": "line",
          "x0": "2022-01-14T21:00:00",
          "x1": "2022-01-14T21:00:00",
          "y0": 16540,
          "y1": 71670
         },
         {
          "line": {
           "color": "grey",
           "dash": "dash"
          },
          "opacity": 0.3,
          "type": "line",
          "x0": "2022-01-14T22:00:00",
          "x1": "2022-01-14T22:00:00",
          "y0": 16540,
          "y1": 71670
         },
         {
          "line": {
           "color": "grey",
           "dash": "dash"
          },
          "opacity": 0.3,
          "type": "line",
          "x0": "2022-01-14T23:00:00",
          "x1": "2022-01-14T23:00:00",
          "y0": 16540,
          "y1": 71670
         },
         {
          "line": {
           "color": "grey",
           "dash": "dash"
          },
          "opacity": 0.3,
          "type": "line",
          "x0": "2022-01-15T00:00:00",
          "x1": "2022-01-15T00:00:00",
          "y0": 16540,
          "y1": 71670
         },
         {
          "line": {
           "color": "grey",
           "dash": "dash"
          },
          "opacity": 0.3,
          "type": "line",
          "x0": "2022-01-15T01:00:00",
          "x1": "2022-01-15T01:00:00",
          "y0": 16540,
          "y1": 71670
         },
         {
          "line": {
           "color": "grey",
           "dash": "dash"
          },
          "opacity": 0.3,
          "type": "line",
          "x0": "2022-01-15T02:00:00",
          "x1": "2022-01-15T02:00:00",
          "y0": 16540,
          "y1": 71670
         },
         {
          "line": {
           "color": "grey",
           "dash": "dash"
          },
          "opacity": 0.3,
          "type": "line",
          "x0": "2022-01-15T03:00:00",
          "x1": "2022-01-15T03:00:00",
          "y0": 16540,
          "y1": 71670
         },
         {
          "line": {
           "color": "grey",
           "dash": "dash"
          },
          "opacity": 0.3,
          "type": "line",
          "x0": "2022-01-15T04:00:00",
          "x1": "2022-01-15T04:00:00",
          "y0": 16540,
          "y1": 71670
         },
         {
          "line": {
           "color": "grey",
           "dash": "dash"
          },
          "opacity": 0.3,
          "type": "line",
          "x0": "2022-01-15T05:00:00",
          "x1": "2022-01-15T05:00:00",
          "y0": 16540,
          "y1": 71670
         },
         {
          "line": {
           "color": "grey",
           "dash": "dash"
          },
          "opacity": 0.3,
          "type": "line",
          "x0": "2022-01-15T06:00:00",
          "x1": "2022-01-15T06:00:00",
          "y0": 16540,
          "y1": 71670
         },
         {
          "line": {
           "color": "grey",
           "dash": "dash"
          },
          "opacity": 0.3,
          "type": "line",
          "x0": "2022-01-15T07:00:00",
          "x1": "2022-01-15T07:00:00",
          "y0": 16540,
          "y1": 71670
         },
         {
          "line": {
           "color": "grey",
           "dash": "dash"
          },
          "opacity": 0.3,
          "type": "line",
          "x0": "2022-01-15T08:00:00",
          "x1": "2022-01-15T08:00:00",
          "y0": 16540,
          "y1": 71670
         },
         {
          "line": {
           "color": "grey",
           "dash": "dash"
          },
          "opacity": 0.3,
          "type": "line",
          "x0": "2022-01-15T09:00:00",
          "x1": "2022-01-15T09:00:00",
          "y0": 16540,
          "y1": 71670
         },
         {
          "line": {
           "color": "grey",
           "dash": "dash"
          },
          "opacity": 0.3,
          "type": "line",
          "x0": "2022-01-15T10:00:00",
          "x1": "2022-01-15T10:00:00",
          "y0": 16540,
          "y1": 71670
         },
         {
          "line": {
           "color": "grey",
           "dash": "dash"
          },
          "opacity": 0.3,
          "type": "line",
          "x0": "2022-01-15T11:00:00",
          "x1": "2022-01-15T11:00:00",
          "y0": 16540,
          "y1": 71670
         },
         {
          "line": {
           "color": "grey",
           "dash": "dash"
          },
          "opacity": 0.3,
          "type": "line",
          "x0": "2022-01-15T12:00:00",
          "x1": "2022-01-15T12:00:00",
          "y0": 16540,
          "y1": 71670
         },
         {
          "line": {
           "color": "grey",
           "dash": "dash"
          },
          "opacity": 0.3,
          "type": "line",
          "x0": "2022-01-15T13:00:00",
          "x1": "2022-01-15T13:00:00",
          "y0": 16540,
          "y1": 71670
         },
         {
          "line": {
           "color": "grey",
           "dash": "dash"
          },
          "opacity": 0.3,
          "type": "line",
          "x0": "2022-01-15T14:00:00",
          "x1": "2022-01-15T14:00:00",
          "y0": 16540,
          "y1": 71670
         },
         {
          "line": {
           "color": "grey",
           "dash": "dash"
          },
          "opacity": 0.3,
          "type": "line",
          "x0": "2022-01-15T15:00:00",
          "x1": "2022-01-15T15:00:00",
          "y0": 16540,
          "y1": 71670
         },
         {
          "line": {
           "color": "grey",
           "dash": "dash"
          },
          "opacity": 0.3,
          "type": "line",
          "x0": "2022-01-15T16:00:00",
          "x1": "2022-01-15T16:00:00",
          "y0": 16540,
          "y1": 71670
         },
         {
          "line": {
           "color": "grey",
           "dash": "dash"
          },
          "opacity": 0.3,
          "type": "line",
          "x0": "2022-01-15T17:00:00",
          "x1": "2022-01-15T17:00:00",
          "y0": 16540,
          "y1": 71670
         },
         {
          "line": {
           "color": "grey",
           "dash": "dash"
          },
          "opacity": 0.3,
          "type": "line",
          "x0": "2022-01-15T18:00:00",
          "x1": "2022-01-15T18:00:00",
          "y0": 16540,
          "y1": 71670
         },
         {
          "line": {
           "color": "grey",
           "dash": "dash"
          },
          "opacity": 0.3,
          "type": "line",
          "x0": "2022-01-15T19:00:00",
          "x1": "2022-01-15T19:00:00",
          "y0": 16540,
          "y1": 71670
         },
         {
          "line": {
           "color": "grey",
           "dash": "dash"
          },
          "opacity": 0.3,
          "type": "line",
          "x0": "2022-01-15T20:00:00",
          "x1": "2022-01-15T20:00:00",
          "y0": 16540,
          "y1": 71670
         },
         {
          "line": {
           "color": "grey",
           "dash": "dash"
          },
          "opacity": 0.3,
          "type": "line",
          "x0": "2022-01-15T21:00:00",
          "x1": "2022-01-15T21:00:00",
          "y0": 16540,
          "y1": 71670
         },
         {
          "line": {
           "color": "grey",
           "dash": "dash"
          },
          "opacity": 0.3,
          "type": "line",
          "x0": "2022-01-15T22:00:00",
          "x1": "2022-01-15T22:00:00",
          "y0": 16540,
          "y1": 71670
         },
         {
          "line": {
           "color": "grey",
           "dash": "dash"
          },
          "opacity": 0.3,
          "type": "line",
          "x0": "2022-01-15T23:00:00",
          "x1": "2022-01-15T23:00:00",
          "y0": 16540,
          "y1": 71670
         },
         {
          "line": {
           "color": "grey",
           "dash": "dash"
          },
          "opacity": 0.3,
          "type": "line",
          "x0": "2022-01-16T00:00:00",
          "x1": "2022-01-16T00:00:00",
          "y0": 16540,
          "y1": 71670
         },
         {
          "line": {
           "color": "grey",
           "dash": "dash"
          },
          "opacity": 0.3,
          "type": "line",
          "x0": "2022-01-16T01:00:00",
          "x1": "2022-01-16T01:00:00",
          "y0": 16540,
          "y1": 71670
         },
         {
          "line": {
           "color": "grey",
           "dash": "dash"
          },
          "opacity": 0.3,
          "type": "line",
          "x0": "2022-01-16T02:00:00",
          "x1": "2022-01-16T02:00:00",
          "y0": 16540,
          "y1": 71670
         },
         {
          "line": {
           "color": "grey",
           "dash": "dash"
          },
          "opacity": 0.3,
          "type": "line",
          "x0": "2022-01-16T03:00:00",
          "x1": "2022-01-16T03:00:00",
          "y0": 16540,
          "y1": 71670
         },
         {
          "line": {
           "color": "grey",
           "dash": "dash"
          },
          "opacity": 0.3,
          "type": "line",
          "x0": "2022-01-16T04:00:00",
          "x1": "2022-01-16T04:00:00",
          "y0": 16540,
          "y1": 71670
         },
         {
          "line": {
           "color": "grey",
           "dash": "dash"
          },
          "opacity": 0.3,
          "type": "line",
          "x0": "2022-01-16T05:00:00",
          "x1": "2022-01-16T05:00:00",
          "y0": 16540,
          "y1": 71670
         },
         {
          "line": {
           "color": "grey",
           "dash": "dash"
          },
          "opacity": 0.3,
          "type": "line",
          "x0": "2022-01-16T06:00:00",
          "x1": "2022-01-16T06:00:00",
          "y0": 16540,
          "y1": 71670
         },
         {
          "line": {
           "color": "grey",
           "dash": "dash"
          },
          "opacity": 0.3,
          "type": "line",
          "x0": "2022-01-16T07:00:00",
          "x1": "2022-01-16T07:00:00",
          "y0": 16540,
          "y1": 71670
         },
         {
          "line": {
           "color": "grey",
           "dash": "dash"
          },
          "opacity": 0.3,
          "type": "line",
          "x0": "2022-01-16T08:00:00",
          "x1": "2022-01-16T08:00:00",
          "y0": 16540,
          "y1": 71670
         },
         {
          "line": {
           "color": "grey",
           "dash": "dash"
          },
          "opacity": 0.3,
          "type": "line",
          "x0": "2022-01-16T09:00:00",
          "x1": "2022-01-16T09:00:00",
          "y0": 16540,
          "y1": 71670
         },
         {
          "line": {
           "color": "grey",
           "dash": "dash"
          },
          "opacity": 0.3,
          "type": "line",
          "x0": "2022-01-16T10:00:00",
          "x1": "2022-01-16T10:00:00",
          "y0": 16540,
          "y1": 71670
         },
         {
          "line": {
           "color": "grey",
           "dash": "dash"
          },
          "opacity": 0.3,
          "type": "line",
          "x0": "2022-01-16T11:00:00",
          "x1": "2022-01-16T11:00:00",
          "y0": 16540,
          "y1": 71670
         },
         {
          "line": {
           "color": "grey",
           "dash": "dash"
          },
          "opacity": 0.3,
          "type": "line",
          "x0": "2022-01-16T12:00:00",
          "x1": "2022-01-16T12:00:00",
          "y0": 16540,
          "y1": 71670
         },
         {
          "line": {
           "color": "grey",
           "dash": "dash"
          },
          "opacity": 0.3,
          "type": "line",
          "x0": "2022-01-16T13:00:00",
          "x1": "2022-01-16T13:00:00",
          "y0": 16540,
          "y1": 71670
         },
         {
          "line": {
           "color": "grey",
           "dash": "dash"
          },
          "opacity": 0.3,
          "type": "line",
          "x0": "2022-01-16T14:00:00",
          "x1": "2022-01-16T14:00:00",
          "y0": 16540,
          "y1": 71670
         },
         {
          "line": {
           "color": "grey",
           "dash": "dash"
          },
          "opacity": 0.3,
          "type": "line",
          "x0": "2022-01-16T15:00:00",
          "x1": "2022-01-16T15:00:00",
          "y0": 16540,
          "y1": 71670
         },
         {
          "line": {
           "color": "grey",
           "dash": "dash"
          },
          "opacity": 0.3,
          "type": "line",
          "x0": "2022-01-16T16:00:00",
          "x1": "2022-01-16T16:00:00",
          "y0": 16540,
          "y1": 71670
         },
         {
          "line": {
           "color": "grey",
           "dash": "dash"
          },
          "opacity": 0.3,
          "type": "line",
          "x0": "2022-01-16T17:00:00",
          "x1": "2022-01-16T17:00:00",
          "y0": 16540,
          "y1": 71670
         },
         {
          "line": {
           "color": "grey",
           "dash": "dash"
          },
          "opacity": 0.3,
          "type": "line",
          "x0": "2022-01-16T18:00:00",
          "x1": "2022-01-16T18:00:00",
          "y0": 16540,
          "y1": 71670
         },
         {
          "line": {
           "color": "grey",
           "dash": "dash"
          },
          "opacity": 0.3,
          "type": "line",
          "x0": "2022-01-16T19:00:00",
          "x1": "2022-01-16T19:00:00",
          "y0": 16540,
          "y1": 71670
         },
         {
          "line": {
           "color": "grey",
           "dash": "dash"
          },
          "opacity": 0.3,
          "type": "line",
          "x0": "2022-01-16T20:00:00",
          "x1": "2022-01-16T20:00:00",
          "y0": 16540,
          "y1": 71670
         },
         {
          "line": {
           "color": "grey",
           "dash": "dash"
          },
          "opacity": 0.3,
          "type": "line",
          "x0": "2022-01-16T21:00:00",
          "x1": "2022-01-16T21:00:00",
          "y0": 16540,
          "y1": 71670
         },
         {
          "line": {
           "color": "grey",
           "dash": "dash"
          },
          "opacity": 0.3,
          "type": "line",
          "x0": "2022-01-16T22:00:00",
          "x1": "2022-01-16T22:00:00",
          "y0": 16540,
          "y1": 71670
         },
         {
          "line": {
           "color": "grey",
           "dash": "dash"
          },
          "opacity": 0.3,
          "type": "line",
          "x0": "2022-01-16T23:00:00",
          "x1": "2022-01-16T23:00:00",
          "y0": 16540,
          "y1": 71670
         },
         {
          "line": {
           "color": "grey",
           "dash": "dash"
          },
          "opacity": 0.3,
          "type": "line",
          "x0": "2022-01-17T00:00:00",
          "x1": "2022-01-17T00:00:00",
          "y0": 16540,
          "y1": 71670
         },
         {
          "line": {
           "color": "grey",
           "dash": "dash"
          },
          "opacity": 0.3,
          "type": "line",
          "x0": "2022-01-17T01:00:00",
          "x1": "2022-01-17T01:00:00",
          "y0": 16540,
          "y1": 71670
         },
         {
          "line": {
           "color": "grey",
           "dash": "dash"
          },
          "opacity": 0.3,
          "type": "line",
          "x0": "2022-01-17T02:00:00",
          "x1": "2022-01-17T02:00:00",
          "y0": 16540,
          "y1": 71670
         },
         {
          "line": {
           "color": "grey",
           "dash": "dash"
          },
          "opacity": 0.3,
          "type": "line",
          "x0": "2022-01-17T03:00:00",
          "x1": "2022-01-17T03:00:00",
          "y0": 16540,
          "y1": 71670
         },
         {
          "line": {
           "color": "grey",
           "dash": "dash"
          },
          "opacity": 0.3,
          "type": "line",
          "x0": "2022-01-17T04:00:00",
          "x1": "2022-01-17T04:00:00",
          "y0": 16540,
          "y1": 71670
         },
         {
          "line": {
           "color": "grey",
           "dash": "dash"
          },
          "opacity": 0.3,
          "type": "line",
          "x0": "2022-01-17T05:00:00",
          "x1": "2022-01-17T05:00:00",
          "y0": 16540,
          "y1": 71670
         },
         {
          "line": {
           "color": "grey",
           "dash": "dash"
          },
          "opacity": 0.3,
          "type": "line",
          "x0": "2022-01-17T06:00:00",
          "x1": "2022-01-17T06:00:00",
          "y0": 16540,
          "y1": 71670
         },
         {
          "line": {
           "color": "grey",
           "dash": "dash"
          },
          "opacity": 0.3,
          "type": "line",
          "x0": "2022-01-17T07:00:00",
          "x1": "2022-01-17T07:00:00",
          "y0": 16540,
          "y1": 71670
         },
         {
          "line": {
           "color": "grey",
           "dash": "dash"
          },
          "opacity": 0.3,
          "type": "line",
          "x0": "2022-01-17T08:00:00",
          "x1": "2022-01-17T08:00:00",
          "y0": 16540,
          "y1": 71670
         },
         {
          "line": {
           "color": "grey",
           "dash": "dash"
          },
          "opacity": 0.3,
          "type": "line",
          "x0": "2022-01-17T09:00:00",
          "x1": "2022-01-17T09:00:00",
          "y0": 16540,
          "y1": 71670
         },
         {
          "line": {
           "color": "grey",
           "dash": "dash"
          },
          "opacity": 0.3,
          "type": "line",
          "x0": "2022-01-17T10:00:00",
          "x1": "2022-01-17T10:00:00",
          "y0": 16540,
          "y1": 71670
         },
         {
          "line": {
           "color": "grey",
           "dash": "dash"
          },
          "opacity": 0.3,
          "type": "line",
          "x0": "2022-01-17T11:00:00",
          "x1": "2022-01-17T11:00:00",
          "y0": 16540,
          "y1": 71670
         },
         {
          "line": {
           "color": "grey",
           "dash": "dash"
          },
          "opacity": 0.3,
          "type": "line",
          "x0": "2022-01-17T12:00:00",
          "x1": "2022-01-17T12:00:00",
          "y0": 16540,
          "y1": 71670
         },
         {
          "line": {
           "color": "grey",
           "dash": "dash"
          },
          "opacity": 0.3,
          "type": "line",
          "x0": "2022-01-17T13:00:00",
          "x1": "2022-01-17T13:00:00",
          "y0": 16540,
          "y1": 71670
         },
         {
          "line": {
           "color": "grey",
           "dash": "dash"
          },
          "opacity": 0.3,
          "type": "line",
          "x0": "2022-01-17T14:00:00",
          "x1": "2022-01-17T14:00:00",
          "y0": 16540,
          "y1": 71670
         },
         {
          "line": {
           "color": "grey",
           "dash": "dash"
          },
          "opacity": 0.3,
          "type": "line",
          "x0": "2022-01-17T15:00:00",
          "x1": "2022-01-17T15:00:00",
          "y0": 16540,
          "y1": 71670
         },
         {
          "line": {
           "color": "grey",
           "dash": "dash"
          },
          "opacity": 0.3,
          "type": "line",
          "x0": "2022-01-17T16:00:00",
          "x1": "2022-01-17T16:00:00",
          "y0": 16540,
          "y1": 71670
         },
         {
          "line": {
           "color": "grey",
           "dash": "dash"
          },
          "opacity": 0.3,
          "type": "line",
          "x0": "2022-01-17T17:00:00",
          "x1": "2022-01-17T17:00:00",
          "y0": 16540,
          "y1": 71670
         },
         {
          "line": {
           "color": "grey",
           "dash": "dash"
          },
          "opacity": 0.3,
          "type": "line",
          "x0": "2022-01-17T18:00:00",
          "x1": "2022-01-17T18:00:00",
          "y0": 16540,
          "y1": 71670
         },
         {
          "line": {
           "color": "grey",
           "dash": "dash"
          },
          "opacity": 0.3,
          "type": "line",
          "x0": "2022-01-17T19:00:00",
          "x1": "2022-01-17T19:00:00",
          "y0": 16540,
          "y1": 71670
         },
         {
          "line": {
           "color": "grey",
           "dash": "dash"
          },
          "opacity": 0.3,
          "type": "line",
          "x0": "2022-01-17T20:00:00",
          "x1": "2022-01-17T20:00:00",
          "y0": 16540,
          "y1": 71670
         },
         {
          "line": {
           "color": "grey",
           "dash": "dash"
          },
          "opacity": 0.3,
          "type": "line",
          "x0": "2022-01-17T21:00:00",
          "x1": "2022-01-17T21:00:00",
          "y0": 16540,
          "y1": 71670
         },
         {
          "line": {
           "color": "grey",
           "dash": "dash"
          },
          "opacity": 0.3,
          "type": "line",
          "x0": "2022-01-17T22:00:00",
          "x1": "2022-01-17T22:00:00",
          "y0": 16540,
          "y1": 71670
         },
         {
          "line": {
           "color": "grey",
           "dash": "dash"
          },
          "opacity": 0.3,
          "type": "line",
          "x0": "2022-01-17T23:00:00",
          "x1": "2022-01-17T23:00:00",
          "y0": 16540,
          "y1": 71670
         },
         {
          "line": {
           "color": "grey",
           "dash": "dash"
          },
          "opacity": 0.3,
          "type": "line",
          "x0": "2022-01-18T00:00:00",
          "x1": "2022-01-18T00:00:00",
          "y0": 16540,
          "y1": 71670
         },
         {
          "line": {
           "color": "grey",
           "dash": "dash"
          },
          "opacity": 0.3,
          "type": "line",
          "x0": "2022-01-18T01:00:00",
          "x1": "2022-01-18T01:00:00",
          "y0": 16540,
          "y1": 71670
         },
         {
          "line": {
           "color": "grey",
           "dash": "dash"
          },
          "opacity": 0.3,
          "type": "line",
          "x0": "2022-01-18T02:00:00",
          "x1": "2022-01-18T02:00:00",
          "y0": 16540,
          "y1": 71670
         },
         {
          "line": {
           "color": "grey",
           "dash": "dash"
          },
          "opacity": 0.3,
          "type": "line",
          "x0": "2022-01-18T03:00:00",
          "x1": "2022-01-18T03:00:00",
          "y0": 16540,
          "y1": 71670
         },
         {
          "line": {
           "color": "grey",
           "dash": "dash"
          },
          "opacity": 0.3,
          "type": "line",
          "x0": "2022-01-18T04:00:00",
          "x1": "2022-01-18T04:00:00",
          "y0": 16540,
          "y1": 71670
         },
         {
          "line": {
           "color": "grey",
           "dash": "dash"
          },
          "opacity": 0.3,
          "type": "line",
          "x0": "2022-01-18T05:00:00",
          "x1": "2022-01-18T05:00:00",
          "y0": 16540,
          "y1": 71670
         },
         {
          "line": {
           "color": "grey",
           "dash": "dash"
          },
          "opacity": 0.3,
          "type": "line",
          "x0": "2022-01-18T06:00:00",
          "x1": "2022-01-18T06:00:00",
          "y0": 16540,
          "y1": 71670
         },
         {
          "line": {
           "color": "grey",
           "dash": "dash"
          },
          "opacity": 0.3,
          "type": "line",
          "x0": "2022-01-18T07:00:00",
          "x1": "2022-01-18T07:00:00",
          "y0": 16540,
          "y1": 71670
         },
         {
          "line": {
           "color": "grey",
           "dash": "dash"
          },
          "opacity": 0.3,
          "type": "line",
          "x0": "2022-01-18T08:00:00",
          "x1": "2022-01-18T08:00:00",
          "y0": 16540,
          "y1": 71670
         },
         {
          "line": {
           "color": "grey",
           "dash": "dash"
          },
          "opacity": 0.3,
          "type": "line",
          "x0": "2022-01-18T09:00:00",
          "x1": "2022-01-18T09:00:00",
          "y0": 16540,
          "y1": 71670
         },
         {
          "line": {
           "color": "grey",
           "dash": "dash"
          },
          "opacity": 0.3,
          "type": "line",
          "x0": "2022-01-18T10:00:00",
          "x1": "2022-01-18T10:00:00",
          "y0": 16540,
          "y1": 71670
         },
         {
          "line": {
           "color": "grey",
           "dash": "dash"
          },
          "opacity": 0.3,
          "type": "line",
          "x0": "2022-01-18T11:00:00",
          "x1": "2022-01-18T11:00:00",
          "y0": 16540,
          "y1": 71670
         },
         {
          "line": {
           "color": "grey",
           "dash": "dash"
          },
          "opacity": 0.3,
          "type": "line",
          "x0": "2022-01-18T12:00:00",
          "x1": "2022-01-18T12:00:00",
          "y0": 16540,
          "y1": 71670
         },
         {
          "line": {
           "color": "grey",
           "dash": "dash"
          },
          "opacity": 0.3,
          "type": "line",
          "x0": "2022-01-18T13:00:00",
          "x1": "2022-01-18T13:00:00",
          "y0": 16540,
          "y1": 71670
         },
         {
          "line": {
           "color": "grey",
           "dash": "dash"
          },
          "opacity": 0.3,
          "type": "line",
          "x0": "2022-01-18T14:00:00",
          "x1": "2022-01-18T14:00:00",
          "y0": 16540,
          "y1": 71670
         },
         {
          "line": {
           "color": "grey",
           "dash": "dash"
          },
          "opacity": 0.3,
          "type": "line",
          "x0": "2022-01-18T15:00:00",
          "x1": "2022-01-18T15:00:00",
          "y0": 16540,
          "y1": 71670
         },
         {
          "line": {
           "color": "grey",
           "dash": "dash"
          },
          "opacity": 0.3,
          "type": "line",
          "x0": "2022-01-18T20:00:00",
          "x1": "2022-01-18T20:00:00",
          "y0": 16540,
          "y1": 71670
         },
         {
          "line": {
           "color": "grey",
           "dash": "dash"
          },
          "opacity": 0.3,
          "type": "line",
          "x0": "2022-01-18T21:00:00",
          "x1": "2022-01-18T21:00:00",
          "y0": 16540,
          "y1": 71670
         },
         {
          "line": {
           "color": "grey",
           "dash": "dash"
          },
          "opacity": 0.3,
          "type": "line",
          "x0": "2022-01-18T22:00:00",
          "x1": "2022-01-18T22:00:00",
          "y0": 16540,
          "y1": 71670
         },
         {
          "line": {
           "color": "grey",
           "dash": "dash"
          },
          "opacity": 0.3,
          "type": "line",
          "x0": "2022-01-18T23:00:00",
          "x1": "2022-01-18T23:00:00",
          "y0": 16540,
          "y1": 71670
         },
         {
          "line": {
           "color": "grey",
           "dash": "dash"
          },
          "opacity": 0.3,
          "type": "line",
          "x0": "2022-01-19T00:00:00",
          "x1": "2022-01-19T00:00:00",
          "y0": 16540,
          "y1": 71670
         },
         {
          "line": {
           "color": "grey",
           "dash": "dash"
          },
          "opacity": 0.3,
          "type": "line",
          "x0": "2022-01-19T01:00:00",
          "x1": "2022-01-19T01:00:00",
          "y0": 16540,
          "y1": 71670
         },
         {
          "line": {
           "color": "grey",
           "dash": "dash"
          },
          "opacity": 0.3,
          "type": "line",
          "x0": "2022-01-19T02:00:00",
          "x1": "2022-01-19T02:00:00",
          "y0": 16540,
          "y1": 71670
         },
         {
          "line": {
           "color": "grey",
           "dash": "dash"
          },
          "opacity": 0.3,
          "type": "line",
          "x0": "2022-01-19T03:00:00",
          "x1": "2022-01-19T03:00:00",
          "y0": 16540,
          "y1": 71670
         },
         {
          "line": {
           "color": "grey",
           "dash": "dash"
          },
          "opacity": 0.3,
          "type": "line",
          "x0": "2022-01-19T04:00:00",
          "x1": "2022-01-19T04:00:00",
          "y0": 16540,
          "y1": 71670
         },
         {
          "line": {
           "color": "grey",
           "dash": "dash"
          },
          "opacity": 0.3,
          "type": "line",
          "x0": "2022-01-19T05:00:00",
          "x1": "2022-01-19T05:00:00",
          "y0": 16540,
          "y1": 71670
         },
         {
          "line": {
           "color": "grey",
           "dash": "dash"
          },
          "opacity": 0.3,
          "type": "line",
          "x0": "2022-01-19T06:00:00",
          "x1": "2022-01-19T06:00:00",
          "y0": 16540,
          "y1": 71670
         },
         {
          "line": {
           "color": "grey",
           "dash": "dash"
          },
          "opacity": 0.3,
          "type": "line",
          "x0": "2022-01-19T07:00:00",
          "x1": "2022-01-19T07:00:00",
          "y0": 16540,
          "y1": 71670
         },
         {
          "line": {
           "color": "grey",
           "dash": "dash"
          },
          "opacity": 0.3,
          "type": "line",
          "x0": "2022-01-19T08:00:00",
          "x1": "2022-01-19T08:00:00",
          "y0": 16540,
          "y1": 71670
         },
         {
          "line": {
           "color": "grey",
           "dash": "dash"
          },
          "opacity": 0.3,
          "type": "line",
          "x0": "2022-01-19T09:00:00",
          "x1": "2022-01-19T09:00:00",
          "y0": 16540,
          "y1": 71670
         },
         {
          "line": {
           "color": "grey",
           "dash": "dash"
          },
          "opacity": 0.3,
          "type": "line",
          "x0": "2022-01-19T10:00:00",
          "x1": "2022-01-19T10:00:00",
          "y0": 16540,
          "y1": 71670
         },
         {
          "line": {
           "color": "grey",
           "dash": "dash"
          },
          "opacity": 0.3,
          "type": "line",
          "x0": "2022-01-19T11:00:00",
          "x1": "2022-01-19T11:00:00",
          "y0": 16540,
          "y1": 71670
         },
         {
          "line": {
           "color": "grey",
           "dash": "dash"
          },
          "opacity": 0.3,
          "type": "line",
          "x0": "2022-01-19T12:00:00",
          "x1": "2022-01-19T12:00:00",
          "y0": 16540,
          "y1": 71670
         },
         {
          "line": {
           "color": "grey",
           "dash": "dash"
          },
          "opacity": 0.3,
          "type": "line",
          "x0": "2022-01-19T13:00:00",
          "x1": "2022-01-19T13:00:00",
          "y0": 16540,
          "y1": 71670
         },
         {
          "line": {
           "color": "grey",
           "dash": "dash"
          },
          "opacity": 0.3,
          "type": "line",
          "x0": "2022-01-19T14:00:00",
          "x1": "2022-01-19T14:00:00",
          "y0": 16540,
          "y1": 71670
         },
         {
          "line": {
           "color": "grey",
           "dash": "dash"
          },
          "opacity": 0.3,
          "type": "line",
          "x0": "2022-01-19T15:00:00",
          "x1": "2022-01-19T15:00:00",
          "y0": 16540,
          "y1": 71670
         },
         {
          "line": {
           "color": "grey",
           "dash": "dash"
          },
          "opacity": 0.3,
          "type": "line",
          "x0": "2022-01-19T16:00:00",
          "x1": "2022-01-19T16:00:00",
          "y0": 16540,
          "y1": 71670
         },
         {
          "line": {
           "color": "grey",
           "dash": "dash"
          },
          "opacity": 0.3,
          "type": "line",
          "x0": "2022-01-19T17:00:00",
          "x1": "2022-01-19T17:00:00",
          "y0": 16540,
          "y1": 71670
         },
         {
          "line": {
           "color": "grey",
           "dash": "dash"
          },
          "opacity": 0.3,
          "type": "line",
          "x0": "2022-01-19T18:00:00",
          "x1": "2022-01-19T18:00:00",
          "y0": 16540,
          "y1": 71670
         },
         {
          "line": {
           "color": "grey",
           "dash": "dash"
          },
          "opacity": 0.3,
          "type": "line",
          "x0": "2022-01-19T19:00:00",
          "x1": "2022-01-19T19:00:00",
          "y0": 16540,
          "y1": 71670
         },
         {
          "line": {
           "color": "grey",
           "dash": "dash"
          },
          "opacity": 0.3,
          "type": "line",
          "x0": "2022-01-19T20:00:00",
          "x1": "2022-01-19T20:00:00",
          "y0": 16540,
          "y1": 71670
         },
         {
          "line": {
           "color": "grey",
           "dash": "dash"
          },
          "opacity": 0.3,
          "type": "line",
          "x0": "2022-01-19T21:00:00",
          "x1": "2022-01-19T21:00:00",
          "y0": 16540,
          "y1": 71670
         },
         {
          "line": {
           "color": "grey",
           "dash": "dash"
          },
          "opacity": 0.3,
          "type": "line",
          "x0": "2022-01-19T23:00:00",
          "x1": "2022-01-19T23:00:00",
          "y0": 16540,
          "y1": 71670
         },
         {
          "line": {
           "color": "grey",
           "dash": "dash"
          },
          "opacity": 0.3,
          "type": "line",
          "x0": "2022-01-20T00:00:00",
          "x1": "2022-01-20T00:00:00",
          "y0": 16540,
          "y1": 71670
         },
         {
          "line": {
           "color": "grey",
           "dash": "dash"
          },
          "opacity": 0.3,
          "type": "line",
          "x0": "2022-01-20T01:00:00",
          "x1": "2022-01-20T01:00:00",
          "y0": 16540,
          "y1": 71670
         },
         {
          "line": {
           "color": "grey",
           "dash": "dash"
          },
          "opacity": 0.3,
          "type": "line",
          "x0": "2022-01-20T02:00:00",
          "x1": "2022-01-20T02:00:00",
          "y0": 16540,
          "y1": 71670
         },
         {
          "line": {
           "color": "grey",
           "dash": "dash"
          },
          "opacity": 0.3,
          "type": "line",
          "x0": "2022-01-20T03:00:00",
          "x1": "2022-01-20T03:00:00",
          "y0": 16540,
          "y1": 71670
         },
         {
          "line": {
           "color": "grey",
           "dash": "dash"
          },
          "opacity": 0.3,
          "type": "line",
          "x0": "2022-01-20T04:00:00",
          "x1": "2022-01-20T04:00:00",
          "y0": 16540,
          "y1": 71670
         },
         {
          "line": {
           "color": "grey",
           "dash": "dash"
          },
          "opacity": 0.3,
          "type": "line",
          "x0": "2022-01-20T05:00:00",
          "x1": "2022-01-20T05:00:00",
          "y0": 16540,
          "y1": 71670
         },
         {
          "line": {
           "color": "grey",
           "dash": "dash"
          },
          "opacity": 0.3,
          "type": "line",
          "x0": "2022-01-20T06:00:00",
          "x1": "2022-01-20T06:00:00",
          "y0": 16540,
          "y1": 71670
         },
         {
          "line": {
           "color": "grey",
           "dash": "dash"
          },
          "opacity": 0.3,
          "type": "line",
          "x0": "2022-01-20T07:00:00",
          "x1": "2022-01-20T07:00:00",
          "y0": 16540,
          "y1": 71670
         },
         {
          "line": {
           "color": "grey",
           "dash": "dash"
          },
          "opacity": 0.3,
          "type": "line",
          "x0": "2022-01-20T08:00:00",
          "x1": "2022-01-20T08:00:00",
          "y0": 16540,
          "y1": 71670
         },
         {
          "line": {
           "color": "grey",
           "dash": "dash"
          },
          "opacity": 0.3,
          "type": "line",
          "x0": "2022-01-20T09:00:00",
          "x1": "2022-01-20T09:00:00",
          "y0": 16540,
          "y1": 71670
         },
         {
          "line": {
           "color": "grey",
           "dash": "dash"
          },
          "opacity": 0.3,
          "type": "line",
          "x0": "2022-01-20T10:00:00",
          "x1": "2022-01-20T10:00:00",
          "y0": 16540,
          "y1": 71670
         },
         {
          "line": {
           "color": "grey",
           "dash": "dash"
          },
          "opacity": 0.3,
          "type": "line",
          "x0": "2022-01-20T11:00:00",
          "x1": "2022-01-20T11:00:00",
          "y0": 16540,
          "y1": 71670
         },
         {
          "line": {
           "color": "grey",
           "dash": "dash"
          },
          "opacity": 0.3,
          "type": "line",
          "x0": "2022-01-20T12:00:00",
          "x1": "2022-01-20T12:00:00",
          "y0": 16540,
          "y1": 71670
         },
         {
          "line": {
           "color": "grey",
           "dash": "dash"
          },
          "opacity": 0.3,
          "type": "line",
          "x0": "2022-01-20T13:00:00",
          "x1": "2022-01-20T13:00:00",
          "y0": 16540,
          "y1": 71670
         },
         {
          "line": {
           "color": "grey",
           "dash": "dash"
          },
          "opacity": 0.3,
          "type": "line",
          "x0": "2022-01-20T14:00:00",
          "x1": "2022-01-20T14:00:00",
          "y0": 16540,
          "y1": 71670
         },
         {
          "line": {
           "color": "grey",
           "dash": "dash"
          },
          "opacity": 0.3,
          "type": "line",
          "x0": "2022-01-20T15:00:00",
          "x1": "2022-01-20T15:00:00",
          "y0": 16540,
          "y1": 71670
         },
         {
          "line": {
           "color": "grey",
           "dash": "dash"
          },
          "opacity": 0.3,
          "type": "line",
          "x0": "2022-01-20T16:00:00",
          "x1": "2022-01-20T16:00:00",
          "y0": 16540,
          "y1": 71670
         },
         {
          "line": {
           "color": "grey",
           "dash": "dash"
          },
          "opacity": 0.3,
          "type": "line",
          "x0": "2022-01-20T17:00:00",
          "x1": "2022-01-20T17:00:00",
          "y0": 16540,
          "y1": 71670
         },
         {
          "line": {
           "color": "grey",
           "dash": "dash"
          },
          "opacity": 0.3,
          "type": "line",
          "x0": "2022-01-20T18:00:00",
          "x1": "2022-01-20T18:00:00",
          "y0": 16540,
          "y1": 71670
         },
         {
          "line": {
           "color": "grey",
           "dash": "dash"
          },
          "opacity": 0.3,
          "type": "line",
          "x0": "2022-01-20T19:00:00",
          "x1": "2022-01-20T19:00:00",
          "y0": 16540,
          "y1": 71670
         },
         {
          "line": {
           "color": "grey",
           "dash": "dash"
          },
          "opacity": 0.3,
          "type": "line",
          "x0": "2022-01-20T20:00:00",
          "x1": "2022-01-20T20:00:00",
          "y0": 16540,
          "y1": 71670
         },
         {
          "line": {
           "color": "grey",
           "dash": "dash"
          },
          "opacity": 0.3,
          "type": "line",
          "x0": "2022-01-20T21:00:00",
          "x1": "2022-01-20T21:00:00",
          "y0": 16540,
          "y1": 71670
         },
         {
          "line": {
           "color": "grey",
           "dash": "dash"
          },
          "opacity": 0.3,
          "type": "line",
          "x0": "2022-01-20T22:00:00",
          "x1": "2022-01-20T22:00:00",
          "y0": 16540,
          "y1": 71670
         },
         {
          "line": {
           "color": "grey",
           "dash": "dash"
          },
          "opacity": 0.3,
          "type": "line",
          "x0": "2022-01-20T23:00:00",
          "x1": "2022-01-20T23:00:00",
          "y0": 16540,
          "y1": 71670
         },
         {
          "line": {
           "color": "grey",
           "dash": "dash"
          },
          "opacity": 0.3,
          "type": "line",
          "x0": "2022-01-21T00:00:00",
          "x1": "2022-01-21T00:00:00",
          "y0": 16540,
          "y1": 71670
         },
         {
          "line": {
           "color": "grey",
           "dash": "dash"
          },
          "opacity": 0.3,
          "type": "line",
          "x0": "2022-01-21T01:00:00",
          "x1": "2022-01-21T01:00:00",
          "y0": 16540,
          "y1": 71670
         },
         {
          "line": {
           "color": "grey",
           "dash": "dash"
          },
          "opacity": 0.3,
          "type": "line",
          "x0": "2022-01-21T02:00:00",
          "x1": "2022-01-21T02:00:00",
          "y0": 16540,
          "y1": 71670
         },
         {
          "line": {
           "color": "grey",
           "dash": "dash"
          },
          "opacity": 0.3,
          "type": "line",
          "x0": "2022-01-23T11:00:00",
          "x1": "2022-01-23T11:00:00",
          "y0": 16540,
          "y1": 71670
         },
         {
          "line": {
           "color": "grey",
           "dash": "dash"
          },
          "opacity": 0.3,
          "type": "line",
          "x0": "2022-01-23T12:00:00",
          "x1": "2022-01-23T12:00:00",
          "y0": 16540,
          "y1": 71670
         },
         {
          "line": {
           "color": "grey",
           "dash": "dash"
          },
          "opacity": 0.3,
          "type": "line",
          "x0": "2022-01-23T13:00:00",
          "x1": "2022-01-23T13:00:00",
          "y0": 16540,
          "y1": 71670
         },
         {
          "line": {
           "color": "grey",
           "dash": "dash"
          },
          "opacity": 0.3,
          "type": "line",
          "x0": "2022-01-23T14:00:00",
          "x1": "2022-01-23T14:00:00",
          "y0": 16540,
          "y1": 71670
         },
         {
          "line": {
           "color": "grey",
           "dash": "dash"
          },
          "opacity": 0.3,
          "type": "line",
          "x0": "2022-01-23T15:00:00",
          "x1": "2022-01-23T15:00:00",
          "y0": 16540,
          "y1": 71670
         },
         {
          "line": {
           "color": "grey",
           "dash": "dash"
          },
          "opacity": 0.3,
          "type": "line",
          "x0": "2022-01-23T16:00:00",
          "x1": "2022-01-23T16:00:00",
          "y0": 16540,
          "y1": 71670
         },
         {
          "line": {
           "color": "grey",
           "dash": "dash"
          },
          "opacity": 0.3,
          "type": "line",
          "x0": "2022-01-23T17:00:00",
          "x1": "2022-01-23T17:00:00",
          "y0": 16540,
          "y1": 71670
         },
         {
          "line": {
           "color": "grey",
           "dash": "dash"
          },
          "opacity": 0.3,
          "type": "line",
          "x0": "2022-01-24T02:00:00",
          "x1": "2022-01-24T02:00:00",
          "y0": 16540,
          "y1": 71670
         },
         {
          "line": {
           "color": "grey",
           "dash": "dash"
          },
          "opacity": 0.3,
          "type": "line",
          "x0": "2022-01-24T19:00:00",
          "x1": "2022-01-24T19:00:00",
          "y0": 16540,
          "y1": 71670
         },
         {
          "line": {
           "color": "grey",
           "dash": "dash"
          },
          "opacity": 0.3,
          "type": "line",
          "x0": "2022-01-24T20:00:00",
          "x1": "2022-01-24T20:00:00",
          "y0": 16540,
          "y1": 71670
         },
         {
          "line": {
           "color": "grey",
           "dash": "dash"
          },
          "opacity": 0.3,
          "type": "line",
          "x0": "2022-01-24T21:00:00",
          "x1": "2022-01-24T21:00:00",
          "y0": 16540,
          "y1": 71670
         },
         {
          "line": {
           "color": "grey",
           "dash": "dash"
          },
          "opacity": 0.3,
          "type": "line",
          "x0": "2022-01-24T22:00:00",
          "x1": "2022-01-24T22:00:00",
          "y0": 16540,
          "y1": 71670
         },
         {
          "line": {
           "color": "grey",
           "dash": "dash"
          },
          "opacity": 0.3,
          "type": "line",
          "x0": "2022-01-24T23:00:00",
          "x1": "2022-01-24T23:00:00",
          "y0": 16540,
          "y1": 71670
         },
         {
          "line": {
           "color": "grey",
           "dash": "dash"
          },
          "opacity": 0.3,
          "type": "line",
          "x0": "2022-01-25T00:00:00",
          "x1": "2022-01-25T00:00:00",
          "y0": 16540,
          "y1": 71670
         },
         {
          "line": {
           "color": "grey",
           "dash": "dash"
          },
          "opacity": 0.3,
          "type": "line",
          "x0": "2022-01-25T01:00:00",
          "x1": "2022-01-25T01:00:00",
          "y0": 16540,
          "y1": 71670
         },
         {
          "line": {
           "color": "grey",
           "dash": "dash"
          },
          "opacity": 0.3,
          "type": "line",
          "x0": "2022-01-25T02:00:00",
          "x1": "2022-01-25T02:00:00",
          "y0": 16540,
          "y1": 71670
         },
         {
          "line": {
           "color": "grey",
           "dash": "dash"
          },
          "opacity": 0.3,
          "type": "line",
          "x0": "2022-01-25T03:00:00",
          "x1": "2022-01-25T03:00:00",
          "y0": 16540,
          "y1": 71670
         },
         {
          "line": {
           "color": "grey",
           "dash": "dash"
          },
          "opacity": 0.3,
          "type": "line",
          "x0": "2022-01-25T04:00:00",
          "x1": "2022-01-25T04:00:00",
          "y0": 16540,
          "y1": 71670
         },
         {
          "line": {
           "color": "grey",
           "dash": "dash"
          },
          "opacity": 0.3,
          "type": "line",
          "x0": "2022-01-25T05:00:00",
          "x1": "2022-01-25T05:00:00",
          "y0": 16540,
          "y1": 71670
         },
         {
          "line": {
           "color": "grey",
           "dash": "dash"
          },
          "opacity": 0.3,
          "type": "line",
          "x0": "2022-01-25T06:00:00",
          "x1": "2022-01-25T06:00:00",
          "y0": 16540,
          "y1": 71670
         },
         {
          "line": {
           "color": "grey",
           "dash": "dash"
          },
          "opacity": 0.3,
          "type": "line",
          "x0": "2022-01-25T07:00:00",
          "x1": "2022-01-25T07:00:00",
          "y0": 16540,
          "y1": 71670
         },
         {
          "line": {
           "color": "grey",
           "dash": "dash"
          },
          "opacity": 0.3,
          "type": "line",
          "x0": "2022-01-25T08:00:00",
          "x1": "2022-01-25T08:00:00",
          "y0": 16540,
          "y1": 71670
         },
         {
          "line": {
           "color": "grey",
           "dash": "dash"
          },
          "opacity": 0.3,
          "type": "line",
          "x0": "2022-01-25T09:00:00",
          "x1": "2022-01-25T09:00:00",
          "y0": 16540,
          "y1": 71670
         },
         {
          "line": {
           "color": "grey",
           "dash": "dash"
          },
          "opacity": 0.3,
          "type": "line",
          "x0": "2022-01-25T10:00:00",
          "x1": "2022-01-25T10:00:00",
          "y0": 16540,
          "y1": 71670
         },
         {
          "line": {
           "color": "grey",
           "dash": "dash"
          },
          "opacity": 0.3,
          "type": "line",
          "x0": "2022-01-25T11:00:00",
          "x1": "2022-01-25T11:00:00",
          "y0": 16540,
          "y1": 71670
         },
         {
          "line": {
           "color": "grey",
           "dash": "dash"
          },
          "opacity": 0.3,
          "type": "line",
          "x0": "2022-01-25T12:00:00",
          "x1": "2022-01-25T12:00:00",
          "y0": 16540,
          "y1": 71670
         },
         {
          "line": {
           "color": "grey",
           "dash": "dash"
          },
          "opacity": 0.3,
          "type": "line",
          "x0": "2022-01-25T13:00:00",
          "x1": "2022-01-25T13:00:00",
          "y0": 16540,
          "y1": 71670
         },
         {
          "line": {
           "color": "grey",
           "dash": "dash"
          },
          "opacity": 0.3,
          "type": "line",
          "x0": "2022-01-25T14:00:00",
          "x1": "2022-01-25T14:00:00",
          "y0": 16540,
          "y1": 71670
         },
         {
          "line": {
           "color": "grey",
           "dash": "dash"
          },
          "opacity": 0.3,
          "type": "line",
          "x0": "2022-01-25T15:00:00",
          "x1": "2022-01-25T15:00:00",
          "y0": 16540,
          "y1": 71670
         },
         {
          "line": {
           "color": "grey",
           "dash": "dash"
          },
          "opacity": 0.3,
          "type": "line",
          "x0": "2022-01-25T16:00:00",
          "x1": "2022-01-25T16:00:00",
          "y0": 16540,
          "y1": 71670
         },
         {
          "line": {
           "color": "grey",
           "dash": "dash"
          },
          "opacity": 0.3,
          "type": "line",
          "x0": "2022-01-25T17:00:00",
          "x1": "2022-01-25T17:00:00",
          "y0": 16540,
          "y1": 71670
         },
         {
          "line": {
           "color": "grey",
           "dash": "dash"
          },
          "opacity": 0.3,
          "type": "line",
          "x0": "2022-01-25T18:00:00",
          "x1": "2022-01-25T18:00:00",
          "y0": 16540,
          "y1": 71670
         },
         {
          "line": {
           "color": "grey",
           "dash": "dash"
          },
          "opacity": 0.3,
          "type": "line",
          "x0": "2022-01-25T19:00:00",
          "x1": "2022-01-25T19:00:00",
          "y0": 16540,
          "y1": 71670
         },
         {
          "line": {
           "color": "grey",
           "dash": "dash"
          },
          "opacity": 0.3,
          "type": "line",
          "x0": "2022-01-25T20:00:00",
          "x1": "2022-01-25T20:00:00",
          "y0": 16540,
          "y1": 71670
         },
         {
          "line": {
           "color": "grey",
           "dash": "dash"
          },
          "opacity": 0.3,
          "type": "line",
          "x0": "2022-01-25T21:00:00",
          "x1": "2022-01-25T21:00:00",
          "y0": 16540,
          "y1": 71670
         },
         {
          "line": {
           "color": "grey",
           "dash": "dash"
          },
          "opacity": 0.3,
          "type": "line",
          "x0": "2022-01-25T22:00:00",
          "x1": "2022-01-25T22:00:00",
          "y0": 16540,
          "y1": 71670
         },
         {
          "line": {
           "color": "grey",
           "dash": "dash"
          },
          "opacity": 0.3,
          "type": "line",
          "x0": "2022-01-25T23:00:00",
          "x1": "2022-01-25T23:00:00",
          "y0": 16540,
          "y1": 71670
         },
         {
          "line": {
           "color": "grey",
           "dash": "dash"
          },
          "opacity": 0.3,
          "type": "line",
          "x0": "2022-01-26T00:00:00",
          "x1": "2022-01-26T00:00:00",
          "y0": 16540,
          "y1": 71670
         },
         {
          "line": {
           "color": "grey",
           "dash": "dash"
          },
          "opacity": 0.3,
          "type": "line",
          "x0": "2022-01-26T01:00:00",
          "x1": "2022-01-26T01:00:00",
          "y0": 16540,
          "y1": 71670
         },
         {
          "line": {
           "color": "grey",
           "dash": "dash"
          },
          "opacity": 0.3,
          "type": "line",
          "x0": "2022-01-26T02:00:00",
          "x1": "2022-01-26T02:00:00",
          "y0": 16540,
          "y1": 71670
         },
         {
          "line": {
           "color": "grey",
           "dash": "dash"
          },
          "opacity": 0.3,
          "type": "line",
          "x0": "2022-01-26T03:00:00",
          "x1": "2022-01-26T03:00:00",
          "y0": 16540,
          "y1": 71670
         },
         {
          "line": {
           "color": "grey",
           "dash": "dash"
          },
          "opacity": 0.3,
          "type": "line",
          "x0": "2022-01-26T04:00:00",
          "x1": "2022-01-26T04:00:00",
          "y0": 16540,
          "y1": 71670
         },
         {
          "line": {
           "color": "grey",
           "dash": "dash"
          },
          "opacity": 0.3,
          "type": "line",
          "x0": "2022-01-26T05:00:00",
          "x1": "2022-01-26T05:00:00",
          "y0": 16540,
          "y1": 71670
         },
         {
          "line": {
           "color": "grey",
           "dash": "dash"
          },
          "opacity": 0.3,
          "type": "line",
          "x0": "2022-01-26T06:00:00",
          "x1": "2022-01-26T06:00:00",
          "y0": 16540,
          "y1": 71670
         },
         {
          "line": {
           "color": "grey",
           "dash": "dash"
          },
          "opacity": 0.3,
          "type": "line",
          "x0": "2022-01-26T07:00:00",
          "x1": "2022-01-26T07:00:00",
          "y0": 16540,
          "y1": 71670
         },
         {
          "line": {
           "color": "grey",
           "dash": "dash"
          },
          "opacity": 0.3,
          "type": "line",
          "x0": "2022-01-26T08:00:00",
          "x1": "2022-01-26T08:00:00",
          "y0": 16540,
          "y1": 71670
         },
         {
          "line": {
           "color": "grey",
           "dash": "dash"
          },
          "opacity": 0.3,
          "type": "line",
          "x0": "2022-01-26T09:00:00",
          "x1": "2022-01-26T09:00:00",
          "y0": 16540,
          "y1": 71670
         },
         {
          "line": {
           "color": "grey",
           "dash": "dash"
          },
          "opacity": 0.3,
          "type": "line",
          "x0": "2022-01-26T10:00:00",
          "x1": "2022-01-26T10:00:00",
          "y0": 16540,
          "y1": 71670
         },
         {
          "line": {
           "color": "grey",
           "dash": "dash"
          },
          "opacity": 0.3,
          "type": "line",
          "x0": "2022-01-26T11:00:00",
          "x1": "2022-01-26T11:00:00",
          "y0": 16540,
          "y1": 71670
         },
         {
          "line": {
           "color": "grey",
           "dash": "dash"
          },
          "opacity": 0.3,
          "type": "line",
          "x0": "2022-01-26T12:00:00",
          "x1": "2022-01-26T12:00:00",
          "y0": 16540,
          "y1": 71670
         },
         {
          "line": {
           "color": "grey",
           "dash": "dash"
          },
          "opacity": 0.3,
          "type": "line",
          "x0": "2022-01-26T13:00:00",
          "x1": "2022-01-26T13:00:00",
          "y0": 16540,
          "y1": 71670
         },
         {
          "line": {
           "color": "grey",
           "dash": "dash"
          },
          "opacity": 0.3,
          "type": "line",
          "x0": "2022-01-26T14:00:00",
          "x1": "2022-01-26T14:00:00",
          "y0": 16540,
          "y1": 71670
         },
         {
          "line": {
           "color": "grey",
           "dash": "dash"
          },
          "opacity": 0.3,
          "type": "line",
          "x0": "2022-01-26T15:00:00",
          "x1": "2022-01-26T15:00:00",
          "y0": 16540,
          "y1": 71670
         },
         {
          "line": {
           "color": "grey",
           "dash": "dash"
          },
          "opacity": 0.3,
          "type": "line",
          "x0": "2022-01-26T16:00:00",
          "x1": "2022-01-26T16:00:00",
          "y0": 16540,
          "y1": 71670
         },
         {
          "line": {
           "color": "grey",
           "dash": "dash"
          },
          "opacity": 0.3,
          "type": "line",
          "x0": "2022-01-26T17:00:00",
          "x1": "2022-01-26T17:00:00",
          "y0": 16540,
          "y1": 71670
         },
         {
          "line": {
           "color": "grey",
           "dash": "dash"
          },
          "opacity": 0.3,
          "type": "line",
          "x0": "2022-01-26T18:00:00",
          "x1": "2022-01-26T18:00:00",
          "y0": 16540,
          "y1": 71670
         },
         {
          "line": {
           "color": "grey",
           "dash": "dash"
          },
          "opacity": 0.3,
          "type": "line",
          "x0": "2022-01-26T19:00:00",
          "x1": "2022-01-26T19:00:00",
          "y0": 16540,
          "y1": 71670
         },
         {
          "line": {
           "color": "grey",
           "dash": "dash"
          },
          "opacity": 0.3,
          "type": "line",
          "x0": "2022-01-26T20:00:00",
          "x1": "2022-01-26T20:00:00",
          "y0": 16540,
          "y1": 71670
         },
         {
          "line": {
           "color": "grey",
           "dash": "dash"
          },
          "opacity": 0.3,
          "type": "line",
          "x0": "2022-01-26T21:00:00",
          "x1": "2022-01-26T21:00:00",
          "y0": 16540,
          "y1": 71670
         },
         {
          "line": {
           "color": "grey",
           "dash": "dash"
          },
          "opacity": 0.3,
          "type": "line",
          "x0": "2022-01-26T22:00:00",
          "x1": "2022-01-26T22:00:00",
          "y0": 16540,
          "y1": 71670
         },
         {
          "line": {
           "color": "grey",
           "dash": "dash"
          },
          "opacity": 0.3,
          "type": "line",
          "x0": "2022-01-26T23:00:00",
          "x1": "2022-01-26T23:00:00",
          "y0": 16540,
          "y1": 71670
         },
         {
          "line": {
           "color": "grey",
           "dash": "dash"
          },
          "opacity": 0.3,
          "type": "line",
          "x0": "2022-01-27T00:00:00",
          "x1": "2022-01-27T00:00:00",
          "y0": 16540,
          "y1": 71670
         },
         {
          "line": {
           "color": "grey",
           "dash": "dash"
          },
          "opacity": 0.3,
          "type": "line",
          "x0": "2022-01-27T01:00:00",
          "x1": "2022-01-27T01:00:00",
          "y0": 16540,
          "y1": 71670
         },
         {
          "line": {
           "color": "grey",
           "dash": "dash"
          },
          "opacity": 0.3,
          "type": "line",
          "x0": "2022-01-27T02:00:00",
          "x1": "2022-01-27T02:00:00",
          "y0": 16540,
          "y1": 71670
         },
         {
          "line": {
           "color": "grey",
           "dash": "dash"
          },
          "opacity": 0.3,
          "type": "line",
          "x0": "2022-01-27T03:00:00",
          "x1": "2022-01-27T03:00:00",
          "y0": 16540,
          "y1": 71670
         },
         {
          "line": {
           "color": "grey",
           "dash": "dash"
          },
          "opacity": 0.3,
          "type": "line",
          "x0": "2022-01-27T04:00:00",
          "x1": "2022-01-27T04:00:00",
          "y0": 16540,
          "y1": 71670
         },
         {
          "line": {
           "color": "grey",
           "dash": "dash"
          },
          "opacity": 0.3,
          "type": "line",
          "x0": "2022-01-27T05:00:00",
          "x1": "2022-01-27T05:00:00",
          "y0": 16540,
          "y1": 71670
         },
         {
          "line": {
           "color": "grey",
           "dash": "dash"
          },
          "opacity": 0.3,
          "type": "line",
          "x0": "2022-01-27T06:00:00",
          "x1": "2022-01-27T06:00:00",
          "y0": 16540,
          "y1": 71670
         },
         {
          "line": {
           "color": "grey",
           "dash": "dash"
          },
          "opacity": 0.3,
          "type": "line",
          "x0": "2022-01-27T07:00:00",
          "x1": "2022-01-27T07:00:00",
          "y0": 16540,
          "y1": 71670
         },
         {
          "line": {
           "color": "grey",
           "dash": "dash"
          },
          "opacity": 0.3,
          "type": "line",
          "x0": "2022-01-27T08:00:00",
          "x1": "2022-01-27T08:00:00",
          "y0": 16540,
          "y1": 71670
         },
         {
          "line": {
           "color": "grey",
           "dash": "dash"
          },
          "opacity": 0.3,
          "type": "line",
          "x0": "2022-01-27T09:00:00",
          "x1": "2022-01-27T09:00:00",
          "y0": 16540,
          "y1": 71670
         },
         {
          "line": {
           "color": "grey",
           "dash": "dash"
          },
          "opacity": 0.3,
          "type": "line",
          "x0": "2022-01-27T10:00:00",
          "x1": "2022-01-27T10:00:00",
          "y0": 16540,
          "y1": 71670
         },
         {
          "line": {
           "color": "grey",
           "dash": "dash"
          },
          "opacity": 0.3,
          "type": "line",
          "x0": "2022-01-27T11:00:00",
          "x1": "2022-01-27T11:00:00",
          "y0": 16540,
          "y1": 71670
         },
         {
          "line": {
           "color": "grey",
           "dash": "dash"
          },
          "opacity": 0.3,
          "type": "line",
          "x0": "2022-01-27T12:00:00",
          "x1": "2022-01-27T12:00:00",
          "y0": 16540,
          "y1": 71670
         },
         {
          "line": {
           "color": "grey",
           "dash": "dash"
          },
          "opacity": 0.3,
          "type": "line",
          "x0": "2022-01-27T13:00:00",
          "x1": "2022-01-27T13:00:00",
          "y0": 16540,
          "y1": 71670
         },
         {
          "line": {
           "color": "grey",
           "dash": "dash"
          },
          "opacity": 0.3,
          "type": "line",
          "x0": "2022-01-27T14:00:00",
          "x1": "2022-01-27T14:00:00",
          "y0": 16540,
          "y1": 71670
         },
         {
          "line": {
           "color": "grey",
           "dash": "dash"
          },
          "opacity": 0.3,
          "type": "line",
          "x0": "2022-01-27T15:00:00",
          "x1": "2022-01-27T15:00:00",
          "y0": 16540,
          "y1": 71670
         },
         {
          "line": {
           "color": "grey",
           "dash": "dash"
          },
          "opacity": 0.3,
          "type": "line",
          "x0": "2022-01-27T16:00:00",
          "x1": "2022-01-27T16:00:00",
          "y0": 16540,
          "y1": 71670
         },
         {
          "line": {
           "color": "grey",
           "dash": "dash"
          },
          "opacity": 0.3,
          "type": "line",
          "x0": "2022-01-27T17:00:00",
          "x1": "2022-01-27T17:00:00",
          "y0": 16540,
          "y1": 71670
         },
         {
          "line": {
           "color": "grey",
           "dash": "dash"
          },
          "opacity": 0.3,
          "type": "line",
          "x0": "2022-01-27T18:00:00",
          "x1": "2022-01-27T18:00:00",
          "y0": 16540,
          "y1": 71670
         },
         {
          "line": {
           "color": "grey",
           "dash": "dash"
          },
          "opacity": 0.3,
          "type": "line",
          "x0": "2022-01-27T19:00:00",
          "x1": "2022-01-27T19:00:00",
          "y0": 16540,
          "y1": 71670
         },
         {
          "line": {
           "color": "grey",
           "dash": "dash"
          },
          "opacity": 0.3,
          "type": "line",
          "x0": "2022-01-27T20:00:00",
          "x1": "2022-01-27T20:00:00",
          "y0": 16540,
          "y1": 71670
         },
         {
          "line": {
           "color": "grey",
           "dash": "dash"
          },
          "opacity": 0.3,
          "type": "line",
          "x0": "2022-01-27T21:00:00",
          "x1": "2022-01-27T21:00:00",
          "y0": 16540,
          "y1": 71670
         },
         {
          "line": {
           "color": "grey",
           "dash": "dash"
          },
          "opacity": 0.3,
          "type": "line",
          "x0": "2022-01-27T22:00:00",
          "x1": "2022-01-27T22:00:00",
          "y0": 16540,
          "y1": 71670
         },
         {
          "line": {
           "color": "grey",
           "dash": "dash"
          },
          "opacity": 0.3,
          "type": "line",
          "x0": "2022-01-27T23:00:00",
          "x1": "2022-01-27T23:00:00",
          "y0": 16540,
          "y1": 71670
         },
         {
          "line": {
           "color": "grey",
           "dash": "dash"
          },
          "opacity": 0.3,
          "type": "line",
          "x0": "2022-01-28T00:00:00",
          "x1": "2022-01-28T00:00:00",
          "y0": 16540,
          "y1": 71670
         },
         {
          "line": {
           "color": "grey",
           "dash": "dash"
          },
          "opacity": 0.3,
          "type": "line",
          "x0": "2022-01-28T01:00:00",
          "x1": "2022-01-28T01:00:00",
          "y0": 16540,
          "y1": 71670
         },
         {
          "line": {
           "color": "grey",
           "dash": "dash"
          },
          "opacity": 0.3,
          "type": "line",
          "x0": "2022-01-28T02:00:00",
          "x1": "2022-01-28T02:00:00",
          "y0": 16540,
          "y1": 71670
         },
         {
          "line": {
           "color": "grey",
           "dash": "dash"
          },
          "opacity": 0.3,
          "type": "line",
          "x0": "2022-01-28T03:00:00",
          "x1": "2022-01-28T03:00:00",
          "y0": 16540,
          "y1": 71670
         },
         {
          "line": {
           "color": "grey",
           "dash": "dash"
          },
          "opacity": 0.3,
          "type": "line",
          "x0": "2022-01-28T04:00:00",
          "x1": "2022-01-28T04:00:00",
          "y0": 16540,
          "y1": 71670
         },
         {
          "line": {
           "color": "grey",
           "dash": "dash"
          },
          "opacity": 0.3,
          "type": "line",
          "x0": "2022-01-28T05:00:00",
          "x1": "2022-01-28T05:00:00",
          "y0": 16540,
          "y1": 71670
         },
         {
          "line": {
           "color": "grey",
           "dash": "dash"
          },
          "opacity": 0.3,
          "type": "line",
          "x0": "2022-01-28T06:00:00",
          "x1": "2022-01-28T06:00:00",
          "y0": 16540,
          "y1": 71670
         },
         {
          "line": {
           "color": "grey",
           "dash": "dash"
          },
          "opacity": 0.3,
          "type": "line",
          "x0": "2022-01-28T07:00:00",
          "x1": "2022-01-28T07:00:00",
          "y0": 16540,
          "y1": 71670
         },
         {
          "line": {
           "color": "grey",
           "dash": "dash"
          },
          "opacity": 0.3,
          "type": "line",
          "x0": "2022-01-28T08:00:00",
          "x1": "2022-01-28T08:00:00",
          "y0": 16540,
          "y1": 71670
         },
         {
          "line": {
           "color": "grey",
           "dash": "dash"
          },
          "opacity": 0.3,
          "type": "line",
          "x0": "2022-01-28T09:00:00",
          "x1": "2022-01-28T09:00:00",
          "y0": 16540,
          "y1": 71670
         },
         {
          "line": {
           "color": "grey",
           "dash": "dash"
          },
          "opacity": 0.3,
          "type": "line",
          "x0": "2022-01-28T10:00:00",
          "x1": "2022-01-28T10:00:00",
          "y0": 16540,
          "y1": 71670
         },
         {
          "line": {
           "color": "grey",
           "dash": "dash"
          },
          "opacity": 0.3,
          "type": "line",
          "x0": "2022-01-28T12:00:00",
          "x1": "2022-01-28T12:00:00",
          "y0": 16540,
          "y1": 71670
         },
         {
          "line": {
           "color": "grey",
           "dash": "dash"
          },
          "opacity": 0.3,
          "type": "line",
          "x0": "2022-01-28T13:00:00",
          "x1": "2022-01-28T13:00:00",
          "y0": 16540,
          "y1": 71670
         },
         {
          "line": {
           "color": "grey",
           "dash": "dash"
          },
          "opacity": 0.3,
          "type": "line",
          "x0": "2022-01-28T15:00:00",
          "x1": "2022-01-28T15:00:00",
          "y0": 16540,
          "y1": 71670
         },
         {
          "line": {
           "color": "grey",
           "dash": "dash"
          },
          "opacity": 0.3,
          "type": "line",
          "x0": "2022-01-28T16:00:00",
          "x1": "2022-01-28T16:00:00",
          "y0": 16540,
          "y1": 71670
         },
         {
          "line": {
           "color": "grey",
           "dash": "dash"
          },
          "opacity": 0.3,
          "type": "line",
          "x0": "2022-01-28T17:00:00",
          "x1": "2022-01-28T17:00:00",
          "y0": 16540,
          "y1": 71670
         },
         {
          "line": {
           "color": "grey",
           "dash": "dash"
          },
          "opacity": 0.3,
          "type": "line",
          "x0": "2022-01-28T18:00:00",
          "x1": "2022-01-28T18:00:00",
          "y0": 16540,
          "y1": 71670
         },
         {
          "line": {
           "color": "grey",
           "dash": "dash"
          },
          "opacity": 0.3,
          "type": "line",
          "x0": "2022-01-28T19:00:00",
          "x1": "2022-01-28T19:00:00",
          "y0": 16540,
          "y1": 71670
         },
         {
          "line": {
           "color": "grey",
           "dash": "dash"
          },
          "opacity": 0.3,
          "type": "line",
          "x0": "2022-01-28T20:00:00",
          "x1": "2022-01-28T20:00:00",
          "y0": 16540,
          "y1": 71670
         },
         {
          "line": {
           "color": "grey",
           "dash": "dash"
          },
          "opacity": 0.3,
          "type": "line",
          "x0": "2022-01-28T21:00:00",
          "x1": "2022-01-28T21:00:00",
          "y0": 16540,
          "y1": 71670
         },
         {
          "line": {
           "color": "grey",
           "dash": "dash"
          },
          "opacity": 0.3,
          "type": "line",
          "x0": "2022-01-28T22:00:00",
          "x1": "2022-01-28T22:00:00",
          "y0": 16540,
          "y1": 71670
         },
         {
          "line": {
           "color": "grey",
           "dash": "dash"
          },
          "opacity": 0.3,
          "type": "line",
          "x0": "2022-01-28T23:00:00",
          "x1": "2022-01-28T23:00:00",
          "y0": 16540,
          "y1": 71670
         },
         {
          "line": {
           "color": "grey",
           "dash": "dash"
          },
          "opacity": 0.3,
          "type": "line",
          "x0": "2022-01-29T00:00:00",
          "x1": "2022-01-29T00:00:00",
          "y0": 16540,
          "y1": 71670
         },
         {
          "line": {
           "color": "grey",
           "dash": "dash"
          },
          "opacity": 0.3,
          "type": "line",
          "x0": "2022-01-29T01:00:00",
          "x1": "2022-01-29T01:00:00",
          "y0": 16540,
          "y1": 71670
         },
         {
          "line": {
           "color": "grey",
           "dash": "dash"
          },
          "opacity": 0.3,
          "type": "line",
          "x0": "2022-01-29T02:00:00",
          "x1": "2022-01-29T02:00:00",
          "y0": 16540,
          "y1": 71670
         },
         {
          "line": {
           "color": "grey",
           "dash": "dash"
          },
          "opacity": 0.3,
          "type": "line",
          "x0": "2022-01-29T03:00:00",
          "x1": "2022-01-29T03:00:00",
          "y0": 16540,
          "y1": 71670
         },
         {
          "line": {
           "color": "grey",
           "dash": "dash"
          },
          "opacity": 0.3,
          "type": "line",
          "x0": "2022-01-29T04:00:00",
          "x1": "2022-01-29T04:00:00",
          "y0": 16540,
          "y1": 71670
         },
         {
          "line": {
           "color": "grey",
           "dash": "dash"
          },
          "opacity": 0.3,
          "type": "line",
          "x0": "2022-01-29T05:00:00",
          "x1": "2022-01-29T05:00:00",
          "y0": 16540,
          "y1": 71670
         },
         {
          "line": {
           "color": "grey",
           "dash": "dash"
          },
          "opacity": 0.3,
          "type": "line",
          "x0": "2022-01-29T06:00:00",
          "x1": "2022-01-29T06:00:00",
          "y0": 16540,
          "y1": 71670
         },
         {
          "line": {
           "color": "grey",
           "dash": "dash"
          },
          "opacity": 0.3,
          "type": "line",
          "x0": "2022-01-29T07:00:00",
          "x1": "2022-01-29T07:00:00",
          "y0": 16540,
          "y1": 71670
         },
         {
          "line": {
           "color": "grey",
           "dash": "dash"
          },
          "opacity": 0.3,
          "type": "line",
          "x0": "2022-01-29T08:00:00",
          "x1": "2022-01-29T08:00:00",
          "y0": 16540,
          "y1": 71670
         },
         {
          "line": {
           "color": "grey",
           "dash": "dash"
          },
          "opacity": 0.3,
          "type": "line",
          "x0": "2022-01-29T09:00:00",
          "x1": "2022-01-29T09:00:00",
          "y0": 16540,
          "y1": 71670
         },
         {
          "line": {
           "color": "grey",
           "dash": "dash"
          },
          "opacity": 0.3,
          "type": "line",
          "x0": "2022-01-29T10:00:00",
          "x1": "2022-01-29T10:00:00",
          "y0": 16540,
          "y1": 71670
         },
         {
          "line": {
           "color": "grey",
           "dash": "dash"
          },
          "opacity": 0.3,
          "type": "line",
          "x0": "2022-01-29T11:00:00",
          "x1": "2022-01-29T11:00:00",
          "y0": 16540,
          "y1": 71670
         },
         {
          "line": {
           "color": "grey",
           "dash": "dash"
          },
          "opacity": 0.3,
          "type": "line",
          "x0": "2022-01-29T12:00:00",
          "x1": "2022-01-29T12:00:00",
          "y0": 16540,
          "y1": 71670
         },
         {
          "line": {
           "color": "grey",
           "dash": "dash"
          },
          "opacity": 0.3,
          "type": "line",
          "x0": "2022-01-29T13:00:00",
          "x1": "2022-01-29T13:00:00",
          "y0": 16540,
          "y1": 71670
         },
         {
          "line": {
           "color": "grey",
           "dash": "dash"
          },
          "opacity": 0.3,
          "type": "line",
          "x0": "2022-01-29T14:00:00",
          "x1": "2022-01-29T14:00:00",
          "y0": 16540,
          "y1": 71670
         },
         {
          "line": {
           "color": "grey",
           "dash": "dash"
          },
          "opacity": 0.3,
          "type": "line",
          "x0": "2022-01-29T15:00:00",
          "x1": "2022-01-29T15:00:00",
          "y0": 16540,
          "y1": 71670
         },
         {
          "line": {
           "color": "grey",
           "dash": "dash"
          },
          "opacity": 0.3,
          "type": "line",
          "x0": "2022-01-29T16:00:00",
          "x1": "2022-01-29T16:00:00",
          "y0": 16540,
          "y1": 71670
         },
         {
          "line": {
           "color": "grey",
           "dash": "dash"
          },
          "opacity": 0.3,
          "type": "line",
          "x0": "2022-01-29T17:00:00",
          "x1": "2022-01-29T17:00:00",
          "y0": 16540,
          "y1": 71670
         },
         {
          "line": {
           "color": "grey",
           "dash": "dash"
          },
          "opacity": 0.3,
          "type": "line",
          "x0": "2022-01-29T18:00:00",
          "x1": "2022-01-29T18:00:00",
          "y0": 16540,
          "y1": 71670
         },
         {
          "line": {
           "color": "grey",
           "dash": "dash"
          },
          "opacity": 0.3,
          "type": "line",
          "x0": "2022-01-29T19:00:00",
          "x1": "2022-01-29T19:00:00",
          "y0": 16540,
          "y1": 71670
         },
         {
          "line": {
           "color": "grey",
           "dash": "dash"
          },
          "opacity": 0.3,
          "type": "line",
          "x0": "2022-01-29T20:00:00",
          "x1": "2022-01-29T20:00:00",
          "y0": 16540,
          "y1": 71670
         },
         {
          "line": {
           "color": "grey",
           "dash": "dash"
          },
          "opacity": 0.3,
          "type": "line",
          "x0": "2022-01-29T21:00:00",
          "x1": "2022-01-29T21:00:00",
          "y0": 16540,
          "y1": 71670
         },
         {
          "line": {
           "color": "grey",
           "dash": "dash"
          },
          "opacity": 0.3,
          "type": "line",
          "x0": "2022-01-29T22:00:00",
          "x1": "2022-01-29T22:00:00",
          "y0": 16540,
          "y1": 71670
         },
         {
          "line": {
           "color": "grey",
           "dash": "dash"
          },
          "opacity": 0.3,
          "type": "line",
          "x0": "2022-01-29T23:00:00",
          "x1": "2022-01-29T23:00:00",
          "y0": 16540,
          "y1": 71670
         },
         {
          "line": {
           "color": "grey",
           "dash": "dash"
          },
          "opacity": 0.3,
          "type": "line",
          "x0": "2022-01-30T00:00:00",
          "x1": "2022-01-30T00:00:00",
          "y0": 16540,
          "y1": 71670
         },
         {
          "line": {
           "color": "grey",
           "dash": "dash"
          },
          "opacity": 0.3,
          "type": "line",
          "x0": "2022-01-30T01:00:00",
          "x1": "2022-01-30T01:00:00",
          "y0": 16540,
          "y1": 71670
         },
         {
          "line": {
           "color": "grey",
           "dash": "dash"
          },
          "opacity": 0.3,
          "type": "line",
          "x0": "2022-01-30T02:00:00",
          "x1": "2022-01-30T02:00:00",
          "y0": 16540,
          "y1": 71670
         },
         {
          "line": {
           "color": "grey",
           "dash": "dash"
          },
          "opacity": 0.3,
          "type": "line",
          "x0": "2022-01-30T03:00:00",
          "x1": "2022-01-30T03:00:00",
          "y0": 16540,
          "y1": 71670
         },
         {
          "line": {
           "color": "grey",
           "dash": "dash"
          },
          "opacity": 0.3,
          "type": "line",
          "x0": "2022-01-30T04:00:00",
          "x1": "2022-01-30T04:00:00",
          "y0": 16540,
          "y1": 71670
         },
         {
          "line": {
           "color": "grey",
           "dash": "dash"
          },
          "opacity": 0.3,
          "type": "line",
          "x0": "2022-01-30T05:00:00",
          "x1": "2022-01-30T05:00:00",
          "y0": 16540,
          "y1": 71670
         },
         {
          "line": {
           "color": "grey",
           "dash": "dash"
          },
          "opacity": 0.3,
          "type": "line",
          "x0": "2022-01-30T06:00:00",
          "x1": "2022-01-30T06:00:00",
          "y0": 16540,
          "y1": 71670
         },
         {
          "line": {
           "color": "grey",
           "dash": "dash"
          },
          "opacity": 0.3,
          "type": "line",
          "x0": "2022-01-30T07:00:00",
          "x1": "2022-01-30T07:00:00",
          "y0": 16540,
          "y1": 71670
         },
         {
          "line": {
           "color": "grey",
           "dash": "dash"
          },
          "opacity": 0.3,
          "type": "line",
          "x0": "2022-01-30T08:00:00",
          "x1": "2022-01-30T08:00:00",
          "y0": 16540,
          "y1": 71670
         },
         {
          "line": {
           "color": "grey",
           "dash": "dash"
          },
          "opacity": 0.3,
          "type": "line",
          "x0": "2022-01-30T09:00:00",
          "x1": "2022-01-30T09:00:00",
          "y0": 16540,
          "y1": 71670
         },
         {
          "line": {
           "color": "grey",
           "dash": "dash"
          },
          "opacity": 0.3,
          "type": "line",
          "x0": "2022-01-30T10:00:00",
          "x1": "2022-01-30T10:00:00",
          "y0": 16540,
          "y1": 71670
         },
         {
          "line": {
           "color": "grey",
           "dash": "dash"
          },
          "opacity": 0.3,
          "type": "line",
          "x0": "2022-01-30T11:00:00",
          "x1": "2022-01-30T11:00:00",
          "y0": 16540,
          "y1": 71670
         },
         {
          "line": {
           "color": "grey",
           "dash": "dash"
          },
          "opacity": 0.3,
          "type": "line",
          "x0": "2022-01-30T12:00:00",
          "x1": "2022-01-30T12:00:00",
          "y0": 16540,
          "y1": 71670
         },
         {
          "line": {
           "color": "grey",
           "dash": "dash"
          },
          "opacity": 0.3,
          "type": "line",
          "x0": "2022-01-30T13:00:00",
          "x1": "2022-01-30T13:00:00",
          "y0": 16540,
          "y1": 71670
         },
         {
          "line": {
           "color": "grey",
           "dash": "dash"
          },
          "opacity": 0.3,
          "type": "line",
          "x0": "2022-01-30T14:00:00",
          "x1": "2022-01-30T14:00:00",
          "y0": 16540,
          "y1": 71670
         },
         {
          "line": {
           "color": "grey",
           "dash": "dash"
          },
          "opacity": 0.3,
          "type": "line",
          "x0": "2022-01-30T15:00:00",
          "x1": "2022-01-30T15:00:00",
          "y0": 16540,
          "y1": 71670
         },
         {
          "line": {
           "color": "grey",
           "dash": "dash"
          },
          "opacity": 0.3,
          "type": "line",
          "x0": "2022-01-30T16:00:00",
          "x1": "2022-01-30T16:00:00",
          "y0": 16540,
          "y1": 71670
         },
         {
          "line": {
           "color": "grey",
           "dash": "dash"
          },
          "opacity": 0.3,
          "type": "line",
          "x0": "2022-01-30T17:00:00",
          "x1": "2022-01-30T17:00:00",
          "y0": 16540,
          "y1": 71670
         },
         {
          "line": {
           "color": "grey",
           "dash": "dash"
          },
          "opacity": 0.3,
          "type": "line",
          "x0": "2022-01-30T18:00:00",
          "x1": "2022-01-30T18:00:00",
          "y0": 16540,
          "y1": 71670
         },
         {
          "line": {
           "color": "grey",
           "dash": "dash"
          },
          "opacity": 0.3,
          "type": "line",
          "x0": "2022-01-30T19:00:00",
          "x1": "2022-01-30T19:00:00",
          "y0": 16540,
          "y1": 71670
         },
         {
          "line": {
           "color": "grey",
           "dash": "dash"
          },
          "opacity": 0.3,
          "type": "line",
          "x0": "2022-01-30T20:00:00",
          "x1": "2022-01-30T20:00:00",
          "y0": 16540,
          "y1": 71670
         },
         {
          "line": {
           "color": "grey",
           "dash": "dash"
          },
          "opacity": 0.3,
          "type": "line",
          "x0": "2022-01-30T21:00:00",
          "x1": "2022-01-30T21:00:00",
          "y0": 16540,
          "y1": 71670
         },
         {
          "line": {
           "color": "grey",
           "dash": "dash"
          },
          "opacity": 0.3,
          "type": "line",
          "x0": "2022-01-30T22:00:00",
          "x1": "2022-01-30T22:00:00",
          "y0": 16540,
          "y1": 71670
         },
         {
          "line": {
           "color": "grey",
           "dash": "dash"
          },
          "opacity": 0.3,
          "type": "line",
          "x0": "2022-01-30T23:00:00",
          "x1": "2022-01-30T23:00:00",
          "y0": 16540,
          "y1": 71670
         },
         {
          "line": {
           "color": "grey",
           "dash": "dash"
          },
          "opacity": 0.3,
          "type": "line",
          "x0": "2022-01-31T00:00:00",
          "x1": "2022-01-31T00:00:00",
          "y0": 16540,
          "y1": 71670
         },
         {
          "line": {
           "color": "grey",
           "dash": "dash"
          },
          "opacity": 0.3,
          "type": "line",
          "x0": "2022-01-31T01:00:00",
          "x1": "2022-01-31T01:00:00",
          "y0": 16540,
          "y1": 71670
         },
         {
          "line": {
           "color": "grey",
           "dash": "dash"
          },
          "opacity": 0.3,
          "type": "line",
          "x0": "2022-01-31T02:00:00",
          "x1": "2022-01-31T02:00:00",
          "y0": 16540,
          "y1": 71670
         },
         {
          "line": {
           "color": "grey",
           "dash": "dash"
          },
          "opacity": 0.3,
          "type": "line",
          "x0": "2022-01-31T03:00:00",
          "x1": "2022-01-31T03:00:00",
          "y0": 16540,
          "y1": 71670
         },
         {
          "line": {
           "color": "grey",
           "dash": "dash"
          },
          "opacity": 0.3,
          "type": "line",
          "x0": "2022-01-31T04:00:00",
          "x1": "2022-01-31T04:00:00",
          "y0": 16540,
          "y1": 71670
         },
         {
          "line": {
           "color": "grey",
           "dash": "dash"
          },
          "opacity": 0.3,
          "type": "line",
          "x0": "2022-01-31T05:00:00",
          "x1": "2022-01-31T05:00:00",
          "y0": 16540,
          "y1": 71670
         },
         {
          "line": {
           "color": "grey",
           "dash": "dash"
          },
          "opacity": 0.3,
          "type": "line",
          "x0": "2022-01-31T06:00:00",
          "x1": "2022-01-31T06:00:00",
          "y0": 16540,
          "y1": 71670
         },
         {
          "line": {
           "color": "grey",
           "dash": "dash"
          },
          "opacity": 0.3,
          "type": "line",
          "x0": "2022-01-31T07:00:00",
          "x1": "2022-01-31T07:00:00",
          "y0": 16540,
          "y1": 71670
         },
         {
          "line": {
           "color": "grey",
           "dash": "dash"
          },
          "opacity": 0.3,
          "type": "line",
          "x0": "2022-01-31T08:00:00",
          "x1": "2022-01-31T08:00:00",
          "y0": 16540,
          "y1": 71670
         },
         {
          "line": {
           "color": "grey",
           "dash": "dash"
          },
          "opacity": 0.3,
          "type": "line",
          "x0": "2022-01-31T09:00:00",
          "x1": "2022-01-31T09:00:00",
          "y0": 16540,
          "y1": 71670
         },
         {
          "line": {
           "color": "grey",
           "dash": "dash"
          },
          "opacity": 0.3,
          "type": "line",
          "x0": "2022-01-31T10:00:00",
          "x1": "2022-01-31T10:00:00",
          "y0": 16540,
          "y1": 71670
         },
         {
          "line": {
           "color": "grey",
           "dash": "dash"
          },
          "opacity": 0.3,
          "type": "line",
          "x0": "2022-01-31T11:00:00",
          "x1": "2022-01-31T11:00:00",
          "y0": 16540,
          "y1": 71670
         },
         {
          "line": {
           "color": "grey",
           "dash": "dash"
          },
          "opacity": 0.3,
          "type": "line",
          "x0": "2022-01-31T12:00:00",
          "x1": "2022-01-31T12:00:00",
          "y0": 16540,
          "y1": 71670
         },
         {
          "line": {
           "color": "grey",
           "dash": "dash"
          },
          "opacity": 0.3,
          "type": "line",
          "x0": "2022-01-31T13:00:00",
          "x1": "2022-01-31T13:00:00",
          "y0": 16540,
          "y1": 71670
         },
         {
          "line": {
           "color": "grey",
           "dash": "dash"
          },
          "opacity": 0.3,
          "type": "line",
          "x0": "2022-01-31T14:00:00",
          "x1": "2022-01-31T14:00:00",
          "y0": 16540,
          "y1": 71670
         },
         {
          "line": {
           "color": "grey",
           "dash": "dash"
          },
          "opacity": 0.3,
          "type": "line",
          "x0": "2022-01-31T15:00:00",
          "x1": "2022-01-31T15:00:00",
          "y0": 16540,
          "y1": 71670
         },
         {
          "line": {
           "color": "grey",
           "dash": "dash"
          },
          "opacity": 0.3,
          "type": "line",
          "x0": "2022-01-31T16:00:00",
          "x1": "2022-01-31T16:00:00",
          "y0": 16540,
          "y1": 71670
         },
         {
          "line": {
           "color": "grey",
           "dash": "dash"
          },
          "opacity": 0.3,
          "type": "line",
          "x0": "2022-01-31T17:00:00",
          "x1": "2022-01-31T17:00:00",
          "y0": 16540,
          "y1": 71670
         },
         {
          "line": {
           "color": "grey",
           "dash": "dash"
          },
          "opacity": 0.3,
          "type": "line",
          "x0": "2022-01-31T18:00:00",
          "x1": "2022-01-31T18:00:00",
          "y0": 16540,
          "y1": 71670
         },
         {
          "line": {
           "color": "grey",
           "dash": "dash"
          },
          "opacity": 0.3,
          "type": "line",
          "x0": "2022-01-31T19:00:00",
          "x1": "2022-01-31T19:00:00",
          "y0": 16540,
          "y1": 71670
         },
         {
          "line": {
           "color": "grey",
           "dash": "dash"
          },
          "opacity": 0.3,
          "type": "line",
          "x0": "2022-01-31T20:00:00",
          "x1": "2022-01-31T20:00:00",
          "y0": 16540,
          "y1": 71670
         },
         {
          "line": {
           "color": "grey",
           "dash": "dash"
          },
          "opacity": 0.3,
          "type": "line",
          "x0": "2022-01-31T21:00:00",
          "x1": "2022-01-31T21:00:00",
          "y0": 16540,
          "y1": 71670
         },
         {
          "line": {
           "color": "grey",
           "dash": "dash"
          },
          "opacity": 0.3,
          "type": "line",
          "x0": "2022-01-31T22:00:00",
          "x1": "2022-01-31T22:00:00",
          "y0": 16540,
          "y1": 71670
         },
         {
          "line": {
           "color": "grey",
           "dash": "dash"
          },
          "opacity": 0.3,
          "type": "line",
          "x0": "2022-01-31T23:00:00",
          "x1": "2022-01-31T23:00:00",
          "y0": 16540,
          "y1": 71670
         },
         {
          "fillcolor": "red",
          "opacity": 0.5,
          "type": "rect",
          "x0": "2022-01-02T20:00:00",
          "x1": "2022-01-02T18:00:00",
          "y0": 16540,
          "y1": 71670
         }
        ]
       },
       "config": {
        "plotlyServerURL": "https://plot.ly"
       }
      },
      "text/html": "<div>                            <div id=\"e7c86ae8-95a6-4b9c-ac3f-6bf7c97b54ec\" class=\"plotly-graph-div\" style=\"height:525px; width:100%;\"></div>            <script type=\"text/javascript\">                require([\"plotly\"], function(Plotly) {                    window.PLOTLYENV=window.PLOTLYENV || {};                                    if (document.getElementById(\"e7c86ae8-95a6-4b9c-ac3f-6bf7c97b54ec\")) {                    Plotly.newPlot(                        \"e7c86ae8-95a6-4b9c-ac3f-6bf7c97b54ec\",                        [{\"hovertemplate\":\"x=%{x}<br>y=%{y}<extra></extra>\",\"legendgroup\":\"\",\"line\":{\"color\":\"#636efa\",\"dash\":\"solid\",\"shape\":\"linear\"},\"marker\":{\"symbol\":\"circle\"},\"mode\":\"lines\",\"name\":\"\",\"orientation\":\"v\",\"showlegend\":false,\"x\":[\"2022-01-02T15:00:00\",\"2022-01-02T16:00:00\",\"2022-01-02T17:00:00\",\"2022-01-02T18:00:00\",\"2022-01-02T19:00:00\",\"2022-01-02T20:00:00\",\"2022-01-02T21:00:00\",\"2022-01-02T22:00:00\",\"2022-01-02T23:00:00\",\"2022-01-03T00:00:00\",\"2022-01-03T01:00:00\",\"2022-01-03T02:00:00\",\"2022-01-03T03:00:00\",\"2022-01-03T04:00:00\",\"2022-01-03T05:00:00\",\"2022-01-03T06:00:00\",\"2022-01-03T07:00:00\",\"2022-01-03T08:00:00\",\"2022-01-03T09:00:00\",\"2022-01-03T10:00:00\",\"2022-01-03T11:00:00\",\"2022-01-03T12:00:00\",\"2022-01-03T13:00:00\",\"2022-01-03T14:00:00\",\"2022-01-03T15:00:00\",\"2022-01-03T16:00:00\",\"2022-01-03T17:00:00\",\"2022-01-03T18:00:00\",\"2022-01-03T19:00:00\",\"2022-01-03T20:00:00\",\"2022-01-03T21:00:00\",\"2022-01-03T22:00:00\",\"2022-01-03T23:00:00\",\"2022-01-04T00:00:00\",\"2022-01-04T01:00:00\",\"2022-01-04T02:00:00\",\"2022-01-04T03:00:00\",\"2022-01-04T04:00:00\",\"2022-01-04T05:00:00\",\"2022-01-04T06:00:00\",\"2022-01-04T07:00:00\",\"2022-01-04T08:00:00\",\"2022-01-04T09:00:00\",\"2022-01-04T10:00:00\",\"2022-01-04T11:00:00\",\"2022-01-04T12:00:00\",\"2022-01-04T13:00:00\",\"2022-01-04T14:00:00\",\"2022-01-04T15:00:00\",\"2022-01-04T16:00:00\",\"2022-01-04T17:00:00\",\"2022-01-04T18:00:00\",\"2022-01-04T19:00:00\",\"2022-01-04T20:00:00\",\"2022-01-04T21:00:00\",\"2022-01-04T22:00:00\",\"2022-01-04T23:00:00\",\"2022-01-05T00:00:00\",\"2022-01-05T01:00:00\",\"2022-01-05T02:00:00\",\"2022-01-05T03:00:00\",\"2022-01-05T04:00:00\",\"2022-01-05T05:00:00\",\"2022-01-05T06:00:00\",\"2022-01-05T07:00:00\",\"2022-01-05T08:00:00\",\"2022-01-05T09:00:00\",\"2022-01-05T10:00:00\",\"2022-01-05T11:00:00\",\"2022-01-05T12:00:00\",\"2022-01-05T13:00:00\",\"2022-01-05T14:00:00\",\"2022-01-05T15:00:00\",\"2022-01-05T16:00:00\",\"2022-01-05T17:00:00\",\"2022-01-05T18:00:00\",\"2022-01-05T19:00:00\",\"2022-01-05T20:00:00\",\"2022-01-05T21:00:00\",\"2022-01-05T22:00:00\",\"2022-01-05T23:00:00\",\"2022-01-06T00:00:00\",\"2022-01-06T01:00:00\",\"2022-01-06T02:00:00\",\"2022-01-06T03:00:00\",\"2022-01-06T04:00:00\",\"2022-01-06T05:00:00\",\"2022-01-06T06:00:00\",\"2022-01-06T07:00:00\",\"2022-01-06T08:00:00\",\"2022-01-06T09:00:00\",\"2022-01-06T10:00:00\",\"2022-01-06T11:00:00\",\"2022-01-06T12:00:00\",\"2022-01-06T13:00:00\",\"2022-01-06T14:00:00\",\"2022-01-06T15:00:00\",\"2022-01-06T16:00:00\",\"2022-01-06T17:00:00\",\"2022-01-06T18:00:00\",\"2022-01-06T19:00:00\",\"2022-01-06T20:00:00\",\"2022-01-06T21:00:00\",\"2022-01-06T22:00:00\",\"2022-01-06T23:00:00\",\"2022-01-07T00:00:00\",\"2022-01-07T01:00:00\",\"2022-01-07T02:00:00\",\"2022-01-07T03:00:00\",\"2022-01-07T04:00:00\",\"2022-01-07T05:00:00\",\"2022-01-07T06:00:00\",\"2022-01-07T07:00:00\",\"2022-01-07T08:00:00\",\"2022-01-07T09:00:00\",\"2022-01-07T10:00:00\",\"2022-01-07T11:00:00\",\"2022-01-07T12:00:00\",\"2022-01-07T13:00:00\",\"2022-01-07T14:00:00\",\"2022-01-07T15:00:00\",\"2022-01-07T16:00:00\",\"2022-01-07T17:00:00\",\"2022-01-07T18:00:00\",\"2022-01-07T19:00:00\",\"2022-01-07T20:00:00\",\"2022-01-07T21:00:00\",\"2022-01-07T22:00:00\",\"2022-01-07T23:00:00\",\"2022-01-08T00:00:00\",\"2022-01-08T01:00:00\",\"2022-01-08T02:00:00\",\"2022-01-08T03:00:00\",\"2022-01-08T04:00:00\",\"2022-01-08T05:00:00\",\"2022-01-08T06:00:00\",\"2022-01-08T07:00:00\",\"2022-01-08T08:00:00\",\"2022-01-08T09:00:00\",\"2022-01-08T10:00:00\",\"2022-01-08T11:00:00\",\"2022-01-08T12:00:00\",\"2022-01-08T13:00:00\",\"2022-01-08T14:00:00\",\"2022-01-08T15:00:00\",\"2022-01-08T16:00:00\",\"2022-01-08T17:00:00\",\"2022-01-08T18:00:00\",\"2022-01-08T19:00:00\",\"2022-01-08T20:00:00\",\"2022-01-08T21:00:00\",\"2022-01-08T22:00:00\",\"2022-01-08T23:00:00\",\"2022-01-09T00:00:00\",\"2022-01-09T01:00:00\",\"2022-01-09T02:00:00\",\"2022-01-09T03:00:00\",\"2022-01-09T04:00:00\",\"2022-01-09T05:00:00\",\"2022-01-09T06:00:00\",\"2022-01-09T07:00:00\",\"2022-01-09T08:00:00\",\"2022-01-09T09:00:00\",\"2022-01-09T10:00:00\",\"2022-01-09T11:00:00\",\"2022-01-09T12:00:00\",\"2022-01-09T13:00:00\",\"2022-01-09T14:00:00\",\"2022-01-09T15:00:00\",\"2022-01-09T16:00:00\",\"2022-01-09T17:00:00\",\"2022-01-09T18:00:00\",\"2022-01-09T19:00:00\",\"2022-01-09T20:00:00\",\"2022-01-09T21:00:00\",\"2022-01-09T22:00:00\",\"2022-01-09T23:00:00\",\"2022-01-10T00:00:00\",\"2022-01-10T01:00:00\",\"2022-01-10T02:00:00\",\"2022-01-10T03:00:00\",\"2022-01-10T04:00:00\",\"2022-01-10T05:00:00\",\"2022-01-10T06:00:00\",\"2022-01-10T07:00:00\",\"2022-01-10T08:00:00\",\"2022-01-10T09:00:00\",\"2022-01-10T10:00:00\",\"2022-01-10T11:00:00\",\"2022-01-10T12:00:00\",\"2022-01-10T13:00:00\",\"2022-01-10T14:00:00\",\"2022-01-10T15:00:00\",\"2022-01-10T16:00:00\",\"2022-01-10T17:00:00\",\"2022-01-10T18:00:00\",\"2022-01-10T19:00:00\",\"2022-01-10T20:00:00\",\"2022-01-10T21:00:00\",\"2022-01-10T22:00:00\",\"2022-01-10T23:00:00\",\"2022-01-11T00:00:00\",\"2022-01-11T01:00:00\",\"2022-01-11T02:00:00\",\"2022-01-11T03:00:00\",\"2022-01-11T04:00:00\",\"2022-01-11T05:00:00\",\"2022-01-11T06:00:00\",\"2022-01-11T07:00:00\",\"2022-01-11T08:00:00\",\"2022-01-11T09:00:00\",\"2022-01-11T10:00:00\",\"2022-01-11T11:00:00\",\"2022-01-11T12:00:00\",\"2022-01-11T13:00:00\",\"2022-01-11T14:00:00\",\"2022-01-11T15:00:00\",\"2022-01-11T16:00:00\",\"2022-01-11T17:00:00\",\"2022-01-11T18:00:00\",\"2022-01-11T19:00:00\",\"2022-01-11T20:00:00\",\"2022-01-11T21:00:00\",\"2022-01-11T22:00:00\",\"2022-01-11T23:00:00\",\"2022-01-12T00:00:00\",\"2022-01-12T01:00:00\",\"2022-01-12T02:00:00\",\"2022-01-12T03:00:00\",\"2022-01-12T04:00:00\",\"2022-01-12T05:00:00\",\"2022-01-12T06:00:00\",\"2022-01-12T07:00:00\",\"2022-01-12T08:00:00\",\"2022-01-12T09:00:00\",\"2022-01-12T10:00:00\",\"2022-01-12T11:00:00\",\"2022-01-12T12:00:00\",\"2022-01-12T13:00:00\",\"2022-01-12T14:00:00\",\"2022-01-12T15:00:00\",\"2022-01-12T16:00:00\",\"2022-01-12T17:00:00\",\"2022-01-12T18:00:00\",\"2022-01-12T19:00:00\",\"2022-01-12T20:00:00\",\"2022-01-12T21:00:00\",\"2022-01-12T22:00:00\",\"2022-01-12T23:00:00\",\"2022-01-13T00:00:00\",\"2022-01-13T01:00:00\",\"2022-01-13T02:00:00\",\"2022-01-13T03:00:00\",\"2022-01-13T04:00:00\",\"2022-01-13T05:00:00\",\"2022-01-13T06:00:00\",\"2022-01-13T07:00:00\",\"2022-01-13T08:00:00\",\"2022-01-13T09:00:00\",\"2022-01-13T10:00:00\",\"2022-01-13T11:00:00\",\"2022-01-13T12:00:00\",\"2022-01-13T13:00:00\",\"2022-01-13T14:00:00\",\"2022-01-13T15:00:00\",\"2022-01-13T16:00:00\",\"2022-01-13T17:00:00\",\"2022-01-13T18:00:00\",\"2022-01-13T19:00:00\",\"2022-01-13T20:00:00\",\"2022-01-13T21:00:00\",\"2022-01-13T22:00:00\",\"2022-01-13T23:00:00\",\"2022-01-14T00:00:00\",\"2022-01-14T01:00:00\",\"2022-01-14T02:00:00\",\"2022-01-14T03:00:00\",\"2022-01-14T04:00:00\",\"2022-01-14T05:00:00\",\"2022-01-14T06:00:00\",\"2022-01-14T07:00:00\",\"2022-01-14T08:00:00\",\"2022-01-14T09:00:00\",\"2022-01-14T10:00:00\",\"2022-01-14T11:00:00\",\"2022-01-14T12:00:00\",\"2022-01-14T13:00:00\",\"2022-01-14T14:00:00\",\"2022-01-14T15:00:00\",\"2022-01-14T16:00:00\",\"2022-01-14T17:00:00\",\"2022-01-14T18:00:00\",\"2022-01-14T19:00:00\",\"2022-01-14T20:00:00\",\"2022-01-14T21:00:00\",\"2022-01-14T22:00:00\",\"2022-01-14T23:00:00\",\"2022-01-15T00:00:00\",\"2022-01-15T01:00:00\",\"2022-01-15T02:00:00\",\"2022-01-15T03:00:00\",\"2022-01-15T04:00:00\",\"2022-01-15T05:00:00\",\"2022-01-15T06:00:00\",\"2022-01-15T07:00:00\",\"2022-01-15T08:00:00\",\"2022-01-15T09:00:00\",\"2022-01-15T10:00:00\",\"2022-01-15T11:00:00\",\"2022-01-15T12:00:00\",\"2022-01-15T13:00:00\",\"2022-01-15T14:00:00\",\"2022-01-15T15:00:00\",\"2022-01-15T16:00:00\",\"2022-01-15T17:00:00\",\"2022-01-15T18:00:00\",\"2022-01-15T19:00:00\",\"2022-01-15T20:00:00\",\"2022-01-15T21:00:00\",\"2022-01-15T22:00:00\",\"2022-01-15T23:00:00\",\"2022-01-16T00:00:00\",\"2022-01-16T01:00:00\",\"2022-01-16T02:00:00\",\"2022-01-16T03:00:00\",\"2022-01-16T04:00:00\",\"2022-01-16T05:00:00\",\"2022-01-16T06:00:00\",\"2022-01-16T07:00:00\",\"2022-01-16T08:00:00\",\"2022-01-16T09:00:00\",\"2022-01-16T10:00:00\",\"2022-01-16T11:00:00\",\"2022-01-16T12:00:00\",\"2022-01-16T13:00:00\",\"2022-01-16T14:00:00\",\"2022-01-16T15:00:00\",\"2022-01-16T16:00:00\",\"2022-01-16T17:00:00\",\"2022-01-16T18:00:00\",\"2022-01-16T19:00:00\",\"2022-01-16T20:00:00\",\"2022-01-16T21:00:00\",\"2022-01-16T22:00:00\",\"2022-01-16T23:00:00\",\"2022-01-17T00:00:00\",\"2022-01-17T01:00:00\",\"2022-01-17T02:00:00\",\"2022-01-17T03:00:00\",\"2022-01-17T04:00:00\",\"2022-01-17T05:00:00\",\"2022-01-17T06:00:00\",\"2022-01-17T07:00:00\",\"2022-01-17T08:00:00\",\"2022-01-17T09:00:00\",\"2022-01-17T10:00:00\",\"2022-01-17T11:00:00\",\"2022-01-17T12:00:00\",\"2022-01-17T13:00:00\",\"2022-01-17T14:00:00\",\"2022-01-17T15:00:00\",\"2022-01-17T16:00:00\",\"2022-01-17T17:00:00\",\"2022-01-17T18:00:00\",\"2022-01-17T19:00:00\",\"2022-01-17T20:00:00\",\"2022-01-17T21:00:00\",\"2022-01-17T22:00:00\",\"2022-01-17T23:00:00\",\"2022-01-18T00:00:00\",\"2022-01-18T01:00:00\",\"2022-01-18T02:00:00\",\"2022-01-18T03:00:00\",\"2022-01-18T04:00:00\",\"2022-01-18T05:00:00\",\"2022-01-18T06:00:00\",\"2022-01-18T07:00:00\",\"2022-01-18T08:00:00\",\"2022-01-18T09:00:00\",\"2022-01-18T10:00:00\",\"2022-01-18T11:00:00\",\"2022-01-18T12:00:00\",\"2022-01-18T13:00:00\",\"2022-01-18T14:00:00\",\"2022-01-18T15:00:00\",\"2022-01-18T16:00:00\",\"2022-01-18T17:00:00\",\"2022-01-18T18:00:00\",\"2022-01-18T19:00:00\",\"2022-01-18T20:00:00\",\"2022-01-18T21:00:00\",\"2022-01-18T22:00:00\",\"2022-01-18T23:00:00\",\"2022-01-19T00:00:00\",\"2022-01-19T01:00:00\",\"2022-01-19T02:00:00\",\"2022-01-19T03:00:00\",\"2022-01-19T04:00:00\",\"2022-01-19T05:00:00\",\"2022-01-19T06:00:00\",\"2022-01-19T07:00:00\",\"2022-01-19T08:00:00\",\"2022-01-19T09:00:00\",\"2022-01-19T10:00:00\",\"2022-01-19T11:00:00\",\"2022-01-19T12:00:00\",\"2022-01-19T13:00:00\",\"2022-01-19T14:00:00\",\"2022-01-19T15:00:00\",\"2022-01-19T16:00:00\",\"2022-01-19T17:00:00\",\"2022-01-19T18:00:00\",\"2022-01-19T19:00:00\",\"2022-01-19T20:00:00\",\"2022-01-19T21:00:00\",\"2022-01-19T22:00:00\",\"2022-01-19T23:00:00\",\"2022-01-20T00:00:00\",\"2022-01-20T01:00:00\",\"2022-01-20T02:00:00\",\"2022-01-20T03:00:00\",\"2022-01-20T04:00:00\",\"2022-01-20T05:00:00\",\"2022-01-20T06:00:00\",\"2022-01-20T07:00:00\",\"2022-01-20T08:00:00\",\"2022-01-20T09:00:00\",\"2022-01-20T10:00:00\",\"2022-01-20T11:00:00\",\"2022-01-20T12:00:00\",\"2022-01-20T13:00:00\",\"2022-01-20T14:00:00\",\"2022-01-20T15:00:00\",\"2022-01-20T16:00:00\",\"2022-01-20T17:00:00\",\"2022-01-20T18:00:00\",\"2022-01-20T19:00:00\",\"2022-01-20T20:00:00\",\"2022-01-20T21:00:00\",\"2022-01-20T22:00:00\",\"2022-01-20T23:00:00\",\"2022-01-21T00:00:00\",\"2022-01-21T01:00:00\",\"2022-01-21T02:00:00\",\"2022-01-21T03:00:00\",\"2022-01-21T04:00:00\",\"2022-01-21T05:00:00\",\"2022-01-21T06:00:00\",\"2022-01-21T07:00:00\",\"2022-01-21T08:00:00\",\"2022-01-21T09:00:00\",\"2022-01-21T10:00:00\",\"2022-01-21T11:00:00\",\"2022-01-21T12:00:00\",\"2022-01-21T13:00:00\",\"2022-01-21T14:00:00\",\"2022-01-21T15:00:00\",\"2022-01-21T16:00:00\",\"2022-01-21T17:00:00\",\"2022-01-21T18:00:00\",\"2022-01-21T19:00:00\",\"2022-01-21T20:00:00\",\"2022-01-21T21:00:00\",\"2022-01-21T22:00:00\",\"2022-01-21T23:00:00\",\"2022-01-22T00:00:00\",\"2022-01-22T01:00:00\",\"2022-01-22T02:00:00\",\"2022-01-22T03:00:00\",\"2022-01-22T04:00:00\",\"2022-01-22T05:00:00\",\"2022-01-22T06:00:00\",\"2022-01-22T07:00:00\",\"2022-01-22T08:00:00\",\"2022-01-22T09:00:00\",\"2022-01-22T10:00:00\",\"2022-01-22T11:00:00\",\"2022-01-22T12:00:00\",\"2022-01-22T13:00:00\",\"2022-01-22T14:00:00\",\"2022-01-22T15:00:00\",\"2022-01-22T16:00:00\",\"2022-01-22T17:00:00\",\"2022-01-22T18:00:00\",\"2022-01-22T19:00:00\",\"2022-01-22T20:00:00\",\"2022-01-22T21:00:00\",\"2022-01-22T22:00:00\",\"2022-01-22T23:00:00\",\"2022-01-23T00:00:00\",\"2022-01-23T01:00:00\",\"2022-01-23T02:00:00\",\"2022-01-23T03:00:00\",\"2022-01-23T04:00:00\",\"2022-01-23T05:00:00\",\"2022-01-23T06:00:00\",\"2022-01-23T07:00:00\",\"2022-01-23T08:00:00\",\"2022-01-23T09:00:00\",\"2022-01-23T10:00:00\",\"2022-01-23T11:00:00\",\"2022-01-23T12:00:00\",\"2022-01-23T13:00:00\",\"2022-01-23T14:00:00\",\"2022-01-23T15:00:00\",\"2022-01-23T16:00:00\",\"2022-01-23T17:00:00\",\"2022-01-23T18:00:00\",\"2022-01-23T19:00:00\",\"2022-01-23T20:00:00\",\"2022-01-23T21:00:00\",\"2022-01-23T22:00:00\",\"2022-01-23T23:00:00\",\"2022-01-24T00:00:00\",\"2022-01-24T01:00:00\",\"2022-01-24T02:00:00\",\"2022-01-24T03:00:00\",\"2022-01-24T04:00:00\",\"2022-01-24T05:00:00\",\"2022-01-24T06:00:00\",\"2022-01-24T07:00:00\",\"2022-01-24T08:00:00\",\"2022-01-24T09:00:00\",\"2022-01-24T10:00:00\",\"2022-01-24T11:00:00\",\"2022-01-24T12:00:00\",\"2022-01-24T13:00:00\",\"2022-01-24T14:00:00\",\"2022-01-24T15:00:00\",\"2022-01-24T16:00:00\",\"2022-01-24T17:00:00\",\"2022-01-24T18:00:00\",\"2022-01-24T19:00:00\",\"2022-01-24T20:00:00\",\"2022-01-24T21:00:00\",\"2022-01-24T22:00:00\",\"2022-01-24T23:00:00\",\"2022-01-25T00:00:00\",\"2022-01-25T01:00:00\",\"2022-01-25T02:00:00\",\"2022-01-25T03:00:00\",\"2022-01-25T04:00:00\",\"2022-01-25T05:00:00\",\"2022-01-25T06:00:00\",\"2022-01-25T07:00:00\",\"2022-01-25T08:00:00\",\"2022-01-25T09:00:00\",\"2022-01-25T10:00:00\",\"2022-01-25T11:00:00\",\"2022-01-25T12:00:00\",\"2022-01-25T13:00:00\",\"2022-01-25T14:00:00\",\"2022-01-25T15:00:00\",\"2022-01-25T16:00:00\",\"2022-01-25T17:00:00\",\"2022-01-25T18:00:00\",\"2022-01-25T19:00:00\",\"2022-01-25T20:00:00\",\"2022-01-25T21:00:00\",\"2022-01-25T22:00:00\",\"2022-01-25T23:00:00\",\"2022-01-26T00:00:00\",\"2022-01-26T01:00:00\",\"2022-01-26T02:00:00\",\"2022-01-26T03:00:00\",\"2022-01-26T04:00:00\",\"2022-01-26T05:00:00\",\"2022-01-26T06:00:00\",\"2022-01-26T07:00:00\",\"2022-01-26T08:00:00\",\"2022-01-26T09:00:00\",\"2022-01-26T10:00:00\",\"2022-01-26T11:00:00\",\"2022-01-26T12:00:00\",\"2022-01-26T13:00:00\",\"2022-01-26T14:00:00\",\"2022-01-26T15:00:00\",\"2022-01-26T16:00:00\",\"2022-01-26T17:00:00\",\"2022-01-26T18:00:00\",\"2022-01-26T19:00:00\",\"2022-01-26T20:00:00\",\"2022-01-26T21:00:00\",\"2022-01-26T22:00:00\",\"2022-01-26T23:00:00\",\"2022-01-27T00:00:00\",\"2022-01-27T01:00:00\",\"2022-01-27T02:00:00\",\"2022-01-27T03:00:00\",\"2022-01-27T04:00:00\",\"2022-01-27T05:00:00\",\"2022-01-27T06:00:00\",\"2022-01-27T07:00:00\",\"2022-01-27T08:00:00\",\"2022-01-27T09:00:00\",\"2022-01-27T10:00:00\",\"2022-01-27T11:00:00\",\"2022-01-27T12:00:00\",\"2022-01-27T13:00:00\",\"2022-01-27T14:00:00\",\"2022-01-27T15:00:00\",\"2022-01-27T16:00:00\",\"2022-01-27T17:00:00\",\"2022-01-27T18:00:00\",\"2022-01-27T19:00:00\",\"2022-01-27T20:00:00\",\"2022-01-27T21:00:00\",\"2022-01-27T22:00:00\",\"2022-01-27T23:00:00\",\"2022-01-28T00:00:00\",\"2022-01-28T01:00:00\",\"2022-01-28T02:00:00\",\"2022-01-28T03:00:00\",\"2022-01-28T04:00:00\",\"2022-01-28T05:00:00\",\"2022-01-28T06:00:00\",\"2022-01-28T07:00:00\",\"2022-01-28T08:00:00\",\"2022-01-28T09:00:00\",\"2022-01-28T10:00:00\",\"2022-01-28T11:00:00\",\"2022-01-28T12:00:00\",\"2022-01-28T13:00:00\",\"2022-01-28T14:00:00\",\"2022-01-28T15:00:00\",\"2022-01-28T16:00:00\",\"2022-01-28T17:00:00\",\"2022-01-28T18:00:00\",\"2022-01-28T19:00:00\",\"2022-01-28T20:00:00\",\"2022-01-28T21:00:00\",\"2022-01-28T22:00:00\",\"2022-01-28T23:00:00\",\"2022-01-29T00:00:00\",\"2022-01-29T01:00:00\",\"2022-01-29T02:00:00\",\"2022-01-29T03:00:00\",\"2022-01-29T04:00:00\",\"2022-01-29T05:00:00\",\"2022-01-29T06:00:00\",\"2022-01-29T07:00:00\",\"2022-01-29T08:00:00\",\"2022-01-29T09:00:00\",\"2022-01-29T10:00:00\",\"2022-01-29T11:00:00\",\"2022-01-29T12:00:00\",\"2022-01-29T13:00:00\",\"2022-01-29T14:00:00\",\"2022-01-29T15:00:00\",\"2022-01-29T16:00:00\",\"2022-01-29T17:00:00\",\"2022-01-29T18:00:00\",\"2022-01-29T19:00:00\",\"2022-01-29T20:00:00\",\"2022-01-29T21:00:00\",\"2022-01-29T22:00:00\",\"2022-01-29T23:00:00\",\"2022-01-30T00:00:00\",\"2022-01-30T01:00:00\",\"2022-01-30T02:00:00\",\"2022-01-30T03:00:00\",\"2022-01-30T04:00:00\",\"2022-01-30T05:00:00\",\"2022-01-30T06:00:00\",\"2022-01-30T07:00:00\",\"2022-01-30T08:00:00\",\"2022-01-30T09:00:00\",\"2022-01-30T10:00:00\",\"2022-01-30T11:00:00\",\"2022-01-30T12:00:00\",\"2022-01-30T13:00:00\",\"2022-01-30T14:00:00\",\"2022-01-30T15:00:00\",\"2022-01-30T16:00:00\",\"2022-01-30T17:00:00\",\"2022-01-30T18:00:00\",\"2022-01-30T19:00:00\",\"2022-01-30T20:00:00\",\"2022-01-30T21:00:00\",\"2022-01-30T22:00:00\",\"2022-01-30T23:00:00\",\"2022-01-31T00:00:00\",\"2022-01-31T01:00:00\",\"2022-01-31T02:00:00\",\"2022-01-31T03:00:00\",\"2022-01-31T04:00:00\",\"2022-01-31T05:00:00\",\"2022-01-31T06:00:00\",\"2022-01-31T07:00:00\",\"2022-01-31T08:00:00\",\"2022-01-31T09:00:00\",\"2022-01-31T10:00:00\",\"2022-01-31T11:00:00\",\"2022-01-31T12:00:00\",\"2022-01-31T13:00:00\",\"2022-01-31T14:00:00\",\"2022-01-31T15:00:00\",\"2022-01-31T16:00:00\",\"2022-01-31T17:00:00\",\"2022-01-31T18:00:00\",\"2022-01-31T19:00:00\",\"2022-01-31T20:00:00\",\"2022-01-31T21:00:00\",\"2022-01-31T22:00:00\",\"2022-01-31T23:00:00\"],\"xaxis\":\"x\",\"y\":[47329.68,47780.0,47402.3,47046.95,46908.29,47012.47,47023.47,47261.73,47280.0,47059.43,47117.42,47005.39,46802.86,46823.58,47083.37,46930.85,47041.11,46970.01,46979.01,47116.89,47364.11,47192.64,47157.33,46874.66,46689.99,46484.0,46564.54,46469.49,46364.55,45904.74,45974.5,46214.28,46445.81,46251.5,46065.39,46111.81,46313.95,46107.5,46151.49,46359.14,46521.68,46475.02,46355.2,46599.84,46709.98,46628.88,46933.15,47303.01,46925.28,46767.94,46564.0,45742.69,46058.09,46267.79,46230.6,46155.89,45833.42,46260.08,46112.1,46291.45,46409.76,46419.0,46302.72,46454.0,46399.33,46626.53,46850.75,46809.4,46271.93,46228.27,46429.36,46682.79,46611.46,46308.23,46007.99,45922.29,44673.22,43958.56,43604.0,43415.84,43421.69,43656.0,43525.91,43248.4,42817.38,43007.21,43038.12,43091.6,43222.22,43050.0,42591.58,42874.38,42865.15,43047.4,43123.15,42802.24,42947.79,42878.24,42994.68,43353.88,43409.03,43206.67,43105.1,43163.57,43080.01,42787.99,42988.26,42795.77,41789.97,41680.0,41835.97,41520.0,41691.61,42089.3,42409.0,42167.9,42249.99,42393.02,41471.53,41876.11,41297.41,42131.75,41978.79,41695.07,41764.32,41910.96,41862.38,41522.5,41553.86,41992.23,41880.01,41870.9,41796.03,41880.0,41954.47,41901.74,41902.21,41948.85,42138.03,41907.21,41918.02,41851.23,41884.04,41737.01,41600.72,41342.06,40846.58,40684.09,40837.51,40976.06,41775.18,41912.88,41688.05,41774.19,41800.81,42090.34,41835.6,42065.29,41762.99,41866.0,41784.63,41657.45,41503.75,41636.97,41854.25,41737.43,41467.75,41530.99,41611.09,42127.99,42084.96,41954.99,42678.95,42414.64,42290.28,42193.23,41851.22,41644.58,41790.01,41905.0,41946.05,42164.36,42006.0,41914.84,42034.99,41803.54,41788.54,41765.01,41564.26,40931.61,40753.0,40768.6,40973.56,41892.96,41167.99,41584.61,41280.45,41698.68,41696.66,41592.95,41801.55,41585.19,41913.72,42146.26,42251.59,42284.21,42096.61,42088.99,42191.79,41978.17,41967.92,41619.09,41800.95,41796.8,41691.83,41616.57,41716.42,42684.18,42523.15,42730.31,42938.55,42774.08,42643.77,42685.05,42700.68,42664.57,42617.4,42545.54,42592.92,42614.35,42688.49,42661.99,42550.09,42594.19,42778.0,42739.14,42906.98,43245.67,43881.76,43819.68,43549.99,43593.0,43814.93,43570.0,43707.2,43794.87,43756.14,43813.58,43880.72,43699.62,43540.96,43583.2,43501.19,43604.4,43645.7,43692.74,43682.7,43876.44,43855.47,43766.01,43592.1,43786.9,43891.64,44120.24,43170.0,43224.79,42800.0,42699.54,42690.02,42760.66,42780.0,42566.68,42534.32,42732.33,42576.16,42690.0,42611.77,42655.5,42864.34,42781.41,42635.62,42505.72,42535.65,42059.75,41983.12,42029.37,42140.37,42945.09,43082.57,43183.63,42904.07,43030.9,43055.09,43075.96,43268.35,43230.0,43042.4,43082.04,42965.85,43080.0,42918.27,42895.77,42965.67,43048.54,43073.99,42968.18,43042.65,43085.01,42995.23,42700.0,42889.22,43162.19,43370.01,43306.35,43348.2,43297.97,43496.85,43473.72,43281.73,43225.92,43070.51,43060.0,42979.6,42915.41,42966.51,43004.91,42941.14,43171.67,43173.02,43063.92,43064.22,42904.4,42960.0,42990.01,43097.88,43280.64,43207.81,43359.08,43059.54,43042.16,42817.01,43014.28,42937.0,43157.21,43060.66,42873.86,42879.99,42901.91,42635.91,42606.26,42649.7,42730.98,42639.51,42770.01,42825.25,42775.48,42656.61,42544.28,42631.58,42645.25,42467.49,42212.29,42108.49,42162.86,42221.15,42065.0,41710.21,42063.78,42176.34,42338.0,42238.63,42254.78,42027.18,42022.52,42084.88,42219.79,42040.0,41709.99,41885.84,41909.98,41842.4,41793.31,41640.32,41441.51,41574.09,41693.15,41480.65,41596.98,41680.93,41767.25,42348.55,42460.89,42337.58,42242.57,42409.54,42324.74,41690.59,41699.55,41751.99,41700.0,41271.21,41362.88,41553.2,41494.2,42023.15,42075.1,42171.24,42475.99,41971.31,41904.33,42150.0,42000.01,41864.47,41626.0,41704.26,41956.47,41657.89,41824.64,41756.21,41969.69,41915.36,41875.9,41878.84,41988.84,42039.99,41956.98,42038.6,42089.94,42117.31,42019.89,42368.81,42941.36,43275.74,43257.22,43020.35,42824.44,42909.99,42715.35,41319.68,41137.96,40661.69,40884.57,39750.69,39818.48,38447.91,38819.99,38888.95,38663.95,39106.42,39140.86,38942.78,38956.26,38878.71,38169.34,38484.39,38411.24,38831.88,38704.37,38369.69,38254.15,37967.04,38337.36,36634.29,36093.06,36425.98,36468.66,36475.49,36460.42,36319.99,36258.38,35728.06,35706.43,35374.14,35583.24,34804.48,35461.77,35385.59,35744.46,35572.97,35008.02,34829.93,35085.04,34590.01,34379.45,34506.47,35275.85,35364.01,34861.04,35043.73,35378.61,35296.61,34862.32,35032.09,35199.96,35429.32,35262.76,35553.2,35820.2,35860.35,35883.99,35671.57,35780.01,35944.34,35308.53,35265.33,35211.97,35314.96,34942.06,34763.65,35271.3,35335.74,35490.61,36230.01,35820.19,35640.34,35191.05,35315.02,35106.28,35164.38,35257.01,34875.53,34952.37,34500.0,33270.45,33690.01,33080.0,33319.31,33609.51,34217.72,34384.59,35331.17,36154.52,36050.48,37210.38,36800.0,36368.23,36648.31,36027.97,36116.84,36298.0,36405.01,35939.0,36037.16,35834.99,36035.0,36059.27,36389.86,36410.05,36385.0,36497.26,36479.25,36285.7,36522.01,36805.52,37245.24,37299.99,37039.99,36836.91,36544.92,36769.99,36934.26,36618.66,36833.76,36800.15,37363.81,37762.15,37575.0,37284.0,37321.95,37571.86,37620.01,37910.63,38045.91,37737.5,38170.01,38201.88,37962.11,38234.95,38032.27,37950.7,37548.79,36989.1,36311.23,36489.99,36787.43,36975.1,35868.54,35995.29,35730.42,35912.56,35953.76,36113.73,36150.76,36420.01,36505.31,36301.17,36670.15,36650.16,36806.08,36856.18,36625.3,36513.66,36266.37,36191.5,36194.34,35574.0,36168.83,36683.88,37131.0,37129.08,36862.77,36928.66,37341.84,37210.01,37196.06,36896.94,36788.86,36643.79,36473.29,36596.93,36433.29,36268.18,36890.17,36749.65,37169.99,37082.54,36832.16,37022.43,37205.88,37730.18,37780.0,37642.62,37696.21,37771.58,37520.01,37524.39,37715.0,37793.51,37644.0,37729.08,37822.15,37767.6,37690.66,37740.1,37723.57,37826.86,38129.98,37599.38,37543.79,37519.07,37628.76,37781.35,37831.0,38319.8,38336.71,38120.2,38150.01,37808.09,37916.8,37940.63,37899.99,38081.78,38122.67,38090.01,38228.0,37992.01,37881.93,38173.57,38095.46,37921.37,37945.42,37825.49,37962.13,37822.24,37975.0,37813.89,37505.73,37665.0,37713.0,37767.09,37870.01,36821.39,36804.37,36965.9,36998.67,36894.99,36981.0,36901.05,37098.68,37124.29,37185.01,37274.01,37245.0,37063.91,37225.71,37484.04,37694.46,38304.62,38449.98,38446.43,38400.0,38432.32,38395.17,38385.61,38439.04],\"yaxis\":\"y\",\"type\":\"scatter\"}],                        {\"template\":{\"data\":{\"histogram2dcontour\":[{\"type\":\"histogram2dcontour\",\"colorbar\":{\"outlinewidth\":0,\"ticks\":\"\"},\"colorscale\":[[0.0,\"#0d0887\"],[0.1111111111111111,\"#46039f\"],[0.2222222222222222,\"#7201a8\"],[0.3333333333333333,\"#9c179e\"],[0.4444444444444444,\"#bd3786\"],[0.5555555555555556,\"#d8576b\"],[0.6666666666666666,\"#ed7953\"],[0.7777777777777778,\"#fb9f3a\"],[0.8888888888888888,\"#fdca26\"],[1.0,\"#f0f921\"]]}],\"choropleth\":[{\"type\":\"choropleth\",\"colorbar\":{\"outlinewidth\":0,\"ticks\":\"\"}}],\"histogram2d\":[{\"type\":\"histogram2d\",\"colorbar\":{\"outlinewidth\":0,\"ticks\":\"\"},\"colorscale\":[[0.0,\"#0d0887\"],[0.1111111111111111,\"#46039f\"],[0.2222222222222222,\"#7201a8\"],[0.3333333333333333,\"#9c179e\"],[0.4444444444444444,\"#bd3786\"],[0.5555555555555556,\"#d8576b\"],[0.6666666666666666,\"#ed7953\"],[0.7777777777777778,\"#fb9f3a\"],[0.8888888888888888,\"#fdca26\"],[1.0,\"#f0f921\"]]}],\"heatmap\":[{\"type\":\"heatmap\",\"colorbar\":{\"outlinewidth\":0,\"ticks\":\"\"},\"colorscale\":[[0.0,\"#0d0887\"],[0.1111111111111111,\"#46039f\"],[0.2222222222222222,\"#7201a8\"],[0.3333333333333333,\"#9c179e\"],[0.4444444444444444,\"#bd3786\"],[0.5555555555555556,\"#d8576b\"],[0.6666666666666666,\"#ed7953\"],[0.7777777777777778,\"#fb9f3a\"],[0.8888888888888888,\"#fdca26\"],[1.0,\"#f0f921\"]]}],\"heatmapgl\":[{\"type\":\"heatmapgl\",\"colorbar\":{\"outlinewidth\":0,\"ticks\":\"\"},\"colorscale\":[[0.0,\"#0d0887\"],[0.1111111111111111,\"#46039f\"],[0.2222222222222222,\"#7201a8\"],[0.3333333333333333,\"#9c179e\"],[0.4444444444444444,\"#bd3786\"],[0.5555555555555556,\"#d8576b\"],[0.6666666666666666,\"#ed7953\"],[0.7777777777777778,\"#fb9f3a\"],[0.8888888888888888,\"#fdca26\"],[1.0,\"#f0f921\"]]}],\"contourcarpet\":[{\"type\":\"contourcarpet\",\"colorbar\":{\"outlinewidth\":0,\"ticks\":\"\"}}],\"contour\":[{\"type\":\"contour\",\"colorbar\":{\"outlinewidth\":0,\"ticks\":\"\"},\"colorscale\":[[0.0,\"#0d0887\"],[0.1111111111111111,\"#46039f\"],[0.2222222222222222,\"#7201a8\"],[0.3333333333333333,\"#9c179e\"],[0.4444444444444444,\"#bd3786\"],[0.5555555555555556,\"#d8576b\"],[0.6666666666666666,\"#ed7953\"],[0.7777777777777778,\"#fb9f3a\"],[0.8888888888888888,\"#fdca26\"],[1.0,\"#f0f921\"]]}],\"surface\":[{\"type\":\"surface\",\"colorbar\":{\"outlinewidth\":0,\"ticks\":\"\"},\"colorscale\":[[0.0,\"#0d0887\"],[0.1111111111111111,\"#46039f\"],[0.2222222222222222,\"#7201a8\"],[0.3333333333333333,\"#9c179e\"],[0.4444444444444444,\"#bd3786\"],[0.5555555555555556,\"#d8576b\"],[0.6666666666666666,\"#ed7953\"],[0.7777777777777778,\"#fb9f3a\"],[0.8888888888888888,\"#fdca26\"],[1.0,\"#f0f921\"]]}],\"mesh3d\":[{\"type\":\"mesh3d\",\"colorbar\":{\"outlinewidth\":0,\"ticks\":\"\"}}],\"scatter\":[{\"fillpattern\":{\"fillmode\":\"overlay\",\"size\":10,\"solidity\":0.2},\"type\":\"scatter\"}],\"parcoords\":[{\"type\":\"parcoords\",\"line\":{\"colorbar\":{\"outlinewidth\":0,\"ticks\":\"\"}}}],\"scatterpolargl\":[{\"type\":\"scatterpolargl\",\"marker\":{\"colorbar\":{\"outlinewidth\":0,\"ticks\":\"\"}}}],\"bar\":[{\"error_x\":{\"color\":\"#2a3f5f\"},\"error_y\":{\"color\":\"#2a3f5f\"},\"marker\":{\"line\":{\"color\":\"#E5ECF6\",\"width\":0.5},\"pattern\":{\"fillmode\":\"overlay\",\"size\":10,\"solidity\":0.2}},\"type\":\"bar\"}],\"scattergeo\":[{\"type\":\"scattergeo\",\"marker\":{\"colorbar\":{\"outlinewidth\":0,\"ticks\":\"\"}}}],\"scatterpolar\":[{\"type\":\"scatterpolar\",\"marker\":{\"colorbar\":{\"outlinewidth\":0,\"ticks\":\"\"}}}],\"histogram\":[{\"marker\":{\"pattern\":{\"fillmode\":\"overlay\",\"size\":10,\"solidity\":0.2}},\"type\":\"histogram\"}],\"scattergl\":[{\"type\":\"scattergl\",\"marker\":{\"colorbar\":{\"outlinewidth\":0,\"ticks\":\"\"}}}],\"scatter3d\":[{\"type\":\"scatter3d\",\"line\":{\"colorbar\":{\"outlinewidth\":0,\"ticks\":\"\"}},\"marker\":{\"colorbar\":{\"outlinewidth\":0,\"ticks\":\"\"}}}],\"scattermapbox\":[{\"type\":\"scattermapbox\",\"marker\":{\"colorbar\":{\"outlinewidth\":0,\"ticks\":\"\"}}}],\"scatterternary\":[{\"type\":\"scatterternary\",\"marker\":{\"colorbar\":{\"outlinewidth\":0,\"ticks\":\"\"}}}],\"scattercarpet\":[{\"type\":\"scattercarpet\",\"marker\":{\"colorbar\":{\"outlinewidth\":0,\"ticks\":\"\"}}}],\"carpet\":[{\"aaxis\":{\"endlinecolor\":\"#2a3f5f\",\"gridcolor\":\"white\",\"linecolor\":\"white\",\"minorgridcolor\":\"white\",\"startlinecolor\":\"#2a3f5f\"},\"baxis\":{\"endlinecolor\":\"#2a3f5f\",\"gridcolor\":\"white\",\"linecolor\":\"white\",\"minorgridcolor\":\"white\",\"startlinecolor\":\"#2a3f5f\"},\"type\":\"carpet\"}],\"table\":[{\"cells\":{\"fill\":{\"color\":\"#EBF0F8\"},\"line\":{\"color\":\"white\"}},\"header\":{\"fill\":{\"color\":\"#C8D4E3\"},\"line\":{\"color\":\"white\"}},\"type\":\"table\"}],\"barpolar\":[{\"marker\":{\"line\":{\"color\":\"#E5ECF6\",\"width\":0.5},\"pattern\":{\"fillmode\":\"overlay\",\"size\":10,\"solidity\":0.2}},\"type\":\"barpolar\"}],\"pie\":[{\"automargin\":true,\"type\":\"pie\"}]},\"layout\":{\"autotypenumbers\":\"strict\",\"colorway\":[\"#636efa\",\"#EF553B\",\"#00cc96\",\"#ab63fa\",\"#FFA15A\",\"#19d3f3\",\"#FF6692\",\"#B6E880\",\"#FF97FF\",\"#FECB52\"],\"font\":{\"color\":\"#2a3f5f\"},\"hovermode\":\"closest\",\"hoverlabel\":{\"align\":\"left\"},\"paper_bgcolor\":\"white\",\"plot_bgcolor\":\"#E5ECF6\",\"polar\":{\"bgcolor\":\"#E5ECF6\",\"angularaxis\":{\"gridcolor\":\"white\",\"linecolor\":\"white\",\"ticks\":\"\"},\"radialaxis\":{\"gridcolor\":\"white\",\"linecolor\":\"white\",\"ticks\":\"\"}},\"ternary\":{\"bgcolor\":\"#E5ECF6\",\"aaxis\":{\"gridcolor\":\"white\",\"linecolor\":\"white\",\"ticks\":\"\"},\"baxis\":{\"gridcolor\":\"white\",\"linecolor\":\"white\",\"ticks\":\"\"},\"caxis\":{\"gridcolor\":\"white\",\"linecolor\":\"white\",\"ticks\":\"\"}},\"coloraxis\":{\"colorbar\":{\"outlinewidth\":0,\"ticks\":\"\"}},\"colorscale\":{\"sequential\":[[0.0,\"#0d0887\"],[0.1111111111111111,\"#46039f\"],[0.2222222222222222,\"#7201a8\"],[0.3333333333333333,\"#9c179e\"],[0.4444444444444444,\"#bd3786\"],[0.5555555555555556,\"#d8576b\"],[0.6666666666666666,\"#ed7953\"],[0.7777777777777778,\"#fb9f3a\"],[0.8888888888888888,\"#fdca26\"],[1.0,\"#f0f921\"]],\"sequentialminus\":[[0.0,\"#0d0887\"],[0.1111111111111111,\"#46039f\"],[0.2222222222222222,\"#7201a8\"],[0.3333333333333333,\"#9c179e\"],[0.4444444444444444,\"#bd3786\"],[0.5555555555555556,\"#d8576b\"],[0.6666666666666666,\"#ed7953\"],[0.7777777777777778,\"#fb9f3a\"],[0.8888888888888888,\"#fdca26\"],[1.0,\"#f0f921\"]],\"diverging\":[[0,\"#8e0152\"],[0.1,\"#c51b7d\"],[0.2,\"#de77ae\"],[0.3,\"#f1b6da\"],[0.4,\"#fde0ef\"],[0.5,\"#f7f7f7\"],[0.6,\"#e6f5d0\"],[0.7,\"#b8e186\"],[0.8,\"#7fbc41\"],[0.9,\"#4d9221\"],[1,\"#276419\"]]},\"xaxis\":{\"gridcolor\":\"white\",\"linecolor\":\"white\",\"ticks\":\"\",\"title\":{\"standoff\":15},\"zerolinecolor\":\"white\",\"automargin\":true,\"zerolinewidth\":2},\"yaxis\":{\"gridcolor\":\"white\",\"linecolor\":\"white\",\"ticks\":\"\",\"title\":{\"standoff\":15},\"zerolinecolor\":\"white\",\"automargin\":true,\"zerolinewidth\":2},\"scene\":{\"xaxis\":{\"backgroundcolor\":\"#E5ECF6\",\"gridcolor\":\"white\",\"linecolor\":\"white\",\"showbackground\":true,\"ticks\":\"\",\"zerolinecolor\":\"white\",\"gridwidth\":2},\"yaxis\":{\"backgroundcolor\":\"#E5ECF6\",\"gridcolor\":\"white\",\"linecolor\":\"white\",\"showbackground\":true,\"ticks\":\"\",\"zerolinecolor\":\"white\",\"gridwidth\":2},\"zaxis\":{\"backgroundcolor\":\"#E5ECF6\",\"gridcolor\":\"white\",\"linecolor\":\"white\",\"showbackground\":true,\"ticks\":\"\",\"zerolinecolor\":\"white\",\"gridwidth\":2}},\"shapedefaults\":{\"line\":{\"color\":\"#2a3f5f\"}},\"annotationdefaults\":{\"arrowcolor\":\"#2a3f5f\",\"arrowhead\":0,\"arrowwidth\":1},\"geo\":{\"bgcolor\":\"white\",\"landcolor\":\"#E5ECF6\",\"subunitcolor\":\"white\",\"showland\":true,\"showlakes\":true,\"lakecolor\":\"white\"},\"title\":{\"x\":0.05},\"mapbox\":{\"style\":\"light\"}}},\"xaxis\":{\"anchor\":\"y\",\"domain\":[0.0,1.0],\"title\":{\"text\":\"Date\"}},\"yaxis\":{\"anchor\":\"x\",\"domain\":[0.0,1.0],\"title\":{\"text\":\"Price\"},\"range\":[31426,50169]},\"legend\":{\"tracegroupgap\":0},\"title\":{\"text\":\"BTC Price Data\\nThresh=0.51\\nTotal Amt: $99.33\\nTotal Return: -0.67%\"},\"shapes\":[{\"line\":{\"color\":\"grey\",\"dash\":\"dash\"},\"opacity\":0.4,\"type\":\"line\",\"x0\":\"2022-01-02T20:00:00\",\"x1\":\"2022-01-02T20:00:00\",\"y0\":16540,\"y1\":71670},{\"fillcolor\":\"red\",\"opacity\":0.1,\"type\":\"rect\",\"x0\":\"2022-01-02T20:00:00\",\"x1\":\"2022-01-02T18:00:00\",\"y0\":16540,\"y1\":71670},{\"line\":{\"color\":\"grey\",\"dash\":\"dash\"},\"opacity\":0.3,\"type\":\"line\",\"x0\":\"2022-01-02T17:00:00\",\"x1\":\"2022-01-02T17:00:00\",\"y0\":16540,\"y1\":71670},{\"line\":{\"color\":\"grey\",\"dash\":\"dash\"},\"opacity\":0.3,\"type\":\"line\",\"x0\":\"2022-01-02T18:00:00\",\"x1\":\"2022-01-02T18:00:00\",\"y0\":16540,\"y1\":71670},{\"line\":{\"color\":\"grey\",\"dash\":\"dash\"},\"opacity\":0.3,\"type\":\"line\",\"x0\":\"2022-01-02T20:00:00\",\"x1\":\"2022-01-02T20:00:00\",\"y0\":16540,\"y1\":71670},{\"line\":{\"color\":\"grey\",\"dash\":\"dash\"},\"opacity\":0.3,\"type\":\"line\",\"x0\":\"2022-01-02T21:00:00\",\"x1\":\"2022-01-02T21:00:00\",\"y0\":16540,\"y1\":71670},{\"line\":{\"color\":\"grey\",\"dash\":\"dash\"},\"opacity\":0.3,\"type\":\"line\",\"x0\":\"2022-01-02T22:00:00\",\"x1\":\"2022-01-02T22:00:00\",\"y0\":16540,\"y1\":71670},{\"line\":{\"color\":\"grey\",\"dash\":\"dash\"},\"opacity\":0.3,\"type\":\"line\",\"x0\":\"2022-01-02T23:00:00\",\"x1\":\"2022-01-02T23:00:00\",\"y0\":16540,\"y1\":71670},{\"line\":{\"color\":\"grey\",\"dash\":\"dash\"},\"opacity\":0.3,\"type\":\"line\",\"x0\":\"2022-01-03T00:00:00\",\"x1\":\"2022-01-03T00:00:00\",\"y0\":16540,\"y1\":71670},{\"line\":{\"color\":\"grey\",\"dash\":\"dash\"},\"opacity\":0.3,\"type\":\"line\",\"x0\":\"2022-01-03T01:00:00\",\"x1\":\"2022-01-03T01:00:00\",\"y0\":16540,\"y1\":71670},{\"line\":{\"color\":\"grey\",\"dash\":\"dash\"},\"opacity\":0.3,\"type\":\"line\",\"x0\":\"2022-01-03T02:00:00\",\"x1\":\"2022-01-03T02:00:00\",\"y0\":16540,\"y1\":71670},{\"line\":{\"color\":\"grey\",\"dash\":\"dash\"},\"opacity\":0.3,\"type\":\"line\",\"x0\":\"2022-01-03T03:00:00\",\"x1\":\"2022-01-03T03:00:00\",\"y0\":16540,\"y1\":71670},{\"line\":{\"color\":\"grey\",\"dash\":\"dash\"},\"opacity\":0.3,\"type\":\"line\",\"x0\":\"2022-01-03T04:00:00\",\"x1\":\"2022-01-03T04:00:00\",\"y0\":16540,\"y1\":71670},{\"line\":{\"color\":\"grey\",\"dash\":\"dash\"},\"opacity\":0.3,\"type\":\"line\",\"x0\":\"2022-01-03T05:00:00\",\"x1\":\"2022-01-03T05:00:00\",\"y0\":16540,\"y1\":71670},{\"line\":{\"color\":\"grey\",\"dash\":\"dash\"},\"opacity\":0.3,\"type\":\"line\",\"x0\":\"2022-01-03T06:00:00\",\"x1\":\"2022-01-03T06:00:00\",\"y0\":16540,\"y1\":71670},{\"line\":{\"color\":\"grey\",\"dash\":\"dash\"},\"opacity\":0.3,\"type\":\"line\",\"x0\":\"2022-01-03T07:00:00\",\"x1\":\"2022-01-03T07:00:00\",\"y0\":16540,\"y1\":71670},{\"line\":{\"color\":\"grey\",\"dash\":\"dash\"},\"opacity\":0.3,\"type\":\"line\",\"x0\":\"2022-01-03T08:00:00\",\"x1\":\"2022-01-03T08:00:00\",\"y0\":16540,\"y1\":71670},{\"line\":{\"color\":\"grey\",\"dash\":\"dash\"},\"opacity\":0.3,\"type\":\"line\",\"x0\":\"2022-01-03T09:00:00\",\"x1\":\"2022-01-03T09:00:00\",\"y0\":16540,\"y1\":71670},{\"line\":{\"color\":\"grey\",\"dash\":\"dash\"},\"opacity\":0.3,\"type\":\"line\",\"x0\":\"2022-01-03T10:00:00\",\"x1\":\"2022-01-03T10:00:00\",\"y0\":16540,\"y1\":71670},{\"line\":{\"color\":\"grey\",\"dash\":\"dash\"},\"opacity\":0.3,\"type\":\"line\",\"x0\":\"2022-01-03T11:00:00\",\"x1\":\"2022-01-03T11:00:00\",\"y0\":16540,\"y1\":71670},{\"line\":{\"color\":\"grey\",\"dash\":\"dash\"},\"opacity\":0.3,\"type\":\"line\",\"x0\":\"2022-01-03T12:00:00\",\"x1\":\"2022-01-03T12:00:00\",\"y0\":16540,\"y1\":71670},{\"line\":{\"color\":\"grey\",\"dash\":\"dash\"},\"opacity\":0.3,\"type\":\"line\",\"x0\":\"2022-01-03T13:00:00\",\"x1\":\"2022-01-03T13:00:00\",\"y0\":16540,\"y1\":71670},{\"line\":{\"color\":\"grey\",\"dash\":\"dash\"},\"opacity\":0.3,\"type\":\"line\",\"x0\":\"2022-01-03T14:00:00\",\"x1\":\"2022-01-03T14:00:00\",\"y0\":16540,\"y1\":71670},{\"line\":{\"color\":\"grey\",\"dash\":\"dash\"},\"opacity\":0.3,\"type\":\"line\",\"x0\":\"2022-01-03T15:00:00\",\"x1\":\"2022-01-03T15:00:00\",\"y0\":16540,\"y1\":71670},{\"line\":{\"color\":\"grey\",\"dash\":\"dash\"},\"opacity\":0.3,\"type\":\"line\",\"x0\":\"2022-01-03T16:00:00\",\"x1\":\"2022-01-03T16:00:00\",\"y0\":16540,\"y1\":71670},{\"line\":{\"color\":\"grey\",\"dash\":\"dash\"},\"opacity\":0.3,\"type\":\"line\",\"x0\":\"2022-01-03T17:00:00\",\"x1\":\"2022-01-03T17:00:00\",\"y0\":16540,\"y1\":71670},{\"line\":{\"color\":\"grey\",\"dash\":\"dash\"},\"opacity\":0.3,\"type\":\"line\",\"x0\":\"2022-01-03T18:00:00\",\"x1\":\"2022-01-03T18:00:00\",\"y0\":16540,\"y1\":71670},{\"line\":{\"color\":\"grey\",\"dash\":\"dash\"},\"opacity\":0.3,\"type\":\"line\",\"x0\":\"2022-01-03T19:00:00\",\"x1\":\"2022-01-03T19:00:00\",\"y0\":16540,\"y1\":71670},{\"line\":{\"color\":\"grey\",\"dash\":\"dash\"},\"opacity\":0.3,\"type\":\"line\",\"x0\":\"2022-01-03T20:00:00\",\"x1\":\"2022-01-03T20:00:00\",\"y0\":16540,\"y1\":71670},{\"line\":{\"color\":\"grey\",\"dash\":\"dash\"},\"opacity\":0.3,\"type\":\"line\",\"x0\":\"2022-01-03T21:00:00\",\"x1\":\"2022-01-03T21:00:00\",\"y0\":16540,\"y1\":71670},{\"line\":{\"color\":\"grey\",\"dash\":\"dash\"},\"opacity\":0.3,\"type\":\"line\",\"x0\":\"2022-01-04T05:00:00\",\"x1\":\"2022-01-04T05:00:00\",\"y0\":16540,\"y1\":71670},{\"line\":{\"color\":\"grey\",\"dash\":\"dash\"},\"opacity\":0.3,\"type\":\"line\",\"x0\":\"2022-01-04T06:00:00\",\"x1\":\"2022-01-04T06:00:00\",\"y0\":16540,\"y1\":71670},{\"line\":{\"color\":\"grey\",\"dash\":\"dash\"},\"opacity\":0.3,\"type\":\"line\",\"x0\":\"2022-01-04T07:00:00\",\"x1\":\"2022-01-04T07:00:00\",\"y0\":16540,\"y1\":71670},{\"line\":{\"color\":\"grey\",\"dash\":\"dash\"},\"opacity\":0.3,\"type\":\"line\",\"x0\":\"2022-01-04T08:00:00\",\"x1\":\"2022-01-04T08:00:00\",\"y0\":16540,\"y1\":71670},{\"line\":{\"color\":\"grey\",\"dash\":\"dash\"},\"opacity\":0.3,\"type\":\"line\",\"x0\":\"2022-01-04T09:00:00\",\"x1\":\"2022-01-04T09:00:00\",\"y0\":16540,\"y1\":71670},{\"line\":{\"color\":\"grey\",\"dash\":\"dash\"},\"opacity\":0.3,\"type\":\"line\",\"x0\":\"2022-01-04T10:00:00\",\"x1\":\"2022-01-04T10:00:00\",\"y0\":16540,\"y1\":71670},{\"line\":{\"color\":\"grey\",\"dash\":\"dash\"},\"opacity\":0.3,\"type\":\"line\",\"x0\":\"2022-01-04T11:00:00\",\"x1\":\"2022-01-04T11:00:00\",\"y0\":16540,\"y1\":71670},{\"line\":{\"color\":\"grey\",\"dash\":\"dash\"},\"opacity\":0.3,\"type\":\"line\",\"x0\":\"2022-01-04T12:00:00\",\"x1\":\"2022-01-04T12:00:00\",\"y0\":16540,\"y1\":71670},{\"line\":{\"color\":\"grey\",\"dash\":\"dash\"},\"opacity\":0.3,\"type\":\"line\",\"x0\":\"2022-01-04T13:00:00\",\"x1\":\"2022-01-04T13:00:00\",\"y0\":16540,\"y1\":71670},{\"line\":{\"color\":\"grey\",\"dash\":\"dash\"},\"opacity\":0.3,\"type\":\"line\",\"x0\":\"2022-01-04T14:00:00\",\"x1\":\"2022-01-04T14:00:00\",\"y0\":16540,\"y1\":71670},{\"line\":{\"color\":\"grey\",\"dash\":\"dash\"},\"opacity\":0.3,\"type\":\"line\",\"x0\":\"2022-01-04T15:00:00\",\"x1\":\"2022-01-04T15:00:00\",\"y0\":16540,\"y1\":71670},{\"line\":{\"color\":\"grey\",\"dash\":\"dash\"},\"opacity\":0.3,\"type\":\"line\",\"x0\":\"2022-01-04T16:00:00\",\"x1\":\"2022-01-04T16:00:00\",\"y0\":16540,\"y1\":71670},{\"line\":{\"color\":\"grey\",\"dash\":\"dash\"},\"opacity\":0.3,\"type\":\"line\",\"x0\":\"2022-01-04T17:00:00\",\"x1\":\"2022-01-04T17:00:00\",\"y0\":16540,\"y1\":71670},{\"line\":{\"color\":\"grey\",\"dash\":\"dash\"},\"opacity\":0.3,\"type\":\"line\",\"x0\":\"2022-01-04T18:00:00\",\"x1\":\"2022-01-04T18:00:00\",\"y0\":16540,\"y1\":71670},{\"line\":{\"color\":\"grey\",\"dash\":\"dash\"},\"opacity\":0.3,\"type\":\"line\",\"x0\":\"2022-01-04T19:00:00\",\"x1\":\"2022-01-04T19:00:00\",\"y0\":16540,\"y1\":71670},{\"line\":{\"color\":\"grey\",\"dash\":\"dash\"},\"opacity\":0.3,\"type\":\"line\",\"x0\":\"2022-01-04T20:00:00\",\"x1\":\"2022-01-04T20:00:00\",\"y0\":16540,\"y1\":71670},{\"line\":{\"color\":\"grey\",\"dash\":\"dash\"},\"opacity\":0.3,\"type\":\"line\",\"x0\":\"2022-01-04T21:00:00\",\"x1\":\"2022-01-04T21:00:00\",\"y0\":16540,\"y1\":71670},{\"line\":{\"color\":\"grey\",\"dash\":\"dash\"},\"opacity\":0.3,\"type\":\"line\",\"x0\":\"2022-01-04T22:00:00\",\"x1\":\"2022-01-04T22:00:00\",\"y0\":16540,\"y1\":71670},{\"line\":{\"color\":\"grey\",\"dash\":\"dash\"},\"opacity\":0.3,\"type\":\"line\",\"x0\":\"2022-01-04T23:00:00\",\"x1\":\"2022-01-04T23:00:00\",\"y0\":16540,\"y1\":71670},{\"line\":{\"color\":\"grey\",\"dash\":\"dash\"},\"opacity\":0.3,\"type\":\"line\",\"x0\":\"2022-01-05T00:00:00\",\"x1\":\"2022-01-05T00:00:00\",\"y0\":16540,\"y1\":71670},{\"line\":{\"color\":\"grey\",\"dash\":\"dash\"},\"opacity\":0.3,\"type\":\"line\",\"x0\":\"2022-01-05T01:00:00\",\"x1\":\"2022-01-05T01:00:00\",\"y0\":16540,\"y1\":71670},{\"line\":{\"color\":\"grey\",\"dash\":\"dash\"},\"opacity\":0.3,\"type\":\"line\",\"x0\":\"2022-01-05T02:00:00\",\"x1\":\"2022-01-05T02:00:00\",\"y0\":16540,\"y1\":71670},{\"line\":{\"color\":\"grey\",\"dash\":\"dash\"},\"opacity\":0.3,\"type\":\"line\",\"x0\":\"2022-01-05T03:00:00\",\"x1\":\"2022-01-05T03:00:00\",\"y0\":16540,\"y1\":71670},{\"line\":{\"color\":\"grey\",\"dash\":\"dash\"},\"opacity\":0.3,\"type\":\"line\",\"x0\":\"2022-01-05T04:00:00\",\"x1\":\"2022-01-05T04:00:00\",\"y0\":16540,\"y1\":71670},{\"line\":{\"color\":\"grey\",\"dash\":\"dash\"},\"opacity\":0.3,\"type\":\"line\",\"x0\":\"2022-01-05T05:00:00\",\"x1\":\"2022-01-05T05:00:00\",\"y0\":16540,\"y1\":71670},{\"line\":{\"color\":\"grey\",\"dash\":\"dash\"},\"opacity\":0.3,\"type\":\"line\",\"x0\":\"2022-01-05T06:00:00\",\"x1\":\"2022-01-05T06:00:00\",\"y0\":16540,\"y1\":71670},{\"line\":{\"color\":\"grey\",\"dash\":\"dash\"},\"opacity\":0.3,\"type\":\"line\",\"x0\":\"2022-01-05T07:00:00\",\"x1\":\"2022-01-05T07:00:00\",\"y0\":16540,\"y1\":71670},{\"line\":{\"color\":\"grey\",\"dash\":\"dash\"},\"opacity\":0.3,\"type\":\"line\",\"x0\":\"2022-01-05T08:00:00\",\"x1\":\"2022-01-05T08:00:00\",\"y0\":16540,\"y1\":71670},{\"line\":{\"color\":\"grey\",\"dash\":\"dash\"},\"opacity\":0.3,\"type\":\"line\",\"x0\":\"2022-01-05T09:00:00\",\"x1\":\"2022-01-05T09:00:00\",\"y0\":16540,\"y1\":71670},{\"line\":{\"color\":\"grey\",\"dash\":\"dash\"},\"opacity\":0.3,\"type\":\"line\",\"x0\":\"2022-01-05T10:00:00\",\"x1\":\"2022-01-05T10:00:00\",\"y0\":16540,\"y1\":71670},{\"line\":{\"color\":\"grey\",\"dash\":\"dash\"},\"opacity\":0.3,\"type\":\"line\",\"x0\":\"2022-01-05T11:00:00\",\"x1\":\"2022-01-05T11:00:00\",\"y0\":16540,\"y1\":71670},{\"line\":{\"color\":\"grey\",\"dash\":\"dash\"},\"opacity\":0.3,\"type\":\"line\",\"x0\":\"2022-01-05T12:00:00\",\"x1\":\"2022-01-05T12:00:00\",\"y0\":16540,\"y1\":71670},{\"line\":{\"color\":\"grey\",\"dash\":\"dash\"},\"opacity\":0.3,\"type\":\"line\",\"x0\":\"2022-01-05T13:00:00\",\"x1\":\"2022-01-05T13:00:00\",\"y0\":16540,\"y1\":71670},{\"line\":{\"color\":\"grey\",\"dash\":\"dash\"},\"opacity\":0.3,\"type\":\"line\",\"x0\":\"2022-01-05T14:00:00\",\"x1\":\"2022-01-05T14:00:00\",\"y0\":16540,\"y1\":71670},{\"line\":{\"color\":\"grey\",\"dash\":\"dash\"},\"opacity\":0.3,\"type\":\"line\",\"x0\":\"2022-01-05T15:00:00\",\"x1\":\"2022-01-05T15:00:00\",\"y0\":16540,\"y1\":71670},{\"line\":{\"color\":\"grey\",\"dash\":\"dash\"},\"opacity\":0.3,\"type\":\"line\",\"x0\":\"2022-01-05T16:00:00\",\"x1\":\"2022-01-05T16:00:00\",\"y0\":16540,\"y1\":71670},{\"line\":{\"color\":\"grey\",\"dash\":\"dash\"},\"opacity\":0.3,\"type\":\"line\",\"x0\":\"2022-01-05T17:00:00\",\"x1\":\"2022-01-05T17:00:00\",\"y0\":16540,\"y1\":71670},{\"line\":{\"color\":\"grey\",\"dash\":\"dash\"},\"opacity\":0.3,\"type\":\"line\",\"x0\":\"2022-01-05T18:00:00\",\"x1\":\"2022-01-05T18:00:00\",\"y0\":16540,\"y1\":71670},{\"line\":{\"color\":\"grey\",\"dash\":\"dash\"},\"opacity\":0.3,\"type\":\"line\",\"x0\":\"2022-01-05T19:00:00\",\"x1\":\"2022-01-05T19:00:00\",\"y0\":16540,\"y1\":71670},{\"line\":{\"color\":\"grey\",\"dash\":\"dash\"},\"opacity\":0.3,\"type\":\"line\",\"x0\":\"2022-01-05T20:00:00\",\"x1\":\"2022-01-05T20:00:00\",\"y0\":16540,\"y1\":71670},{\"line\":{\"color\":\"grey\",\"dash\":\"dash\"},\"opacity\":0.3,\"type\":\"line\",\"x0\":\"2022-01-05T21:00:00\",\"x1\":\"2022-01-05T21:00:00\",\"y0\":16540,\"y1\":71670},{\"line\":{\"color\":\"grey\",\"dash\":\"dash\"},\"opacity\":0.3,\"type\":\"line\",\"x0\":\"2022-01-05T22:00:00\",\"x1\":\"2022-01-05T22:00:00\",\"y0\":16540,\"y1\":71670},{\"line\":{\"color\":\"grey\",\"dash\":\"dash\"},\"opacity\":0.3,\"type\":\"line\",\"x0\":\"2022-01-06T21:00:00\",\"x1\":\"2022-01-06T21:00:00\",\"y0\":16540,\"y1\":71670},{\"line\":{\"color\":\"grey\",\"dash\":\"dash\"},\"opacity\":0.3,\"type\":\"line\",\"x0\":\"2022-01-06T22:00:00\",\"x1\":\"2022-01-06T22:00:00\",\"y0\":16540,\"y1\":71670},{\"line\":{\"color\":\"grey\",\"dash\":\"dash\"},\"opacity\":0.3,\"type\":\"line\",\"x0\":\"2022-01-08T11:00:00\",\"x1\":\"2022-01-08T11:00:00\",\"y0\":16540,\"y1\":71670},{\"line\":{\"color\":\"grey\",\"dash\":\"dash\"},\"opacity\":0.3,\"type\":\"line\",\"x0\":\"2022-01-08T12:00:00\",\"x1\":\"2022-01-08T12:00:00\",\"y0\":16540,\"y1\":71670},{\"line\":{\"color\":\"grey\",\"dash\":\"dash\"},\"opacity\":0.3,\"type\":\"line\",\"x0\":\"2022-01-08T13:00:00\",\"x1\":\"2022-01-08T13:00:00\",\"y0\":16540,\"y1\":71670},{\"line\":{\"color\":\"grey\",\"dash\":\"dash\"},\"opacity\":0.3,\"type\":\"line\",\"x0\":\"2022-01-08T14:00:00\",\"x1\":\"2022-01-08T14:00:00\",\"y0\":16540,\"y1\":71670},{\"line\":{\"color\":\"grey\",\"dash\":\"dash\"},\"opacity\":0.3,\"type\":\"line\",\"x0\":\"2022-01-09T02:00:00\",\"x1\":\"2022-01-09T02:00:00\",\"y0\":16540,\"y1\":71670},{\"line\":{\"color\":\"grey\",\"dash\":\"dash\"},\"opacity\":0.3,\"type\":\"line\",\"x0\":\"2022-01-09T03:00:00\",\"x1\":\"2022-01-09T03:00:00\",\"y0\":16540,\"y1\":71670},{\"line\":{\"color\":\"grey\",\"dash\":\"dash\"},\"opacity\":0.3,\"type\":\"line\",\"x0\":\"2022-01-09T04:00:00\",\"x1\":\"2022-01-09T04:00:00\",\"y0\":16540,\"y1\":71670},{\"line\":{\"color\":\"grey\",\"dash\":\"dash\"},\"opacity\":0.3,\"type\":\"line\",\"x0\":\"2022-01-09T05:00:00\",\"x1\":\"2022-01-09T05:00:00\",\"y0\":16540,\"y1\":71670},{\"line\":{\"color\":\"grey\",\"dash\":\"dash\"},\"opacity\":0.3,\"type\":\"line\",\"x0\":\"2022-01-09T06:00:00\",\"x1\":\"2022-01-09T06:00:00\",\"y0\":16540,\"y1\":71670},{\"line\":{\"color\":\"grey\",\"dash\":\"dash\"},\"opacity\":0.3,\"type\":\"line\",\"x0\":\"2022-01-09T07:00:00\",\"x1\":\"2022-01-09T07:00:00\",\"y0\":16540,\"y1\":71670},{\"line\":{\"color\":\"grey\",\"dash\":\"dash\"},\"opacity\":0.3,\"type\":\"line\",\"x0\":\"2022-01-09T08:00:00\",\"x1\":\"2022-01-09T08:00:00\",\"y0\":16540,\"y1\":71670},{\"line\":{\"color\":\"grey\",\"dash\":\"dash\"},\"opacity\":0.3,\"type\":\"line\",\"x0\":\"2022-01-09T09:00:00\",\"x1\":\"2022-01-09T09:00:00\",\"y0\":16540,\"y1\":71670},{\"line\":{\"color\":\"grey\",\"dash\":\"dash\"},\"opacity\":0.3,\"type\":\"line\",\"x0\":\"2022-01-09T10:00:00\",\"x1\":\"2022-01-09T10:00:00\",\"y0\":16540,\"y1\":71670},{\"line\":{\"color\":\"grey\",\"dash\":\"dash\"},\"opacity\":0.3,\"type\":\"line\",\"x0\":\"2022-01-09T13:00:00\",\"x1\":\"2022-01-09T13:00:00\",\"y0\":16540,\"y1\":71670},{\"line\":{\"color\":\"grey\",\"dash\":\"dash\"},\"opacity\":0.3,\"type\":\"line\",\"x0\":\"2022-01-09T14:00:00\",\"x1\":\"2022-01-09T14:00:00\",\"y0\":16540,\"y1\":71670},{\"line\":{\"color\":\"grey\",\"dash\":\"dash\"},\"opacity\":0.3,\"type\":\"line\",\"x0\":\"2022-01-09T17:00:00\",\"x1\":\"2022-01-09T17:00:00\",\"y0\":16540,\"y1\":71670},{\"line\":{\"color\":\"grey\",\"dash\":\"dash\"},\"opacity\":0.3,\"type\":\"line\",\"x0\":\"2022-01-09T18:00:00\",\"x1\":\"2022-01-09T18:00:00\",\"y0\":16540,\"y1\":71670},{\"line\":{\"color\":\"grey\",\"dash\":\"dash\"},\"opacity\":0.3,\"type\":\"line\",\"x0\":\"2022-01-09T19:00:00\",\"x1\":\"2022-01-09T19:00:00\",\"y0\":16540,\"y1\":71670},{\"line\":{\"color\":\"grey\",\"dash\":\"dash\"},\"opacity\":0.3,\"type\":\"line\",\"x0\":\"2022-01-09T20:00:00\",\"x1\":\"2022-01-09T20:00:00\",\"y0\":16540,\"y1\":71670},{\"line\":{\"color\":\"grey\",\"dash\":\"dash\"},\"opacity\":0.3,\"type\":\"line\",\"x0\":\"2022-01-09T21:00:00\",\"x1\":\"2022-01-09T21:00:00\",\"y0\":16540,\"y1\":71670},{\"line\":{\"color\":\"grey\",\"dash\":\"dash\"},\"opacity\":0.3,\"type\":\"line\",\"x0\":\"2022-01-09T22:00:00\",\"x1\":\"2022-01-09T22:00:00\",\"y0\":16540,\"y1\":71670},{\"line\":{\"color\":\"grey\",\"dash\":\"dash\"},\"opacity\":0.3,\"type\":\"line\",\"x0\":\"2022-01-09T23:00:00\",\"x1\":\"2022-01-09T23:00:00\",\"y0\":16540,\"y1\":71670},{\"line\":{\"color\":\"grey\",\"dash\":\"dash\"},\"opacity\":0.3,\"type\":\"line\",\"x0\":\"2022-01-10T00:00:00\",\"x1\":\"2022-01-10T00:00:00\",\"y0\":16540,\"y1\":71670},{\"line\":{\"color\":\"grey\",\"dash\":\"dash\"},\"opacity\":0.3,\"type\":\"line\",\"x0\":\"2022-01-10T01:00:00\",\"x1\":\"2022-01-10T01:00:00\",\"y0\":16540,\"y1\":71670},{\"line\":{\"color\":\"grey\",\"dash\":\"dash\"},\"opacity\":0.3,\"type\":\"line\",\"x0\":\"2022-01-10T04:00:00\",\"x1\":\"2022-01-10T04:00:00\",\"y0\":16540,\"y1\":71670},{\"line\":{\"color\":\"grey\",\"dash\":\"dash\"},\"opacity\":0.3,\"type\":\"line\",\"x0\":\"2022-01-10T05:00:00\",\"x1\":\"2022-01-10T05:00:00\",\"y0\":16540,\"y1\":71670},{\"line\":{\"color\":\"grey\",\"dash\":\"dash\"},\"opacity\":0.3,\"type\":\"line\",\"x0\":\"2022-01-10T06:00:00\",\"x1\":\"2022-01-10T06:00:00\",\"y0\":16540,\"y1\":71670},{\"line\":{\"color\":\"grey\",\"dash\":\"dash\"},\"opacity\":0.3,\"type\":\"line\",\"x0\":\"2022-01-10T07:00:00\",\"x1\":\"2022-01-10T07:00:00\",\"y0\":16540,\"y1\":71670},{\"line\":{\"color\":\"grey\",\"dash\":\"dash\"},\"opacity\":0.3,\"type\":\"line\",\"x0\":\"2022-01-10T08:00:00\",\"x1\":\"2022-01-10T08:00:00\",\"y0\":16540,\"y1\":71670},{\"line\":{\"color\":\"grey\",\"dash\":\"dash\"},\"opacity\":0.3,\"type\":\"line\",\"x0\":\"2022-01-10T09:00:00\",\"x1\":\"2022-01-10T09:00:00\",\"y0\":16540,\"y1\":71670},{\"line\":{\"color\":\"grey\",\"dash\":\"dash\"},\"opacity\":0.3,\"type\":\"line\",\"x0\":\"2022-01-10T10:00:00\",\"x1\":\"2022-01-10T10:00:00\",\"y0\":16540,\"y1\":71670},{\"line\":{\"color\":\"grey\",\"dash\":\"dash\"},\"opacity\":0.3,\"type\":\"line\",\"x0\":\"2022-01-10T11:00:00\",\"x1\":\"2022-01-10T11:00:00\",\"y0\":16540,\"y1\":71670},{\"line\":{\"color\":\"grey\",\"dash\":\"dash\"},\"opacity\":0.3,\"type\":\"line\",\"x0\":\"2022-01-10T12:00:00\",\"x1\":\"2022-01-10T12:00:00\",\"y0\":16540,\"y1\":71670},{\"line\":{\"color\":\"grey\",\"dash\":\"dash\"},\"opacity\":0.3,\"type\":\"line\",\"x0\":\"2022-01-11T04:00:00\",\"x1\":\"2022-01-11T04:00:00\",\"y0\":16540,\"y1\":71670},{\"line\":{\"color\":\"grey\",\"dash\":\"dash\"},\"opacity\":0.3,\"type\":\"line\",\"x0\":\"2022-01-11T05:00:00\",\"x1\":\"2022-01-11T05:00:00\",\"y0\":16540,\"y1\":71670},{\"line\":{\"color\":\"grey\",\"dash\":\"dash\"},\"opacity\":0.3,\"type\":\"line\",\"x0\":\"2022-01-11T06:00:00\",\"x1\":\"2022-01-11T06:00:00\",\"y0\":16540,\"y1\":71670},{\"line\":{\"color\":\"grey\",\"dash\":\"dash\"},\"opacity\":0.3,\"type\":\"line\",\"x0\":\"2022-01-11T07:00:00\",\"x1\":\"2022-01-11T07:00:00\",\"y0\":16540,\"y1\":71670},{\"line\":{\"color\":\"grey\",\"dash\":\"dash\"},\"opacity\":0.3,\"type\":\"line\",\"x0\":\"2022-01-11T08:00:00\",\"x1\":\"2022-01-11T08:00:00\",\"y0\":16540,\"y1\":71670},{\"line\":{\"color\":\"grey\",\"dash\":\"dash\"},\"opacity\":0.3,\"type\":\"line\",\"x0\":\"2022-01-11T09:00:00\",\"x1\":\"2022-01-11T09:00:00\",\"y0\":16540,\"y1\":71670},{\"line\":{\"color\":\"grey\",\"dash\":\"dash\"},\"opacity\":0.3,\"type\":\"line\",\"x0\":\"2022-01-11T10:00:00\",\"x1\":\"2022-01-11T10:00:00\",\"y0\":16540,\"y1\":71670},{\"line\":{\"color\":\"grey\",\"dash\":\"dash\"},\"opacity\":0.3,\"type\":\"line\",\"x0\":\"2022-01-11T11:00:00\",\"x1\":\"2022-01-11T11:00:00\",\"y0\":16540,\"y1\":71670},{\"line\":{\"color\":\"grey\",\"dash\":\"dash\"},\"opacity\":0.3,\"type\":\"line\",\"x0\":\"2022-01-11T12:00:00\",\"x1\":\"2022-01-11T12:00:00\",\"y0\":16540,\"y1\":71670},{\"line\":{\"color\":\"grey\",\"dash\":\"dash\"},\"opacity\":0.3,\"type\":\"line\",\"x0\":\"2022-01-11T13:00:00\",\"x1\":\"2022-01-11T13:00:00\",\"y0\":16540,\"y1\":71670},{\"line\":{\"color\":\"grey\",\"dash\":\"dash\"},\"opacity\":0.3,\"type\":\"line\",\"x0\":\"2022-01-11T14:00:00\",\"x1\":\"2022-01-11T14:00:00\",\"y0\":16540,\"y1\":71670},{\"line\":{\"color\":\"grey\",\"dash\":\"dash\"},\"opacity\":0.3,\"type\":\"line\",\"x0\":\"2022-01-11T18:00:00\",\"x1\":\"2022-01-11T18:00:00\",\"y0\":16540,\"y1\":71670},{\"line\":{\"color\":\"grey\",\"dash\":\"dash\"},\"opacity\":0.3,\"type\":\"line\",\"x0\":\"2022-01-11T19:00:00\",\"x1\":\"2022-01-11T19:00:00\",\"y0\":16540,\"y1\":71670},{\"line\":{\"color\":\"grey\",\"dash\":\"dash\"},\"opacity\":0.3,\"type\":\"line\",\"x0\":\"2022-01-11T20:00:00\",\"x1\":\"2022-01-11T20:00:00\",\"y0\":16540,\"y1\":71670},{\"line\":{\"color\":\"grey\",\"dash\":\"dash\"},\"opacity\":0.3,\"type\":\"line\",\"x0\":\"2022-01-11T21:00:00\",\"x1\":\"2022-01-11T21:00:00\",\"y0\":16540,\"y1\":71670},{\"line\":{\"color\":\"grey\",\"dash\":\"dash\"},\"opacity\":0.3,\"type\":\"line\",\"x0\":\"2022-01-11T22:00:00\",\"x1\":\"2022-01-11T22:00:00\",\"y0\":16540,\"y1\":71670},{\"line\":{\"color\":\"grey\",\"dash\":\"dash\"},\"opacity\":0.3,\"type\":\"line\",\"x0\":\"2022-01-11T23:00:00\",\"x1\":\"2022-01-11T23:00:00\",\"y0\":16540,\"y1\":71670},{\"line\":{\"color\":\"grey\",\"dash\":\"dash\"},\"opacity\":0.3,\"type\":\"line\",\"x0\":\"2022-01-12T00:00:00\",\"x1\":\"2022-01-12T00:00:00\",\"y0\":16540,\"y1\":71670},{\"line\":{\"color\":\"grey\",\"dash\":\"dash\"},\"opacity\":0.3,\"type\":\"line\",\"x0\":\"2022-01-12T01:00:00\",\"x1\":\"2022-01-12T01:00:00\",\"y0\":16540,\"y1\":71670},{\"line\":{\"color\":\"grey\",\"dash\":\"dash\"},\"opacity\":0.3,\"type\":\"line\",\"x0\":\"2022-01-12T02:00:00\",\"x1\":\"2022-01-12T02:00:00\",\"y0\":16540,\"y1\":71670},{\"line\":{\"color\":\"grey\",\"dash\":\"dash\"},\"opacity\":0.3,\"type\":\"line\",\"x0\":\"2022-01-12T03:00:00\",\"x1\":\"2022-01-12T03:00:00\",\"y0\":16540,\"y1\":71670},{\"line\":{\"color\":\"grey\",\"dash\":\"dash\"},\"opacity\":0.3,\"type\":\"line\",\"x0\":\"2022-01-12T04:00:00\",\"x1\":\"2022-01-12T04:00:00\",\"y0\":16540,\"y1\":71670},{\"line\":{\"color\":\"grey\",\"dash\":\"dash\"},\"opacity\":0.3,\"type\":\"line\",\"x0\":\"2022-01-12T05:00:00\",\"x1\":\"2022-01-12T05:00:00\",\"y0\":16540,\"y1\":71670},{\"line\":{\"color\":\"grey\",\"dash\":\"dash\"},\"opacity\":0.3,\"type\":\"line\",\"x0\":\"2022-01-12T06:00:00\",\"x1\":\"2022-01-12T06:00:00\",\"y0\":16540,\"y1\":71670},{\"line\":{\"color\":\"grey\",\"dash\":\"dash\"},\"opacity\":0.3,\"type\":\"line\",\"x0\":\"2022-01-12T07:00:00\",\"x1\":\"2022-01-12T07:00:00\",\"y0\":16540,\"y1\":71670},{\"line\":{\"color\":\"grey\",\"dash\":\"dash\"},\"opacity\":0.3,\"type\":\"line\",\"x0\":\"2022-01-12T08:00:00\",\"x1\":\"2022-01-12T08:00:00\",\"y0\":16540,\"y1\":71670},{\"line\":{\"color\":\"grey\",\"dash\":\"dash\"},\"opacity\":0.3,\"type\":\"line\",\"x0\":\"2022-01-12T09:00:00\",\"x1\":\"2022-01-12T09:00:00\",\"y0\":16540,\"y1\":71670},{\"line\":{\"color\":\"grey\",\"dash\":\"dash\"},\"opacity\":0.3,\"type\":\"line\",\"x0\":\"2022-01-12T10:00:00\",\"x1\":\"2022-01-12T10:00:00\",\"y0\":16540,\"y1\":71670},{\"line\":{\"color\":\"grey\",\"dash\":\"dash\"},\"opacity\":0.3,\"type\":\"line\",\"x0\":\"2022-01-12T11:00:00\",\"x1\":\"2022-01-12T11:00:00\",\"y0\":16540,\"y1\":71670},{\"line\":{\"color\":\"grey\",\"dash\":\"dash\"},\"opacity\":0.3,\"type\":\"line\",\"x0\":\"2022-01-12T12:00:00\",\"x1\":\"2022-01-12T12:00:00\",\"y0\":16540,\"y1\":71670},{\"line\":{\"color\":\"grey\",\"dash\":\"dash\"},\"opacity\":0.3,\"type\":\"line\",\"x0\":\"2022-01-12T13:00:00\",\"x1\":\"2022-01-12T13:00:00\",\"y0\":16540,\"y1\":71670},{\"line\":{\"color\":\"grey\",\"dash\":\"dash\"},\"opacity\":0.3,\"type\":\"line\",\"x0\":\"2022-01-12T14:00:00\",\"x1\":\"2022-01-12T14:00:00\",\"y0\":16540,\"y1\":71670},{\"line\":{\"color\":\"grey\",\"dash\":\"dash\"},\"opacity\":0.3,\"type\":\"line\",\"x0\":\"2022-01-12T15:00:00\",\"x1\":\"2022-01-12T15:00:00\",\"y0\":16540,\"y1\":71670},{\"line\":{\"color\":\"grey\",\"dash\":\"dash\"},\"opacity\":0.3,\"type\":\"line\",\"x0\":\"2022-01-12T16:00:00\",\"x1\":\"2022-01-12T16:00:00\",\"y0\":16540,\"y1\":71670},{\"line\":{\"color\":\"grey\",\"dash\":\"dash\"},\"opacity\":0.3,\"type\":\"line\",\"x0\":\"2022-01-12T17:00:00\",\"x1\":\"2022-01-12T17:00:00\",\"y0\":16540,\"y1\":71670},{\"line\":{\"color\":\"grey\",\"dash\":\"dash\"},\"opacity\":0.3,\"type\":\"line\",\"x0\":\"2022-01-12T18:00:00\",\"x1\":\"2022-01-12T18:00:00\",\"y0\":16540,\"y1\":71670},{\"line\":{\"color\":\"grey\",\"dash\":\"dash\"},\"opacity\":0.3,\"type\":\"line\",\"x0\":\"2022-01-12T19:00:00\",\"x1\":\"2022-01-12T19:00:00\",\"y0\":16540,\"y1\":71670},{\"line\":{\"color\":\"grey\",\"dash\":\"dash\"},\"opacity\":0.3,\"type\":\"line\",\"x0\":\"2022-01-12T20:00:00\",\"x1\":\"2022-01-12T20:00:00\",\"y0\":16540,\"y1\":71670},{\"line\":{\"color\":\"grey\",\"dash\":\"dash\"},\"opacity\":0.3,\"type\":\"line\",\"x0\":\"2022-01-12T21:00:00\",\"x1\":\"2022-01-12T21:00:00\",\"y0\":16540,\"y1\":71670},{\"line\":{\"color\":\"grey\",\"dash\":\"dash\"},\"opacity\":0.3,\"type\":\"line\",\"x0\":\"2022-01-12T22:00:00\",\"x1\":\"2022-01-12T22:00:00\",\"y0\":16540,\"y1\":71670},{\"line\":{\"color\":\"grey\",\"dash\":\"dash\"},\"opacity\":0.3,\"type\":\"line\",\"x0\":\"2022-01-12T23:00:00\",\"x1\":\"2022-01-12T23:00:00\",\"y0\":16540,\"y1\":71670},{\"line\":{\"color\":\"grey\",\"dash\":\"dash\"},\"opacity\":0.3,\"type\":\"line\",\"x0\":\"2022-01-13T00:00:00\",\"x1\":\"2022-01-13T00:00:00\",\"y0\":16540,\"y1\":71670},{\"line\":{\"color\":\"grey\",\"dash\":\"dash\"},\"opacity\":0.3,\"type\":\"line\",\"x0\":\"2022-01-13T01:00:00\",\"x1\":\"2022-01-13T01:00:00\",\"y0\":16540,\"y1\":71670},{\"line\":{\"color\":\"grey\",\"dash\":\"dash\"},\"opacity\":0.3,\"type\":\"line\",\"x0\":\"2022-01-13T02:00:00\",\"x1\":\"2022-01-13T02:00:00\",\"y0\":16540,\"y1\":71670},{\"line\":{\"color\":\"grey\",\"dash\":\"dash\"},\"opacity\":0.3,\"type\":\"line\",\"x0\":\"2022-01-13T03:00:00\",\"x1\":\"2022-01-13T03:00:00\",\"y0\":16540,\"y1\":71670},{\"line\":{\"color\":\"grey\",\"dash\":\"dash\"},\"opacity\":0.3,\"type\":\"line\",\"x0\":\"2022-01-13T04:00:00\",\"x1\":\"2022-01-13T04:00:00\",\"y0\":16540,\"y1\":71670},{\"line\":{\"color\":\"grey\",\"dash\":\"dash\"},\"opacity\":0.3,\"type\":\"line\",\"x0\":\"2022-01-13T05:00:00\",\"x1\":\"2022-01-13T05:00:00\",\"y0\":16540,\"y1\":71670},{\"line\":{\"color\":\"grey\",\"dash\":\"dash\"},\"opacity\":0.3,\"type\":\"line\",\"x0\":\"2022-01-13T06:00:00\",\"x1\":\"2022-01-13T06:00:00\",\"y0\":16540,\"y1\":71670},{\"line\":{\"color\":\"grey\",\"dash\":\"dash\"},\"opacity\":0.3,\"type\":\"line\",\"x0\":\"2022-01-13T07:00:00\",\"x1\":\"2022-01-13T07:00:00\",\"y0\":16540,\"y1\":71670},{\"line\":{\"color\":\"grey\",\"dash\":\"dash\"},\"opacity\":0.3,\"type\":\"line\",\"x0\":\"2022-01-13T08:00:00\",\"x1\":\"2022-01-13T08:00:00\",\"y0\":16540,\"y1\":71670},{\"line\":{\"color\":\"grey\",\"dash\":\"dash\"},\"opacity\":0.3,\"type\":\"line\",\"x0\":\"2022-01-13T09:00:00\",\"x1\":\"2022-01-13T09:00:00\",\"y0\":16540,\"y1\":71670},{\"line\":{\"color\":\"grey\",\"dash\":\"dash\"},\"opacity\":0.3,\"type\":\"line\",\"x0\":\"2022-01-13T10:00:00\",\"x1\":\"2022-01-13T10:00:00\",\"y0\":16540,\"y1\":71670},{\"line\":{\"color\":\"grey\",\"dash\":\"dash\"},\"opacity\":0.3,\"type\":\"line\",\"x0\":\"2022-01-13T11:00:00\",\"x1\":\"2022-01-13T11:00:00\",\"y0\":16540,\"y1\":71670},{\"line\":{\"color\":\"grey\",\"dash\":\"dash\"},\"opacity\":0.3,\"type\":\"line\",\"x0\":\"2022-01-13T12:00:00\",\"x1\":\"2022-01-13T12:00:00\",\"y0\":16540,\"y1\":71670},{\"line\":{\"color\":\"grey\",\"dash\":\"dash\"},\"opacity\":0.3,\"type\":\"line\",\"x0\":\"2022-01-13T13:00:00\",\"x1\":\"2022-01-13T13:00:00\",\"y0\":16540,\"y1\":71670},{\"line\":{\"color\":\"grey\",\"dash\":\"dash\"},\"opacity\":0.3,\"type\":\"line\",\"x0\":\"2022-01-13T14:00:00\",\"x1\":\"2022-01-13T14:00:00\",\"y0\":16540,\"y1\":71670},{\"line\":{\"color\":\"grey\",\"dash\":\"dash\"},\"opacity\":0.3,\"type\":\"line\",\"x0\":\"2022-01-13T15:00:00\",\"x1\":\"2022-01-13T15:00:00\",\"y0\":16540,\"y1\":71670},{\"line\":{\"color\":\"grey\",\"dash\":\"dash\"},\"opacity\":0.3,\"type\":\"line\",\"x0\":\"2022-01-13T16:00:00\",\"x1\":\"2022-01-13T16:00:00\",\"y0\":16540,\"y1\":71670},{\"line\":{\"color\":\"grey\",\"dash\":\"dash\"},\"opacity\":0.3,\"type\":\"line\",\"x0\":\"2022-01-13T17:00:00\",\"x1\":\"2022-01-13T17:00:00\",\"y0\":16540,\"y1\":71670},{\"line\":{\"color\":\"grey\",\"dash\":\"dash\"},\"opacity\":0.3,\"type\":\"line\",\"x0\":\"2022-01-13T18:00:00\",\"x1\":\"2022-01-13T18:00:00\",\"y0\":16540,\"y1\":71670},{\"line\":{\"color\":\"grey\",\"dash\":\"dash\"},\"opacity\":0.3,\"type\":\"line\",\"x0\":\"2022-01-13T19:00:00\",\"x1\":\"2022-01-13T19:00:00\",\"y0\":16540,\"y1\":71670},{\"line\":{\"color\":\"grey\",\"dash\":\"dash\"},\"opacity\":0.3,\"type\":\"line\",\"x0\":\"2022-01-13T20:00:00\",\"x1\":\"2022-01-13T20:00:00\",\"y0\":16540,\"y1\":71670},{\"line\":{\"color\":\"grey\",\"dash\":\"dash\"},\"opacity\":0.3,\"type\":\"line\",\"x0\":\"2022-01-13T21:00:00\",\"x1\":\"2022-01-13T21:00:00\",\"y0\":16540,\"y1\":71670},{\"line\":{\"color\":\"grey\",\"dash\":\"dash\"},\"opacity\":0.3,\"type\":\"line\",\"x0\":\"2022-01-13T22:00:00\",\"x1\":\"2022-01-13T22:00:00\",\"y0\":16540,\"y1\":71670},{\"line\":{\"color\":\"grey\",\"dash\":\"dash\"},\"opacity\":0.3,\"type\":\"line\",\"x0\":\"2022-01-13T23:00:00\",\"x1\":\"2022-01-13T23:00:00\",\"y0\":16540,\"y1\":71670},{\"line\":{\"color\":\"grey\",\"dash\":\"dash\"},\"opacity\":0.3,\"type\":\"line\",\"x0\":\"2022-01-14T00:00:00\",\"x1\":\"2022-01-14T00:00:00\",\"y0\":16540,\"y1\":71670},{\"line\":{\"color\":\"grey\",\"dash\":\"dash\"},\"opacity\":0.3,\"type\":\"line\",\"x0\":\"2022-01-14T01:00:00\",\"x1\":\"2022-01-14T01:00:00\",\"y0\":16540,\"y1\":71670},{\"line\":{\"color\":\"grey\",\"dash\":\"dash\"},\"opacity\":0.3,\"type\":\"line\",\"x0\":\"2022-01-14T02:00:00\",\"x1\":\"2022-01-14T02:00:00\",\"y0\":16540,\"y1\":71670},{\"line\":{\"color\":\"grey\",\"dash\":\"dash\"},\"opacity\":0.3,\"type\":\"line\",\"x0\":\"2022-01-14T03:00:00\",\"x1\":\"2022-01-14T03:00:00\",\"y0\":16540,\"y1\":71670},{\"line\":{\"color\":\"grey\",\"dash\":\"dash\"},\"opacity\":0.3,\"type\":\"line\",\"x0\":\"2022-01-14T04:00:00\",\"x1\":\"2022-01-14T04:00:00\",\"y0\":16540,\"y1\":71670},{\"line\":{\"color\":\"grey\",\"dash\":\"dash\"},\"opacity\":0.3,\"type\":\"line\",\"x0\":\"2022-01-14T05:00:00\",\"x1\":\"2022-01-14T05:00:00\",\"y0\":16540,\"y1\":71670},{\"line\":{\"color\":\"grey\",\"dash\":\"dash\"},\"opacity\":0.3,\"type\":\"line\",\"x0\":\"2022-01-14T06:00:00\",\"x1\":\"2022-01-14T06:00:00\",\"y0\":16540,\"y1\":71670},{\"line\":{\"color\":\"grey\",\"dash\":\"dash\"},\"opacity\":0.3,\"type\":\"line\",\"x0\":\"2022-01-14T07:00:00\",\"x1\":\"2022-01-14T07:00:00\",\"y0\":16540,\"y1\":71670},{\"line\":{\"color\":\"grey\",\"dash\":\"dash\"},\"opacity\":0.3,\"type\":\"line\",\"x0\":\"2022-01-14T08:00:00\",\"x1\":\"2022-01-14T08:00:00\",\"y0\":16540,\"y1\":71670},{\"line\":{\"color\":\"grey\",\"dash\":\"dash\"},\"opacity\":0.3,\"type\":\"line\",\"x0\":\"2022-01-14T09:00:00\",\"x1\":\"2022-01-14T09:00:00\",\"y0\":16540,\"y1\":71670},{\"line\":{\"color\":\"grey\",\"dash\":\"dash\"},\"opacity\":0.3,\"type\":\"line\",\"x0\":\"2022-01-14T10:00:00\",\"x1\":\"2022-01-14T10:00:00\",\"y0\":16540,\"y1\":71670},{\"line\":{\"color\":\"grey\",\"dash\":\"dash\"},\"opacity\":0.3,\"type\":\"line\",\"x0\":\"2022-01-14T11:00:00\",\"x1\":\"2022-01-14T11:00:00\",\"y0\":16540,\"y1\":71670},{\"line\":{\"color\":\"grey\",\"dash\":\"dash\"},\"opacity\":0.3,\"type\":\"line\",\"x0\":\"2022-01-14T12:00:00\",\"x1\":\"2022-01-14T12:00:00\",\"y0\":16540,\"y1\":71670},{\"line\":{\"color\":\"grey\",\"dash\":\"dash\"},\"opacity\":0.3,\"type\":\"line\",\"x0\":\"2022-01-14T13:00:00\",\"x1\":\"2022-01-14T13:00:00\",\"y0\":16540,\"y1\":71670},{\"line\":{\"color\":\"grey\",\"dash\":\"dash\"},\"opacity\":0.3,\"type\":\"line\",\"x0\":\"2022-01-14T14:00:00\",\"x1\":\"2022-01-14T14:00:00\",\"y0\":16540,\"y1\":71670},{\"line\":{\"color\":\"grey\",\"dash\":\"dash\"},\"opacity\":0.3,\"type\":\"line\",\"x0\":\"2022-01-14T15:00:00\",\"x1\":\"2022-01-14T15:00:00\",\"y0\":16540,\"y1\":71670},{\"line\":{\"color\":\"grey\",\"dash\":\"dash\"},\"opacity\":0.3,\"type\":\"line\",\"x0\":\"2022-01-14T16:00:00\",\"x1\":\"2022-01-14T16:00:00\",\"y0\":16540,\"y1\":71670},{\"line\":{\"color\":\"grey\",\"dash\":\"dash\"},\"opacity\":0.3,\"type\":\"line\",\"x0\":\"2022-01-14T17:00:00\",\"x1\":\"2022-01-14T17:00:00\",\"y0\":16540,\"y1\":71670},{\"line\":{\"color\":\"grey\",\"dash\":\"dash\"},\"opacity\":0.3,\"type\":\"line\",\"x0\":\"2022-01-14T18:00:00\",\"x1\":\"2022-01-14T18:00:00\",\"y0\":16540,\"y1\":71670},{\"line\":{\"color\":\"grey\",\"dash\":\"dash\"},\"opacity\":0.3,\"type\":\"line\",\"x0\":\"2022-01-14T19:00:00\",\"x1\":\"2022-01-14T19:00:00\",\"y0\":16540,\"y1\":71670},{\"line\":{\"color\":\"grey\",\"dash\":\"dash\"},\"opacity\":0.3,\"type\":\"line\",\"x0\":\"2022-01-14T20:00:00\",\"x1\":\"2022-01-14T20:00:00\",\"y0\":16540,\"y1\":71670},{\"line\":{\"color\":\"grey\",\"dash\":\"dash\"},\"opacity\":0.3,\"type\":\"line\",\"x0\":\"2022-01-14T21:00:00\",\"x1\":\"2022-01-14T21:00:00\",\"y0\":16540,\"y1\":71670},{\"line\":{\"color\":\"grey\",\"dash\":\"dash\"},\"opacity\":0.3,\"type\":\"line\",\"x0\":\"2022-01-14T22:00:00\",\"x1\":\"2022-01-14T22:00:00\",\"y0\":16540,\"y1\":71670},{\"line\":{\"color\":\"grey\",\"dash\":\"dash\"},\"opacity\":0.3,\"type\":\"line\",\"x0\":\"2022-01-14T23:00:00\",\"x1\":\"2022-01-14T23:00:00\",\"y0\":16540,\"y1\":71670},{\"line\":{\"color\":\"grey\",\"dash\":\"dash\"},\"opacity\":0.3,\"type\":\"line\",\"x0\":\"2022-01-15T00:00:00\",\"x1\":\"2022-01-15T00:00:00\",\"y0\":16540,\"y1\":71670},{\"line\":{\"color\":\"grey\",\"dash\":\"dash\"},\"opacity\":0.3,\"type\":\"line\",\"x0\":\"2022-01-15T01:00:00\",\"x1\":\"2022-01-15T01:00:00\",\"y0\":16540,\"y1\":71670},{\"line\":{\"color\":\"grey\",\"dash\":\"dash\"},\"opacity\":0.3,\"type\":\"line\",\"x0\":\"2022-01-15T02:00:00\",\"x1\":\"2022-01-15T02:00:00\",\"y0\":16540,\"y1\":71670},{\"line\":{\"color\":\"grey\",\"dash\":\"dash\"},\"opacity\":0.3,\"type\":\"line\",\"x0\":\"2022-01-15T03:00:00\",\"x1\":\"2022-01-15T03:00:00\",\"y0\":16540,\"y1\":71670},{\"line\":{\"color\":\"grey\",\"dash\":\"dash\"},\"opacity\":0.3,\"type\":\"line\",\"x0\":\"2022-01-15T04:00:00\",\"x1\":\"2022-01-15T04:00:00\",\"y0\":16540,\"y1\":71670},{\"line\":{\"color\":\"grey\",\"dash\":\"dash\"},\"opacity\":0.3,\"type\":\"line\",\"x0\":\"2022-01-15T05:00:00\",\"x1\":\"2022-01-15T05:00:00\",\"y0\":16540,\"y1\":71670},{\"line\":{\"color\":\"grey\",\"dash\":\"dash\"},\"opacity\":0.3,\"type\":\"line\",\"x0\":\"2022-01-15T06:00:00\",\"x1\":\"2022-01-15T06:00:00\",\"y0\":16540,\"y1\":71670},{\"line\":{\"color\":\"grey\",\"dash\":\"dash\"},\"opacity\":0.3,\"type\":\"line\",\"x0\":\"2022-01-15T07:00:00\",\"x1\":\"2022-01-15T07:00:00\",\"y0\":16540,\"y1\":71670},{\"line\":{\"color\":\"grey\",\"dash\":\"dash\"},\"opacity\":0.3,\"type\":\"line\",\"x0\":\"2022-01-15T08:00:00\",\"x1\":\"2022-01-15T08:00:00\",\"y0\":16540,\"y1\":71670},{\"line\":{\"color\":\"grey\",\"dash\":\"dash\"},\"opacity\":0.3,\"type\":\"line\",\"x0\":\"2022-01-15T09:00:00\",\"x1\":\"2022-01-15T09:00:00\",\"y0\":16540,\"y1\":71670},{\"line\":{\"color\":\"grey\",\"dash\":\"dash\"},\"opacity\":0.3,\"type\":\"line\",\"x0\":\"2022-01-15T10:00:00\",\"x1\":\"2022-01-15T10:00:00\",\"y0\":16540,\"y1\":71670},{\"line\":{\"color\":\"grey\",\"dash\":\"dash\"},\"opacity\":0.3,\"type\":\"line\",\"x0\":\"2022-01-15T11:00:00\",\"x1\":\"2022-01-15T11:00:00\",\"y0\":16540,\"y1\":71670},{\"line\":{\"color\":\"grey\",\"dash\":\"dash\"},\"opacity\":0.3,\"type\":\"line\",\"x0\":\"2022-01-15T12:00:00\",\"x1\":\"2022-01-15T12:00:00\",\"y0\":16540,\"y1\":71670},{\"line\":{\"color\":\"grey\",\"dash\":\"dash\"},\"opacity\":0.3,\"type\":\"line\",\"x0\":\"2022-01-15T13:00:00\",\"x1\":\"2022-01-15T13:00:00\",\"y0\":16540,\"y1\":71670},{\"line\":{\"color\":\"grey\",\"dash\":\"dash\"},\"opacity\":0.3,\"type\":\"line\",\"x0\":\"2022-01-15T14:00:00\",\"x1\":\"2022-01-15T14:00:00\",\"y0\":16540,\"y1\":71670},{\"line\":{\"color\":\"grey\",\"dash\":\"dash\"},\"opacity\":0.3,\"type\":\"line\",\"x0\":\"2022-01-15T15:00:00\",\"x1\":\"2022-01-15T15:00:00\",\"y0\":16540,\"y1\":71670},{\"line\":{\"color\":\"grey\",\"dash\":\"dash\"},\"opacity\":0.3,\"type\":\"line\",\"x0\":\"2022-01-15T16:00:00\",\"x1\":\"2022-01-15T16:00:00\",\"y0\":16540,\"y1\":71670},{\"line\":{\"color\":\"grey\",\"dash\":\"dash\"},\"opacity\":0.3,\"type\":\"line\",\"x0\":\"2022-01-15T17:00:00\",\"x1\":\"2022-01-15T17:00:00\",\"y0\":16540,\"y1\":71670},{\"line\":{\"color\":\"grey\",\"dash\":\"dash\"},\"opacity\":0.3,\"type\":\"line\",\"x0\":\"2022-01-15T18:00:00\",\"x1\":\"2022-01-15T18:00:00\",\"y0\":16540,\"y1\":71670},{\"line\":{\"color\":\"grey\",\"dash\":\"dash\"},\"opacity\":0.3,\"type\":\"line\",\"x0\":\"2022-01-15T19:00:00\",\"x1\":\"2022-01-15T19:00:00\",\"y0\":16540,\"y1\":71670},{\"line\":{\"color\":\"grey\",\"dash\":\"dash\"},\"opacity\":0.3,\"type\":\"line\",\"x0\":\"2022-01-15T20:00:00\",\"x1\":\"2022-01-15T20:00:00\",\"y0\":16540,\"y1\":71670},{\"line\":{\"color\":\"grey\",\"dash\":\"dash\"},\"opacity\":0.3,\"type\":\"line\",\"x0\":\"2022-01-15T21:00:00\",\"x1\":\"2022-01-15T21:00:00\",\"y0\":16540,\"y1\":71670},{\"line\":{\"color\":\"grey\",\"dash\":\"dash\"},\"opacity\":0.3,\"type\":\"line\",\"x0\":\"2022-01-15T22:00:00\",\"x1\":\"2022-01-15T22:00:00\",\"y0\":16540,\"y1\":71670},{\"line\":{\"color\":\"grey\",\"dash\":\"dash\"},\"opacity\":0.3,\"type\":\"line\",\"x0\":\"2022-01-15T23:00:00\",\"x1\":\"2022-01-15T23:00:00\",\"y0\":16540,\"y1\":71670},{\"line\":{\"color\":\"grey\",\"dash\":\"dash\"},\"opacity\":0.3,\"type\":\"line\",\"x0\":\"2022-01-16T00:00:00\",\"x1\":\"2022-01-16T00:00:00\",\"y0\":16540,\"y1\":71670},{\"line\":{\"color\":\"grey\",\"dash\":\"dash\"},\"opacity\":0.3,\"type\":\"line\",\"x0\":\"2022-01-16T01:00:00\",\"x1\":\"2022-01-16T01:00:00\",\"y0\":16540,\"y1\":71670},{\"line\":{\"color\":\"grey\",\"dash\":\"dash\"},\"opacity\":0.3,\"type\":\"line\",\"x0\":\"2022-01-16T02:00:00\",\"x1\":\"2022-01-16T02:00:00\",\"y0\":16540,\"y1\":71670},{\"line\":{\"color\":\"grey\",\"dash\":\"dash\"},\"opacity\":0.3,\"type\":\"line\",\"x0\":\"2022-01-16T03:00:00\",\"x1\":\"2022-01-16T03:00:00\",\"y0\":16540,\"y1\":71670},{\"line\":{\"color\":\"grey\",\"dash\":\"dash\"},\"opacity\":0.3,\"type\":\"line\",\"x0\":\"2022-01-16T04:00:00\",\"x1\":\"2022-01-16T04:00:00\",\"y0\":16540,\"y1\":71670},{\"line\":{\"color\":\"grey\",\"dash\":\"dash\"},\"opacity\":0.3,\"type\":\"line\",\"x0\":\"2022-01-16T05:00:00\",\"x1\":\"2022-01-16T05:00:00\",\"y0\":16540,\"y1\":71670},{\"line\":{\"color\":\"grey\",\"dash\":\"dash\"},\"opacity\":0.3,\"type\":\"line\",\"x0\":\"2022-01-16T06:00:00\",\"x1\":\"2022-01-16T06:00:00\",\"y0\":16540,\"y1\":71670},{\"line\":{\"color\":\"grey\",\"dash\":\"dash\"},\"opacity\":0.3,\"type\":\"line\",\"x0\":\"2022-01-16T07:00:00\",\"x1\":\"2022-01-16T07:00:00\",\"y0\":16540,\"y1\":71670},{\"line\":{\"color\":\"grey\",\"dash\":\"dash\"},\"opacity\":0.3,\"type\":\"line\",\"x0\":\"2022-01-16T08:00:00\",\"x1\":\"2022-01-16T08:00:00\",\"y0\":16540,\"y1\":71670},{\"line\":{\"color\":\"grey\",\"dash\":\"dash\"},\"opacity\":0.3,\"type\":\"line\",\"x0\":\"2022-01-16T09:00:00\",\"x1\":\"2022-01-16T09:00:00\",\"y0\":16540,\"y1\":71670},{\"line\":{\"color\":\"grey\",\"dash\":\"dash\"},\"opacity\":0.3,\"type\":\"line\",\"x0\":\"2022-01-16T10:00:00\",\"x1\":\"2022-01-16T10:00:00\",\"y0\":16540,\"y1\":71670},{\"line\":{\"color\":\"grey\",\"dash\":\"dash\"},\"opacity\":0.3,\"type\":\"line\",\"x0\":\"2022-01-16T11:00:00\",\"x1\":\"2022-01-16T11:00:00\",\"y0\":16540,\"y1\":71670},{\"line\":{\"color\":\"grey\",\"dash\":\"dash\"},\"opacity\":0.3,\"type\":\"line\",\"x0\":\"2022-01-16T12:00:00\",\"x1\":\"2022-01-16T12:00:00\",\"y0\":16540,\"y1\":71670},{\"line\":{\"color\":\"grey\",\"dash\":\"dash\"},\"opacity\":0.3,\"type\":\"line\",\"x0\":\"2022-01-16T13:00:00\",\"x1\":\"2022-01-16T13:00:00\",\"y0\":16540,\"y1\":71670},{\"line\":{\"color\":\"grey\",\"dash\":\"dash\"},\"opacity\":0.3,\"type\":\"line\",\"x0\":\"2022-01-16T14:00:00\",\"x1\":\"2022-01-16T14:00:00\",\"y0\":16540,\"y1\":71670},{\"line\":{\"color\":\"grey\",\"dash\":\"dash\"},\"opacity\":0.3,\"type\":\"line\",\"x0\":\"2022-01-16T15:00:00\",\"x1\":\"2022-01-16T15:00:00\",\"y0\":16540,\"y1\":71670},{\"line\":{\"color\":\"grey\",\"dash\":\"dash\"},\"opacity\":0.3,\"type\":\"line\",\"x0\":\"2022-01-16T16:00:00\",\"x1\":\"2022-01-16T16:00:00\",\"y0\":16540,\"y1\":71670},{\"line\":{\"color\":\"grey\",\"dash\":\"dash\"},\"opacity\":0.3,\"type\":\"line\",\"x0\":\"2022-01-16T17:00:00\",\"x1\":\"2022-01-16T17:00:00\",\"y0\":16540,\"y1\":71670},{\"line\":{\"color\":\"grey\",\"dash\":\"dash\"},\"opacity\":0.3,\"type\":\"line\",\"x0\":\"2022-01-16T18:00:00\",\"x1\":\"2022-01-16T18:00:00\",\"y0\":16540,\"y1\":71670},{\"line\":{\"color\":\"grey\",\"dash\":\"dash\"},\"opacity\":0.3,\"type\":\"line\",\"x0\":\"2022-01-16T19:00:00\",\"x1\":\"2022-01-16T19:00:00\",\"y0\":16540,\"y1\":71670},{\"line\":{\"color\":\"grey\",\"dash\":\"dash\"},\"opacity\":0.3,\"type\":\"line\",\"x0\":\"2022-01-16T20:00:00\",\"x1\":\"2022-01-16T20:00:00\",\"y0\":16540,\"y1\":71670},{\"line\":{\"color\":\"grey\",\"dash\":\"dash\"},\"opacity\":0.3,\"type\":\"line\",\"x0\":\"2022-01-16T21:00:00\",\"x1\":\"2022-01-16T21:00:00\",\"y0\":16540,\"y1\":71670},{\"line\":{\"color\":\"grey\",\"dash\":\"dash\"},\"opacity\":0.3,\"type\":\"line\",\"x0\":\"2022-01-16T22:00:00\",\"x1\":\"2022-01-16T22:00:00\",\"y0\":16540,\"y1\":71670},{\"line\":{\"color\":\"grey\",\"dash\":\"dash\"},\"opacity\":0.3,\"type\":\"line\",\"x0\":\"2022-01-16T23:00:00\",\"x1\":\"2022-01-16T23:00:00\",\"y0\":16540,\"y1\":71670},{\"line\":{\"color\":\"grey\",\"dash\":\"dash\"},\"opacity\":0.3,\"type\":\"line\",\"x0\":\"2022-01-17T00:00:00\",\"x1\":\"2022-01-17T00:00:00\",\"y0\":16540,\"y1\":71670},{\"line\":{\"color\":\"grey\",\"dash\":\"dash\"},\"opacity\":0.3,\"type\":\"line\",\"x0\":\"2022-01-17T01:00:00\",\"x1\":\"2022-01-17T01:00:00\",\"y0\":16540,\"y1\":71670},{\"line\":{\"color\":\"grey\",\"dash\":\"dash\"},\"opacity\":0.3,\"type\":\"line\",\"x0\":\"2022-01-17T02:00:00\",\"x1\":\"2022-01-17T02:00:00\",\"y0\":16540,\"y1\":71670},{\"line\":{\"color\":\"grey\",\"dash\":\"dash\"},\"opacity\":0.3,\"type\":\"line\",\"x0\":\"2022-01-17T03:00:00\",\"x1\":\"2022-01-17T03:00:00\",\"y0\":16540,\"y1\":71670},{\"line\":{\"color\":\"grey\",\"dash\":\"dash\"},\"opacity\":0.3,\"type\":\"line\",\"x0\":\"2022-01-17T04:00:00\",\"x1\":\"2022-01-17T04:00:00\",\"y0\":16540,\"y1\":71670},{\"line\":{\"color\":\"grey\",\"dash\":\"dash\"},\"opacity\":0.3,\"type\":\"line\",\"x0\":\"2022-01-17T05:00:00\",\"x1\":\"2022-01-17T05:00:00\",\"y0\":16540,\"y1\":71670},{\"line\":{\"color\":\"grey\",\"dash\":\"dash\"},\"opacity\":0.3,\"type\":\"line\",\"x0\":\"2022-01-17T06:00:00\",\"x1\":\"2022-01-17T06:00:00\",\"y0\":16540,\"y1\":71670},{\"line\":{\"color\":\"grey\",\"dash\":\"dash\"},\"opacity\":0.3,\"type\":\"line\",\"x0\":\"2022-01-17T07:00:00\",\"x1\":\"2022-01-17T07:00:00\",\"y0\":16540,\"y1\":71670},{\"line\":{\"color\":\"grey\",\"dash\":\"dash\"},\"opacity\":0.3,\"type\":\"line\",\"x0\":\"2022-01-17T08:00:00\",\"x1\":\"2022-01-17T08:00:00\",\"y0\":16540,\"y1\":71670},{\"line\":{\"color\":\"grey\",\"dash\":\"dash\"},\"opacity\":0.3,\"type\":\"line\",\"x0\":\"2022-01-17T09:00:00\",\"x1\":\"2022-01-17T09:00:00\",\"y0\":16540,\"y1\":71670},{\"line\":{\"color\":\"grey\",\"dash\":\"dash\"},\"opacity\":0.3,\"type\":\"line\",\"x0\":\"2022-01-17T10:00:00\",\"x1\":\"2022-01-17T10:00:00\",\"y0\":16540,\"y1\":71670},{\"line\":{\"color\":\"grey\",\"dash\":\"dash\"},\"opacity\":0.3,\"type\":\"line\",\"x0\":\"2022-01-17T11:00:00\",\"x1\":\"2022-01-17T11:00:00\",\"y0\":16540,\"y1\":71670},{\"line\":{\"color\":\"grey\",\"dash\":\"dash\"},\"opacity\":0.3,\"type\":\"line\",\"x0\":\"2022-01-17T12:00:00\",\"x1\":\"2022-01-17T12:00:00\",\"y0\":16540,\"y1\":71670},{\"line\":{\"color\":\"grey\",\"dash\":\"dash\"},\"opacity\":0.3,\"type\":\"line\",\"x0\":\"2022-01-17T13:00:00\",\"x1\":\"2022-01-17T13:00:00\",\"y0\":16540,\"y1\":71670},{\"line\":{\"color\":\"grey\",\"dash\":\"dash\"},\"opacity\":0.3,\"type\":\"line\",\"x0\":\"2022-01-17T14:00:00\",\"x1\":\"2022-01-17T14:00:00\",\"y0\":16540,\"y1\":71670},{\"line\":{\"color\":\"grey\",\"dash\":\"dash\"},\"opacity\":0.3,\"type\":\"line\",\"x0\":\"2022-01-17T15:00:00\",\"x1\":\"2022-01-17T15:00:00\",\"y0\":16540,\"y1\":71670},{\"line\":{\"color\":\"grey\",\"dash\":\"dash\"},\"opacity\":0.3,\"type\":\"line\",\"x0\":\"2022-01-17T16:00:00\",\"x1\":\"2022-01-17T16:00:00\",\"y0\":16540,\"y1\":71670},{\"line\":{\"color\":\"grey\",\"dash\":\"dash\"},\"opacity\":0.3,\"type\":\"line\",\"x0\":\"2022-01-17T17:00:00\",\"x1\":\"2022-01-17T17:00:00\",\"y0\":16540,\"y1\":71670},{\"line\":{\"color\":\"grey\",\"dash\":\"dash\"},\"opacity\":0.3,\"type\":\"line\",\"x0\":\"2022-01-17T18:00:00\",\"x1\":\"2022-01-17T18:00:00\",\"y0\":16540,\"y1\":71670},{\"line\":{\"color\":\"grey\",\"dash\":\"dash\"},\"opacity\":0.3,\"type\":\"line\",\"x0\":\"2022-01-17T19:00:00\",\"x1\":\"2022-01-17T19:00:00\",\"y0\":16540,\"y1\":71670},{\"line\":{\"color\":\"grey\",\"dash\":\"dash\"},\"opacity\":0.3,\"type\":\"line\",\"x0\":\"2022-01-17T20:00:00\",\"x1\":\"2022-01-17T20:00:00\",\"y0\":16540,\"y1\":71670},{\"line\":{\"color\":\"grey\",\"dash\":\"dash\"},\"opacity\":0.3,\"type\":\"line\",\"x0\":\"2022-01-17T21:00:00\",\"x1\":\"2022-01-17T21:00:00\",\"y0\":16540,\"y1\":71670},{\"line\":{\"color\":\"grey\",\"dash\":\"dash\"},\"opacity\":0.3,\"type\":\"line\",\"x0\":\"2022-01-17T22:00:00\",\"x1\":\"2022-01-17T22:00:00\",\"y0\":16540,\"y1\":71670},{\"line\":{\"color\":\"grey\",\"dash\":\"dash\"},\"opacity\":0.3,\"type\":\"line\",\"x0\":\"2022-01-17T23:00:00\",\"x1\":\"2022-01-17T23:00:00\",\"y0\":16540,\"y1\":71670},{\"line\":{\"color\":\"grey\",\"dash\":\"dash\"},\"opacity\":0.3,\"type\":\"line\",\"x0\":\"2022-01-18T00:00:00\",\"x1\":\"2022-01-18T00:00:00\",\"y0\":16540,\"y1\":71670},{\"line\":{\"color\":\"grey\",\"dash\":\"dash\"},\"opacity\":0.3,\"type\":\"line\",\"x0\":\"2022-01-18T01:00:00\",\"x1\":\"2022-01-18T01:00:00\",\"y0\":16540,\"y1\":71670},{\"line\":{\"color\":\"grey\",\"dash\":\"dash\"},\"opacity\":0.3,\"type\":\"line\",\"x0\":\"2022-01-18T02:00:00\",\"x1\":\"2022-01-18T02:00:00\",\"y0\":16540,\"y1\":71670},{\"line\":{\"color\":\"grey\",\"dash\":\"dash\"},\"opacity\":0.3,\"type\":\"line\",\"x0\":\"2022-01-18T03:00:00\",\"x1\":\"2022-01-18T03:00:00\",\"y0\":16540,\"y1\":71670},{\"line\":{\"color\":\"grey\",\"dash\":\"dash\"},\"opacity\":0.3,\"type\":\"line\",\"x0\":\"2022-01-18T04:00:00\",\"x1\":\"2022-01-18T04:00:00\",\"y0\":16540,\"y1\":71670},{\"line\":{\"color\":\"grey\",\"dash\":\"dash\"},\"opacity\":0.3,\"type\":\"line\",\"x0\":\"2022-01-18T05:00:00\",\"x1\":\"2022-01-18T05:00:00\",\"y0\":16540,\"y1\":71670},{\"line\":{\"color\":\"grey\",\"dash\":\"dash\"},\"opacity\":0.3,\"type\":\"line\",\"x0\":\"2022-01-18T06:00:00\",\"x1\":\"2022-01-18T06:00:00\",\"y0\":16540,\"y1\":71670},{\"line\":{\"color\":\"grey\",\"dash\":\"dash\"},\"opacity\":0.3,\"type\":\"line\",\"x0\":\"2022-01-18T07:00:00\",\"x1\":\"2022-01-18T07:00:00\",\"y0\":16540,\"y1\":71670},{\"line\":{\"color\":\"grey\",\"dash\":\"dash\"},\"opacity\":0.3,\"type\":\"line\",\"x0\":\"2022-01-18T08:00:00\",\"x1\":\"2022-01-18T08:00:00\",\"y0\":16540,\"y1\":71670},{\"line\":{\"color\":\"grey\",\"dash\":\"dash\"},\"opacity\":0.3,\"type\":\"line\",\"x0\":\"2022-01-18T09:00:00\",\"x1\":\"2022-01-18T09:00:00\",\"y0\":16540,\"y1\":71670},{\"line\":{\"color\":\"grey\",\"dash\":\"dash\"},\"opacity\":0.3,\"type\":\"line\",\"x0\":\"2022-01-18T10:00:00\",\"x1\":\"2022-01-18T10:00:00\",\"y0\":16540,\"y1\":71670},{\"line\":{\"color\":\"grey\",\"dash\":\"dash\"},\"opacity\":0.3,\"type\":\"line\",\"x0\":\"2022-01-18T11:00:00\",\"x1\":\"2022-01-18T11:00:00\",\"y0\":16540,\"y1\":71670},{\"line\":{\"color\":\"grey\",\"dash\":\"dash\"},\"opacity\":0.3,\"type\":\"line\",\"x0\":\"2022-01-18T12:00:00\",\"x1\":\"2022-01-18T12:00:00\",\"y0\":16540,\"y1\":71670},{\"line\":{\"color\":\"grey\",\"dash\":\"dash\"},\"opacity\":0.3,\"type\":\"line\",\"x0\":\"2022-01-18T13:00:00\",\"x1\":\"2022-01-18T13:00:00\",\"y0\":16540,\"y1\":71670},{\"line\":{\"color\":\"grey\",\"dash\":\"dash\"},\"opacity\":0.3,\"type\":\"line\",\"x0\":\"2022-01-18T14:00:00\",\"x1\":\"2022-01-18T14:00:00\",\"y0\":16540,\"y1\":71670},{\"line\":{\"color\":\"grey\",\"dash\":\"dash\"},\"opacity\":0.3,\"type\":\"line\",\"x0\":\"2022-01-18T15:00:00\",\"x1\":\"2022-01-18T15:00:00\",\"y0\":16540,\"y1\":71670},{\"line\":{\"color\":\"grey\",\"dash\":\"dash\"},\"opacity\":0.3,\"type\":\"line\",\"x0\":\"2022-01-18T20:00:00\",\"x1\":\"2022-01-18T20:00:00\",\"y0\":16540,\"y1\":71670},{\"line\":{\"color\":\"grey\",\"dash\":\"dash\"},\"opacity\":0.3,\"type\":\"line\",\"x0\":\"2022-01-18T21:00:00\",\"x1\":\"2022-01-18T21:00:00\",\"y0\":16540,\"y1\":71670},{\"line\":{\"color\":\"grey\",\"dash\":\"dash\"},\"opacity\":0.3,\"type\":\"line\",\"x0\":\"2022-01-18T22:00:00\",\"x1\":\"2022-01-18T22:00:00\",\"y0\":16540,\"y1\":71670},{\"line\":{\"color\":\"grey\",\"dash\":\"dash\"},\"opacity\":0.3,\"type\":\"line\",\"x0\":\"2022-01-18T23:00:00\",\"x1\":\"2022-01-18T23:00:00\",\"y0\":16540,\"y1\":71670},{\"line\":{\"color\":\"grey\",\"dash\":\"dash\"},\"opacity\":0.3,\"type\":\"line\",\"x0\":\"2022-01-19T00:00:00\",\"x1\":\"2022-01-19T00:00:00\",\"y0\":16540,\"y1\":71670},{\"line\":{\"color\":\"grey\",\"dash\":\"dash\"},\"opacity\":0.3,\"type\":\"line\",\"x0\":\"2022-01-19T01:00:00\",\"x1\":\"2022-01-19T01:00:00\",\"y0\":16540,\"y1\":71670},{\"line\":{\"color\":\"grey\",\"dash\":\"dash\"},\"opacity\":0.3,\"type\":\"line\",\"x0\":\"2022-01-19T02:00:00\",\"x1\":\"2022-01-19T02:00:00\",\"y0\":16540,\"y1\":71670},{\"line\":{\"color\":\"grey\",\"dash\":\"dash\"},\"opacity\":0.3,\"type\":\"line\",\"x0\":\"2022-01-19T03:00:00\",\"x1\":\"2022-01-19T03:00:00\",\"y0\":16540,\"y1\":71670},{\"line\":{\"color\":\"grey\",\"dash\":\"dash\"},\"opacity\":0.3,\"type\":\"line\",\"x0\":\"2022-01-19T04:00:00\",\"x1\":\"2022-01-19T04:00:00\",\"y0\":16540,\"y1\":71670},{\"line\":{\"color\":\"grey\",\"dash\":\"dash\"},\"opacity\":0.3,\"type\":\"line\",\"x0\":\"2022-01-19T05:00:00\",\"x1\":\"2022-01-19T05:00:00\",\"y0\":16540,\"y1\":71670},{\"line\":{\"color\":\"grey\",\"dash\":\"dash\"},\"opacity\":0.3,\"type\":\"line\",\"x0\":\"2022-01-19T06:00:00\",\"x1\":\"2022-01-19T06:00:00\",\"y0\":16540,\"y1\":71670},{\"line\":{\"color\":\"grey\",\"dash\":\"dash\"},\"opacity\":0.3,\"type\":\"line\",\"x0\":\"2022-01-19T07:00:00\",\"x1\":\"2022-01-19T07:00:00\",\"y0\":16540,\"y1\":71670},{\"line\":{\"color\":\"grey\",\"dash\":\"dash\"},\"opacity\":0.3,\"type\":\"line\",\"x0\":\"2022-01-19T08:00:00\",\"x1\":\"2022-01-19T08:00:00\",\"y0\":16540,\"y1\":71670},{\"line\":{\"color\":\"grey\",\"dash\":\"dash\"},\"opacity\":0.3,\"type\":\"line\",\"x0\":\"2022-01-19T09:00:00\",\"x1\":\"2022-01-19T09:00:00\",\"y0\":16540,\"y1\":71670},{\"line\":{\"color\":\"grey\",\"dash\":\"dash\"},\"opacity\":0.3,\"type\":\"line\",\"x0\":\"2022-01-19T10:00:00\",\"x1\":\"2022-01-19T10:00:00\",\"y0\":16540,\"y1\":71670},{\"line\":{\"color\":\"grey\",\"dash\":\"dash\"},\"opacity\":0.3,\"type\":\"line\",\"x0\":\"2022-01-19T11:00:00\",\"x1\":\"2022-01-19T11:00:00\",\"y0\":16540,\"y1\":71670},{\"line\":{\"color\":\"grey\",\"dash\":\"dash\"},\"opacity\":0.3,\"type\":\"line\",\"x0\":\"2022-01-19T12:00:00\",\"x1\":\"2022-01-19T12:00:00\",\"y0\":16540,\"y1\":71670},{\"line\":{\"color\":\"grey\",\"dash\":\"dash\"},\"opacity\":0.3,\"type\":\"line\",\"x0\":\"2022-01-19T13:00:00\",\"x1\":\"2022-01-19T13:00:00\",\"y0\":16540,\"y1\":71670},{\"line\":{\"color\":\"grey\",\"dash\":\"dash\"},\"opacity\":0.3,\"type\":\"line\",\"x0\":\"2022-01-19T14:00:00\",\"x1\":\"2022-01-19T14:00:00\",\"y0\":16540,\"y1\":71670},{\"line\":{\"color\":\"grey\",\"dash\":\"dash\"},\"opacity\":0.3,\"type\":\"line\",\"x0\":\"2022-01-19T15:00:00\",\"x1\":\"2022-01-19T15:00:00\",\"y0\":16540,\"y1\":71670},{\"line\":{\"color\":\"grey\",\"dash\":\"dash\"},\"opacity\":0.3,\"type\":\"line\",\"x0\":\"2022-01-19T16:00:00\",\"x1\":\"2022-01-19T16:00:00\",\"y0\":16540,\"y1\":71670},{\"line\":{\"color\":\"grey\",\"dash\":\"dash\"},\"opacity\":0.3,\"type\":\"line\",\"x0\":\"2022-01-19T17:00:00\",\"x1\":\"2022-01-19T17:00:00\",\"y0\":16540,\"y1\":71670},{\"line\":{\"color\":\"grey\",\"dash\":\"dash\"},\"opacity\":0.3,\"type\":\"line\",\"x0\":\"2022-01-19T18:00:00\",\"x1\":\"2022-01-19T18:00:00\",\"y0\":16540,\"y1\":71670},{\"line\":{\"color\":\"grey\",\"dash\":\"dash\"},\"opacity\":0.3,\"type\":\"line\",\"x0\":\"2022-01-19T19:00:00\",\"x1\":\"2022-01-19T19:00:00\",\"y0\":16540,\"y1\":71670},{\"line\":{\"color\":\"grey\",\"dash\":\"dash\"},\"opacity\":0.3,\"type\":\"line\",\"x0\":\"2022-01-19T20:00:00\",\"x1\":\"2022-01-19T20:00:00\",\"y0\":16540,\"y1\":71670},{\"line\":{\"color\":\"grey\",\"dash\":\"dash\"},\"opacity\":0.3,\"type\":\"line\",\"x0\":\"2022-01-19T21:00:00\",\"x1\":\"2022-01-19T21:00:00\",\"y0\":16540,\"y1\":71670},{\"line\":{\"color\":\"grey\",\"dash\":\"dash\"},\"opacity\":0.3,\"type\":\"line\",\"x0\":\"2022-01-19T23:00:00\",\"x1\":\"2022-01-19T23:00:00\",\"y0\":16540,\"y1\":71670},{\"line\":{\"color\":\"grey\",\"dash\":\"dash\"},\"opacity\":0.3,\"type\":\"line\",\"x0\":\"2022-01-20T00:00:00\",\"x1\":\"2022-01-20T00:00:00\",\"y0\":16540,\"y1\":71670},{\"line\":{\"color\":\"grey\",\"dash\":\"dash\"},\"opacity\":0.3,\"type\":\"line\",\"x0\":\"2022-01-20T01:00:00\",\"x1\":\"2022-01-20T01:00:00\",\"y0\":16540,\"y1\":71670},{\"line\":{\"color\":\"grey\",\"dash\":\"dash\"},\"opacity\":0.3,\"type\":\"line\",\"x0\":\"2022-01-20T02:00:00\",\"x1\":\"2022-01-20T02:00:00\",\"y0\":16540,\"y1\":71670},{\"line\":{\"color\":\"grey\",\"dash\":\"dash\"},\"opacity\":0.3,\"type\":\"line\",\"x0\":\"2022-01-20T03:00:00\",\"x1\":\"2022-01-20T03:00:00\",\"y0\":16540,\"y1\":71670},{\"line\":{\"color\":\"grey\",\"dash\":\"dash\"},\"opacity\":0.3,\"type\":\"line\",\"x0\":\"2022-01-20T04:00:00\",\"x1\":\"2022-01-20T04:00:00\",\"y0\":16540,\"y1\":71670},{\"line\":{\"color\":\"grey\",\"dash\":\"dash\"},\"opacity\":0.3,\"type\":\"line\",\"x0\":\"2022-01-20T05:00:00\",\"x1\":\"2022-01-20T05:00:00\",\"y0\":16540,\"y1\":71670},{\"line\":{\"color\":\"grey\",\"dash\":\"dash\"},\"opacity\":0.3,\"type\":\"line\",\"x0\":\"2022-01-20T06:00:00\",\"x1\":\"2022-01-20T06:00:00\",\"y0\":16540,\"y1\":71670},{\"line\":{\"color\":\"grey\",\"dash\":\"dash\"},\"opacity\":0.3,\"type\":\"line\",\"x0\":\"2022-01-20T07:00:00\",\"x1\":\"2022-01-20T07:00:00\",\"y0\":16540,\"y1\":71670},{\"line\":{\"color\":\"grey\",\"dash\":\"dash\"},\"opacity\":0.3,\"type\":\"line\",\"x0\":\"2022-01-20T08:00:00\",\"x1\":\"2022-01-20T08:00:00\",\"y0\":16540,\"y1\":71670},{\"line\":{\"color\":\"grey\",\"dash\":\"dash\"},\"opacity\":0.3,\"type\":\"line\",\"x0\":\"2022-01-20T09:00:00\",\"x1\":\"2022-01-20T09:00:00\",\"y0\":16540,\"y1\":71670},{\"line\":{\"color\":\"grey\",\"dash\":\"dash\"},\"opacity\":0.3,\"type\":\"line\",\"x0\":\"2022-01-20T10:00:00\",\"x1\":\"2022-01-20T10:00:00\",\"y0\":16540,\"y1\":71670},{\"line\":{\"color\":\"grey\",\"dash\":\"dash\"},\"opacity\":0.3,\"type\":\"line\",\"x0\":\"2022-01-20T11:00:00\",\"x1\":\"2022-01-20T11:00:00\",\"y0\":16540,\"y1\":71670},{\"line\":{\"color\":\"grey\",\"dash\":\"dash\"},\"opacity\":0.3,\"type\":\"line\",\"x0\":\"2022-01-20T12:00:00\",\"x1\":\"2022-01-20T12:00:00\",\"y0\":16540,\"y1\":71670},{\"line\":{\"color\":\"grey\",\"dash\":\"dash\"},\"opacity\":0.3,\"type\":\"line\",\"x0\":\"2022-01-20T13:00:00\",\"x1\":\"2022-01-20T13:00:00\",\"y0\":16540,\"y1\":71670},{\"line\":{\"color\":\"grey\",\"dash\":\"dash\"},\"opacity\":0.3,\"type\":\"line\",\"x0\":\"2022-01-20T14:00:00\",\"x1\":\"2022-01-20T14:00:00\",\"y0\":16540,\"y1\":71670},{\"line\":{\"color\":\"grey\",\"dash\":\"dash\"},\"opacity\":0.3,\"type\":\"line\",\"x0\":\"2022-01-20T15:00:00\",\"x1\":\"2022-01-20T15:00:00\",\"y0\":16540,\"y1\":71670},{\"line\":{\"color\":\"grey\",\"dash\":\"dash\"},\"opacity\":0.3,\"type\":\"line\",\"x0\":\"2022-01-20T16:00:00\",\"x1\":\"2022-01-20T16:00:00\",\"y0\":16540,\"y1\":71670},{\"line\":{\"color\":\"grey\",\"dash\":\"dash\"},\"opacity\":0.3,\"type\":\"line\",\"x0\":\"2022-01-20T17:00:00\",\"x1\":\"2022-01-20T17:00:00\",\"y0\":16540,\"y1\":71670},{\"line\":{\"color\":\"grey\",\"dash\":\"dash\"},\"opacity\":0.3,\"type\":\"line\",\"x0\":\"2022-01-20T18:00:00\",\"x1\":\"2022-01-20T18:00:00\",\"y0\":16540,\"y1\":71670},{\"line\":{\"color\":\"grey\",\"dash\":\"dash\"},\"opacity\":0.3,\"type\":\"line\",\"x0\":\"2022-01-20T19:00:00\",\"x1\":\"2022-01-20T19:00:00\",\"y0\":16540,\"y1\":71670},{\"line\":{\"color\":\"grey\",\"dash\":\"dash\"},\"opacity\":0.3,\"type\":\"line\",\"x0\":\"2022-01-20T20:00:00\",\"x1\":\"2022-01-20T20:00:00\",\"y0\":16540,\"y1\":71670},{\"line\":{\"color\":\"grey\",\"dash\":\"dash\"},\"opacity\":0.3,\"type\":\"line\",\"x0\":\"2022-01-20T21:00:00\",\"x1\":\"2022-01-20T21:00:00\",\"y0\":16540,\"y1\":71670},{\"line\":{\"color\":\"grey\",\"dash\":\"dash\"},\"opacity\":0.3,\"type\":\"line\",\"x0\":\"2022-01-20T22:00:00\",\"x1\":\"2022-01-20T22:00:00\",\"y0\":16540,\"y1\":71670},{\"line\":{\"color\":\"grey\",\"dash\":\"dash\"},\"opacity\":0.3,\"type\":\"line\",\"x0\":\"2022-01-20T23:00:00\",\"x1\":\"2022-01-20T23:00:00\",\"y0\":16540,\"y1\":71670},{\"line\":{\"color\":\"grey\",\"dash\":\"dash\"},\"opacity\":0.3,\"type\":\"line\",\"x0\":\"2022-01-21T00:00:00\",\"x1\":\"2022-01-21T00:00:00\",\"y0\":16540,\"y1\":71670},{\"line\":{\"color\":\"grey\",\"dash\":\"dash\"},\"opacity\":0.3,\"type\":\"line\",\"x0\":\"2022-01-21T01:00:00\",\"x1\":\"2022-01-21T01:00:00\",\"y0\":16540,\"y1\":71670},{\"line\":{\"color\":\"grey\",\"dash\":\"dash\"},\"opacity\":0.3,\"type\":\"line\",\"x0\":\"2022-01-21T02:00:00\",\"x1\":\"2022-01-21T02:00:00\",\"y0\":16540,\"y1\":71670},{\"line\":{\"color\":\"grey\",\"dash\":\"dash\"},\"opacity\":0.3,\"type\":\"line\",\"x0\":\"2022-01-23T11:00:00\",\"x1\":\"2022-01-23T11:00:00\",\"y0\":16540,\"y1\":71670},{\"line\":{\"color\":\"grey\",\"dash\":\"dash\"},\"opacity\":0.3,\"type\":\"line\",\"x0\":\"2022-01-23T12:00:00\",\"x1\":\"2022-01-23T12:00:00\",\"y0\":16540,\"y1\":71670},{\"line\":{\"color\":\"grey\",\"dash\":\"dash\"},\"opacity\":0.3,\"type\":\"line\",\"x0\":\"2022-01-23T13:00:00\",\"x1\":\"2022-01-23T13:00:00\",\"y0\":16540,\"y1\":71670},{\"line\":{\"color\":\"grey\",\"dash\":\"dash\"},\"opacity\":0.3,\"type\":\"line\",\"x0\":\"2022-01-23T14:00:00\",\"x1\":\"2022-01-23T14:00:00\",\"y0\":16540,\"y1\":71670},{\"line\":{\"color\":\"grey\",\"dash\":\"dash\"},\"opacity\":0.3,\"type\":\"line\",\"x0\":\"2022-01-23T15:00:00\",\"x1\":\"2022-01-23T15:00:00\",\"y0\":16540,\"y1\":71670},{\"line\":{\"color\":\"grey\",\"dash\":\"dash\"},\"opacity\":0.3,\"type\":\"line\",\"x0\":\"2022-01-23T16:00:00\",\"x1\":\"2022-01-23T16:00:00\",\"y0\":16540,\"y1\":71670},{\"line\":{\"color\":\"grey\",\"dash\":\"dash\"},\"opacity\":0.3,\"type\":\"line\",\"x0\":\"2022-01-23T17:00:00\",\"x1\":\"2022-01-23T17:00:00\",\"y0\":16540,\"y1\":71670},{\"line\":{\"color\":\"grey\",\"dash\":\"dash\"},\"opacity\":0.3,\"type\":\"line\",\"x0\":\"2022-01-24T02:00:00\",\"x1\":\"2022-01-24T02:00:00\",\"y0\":16540,\"y1\":71670},{\"line\":{\"color\":\"grey\",\"dash\":\"dash\"},\"opacity\":0.3,\"type\":\"line\",\"x0\":\"2022-01-24T19:00:00\",\"x1\":\"2022-01-24T19:00:00\",\"y0\":16540,\"y1\":71670},{\"line\":{\"color\":\"grey\",\"dash\":\"dash\"},\"opacity\":0.3,\"type\":\"line\",\"x0\":\"2022-01-24T20:00:00\",\"x1\":\"2022-01-24T20:00:00\",\"y0\":16540,\"y1\":71670},{\"line\":{\"color\":\"grey\",\"dash\":\"dash\"},\"opacity\":0.3,\"type\":\"line\",\"x0\":\"2022-01-24T21:00:00\",\"x1\":\"2022-01-24T21:00:00\",\"y0\":16540,\"y1\":71670},{\"line\":{\"color\":\"grey\",\"dash\":\"dash\"},\"opacity\":0.3,\"type\":\"line\",\"x0\":\"2022-01-24T22:00:00\",\"x1\":\"2022-01-24T22:00:00\",\"y0\":16540,\"y1\":71670},{\"line\":{\"color\":\"grey\",\"dash\":\"dash\"},\"opacity\":0.3,\"type\":\"line\",\"x0\":\"2022-01-24T23:00:00\",\"x1\":\"2022-01-24T23:00:00\",\"y0\":16540,\"y1\":71670},{\"line\":{\"color\":\"grey\",\"dash\":\"dash\"},\"opacity\":0.3,\"type\":\"line\",\"x0\":\"2022-01-25T00:00:00\",\"x1\":\"2022-01-25T00:00:00\",\"y0\":16540,\"y1\":71670},{\"line\":{\"color\":\"grey\",\"dash\":\"dash\"},\"opacity\":0.3,\"type\":\"line\",\"x0\":\"2022-01-25T01:00:00\",\"x1\":\"2022-01-25T01:00:00\",\"y0\":16540,\"y1\":71670},{\"line\":{\"color\":\"grey\",\"dash\":\"dash\"},\"opacity\":0.3,\"type\":\"line\",\"x0\":\"2022-01-25T02:00:00\",\"x1\":\"2022-01-25T02:00:00\",\"y0\":16540,\"y1\":71670},{\"line\":{\"color\":\"grey\",\"dash\":\"dash\"},\"opacity\":0.3,\"type\":\"line\",\"x0\":\"2022-01-25T03:00:00\",\"x1\":\"2022-01-25T03:00:00\",\"y0\":16540,\"y1\":71670},{\"line\":{\"color\":\"grey\",\"dash\":\"dash\"},\"opacity\":0.3,\"type\":\"line\",\"x0\":\"2022-01-25T04:00:00\",\"x1\":\"2022-01-25T04:00:00\",\"y0\":16540,\"y1\":71670},{\"line\":{\"color\":\"grey\",\"dash\":\"dash\"},\"opacity\":0.3,\"type\":\"line\",\"x0\":\"2022-01-25T05:00:00\",\"x1\":\"2022-01-25T05:00:00\",\"y0\":16540,\"y1\":71670},{\"line\":{\"color\":\"grey\",\"dash\":\"dash\"},\"opacity\":0.3,\"type\":\"line\",\"x0\":\"2022-01-25T06:00:00\",\"x1\":\"2022-01-25T06:00:00\",\"y0\":16540,\"y1\":71670},{\"line\":{\"color\":\"grey\",\"dash\":\"dash\"},\"opacity\":0.3,\"type\":\"line\",\"x0\":\"2022-01-25T07:00:00\",\"x1\":\"2022-01-25T07:00:00\",\"y0\":16540,\"y1\":71670},{\"line\":{\"color\":\"grey\",\"dash\":\"dash\"},\"opacity\":0.3,\"type\":\"line\",\"x0\":\"2022-01-25T08:00:00\",\"x1\":\"2022-01-25T08:00:00\",\"y0\":16540,\"y1\":71670},{\"line\":{\"color\":\"grey\",\"dash\":\"dash\"},\"opacity\":0.3,\"type\":\"line\",\"x0\":\"2022-01-25T09:00:00\",\"x1\":\"2022-01-25T09:00:00\",\"y0\":16540,\"y1\":71670},{\"line\":{\"color\":\"grey\",\"dash\":\"dash\"},\"opacity\":0.3,\"type\":\"line\",\"x0\":\"2022-01-25T10:00:00\",\"x1\":\"2022-01-25T10:00:00\",\"y0\":16540,\"y1\":71670},{\"line\":{\"color\":\"grey\",\"dash\":\"dash\"},\"opacity\":0.3,\"type\":\"line\",\"x0\":\"2022-01-25T11:00:00\",\"x1\":\"2022-01-25T11:00:00\",\"y0\":16540,\"y1\":71670},{\"line\":{\"color\":\"grey\",\"dash\":\"dash\"},\"opacity\":0.3,\"type\":\"line\",\"x0\":\"2022-01-25T12:00:00\",\"x1\":\"2022-01-25T12:00:00\",\"y0\":16540,\"y1\":71670},{\"line\":{\"color\":\"grey\",\"dash\":\"dash\"},\"opacity\":0.3,\"type\":\"line\",\"x0\":\"2022-01-25T13:00:00\",\"x1\":\"2022-01-25T13:00:00\",\"y0\":16540,\"y1\":71670},{\"line\":{\"color\":\"grey\",\"dash\":\"dash\"},\"opacity\":0.3,\"type\":\"line\",\"x0\":\"2022-01-25T14:00:00\",\"x1\":\"2022-01-25T14:00:00\",\"y0\":16540,\"y1\":71670},{\"line\":{\"color\":\"grey\",\"dash\":\"dash\"},\"opacity\":0.3,\"type\":\"line\",\"x0\":\"2022-01-25T15:00:00\",\"x1\":\"2022-01-25T15:00:00\",\"y0\":16540,\"y1\":71670},{\"line\":{\"color\":\"grey\",\"dash\":\"dash\"},\"opacity\":0.3,\"type\":\"line\",\"x0\":\"2022-01-25T16:00:00\",\"x1\":\"2022-01-25T16:00:00\",\"y0\":16540,\"y1\":71670},{\"line\":{\"color\":\"grey\",\"dash\":\"dash\"},\"opacity\":0.3,\"type\":\"line\",\"x0\":\"2022-01-25T17:00:00\",\"x1\":\"2022-01-25T17:00:00\",\"y0\":16540,\"y1\":71670},{\"line\":{\"color\":\"grey\",\"dash\":\"dash\"},\"opacity\":0.3,\"type\":\"line\",\"x0\":\"2022-01-25T18:00:00\",\"x1\":\"2022-01-25T18:00:00\",\"y0\":16540,\"y1\":71670},{\"line\":{\"color\":\"grey\",\"dash\":\"dash\"},\"opacity\":0.3,\"type\":\"line\",\"x0\":\"2022-01-25T19:00:00\",\"x1\":\"2022-01-25T19:00:00\",\"y0\":16540,\"y1\":71670},{\"line\":{\"color\":\"grey\",\"dash\":\"dash\"},\"opacity\":0.3,\"type\":\"line\",\"x0\":\"2022-01-25T20:00:00\",\"x1\":\"2022-01-25T20:00:00\",\"y0\":16540,\"y1\":71670},{\"line\":{\"color\":\"grey\",\"dash\":\"dash\"},\"opacity\":0.3,\"type\":\"line\",\"x0\":\"2022-01-25T21:00:00\",\"x1\":\"2022-01-25T21:00:00\",\"y0\":16540,\"y1\":71670},{\"line\":{\"color\":\"grey\",\"dash\":\"dash\"},\"opacity\":0.3,\"type\":\"line\",\"x0\":\"2022-01-25T22:00:00\",\"x1\":\"2022-01-25T22:00:00\",\"y0\":16540,\"y1\":71670},{\"line\":{\"color\":\"grey\",\"dash\":\"dash\"},\"opacity\":0.3,\"type\":\"line\",\"x0\":\"2022-01-25T23:00:00\",\"x1\":\"2022-01-25T23:00:00\",\"y0\":16540,\"y1\":71670},{\"line\":{\"color\":\"grey\",\"dash\":\"dash\"},\"opacity\":0.3,\"type\":\"line\",\"x0\":\"2022-01-26T00:00:00\",\"x1\":\"2022-01-26T00:00:00\",\"y0\":16540,\"y1\":71670},{\"line\":{\"color\":\"grey\",\"dash\":\"dash\"},\"opacity\":0.3,\"type\":\"line\",\"x0\":\"2022-01-26T01:00:00\",\"x1\":\"2022-01-26T01:00:00\",\"y0\":16540,\"y1\":71670},{\"line\":{\"color\":\"grey\",\"dash\":\"dash\"},\"opacity\":0.3,\"type\":\"line\",\"x0\":\"2022-01-26T02:00:00\",\"x1\":\"2022-01-26T02:00:00\",\"y0\":16540,\"y1\":71670},{\"line\":{\"color\":\"grey\",\"dash\":\"dash\"},\"opacity\":0.3,\"type\":\"line\",\"x0\":\"2022-01-26T03:00:00\",\"x1\":\"2022-01-26T03:00:00\",\"y0\":16540,\"y1\":71670},{\"line\":{\"color\":\"grey\",\"dash\":\"dash\"},\"opacity\":0.3,\"type\":\"line\",\"x0\":\"2022-01-26T04:00:00\",\"x1\":\"2022-01-26T04:00:00\",\"y0\":16540,\"y1\":71670},{\"line\":{\"color\":\"grey\",\"dash\":\"dash\"},\"opacity\":0.3,\"type\":\"line\",\"x0\":\"2022-01-26T05:00:00\",\"x1\":\"2022-01-26T05:00:00\",\"y0\":16540,\"y1\":71670},{\"line\":{\"color\":\"grey\",\"dash\":\"dash\"},\"opacity\":0.3,\"type\":\"line\",\"x0\":\"2022-01-26T06:00:00\",\"x1\":\"2022-01-26T06:00:00\",\"y0\":16540,\"y1\":71670},{\"line\":{\"color\":\"grey\",\"dash\":\"dash\"},\"opacity\":0.3,\"type\":\"line\",\"x0\":\"2022-01-26T07:00:00\",\"x1\":\"2022-01-26T07:00:00\",\"y0\":16540,\"y1\":71670},{\"line\":{\"color\":\"grey\",\"dash\":\"dash\"},\"opacity\":0.3,\"type\":\"line\",\"x0\":\"2022-01-26T08:00:00\",\"x1\":\"2022-01-26T08:00:00\",\"y0\":16540,\"y1\":71670},{\"line\":{\"color\":\"grey\",\"dash\":\"dash\"},\"opacity\":0.3,\"type\":\"line\",\"x0\":\"2022-01-26T09:00:00\",\"x1\":\"2022-01-26T09:00:00\",\"y0\":16540,\"y1\":71670},{\"line\":{\"color\":\"grey\",\"dash\":\"dash\"},\"opacity\":0.3,\"type\":\"line\",\"x0\":\"2022-01-26T10:00:00\",\"x1\":\"2022-01-26T10:00:00\",\"y0\":16540,\"y1\":71670},{\"line\":{\"color\":\"grey\",\"dash\":\"dash\"},\"opacity\":0.3,\"type\":\"line\",\"x0\":\"2022-01-26T11:00:00\",\"x1\":\"2022-01-26T11:00:00\",\"y0\":16540,\"y1\":71670},{\"line\":{\"color\":\"grey\",\"dash\":\"dash\"},\"opacity\":0.3,\"type\":\"line\",\"x0\":\"2022-01-26T12:00:00\",\"x1\":\"2022-01-26T12:00:00\",\"y0\":16540,\"y1\":71670},{\"line\":{\"color\":\"grey\",\"dash\":\"dash\"},\"opacity\":0.3,\"type\":\"line\",\"x0\":\"2022-01-26T13:00:00\",\"x1\":\"2022-01-26T13:00:00\",\"y0\":16540,\"y1\":71670},{\"line\":{\"color\":\"grey\",\"dash\":\"dash\"},\"opacity\":0.3,\"type\":\"line\",\"x0\":\"2022-01-26T14:00:00\",\"x1\":\"2022-01-26T14:00:00\",\"y0\":16540,\"y1\":71670},{\"line\":{\"color\":\"grey\",\"dash\":\"dash\"},\"opacity\":0.3,\"type\":\"line\",\"x0\":\"2022-01-26T15:00:00\",\"x1\":\"2022-01-26T15:00:00\",\"y0\":16540,\"y1\":71670},{\"line\":{\"color\":\"grey\",\"dash\":\"dash\"},\"opacity\":0.3,\"type\":\"line\",\"x0\":\"2022-01-26T16:00:00\",\"x1\":\"2022-01-26T16:00:00\",\"y0\":16540,\"y1\":71670},{\"line\":{\"color\":\"grey\",\"dash\":\"dash\"},\"opacity\":0.3,\"type\":\"line\",\"x0\":\"2022-01-26T17:00:00\",\"x1\":\"2022-01-26T17:00:00\",\"y0\":16540,\"y1\":71670},{\"line\":{\"color\":\"grey\",\"dash\":\"dash\"},\"opacity\":0.3,\"type\":\"line\",\"x0\":\"2022-01-26T18:00:00\",\"x1\":\"2022-01-26T18:00:00\",\"y0\":16540,\"y1\":71670},{\"line\":{\"color\":\"grey\",\"dash\":\"dash\"},\"opacity\":0.3,\"type\":\"line\",\"x0\":\"2022-01-26T19:00:00\",\"x1\":\"2022-01-26T19:00:00\",\"y0\":16540,\"y1\":71670},{\"line\":{\"color\":\"grey\",\"dash\":\"dash\"},\"opacity\":0.3,\"type\":\"line\",\"x0\":\"2022-01-26T20:00:00\",\"x1\":\"2022-01-26T20:00:00\",\"y0\":16540,\"y1\":71670},{\"line\":{\"color\":\"grey\",\"dash\":\"dash\"},\"opacity\":0.3,\"type\":\"line\",\"x0\":\"2022-01-26T21:00:00\",\"x1\":\"2022-01-26T21:00:00\",\"y0\":16540,\"y1\":71670},{\"line\":{\"color\":\"grey\",\"dash\":\"dash\"},\"opacity\":0.3,\"type\":\"line\",\"x0\":\"2022-01-26T22:00:00\",\"x1\":\"2022-01-26T22:00:00\",\"y0\":16540,\"y1\":71670},{\"line\":{\"color\":\"grey\",\"dash\":\"dash\"},\"opacity\":0.3,\"type\":\"line\",\"x0\":\"2022-01-26T23:00:00\",\"x1\":\"2022-01-26T23:00:00\",\"y0\":16540,\"y1\":71670},{\"line\":{\"color\":\"grey\",\"dash\":\"dash\"},\"opacity\":0.3,\"type\":\"line\",\"x0\":\"2022-01-27T00:00:00\",\"x1\":\"2022-01-27T00:00:00\",\"y0\":16540,\"y1\":71670},{\"line\":{\"color\":\"grey\",\"dash\":\"dash\"},\"opacity\":0.3,\"type\":\"line\",\"x0\":\"2022-01-27T01:00:00\",\"x1\":\"2022-01-27T01:00:00\",\"y0\":16540,\"y1\":71670},{\"line\":{\"color\":\"grey\",\"dash\":\"dash\"},\"opacity\":0.3,\"type\":\"line\",\"x0\":\"2022-01-27T02:00:00\",\"x1\":\"2022-01-27T02:00:00\",\"y0\":16540,\"y1\":71670},{\"line\":{\"color\":\"grey\",\"dash\":\"dash\"},\"opacity\":0.3,\"type\":\"line\",\"x0\":\"2022-01-27T03:00:00\",\"x1\":\"2022-01-27T03:00:00\",\"y0\":16540,\"y1\":71670},{\"line\":{\"color\":\"grey\",\"dash\":\"dash\"},\"opacity\":0.3,\"type\":\"line\",\"x0\":\"2022-01-27T04:00:00\",\"x1\":\"2022-01-27T04:00:00\",\"y0\":16540,\"y1\":71670},{\"line\":{\"color\":\"grey\",\"dash\":\"dash\"},\"opacity\":0.3,\"type\":\"line\",\"x0\":\"2022-01-27T05:00:00\",\"x1\":\"2022-01-27T05:00:00\",\"y0\":16540,\"y1\":71670},{\"line\":{\"color\":\"grey\",\"dash\":\"dash\"},\"opacity\":0.3,\"type\":\"line\",\"x0\":\"2022-01-27T06:00:00\",\"x1\":\"2022-01-27T06:00:00\",\"y0\":16540,\"y1\":71670},{\"line\":{\"color\":\"grey\",\"dash\":\"dash\"},\"opacity\":0.3,\"type\":\"line\",\"x0\":\"2022-01-27T07:00:00\",\"x1\":\"2022-01-27T07:00:00\",\"y0\":16540,\"y1\":71670},{\"line\":{\"color\":\"grey\",\"dash\":\"dash\"},\"opacity\":0.3,\"type\":\"line\",\"x0\":\"2022-01-27T08:00:00\",\"x1\":\"2022-01-27T08:00:00\",\"y0\":16540,\"y1\":71670},{\"line\":{\"color\":\"grey\",\"dash\":\"dash\"},\"opacity\":0.3,\"type\":\"line\",\"x0\":\"2022-01-27T09:00:00\",\"x1\":\"2022-01-27T09:00:00\",\"y0\":16540,\"y1\":71670},{\"line\":{\"color\":\"grey\",\"dash\":\"dash\"},\"opacity\":0.3,\"type\":\"line\",\"x0\":\"2022-01-27T10:00:00\",\"x1\":\"2022-01-27T10:00:00\",\"y0\":16540,\"y1\":71670},{\"line\":{\"color\":\"grey\",\"dash\":\"dash\"},\"opacity\":0.3,\"type\":\"line\",\"x0\":\"2022-01-27T11:00:00\",\"x1\":\"2022-01-27T11:00:00\",\"y0\":16540,\"y1\":71670},{\"line\":{\"color\":\"grey\",\"dash\":\"dash\"},\"opacity\":0.3,\"type\":\"line\",\"x0\":\"2022-01-27T12:00:00\",\"x1\":\"2022-01-27T12:00:00\",\"y0\":16540,\"y1\":71670},{\"line\":{\"color\":\"grey\",\"dash\":\"dash\"},\"opacity\":0.3,\"type\":\"line\",\"x0\":\"2022-01-27T13:00:00\",\"x1\":\"2022-01-27T13:00:00\",\"y0\":16540,\"y1\":71670},{\"line\":{\"color\":\"grey\",\"dash\":\"dash\"},\"opacity\":0.3,\"type\":\"line\",\"x0\":\"2022-01-27T14:00:00\",\"x1\":\"2022-01-27T14:00:00\",\"y0\":16540,\"y1\":71670},{\"line\":{\"color\":\"grey\",\"dash\":\"dash\"},\"opacity\":0.3,\"type\":\"line\",\"x0\":\"2022-01-27T15:00:00\",\"x1\":\"2022-01-27T15:00:00\",\"y0\":16540,\"y1\":71670},{\"line\":{\"color\":\"grey\",\"dash\":\"dash\"},\"opacity\":0.3,\"type\":\"line\",\"x0\":\"2022-01-27T16:00:00\",\"x1\":\"2022-01-27T16:00:00\",\"y0\":16540,\"y1\":71670},{\"line\":{\"color\":\"grey\",\"dash\":\"dash\"},\"opacity\":0.3,\"type\":\"line\",\"x0\":\"2022-01-27T17:00:00\",\"x1\":\"2022-01-27T17:00:00\",\"y0\":16540,\"y1\":71670},{\"line\":{\"color\":\"grey\",\"dash\":\"dash\"},\"opacity\":0.3,\"type\":\"line\",\"x0\":\"2022-01-27T18:00:00\",\"x1\":\"2022-01-27T18:00:00\",\"y0\":16540,\"y1\":71670},{\"line\":{\"color\":\"grey\",\"dash\":\"dash\"},\"opacity\":0.3,\"type\":\"line\",\"x0\":\"2022-01-27T19:00:00\",\"x1\":\"2022-01-27T19:00:00\",\"y0\":16540,\"y1\":71670},{\"line\":{\"color\":\"grey\",\"dash\":\"dash\"},\"opacity\":0.3,\"type\":\"line\",\"x0\":\"2022-01-27T20:00:00\",\"x1\":\"2022-01-27T20:00:00\",\"y0\":16540,\"y1\":71670},{\"line\":{\"color\":\"grey\",\"dash\":\"dash\"},\"opacity\":0.3,\"type\":\"line\",\"x0\":\"2022-01-27T21:00:00\",\"x1\":\"2022-01-27T21:00:00\",\"y0\":16540,\"y1\":71670},{\"line\":{\"color\":\"grey\",\"dash\":\"dash\"},\"opacity\":0.3,\"type\":\"line\",\"x0\":\"2022-01-27T22:00:00\",\"x1\":\"2022-01-27T22:00:00\",\"y0\":16540,\"y1\":71670},{\"line\":{\"color\":\"grey\",\"dash\":\"dash\"},\"opacity\":0.3,\"type\":\"line\",\"x0\":\"2022-01-27T23:00:00\",\"x1\":\"2022-01-27T23:00:00\",\"y0\":16540,\"y1\":71670},{\"line\":{\"color\":\"grey\",\"dash\":\"dash\"},\"opacity\":0.3,\"type\":\"line\",\"x0\":\"2022-01-28T00:00:00\",\"x1\":\"2022-01-28T00:00:00\",\"y0\":16540,\"y1\":71670},{\"line\":{\"color\":\"grey\",\"dash\":\"dash\"},\"opacity\":0.3,\"type\":\"line\",\"x0\":\"2022-01-28T01:00:00\",\"x1\":\"2022-01-28T01:00:00\",\"y0\":16540,\"y1\":71670},{\"line\":{\"color\":\"grey\",\"dash\":\"dash\"},\"opacity\":0.3,\"type\":\"line\",\"x0\":\"2022-01-28T02:00:00\",\"x1\":\"2022-01-28T02:00:00\",\"y0\":16540,\"y1\":71670},{\"line\":{\"color\":\"grey\",\"dash\":\"dash\"},\"opacity\":0.3,\"type\":\"line\",\"x0\":\"2022-01-28T03:00:00\",\"x1\":\"2022-01-28T03:00:00\",\"y0\":16540,\"y1\":71670},{\"line\":{\"color\":\"grey\",\"dash\":\"dash\"},\"opacity\":0.3,\"type\":\"line\",\"x0\":\"2022-01-28T04:00:00\",\"x1\":\"2022-01-28T04:00:00\",\"y0\":16540,\"y1\":71670},{\"line\":{\"color\":\"grey\",\"dash\":\"dash\"},\"opacity\":0.3,\"type\":\"line\",\"x0\":\"2022-01-28T05:00:00\",\"x1\":\"2022-01-28T05:00:00\",\"y0\":16540,\"y1\":71670},{\"line\":{\"color\":\"grey\",\"dash\":\"dash\"},\"opacity\":0.3,\"type\":\"line\",\"x0\":\"2022-01-28T06:00:00\",\"x1\":\"2022-01-28T06:00:00\",\"y0\":16540,\"y1\":71670},{\"line\":{\"color\":\"grey\",\"dash\":\"dash\"},\"opacity\":0.3,\"type\":\"line\",\"x0\":\"2022-01-28T07:00:00\",\"x1\":\"2022-01-28T07:00:00\",\"y0\":16540,\"y1\":71670},{\"line\":{\"color\":\"grey\",\"dash\":\"dash\"},\"opacity\":0.3,\"type\":\"line\",\"x0\":\"2022-01-28T08:00:00\",\"x1\":\"2022-01-28T08:00:00\",\"y0\":16540,\"y1\":71670},{\"line\":{\"color\":\"grey\",\"dash\":\"dash\"},\"opacity\":0.3,\"type\":\"line\",\"x0\":\"2022-01-28T09:00:00\",\"x1\":\"2022-01-28T09:00:00\",\"y0\":16540,\"y1\":71670},{\"line\":{\"color\":\"grey\",\"dash\":\"dash\"},\"opacity\":0.3,\"type\":\"line\",\"x0\":\"2022-01-28T10:00:00\",\"x1\":\"2022-01-28T10:00:00\",\"y0\":16540,\"y1\":71670},{\"line\":{\"color\":\"grey\",\"dash\":\"dash\"},\"opacity\":0.3,\"type\":\"line\",\"x0\":\"2022-01-28T12:00:00\",\"x1\":\"2022-01-28T12:00:00\",\"y0\":16540,\"y1\":71670},{\"line\":{\"color\":\"grey\",\"dash\":\"dash\"},\"opacity\":0.3,\"type\":\"line\",\"x0\":\"2022-01-28T13:00:00\",\"x1\":\"2022-01-28T13:00:00\",\"y0\":16540,\"y1\":71670},{\"line\":{\"color\":\"grey\",\"dash\":\"dash\"},\"opacity\":0.3,\"type\":\"line\",\"x0\":\"2022-01-28T15:00:00\",\"x1\":\"2022-01-28T15:00:00\",\"y0\":16540,\"y1\":71670},{\"line\":{\"color\":\"grey\",\"dash\":\"dash\"},\"opacity\":0.3,\"type\":\"line\",\"x0\":\"2022-01-28T16:00:00\",\"x1\":\"2022-01-28T16:00:00\",\"y0\":16540,\"y1\":71670},{\"line\":{\"color\":\"grey\",\"dash\":\"dash\"},\"opacity\":0.3,\"type\":\"line\",\"x0\":\"2022-01-28T17:00:00\",\"x1\":\"2022-01-28T17:00:00\",\"y0\":16540,\"y1\":71670},{\"line\":{\"color\":\"grey\",\"dash\":\"dash\"},\"opacity\":0.3,\"type\":\"line\",\"x0\":\"2022-01-28T18:00:00\",\"x1\":\"2022-01-28T18:00:00\",\"y0\":16540,\"y1\":71670},{\"line\":{\"color\":\"grey\",\"dash\":\"dash\"},\"opacity\":0.3,\"type\":\"line\",\"x0\":\"2022-01-28T19:00:00\",\"x1\":\"2022-01-28T19:00:00\",\"y0\":16540,\"y1\":71670},{\"line\":{\"color\":\"grey\",\"dash\":\"dash\"},\"opacity\":0.3,\"type\":\"line\",\"x0\":\"2022-01-28T20:00:00\",\"x1\":\"2022-01-28T20:00:00\",\"y0\":16540,\"y1\":71670},{\"line\":{\"color\":\"grey\",\"dash\":\"dash\"},\"opacity\":0.3,\"type\":\"line\",\"x0\":\"2022-01-28T21:00:00\",\"x1\":\"2022-01-28T21:00:00\",\"y0\":16540,\"y1\":71670},{\"line\":{\"color\":\"grey\",\"dash\":\"dash\"},\"opacity\":0.3,\"type\":\"line\",\"x0\":\"2022-01-28T22:00:00\",\"x1\":\"2022-01-28T22:00:00\",\"y0\":16540,\"y1\":71670},{\"line\":{\"color\":\"grey\",\"dash\":\"dash\"},\"opacity\":0.3,\"type\":\"line\",\"x0\":\"2022-01-28T23:00:00\",\"x1\":\"2022-01-28T23:00:00\",\"y0\":16540,\"y1\":71670},{\"line\":{\"color\":\"grey\",\"dash\":\"dash\"},\"opacity\":0.3,\"type\":\"line\",\"x0\":\"2022-01-29T00:00:00\",\"x1\":\"2022-01-29T00:00:00\",\"y0\":16540,\"y1\":71670},{\"line\":{\"color\":\"grey\",\"dash\":\"dash\"},\"opacity\":0.3,\"type\":\"line\",\"x0\":\"2022-01-29T01:00:00\",\"x1\":\"2022-01-29T01:00:00\",\"y0\":16540,\"y1\":71670},{\"line\":{\"color\":\"grey\",\"dash\":\"dash\"},\"opacity\":0.3,\"type\":\"line\",\"x0\":\"2022-01-29T02:00:00\",\"x1\":\"2022-01-29T02:00:00\",\"y0\":16540,\"y1\":71670},{\"line\":{\"color\":\"grey\",\"dash\":\"dash\"},\"opacity\":0.3,\"type\":\"line\",\"x0\":\"2022-01-29T03:00:00\",\"x1\":\"2022-01-29T03:00:00\",\"y0\":16540,\"y1\":71670},{\"line\":{\"color\":\"grey\",\"dash\":\"dash\"},\"opacity\":0.3,\"type\":\"line\",\"x0\":\"2022-01-29T04:00:00\",\"x1\":\"2022-01-29T04:00:00\",\"y0\":16540,\"y1\":71670},{\"line\":{\"color\":\"grey\",\"dash\":\"dash\"},\"opacity\":0.3,\"type\":\"line\",\"x0\":\"2022-01-29T05:00:00\",\"x1\":\"2022-01-29T05:00:00\",\"y0\":16540,\"y1\":71670},{\"line\":{\"color\":\"grey\",\"dash\":\"dash\"},\"opacity\":0.3,\"type\":\"line\",\"x0\":\"2022-01-29T06:00:00\",\"x1\":\"2022-01-29T06:00:00\",\"y0\":16540,\"y1\":71670},{\"line\":{\"color\":\"grey\",\"dash\":\"dash\"},\"opacity\":0.3,\"type\":\"line\",\"x0\":\"2022-01-29T07:00:00\",\"x1\":\"2022-01-29T07:00:00\",\"y0\":16540,\"y1\":71670},{\"line\":{\"color\":\"grey\",\"dash\":\"dash\"},\"opacity\":0.3,\"type\":\"line\",\"x0\":\"2022-01-29T08:00:00\",\"x1\":\"2022-01-29T08:00:00\",\"y0\":16540,\"y1\":71670},{\"line\":{\"color\":\"grey\",\"dash\":\"dash\"},\"opacity\":0.3,\"type\":\"line\",\"x0\":\"2022-01-29T09:00:00\",\"x1\":\"2022-01-29T09:00:00\",\"y0\":16540,\"y1\":71670},{\"line\":{\"color\":\"grey\",\"dash\":\"dash\"},\"opacity\":0.3,\"type\":\"line\",\"x0\":\"2022-01-29T10:00:00\",\"x1\":\"2022-01-29T10:00:00\",\"y0\":16540,\"y1\":71670},{\"line\":{\"color\":\"grey\",\"dash\":\"dash\"},\"opacity\":0.3,\"type\":\"line\",\"x0\":\"2022-01-29T11:00:00\",\"x1\":\"2022-01-29T11:00:00\",\"y0\":16540,\"y1\":71670},{\"line\":{\"color\":\"grey\",\"dash\":\"dash\"},\"opacity\":0.3,\"type\":\"line\",\"x0\":\"2022-01-29T12:00:00\",\"x1\":\"2022-01-29T12:00:00\",\"y0\":16540,\"y1\":71670},{\"line\":{\"color\":\"grey\",\"dash\":\"dash\"},\"opacity\":0.3,\"type\":\"line\",\"x0\":\"2022-01-29T13:00:00\",\"x1\":\"2022-01-29T13:00:00\",\"y0\":16540,\"y1\":71670},{\"line\":{\"color\":\"grey\",\"dash\":\"dash\"},\"opacity\":0.3,\"type\":\"line\",\"x0\":\"2022-01-29T14:00:00\",\"x1\":\"2022-01-29T14:00:00\",\"y0\":16540,\"y1\":71670},{\"line\":{\"color\":\"grey\",\"dash\":\"dash\"},\"opacity\":0.3,\"type\":\"line\",\"x0\":\"2022-01-29T15:00:00\",\"x1\":\"2022-01-29T15:00:00\",\"y0\":16540,\"y1\":71670},{\"line\":{\"color\":\"grey\",\"dash\":\"dash\"},\"opacity\":0.3,\"type\":\"line\",\"x0\":\"2022-01-29T16:00:00\",\"x1\":\"2022-01-29T16:00:00\",\"y0\":16540,\"y1\":71670},{\"line\":{\"color\":\"grey\",\"dash\":\"dash\"},\"opacity\":0.3,\"type\":\"line\",\"x0\":\"2022-01-29T17:00:00\",\"x1\":\"2022-01-29T17:00:00\",\"y0\":16540,\"y1\":71670},{\"line\":{\"color\":\"grey\",\"dash\":\"dash\"},\"opacity\":0.3,\"type\":\"line\",\"x0\":\"2022-01-29T18:00:00\",\"x1\":\"2022-01-29T18:00:00\",\"y0\":16540,\"y1\":71670},{\"line\":{\"color\":\"grey\",\"dash\":\"dash\"},\"opacity\":0.3,\"type\":\"line\",\"x0\":\"2022-01-29T19:00:00\",\"x1\":\"2022-01-29T19:00:00\",\"y0\":16540,\"y1\":71670},{\"line\":{\"color\":\"grey\",\"dash\":\"dash\"},\"opacity\":0.3,\"type\":\"line\",\"x0\":\"2022-01-29T20:00:00\",\"x1\":\"2022-01-29T20:00:00\",\"y0\":16540,\"y1\":71670},{\"line\":{\"color\":\"grey\",\"dash\":\"dash\"},\"opacity\":0.3,\"type\":\"line\",\"x0\":\"2022-01-29T21:00:00\",\"x1\":\"2022-01-29T21:00:00\",\"y0\":16540,\"y1\":71670},{\"line\":{\"color\":\"grey\",\"dash\":\"dash\"},\"opacity\":0.3,\"type\":\"line\",\"x0\":\"2022-01-29T22:00:00\",\"x1\":\"2022-01-29T22:00:00\",\"y0\":16540,\"y1\":71670},{\"line\":{\"color\":\"grey\",\"dash\":\"dash\"},\"opacity\":0.3,\"type\":\"line\",\"x0\":\"2022-01-29T23:00:00\",\"x1\":\"2022-01-29T23:00:00\",\"y0\":16540,\"y1\":71670},{\"line\":{\"color\":\"grey\",\"dash\":\"dash\"},\"opacity\":0.3,\"type\":\"line\",\"x0\":\"2022-01-30T00:00:00\",\"x1\":\"2022-01-30T00:00:00\",\"y0\":16540,\"y1\":71670},{\"line\":{\"color\":\"grey\",\"dash\":\"dash\"},\"opacity\":0.3,\"type\":\"line\",\"x0\":\"2022-01-30T01:00:00\",\"x1\":\"2022-01-30T01:00:00\",\"y0\":16540,\"y1\":71670},{\"line\":{\"color\":\"grey\",\"dash\":\"dash\"},\"opacity\":0.3,\"type\":\"line\",\"x0\":\"2022-01-30T02:00:00\",\"x1\":\"2022-01-30T02:00:00\",\"y0\":16540,\"y1\":71670},{\"line\":{\"color\":\"grey\",\"dash\":\"dash\"},\"opacity\":0.3,\"type\":\"line\",\"x0\":\"2022-01-30T03:00:00\",\"x1\":\"2022-01-30T03:00:00\",\"y0\":16540,\"y1\":71670},{\"line\":{\"color\":\"grey\",\"dash\":\"dash\"},\"opacity\":0.3,\"type\":\"line\",\"x0\":\"2022-01-30T04:00:00\",\"x1\":\"2022-01-30T04:00:00\",\"y0\":16540,\"y1\":71670},{\"line\":{\"color\":\"grey\",\"dash\":\"dash\"},\"opacity\":0.3,\"type\":\"line\",\"x0\":\"2022-01-30T05:00:00\",\"x1\":\"2022-01-30T05:00:00\",\"y0\":16540,\"y1\":71670},{\"line\":{\"color\":\"grey\",\"dash\":\"dash\"},\"opacity\":0.3,\"type\":\"line\",\"x0\":\"2022-01-30T06:00:00\",\"x1\":\"2022-01-30T06:00:00\",\"y0\":16540,\"y1\":71670},{\"line\":{\"color\":\"grey\",\"dash\":\"dash\"},\"opacity\":0.3,\"type\":\"line\",\"x0\":\"2022-01-30T07:00:00\",\"x1\":\"2022-01-30T07:00:00\",\"y0\":16540,\"y1\":71670},{\"line\":{\"color\":\"grey\",\"dash\":\"dash\"},\"opacity\":0.3,\"type\":\"line\",\"x0\":\"2022-01-30T08:00:00\",\"x1\":\"2022-01-30T08:00:00\",\"y0\":16540,\"y1\":71670},{\"line\":{\"color\":\"grey\",\"dash\":\"dash\"},\"opacity\":0.3,\"type\":\"line\",\"x0\":\"2022-01-30T09:00:00\",\"x1\":\"2022-01-30T09:00:00\",\"y0\":16540,\"y1\":71670},{\"line\":{\"color\":\"grey\",\"dash\":\"dash\"},\"opacity\":0.3,\"type\":\"line\",\"x0\":\"2022-01-30T10:00:00\",\"x1\":\"2022-01-30T10:00:00\",\"y0\":16540,\"y1\":71670},{\"line\":{\"color\":\"grey\",\"dash\":\"dash\"},\"opacity\":0.3,\"type\":\"line\",\"x0\":\"2022-01-30T11:00:00\",\"x1\":\"2022-01-30T11:00:00\",\"y0\":16540,\"y1\":71670},{\"line\":{\"color\":\"grey\",\"dash\":\"dash\"},\"opacity\":0.3,\"type\":\"line\",\"x0\":\"2022-01-30T12:00:00\",\"x1\":\"2022-01-30T12:00:00\",\"y0\":16540,\"y1\":71670},{\"line\":{\"color\":\"grey\",\"dash\":\"dash\"},\"opacity\":0.3,\"type\":\"line\",\"x0\":\"2022-01-30T13:00:00\",\"x1\":\"2022-01-30T13:00:00\",\"y0\":16540,\"y1\":71670},{\"line\":{\"color\":\"grey\",\"dash\":\"dash\"},\"opacity\":0.3,\"type\":\"line\",\"x0\":\"2022-01-30T14:00:00\",\"x1\":\"2022-01-30T14:00:00\",\"y0\":16540,\"y1\":71670},{\"line\":{\"color\":\"grey\",\"dash\":\"dash\"},\"opacity\":0.3,\"type\":\"line\",\"x0\":\"2022-01-30T15:00:00\",\"x1\":\"2022-01-30T15:00:00\",\"y0\":16540,\"y1\":71670},{\"line\":{\"color\":\"grey\",\"dash\":\"dash\"},\"opacity\":0.3,\"type\":\"line\",\"x0\":\"2022-01-30T16:00:00\",\"x1\":\"2022-01-30T16:00:00\",\"y0\":16540,\"y1\":71670},{\"line\":{\"color\":\"grey\",\"dash\":\"dash\"},\"opacity\":0.3,\"type\":\"line\",\"x0\":\"2022-01-30T17:00:00\",\"x1\":\"2022-01-30T17:00:00\",\"y0\":16540,\"y1\":71670},{\"line\":{\"color\":\"grey\",\"dash\":\"dash\"},\"opacity\":0.3,\"type\":\"line\",\"x0\":\"2022-01-30T18:00:00\",\"x1\":\"2022-01-30T18:00:00\",\"y0\":16540,\"y1\":71670},{\"line\":{\"color\":\"grey\",\"dash\":\"dash\"},\"opacity\":0.3,\"type\":\"line\",\"x0\":\"2022-01-30T19:00:00\",\"x1\":\"2022-01-30T19:00:00\",\"y0\":16540,\"y1\":71670},{\"line\":{\"color\":\"grey\",\"dash\":\"dash\"},\"opacity\":0.3,\"type\":\"line\",\"x0\":\"2022-01-30T20:00:00\",\"x1\":\"2022-01-30T20:00:00\",\"y0\":16540,\"y1\":71670},{\"line\":{\"color\":\"grey\",\"dash\":\"dash\"},\"opacity\":0.3,\"type\":\"line\",\"x0\":\"2022-01-30T21:00:00\",\"x1\":\"2022-01-30T21:00:00\",\"y0\":16540,\"y1\":71670},{\"line\":{\"color\":\"grey\",\"dash\":\"dash\"},\"opacity\":0.3,\"type\":\"line\",\"x0\":\"2022-01-30T22:00:00\",\"x1\":\"2022-01-30T22:00:00\",\"y0\":16540,\"y1\":71670},{\"line\":{\"color\":\"grey\",\"dash\":\"dash\"},\"opacity\":0.3,\"type\":\"line\",\"x0\":\"2022-01-30T23:00:00\",\"x1\":\"2022-01-30T23:00:00\",\"y0\":16540,\"y1\":71670},{\"line\":{\"color\":\"grey\",\"dash\":\"dash\"},\"opacity\":0.3,\"type\":\"line\",\"x0\":\"2022-01-31T00:00:00\",\"x1\":\"2022-01-31T00:00:00\",\"y0\":16540,\"y1\":71670},{\"line\":{\"color\":\"grey\",\"dash\":\"dash\"},\"opacity\":0.3,\"type\":\"line\",\"x0\":\"2022-01-31T01:00:00\",\"x1\":\"2022-01-31T01:00:00\",\"y0\":16540,\"y1\":71670},{\"line\":{\"color\":\"grey\",\"dash\":\"dash\"},\"opacity\":0.3,\"type\":\"line\",\"x0\":\"2022-01-31T02:00:00\",\"x1\":\"2022-01-31T02:00:00\",\"y0\":16540,\"y1\":71670},{\"line\":{\"color\":\"grey\",\"dash\":\"dash\"},\"opacity\":0.3,\"type\":\"line\",\"x0\":\"2022-01-31T03:00:00\",\"x1\":\"2022-01-31T03:00:00\",\"y0\":16540,\"y1\":71670},{\"line\":{\"color\":\"grey\",\"dash\":\"dash\"},\"opacity\":0.3,\"type\":\"line\",\"x0\":\"2022-01-31T04:00:00\",\"x1\":\"2022-01-31T04:00:00\",\"y0\":16540,\"y1\":71670},{\"line\":{\"color\":\"grey\",\"dash\":\"dash\"},\"opacity\":0.3,\"type\":\"line\",\"x0\":\"2022-01-31T05:00:00\",\"x1\":\"2022-01-31T05:00:00\",\"y0\":16540,\"y1\":71670},{\"line\":{\"color\":\"grey\",\"dash\":\"dash\"},\"opacity\":0.3,\"type\":\"line\",\"x0\":\"2022-01-31T06:00:00\",\"x1\":\"2022-01-31T06:00:00\",\"y0\":16540,\"y1\":71670},{\"line\":{\"color\":\"grey\",\"dash\":\"dash\"},\"opacity\":0.3,\"type\":\"line\",\"x0\":\"2022-01-31T07:00:00\",\"x1\":\"2022-01-31T07:00:00\",\"y0\":16540,\"y1\":71670},{\"line\":{\"color\":\"grey\",\"dash\":\"dash\"},\"opacity\":0.3,\"type\":\"line\",\"x0\":\"2022-01-31T08:00:00\",\"x1\":\"2022-01-31T08:00:00\",\"y0\":16540,\"y1\":71670},{\"line\":{\"color\":\"grey\",\"dash\":\"dash\"},\"opacity\":0.3,\"type\":\"line\",\"x0\":\"2022-01-31T09:00:00\",\"x1\":\"2022-01-31T09:00:00\",\"y0\":16540,\"y1\":71670},{\"line\":{\"color\":\"grey\",\"dash\":\"dash\"},\"opacity\":0.3,\"type\":\"line\",\"x0\":\"2022-01-31T10:00:00\",\"x1\":\"2022-01-31T10:00:00\",\"y0\":16540,\"y1\":71670},{\"line\":{\"color\":\"grey\",\"dash\":\"dash\"},\"opacity\":0.3,\"type\":\"line\",\"x0\":\"2022-01-31T11:00:00\",\"x1\":\"2022-01-31T11:00:00\",\"y0\":16540,\"y1\":71670},{\"line\":{\"color\":\"grey\",\"dash\":\"dash\"},\"opacity\":0.3,\"type\":\"line\",\"x0\":\"2022-01-31T12:00:00\",\"x1\":\"2022-01-31T12:00:00\",\"y0\":16540,\"y1\":71670},{\"line\":{\"color\":\"grey\",\"dash\":\"dash\"},\"opacity\":0.3,\"type\":\"line\",\"x0\":\"2022-01-31T13:00:00\",\"x1\":\"2022-01-31T13:00:00\",\"y0\":16540,\"y1\":71670},{\"line\":{\"color\":\"grey\",\"dash\":\"dash\"},\"opacity\":0.3,\"type\":\"line\",\"x0\":\"2022-01-31T14:00:00\",\"x1\":\"2022-01-31T14:00:00\",\"y0\":16540,\"y1\":71670},{\"line\":{\"color\":\"grey\",\"dash\":\"dash\"},\"opacity\":0.3,\"type\":\"line\",\"x0\":\"2022-01-31T15:00:00\",\"x1\":\"2022-01-31T15:00:00\",\"y0\":16540,\"y1\":71670},{\"line\":{\"color\":\"grey\",\"dash\":\"dash\"},\"opacity\":0.3,\"type\":\"line\",\"x0\":\"2022-01-31T16:00:00\",\"x1\":\"2022-01-31T16:00:00\",\"y0\":16540,\"y1\":71670},{\"line\":{\"color\":\"grey\",\"dash\":\"dash\"},\"opacity\":0.3,\"type\":\"line\",\"x0\":\"2022-01-31T17:00:00\",\"x1\":\"2022-01-31T17:00:00\",\"y0\":16540,\"y1\":71670},{\"line\":{\"color\":\"grey\",\"dash\":\"dash\"},\"opacity\":0.3,\"type\":\"line\",\"x0\":\"2022-01-31T18:00:00\",\"x1\":\"2022-01-31T18:00:00\",\"y0\":16540,\"y1\":71670},{\"line\":{\"color\":\"grey\",\"dash\":\"dash\"},\"opacity\":0.3,\"type\":\"line\",\"x0\":\"2022-01-31T19:00:00\",\"x1\":\"2022-01-31T19:00:00\",\"y0\":16540,\"y1\":71670},{\"line\":{\"color\":\"grey\",\"dash\":\"dash\"},\"opacity\":0.3,\"type\":\"line\",\"x0\":\"2022-01-31T20:00:00\",\"x1\":\"2022-01-31T20:00:00\",\"y0\":16540,\"y1\":71670},{\"line\":{\"color\":\"grey\",\"dash\":\"dash\"},\"opacity\":0.3,\"type\":\"line\",\"x0\":\"2022-01-31T21:00:00\",\"x1\":\"2022-01-31T21:00:00\",\"y0\":16540,\"y1\":71670},{\"line\":{\"color\":\"grey\",\"dash\":\"dash\"},\"opacity\":0.3,\"type\":\"line\",\"x0\":\"2022-01-31T22:00:00\",\"x1\":\"2022-01-31T22:00:00\",\"y0\":16540,\"y1\":71670},{\"line\":{\"color\":\"grey\",\"dash\":\"dash\"},\"opacity\":0.3,\"type\":\"line\",\"x0\":\"2022-01-31T23:00:00\",\"x1\":\"2022-01-31T23:00:00\",\"y0\":16540,\"y1\":71670},{\"fillcolor\":\"red\",\"opacity\":0.5,\"type\":\"rect\",\"x0\":\"2022-01-02T20:00:00\",\"x1\":\"2022-01-02T18:00:00\",\"y0\":16540,\"y1\":71670}]},                        {\"responsive\": true}                    ).then(function(){\n                            \nvar gd = document.getElementById('e7c86ae8-95a6-4b9c-ac3f-6bf7c97b54ec');\nvar x = new MutationObserver(function (mutations, observer) {{\n        var display = window.getComputedStyle(gd).display;\n        if (!display || display === 'none') {{\n            console.log([gd, 'removed!']);\n            Plotly.purge(gd);\n            observer.disconnect();\n        }}\n}});\n\n// Listen for the removal of the full notebook cells\nvar notebookContainer = gd.closest('#notebook-container');\nif (notebookContainer) {{\n    x.observe(notebookContainer, {childList: true});\n}}\n\n// Listen for the clearing of the current output cell\nvar outputEl = gd.closest('.output');\nif (outputEl) {{\n    x.observe(outputEl, {childList: true});\n}}\n\n                        })                };                });            </script>        </div>"
     },
     "metadata": {},
     "output_type": "display_data"
    }
   ],
   "source": [
    "amt=run_simulator(timestep=11, data=data, amt=100, thresh=0.51, model=lstm_model, verbose=0, plot=True)"
   ],
   "metadata": {
    "collapsed": false,
    "pycharm": {
     "name": "#%%\n"
    }
   }
  },
  {
   "cell_type": "code",
   "execution_count": 384,
   "outputs": [],
   "source": [],
   "metadata": {
    "collapsed": false,
    "pycharm": {
     "name": "#%%\n"
    }
   }
  }
 ],
 "metadata": {
  "kernelspec": {
   "display_name": "Python 3",
   "language": "python",
   "name": "python3"
  },
  "language_info": {
   "codemirror_mode": {
    "name": "ipython",
    "version": 2
   },
   "file_extension": ".py",
   "mimetype": "text/x-python",
   "name": "python",
   "nbconvert_exporter": "python",
   "pygments_lexer": "ipython2",
   "version": "2.7.6"
  }
 },
 "nbformat": 4,
 "nbformat_minor": 0
}